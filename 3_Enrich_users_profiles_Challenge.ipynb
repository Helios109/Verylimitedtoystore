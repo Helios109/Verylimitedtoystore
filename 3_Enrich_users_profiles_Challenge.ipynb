{
  "cells": [
    {
      "cell_type": "markdown",
      "metadata": {
        "id": "view-in-github",
        "colab_type": "text"
      },
      "source": [
        "<a href=\"https://colab.research.google.com/github/Helios109/Verylimitedtoystore/blob/main/3_Enrich_users_profiles_Challenge.ipynb\" target=\"_parent\"><img src=\"https://colab.research.google.com/assets/colab-badge.svg\" alt=\"Open In Colab\"/></a>"
      ]
    },
    {
      "cell_type": "markdown",
      "metadata": {
        "id": "fhlLb9BKgfgp"
      },
      "source": [
        " ![Emil](data:image/png;base64,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)"
      ]
    },
    {
      "cell_type": "markdown",
      "metadata": {
        "id": "b8BkIRvbgfgq"
      },
      "source": [
        "# Enrich users profiles"
      ]
    },
    {
      "cell_type": "markdown",
      "metadata": {
        "id": "44th4qLfawR0"
      },
      "source": [
        "In this challenge, you will explore a dataset of companies and extract companies information from it!\n"
      ]
    },
    {
      "cell_type": "markdown",
      "metadata": {
        "id": "bLxKposAawR2"
      },
      "source": [
        "## General data exploration\n",
        "\n",
        "\n"
      ]
    },
    {
      "cell_type": "markdown",
      "metadata": {
        "id": "EtDz6lJigfig"
      },
      "source": [
        "Import the [`microsoft_companies.json`](https://drive.google.com/file/d/1Zrja9KY-05u8XsGfK-P97zGa-NyipS49/view?usp=sharing) file into Colab.\n",
        "\n",
        "Run the code below to get the results in the `microsoft_companies` variable. We will study on Day 3 how to load data in Python."
      ]
    },
    {
      "cell_type": "code",
      "execution_count": 2,
      "metadata": {
        "id": "dphPiTGhgfih"
      },
      "outputs": [],
      "source": [
        "import json\n",
        "with open('/content/microsoft_companies.json') as json_file:\n",
        "    microsoft_companies = json.load(json_file)"
      ]
    },
    {
      "cell_type": "markdown",
      "metadata": {
        "id": "b2YGCtehgfij"
      },
      "source": [
        "What is the type of the `microsoft_companies` variable?\n",
        "\n"
      ]
    },
    {
      "cell_type": "code",
      "execution_count": 8,
      "metadata": {
        "ExecuteTime": {
          "end_time": "2024-02-13T17:14:30.628030Z",
          "start_time": "2024-02-13T17:14:30.608615Z"
        },
        "id": "kUrUC6dZgfik",
        "colab": {
          "base_uri": "https://localhost:8080/"
        },
        "outputId": "5da63e8b-8134-405d-af9f-d73b9c88d9fa"
      },
      "outputs": [
        {
          "output_type": "execute_result",
          "data": {
            "text/plain": [
              "list"
            ]
          },
          "metadata": {},
          "execution_count": 8
        }
      ],
      "source": [
        "type (microsoft_companies)"
      ]
    },
    {
      "cell_type": "markdown",
      "metadata": {
        "id": "m1Pr0zNcgfil"
      },
      "source": [
        "How many companies are in this list?"
      ]
    },
    {
      "cell_type": "code",
      "execution_count": 11,
      "metadata": {
        "ExecuteTime": {
          "end_time": "2024-02-13T17:15:18.505143Z",
          "start_time": "2024-02-13T17:15:18.480746Z"
        },
        "id": "DmuqK9XVgfim",
        "colab": {
          "base_uri": "https://localhost:8080/"
        },
        "outputId": "2eb9ba5e-0fa0-4593-92ed-444157473588"
      },
      "outputs": [
        {
          "output_type": "execute_result",
          "data": {
            "text/plain": [
              "('Number of companies in the list:', 301)"
            ]
          },
          "metadata": {},
          "execution_count": 11
        }
      ],
      "source": [
        "num_companies = len(microsoft_companies)\n",
        "(\"Number of companies in the list:\", num_companies)"
      ]
    },
    {
      "cell_type": "markdown",
      "metadata": {
        "id": "QhNyp2zxawSC"
      },
      "source": [
        "## Specific data exploration\n"
      ]
    },
    {
      "cell_type": "markdown",
      "metadata": {
        "id": "Ar3vnEkygfin"
      },
      "source": [
        "Look at the first item on this list. What type is it?\n"
      ]
    },
    {
      "cell_type": "code",
      "execution_count": 13,
      "metadata": {
        "ExecuteTime": {
          "end_time": "2024-02-13T17:23:21.616512Z",
          "start_time": "2024-02-13T17:23:21.608099Z"
        },
        "id": "79SP7qe4gfin"
      },
      "outputs": [],
      "source": [
        "first_item = microsoft_companies[0]"
      ]
    },
    {
      "cell_type": "code",
      "execution_count": 25,
      "metadata": {
        "ExecuteTime": {
          "end_time": "2024-02-13T17:23:19.897965Z",
          "start_time": "2024-02-13T17:23:19.889758Z"
        },
        "colab": {
          "base_uri": "https://localhost:8080/"
        },
        "id": "vAaXMptHawSI",
        "outputId": "d5c9e467-a810-48ed-e404-7a6f6b6a2c44"
      },
      "outputs": [
        {
          "output_type": "execute_result",
          "data": {
            "text/plain": [
              "('Type of the first item:', type)"
            ]
          },
          "metadata": {},
          "execution_count": 25
        }
      ],
      "source": [
        "type_first_item = type(first_item)\n",
        "(\"Type of the first item:\", type_first_item)"
      ]
    },
    {
      "cell_type": "markdown",
      "metadata": {
        "id": "3J2GJQBzgfip"
      },
      "source": [
        "For this first item, display the company name, industry, domain and total number of employees."
      ]
    },
    {
      "cell_type": "code",
      "execution_count": 35,
      "metadata": {
        "ExecuteTime": {
          "end_time": "2024-02-13T17:25:24.599253Z",
          "start_time": "2024-02-13T17:25:24.594170Z"
        },
        "id": "OwKpRvL5gfiq",
        "colab": {
          "base_uri": "https://localhost:8080/"
        },
        "outputId": "81a51b1b-6a79-44d8-c0a3-f3686c1c6c97"
      },
      "outputs": [
        {
          "output_type": "stream",
          "name": "stdout",
          "text": [
            "microsoft\n",
            "computer games\n",
            "https://www.develop-online.net\n",
            "44\n"
          ]
        }
      ],
      "source": [
        "print(microsoft_companies[0]['fields']['name'])\n",
        "print(microsoft_companies[0]['fields']['industry'])\n",
        "print(microsoft_companies[0]['fields']['domain0'])\n",
        "print(microsoft_companies[0]['fields']['total_employee_estimate'])"
      ]
    },
    {
      "cell_type": "markdown",
      "metadata": {
        "id": "qz7QgDnbgfir"
      },
      "source": [
        "Do you think that this company named \"microsoft\" is the giant American company?"
      ]
    },
    {
      "cell_type": "markdown",
      "metadata": {
        "id": "A147FztKawSL"
      },
      "source": [
        "> **False**\n"
      ]
    },
    {
      "cell_type": "markdown",
      "metadata": {
        "id": "hPQFh5_rgfis"
      },
      "source": [
        "Obviously not ! It seems there are homonyms in our list.\n",
        "\n",
        "Create a new empty list and add all the companies whose names are exactly \"microsoft\".\n",
        "\n",
        "To do this, you will need to loop through all the companies and use a condition to check that their names are indeed \"microsoft\". If this is the case, the company information will be added to the empty list.\n",
        "\n",
        "How many are there?"
      ]
    },
    {
      "cell_type": "code",
      "execution_count": 51,
      "metadata": {
        "ExecuteTime": {
          "end_time": "2024-02-13T17:27:50.560227Z",
          "start_time": "2024-02-13T17:27:50.549510Z"
        },
        "id": "aPt7PEYugfit",
        "colab": {
          "base_uri": "https://localhost:8080/"
        },
        "outputId": "900cbb12-9533-4b18-dcfc-7e727cd449e8"
      },
      "outputs": [
        {
          "output_type": "stream",
          "name": "stdout",
          "text": [
            "Number of companies with name 'Microsoft': 1\n",
            "Number of companies with name 'Microsoft': 2\n",
            "Number of companies with name 'Microsoft': 3\n",
            "Number of companies with name 'Microsoft': 4\n",
            "Number of companies with name 'Microsoft': 5\n",
            "Number of companies with name 'Microsoft': 6\n"
          ]
        }
      ],
      "source": [
        "exact_microsoft_companies = []\n",
        "\n",
        "microsoft_list = []\n",
        "\n",
        "for record in microsoft_companies:\n",
        "  if record['fields']['name'].lower() == \"microsoft\":\n",
        "    microsoft_list.append(record)\n",
        "    num_microsoft_companies = len(microsoft_list)\n",
        "    print(\"Number of companies with name 'Microsoft':\", num_microsoft_companies)"
      ]
    },
    {
      "cell_type": "markdown",
      "metadata": {
        "id": "V6lW98xtgfiw"
      },
      "source": [
        "Among the results obtained, do you see the giant American company?\n",
        "\n",
        "You can run the code below and then use the `pprint` function to indent the results. It works like the `print` function with improved readability."
      ]
    },
    {
      "cell_type": "code",
      "execution_count": 55,
      "metadata": {
        "ExecuteTime": {
          "end_time": "2024-02-13T17:28:11.320206Z",
          "start_time": "2024-02-13T17:28:11.309457Z"
        },
        "id": "GD1Ysk9yeY7T",
        "colab": {
          "base_uri": "https://localhost:8080/"
        },
        "outputId": "e5b5d890-c85d-4fec-9f09-904cecaee579"
      },
      "outputs": [
        {
          "output_type": "stream",
          "name": "stdout",
          "text": [
            "Number of companies with name 'Microsoft': 1\n",
            "[{'datasetid': 'companies-on-linkedin',\n",
            "  'fields': {'current_employee_estimate': 6,\n",
            "             'domain0': 'https://www.develop-online.net',\n",
            "             'industry': 'computer games',\n",
            "             'linkedin_url': 'https://www.linkedin.com/company/develop-magazine',\n",
            "             'name': 'microsoft',\n",
            "             'size_range': '11 - 50',\n",
            "             'total_employee_estimate': 44},\n",
            "  'record_timestamp': '2019-06-03T09:35:00+02:00',\n",
            "  'recordid': 'c4d310fc0f0f277e574e20f5e2185d4765a1ab3f'}]\n",
            "Number of companies with name 'Microsoft': 1\n",
            "Number of companies with name 'Microsoft': 2\n",
            "[{'datasetid': 'companies-on-linkedin',\n",
            "  'fields': {'current_employee_estimate': 6,\n",
            "             'domain0': 'https://www.develop-online.net',\n",
            "             'industry': 'computer games',\n",
            "             'linkedin_url': 'https://www.linkedin.com/company/develop-magazine',\n",
            "             'name': 'microsoft',\n",
            "             'size_range': '11 - 50',\n",
            "             'total_employee_estimate': 44},\n",
            "  'record_timestamp': '2019-06-03T09:35:00+02:00',\n",
            "  'recordid': 'c4d310fc0f0f277e574e20f5e2185d4765a1ab3f'},\n",
            " {'datasetid': 'companies-on-linkedin',\n",
            "  'fields': {'country': 'united states',\n",
            "             'current_employee_estimate': 116196,\n",
            "             'domain0': 'https://www.microsoft.com',\n",
            "             'industry': 'computer software',\n",
            "             'linkedin_url': 'https://www.linkedin.com/company/microsoft',\n",
            "             'locality': 'redmond,washington,united states',\n",
            "             'name': 'microsoft',\n",
            "             'size_range': '10001+',\n",
            "             'total_employee_estimate': 276983,\n",
            "             'year_founded': '1975'},\n",
            "  'record_timestamp': '2019-06-03T09:35:00+02:00',\n",
            "  'recordid': 'd8611a51def434f1049b899a99d8a589fbb7b9c1'}]\n",
            "Number of companies with name 'Microsoft': 2\n",
            "Number of companies with name 'Microsoft': 3\n",
            "[{'datasetid': 'companies-on-linkedin',\n",
            "  'fields': {'current_employee_estimate': 6,\n",
            "             'domain0': 'https://www.develop-online.net',\n",
            "             'industry': 'computer games',\n",
            "             'linkedin_url': 'https://www.linkedin.com/company/develop-magazine',\n",
            "             'name': 'microsoft',\n",
            "             'size_range': '11 - 50',\n",
            "             'total_employee_estimate': 44},\n",
            "  'record_timestamp': '2019-06-03T09:35:00+02:00',\n",
            "  'recordid': 'c4d310fc0f0f277e574e20f5e2185d4765a1ab3f'},\n",
            " {'datasetid': 'companies-on-linkedin',\n",
            "  'fields': {'country': 'united states',\n",
            "             'current_employee_estimate': 116196,\n",
            "             'domain0': 'https://www.microsoft.com',\n",
            "             'industry': 'computer software',\n",
            "             'linkedin_url': 'https://www.linkedin.com/company/microsoft',\n",
            "             'locality': 'redmond,washington,united states',\n",
            "             'name': 'microsoft',\n",
            "             'size_range': '10001+',\n",
            "             'total_employee_estimate': 276983,\n",
            "             'year_founded': '1975'},\n",
            "  'record_timestamp': '2019-06-03T09:35:00+02:00',\n",
            "  'recordid': 'd8611a51def434f1049b899a99d8a589fbb7b9c1'},\n",
            " {'datasetid': 'companies-on-linkedin',\n",
            "  'fields': {'current_employee_estimate': 1,\n",
            "             'domain0': 'https://www.',\n",
            "             'industry': 'computer software',\n",
            "             'linkedin_url': 'https://www.linkedin.com/company/microsoft-cyprus',\n",
            "             'name': 'microsoft',\n",
            "             'size_range': '1 - 10',\n",
            "             'total_employee_estimate': 5,\n",
            "             'year_founded': '1975'},\n",
            "  'record_timestamp': '2019-06-03T09:35:00+02:00',\n",
            "  'recordid': 'a5140838fb9ffcda43fa4b8f35cd13ed2abe67f7'}]\n",
            "Number of companies with name 'Microsoft': 3\n",
            "Number of companies with name 'Microsoft': 4\n",
            "[{'datasetid': 'companies-on-linkedin',\n",
            "  'fields': {'current_employee_estimate': 6,\n",
            "             'domain0': 'https://www.develop-online.net',\n",
            "             'industry': 'computer games',\n",
            "             'linkedin_url': 'https://www.linkedin.com/company/develop-magazine',\n",
            "             'name': 'microsoft',\n",
            "             'size_range': '11 - 50',\n",
            "             'total_employee_estimate': 44},\n",
            "  'record_timestamp': '2019-06-03T09:35:00+02:00',\n",
            "  'recordid': 'c4d310fc0f0f277e574e20f5e2185d4765a1ab3f'},\n",
            " {'datasetid': 'companies-on-linkedin',\n",
            "  'fields': {'country': 'united states',\n",
            "             'current_employee_estimate': 116196,\n",
            "             'domain0': 'https://www.microsoft.com',\n",
            "             'industry': 'computer software',\n",
            "             'linkedin_url': 'https://www.linkedin.com/company/microsoft',\n",
            "             'locality': 'redmond,washington,united states',\n",
            "             'name': 'microsoft',\n",
            "             'size_range': '10001+',\n",
            "             'total_employee_estimate': 276983,\n",
            "             'year_founded': '1975'},\n",
            "  'record_timestamp': '2019-06-03T09:35:00+02:00',\n",
            "  'recordid': 'd8611a51def434f1049b899a99d8a589fbb7b9c1'},\n",
            " {'datasetid': 'companies-on-linkedin',\n",
            "  'fields': {'current_employee_estimate': 1,\n",
            "             'domain0': 'https://www.',\n",
            "             'industry': 'computer software',\n",
            "             'linkedin_url': 'https://www.linkedin.com/company/microsoft-cyprus',\n",
            "             'name': 'microsoft',\n",
            "             'size_range': '1 - 10',\n",
            "             'total_employee_estimate': 5,\n",
            "             'year_founded': '1975'},\n",
            "  'record_timestamp': '2019-06-03T09:35:00+02:00',\n",
            "  'recordid': 'a5140838fb9ffcda43fa4b8f35cd13ed2abe67f7'},\n",
            " {'datasetid': 'companies-on-linkedin',\n",
            "  'fields': {'current_employee_estimate': 6,\n",
            "             'domain0': 'https://www.',\n",
            "             'industry': 'computer software',\n",
            "             'linkedin_url': 'https://www.linkedin.com/company/microsoft-2',\n",
            "             'name': 'microsoft',\n",
            "             'size_range': '11 - 50',\n",
            "             'total_employee_estimate': 9},\n",
            "  'record_timestamp': '2019-06-03T09:35:00+02:00',\n",
            "  'recordid': 'be50e923df54801d559eb644eac1580f92052573'}]\n",
            "Number of companies with name 'Microsoft': 4\n",
            "Number of companies with name 'Microsoft': 5\n",
            "[{'datasetid': 'companies-on-linkedin',\n",
            "  'fields': {'current_employee_estimate': 6,\n",
            "             'domain0': 'https://www.develop-online.net',\n",
            "             'industry': 'computer games',\n",
            "             'linkedin_url': 'https://www.linkedin.com/company/develop-magazine',\n",
            "             'name': 'microsoft',\n",
            "             'size_range': '11 - 50',\n",
            "             'total_employee_estimate': 44},\n",
            "  'record_timestamp': '2019-06-03T09:35:00+02:00',\n",
            "  'recordid': 'c4d310fc0f0f277e574e20f5e2185d4765a1ab3f'},\n",
            " {'datasetid': 'companies-on-linkedin',\n",
            "  'fields': {'country': 'united states',\n",
            "             'current_employee_estimate': 116196,\n",
            "             'domain0': 'https://www.microsoft.com',\n",
            "             'industry': 'computer software',\n",
            "             'linkedin_url': 'https://www.linkedin.com/company/microsoft',\n",
            "             'locality': 'redmond,washington,united states',\n",
            "             'name': 'microsoft',\n",
            "             'size_range': '10001+',\n",
            "             'total_employee_estimate': 276983,\n",
            "             'year_founded': '1975'},\n",
            "  'record_timestamp': '2019-06-03T09:35:00+02:00',\n",
            "  'recordid': 'd8611a51def434f1049b899a99d8a589fbb7b9c1'},\n",
            " {'datasetid': 'companies-on-linkedin',\n",
            "  'fields': {'current_employee_estimate': 1,\n",
            "             'domain0': 'https://www.',\n",
            "             'industry': 'computer software',\n",
            "             'linkedin_url': 'https://www.linkedin.com/company/microsoft-cyprus',\n",
            "             'name': 'microsoft',\n",
            "             'size_range': '1 - 10',\n",
            "             'total_employee_estimate': 5,\n",
            "             'year_founded': '1975'},\n",
            "  'record_timestamp': '2019-06-03T09:35:00+02:00',\n",
            "  'recordid': 'a5140838fb9ffcda43fa4b8f35cd13ed2abe67f7'},\n",
            " {'datasetid': 'companies-on-linkedin',\n",
            "  'fields': {'current_employee_estimate': 6,\n",
            "             'domain0': 'https://www.',\n",
            "             'industry': 'computer software',\n",
            "             'linkedin_url': 'https://www.linkedin.com/company/microsoft-2',\n",
            "             'name': 'microsoft',\n",
            "             'size_range': '11 - 50',\n",
            "             'total_employee_estimate': 9},\n",
            "  'record_timestamp': '2019-06-03T09:35:00+02:00',\n",
            "  'recordid': 'be50e923df54801d559eb644eac1580f92052573'},\n",
            " {'datasetid': 'companies-on-linkedin',\n",
            "  'fields': {'current_employee_estimate': 0,\n",
            "             'domain0': 'https://www.microsoftaaas.com',\n",
            "             'industry': 'management consulting',\n",
            "             'linkedin_url': 'https://www.linkedin.com/company/microsoft-alliance-as-a-service',\n",
            "             'name': 'microsoft',\n",
            "             'size_range': '1 - 10',\n",
            "             'total_employee_estimate': 3,\n",
            "             'year_founded': '2012'},\n",
            "  'record_timestamp': '2019-06-03T09:35:00+02:00',\n",
            "  'recordid': '998d5e4e4bebfdb1a2af75f3b3014ddb1377c736'}]\n",
            "Number of companies with name 'Microsoft': 5\n",
            "Number of companies with name 'Microsoft': 6\n",
            "[{'datasetid': 'companies-on-linkedin',\n",
            "  'fields': {'current_employee_estimate': 6,\n",
            "             'domain0': 'https://www.develop-online.net',\n",
            "             'industry': 'computer games',\n",
            "             'linkedin_url': 'https://www.linkedin.com/company/develop-magazine',\n",
            "             'name': 'microsoft',\n",
            "             'size_range': '11 - 50',\n",
            "             'total_employee_estimate': 44},\n",
            "  'record_timestamp': '2019-06-03T09:35:00+02:00',\n",
            "  'recordid': 'c4d310fc0f0f277e574e20f5e2185d4765a1ab3f'},\n",
            " {'datasetid': 'companies-on-linkedin',\n",
            "  'fields': {'country': 'united states',\n",
            "             'current_employee_estimate': 116196,\n",
            "             'domain0': 'https://www.microsoft.com',\n",
            "             'industry': 'computer software',\n",
            "             'linkedin_url': 'https://www.linkedin.com/company/microsoft',\n",
            "             'locality': 'redmond,washington,united states',\n",
            "             'name': 'microsoft',\n",
            "             'size_range': '10001+',\n",
            "             'total_employee_estimate': 276983,\n",
            "             'year_founded': '1975'},\n",
            "  'record_timestamp': '2019-06-03T09:35:00+02:00',\n",
            "  'recordid': 'd8611a51def434f1049b899a99d8a589fbb7b9c1'},\n",
            " {'datasetid': 'companies-on-linkedin',\n",
            "  'fields': {'current_employee_estimate': 1,\n",
            "             'domain0': 'https://www.',\n",
            "             'industry': 'computer software',\n",
            "             'linkedin_url': 'https://www.linkedin.com/company/microsoft-cyprus',\n",
            "             'name': 'microsoft',\n",
            "             'size_range': '1 - 10',\n",
            "             'total_employee_estimate': 5,\n",
            "             'year_founded': '1975'},\n",
            "  'record_timestamp': '2019-06-03T09:35:00+02:00',\n",
            "  'recordid': 'a5140838fb9ffcda43fa4b8f35cd13ed2abe67f7'},\n",
            " {'datasetid': 'companies-on-linkedin',\n",
            "  'fields': {'current_employee_estimate': 6,\n",
            "             'domain0': 'https://www.',\n",
            "             'industry': 'computer software',\n",
            "             'linkedin_url': 'https://www.linkedin.com/company/microsoft-2',\n",
            "             'name': 'microsoft',\n",
            "             'size_range': '11 - 50',\n",
            "             'total_employee_estimate': 9},\n",
            "  'record_timestamp': '2019-06-03T09:35:00+02:00',\n",
            "  'recordid': 'be50e923df54801d559eb644eac1580f92052573'},\n",
            " {'datasetid': 'companies-on-linkedin',\n",
            "  'fields': {'current_employee_estimate': 0,\n",
            "             'domain0': 'https://www.microsoftaaas.com',\n",
            "             'industry': 'management consulting',\n",
            "             'linkedin_url': 'https://www.linkedin.com/company/microsoft-alliance-as-a-service',\n",
            "             'name': 'microsoft',\n",
            "             'size_range': '1 - 10',\n",
            "             'total_employee_estimate': 3,\n",
            "             'year_founded': '2012'},\n",
            "  'record_timestamp': '2019-06-03T09:35:00+02:00',\n",
            "  'recordid': '998d5e4e4bebfdb1a2af75f3b3014ddb1377c736'},\n",
            " {'datasetid': 'companies-on-linkedin',\n",
            "  'fields': {'country': 'india',\n",
            "             'current_employee_estimate': 1,\n",
            "             'domain0': 'https://www.maziksolutions.com',\n",
            "             'industry': 'information technology and services',\n",
            "             'linkedin_url': 'https://www.linkedin.com/company/mazik-solutions-pvt-ltd',\n",
            "             'name': 'microsoft',\n",
            "             'size_range': '1 - 10',\n",
            "             'total_employee_estimate': 4,\n",
            "             'year_founded': '2010'},\n",
            "  'record_timestamp': '2019-06-03T09:35:00+02:00',\n",
            "  'recordid': '694e5569ffadbee848f1c3ab7a180f158a5506be'}]\n",
            "Number of companies with name 'Microsoft': 6\n"
          ]
        }
      ],
      "source": [
        "microsoft_list = []\n",
        "for record in microsoft_companies:\n",
        "  if record['fields']['name'].lower() == \"microsoft\":\n",
        "    microsoft_list.append(record)\n",
        "    num_microsoft_companies = len(microsoft_list)\n",
        "    print(\"Number of companies with name 'Microsoft':\", num_microsoft_companies)\n",
        "    pprint(microsoft_list)\n",
        "\n",
        "    num_microsoft_companies = len(microsoft_list)\n",
        "    print(\"Number of companies with name 'Microsoft':\", num_microsoft_companies)\n"
      ]
    },
    {
      "cell_type": "markdown",
      "metadata": {
        "id": "Aj6R6G-Ggfiw"
      },
      "source": [
        "> **6**\n"
      ]
    },
    {
      "cell_type": "markdown",
      "metadata": {
        "id": "EzxGPakBawSO"
      },
      "source": [
        "## Cleaning the data\n"
      ]
    },
    {
      "cell_type": "markdown",
      "metadata": {
        "id": "DUquW7Q6awSO"
      },
      "source": [
        "### Encoding categories"
      ]
    },
    {
      "cell_type": "markdown",
      "metadata": {
        "id": "GbBprzd6gfiw"
      },
      "source": [
        "To facilitate the work of the other teams, we will translate the number of employees into categories. To do this, we will use the following correspondences:\n",
        "   - less than 5: \"small business\"\n",
        "   - from 5 to 30: \"startup\"\n",
        "   - from 30 to 200: \"scaleup\"\n",
        "   - from 200 to 1000: \"big companies\"\n",
        "   - more than 1000: \"very large companies\"\n",
        "\n",
        "\n",
        "Write a function that takes one argument, the number of employees, and returns the corresponding category.\n",
        "\n",
        "⚠️ Don't forget to return the corresponding category at the end of your function using the **return** keyword. \\\n",
        "Look carefully at the syntax of functions in the lecture.\n"
      ]
    },
    {
      "cell_type": "code",
      "execution_count": 59,
      "metadata": {
        "ExecuteTime": {
          "end_time": "2024-02-13T17:36:19.046695Z",
          "start_time": "2024-02-13T17:36:19.030513Z"
        },
        "colab": {
          "base_uri": "https://localhost:8080/"
        },
        "id": "Qbm_ZwkGgfiw",
        "outputId": "df3a57da-55c3-4836-cc61-1e1dcb528c77"
      },
      "outputs": [
        {
          "output_type": "stream",
          "name": "stdout",
          "text": [
            "startup\n"
          ]
        }
      ],
      "source": [
        "def from_nb_employee_to_category(num_employees):\n",
        "    if num_employees < 5:\n",
        "        return \"small business\"\n",
        "    elif 5 <= num_employees <= 30:\n",
        "        return \"startup\"\n",
        "    elif 30 < num_employees <= 200:\n",
        "        return \"scaleup\"\n",
        "    elif 200 < num_employees <= 1000:\n",
        "        return \"big companies\"\n",
        "    else:\n",
        "        return \"very large companies\"\n",
        "\n",
        "print(from_nb_employee_to_category(23))\n",
        "\n",
        "\n",
        "\n",
        "\n"
      ]
    },
    {
      "cell_type": "markdown",
      "metadata": {
        "id": "YBKTZcbJawSQ"
      },
      "source": [
        "### Transform the data\n"
      ]
    },
    {
      "cell_type": "markdown",
      "metadata": {
        "id": "PXVr563egfiy"
      },
      "source": [
        "We will go through all the companies in the initial file.\n",
        "\n",
        "We will create an empty list that will record all the information about each company as we go along.\n",
        "\n",
        "For each company, store in a **dictionary** the company's name, industry, domain and company category (in relation to its number of employees, using your previous function). Then add this dictionary to your list.\n",
        "\n",
        "In the end, your list will contain all the dictionaries of all the companies."
      ]
    },
    {
      "cell_type": "code",
      "execution_count": 64,
      "metadata": {
        "ExecuteTime": {
          "end_time": "2024-02-13T17:41:05.597540Z",
          "start_time": "2024-02-13T17:41:05.580303Z"
        },
        "colab": {
          "base_uri": "https://localhost:8080/"
        },
        "id": "uvyBEc4Mgfiy",
        "outputId": "9e328464-9509-4435-a828-eb80b4d5307f"
      },
      "outputs": [
        {
          "output_type": "stream",
          "name": "stdout",
          "text": [
            "{'name': 'microsoft', 'industry': 'computer games', 'domain': 'https://www.develop-online.net', 'category': 'scaleup'}\n",
            "{'name': 'omaha microsoft technology group', 'industry': 'information technology and services', 'domain': 'https://www.omahamtg.com', 'category': 'small business'}\n",
            "{'name': 'microsoft alumni network ambassadors', 'industry': 'non-profit organization management', 'domain': 'https://www.', 'category': 'small business'}\n",
            "{'name': 'scbn | microsoft certified professional - google partner', 'industry': 'internet', 'domain': 'https://www.scbn.biz', 'category': 'startup'}\n",
            "{'name': 'locatelli mcc - designing domotica (voip) solutions combined with microsoft lync services!', 'industry': 'information technology and services', 'domain': 'https://www.locatelli-mcc.com', 'category': 'small business'}\n",
            "{'name': 'chelford solutions for microsoft', 'industry': 'computer software', 'domain': 'https://www.', 'category': 'startup'}\n",
            "{'name': 'troy consulting / microsoft', 'industry': 'computer software', 'domain': 'https://www.', 'category': 'small business'}\n",
            "{'name': 'microsoft pakistan', 'industry': 'information technology and services', 'domain': 'https://www.', 'category': 'small business'}\n",
            "{'name': 'server and management studios (sams) formerly max at microsoft', 'industry': 'online media', 'domain': 'https://www.', 'category': 'small business'}\n",
            "{'name': 'global project pros (microsoft partner, ibm business partner)', 'industry': 'logistics and supply chain', 'domain': 'https://www.domis.rs', 'category': 'startup'}\n",
            "{'name': 'microsoft(po from hirepro consulting pvt. ltd.)', 'industry': 'staffing and recruiting', 'domain': 'https://www.hirepro.us', 'category': 'small business'}\n",
            "{'name': 'microsoft advanced analytics', 'industry': 'computer software', 'domain': 'https://www.', 'category': 'scaleup'}\n",
            "{'name': 'microsoft innovation center campinas', 'industry': 'information technology and services', 'domain': 'https://www.', 'category': 'small business'}\n",
            "{'name': 'microsoft users group argentina', 'industry': 'information technology and services', 'domain': 'https://www.mug.org.ar', 'category': 'startup'}\n",
            "{'name': 'mbs-training - microsoft dynamics readiness center', 'industry': 'professional training & coaching', 'domain': 'https://www.learn4nav.com', 'category': 'small business'}\n",
            "{'name': 'pohn it-consulting gmbh', 'industry': 'information technology and services', 'domain': 'https://www.', 'category': 'startup'}\n",
            "{'name': 'informo tecnologia microsoft partner', 'industry': 'information technology and services', 'domain': 'https://www.informo.com.br', 'category': 'startup'}\n",
            "{'name': 'microsoft', 'industry': 'computer software', 'domain': 'https://www.microsoft.com', 'category': 'very large companies'}\n",
            "{'name': 'microsoft business user forum e.v.', 'industry': 'information technology and services', 'domain': 'https://www.', 'category': 'small business'}\n",
            "{'name': 'your brand in microsoft office', 'industry': 'information technology and services', 'domain': 'https://www.ybimo.com', 'category': 'small business'}\n",
            "{'name': 'microsoft innovation center - productivity', 'industry': 'information technology and services', 'domain': 'https://www.productivitycenter.org', 'category': 'startup'}\n",
            "{'name': 'forum du laboratoire supinfo des technologies microsoft', 'industry': 'information technology and services', 'domain': 'https://www.forum-microsoft.org', 'category': 'startup'}\n",
            "{'name': 'microsoft  technology sa', 'industry': 'accounting', 'domain': 'https://www.', 'category': 'startup'}\n",
            "{'name': 'microsoft accelerator', 'industry': 'computer software', 'domain': 'https://www.microsoftaccelerator.com', 'category': 'scaleup'}\n",
            "{'name': 'microsoft slovenija', 'industry': 'information technology and services', 'domain': 'https://www.microsoft.si', 'category': 'startup'}\n",
            "{'name': 'microsoft ireland', 'industry': 'writing and editing', 'domain': 'https://www.googlie.ie', 'category': 'small business'}\n",
            "{'name': 'microsoft office 365 sign in', 'industry': 'computer software', 'domain': 'https://www.microsoftoffice365signin.com', 'category': 'small business'}\n",
            "{'name': 'skill enhanced academic solution pvt ltd-microsoft aep', 'industry': 'information technology and services', 'domain': 'https://www.seasolution.in', 'category': 'small business'}\n",
            "{'name': 'technokids inc. | publisher of microsoft office and google apps technology projects', 'industry': 'publishing', 'domain': 'https://www.technokids.com', 'category': 'scaleup'}\n",
            "{'name': 'microsoft schweiz gmbh', 'industry': 'computer software', 'domain': 'https://www.', 'category': 'startup'}\n",
            "{'name': 'excel and access, llc - local microsoft excel and access services for business 844-ms-excel', 'industry': 'computer software', 'domain': 'https://www.excelandaccess.com', 'category': 'startup'}\n",
            "{'name': 'denver area microsoft access users group', 'industry': 'computer software', 'domain': 'https://www.daaug.org', 'category': 'small business'}\n",
            "{'name': 'microsoft solutions', 'industry': 'computer software', 'domain': 'https://www.avnetmssolutions.com', 'category': 'small business'}\n",
            "{'name': 'microsoft student technical community — vit vellore', 'industry': 'information technology and services', 'domain': 'https://www.', 'category': 'small business'}\n",
            "{'name': 'microsoft partner', 'industry': 'information technology and services', 'domain': 'https://www.', 'category': 'startup'}\n",
            "{'name': 'microsoft mobile', 'industry': 'international trade and development', 'domain': 'https://www.', 'category': 'startup'}\n",
            "{'name': 'microsoft student partners tech club - bue', 'industry': 'computer software', 'domain': 'https://www.', 'category': 'startup'}\n",
            "{'name': 'microsoft nl students', 'industry': 'higher education', 'domain': 'https://www.dreamspark.com', 'category': 'small business'}\n",
            "{'name': 'communication square llc - microsoft gold partner', 'industry': 'information technology and services', 'domain': 'https://www.communicationsquare.com', 'category': 'startup'}\n",
            "{'name': 'microsoft student partners upb', 'industry': 'computer software', 'domain': 'https://www.', 'category': 'startup'}\n",
            "{'name': 'microsoft innovation center armenia', 'industry': 'information technology and services', 'domain': 'https://www.mic.am', 'category': 'startup'}\n",
            "{'name': 'microsoft oy', 'industry': 'electrical/electronic manufacturing', 'domain': 'https://www.', 'category': 'startup'}\n",
            "{'name': 'microsoft tech-club at bue', 'industry': 'computer software', 'domain': 'https://www.', 'category': 'startup'}\n",
            "{'name': 'makay services', 'industry': 'information technology and services', 'domain': 'https://www.', 'category': 'small business'}\n",
            "{'name': 'microsoft deutschland gmbh', 'industry': 'computer software', 'domain': 'https://www.', 'category': 'startup'}\n",
            "{'name': 'microsoft software belgrade', 'industry': 'information services', 'domain': 'https://www.', 'category': 'startup'}\n",
            "{'name': 'microsoft corporation (i) pvt. ltd.', 'industry': 'information technology and services', 'domain': 'https://www.', 'category': 'small business'}\n",
            "{'name': 'clickstream technologies (acquired by microsoft)', 'industry': 'computer software', 'domain': 'https://www.clickstreamtech.com', 'category': 'startup'}\n",
            "{'name': 'microsoft campus club', 'industry': 'computer software', 'domain': 'https://www.microsoftcampusclub.in', 'category': 'scaleup'}\n",
            "{'name': 'the microsoft research - university of trento centre for computational and systems biology', 'industry': 'research', 'domain': 'https://www.', 'category': 'startup'}\n",
            "{'name': 'microsoft nepal', 'industry': 'computer & network security', 'domain': 'https://www.microsoftstudentpartners.com', 'category': 'startup'}\n",
            "{'name': 'microsoft innovation center são josé dos campos', 'industry': 'research', 'domain': 'https://www.', 'category': 'small business'}\n",
            "{'name': 'microsoft licensing, gp', 'industry': 'computer software', 'domain': 'https://www.', 'category': 'startup'}\n",
            "{'name': 'kvk, microsoft, american express', 'industry': 'unknown', 'domain': 'https://www.', 'category': 'small business'}\n",
            "{'name': 'microsoft consultancy az', 'industry': 'information technology and services', 'domain': 'https://www.zoutenbier.nl', 'category': 'small business'}\n",
            "{'name': 'microsoft it academy at touro college israel', 'industry': 'information technology and services', 'domain': 'https://www.missupport.com', 'category': 'startup'}\n",
            "{'name': 'vital partners, llc a microsoft gold certified partner', 'industry': 'computer software', 'domain': 'https://www.vitalpartners.net', 'category': 'small business'}\n",
            "{'name': 'microsoft windays konferencija', 'industry': 'computer software', 'domain': 'https://www.windays.hr', 'category': 'small business'}\n",
            "{'name': 'mbo - partner especialistas en microsoft dynamics 365', 'industry': 'information technology and services', 'domain': 'https://www.mbolatam.cl', 'category': 'small business'}\n",
            "{'name': 'htd training (microsoft gold certified)', 'industry': 'information technology and services', 'domain': 'https://www.blueworkershtd.co.uk', 'category': 'small business'}\n",
            "{'name': 'capptain, une entreprise microsoft', 'industry': 'information technology and services', 'domain': 'https://www.', 'category': 'startup'}\n",
            "{'name': 'microsoft technet social forums', 'industry': 'information technology and services', 'domain': 'https://www.', 'category': 'small business'}\n",
            "{'name': 'microsoft student partners tech club', 'industry': 'computer software', 'domain': 'https://www.buetc.com', 'category': 'startup'}\n",
            "{'name': 'sheath | microsoft csp and saas company', 'industry': 'information technology and services', 'domain': 'https://www.sheathtechnologysolutions.com', 'category': 'small business'}\n",
            "{'name': 'sirrus', 'industry': 'information technology and services', 'domain': 'https://www.', 'category': 'small business'}\n",
            "{'name': 'mos champions consulting - microsoft partner', 'industry': 'education management', 'domain': 'https://www.moschampions.com', 'category': 'small business'}\n",
            "{'name': 'microsoft certifications', 'industry': 'unknown', 'domain': 'https://www.', 'category': 'small business'}\n",
            "{'name': 'iamcp', 'industry': 'unknown', 'domain': 'https://www.', 'category': 'small business'}\n",
            "{'name': 'microsoft certified trainer/consultant/mentor', 'industry': 'information technology and services', 'domain': 'https://www.', 'category': 'small business'}\n",
            "{'name': 'microsoft taiwan 台灣微軟', 'industry': 'computer software', 'domain': 'https://www.', 'category': 'small business'}\n",
            "{'name': 'microsoft zune', 'industry': 'entertainment', 'domain': 'https://www.zune.net', 'category': 'startup'}\n",
            "{'name': \"ag consultancy, specialists in sap, winshuttle and microsoft integration (inc' excel macro)\", 'industry': 'information technology and services', 'domain': 'https://www.agcapps.com', 'category': 'startup'}\n",
            "{'name': 'calgary microsoft user group', 'industry': 'consumer services', 'domain': 'https://www.', 'category': 'small business'}\n",
            "{'name': 'hungarian user group of microsoft sql server', 'industry': 'information technology and services', 'domain': 'https://www.hug-mssql.hu', 'category': 'small business'}\n",
            "{'name': 'naax - microsoft dynamics', 'industry': 'staffing and recruiting', 'domain': 'https://www.naax.dk', 'category': 'small business'}\n",
            "{'name': 'cbre | microsoft', 'industry': 'information services', 'domain': 'https://www.', 'category': 'startup'}\n",
            "{'name': 'microsoft accelerator tel aviv', 'industry': 'internet', 'domain': 'https://www.', 'category': 'small business'}\n",
            "{'name': 'i4ict - apple, microsoft & google apps specialist', 'industry': 'information technology and services', 'domain': 'https://www.i4ict.com', 'category': 'small business'}\n",
            "{'name': 'microsoft xbox support', 'industry': 'information technology and services', 'domain': 'https://www.', 'category': 'startup'}\n",
            "{'name': 'dotwood crm - your microsoft cloud partner', 'industry': 'computer software', 'domain': 'https://www.dotwoodcrm.nl', 'category': 'startup'}\n",
            "{'name': 'microsoft original products in iran - لایسنس اصلی محصولات مایکروسافت', 'industry': 'computer software', 'domain': 'https://www.', 'category': 'startup'}\n",
            "{'name': 'microsoft partner development centre asia pacific', 'industry': 'professional training & coaching', 'domain': 'https://www.', 'category': 'startup'}\n",
            "{'name': 'microsoft certified professional magazine', 'industry': 'unknown', 'domain': 'https://www.', 'category': 'small business'}\n",
            "{'name': 'microsoft gold partner - veripark', 'industry': 'information technology and services', 'domain': 'https://www.', 'category': 'small business'}\n",
            "{'name': 'microsoft business solution nav and ax consultant', 'industry': 'computer software', 'domain': 'https://www.', 'category': 'startup'}\n",
            "{'name': 'ciphergraph networks (microsoft accelerator)', 'industry': 'computer & network security', 'domain': 'https://www.ciphergraph.com', 'category': 'small business'}\n",
            "{'name': 'microsoft student partners russia', 'industry': 'unknown', 'domain': 'https://www.', 'category': 'small business'}\n",
            "{'name': 'brisbane microsoft 365 meetup', 'industry': 'information technology and services', 'domain': 'https://www.365community.org', 'category': 'small business'}\n",
            "{'name': 'eoh: a microsoft partner', 'industry': 'information technology and services', 'domain': 'https://www.eohamp.co.za', 'category': 'big companies'}\n",
            "{'name': 'bing pulse', 'industry': 'internet', 'domain': 'https://www.', 'category': 'small business'}\n",
            "{'name': 'northern ireland microsoft technologies user group (nimtug)', 'industry': 'information technology and services', 'domain': 'https://www.', 'category': 'small business'}\n",
            "{'name': 'microsoft engineering limited', 'industry': 'computer software', 'domain': 'https://www.', 'category': 'small business'}\n",
            "{'name': 'mictt palma', 'industry': 'information technology and services', 'domain': 'https://www.', 'category': 'small business'}\n",
            "{'name': 'microsoft operations puerto rico, llc', 'industry': 'computer & network security', 'domain': 'https://www.', 'category': 'small business'}\n",
            "{'name': 'microsoft office', 'industry': 'information technology and services', 'domain': 'https://www.office.com', 'category': 'small business'}\n",
            "{'name': 'astoine \"gold certified microsoft cloud technology\" maroc', 'industry': 'information technology and services', 'domain': 'https://www.astoine.com', 'category': 'small business'}\n",
            "{'name': 'microsoft magyarország kft.', 'industry': 'computer software', 'domain': 'https://www.microsoft.hu', 'category': 'small business'}\n",
            "{'name': 'microsoft open technologies, inc.', 'industry': 'unknown', 'domain': 'https://www.', 'category': 'small business'}\n",
            "{'name': 'directions on microsoft', 'industry': 'information technology and services', 'domain': 'https://www.directionsonmicrosoft.com', 'category': 'startup'}\n",
            "{'name': 'microsoft business solutions', 'industry': 'unknown', 'domain': 'https://www.', 'category': 'small business'}\n",
            "{'name': 'this is it | time saving and efficiency training for microsoft office', 'industry': 'e-learning', 'domain': 'https://www.e-thisisit.com', 'category': 'startup'}\n",
            "{'name': 'microsoft dynamics nav', 'industry': 'information technology and services', 'domain': 'https://www.', 'category': 'startup'}\n",
            "{'name': 'microsoft innovation center belo horizonte', 'industry': 'computer software', 'domain': 'https://www.micbh.com.br', 'category': 'scaleup'}\n",
            "{'name': 'universidade católica de petrópolis', 'industry': 'higher education', 'domain': 'https://www.', 'category': 'startup'}\n",
            "{'name': 'microsoft innovation center yogyakarta', 'industry': 'research', 'domain': 'https://www.micresearch.net', 'category': 'startup'}\n",
            "{'name': 'microsoft india (r&d) private limited', 'industry': 'information technology and services', 'domain': 'https://www.', 'category': 'startup'}\n",
            "{'name': 'harwood consulting - microsoft software development', 'industry': 'information technology and services', 'domain': 'https://www.harwoodconsulting.com.au', 'category': 'small business'}\n",
            "{'name': 'adactit | microsoft cloud partner of the year 2015 winner', 'industry': 'computer software', 'domain': 'https://www.adactit.com', 'category': 'startup'}\n",
            "{'name': 'microsoft office training', 'industry': 'professional training & coaching', 'domain': 'https://www.audiosolutionz.com', 'category': 'scaleup'}\n",
            "{'name': 'microsoft puerto rico inc', 'industry': 'public relations and communications', 'domain': 'https://www.', 'category': 'small business'}\n",
            "{'name': 'microsoft xrm consultants, llc', 'industry': 'computer software', 'domain': 'https://www.mosaik.ch', 'category': 'startup'}\n",
            "{'name': 'microsoft dynamicsnav', 'industry': 'management consulting', 'domain': 'https://www.abadyn.es', 'category': 'startup'}\n",
            "{'name': 'microsoft innovation center | kharkov, ukraine', 'industry': 'computer software', 'domain': 'https://www.', 'category': 'small business'}\n",
            "{'name': 'spilog | distribution microsoft pacifique francophone', 'industry': 'information technology and services', 'domain': 'https://www.spilog.pf', 'category': 'startup'}\n",
            "{'name': 'trivium | microsoft partner', 'industry': 'information technology and services', 'domain': 'https://www.trivium.com.br', 'category': 'small business'}\n",
            "{'name': 'academia microsoft, upb - itacad', 'industry': 'computer software', 'domain': 'https://www.itacad.ro', 'category': 'startup'}\n",
            "{'name': 'bluestar plm for microsoft dynamics ax', 'industry': 'information technology and services', 'domain': 'https://www.bluestarplm.com', 'category': 'startup'}\n",
            "{'name': 'centro de innovacion en movilidad - microsoft innovation center', 'industry': 'information technology and services', 'domain': 'https://www.micmovilidad.es', 'category': 'startup'}\n",
            "{'name': 'microsoft hrvatska', 'industry': 'information technology and services', 'domain': 'https://www.microsoft.hr', 'category': 'startup'}\n",
            "{'name': 'microsoft ventures accelerator academy r&d hertzelia', 'industry': 'unknown', 'domain': 'https://www.', 'category': 'small business'}\n",
            "{'name': 'microsoft customer support', 'industry': 'computer software', 'domain': 'https://www.supportonline.help', 'category': 'small business'}\n",
            "{'name': 'microsoft cz', 'industry': 'computer software', 'domain': 'https://www.', 'category': 'small business'}\n",
            "{'name': 'microsoft financing / bnp paribas lease group', 'industry': 'unknown', 'domain': 'https://www.', 'category': 'small business'}\n",
            "{'name': 'mcafee antivirus technical support phone number 1-800-769-2805', 'industry': 'computer software', 'domain': 'https://www.akgls.net', 'category': 'small business'}\n",
            "{'name': 'net it - microsoft crm partner', 'industry': 'information technology and services', 'domain': 'https://www.net-it.be', 'category': 'scaleup'}\n",
            "{'name': 'microsoft corporation india pvt ltd.', 'industry': 'computer software', 'domain': 'https://www.', 'category': 'startup'}\n",
            "{'name': 'text’d, llc (vendor of microsoft corporation)', 'industry': 'internet', 'domain': 'https://www.textd.com', 'category': 'small business'}\n",
            "{'name': 'kadamba software - microsoft sharepoint services', 'industry': 'information technology and services', 'domain': 'https://www.kadamba.com', 'category': 'startup'}\n",
            "{'name': 'convergys/microsoft', 'industry': 'computer software', 'domain': 'https://www.', 'category': 'big companies'}\n",
            "{'name': 'point 42 - microsoft professionals', 'industry': 'computer software', 'domain': 'https://www.point42.nl', 'category': 'startup'}\n",
            "{'name': 'microsoft licensing', 'industry': 'information technology and services', 'domain': 'https://www.nevadaitsolutions.com', 'category': 'scaleup'}\n",
            "{'name': 'microsoft armenia', 'industry': 'computer software', 'domain': 'https://www.', 'category': 'small business'}\n",
            "{'name': 'microsoft france', 'industry': 'computer software', 'domain': 'https://www.microsoft.fr', 'category': 'startup'}\n",
            "{'name': 'criativa marketing and solutions (microsoft partner)', 'industry': 'management consulting', 'domain': 'https://www.criativamarketing.com.br', 'category': 'startup'}\n",
            "{'name': \"sony, time inc., clorox, gap corporate, honda, nike, gnc, microsoft, hp, macy's, bloomingdale's\", 'industry': 'photography', 'domain': 'https://www.monalongstyling.com', 'category': 'scaleup'}\n",
            "{'name': 'microsoft global services', 'industry': 'information technology and services', 'domain': 'https://www.', 'category': 'small business'}\n",
            "{'name': 'vidgent (microsoft)', 'industry': 'computer games', 'domain': 'https://www.vidgent.com', 'category': 'small business'}\n",
            "{'name': 'microsoft innovation center | productivity center', 'industry': 'business supplies and equipment', 'domain': 'https://www.', 'category': 'startup'}\n",
            "{'name': 'microsoft innovation center - university of indonesia', 'industry': 'unknown', 'domain': 'https://www.', 'category': 'small business'}\n",
            "{'name': 'go trainers treinamentos especializados em tecnologia (adobe e microsoft)', 'industry': 'design', 'domain': 'https://www.gotrainers.com.br', 'category': 'startup'}\n",
            "{'name': 'microsoft innovation center varaždin', 'industry': 'information technology and services', 'domain': 'https://www.miccroatia.com', 'category': 'startup'}\n",
            "{'name': 'microsoft / wonderlane', 'industry': 'internet', 'domain': 'https://www.', 'category': 'startup'}\n",
            "{'name': 'the microsoft research university of trento centre for computational and systems biology s', 'industry': 'unknown', 'domain': 'https://www.', 'category': 'small business'}\n",
            "{'name': 'microsoft corporation india pvt ltd.', 'industry': 'unknown', 'domain': 'https://www.', 'category': 'small business'}\n",
            "{'name': 'mic belgique - microsoft innovation center mons', 'industry': 'management consulting', 'domain': 'https://www.', 'category': 'small business'}\n",
            "{'name': 'microsoftware s.r.l.', 'industry': 'unknown', 'domain': 'https://www.', 'category': 'small business'}\n",
            "{'name': 'microsoft dynamics gurus gp nav erp ax', 'industry': 'accounting', 'domain': 'https://www.microsoftdynamicsgpgurus.com', 'category': 'small business'}\n",
            "{'name': 'microsoft cloud it pro podcast', 'industry': 'information technology and services', 'domain': 'https://www.msclouditpropodcast.com', 'category': 'small business'}\n",
            "{'name': 'jm global search - recruiting microsoft professionals', 'industry': 'staffing and recruiting', 'domain': 'https://www.jmglobalsearch.com', 'category': 'small business'}\n",
            "{'name': 'microsoft student partners uaic', 'industry': 'computer software', 'domain': 'https://www.', 'category': 'startup'}\n",
            "{'name': 'understanding microsoft', 'industry': 'information technology and services', 'domain': 'https://www.', 'category': 'small business'}\n",
            "{'name': 'microsoft dynamics 365 advisors', 'industry': 'luxury goods & jewelry', 'domain': 'https://www.', 'category': 'small business'}\n",
            "{'name': 'solutions metrix - certified crm partner (microsoft, oracle, salesforce & sugarcrm)', 'industry': 'computer software', 'domain': 'https://www.solutionsmetrix.com', 'category': 'scaleup'}\n",
            "{'name': 'microsoft alumni network', 'industry': 'civic & social organization', 'domain': 'https://www.microsoftalumni.com', 'category': 'scaleup'}\n",
            "{'name': 'microsoft emea', 'industry': 'internet', 'domain': 'https://www.', 'category': 'small business'}\n",
            "{'name': 'microsoft india', 'industry': 'computer software', 'domain': 'https://www.', 'category': 'startup'}\n",
            "{'name': 'microsoft research asia', 'industry': 'computer software', 'domain': 'https://www.msra.cn', 'category': 'startup'}\n",
            "{'name': 'gtplus', 'industry': 'information technology and services', 'domain': 'https://www.', 'category': 'small business'}\n",
            "{'name': 'microsoft dynamics gulf', 'industry': 'information technology and services', 'domain': 'https://www.dynamics.com', 'category': 'startup'}\n",
            "{'name': 'microsoft innovation center brussels', 'industry': 'information technology and services', 'domain': 'https://www.mic-brussels.be', 'category': 'scaleup'}\n",
            "{'name': 'excellence - capacitación microsoft excel', 'industry': 'professional training & coaching', 'domain': 'https://www.cursosdexcel.com', 'category': 'small business'}\n",
            "{'name': 'microsoft services(bertelsmann group)', 'industry': 'information technology and services', 'domain': 'https://www.', 'category': 'small business'}\n",
            "{'name': 'bluehealth innovation center-supported by microsoft', 'industry': 'health, wellness and fitness', 'domain': 'https://www.bhic.care', 'category': 'startup'}\n",
            "{'name': 'oryxdev .net ug (microsoft qatar developers club)', 'industry': 'non-profit organization management', 'domain': 'https://www.oryxdev.net', 'category': 'small business'}\n",
            "{'name': 'microsoft technical community-upes', 'industry': 'computer & network security', 'domain': 'https://www.', 'category': 'small business'}\n",
            "{'name': 'senterprise - microsoft professionals', 'industry': 'staffing and recruiting', 'domain': 'https://www.', 'category': 'startup'}\n",
            "{'name': 'microsoft excel training and microsoft excel vba training', 'industry': 'professional training & coaching', 'domain': 'https://www.emagenit.com', 'category': 'small business'}\n",
            "{'name': 'microsoft bpos', 'industry': 'information technology and services', 'domain': 'https://www.', 'category': 'small business'}\n",
            "{'name': 'microsoft dynamics ax', 'industry': 'information technology and services', 'domain': 'https://www.srfconsultores.com', 'category': 'scaleup'}\n",
            "{'name': 'microsoft perú', 'industry': 'utilities', 'domain': 'https://www.', 'category': 'small business'}\n",
            "{'name': 'training 4 microsoft crm', 'industry': 'information technology and services', 'domain': 'https://www.training4microsoftcrm.co.uk', 'category': 'small business'}\n",
            "{'name': 'business solutions in microsoft technology', 'industry': 'information technology and services', 'domain': 'https://www.bsmt.uk', 'category': 'small business'}\n",
            "{'name': 'mr. access | microsoft access experts', 'industry': 'information technology and services', 'domain': 'https://www.mraccess.nl', 'category': 'small business'}\n",
            "{'name': 'microsoft powerpoint', 'industry': 'program development', 'domain': 'https://www.', 'category': 'small business'}\n",
            "{'name': 'malaysia microsoft project users group (mympug)', 'industry': 'unknown', 'domain': 'https://www.', 'category': 'small business'}\n",
            "{'name': 'nixey computer solutions ltd  - microsoft silver partner windows and devices', 'industry': 'information technology and services', 'domain': 'https://www.nixeysolutions.com', 'category': 'small business'}\n",
            "{'name': 'cognitive group | microsoft talent solutions', 'industry': 'staffing and recruiting', 'domain': 'https://www.cognitive-group.com', 'category': 'scaleup'}\n",
            "{'name': 'atlanta microsoft messaging & mobility user group', 'industry': 'unknown', 'domain': 'https://www.', 'category': 'small business'}\n",
            "{'name': 'microsoft business center nederland', 'industry': 'accounting', 'domain': 'https://www.', 'category': 'small business'}\n",
            "{'name': 'microsoft student partner network in bangladesh', 'industry': 'computer software', 'domain': 'https://www.', 'category': 'startup'}\n",
            "{'name': 'microsoft advanced analytics', 'industry': 'computer software', 'domain': 'https://www.', 'category': 'scaleup'}\n",
            "{'name': 'sun microsoft pvt. ltd.', 'industry': 'information technology and services', 'domain': 'https://www.', 'category': 'startup'}\n",
            "{'name': 'microsoft innovation center hainan', 'industry': 'unknown', 'domain': 'https://www.', 'category': 'small business'}\n",
            "{'name': 'pdc australia', 'industry': 'unknown', 'domain': 'https://www.', 'category': 'small business'}\n",
            "{'name': 'microsoft sri lanka', 'industry': 'unknown', 'domain': 'https://www.', 'category': 'small business'}\n",
            "{'name': 'microsoft 365 support', 'industry': 'consumer services', 'domain': 'https://www.microsoft-365-support.com', 'category': 'small business'}\n",
            "{'name': 'integral solutions (microsoft dynamics partner), west africa', 'industry': 'information technology and services', 'domain': 'https://www.integral-solutions.com', 'category': 'small business'}\n",
            "{'name': 'webatme - microsoft silver partner', 'industry': 'information technology and services', 'domain': 'https://www.webatme.com', 'category': 'startup'}\n",
            "{'name': 'uk microsoft azure user group', 'industry': 'computer software', 'domain': 'https://www.azureusergroup.com', 'category': 'small business'}\n",
            "{'name': 'microsoft fasttrack', 'industry': 'information technology and services', 'domain': 'https://www.', 'category': 'small business'}\n",
            "{'name': 'microsoft ireland', 'industry': 'computer software', 'domain': 'https://www.', 'category': 'startup'}\n",
            "{'name': 'phonefactor, now a microsoft company', 'industry': 'information technology and services', 'domain': 'https://www.phonefactor.com', 'category': 'scaleup'}\n",
            "{'name': 'microsoft tech club - must', 'industry': 'non-profit organization management', 'domain': 'https://www.musttc.com', 'category': 'startup'}\n",
            "{'name': 'senior trainer for microsoft authorized education center', 'industry': 'information technology and services', 'domain': 'https://www.specialfy.com', 'category': 'small business'}\n",
            "{'name': 'microsoft insider', 'industry': 'consumer electronics', 'domain': 'https://www.microsoftinsider.es', 'category': 'startup'}\n",
            "{'name': 'softimage (microsoft/avid /autodesk)', 'industry': 'animation', 'domain': 'https://www.', 'category': 'small business'}\n",
            "{'name': 'microsoft mvp programme', 'industry': 'information technology and services', 'domain': 'https://www.', 'category': 'small business'}\n",
            "{'name': 'microsoft ventures', 'industry': 'management consulting', 'domain': 'https://www.', 'category': 'startup'}\n",
            "{'name': 'microsoft technical community lpu', 'industry': 'education management', 'domain': 'https://www.microsoftlpu.com', 'category': 'small business'}\n",
            "{'name': 'dansk microsoftware a/s', 'industry': 'computer software', 'domain': 'https://www.danms.dk', 'category': 'small business'}\n",
            "{'name': 'msp tech club - alexandria university', 'industry': 'computer software', 'domain': 'https://www.alexutc.com', 'category': 'startup'}\n",
            "{'name': 'cloud point - all we do is microsoft cloud', 'industry': 'information technology and services', 'domain': 'https://www.cloud-point.co.uk', 'category': 'small business'}\n",
            "{'name': 'financeseer llc (microsoft partner)', 'industry': 'computer software', 'domain': 'https://www.financeseer.com', 'category': 'small business'}\n",
            "{'name': 'microsoft student partners bangladesh', 'industry': 'computer software', 'domain': 'https://www.', 'category': 'scaleup'}\n",
            "{'name': 'microsoft user research', 'industry': 'research', 'domain': 'https://www.', 'category': 'small business'}\n",
            "{'name': 'global enterprise partners - experts in sap | microsoft | oracle | salesforce.com |', 'industry': 'information technology and services', 'domain': 'https://www.', 'category': 'small business'}\n",
            "{'name': 'global sports innovation center powered by microsoft', 'industry': 'sports', 'domain': 'https://www.sport-gsic.com', 'category': 'startup'}\n",
            "{'name': 'microsoft corporation - c2s technologies', 'industry': 'information technology and services', 'domain': 'https://www.', 'category': 'small business'}\n",
            "{'name': 'microsoft campus club, svvv', 'industry': 'computer software', 'domain': 'https://www.', 'category': 'small business'}\n",
            "{'name': 'microsoft', 'industry': 'computer software', 'domain': 'https://www.', 'category': 'startup'}\n",
            "{'name': 'boston microsoft bizspark startup meetup', 'industry': 'internet', 'domain': 'https://www.', 'category': 'startup'}\n",
            "{'name': 'mic belgique - microsoft innovation center mons', 'industry': 'information technology and services', 'domain': 'https://www.mic-belgique.be', 'category': 'scaleup'}\n",
            "{'name': 'axlogic - certificeret microsoft dynamics ax partner', 'industry': 'information technology and services', 'domain': 'https://www.axlogic.dk', 'category': 'startup'}\n",
            "{'name': 'microsoft hellas', 'industry': 'computer software', 'domain': 'https://www.microsoft.gr', 'category': 'small business'}\n",
            "{'name': 'inteleserv bpo services(a microsoft bizspark company)', 'industry': 'outsourcing/offshoring', 'domain': 'https://www.inteleserv.com', 'category': 'small business'}\n",
            "{'name': 'msbs - microsoft business solutions', 'industry': 'management consulting', 'domain': 'https://www.', 'category': 'scaleup'}\n",
            "{'name': 'microsoft innovation center nepal hosted by unlimited', 'industry': 'information technology and services', 'domain': 'https://www.micneoal.org', 'category': 'startup'}\n",
            "{'name': 'msb365 | the microsoft blog', 'industry': 'information technology and services', 'domain': 'https://www.msb365.blog', 'category': 'small business'}\n",
            "{'name': 'dux-it', 'industry': 'information services', 'domain': 'https://www.duxit.nl', 'category': 'small business'}\n",
            "{'name': 'microsoft south africa', 'industry': 'information technology and services', 'domain': 'https://www.microsoft.co.za', 'category': 'startup'}\n",
            "{'name': 'microsoft', 'industry': 'computer software', 'domain': 'https://www.', 'category': 'startup'}\n",
            "{'name': 'natural corporation (sap sme partner and microsoft partner)', 'industry': 'information technology and services', 'domain': 'https://www.nycartinstallation.com', 'category': 'small business'}\n",
            "{'name': 'new horizons computer learning centers of washington d.c.', 'industry': 'education management', 'domain': 'https://www.', 'category': 'small business'}\n",
            "{'name': 'peter moyer - microsoft certified trainer', 'industry': 'information technology and services', 'domain': 'https://www.', 'category': 'small business'}\n",
            "{'name': 'soft flow (microsoft gold partner) & sap partner', 'industry': 'information technology and services', 'domain': 'https://www.softflow.com.lb', 'category': 'scaleup'}\n",
            "{'name': 'microsoft tech club - cic', 'industry': 'non-profit organization management', 'domain': 'https://www.', 'category': 'startup'}\n",
            "{'name': 'enterprise training group (the providers of microsoft training courses)', 'industry': 'professional training & coaching', 'domain': 'https://www.enterprisetraininggroup.co.uk', 'category': 'small business'}\n",
            "{'name': 'microsoft / shanghai msn network communications technology co. ltd', 'industry': 'unknown', 'domain': 'https://www.', 'category': 'small business'}\n",
            "{'name': 'microsoft outlook tech support telephone number', 'industry': 'accounting', 'domain': 'https://www.supportcontactnumber.com', 'category': 'small business'}\n",
            "{'name': 'msemploy - the microsoft recruitment specialists', 'industry': 'staffing and recruiting', 'domain': 'https://www.msemploy.co.uk', 'category': 'startup'}\n",
            "{'name': 'gallantcloud games (microsoft ventures accelerator london)', 'industry': 'information technology and services', 'domain': 'https://www.gallantcloud.com', 'category': 'small business'}\n",
            "{'name': 'hcs company microsoft services', 'industry': 'information technology and services', 'domain': 'https://www.', 'category': 'small business'}\n",
            "{'name': 'centro de inovaçao microsoft', 'industry': 'unknown', 'domain': 'https://www.', 'category': 'startup'}\n",
            "{'name': 'microsoft accelerator in india', 'industry': 'computer software', 'domain': 'https://www.', 'category': 'small business'}\n",
            "{'name': 'microsoft download center', 'industry': 'computer software', 'domain': 'https://www.softwareoptions.net', 'category': 'small business'}\n",
            "{'name': 'the microsoft dynamics job center us/canada', 'industry': 'information technology and services', 'domain': 'https://www.', 'category': 'startup'}\n",
            "{'name': 'microsoft office 365', 'industry': 'computer software', 'domain': 'https://www.office2010.bg', 'category': 'scaleup'}\n",
            "{'name': 'microsoft west and central africa (wca)', 'industry': 'computer software', 'domain': 'https://www.', 'category': 'scaleup'}\n",
            "{'name': 'microsoft tech club - met academy', 'industry': 'information technology and services', 'domain': 'https://www.', 'category': 'startup'}\n",
            "{'name': 'microsoft innovation center rapperswil', 'industry': 'information technology and services', 'domain': 'https://www.msic.ch', 'category': 'small business'}\n",
            "{'name': 'microsoft innovation center', 'industry': 'information technology and services', 'domain': 'https://www.', 'category': 'startup'}\n",
            "{'name': 'javista, microsoft dynamics crm and social crm solutions', 'industry': 'information technology and services', 'domain': 'https://www.javista.com', 'category': 'scaleup'}\n",
            "{'name': 'microsoft persia', 'industry': 'computer software', 'domain': 'https://www.', 'category': 'small business'}\n",
            "{'name': 'silverware, inc. (microsoft dynamics erp var and intacct cloud financials var)', 'industry': 'computer software', 'domain': 'https://www.silverw.com', 'category': 'startup'}\n",
            "{'name': 'lgroup desenvolvimento e treinamento em tecnologia microsoft', 'industry': 'information technology and services', 'domain': 'https://www.', 'category': 'startup'}\n",
            "{'name': 'global enterprise partners - experts in sap | microsoft | oracle | salesforce.com |', 'industry': 'information technology and services', 'domain': 'https://www.globalenterprisepartners.com', 'category': 'scaleup'}\n",
            "{'name': 'microsoft korea', 'industry': 'information technology and services', 'domain': 'https://www.', 'category': 'scaleup'}\n",
            "{'name': 'microsoft dynamics ax brains', 'industry': 'computer software', 'domain': 'https://www.', 'category': 'startup'}\n",
            "{'name': 'd4bsolutions - expertos en microsoft dynamics nav', 'industry': 'information technology and services', 'domain': 'https://www.d4bsolutions.com', 'category': 'startup'}\n",
            "{'name': 'microsoft dynamics farsi', 'industry': 'industrial automation', 'domain': 'https://www.', 'category': 'small business'}\n",
            "{'name': 'microsoft', 'industry': 'management consulting', 'domain': 'https://www.microsoftaaas.com', 'category': 'small business'}\n",
            "{'name': 'microsoft inc', 'industry': 'management consulting', 'domain': 'https://www.mbunicapital.com', 'category': 'small business'}\n",
            "{'name': 'cpm india', 'industry': 'marketing and advertising', 'domain': 'https://www.', 'category': 'startup'}\n",
            "{'name': 'microsoft azure partners in cee', 'industry': 'computer software', 'domain': 'https://www.opennessatcee.com', 'category': 'small business'}\n",
            "{'name': 'snapnet nigeria tier 1 microsoft cloud service provider', 'industry': 'information technology and services', 'domain': 'https://www.snapnet.com.ng', 'category': 'startup'}\n",
            "{'name': 'microsoft student chapter', 'industry': 'education management', 'domain': 'https://www.msctiet.co.in', 'category': 'startup'}\n",
            "{'name': 'microsoft scaleup tel aviv', 'industry': 'marketing and advertising', 'domain': 'https://www.', 'category': 'small business'}\n",
            "{'name': 'chengdu microsoft technology center', 'industry': 'computer software', 'domain': 'https://www.claudiofotografias.com.br', 'category': 'startup'}\n",
            "{'name': 'microsoft germany', 'industry': 'information technology and services', 'domain': 'https://www.', 'category': 'scaleup'}\n",
            "{'name': '1to1 (partner microsoft)', 'industry': 'information technology and services', 'domain': 'https://www.corp1to1.com', 'category': 'scaleup'}\n",
            "{'name': 'microsoft great plains bus', 'industry': 'unknown', 'domain': 'https://www.', 'category': 'small business'}\n",
            "{'name': 'microsoft hong kong limited', 'industry': 'computer software', 'domain': 'https://www.', 'category': 'startup'}\n",
            "{'name': 'ms office certified and corporate trainer', 'industry': 'information technology and services', 'domain': 'https://www.', 'category': 'small business'}\n",
            "{'name': 'clas healthcare - microsoft health innovation lab', 'industry': 'hospital & health care', 'domain': 'https://www.bacsi24x7.vn', 'category': 'small business'}\n",
            "{'name': 'ajp informatique & documents i concessionnaire xerox platinium i microsoft partner', 'industry': 'information technology and services', 'domain': 'https://www.ajp.fr', 'category': 'scaleup'}\n",
            "{'name': 'longi engineering, p.c. (microsoft gold certified partner)', 'industry': 'computer & network security', 'domain': 'https://www.longieng.com', 'category': 'startup'}\n",
            "{'name': 'microsoft regional sales corporation', 'industry': 'consumer services', 'domain': 'https://www.', 'category': 'small business'}\n",
            "{'name': 'experts live europe | microsoft community it conference', 'industry': 'information technology and services', 'domain': 'https://www.expertslive.eu', 'category': 'small business'}\n",
            "{'name': 'microsoft  azure store', 'industry': 'computer software', 'domain': 'https://www.azurestore.ma', 'category': 'small business'}\n",
            "{'name': 'microsofttechclub @bitspilanidubai', 'industry': 'computer software', 'domain': 'https://www.', 'category': 'small business'}\n",
            "{'name': 'microsoft iceland', 'industry': 'computer software', 'domain': 'https://www.', 'category': 'small business'}\n",
            "{'name': 'senterprise - microsoft professionals', 'industry': 'staffing and recruiting', 'domain': 'https://www.senterprise.se', 'category': 'startup'}\n",
            "{'name': 'mstc indore', 'industry': 'computer software', 'domain': 'https://www.mstcindore.org', 'category': 'small business'}\n",
            "{'name': 'metricshub, inc. (acquired by microsoft)', 'industry': 'computer software', 'domain': 'https://www.metricshub.com', 'category': 'startup'}\n",
            "{'name': 'microsoft for startups', 'industry': 'information technology and services', 'domain': 'https://www.', 'category': 'small business'}\n",
            "{'name': 'microsoft cloud show', 'industry': 'internet', 'domain': 'https://www.microsoftcloudshow.com', 'category': 'small business'}\n",
            "{'name': 'microsoft dynamics nav/crm/ax/gp training course online', 'industry': 'education management', 'domain': 'https://www.saicaregroup.in', 'category': 'small business'}\n",
            "{'name': 'dcr associates - microsoft it consultancy', 'industry': 'information technology and services', 'domain': 'https://www.dcrassociates.com', 'category': 'small business'}\n",
            "{'name': 'microsoft customer support', 'industry': 'consumer services', 'domain': 'https://www.microsoft-customersupport.com', 'category': 'small business'}\n",
            "{'name': 'microsoft nederland', 'industry': 'computer software', 'domain': 'https://www.microsoft.nl', 'category': 'scaleup'}\n",
            "{'name': 'the word guru - microsoft office templates & document formatting', 'industry': 'graphic design', 'domain': 'https://www.thewordguru.com.au', 'category': 'startup'}\n",
            "{'name': 'microsoft sp. z o.o.', 'industry': 'automotive', 'domain': 'https://www.rs-academy.com', 'category': 'small business'}\n",
            "{'name': 'iview (subsidiary of microsoft)', 'industry': 'computer software', 'domain': 'https://www.', 'category': 'small business'}\n",
            "{'name': 'pettis eng recruitment  llc - microsoft', 'industry': 'staffing and recruiting', 'domain': 'https://www.pettisengrecruit.com', 'category': 'small business'}\n",
            "{'name': 'grupo ign - microsoft dynamics nav & qlikview', 'industry': 'information technology and services', 'domain': 'https://www.ignsl.es', 'category': 'small business'}\n",
            "{'name': 'lmc consulting group - microsoft global security', 'industry': 'security and investigations', 'domain': 'https://www.', 'category': 'scaleup'}\n",
            "{'name': 'techbiz learning center for ibm and microsoft technologies', 'industry': 'higher education', 'domain': 'https://www.', 'category': 'small business'}\n",
            "{'name': 'mcl it solutions | it-systems & consulting company | microsoft gold certified partner', 'industry': 'unknown', 'domain': 'https://www.', 'category': 'small business'}\n",
            "{'name': 'organization dynamics, inc.- microsoft office training', 'industry': 'professional training & coaching', 'domain': 'https://www.', 'category': 'small business'}\n",
            "{'name': 'microsoft korea, inc.', 'industry': 'information technology and services', 'domain': 'https://www.', 'category': 'startup'}\n",
            "{'name': 'microsoft dynamics', 'industry': 'information technology and services', 'domain': 'https://www.', 'category': 'small business'}\n",
            "{'name': 'microsoft denmark', 'industry': 'hospitality', 'domain': 'https://www.asian-connections.net', 'category': 'small business'}\n",
            "{'name': 'microsoft', 'industry': 'information technology and services', 'domain': 'https://www.maziksolutions.com', 'category': 'small business'}\n",
            "{'name': 'elitesoft group - leaders in microsoft staffing', 'industry': 'staffing and recruiting', 'domain': 'https://www.elitesoft-group.com', 'category': 'startup'}\n",
            "{'name': 'eoh mc solutions', 'industry': 'information technology and services', 'domain': 'https://www.eohmc.co.za', 'category': 'startup'}\n",
            "{'name': 'microsoft professional services', 'industry': 'management consulting', 'domain': 'https://www.efficaceconsultinggroup.com', 'category': 'startup'}\n",
            "{'name': 'pmx dynamics-business software for the real estate industry powered by microsoft dynamics nav', 'industry': 'information technology and services', 'domain': 'https://www.pmxdynamics.com', 'category': 'startup'}\n",
            "{'name': 'microsoft game studios', 'industry': 'computer software', 'domain': 'https://www.', 'category': 'startup'}\n",
            "{'name': 'microsoft alumni foundation', 'industry': 'philanthropy', 'domain': 'https://www.microsoftalumni.org', 'category': 'startup'}\n",
            "{'name': 'naveksa a/s - manufacturing solutions for microsoft dynamics nav', 'industry': 'computer software', 'domain': 'https://www.', 'category': 'small business'}\n",
            "{'name': 'f-keys ltd microsoft training centre', 'industry': 'information technology and services', 'domain': 'https://www.f-keys.co.uk', 'category': 'startup'}\n"
          ]
        }
      ],
      "source": [
        "def categorize_employees(num_employees):\n",
        "    if num_employees < 5:\n",
        "        return \"small business\"\n",
        "    elif 5 <= num_employees <= 30:\n",
        "        return \"startup\"\n",
        "    elif 30 < num_employees <= 200:\n",
        "        return \"scaleup\"\n",
        "    elif 200 < num_employees <= 1000:\n",
        "        return \"big companies\"\n",
        "    else:\n",
        "        return \"very large companies\"\n",
        "\n",
        "company_info_list = []\n",
        "\n",
        "for record in microsoft_companies:\n",
        "    # Extract company information\n",
        "    company_name = record['fields']['name']\n",
        "    industry = record['fields']['industry']\n",
        "    domain = record['fields']['domain0']\n",
        "    num_employees = record['fields']['total_employee_estimate']\n",
        "    category = categorize_employees(num_employees)\n",
        "\n",
        "    company_info = {\n",
        "        'name': company_name,\n",
        "        'industry': industry,\n",
        "        'domain': domain,\n",
        "        'category': category\n",
        "    }\n",
        "\n",
        "    company_info_list.append(company_info)\n",
        "\n",
        "for company_info in company_info_list:\n",
        "    print(company_info)"
      ]
    },
    {
      "cell_type": "markdown",
      "metadata": {
        "id": "Sj21qz_Ngfi2"
      },
      "source": [
        "Use the code below to create a `DataFrame` from it. We will learn more about this Python object in future lectures."
      ]
    },
    {
      "cell_type": "code",
      "execution_count": 72,
      "metadata": {
        "ExecuteTime": {
          "end_time": "2024-02-13T17:41:19.985552Z",
          "start_time": "2024-02-13T17:41:17.548748Z"
        },
        "colab": {
          "base_uri": "https://localhost:8080/"
        },
        "id": "OoQHcdsagfi2",
        "outputId": "8789ec8c-1810-4a44-d44f-f5b36372672b"
      },
      "outputs": [
        {
          "output_type": "stream",
          "name": "stdout",
          "text": [
            "                                                  name  \\\n",
            "0                                            microsoft   \n",
            "1                     omaha microsoft technology group   \n",
            "2                 microsoft alumni network ambassadors   \n",
            "3    scbn | microsoft certified professional - goog...   \n",
            "4    locatelli mcc - designing domotica (voip) solu...   \n",
            "..                                                 ...   \n",
            "296  pmx dynamics-business software for the real es...   \n",
            "297                             microsoft game studios   \n",
            "298                        microsoft alumni foundation   \n",
            "299  naveksa a/s - manufacturing solutions for micr...   \n",
            "300               f-keys ltd microsoft training centre   \n",
            "\n",
            "                                industry                           domain  \\\n",
            "0                         computer games   https://www.develop-online.net   \n",
            "1    information technology and services         https://www.omahamtg.com   \n",
            "2     non-profit organization management                     https://www.   \n",
            "3                               internet             https://www.scbn.biz   \n",
            "4    information technology and services    https://www.locatelli-mcc.com   \n",
            "..                                   ...                              ...   \n",
            "296  information technology and services      https://www.pmxdynamics.com   \n",
            "297                    computer software                     https://www.   \n",
            "298                         philanthropy  https://www.microsoftalumni.org   \n",
            "299                    computer software                     https://www.   \n",
            "300  information technology and services         https://www.f-keys.co.uk   \n",
            "\n",
            "           category  \n",
            "0           scaleup  \n",
            "1    small business  \n",
            "2    small business  \n",
            "3           startup  \n",
            "4    small business  \n",
            "..              ...  \n",
            "296         startup  \n",
            "297         startup  \n",
            "298         startup  \n",
            "299  small business  \n",
            "300         startup  \n",
            "\n",
            "[301 rows x 4 columns]\n"
          ]
        }
      ],
      "source": [
        "import pandas as pd\n",
        "import json\n",
        "\n",
        "def categorize_employees(num_employees):\n",
        "    if num_employees < 5:\n",
        "        return \"small business\"\n",
        "    elif 5 <= num_employees <= 30:\n",
        "        return \"startup\"\n",
        "    elif 30 < num_employees <= 200:\n",
        "        return \"scaleup\"\n",
        "    elif 200 < num_employees <= 1000:\n",
        "        return \"big companies\"\n",
        "    else:\n",
        "        return \"very large companies\"\n",
        "\n",
        "# Load the JSON file\n",
        "with open('microsoft_companies.json', 'r') as file:\n",
        "    microsoft_companies = json.load(file)\n",
        "\n",
        "# Create an empty list to store information about each company\n",
        "company_info_list = []\n",
        "\n",
        "# Iterate through all the companies\n",
        "for record in microsoft_companies:\n",
        "    # Extract company information\n",
        "    company_name = record['fields']['name']\n",
        "    industry = record['fields']['industry']\n",
        "    domain = record['fields']['domain0']\n",
        "    num_employees = record['fields']['total_employee_estimate']\n",
        "    category = categorize_employees(num_employees)\n",
        "\n",
        "    # Create a dictionary with company information\n",
        "    company_info = {\n",
        "        'name': company_name,\n",
        "        'industry': industry,\n",
        "        'domain': domain,\n",
        "        'category': category\n",
        "    }\n",
        "\n",
        "    # Add the dictionary to the list\n",
        "    company_info_list.append(company_info)\n",
        "\n",
        "# Create a DataFrame from the list of dictionaries\n",
        "df = pd.DataFrame(company_info_list)\n",
        "\n",
        "# Display the DataFrame\n",
        "print(df)\n",
        "\n"
      ]
    },
    {
      "cell_type": "markdown",
      "source": [],
      "metadata": {
        "id": "4OfqlSUenGt8"
      }
    },
    {
      "cell_type": "markdown",
      "metadata": {
        "id": "ubSWlCXKgfi5"
      },
      "source": [
        "Congratulations, you just created your first DataFrame! 🚀"
      ]
    },
    {
      "cell_type": "markdown",
      "metadata": {
        "id": "F21YBql1awSW"
      },
      "source": [
        "### More accurate cleaning\n"
      ]
    },
    {
      "cell_type": "markdown",
      "metadata": {
        "id": "uf46hSSFN-Rb"
      },
      "source": [
        "What do you notice about `domains` column ?\n",
        "\n",
        "When no domain has been found, the API outputs \"https://www.\".\n",
        "\n",
        "This piece of information is not relevant to other teams. Modify your code to delete that.\n",
        "\n",
        "\n",
        "<details>\n",
        "    <summary>Hint 🔍</summary>\n",
        "One way to do so is to not store this key/value pair when iterating over all companies.\n",
        "</details>"
      ]
    },
    {
      "cell_type": "code",
      "execution_count": 73,
      "metadata": {
        "ExecuteTime": {
          "end_time": "2024-02-13T17:45:46.084987Z",
          "start_time": "2024-02-13T17:45:46.065388Z"
        },
        "colab": {
          "base_uri": "https://localhost:8080/"
        },
        "id": "vSJ8prtYawSX",
        "outputId": "3dc79e9b-42ab-4cd1-92cb-f8ccb78aa0e4"
      },
      "outputs": [
        {
          "output_type": "stream",
          "name": "stdout",
          "text": [
            "                                                  name  \\\n",
            "0                                            microsoft   \n",
            "1                     omaha microsoft technology group   \n",
            "2                 microsoft alumni network ambassadors   \n",
            "3    scbn | microsoft certified professional - goog...   \n",
            "4    locatelli mcc - designing domotica (voip) solu...   \n",
            "..                                                 ...   \n",
            "296  pmx dynamics-business software for the real es...   \n",
            "297                             microsoft game studios   \n",
            "298                        microsoft alumni foundation   \n",
            "299  naveksa a/s - manufacturing solutions for micr...   \n",
            "300               f-keys ltd microsoft training centre   \n",
            "\n",
            "                                industry                           domain  \\\n",
            "0                         computer games   https://www.develop-online.net   \n",
            "1    information technology and services         https://www.omahamtg.com   \n",
            "2     non-profit organization management                             None   \n",
            "3                               internet             https://www.scbn.biz   \n",
            "4    information technology and services    https://www.locatelli-mcc.com   \n",
            "..                                   ...                              ...   \n",
            "296  information technology and services      https://www.pmxdynamics.com   \n",
            "297                    computer software                             None   \n",
            "298                         philanthropy  https://www.microsoftalumni.org   \n",
            "299                    computer software                             None   \n",
            "300  information technology and services         https://www.f-keys.co.uk   \n",
            "\n",
            "           category  \n",
            "0           scaleup  \n",
            "1    small business  \n",
            "2    small business  \n",
            "3           startup  \n",
            "4    small business  \n",
            "..              ...  \n",
            "296         startup  \n",
            "297         startup  \n",
            "298         startup  \n",
            "299  small business  \n",
            "300         startup  \n",
            "\n",
            "[301 rows x 4 columns]\n"
          ]
        }
      ],
      "source": [
        "import pandas as pd\n",
        "import json\n",
        "\n",
        "def categorize_employees(num_employees):\n",
        "    if num_employees < 5:\n",
        "        return \"small business\"\n",
        "    elif 5 <= num_employees <= 30:\n",
        "        return \"startup\"\n",
        "    elif 30 < num_employees <= 200:\n",
        "        return \"scaleup\"\n",
        "    elif 200 < num_employees <= 1000:\n",
        "        return \"big companies\"\n",
        "    else:\n",
        "        return \"very large companies\"\n",
        "\n",
        "# Load the JSON file\n",
        "with open('microsoft_companies.json', 'r') as file:\n",
        "    microsoft_companies = json.load(file)\n",
        "\n",
        "# Create an empty list to store information about each company\n",
        "company_info_list = []\n",
        "\n",
        "# Iterate through all the companies\n",
        "for record in microsoft_companies:\n",
        "    # Extract company information\n",
        "    company_name = record['fields']['name']\n",
        "    industry = record['fields']['industry']\n",
        "    domain = record['fields']['domain0']\n",
        "    if domain == \"https://www.\":\n",
        "        domain = None  # Set domain to NULL\n",
        "    num_employees = record['fields']['total_employee_estimate']\n",
        "    category = categorize_employees(num_employees)\n",
        "\n",
        "    # Create a dictionary with company information\n",
        "    company_info = {\n",
        "        'name': company_name,\n",
        "        'industry': industry,\n",
        "        'domain': domain,\n",
        "        'category': category\n",
        "    }\n",
        "\n",
        "    # Add the dictionary to the list\n",
        "    company_info_list.append(company_info)\n",
        "\n",
        "# Create a DataFrame from the list of dictionaries\n",
        "df_microsoft_companies_clean = pd.DataFrame(company_info_list)\n",
        "\n",
        "# Display the DataFrame\n",
        "print(df_microsoft_companies_clean)\n"
      ]
    },
    {
      "cell_type": "markdown",
      "metadata": {
        "id": "nLobPtA_nXQn"
      },
      "source": [
        "Run the code below to export the clean dataframe to a CSV. We will learn more about the `to_csv()`function in future lectures.\n"
      ]
    },
    {
      "cell_type": "code",
      "execution_count": 74,
      "metadata": {
        "ExecuteTime": {
          "end_time": "2024-02-04T19:13:50.700814Z",
          "start_time": "2024-02-04T19:13:50.675223Z"
        },
        "id": "AG2F2BFZnWXY"
      },
      "outputs": [],
      "source": [
        "df_microsoft_companies_clean.to_csv(\"microsoft_companies.csv\",index=False)"
      ]
    }
  ],
  "metadata": {
    "colab": {
      "provenance": [],
      "include_colab_link": true
    },
    "kernelspec": {
      "display_name": "Python 3 (ipykernel)",
      "language": "python",
      "name": "python3"
    },
    "language_info": {
      "codemirror_mode": {
        "name": "ipython",
        "version": 3
      },
      "file_extension": ".py",
      "mimetype": "text/x-python",
      "name": "python",
      "nbconvert_exporter": "python",
      "pygments_lexer": "ipython3",
      "version": "3.10.6"
    },
    "toc": {
      "base_numbering": 1,
      "nav_menu": {},
      "number_sections": true,
      "sideBar": true,
      "skip_h1_title": false,
      "title_cell": "Table of Contents",
      "title_sidebar": "Contents",
      "toc_cell": false,
      "toc_position": {},
      "toc_section_display": true,
      "toc_window_display": false
    }
  },
  "nbformat": 4,
  "nbformat_minor": 0
}