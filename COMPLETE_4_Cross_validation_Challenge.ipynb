{
  "cells": [
    {
      "cell_type": "markdown",
      "metadata": {
        "id": "view-in-github",
        "colab_type": "text"
      },
      "source": [
        "<a href=\"https://colab.research.google.com/github/Helios109/Verylimitedtoystore/blob/main/COMPLETE_4_Cross_validation_Challenge.ipynb\" target=\"_parent\"><img src=\"https://colab.research.google.com/assets/colab-badge.svg\" alt=\"Open In Colab\"/></a>"
      ]
    },
    {
      "cell_type": "markdown",
      "source": [
        "![Emil](data:image/png;base64,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)"
      ],
      "metadata": {
        "id": "i8rXhEjLoxKB"
      },
      "id": "i8rXhEjLoxKB"
    },
    {
      "cell_type": "markdown",
      "id": "03d251b3",
      "metadata": {
        "id": "03d251b3"
      },
      "source": [
        "# Cross-validation\n",
        "\n",
        "In this challenge, you will be introduced to a new concept: **cross-validation**.\n",
        "\n",
        "Cross-validation is kind of similar to something you already know: **train-test split**.\n",
        "\n",
        "\n",
        "\n",
        "Have a look at the diagram below. The upper part represents the **train-test split** which you already know. \\\n",
        "The lower part represents **cross-validation**.\n",
        "\n",
        "![](https://wagon-public-datasets.s3.amazonaws.com/data-analytics/machine-learning/cross-validation.png)\n",
        "\n",
        "As you can see, in the classic train-test split, we split the data in two sets: **train and test**.\n",
        "\n",
        "In cross-validation, we further split the training set into *k* folds! In this case, *k* = 5. \\\n",
        "That means that 5 sub-models will be trained, and for each sub-model, 4 folds of data will be used for training and 1 fold will be used for testing. We will then compute the average test score of our sub-models, which is called a **cross-validated score**.\n",
        "\n",
        "\n",
        "This is a very robust way to test the performance of our model, as we can make sure that each part of our data will be used at some point for testing.\n"
      ]
    },
    {
      "cell_type": "markdown",
      "id": "a5c077cb",
      "metadata": {
        "id": "a5c077cb"
      },
      "source": [
        "## Import the data\n",
        "\n",
        "\n",
        "We will be reusing the NBA dataset from the Regression challenge. 🏀\n",
        "\n",
        "\n",
        "The dataset is available at this link: [https://wagon-public-datasets.s3.amazonaws.com/Machine%20Learning%20Datasets/NBA.csv](https://wagon-public-datasets.s3.amazonaws.com/Machine%20Learning%20Datasets/NBA.csv)\n",
        "\n",
        "\n",
        "Load it into a `df`variable.\n"
      ]
    },
    {
      "cell_type": "code",
      "execution_count": 4,
      "id": "f48ae3bc",
      "metadata": {
        "ExecuteTime": {
          "end_time": "2024-02-20T16:17:30.391124Z",
          "start_time": "2024-02-20T16:17:29.879120Z"
        },
        "id": "f48ae3bc",
        "colab": {
          "base_uri": "https://localhost:8080/"
        },
        "outputId": "8d70532f-aacc-41a9-e230-aedede6acb30"
      },
      "outputs": [
        {
          "output_type": "stream",
          "name": "stdout",
          "text": [
            "   season  poss    mp  do_ratio    pacing  win_rating\n",
            "0    1987  4847  2409 -1.546275 -0.599918    1.643091\n",
            "1    2017  5582  2708  0.996587  0.531888   10.808427\n",
            "2    2016  4976  2407  0.242598  0.127976    3.054773\n",
            "3    2021  1178   585 -1.343806 -1.201034    0.230004\n",
            "4    1988  4534  2056 -1.813990 -0.128997    0.905614\n"
          ]
        }
      ],
      "source": [
        "import pandas as pd\n",
        "\n",
        "url = \"https://wagon-public-datasets.s3.amazonaws.com/Machine%20Learning%20Datasets/NBA.csv\"\n",
        "df = pd.read_csv(url)\n",
        "\n",
        "print(df.head())\n",
        "\n",
        ""
      ]
    },
    {
      "cell_type": "markdown",
      "id": "14e409d0",
      "metadata": {
        "id": "14e409d0"
      },
      "source": [
        "## Define X and y\n",
        "\n",
        "Same as in the previous challenges, we need to define the features and the target.\n",
        "\n",
        "Create **X** and **y**.\n",
        "\n"
      ]
    },
    {
      "cell_type": "code",
      "execution_count": 6,
      "id": "fef8c913",
      "metadata": {
        "ExecuteTime": {
          "end_time": "2024-02-20T16:17:30.397082Z",
          "start_time": "2024-02-20T16:17:30.393509Z"
        },
        "id": "fef8c913"
      },
      "outputs": [],
      "source": [
        "import pandas as pd\n",
        "\n",
        "url = \"https://wagon-public-datasets.s3.amazonaws.com/Machine%20Learning%20Datasets/NBA.csv\"\n",
        "df = pd.read_csv(url)\n",
        "\n",
        "# Define Features (X)\n",
        "X_columns = [\"season\", \"poss\", \"mp\", \"do_ratio\", \"pacing\"]\n",
        "X = df[X_columns]\n",
        "\n",
        "# Define Target (y)\n",
        "y = df[\"win_rating\"]\n",
        "\n"
      ]
    },
    {
      "cell_type": "markdown",
      "id": "24a80fa5",
      "metadata": {
        "id": "24a80fa5"
      },
      "source": [
        "## Train-test split\n",
        "\n"
      ]
    },
    {
      "cell_type": "markdown",
      "id": "0397e158",
      "metadata": {
        "id": "0397e158"
      },
      "source": [
        "You know the drill by now, use Sklearn's `train_test_split` function to split your data into `X_train`, `X_test`, `y_train` and `y_test`."
      ]
    },
    {
      "cell_type": "code",
      "execution_count": 8,
      "id": "c14e9b27",
      "metadata": {
        "ExecuteTime": {
          "end_time": "2024-02-20T16:17:30.675758Z",
          "start_time": "2024-02-20T16:17:30.399744Z"
        },
        "id": "c14e9b27",
        "colab": {
          "base_uri": "https://localhost:8080/"
        },
        "outputId": "69792a62-afde-4fd7-a770-252ea10b8893"
      },
      "outputs": [
        {
          "output_type": "stream",
          "name": "stdout",
          "text": [
            "X_train shape: (3200, 5)\n",
            "X_test shape: (800, 5)\n",
            "y_train shape: (3200,)\n",
            "y_test shape: (800,)\n"
          ]
        }
      ],
      "source": [
        "from sklearn.model_selection import train_test_split\n",
        "\n",
        "# Split the data into training and testing sets #\n",
        "X_train, X_test, y_train, y_test = train_test_split(X, y, test_size=0.2, random_state=42)\n",
        "\n",
        "# Print the shapes of the resulting datasets #\n",
        "print(\"X_train shape:\", X_train.shape)\n",
        "print(\"X_test shape:\", X_test.shape)\n",
        "print(\"y_train shape:\", y_train.shape)\n",
        "print(\"y_test shape:\", y_test.shape)\n"
      ]
    },
    {
      "cell_type": "markdown",
      "id": "8de7dd7c",
      "metadata": {
        "id": "8de7dd7c"
      },
      "source": [
        "## Scaling the features\n",
        "\n",
        "Just like in the previous challenges we need to scale our numerical features.\n",
        "\n",
        "Import and instantiate a scaler of your choice from the **Sklearn** library. \\\n",
        "Then, scale your features and save the results in two new variables named `X_train_scaled`and `X_test_scaled`."
      ]
    },
    {
      "cell_type": "code",
      "execution_count": 10,
      "id": "4d8ff321",
      "metadata": {
        "ExecuteTime": {
          "end_time": "2024-02-20T16:17:30.680708Z",
          "start_time": "2024-02-20T16:17:30.676543Z"
        },
        "id": "4d8ff321"
      },
      "outputs": [],
      "source": [
        "from sklearn.preprocessing import StandardScaler\n",
        "\n",
        "# Instantiate the scaler #\n",
        "scaler = StandardScaler()\n",
        "\n",
        "# Fit and transform the training data #\n",
        "X_train_scaled = scaler.fit_transform(X_train)\n",
        "\n",
        "# Transform the testing data using the same scaler #\n",
        "X_test_scaled = scaler.transform(X_test)\n"
      ]
    },
    {
      "cell_type": "markdown",
      "id": "829c5ea8",
      "metadata": {
        "id": "829c5ea8"
      },
      "source": [
        "## Cross-validation"
      ]
    },
    {
      "cell_type": "markdown",
      "id": "df5be53e",
      "metadata": {
        "id": "df5be53e"
      },
      "source": [
        "Now the fun begins! 🔥\n",
        "\n",
        "Before cross-validating, we need to instantiate a model. \\\n",
        "Instantiate a **Linear Regression** model **without fitting it**.\n"
      ]
    },
    {
      "cell_type": "code",
      "execution_count": 11,
      "id": "79daca74",
      "metadata": {
        "ExecuteTime": {
          "end_time": "2024-02-20T16:17:30.705031Z",
          "start_time": "2024-02-20T16:17:30.681586Z"
        },
        "id": "79daca74",
        "colab": {
          "base_uri": "https://localhost:8080/"
        },
        "outputId": "48e9a950-1dfd-419a-ae9f-10933b0985b3"
      },
      "outputs": [
        {
          "output_type": "stream",
          "name": "stdout",
          "text": [
            "LinearRegression()\n"
          ]
        }
      ],
      "source": [
        "from sklearn.linear_model import LinearRegression\n",
        "\n",
        "# Instantiate the Linear Regression model #\n",
        "linear_reg_model = LinearRegression()\n",
        "\n",
        "# Print the model to see the default parameters #\n",
        "print(linear_reg_model)\n"
      ]
    },
    {
      "cell_type": "markdown",
      "id": "10a249d3",
      "metadata": {
        "id": "10a249d3"
      },
      "source": [
        "### 5-fold cross-validation\n"
      ]
    },
    {
      "cell_type": "markdown",
      "id": "ef111347",
      "metadata": {
        "id": "ef111347"
      },
      "source": [
        "Time to cross-validate! \\\n",
        "You will need to import the `cross_val_score` method.\n",
        "\n",
        "Run a **5-fold** cross-validation on your Linear Regression model. Store the results in a `score`variable.\n",
        "\n"
      ]
    },
    {
      "cell_type": "markdown",
      "id": "baa65c76",
      "metadata": {
        "id": "baa65c76"
      },
      "source": [
        "<details>\n",
        "    <summary>Help 😵‍💫</summary>\n",
        "    \n",
        "Here's the framework:\n",
        "\n",
        "`score = cross_val_score(estimator=your_model, X=your_features, y= your_target, cv = number_of_folds)`\n",
        "\n",
        "</details>\n"
      ]
    },
    {
      "cell_type": "code",
      "execution_count": 12,
      "id": "d36939d3",
      "metadata": {
        "ExecuteTime": {
          "end_time": "2024-02-20T16:17:30.714481Z",
          "start_time": "2024-02-20T16:17:30.706030Z"
        },
        "id": "d36939d3",
        "colab": {
          "base_uri": "https://localhost:8080/"
        },
        "outputId": "94c60f05-4e6a-49cb-ebd0-8990e5b82a15"
      },
      "outputs": [
        {
          "output_type": "stream",
          "name": "stdout",
          "text": [
            "Cross-validation scores: [0.68007992 0.64122789 0.65693981 0.62889269 0.58161533]\n"
          ]
        }
      ],
      "source": [
        "from sklearn.model_selection import cross_val_score\n",
        "\n",
        "# Perform 5-fold cross-validation #\n",
        "score = cross_val_score(estimator=linear_reg_model, X=X_train_scaled, y=y_train, cv=5)\n",
        "\n",
        "# Print the cross-validation scores #\n",
        "print(\"Cross-validation scores:\", score)\n"
      ]
    },
    {
      "cell_type": "markdown",
      "id": "472c9be7",
      "metadata": {
        "id": "472c9be7"
      },
      "source": [
        "What does it look like? \\\n",
        "If you ran the code properly, `score`should contain 5 individual R<sup>2</sup> values!\n",
        "\n"
      ]
    },
    {
      "cell_type": "markdown",
      "id": "2a08574a",
      "metadata": {
        "id": "2a08574a"
      },
      "source": [
        "---\n",
        "\n",
        "What's the mean score? Store it in a `score_five`variable.\n"
      ]
    },
    {
      "cell_type": "code",
      "execution_count": 13,
      "id": "26ea3d3d",
      "metadata": {
        "ExecuteTime": {
          "end_time": "2024-02-20T16:17:30.717970Z",
          "start_time": "2024-02-20T16:17:30.715480Z"
        },
        "id": "26ea3d3d",
        "scrolled": true,
        "colab": {
          "base_uri": "https://localhost:8080/"
        },
        "outputId": "a7f06067-a56a-4397-809d-a71f068216f9"
      },
      "outputs": [
        {
          "output_type": "stream",
          "name": "stdout",
          "text": [
            "Mean score from 5-fold cross-validation: 0.6377511292219615\n"
          ]
        }
      ],
      "source": [
        "import numpy as np\n",
        "\n",
        "# Calculate the mean score #\n",
        "score_five = np.mean(score)\n",
        "\n",
        "# Print the mean score #\n",
        "print(\"Mean score from 5-fold cross-validation:\", score_five)\n"
      ]
    },
    {
      "cell_type": "markdown",
      "id": "30dd365c",
      "metadata": {
        "id": "30dd365c"
      },
      "source": [
        "### 10-fold cross-validation\n"
      ]
    },
    {
      "cell_type": "markdown",
      "id": "c0832e86",
      "metadata": {
        "id": "c0832e86"
      },
      "source": [
        "Let's repeat the process, but this time with a **10-fold** cross-validation.\n",
        "\n",
        "What does it imply in terms of sub-models ?\n",
        "\n"
      ]
    },
    {
      "cell_type": "markdown",
      "id": "11c583d0",
      "metadata": {
        "id": "11c583d0"
      },
      "source": [
        "Performing a 10-fold cross-validation, plits the dataset into 10 subsets, and the model is trained and evaluated 10 times, each time using a different subset as the validation set. This process should provide a more robust estimate."
      ]
    },
    {
      "cell_type": "markdown",
      "id": "d87bf772",
      "metadata": {
        "id": "d87bf772"
      },
      "source": [
        "Run the cross-validation, and store the results in a `score` variable.\n"
      ]
    },
    {
      "cell_type": "code",
      "execution_count": 14,
      "id": "e02a5bac",
      "metadata": {
        "ExecuteTime": {
          "end_time": "2024-02-20T16:17:30.731530Z",
          "start_time": "2024-02-20T16:17:30.718922Z"
        },
        "id": "e02a5bac",
        "colab": {
          "base_uri": "https://localhost:8080/"
        },
        "outputId": "b8492543-441c-4695-ef69-71122bec95c6"
      },
      "outputs": [
        {
          "output_type": "stream",
          "name": "stdout",
          "text": [
            "Cross-validation scores: [0.66897565 0.69108226 0.64805502 0.63482546 0.64476102 0.67192783\n",
            " 0.65481696 0.5951113  0.54996299 0.62233556]\n"
          ]
        }
      ],
      "source": [
        "from sklearn.model_selection import cross_val_score\n",
        "\n",
        "# Perform 10-fold cross-validation #\n",
        "score_ten = cross_val_score(estimator=linear_reg_model, X=X_train_scaled, y=y_train, cv=10)\n",
        "\n",
        "# Print the cross-validation scores #\n",
        "print(\"Cross-validation scores:\", score_ten)\n",
        "\n"
      ]
    },
    {
      "cell_type": "markdown",
      "id": "a3f55d85",
      "metadata": {
        "id": "a3f55d85"
      },
      "source": [
        "`score`should now contain 10 individual R<sup>2</sup> values!\n"
      ]
    },
    {
      "cell_type": "markdown",
      "id": "aa2c9772",
      "metadata": {
        "id": "aa2c9772"
      },
      "source": [
        "---\n",
        "\n",
        "What's the mean score? Store it in a `score_ten`variable."
      ]
    },
    {
      "cell_type": "code",
      "execution_count": 15,
      "id": "fa6db12a",
      "metadata": {
        "ExecuteTime": {
          "end_time": "2024-02-20T16:17:30.736330Z",
          "start_time": "2024-02-20T16:17:30.733692Z"
        },
        "colab": {
          "base_uri": "https://localhost:8080/"
        },
        "id": "fa6db12a",
        "outputId": "239daa04-f685-4265-fe51-ae65da67c182"
      },
      "outputs": [
        {
          "output_type": "stream",
          "name": "stdout",
          "text": [
            "Mean score from 10-fold cross-validation: 0.6381854042315228\n"
          ]
        }
      ],
      "source": [
        "import numpy as np\n",
        "\n",
        "# Calculate the mean score #\n",
        "score_ten = np.mean(score_ten)\n",
        "\n",
        "# Print the mean score #\n",
        "print(\"Mean score from 10-fold cross-validation:\", score_ten)\n"
      ]
    },
    {
      "cell_type": "markdown",
      "id": "dc7b7983",
      "metadata": {
        "id": "dc7b7983"
      },
      "source": [
        "## Evaluate on the test set\n",
        "\n"
      ]
    },
    {
      "cell_type": "markdown",
      "id": "ae9ba24d",
      "metadata": {
        "id": "ae9ba24d"
      },
      "source": [
        "**IMPORTANT NOTE**\n",
        "\n",
        "Cross-validation **does not** fit the model! We will have to train our Linear Regression model before going any further.\n",
        "\n",
        "Fit the model on your train set.\n",
        "\n"
      ]
    },
    {
      "cell_type": "code",
      "execution_count": 16,
      "id": "02964b67",
      "metadata": {
        "ExecuteTime": {
          "end_time": "2024-02-20T16:17:30.742010Z",
          "start_time": "2024-02-20T16:17:30.737572Z"
        },
        "id": "02964b67",
        "colab": {
          "base_uri": "https://localhost:8080/",
          "height": 74
        },
        "outputId": "fbe8f74c-b292-440c-d1ac-22d2af78463c"
      },
      "outputs": [
        {
          "output_type": "execute_result",
          "data": {
            "text/plain": [
              "LinearRegression()"
            ],
            "text/html": [
              "<style>#sk-container-id-1 {color: black;background-color: white;}#sk-container-id-1 pre{padding: 0;}#sk-container-id-1 div.sk-toggleable {background-color: white;}#sk-container-id-1 label.sk-toggleable__label {cursor: pointer;display: block;width: 100%;margin-bottom: 0;padding: 0.3em;box-sizing: border-box;text-align: center;}#sk-container-id-1 label.sk-toggleable__label-arrow:before {content: \"▸\";float: left;margin-right: 0.25em;color: #696969;}#sk-container-id-1 label.sk-toggleable__label-arrow:hover:before {color: black;}#sk-container-id-1 div.sk-estimator:hover label.sk-toggleable__label-arrow:before {color: black;}#sk-container-id-1 div.sk-toggleable__content {max-height: 0;max-width: 0;overflow: hidden;text-align: left;background-color: #f0f8ff;}#sk-container-id-1 div.sk-toggleable__content pre {margin: 0.2em;color: black;border-radius: 0.25em;background-color: #f0f8ff;}#sk-container-id-1 input.sk-toggleable__control:checked~div.sk-toggleable__content {max-height: 200px;max-width: 100%;overflow: auto;}#sk-container-id-1 input.sk-toggleable__control:checked~label.sk-toggleable__label-arrow:before {content: \"▾\";}#sk-container-id-1 div.sk-estimator input.sk-toggleable__control:checked~label.sk-toggleable__label {background-color: #d4ebff;}#sk-container-id-1 div.sk-label input.sk-toggleable__control:checked~label.sk-toggleable__label {background-color: #d4ebff;}#sk-container-id-1 input.sk-hidden--visually {border: 0;clip: rect(1px 1px 1px 1px);clip: rect(1px, 1px, 1px, 1px);height: 1px;margin: -1px;overflow: hidden;padding: 0;position: absolute;width: 1px;}#sk-container-id-1 div.sk-estimator {font-family: monospace;background-color: #f0f8ff;border: 1px dotted black;border-radius: 0.25em;box-sizing: border-box;margin-bottom: 0.5em;}#sk-container-id-1 div.sk-estimator:hover {background-color: #d4ebff;}#sk-container-id-1 div.sk-parallel-item::after {content: \"\";width: 100%;border-bottom: 1px solid gray;flex-grow: 1;}#sk-container-id-1 div.sk-label:hover label.sk-toggleable__label {background-color: #d4ebff;}#sk-container-id-1 div.sk-serial::before {content: \"\";position: absolute;border-left: 1px solid gray;box-sizing: border-box;top: 0;bottom: 0;left: 50%;z-index: 0;}#sk-container-id-1 div.sk-serial {display: flex;flex-direction: column;align-items: center;background-color: white;padding-right: 0.2em;padding-left: 0.2em;position: relative;}#sk-container-id-1 div.sk-item {position: relative;z-index: 1;}#sk-container-id-1 div.sk-parallel {display: flex;align-items: stretch;justify-content: center;background-color: white;position: relative;}#sk-container-id-1 div.sk-item::before, #sk-container-id-1 div.sk-parallel-item::before {content: \"\";position: absolute;border-left: 1px solid gray;box-sizing: border-box;top: 0;bottom: 0;left: 50%;z-index: -1;}#sk-container-id-1 div.sk-parallel-item {display: flex;flex-direction: column;z-index: 1;position: relative;background-color: white;}#sk-container-id-1 div.sk-parallel-item:first-child::after {align-self: flex-end;width: 50%;}#sk-container-id-1 div.sk-parallel-item:last-child::after {align-self: flex-start;width: 50%;}#sk-container-id-1 div.sk-parallel-item:only-child::after {width: 0;}#sk-container-id-1 div.sk-dashed-wrapped {border: 1px dashed gray;margin: 0 0.4em 0.5em 0.4em;box-sizing: border-box;padding-bottom: 0.4em;background-color: white;}#sk-container-id-1 div.sk-label label {font-family: monospace;font-weight: bold;display: inline-block;line-height: 1.2em;}#sk-container-id-1 div.sk-label-container {text-align: center;}#sk-container-id-1 div.sk-container {/* jupyter's `normalize.less` sets `[hidden] { display: none; }` but bootstrap.min.css set `[hidden] { display: none !important; }` so we also need the `!important` here to be able to override the default hidden behavior on the sphinx rendered scikit-learn.org. See: https://github.com/scikit-learn/scikit-learn/issues/21755 */display: inline-block !important;position: relative;}#sk-container-id-1 div.sk-text-repr-fallback {display: none;}</style><div id=\"sk-container-id-1\" class=\"sk-top-container\"><div class=\"sk-text-repr-fallback\"><pre>LinearRegression()</pre><b>In a Jupyter environment, please rerun this cell to show the HTML representation or trust the notebook. <br />On GitHub, the HTML representation is unable to render, please try loading this page with nbviewer.org.</b></div><div class=\"sk-container\" hidden><div class=\"sk-item\"><div class=\"sk-estimator sk-toggleable\"><input class=\"sk-toggleable__control sk-hidden--visually\" id=\"sk-estimator-id-1\" type=\"checkbox\" checked><label for=\"sk-estimator-id-1\" class=\"sk-toggleable__label sk-toggleable__label-arrow\">LinearRegression</label><div class=\"sk-toggleable__content\"><pre>LinearRegression()</pre></div></div></div></div></div>"
            ]
          },
          "metadata": {},
          "execution_count": 16
        }
      ],
      "source": [
        "from sklearn.linear_model import LinearRegression\n",
        "\n",
        "# Instantiate the Linear Regression model #\n",
        "linear_reg_model = LinearRegression()\n",
        "\n",
        "# Fit the model on the training data #\n",
        "linear_reg_model.fit(X_train_scaled, y_train)\n",
        "\n",
        "# Once the model is fitted, it's ready for evaluation and prediction #\n",
        "\n",
        "\n"
      ]
    },
    {
      "cell_type": "markdown",
      "id": "d5b13b90",
      "metadata": {
        "id": "d5b13b90"
      },
      "source": [
        "Now score your fitted model on your test set.\n",
        "\n"
      ]
    },
    {
      "cell_type": "code",
      "execution_count": 19,
      "id": "dea68ec8",
      "metadata": {
        "ExecuteTime": {
          "end_time": "2024-02-20T16:17:30.745700Z",
          "start_time": "2024-02-20T16:17:30.742815Z"
        },
        "id": "dea68ec8",
        "scrolled": false,
        "colab": {
          "base_uri": "https://localhost:8080/"
        },
        "outputId": "15ffcfb9-79bb-4eab-9a45-24bdc99677d4"
      },
      "outputs": [
        {
          "output_type": "stream",
          "name": "stdout",
          "text": [
            "Test score (R^2): 0.6055086268473691\n",
            "Mean score from 5-fold cross-validation: 0.6377511292219615\n",
            "Mean score from 10-fold cross-validation: 0.6381854042315228\n",
            "Test score (R^2): 0.6055086268473691\n"
          ]
        }
      ],
      "source": [
        "# Score the model on the test data #\n",
        "test_score = linear_reg_model.score(X_test_scaled, y_test)\n",
        "\n",
        "# Print the test score #\n",
        "print(\"Test score (R^2):\", test_score)\n",
        "\n",
        "# Print the scores #\n",
        "print(\"Mean score from 5-fold cross-validation:\", score_five)\n",
        "print(\"Mean score from 10-fold cross-validation:\", score_ten)\n",
        "print(\"Test score (R^2):\", test_score)\n",
        "\n"
      ]
    },
    {
      "cell_type": "markdown",
      "id": "595a493d",
      "metadata": {
        "id": "595a493d"
      },
      "source": [
        "Compare the value to `score_five`and `score_ten`. The results should be in the same range!\n",
        "\n",
        "\n"
      ]
    },
    {
      "cell_type": "markdown",
      "id": "a7b94d96",
      "metadata": {
        "id": "a7b94d96"
      },
      "source": [
        "## Conclusion\n",
        "\n",
        "Cross-validation is a robust technique used to assess the performance of Machine Learning models. \\\n",
        "By partitioning the dataset into multiple sub-sets, or **folds**, and iteratively training and testing on these different combinations, cross-validation provides a more comprehensive understanding of a model's ability to generalize to new data."
      ]
    },
    {
      "cell_type": "markdown",
      "id": "052a6447",
      "metadata": {
        "id": "052a6447"
      },
      "source": [
        "Congratulations for your first day of Machine Learning! 🎉\n"
      ]
    }
  ],
  "metadata": {
    "colab": {
      "provenance": [],
      "include_colab_link": true
    },
    "kernelspec": {
      "display_name": "Python 3 (ipykernel)",
      "language": "python",
      "name": "python3"
    },
    "language_info": {
      "codemirror_mode": {
        "name": "ipython",
        "version": 3
      },
      "file_extension": ".py",
      "mimetype": "text/x-python",
      "name": "python",
      "nbconvert_exporter": "python",
      "pygments_lexer": "ipython3",
      "version": "3.10.6"
    },
    "toc": {
      "base_numbering": 1,
      "nav_menu": {},
      "number_sections": true,
      "sideBar": true,
      "skip_h1_title": false,
      "title_cell": "Table of Contents",
      "title_sidebar": "Contents",
      "toc_cell": false,
      "toc_position": {},
      "toc_section_display": true,
      "toc_window_display": false
    }
  },
  "nbformat": 4,
  "nbformat_minor": 5
}