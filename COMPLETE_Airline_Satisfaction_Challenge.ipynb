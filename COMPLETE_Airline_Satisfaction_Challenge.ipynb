{
  "cells": [
    {
      "cell_type": "markdown",
      "metadata": {
        "id": "view-in-github",
        "colab_type": "text"
      },
      "source": [
        "<a href=\"https://colab.research.google.com/github/Helios109/Verylimitedtoystore/blob/main/COMPLETE_Airline_Satisfaction_Challenge.ipynb\" target=\"_parent\"><img src=\"https://colab.research.google.com/assets/colab-badge.svg\" alt=\"Open In Colab\"/></a>"
      ]
    },
    {
      "cell_type": "markdown",
      "id": "Ml-2oN64D9qf",
      "metadata": {
        "id": "Ml-2oN64D9qf"
      },
      "source": [
        " ![Emil](data:image/png;base64,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)"
      ]
    },
    {
      "cell_type": "markdown",
      "id": "df02a1b8",
      "metadata": {
        "id": "df02a1b8"
      },
      "source": [
        "# Predicting airline satisfaction!\n"
      ]
    },
    {
      "cell_type": "markdown",
      "id": "wP942PRyJDcM",
      "metadata": {
        "id": "wP942PRyJDcM"
      },
      "source": [
        "In this exercise we are going to try another classification task and predict the satisfaction of an airline customer with their flight!\n",
        "\n",
        "Run the cell below to load the data"
      ]
    },
    {
      "cell_type": "code",
      "execution_count": 2,
      "id": "a54bb5d4",
      "metadata": {
        "ExecuteTime": {
          "end_time": "2022-11-30T23:55:12.499203Z",
          "start_time": "2022-11-30T23:55:12.462719Z"
        },
        "colab": {
          "base_uri": "https://localhost:8080/",
          "height": 394
        },
        "id": "a54bb5d4",
        "outputId": "fb3a59d9-62af-44e4-be27-b1b65d73a402"
      },
      "outputs": [
        {
          "output_type": "execute_result",
          "data": {
            "text/plain": [
              "   Unnamed: 0      id  Gender      Customer Type  Age   Type of Travel  \\\n",
              "0           0   70172    Male     Loyal Customer   13  Personal Travel   \n",
              "1           1    5047    Male  disloyal Customer   25  Business travel   \n",
              "2           2  110028  Female     Loyal Customer   26  Business travel   \n",
              "3           3   24026  Female     Loyal Customer   25  Business travel   \n",
              "4           4  119299    Male     Loyal Customer   61  Business travel   \n",
              "\n",
              "      Class  Flight Distance  Inflight wifi service  \\\n",
              "0  Eco Plus              460                      3   \n",
              "1  Business              235                      3   \n",
              "2  Business             1142                      2   \n",
              "3  Business              562                      2   \n",
              "4  Business              214                      3   \n",
              "\n",
              "   Departure/Arrival time convenient  ...  Inflight entertainment  \\\n",
              "0                                  4  ...                       5   \n",
              "1                                  2  ...                       1   \n",
              "2                                  2  ...                       5   \n",
              "3                                  5  ...                       2   \n",
              "4                                  3  ...                       3   \n",
              "\n",
              "   On-board service  Leg room service  Baggage handling  Checkin service  \\\n",
              "0                 4                 3                 4                4   \n",
              "1                 1                 5                 3                1   \n",
              "2                 4                 3                 4                4   \n",
              "3                 2                 5                 3                1   \n",
              "4                 3                 4                 4                3   \n",
              "\n",
              "   Inflight service  Cleanliness  Departure Delay in Minutes  \\\n",
              "0                 5            5                          25   \n",
              "1                 4            1                           1   \n",
              "2                 4            5                           0   \n",
              "3                 4            2                          11   \n",
              "4                 3            3                           0   \n",
              "\n",
              "   Arrival Delay in Minutes             satisfaction  \n",
              "0                      18.0  neutral or dissatisfied  \n",
              "1                       6.0  neutral or dissatisfied  \n",
              "2                       0.0                satisfied  \n",
              "3                       9.0  neutral or dissatisfied  \n",
              "4                       0.0                satisfied  \n",
              "\n",
              "[5 rows x 25 columns]"
            ],
            "text/html": [
              "\n",
              "  <div id=\"df-d787ed6d-b024-4192-9902-d237fefd6e9a\" class=\"colab-df-container\">\n",
              "    <div>\n",
              "<style scoped>\n",
              "    .dataframe tbody tr th:only-of-type {\n",
              "        vertical-align: middle;\n",
              "    }\n",
              "\n",
              "    .dataframe tbody tr th {\n",
              "        vertical-align: top;\n",
              "    }\n",
              "\n",
              "    .dataframe thead th {\n",
              "        text-align: right;\n",
              "    }\n",
              "</style>\n",
              "<table border=\"1\" class=\"dataframe\">\n",
              "  <thead>\n",
              "    <tr style=\"text-align: right;\">\n",
              "      <th></th>\n",
              "      <th>Unnamed: 0</th>\n",
              "      <th>id</th>\n",
              "      <th>Gender</th>\n",
              "      <th>Customer Type</th>\n",
              "      <th>Age</th>\n",
              "      <th>Type of Travel</th>\n",
              "      <th>Class</th>\n",
              "      <th>Flight Distance</th>\n",
              "      <th>Inflight wifi service</th>\n",
              "      <th>Departure/Arrival time convenient</th>\n",
              "      <th>...</th>\n",
              "      <th>Inflight entertainment</th>\n",
              "      <th>On-board service</th>\n",
              "      <th>Leg room service</th>\n",
              "      <th>Baggage handling</th>\n",
              "      <th>Checkin service</th>\n",
              "      <th>Inflight service</th>\n",
              "      <th>Cleanliness</th>\n",
              "      <th>Departure Delay in Minutes</th>\n",
              "      <th>Arrival Delay in Minutes</th>\n",
              "      <th>satisfaction</th>\n",
              "    </tr>\n",
              "  </thead>\n",
              "  <tbody>\n",
              "    <tr>\n",
              "      <th>0</th>\n",
              "      <td>0</td>\n",
              "      <td>70172</td>\n",
              "      <td>Male</td>\n",
              "      <td>Loyal Customer</td>\n",
              "      <td>13</td>\n",
              "      <td>Personal Travel</td>\n",
              "      <td>Eco Plus</td>\n",
              "      <td>460</td>\n",
              "      <td>3</td>\n",
              "      <td>4</td>\n",
              "      <td>...</td>\n",
              "      <td>5</td>\n",
              "      <td>4</td>\n",
              "      <td>3</td>\n",
              "      <td>4</td>\n",
              "      <td>4</td>\n",
              "      <td>5</td>\n",
              "      <td>5</td>\n",
              "      <td>25</td>\n",
              "      <td>18.0</td>\n",
              "      <td>neutral or dissatisfied</td>\n",
              "    </tr>\n",
              "    <tr>\n",
              "      <th>1</th>\n",
              "      <td>1</td>\n",
              "      <td>5047</td>\n",
              "      <td>Male</td>\n",
              "      <td>disloyal Customer</td>\n",
              "      <td>25</td>\n",
              "      <td>Business travel</td>\n",
              "      <td>Business</td>\n",
              "      <td>235</td>\n",
              "      <td>3</td>\n",
              "      <td>2</td>\n",
              "      <td>...</td>\n",
              "      <td>1</td>\n",
              "      <td>1</td>\n",
              "      <td>5</td>\n",
              "      <td>3</td>\n",
              "      <td>1</td>\n",
              "      <td>4</td>\n",
              "      <td>1</td>\n",
              "      <td>1</td>\n",
              "      <td>6.0</td>\n",
              "      <td>neutral or dissatisfied</td>\n",
              "    </tr>\n",
              "    <tr>\n",
              "      <th>2</th>\n",
              "      <td>2</td>\n",
              "      <td>110028</td>\n",
              "      <td>Female</td>\n",
              "      <td>Loyal Customer</td>\n",
              "      <td>26</td>\n",
              "      <td>Business travel</td>\n",
              "      <td>Business</td>\n",
              "      <td>1142</td>\n",
              "      <td>2</td>\n",
              "      <td>2</td>\n",
              "      <td>...</td>\n",
              "      <td>5</td>\n",
              "      <td>4</td>\n",
              "      <td>3</td>\n",
              "      <td>4</td>\n",
              "      <td>4</td>\n",
              "      <td>4</td>\n",
              "      <td>5</td>\n",
              "      <td>0</td>\n",
              "      <td>0.0</td>\n",
              "      <td>satisfied</td>\n",
              "    </tr>\n",
              "    <tr>\n",
              "      <th>3</th>\n",
              "      <td>3</td>\n",
              "      <td>24026</td>\n",
              "      <td>Female</td>\n",
              "      <td>Loyal Customer</td>\n",
              "      <td>25</td>\n",
              "      <td>Business travel</td>\n",
              "      <td>Business</td>\n",
              "      <td>562</td>\n",
              "      <td>2</td>\n",
              "      <td>5</td>\n",
              "      <td>...</td>\n",
              "      <td>2</td>\n",
              "      <td>2</td>\n",
              "      <td>5</td>\n",
              "      <td>3</td>\n",
              "      <td>1</td>\n",
              "      <td>4</td>\n",
              "      <td>2</td>\n",
              "      <td>11</td>\n",
              "      <td>9.0</td>\n",
              "      <td>neutral or dissatisfied</td>\n",
              "    </tr>\n",
              "    <tr>\n",
              "      <th>4</th>\n",
              "      <td>4</td>\n",
              "      <td>119299</td>\n",
              "      <td>Male</td>\n",
              "      <td>Loyal Customer</td>\n",
              "      <td>61</td>\n",
              "      <td>Business travel</td>\n",
              "      <td>Business</td>\n",
              "      <td>214</td>\n",
              "      <td>3</td>\n",
              "      <td>3</td>\n",
              "      <td>...</td>\n",
              "      <td>3</td>\n",
              "      <td>3</td>\n",
              "      <td>4</td>\n",
              "      <td>4</td>\n",
              "      <td>3</td>\n",
              "      <td>3</td>\n",
              "      <td>3</td>\n",
              "      <td>0</td>\n",
              "      <td>0.0</td>\n",
              "      <td>satisfied</td>\n",
              "    </tr>\n",
              "  </tbody>\n",
              "</table>\n",
              "<p>5 rows × 25 columns</p>\n",
              "</div>\n",
              "    <div class=\"colab-df-buttons\">\n",
              "\n",
              "  <div class=\"colab-df-container\">\n",
              "    <button class=\"colab-df-convert\" onclick=\"convertToInteractive('df-d787ed6d-b024-4192-9902-d237fefd6e9a')\"\n",
              "            title=\"Convert this dataframe to an interactive table.\"\n",
              "            style=\"display:none;\">\n",
              "\n",
              "  <svg xmlns=\"http://www.w3.org/2000/svg\" height=\"24px\" viewBox=\"0 -960 960 960\">\n",
              "    <path d=\"M120-120v-720h720v720H120Zm60-500h600v-160H180v160Zm220 220h160v-160H400v160Zm0 220h160v-160H400v160ZM180-400h160v-160H180v160Zm440 0h160v-160H620v160ZM180-180h160v-160H180v160Zm440 0h160v-160H620v160Z\"/>\n",
              "  </svg>\n",
              "    </button>\n",
              "\n",
              "  <style>\n",
              "    .colab-df-container {\n",
              "      display:flex;\n",
              "      gap: 12px;\n",
              "    }\n",
              "\n",
              "    .colab-df-convert {\n",
              "      background-color: #E8F0FE;\n",
              "      border: none;\n",
              "      border-radius: 50%;\n",
              "      cursor: pointer;\n",
              "      display: none;\n",
              "      fill: #1967D2;\n",
              "      height: 32px;\n",
              "      padding: 0 0 0 0;\n",
              "      width: 32px;\n",
              "    }\n",
              "\n",
              "    .colab-df-convert:hover {\n",
              "      background-color: #E2EBFA;\n",
              "      box-shadow: 0px 1px 2px rgba(60, 64, 67, 0.3), 0px 1px 3px 1px rgba(60, 64, 67, 0.15);\n",
              "      fill: #174EA6;\n",
              "    }\n",
              "\n",
              "    .colab-df-buttons div {\n",
              "      margin-bottom: 4px;\n",
              "    }\n",
              "\n",
              "    [theme=dark] .colab-df-convert {\n",
              "      background-color: #3B4455;\n",
              "      fill: #D2E3FC;\n",
              "    }\n",
              "\n",
              "    [theme=dark] .colab-df-convert:hover {\n",
              "      background-color: #434B5C;\n",
              "      box-shadow: 0px 1px 3px 1px rgba(0, 0, 0, 0.15);\n",
              "      filter: drop-shadow(0px 1px 2px rgba(0, 0, 0, 0.3));\n",
              "      fill: #FFFFFF;\n",
              "    }\n",
              "  </style>\n",
              "\n",
              "    <script>\n",
              "      const buttonEl =\n",
              "        document.querySelector('#df-d787ed6d-b024-4192-9902-d237fefd6e9a button.colab-df-convert');\n",
              "      buttonEl.style.display =\n",
              "        google.colab.kernel.accessAllowed ? 'block' : 'none';\n",
              "\n",
              "      async function convertToInteractive(key) {\n",
              "        const element = document.querySelector('#df-d787ed6d-b024-4192-9902-d237fefd6e9a');\n",
              "        const dataTable =\n",
              "          await google.colab.kernel.invokeFunction('convertToInteractive',\n",
              "                                                    [key], {});\n",
              "        if (!dataTable) return;\n",
              "\n",
              "        const docLinkHtml = 'Like what you see? Visit the ' +\n",
              "          '<a target=\"_blank\" href=https://colab.research.google.com/notebooks/data_table.ipynb>data table notebook</a>'\n",
              "          + ' to learn more about interactive tables.';\n",
              "        element.innerHTML = '';\n",
              "        dataTable['output_type'] = 'display_data';\n",
              "        await google.colab.output.renderOutput(dataTable, element);\n",
              "        const docLink = document.createElement('div');\n",
              "        docLink.innerHTML = docLinkHtml;\n",
              "        element.appendChild(docLink);\n",
              "      }\n",
              "    </script>\n",
              "  </div>\n",
              "\n",
              "\n",
              "<div id=\"df-74a00528-c331-4e1c-802e-f80e2ea807d8\">\n",
              "  <button class=\"colab-df-quickchart\" onclick=\"quickchart('df-74a00528-c331-4e1c-802e-f80e2ea807d8')\"\n",
              "            title=\"Suggest charts\"\n",
              "            style=\"display:none;\">\n",
              "\n",
              "<svg xmlns=\"http://www.w3.org/2000/svg\" height=\"24px\"viewBox=\"0 0 24 24\"\n",
              "     width=\"24px\">\n",
              "    <g>\n",
              "        <path d=\"M19 3H5c-1.1 0-2 .9-2 2v14c0 1.1.9 2 2 2h14c1.1 0 2-.9 2-2V5c0-1.1-.9-2-2-2zM9 17H7v-7h2v7zm4 0h-2V7h2v10zm4 0h-2v-4h2v4z\"/>\n",
              "    </g>\n",
              "</svg>\n",
              "  </button>\n",
              "\n",
              "<style>\n",
              "  .colab-df-quickchart {\n",
              "      --bg-color: #E8F0FE;\n",
              "      --fill-color: #1967D2;\n",
              "      --hover-bg-color: #E2EBFA;\n",
              "      --hover-fill-color: #174EA6;\n",
              "      --disabled-fill-color: #AAA;\n",
              "      --disabled-bg-color: #DDD;\n",
              "  }\n",
              "\n",
              "  [theme=dark] .colab-df-quickchart {\n",
              "      --bg-color: #3B4455;\n",
              "      --fill-color: #D2E3FC;\n",
              "      --hover-bg-color: #434B5C;\n",
              "      --hover-fill-color: #FFFFFF;\n",
              "      --disabled-bg-color: #3B4455;\n",
              "      --disabled-fill-color: #666;\n",
              "  }\n",
              "\n",
              "  .colab-df-quickchart {\n",
              "    background-color: var(--bg-color);\n",
              "    border: none;\n",
              "    border-radius: 50%;\n",
              "    cursor: pointer;\n",
              "    display: none;\n",
              "    fill: var(--fill-color);\n",
              "    height: 32px;\n",
              "    padding: 0;\n",
              "    width: 32px;\n",
              "  }\n",
              "\n",
              "  .colab-df-quickchart:hover {\n",
              "    background-color: var(--hover-bg-color);\n",
              "    box-shadow: 0 1px 2px rgba(60, 64, 67, 0.3), 0 1px 3px 1px rgba(60, 64, 67, 0.15);\n",
              "    fill: var(--button-hover-fill-color);\n",
              "  }\n",
              "\n",
              "  .colab-df-quickchart-complete:disabled,\n",
              "  .colab-df-quickchart-complete:disabled:hover {\n",
              "    background-color: var(--disabled-bg-color);\n",
              "    fill: var(--disabled-fill-color);\n",
              "    box-shadow: none;\n",
              "  }\n",
              "\n",
              "  .colab-df-spinner {\n",
              "    border: 2px solid var(--fill-color);\n",
              "    border-color: transparent;\n",
              "    border-bottom-color: var(--fill-color);\n",
              "    animation:\n",
              "      spin 1s steps(1) infinite;\n",
              "  }\n",
              "\n",
              "  @keyframes spin {\n",
              "    0% {\n",
              "      border-color: transparent;\n",
              "      border-bottom-color: var(--fill-color);\n",
              "      border-left-color: var(--fill-color);\n",
              "    }\n",
              "    20% {\n",
              "      border-color: transparent;\n",
              "      border-left-color: var(--fill-color);\n",
              "      border-top-color: var(--fill-color);\n",
              "    }\n",
              "    30% {\n",
              "      border-color: transparent;\n",
              "      border-left-color: var(--fill-color);\n",
              "      border-top-color: var(--fill-color);\n",
              "      border-right-color: var(--fill-color);\n",
              "    }\n",
              "    40% {\n",
              "      border-color: transparent;\n",
              "      border-right-color: var(--fill-color);\n",
              "      border-top-color: var(--fill-color);\n",
              "    }\n",
              "    60% {\n",
              "      border-color: transparent;\n",
              "      border-right-color: var(--fill-color);\n",
              "    }\n",
              "    80% {\n",
              "      border-color: transparent;\n",
              "      border-right-color: var(--fill-color);\n",
              "      border-bottom-color: var(--fill-color);\n",
              "    }\n",
              "    90% {\n",
              "      border-color: transparent;\n",
              "      border-bottom-color: var(--fill-color);\n",
              "    }\n",
              "  }\n",
              "</style>\n",
              "\n",
              "  <script>\n",
              "    async function quickchart(key) {\n",
              "      const quickchartButtonEl =\n",
              "        document.querySelector('#' + key + ' button');\n",
              "      quickchartButtonEl.disabled = true;  // To prevent multiple clicks.\n",
              "      quickchartButtonEl.classList.add('colab-df-spinner');\n",
              "      try {\n",
              "        const charts = await google.colab.kernel.invokeFunction(\n",
              "            'suggestCharts', [key], {});\n",
              "      } catch (error) {\n",
              "        console.error('Error during call to suggestCharts:', error);\n",
              "      }\n",
              "      quickchartButtonEl.classList.remove('colab-df-spinner');\n",
              "      quickchartButtonEl.classList.add('colab-df-quickchart-complete');\n",
              "    }\n",
              "    (() => {\n",
              "      let quickchartButtonEl =\n",
              "        document.querySelector('#df-74a00528-c331-4e1c-802e-f80e2ea807d8 button');\n",
              "      quickchartButtonEl.style.display =\n",
              "        google.colab.kernel.accessAllowed ? 'block' : 'none';\n",
              "    })();\n",
              "  </script>\n",
              "</div>\n",
              "    </div>\n",
              "  </div>\n"
            ],
            "application/vnd.google.colaboratory.intrinsic+json": {
              "type": "dataframe",
              "variable_name": "airline_df"
            }
          },
          "metadata": {},
          "execution_count": 2
        }
      ],
      "source": [
        "import pandas as pd\n",
        "\n",
        "url = \"https://wagon-public-datasets.s3.amazonaws.com/data-analytics/machine-learning/airline_satisfaction.csv\"\n",
        "\n",
        "airline_df = pd.read_csv(url)\n",
        "\n",
        "airline_df.head()"
      ]
    },
    {
      "cell_type": "markdown",
      "id": "RZWtbfW6OUbH",
      "metadata": {
        "id": "RZWtbfW6OUbH"
      },
      "source": [
        "Start by investigating the dataset\n",
        "\n",
        "- How many columns / rows do we have?\n",
        "- What are our targets / features?\n",
        "- What kind of data are our features?\n",
        "- Look at the target, what classification task are we going to be doing?\n",
        "- Do we have any missing data?"
      ]
    },
    {
      "cell_type": "code",
      "execution_count": 3,
      "id": "-MlhHsaxPDN5",
      "metadata": {
        "id": "-MlhHsaxPDN5",
        "colab": {
          "base_uri": "https://localhost:8080/"
        },
        "outputId": "0f8fdacb-02dc-4315-ea75-f7f4dee5a2a3"
      },
      "outputs": [
        {
          "output_type": "stream",
          "name": "stdout",
          "text": [
            "Unnamed: 0                             int64\n",
            "id                                     int64\n",
            "Gender                                object\n",
            "Customer Type                         object\n",
            "Age                                    int64\n",
            "Type of Travel                        object\n",
            "Class                                 object\n",
            "Flight Distance                        int64\n",
            "Inflight wifi service                  int64\n",
            "Departure/Arrival time convenient      int64\n",
            "Ease of Online booking                 int64\n",
            "Gate location                          int64\n",
            "Food and drink                         int64\n",
            "Online boarding                        int64\n",
            "Seat comfort                           int64\n",
            "Inflight entertainment                 int64\n",
            "On-board service                       int64\n",
            "Leg room service                       int64\n",
            "Baggage handling                       int64\n",
            "Checkin service                        int64\n",
            "Inflight service                       int64\n",
            "Cleanliness                            int64\n",
            "Departure Delay in Minutes             int64\n",
            "Arrival Delay in Minutes             float64\n",
            "satisfaction                          object\n",
            "dtype: object\n"
          ]
        }
      ],
      "source": [
        "# Display data types for each column #\n",
        "print(airline_df.dtypes)\n"
      ]
    },
    {
      "cell_type": "code",
      "source": [
        "# Check for missing data #\n",
        "missing_data = airline_df.isnull().sum()\n",
        "print(missing_data)\n"
      ],
      "metadata": {
        "colab": {
          "base_uri": "https://localhost:8080/"
        },
        "id": "ml_iUQ8-Uxkx",
        "outputId": "583e0c89-f701-432c-a4ea-3cb97816123d"
      },
      "id": "ml_iUQ8-Uxkx",
      "execution_count": 4,
      "outputs": [
        {
          "output_type": "stream",
          "name": "stdout",
          "text": [
            "Unnamed: 0                             0\n",
            "id                                     0\n",
            "Gender                                 0\n",
            "Customer Type                          0\n",
            "Age                                    0\n",
            "Type of Travel                         0\n",
            "Class                                  0\n",
            "Flight Distance                        0\n",
            "Inflight wifi service                  0\n",
            "Departure/Arrival time convenient      0\n",
            "Ease of Online booking                 0\n",
            "Gate location                          0\n",
            "Food and drink                         0\n",
            "Online boarding                        0\n",
            "Seat comfort                           0\n",
            "Inflight entertainment                 0\n",
            "On-board service                       0\n",
            "Leg room service                       0\n",
            "Baggage handling                       0\n",
            "Checkin service                        0\n",
            "Inflight service                       0\n",
            "Cleanliness                            0\n",
            "Departure Delay in Minutes             0\n",
            "Arrival Delay in Minutes             310\n",
            "satisfaction                           0\n",
            "dtype: int64\n"
          ]
        }
      ]
    },
    {
      "cell_type": "markdown",
      "id": "jq3c26aEPN1F",
      "metadata": {
        "id": "jq3c26aEPN1F"
      },
      "source": [
        "Our target and some of our features are not yet ready to be used in a model.\n",
        "\n",
        "Start by removing any columns that you think are unnecessary:\n",
        "\n",
        "<details>\n",
        "    <summary><i>Answer:</i></summary>\n",
        "     \n",
        "The 'Unnamed: 0' column is a hangover from excel, we can remove this.\n",
        "\n",
        "Also, the 'id' column will not provide any info that is relevant to our model so this can be removed.\n",
        "</details>       "
      ]
    },
    {
      "cell_type": "code",
      "execution_count": 5,
      "id": "-80bLE_fPvkH",
      "metadata": {
        "id": "-80bLE_fPvkH"
      },
      "outputs": [],
      "source": [
        "# Drop the 'Unnamed: 0' and 'id' columns #\n",
        "airline_df.drop(['Unnamed: 0', 'id'], axis=1, inplace=True)\n"
      ]
    },
    {
      "cell_type": "markdown",
      "id": "ZonXHsyZQD0I",
      "metadata": {
        "id": "ZonXHsyZQD0I"
      },
      "source": [
        "We have *missing data* in one of our columns! Fill in the missing values with the median value of the column\n",
        "\n",
        "<details>\n",
        "    <summary><i>Hint:</i></summary>\n",
        "     \n",
        "Remember to use the `.fillna()` method of your dataframe.\n",
        "\n",
        "You can use `.median()` method of a pandas series to get the median value\n",
        "</details>    "
      ]
    },
    {
      "cell_type": "code",
      "execution_count": 8,
      "id": "0lOvn3x4PyV1",
      "metadata": {
        "id": "0lOvn3x4PyV1",
        "colab": {
          "base_uri": "https://localhost:8080/"
        },
        "outputId": "55332294-87d8-4fd1-9230-118a6d5a2a98"
      },
      "outputs": [
        {
          "output_type": "stream",
          "name": "stdout",
          "text": [
            "   Gender      Customer Type  Age   Type of Travel     Class  Flight Distance  \\\n",
            "0    Male     Loyal Customer   13  Personal Travel  Eco Plus              460   \n",
            "1    Male  disloyal Customer   25  Business travel  Business              235   \n",
            "2  Female     Loyal Customer   26  Business travel  Business             1142   \n",
            "3  Female     Loyal Customer   25  Business travel  Business              562   \n",
            "4    Male     Loyal Customer   61  Business travel  Business              214   \n",
            "\n",
            "   Inflight wifi service  Departure/Arrival time convenient  \\\n",
            "0                      3                                  4   \n",
            "1                      3                                  2   \n",
            "2                      2                                  2   \n",
            "3                      2                                  5   \n",
            "4                      3                                  3   \n",
            "\n",
            "   Ease of Online booking  Gate location  ...  Inflight entertainment  \\\n",
            "0                       3              1  ...                       5   \n",
            "1                       3              3  ...                       1   \n",
            "2                       2              2  ...                       5   \n",
            "3                       5              5  ...                       2   \n",
            "4                       3              3  ...                       3   \n",
            "\n",
            "   On-board service  Leg room service  Baggage handling  Checkin service  \\\n",
            "0                 4                 3                 4                4   \n",
            "1                 1                 5                 3                1   \n",
            "2                 4                 3                 4                4   \n",
            "3                 2                 5                 3                1   \n",
            "4                 3                 4                 4                3   \n",
            "\n",
            "   Inflight service  Cleanliness  Departure Delay in Minutes  \\\n",
            "0                 5            5                          25   \n",
            "1                 4            1                           1   \n",
            "2                 4            5                           0   \n",
            "3                 4            2                          11   \n",
            "4                 3            3                           0   \n",
            "\n",
            "   Arrival Delay in Minutes             satisfaction  \n",
            "0                      18.0  neutral or dissatisfied  \n",
            "1                       6.0  neutral or dissatisfied  \n",
            "2                       0.0                satisfied  \n",
            "3                       9.0  neutral or dissatisfied  \n",
            "4                       0.0                satisfied  \n",
            "\n",
            "[5 rows x 23 columns]\n"
          ]
        }
      ],
      "source": [
        "# Calculate the median value of the column #\n",
        "median_arrival_delay = airline_df['Arrival Delay in Minutes'].median()\n",
        "\n",
        "# Replace missing values with the median #\n",
        "airline_df['Arrival Delay in Minutes'].fillna(median_arrival_delay, inplace=True)\n",
        "\n",
        "print(airline_df.head())\n",
        "\n"
      ]
    },
    {
      "cell_type": "markdown",
      "id": "4cd7dda9",
      "metadata": {
        "id": "4cd7dda9"
      },
      "source": [
        "Now we need to get our **target** ready!\n",
        "\n",
        "Encode the target variable below and save it as 'airline_target'"
      ]
    },
    {
      "cell_type": "code",
      "execution_count": 9,
      "id": "d75458cc",
      "metadata": {
        "id": "d75458cc",
        "colab": {
          "base_uri": "https://localhost:8080/"
        },
        "outputId": "b2fec2d1-8c9d-4a8f-8b7d-aa8ddcdaf597"
      },
      "outputs": [
        {
          "output_type": "stream",
          "name": "stdout",
          "text": [
            "[0 0 1 ... 0 0 0]\n"
          ]
        }
      ],
      "source": [
        "from sklearn.preprocessing import LabelEncoder\n",
        "\n",
        "# Initialize LabelEncoder #\n",
        "label_encoder = LabelEncoder()\n",
        "\n",
        "# Fit and transform the target variable #\n",
        "airline_target = label_encoder.fit_transform(airline_df['satisfaction'])\n",
        "\n",
        "# Check the encoded target variable #\n",
        "print(airline_target)\n"
      ]
    },
    {
      "cell_type": "markdown",
      "id": "e07732bb",
      "metadata": {
        "id": "e07732bb"
      },
      "source": [
        "We have to split our dataset now. Choose a split of 80/20."
      ]
    },
    {
      "cell_type": "code",
      "execution_count": 17,
      "id": "a832a40b",
      "metadata": {
        "id": "a832a40b",
        "colab": {
          "base_uri": "https://localhost:8080/"
        },
        "outputId": "403b7831-3698-42b3-d1e3-37ced98b4a59"
      },
      "outputs": [
        {
          "output_type": "stream",
          "name": "stdout",
          "text": [
            "Shape of X_train: (83123, 22)\n",
            "Shape of X_test: (20781, 22)\n",
            "Shape of y_train: (83123,)\n",
            "Shape of y_test: (20781,)\n"
          ]
        }
      ],
      "source": [
        "# Define features (X) and target variable (y) #\n",
        "X = airline_df.drop(columns=['satisfaction'])\n",
        "y = airline_target\n",
        "\n",
        "# Split the dataset into training and testing sets (80/20 split) #\n",
        "X_train, X_test, y_train, y_test = train_test_split(X, y, test_size=0.2, random_state=42)\n",
        "\n",
        "# Display the shapes of the resulting datasets #\n",
        "print(\"Shape of X_train:\", X_train.shape)\n",
        "print(\"Shape of X_test:\", X_test.shape)\n",
        "print(\"Shape of y_train:\", y_train.shape)\n",
        "print(\"Shape of y_test:\", y_test.shape)\n",
        "\n"
      ]
    },
    {
      "cell_type": "markdown",
      "id": "JsoR2830QmqT",
      "metadata": {
        "id": "JsoR2830QmqT"
      },
      "source": [
        "Next step is to preprocess our data.\n",
        "Let's deal with the categorical features in our dataset first.\n",
        "\n",
        "A number of these contain string labels that must be transformed into numeric values so that they can be understood by the model that we end up training.\n",
        "\n",
        "Encode the following columns `['Gender', 'Customer Type', 'Type of Travel', 'Class']` as a dataframe called 'cat_features'. Consider trying to use sklearn's `OneHotEncoder` to do this!\n",
        "\n",
        "\n",
        "<details>\n",
        "    <summary><i>Hint 1:</i></summary>\n",
        "\n",
        "Be sure to check how many labels each column has. If any columns are binary, you can use the parameter `drop='if_binary'` in your One Hot Encoder to preserve only one column if there are two labels.\n",
        "\n",
        "Remember, if there are only two labels, the two columns produced by the encoder will be the inverse of each other and hence contain the same information!\n",
        "</details>  \n",
        "\n",
        "<details>\n",
        "    <summary><i>Hint 2:</i></summary>\n",
        "\n",
        "If the output of your One Hot Encoder doesn't look right, check the 'sparse_output' parameter of your encoder.\n",
        "</details>  \n",
        "\n",
        "\n",
        "<details>\n",
        "    <summary><i>Hint 3:</i></summary>\n",
        "\n",
        "You can extract the names for your columns with the `.get_feature_names_out()` method of your One Hot Encoder.\n",
        "</details>"
      ]
    },
    {
      "cell_type": "markdown",
      "source": [
        "Aide Mommoire: To encode categorical features using OneHotEncoder, you can follow these steps:\n",
        "\n",
        "1.Select the categorical columns: ['Gender', 'Customer Type', 'Type of Travel', 'Class'].\n",
        "2.   Use OneHotEncoder to transform these categorical columns.\n",
        "3.   Use the fit_transform() method to fit the encoder to your training data and transform it.\n",
        "4.  Extract the feature names using the get_feature_names_out() method of the encoder.\n",
        "5. Create a DataFrame for the encoded categorical features using the transformed data and the extracted feature names.\n"
      ],
      "metadata": {
        "id": "OGiHlcgHaEtO"
      },
      "id": "OGiHlcgHaEtO"
    },
    {
      "cell_type": "code",
      "execution_count": 27,
      "id": "bacd3761",
      "metadata": {
        "id": "bacd3761"
      },
      "outputs": [],
      "source": [
        "from sklearn.preprocessing import OneHotEncoder\n",
        "\n",
        "# Select categorical columns #\n",
        "cat_columns = ['Gender', 'Customer Type', 'Type of Travel', 'Class']\n",
        "\n",
        "# Initialize OneHotEncoder #\n",
        "encoder = OneHotEncoder(sparse_output=False, drop='if_binary')\n",
        "\n",
        "# Fit and transform the training data #\n",
        "cat_features_encoded = encoder.fit_transform(X_train[cat_columns])\n",
        "\n",
        "# Get feature names for encoded columns #\n",
        "encoded_columns = encoder.get_feature_names_out(cat_columns)\n",
        "\n",
        "# Create DataFrame for encoded categorical features #\n",
        "cat_features = pd.DataFrame(cat_features_encoded, columns=encoded_columns)\n"
      ]
    },
    {
      "cell_type": "markdown",
      "id": "1130cfab",
      "metadata": {
        "id": "1130cfab"
      },
      "source": [
        "Next we will address the numeric features in our dataset.\n",
        "\n",
        "Create dataframes that contains the normalized numeric features.\n",
        "\n",
        "<details>\n",
        "    <summary><i>Hint 1:</i></summary>\n",
        "\n",
        "Remember that you can use `.select_dtypes()` to select only columns of a specific data type from a dataframe!\n",
        "</details>  \n"
      ]
    },
    {
      "cell_type": "markdown",
      "source": [
        "Aide Memoire:\n",
        "\n",
        "To create a dataframe containing the normalized numeric features, you can follow these steps:\n",
        "\n",
        "\n",
        "1.   Select only the numeric columns from your dataframe using the select_dtypes method.\n",
        "2.   Normalize the selected numeric columns using a scaler, such as MinMaxScaler or StandardScaler.\n",
        "3. Convert the normalized array back into a dataframe.\n",
        "4. Optionally, concatenate this dataframe with any categorical features or other dataframes.\n"
      ],
      "metadata": {
        "id": "M-5y9S0ebl15"
      },
      "id": "M-5y9S0ebl15"
    },
    {
      "cell_type": "code",
      "execution_count": 29,
      "id": "e357e260",
      "metadata": {
        "id": "e357e260",
        "colab": {
          "base_uri": "https://localhost:8080/"
        },
        "outputId": "6343592a-8c0a-4502-c2e5-648b5a11ec30"
      },
      "outputs": [
        {
          "output_type": "stream",
          "name": "stdout",
          "text": [
            "             Age  Flight Distance  Inflight wifi service  \\\n",
            "0       0.076923         0.086632                    0.6   \n",
            "1       0.230769         0.041195                    0.6   \n",
            "2       0.243590         0.224354                    0.4   \n",
            "3       0.230769         0.107229                    0.4   \n",
            "4       0.692308         0.036955                    0.6   \n",
            "...          ...              ...                    ...   \n",
            "103899  0.205128         0.032512                    0.4   \n",
            "103900  0.538462         0.467690                    0.8   \n",
            "103901  0.294872         0.396607                    0.2   \n",
            "103902  0.192308         0.195679                    0.2   \n",
            "103903  0.256410         0.341680                    0.2   \n",
            "\n",
            "        Departure/Arrival time convenient  Ease of Online booking  \\\n",
            "0                                     0.8                     0.6   \n",
            "1                                     0.4                     0.6   \n",
            "2                                     0.4                     0.4   \n",
            "3                                     1.0                     1.0   \n",
            "4                                     0.6                     0.6   \n",
            "...                                   ...                     ...   \n",
            "103899                                0.2                     0.4   \n",
            "103900                                0.8                     0.8   \n",
            "103901                                0.2                     0.2   \n",
            "103902                                0.2                     0.2   \n",
            "103903                                0.6                     0.6   \n",
            "\n",
            "        Gate location  Food and drink  Online boarding  Seat comfort  \\\n",
            "0                 0.2             1.0              0.6           1.0   \n",
            "1                 0.6             0.2              0.6           0.2   \n",
            "2                 0.4             1.0              1.0           1.0   \n",
            "3                 1.0             0.4              0.4           0.4   \n",
            "4                 0.6             0.8              1.0           1.0   \n",
            "...               ...             ...              ...           ...   \n",
            "103899            0.6             0.4              0.4           0.4   \n",
            "103900            0.8             0.4              0.8           1.0   \n",
            "103901            0.6             0.8              0.2           1.0   \n",
            "103902            1.0             0.2              0.2           0.2   \n",
            "103903            0.6             0.2              0.2           0.2   \n",
            "\n",
            "        Inflight entertainment  On-board service  Leg room service  \\\n",
            "0                          1.0               0.8               0.6   \n",
            "1                          0.2               0.2               1.0   \n",
            "2                          1.0               0.8               0.6   \n",
            "3                          0.4               0.4               1.0   \n",
            "4                          0.6               0.6               0.8   \n",
            "...                        ...               ...               ...   \n",
            "103899                     0.4               0.6               0.2   \n",
            "103900                     1.0               1.0               1.0   \n",
            "103901                     0.8               0.6               0.4   \n",
            "103902                     0.2               0.8               1.0   \n",
            "103903                     0.2               0.2               0.2   \n",
            "\n",
            "        Baggage handling  Checkin service  Inflight service  Cleanliness  \\\n",
            "0                   0.75              0.8               1.0          1.0   \n",
            "1                   0.50              0.2               0.8          0.2   \n",
            "2                   0.75              0.8               0.8          1.0   \n",
            "3                   0.50              0.2               0.8          0.4   \n",
            "4                   0.75              0.6               0.6          0.6   \n",
            "...                  ...              ...               ...          ...   \n",
            "103899              0.75              0.4               0.6          0.4   \n",
            "103900              1.00              1.0               1.0          0.8   \n",
            "103901              0.75              1.0               1.0          0.8   \n",
            "103902              0.00              1.0               0.8          0.2   \n",
            "103903              0.75              0.8               0.6          0.2   \n",
            "\n",
            "        Departure Delay in Minutes  Arrival Delay in Minutes  \n",
            "0                         0.015704                  0.011364  \n",
            "1                         0.000628                  0.003788  \n",
            "2                         0.000000                  0.000000  \n",
            "3                         0.006910                  0.005682  \n",
            "4                         0.000000                  0.000000  \n",
            "...                            ...                       ...  \n",
            "103899                    0.001884                  0.000000  \n",
            "103900                    0.000000                  0.000000  \n",
            "103901                    0.004397                  0.008838  \n",
            "103902                    0.000000                  0.000000  \n",
            "103903                    0.000000                  0.000000  \n",
            "\n",
            "[103904 rows x 18 columns]\n"
          ]
        }
      ],
      "source": [
        "from sklearn.preprocessing import MinMaxScaler\n",
        "\n",
        "# Select only numeric columns #\n",
        "numeric_features = airline_df.select_dtypes(include=['int64', 'float64'])\n",
        "\n",
        "# Initialize MinMaxScaler #\n",
        "scaler = MinMaxScaler()\n",
        "\n",
        "# Normalize numeric features #\n",
        "normalized_numeric_features = scaler.fit_transform(numeric_features)\n",
        "\n",
        "# Convert to dataframe #\n",
        "normalized_numeric_df = pd.DataFrame(normalized_numeric_features, columns=numeric_features.columns)\n",
        "\n",
        "# Display the normalized numeric dataframe #\n",
        "print(normalized_numeric_df)\n",
        "\n"
      ]
    },
    {
      "cell_type": "markdown",
      "id": "123a5c28",
      "metadata": {
        "id": "123a5c28"
      },
      "source": [
        "Now that we have processed our numeric and cateogrical features, let's combine them back into one variable called 'X_train_preprocessed' and 'X_test_preprocessed' that contains **all** of our **preprocessed features** for each train and test data.\n",
        "\n",
        "<details>\n",
        "    <summary><i>Hint 1:</i></summary>\n",
        "\n",
        "`pd.concat()` (The 'axis' parameter is important!)\n",
        "</details>  "
      ]
    },
    {
      "cell_type": "markdown",
      "source": [
        "I need to preprocess my Train data"
      ],
      "metadata": {
        "id": "K_6V9ag9jJcf"
      },
      "id": "K_6V9ag9jJcf"
    },
    {
      "cell_type": "code",
      "source": [
        "# Import necessary libraries #\n",
        "from sklearn.preprocessing import MinMaxScaler, OneHotEncoder\n",
        "\n",
        "# Select categorical columns #\n",
        "cat_columns = ['Gender', 'Customer Type', 'Type of Travel', 'Class']\n",
        "\n",
        "# Initialize OneHotEncoder #\n",
        "encoder = OneHotEncoder(sparse_output=False, drop='if_binary')\n",
        "\n",
        "# Fit and transform the testing data #\n",
        "cat_features_encoded_test = encoder.fit_transform(X_test[cat_columns])\n",
        "\n",
        "# Get feature names for encoded columns #\n",
        "encoded_columns_test = encoder.get_feature_names_out(cat_columns)\n",
        "\n",
        "# Create DataFrame for encoded categorical features #\n",
        "cat_features_test = pd.DataFrame(cat_features_encoded_test, columns=encoded_columns_test)\n",
        "\n",
        "# Select only numeric columns #\n",
        "numeric_features_test = X_test.select_dtypes(include=['int64', 'float64'])\n",
        "\n",
        "# Initialize MinMaxScaler #\n",
        "scaler = MinMaxScaler()\n",
        "\n",
        "# Normalize numeric features #\n",
        "normalized_numeric_features_test = scaler.fit_transform(numeric_features_test)\n",
        "\n",
        "# Convert to DataFrame #\n",
        "normalized_numeric_df_test = pd.DataFrame(normalized_numeric_features_test, columns=numeric_features_test.columns)\n",
        "\n",
        "# Combine preprocessed numeric and categorical features for test data #\n",
        "X_test_preprocessed = pd.concat([normalized_numeric_df_test, cat_features_test], axis=1)\n",
        "\n",
        "# Display the preprocessed testing data #\n",
        "print(\"Shape of X_test_preprocessed:\", X_test_preprocessed.shape)\n"
      ],
      "metadata": {
        "colab": {
          "base_uri": "https://localhost:8080/"
        },
        "id": "nsYfPE54jM6B",
        "outputId": "bb7bdec5-e248-409e-963f-66fa1c84606f"
      },
      "id": "nsYfPE54jM6B",
      "execution_count": 32,
      "outputs": [
        {
          "output_type": "stream",
          "name": "stdout",
          "text": [
            "Shape of X_test_preprocessed: (20781, 24)\n"
          ]
        }
      ]
    },
    {
      "cell_type": "markdown",
      "id": "48e6706a",
      "metadata": {
        "id": "48e6706a"
      },
      "source": [
        "Well done! That's our preprocessing done. It's not a super quick processes, but it is **very** important.\n",
        "\n",
        "Now, let's create our models."
      ]
    },
    {
      "cell_type": "markdown",
      "id": "755976b1",
      "metadata": {
        "id": "755976b1"
      },
      "source": [
        "We will start with a simple classifier. Train a logistic regression model on your train data. Then evaluate it's accuracy score on your test data!"
      ]
    },
    {
      "cell_type": "code",
      "execution_count": 39,
      "id": "a535a431",
      "metadata": {
        "id": "a535a431",
        "colab": {
          "base_uri": "https://localhost:8080/"
        },
        "outputId": "6e6a2b50-41a6-44d1-8d17-771a8838da31"
      },
      "outputs": [
        {
          "output_type": "stream",
          "name": "stdout",
          "text": [
            "Accuracy score on test data: 0.8250806024734132\n"
          ]
        },
        {
          "output_type": "stream",
          "name": "stderr",
          "text": [
            "/usr/local/lib/python3.10/dist-packages/sklearn/linear_model/_logistic.py:458: ConvergenceWarning: lbfgs failed to converge (status=1):\n",
            "STOP: TOTAL NO. of ITERATIONS REACHED LIMIT.\n",
            "\n",
            "Increase the number of iterations (max_iter) or scale the data as shown in:\n",
            "    https://scikit-learn.org/stable/modules/preprocessing.html\n",
            "Please also refer to the documentation for alternative solver options:\n",
            "    https://scikit-learn.org/stable/modules/linear_model.html#logistic-regression\n",
            "  n_iter_i = _check_optimize_result(\n"
          ]
        }
      ],
      "source": [
        "from sklearn.model_selection import train_test_split\n",
        "from sklearn.impute import SimpleImputer\n",
        "from sklearn.preprocessing import OneHotEncoder\n",
        "from sklearn.compose import ColumnTransformer\n",
        "from sklearn.pipeline import Pipeline\n",
        "from sklearn.linear_model import LogisticRegression\n",
        "from sklearn.metrics import accuracy_score\n",
        "\n",
        "# Define categorical and numeric columns #\n",
        "cat_columns = ['Gender', 'Customer Type', 'Type of Travel', 'Class']\n",
        "num_columns = airline_df.select_dtypes(include=['int64', 'float64']).columns\n",
        "\n",
        "# Define preprocessing steps for categorical and numeric features #\n",
        "cat_preprocessor = OneHotEncoder(drop='if_binary')\n",
        "num_preprocessor = SimpleImputer(strategy='mean')\n",
        "\n",
        "# Combine preprocessing steps for all features #\n",
        "preprocessor = ColumnTransformer([\n",
        "    ('cat', cat_preprocessor, cat_columns),\n",
        "    ('num', num_preprocessor, num_columns)\n",
        "])\n",
        "\n",
        "# Define the logistic regression model #\n",
        "logistic_regression_model = LogisticRegression()\n",
        "\n",
        "# Create a pipeline with preprocessing and modeling steps #\n",
        "pipeline = Pipeline([\n",
        "    ('preprocessor', preprocessor),\n",
        "    ('model', logistic_regression_model)\n",
        "])\n",
        "\n",
        "# Split the dataset into training and testing sets (80/20 split) #\n",
        "X_train, X_test, y_train, y_test = train_test_split(\n",
        "    X, y, test_size=0.2, random_state=42)\n",
        "\n",
        "# Fit the pipeline (preprocessing + model) on the training data #\n",
        "pipeline.fit(X_train, y_train)\n",
        "\n",
        "# Predict the target values for the test data #\n",
        "y_pred_test = pipeline.predict(X_test)\n",
        "\n",
        "# Calculate the accuracy score of the model on the test data #\n",
        "accuracy = accuracy_score(y_test, y_pred_test)\n",
        "\n",
        "# Print the accuracy score #\n",
        "print(\"Accuracy score on test data:\", accuracy)\n",
        "\n",
        "\n"
      ]
    },
    {
      "cell_type": "markdown",
      "id": "f27df0bb",
      "metadata": {
        "id": "f27df0bb"
      },
      "source": [
        "88% accuracy isn't bad, but maybe we can do better...\n",
        "\n",
        "Let's try using a more complex model on our preprocessed data. A [random forest classifier](https://scikit-learn.org/stable/modules/generated/sklearn.ensemble.RandomForestClassifier.html) might be a good alternative choice.\n",
        "\n",
        "<details>\n",
        "<summary><i>Note</i></summary>\n",
        "\n",
        "Random Forest models reduce overfitting by averaging multiple decision trees and is less sensitive to noise and outliers in the data.\n",
        "</details>\n",
        "\n",
        "Try instantiating and fitting a random forest classifier model with the same data as above and compare the accuracy scores."
      ]
    },
    {
      "cell_type": "code",
      "execution_count": 40,
      "id": "5c6fd6d7",
      "metadata": {
        "id": "5c6fd6d7",
        "colab": {
          "base_uri": "https://localhost:8080/"
        },
        "outputId": "bd69fa48-f5d7-4b26-dcfa-c95514a434d9"
      },
      "outputs": [
        {
          "output_type": "stream",
          "name": "stdout",
          "text": [
            "Accuracy score on test data (Random Forest): 0.9608296039651605\n"
          ]
        }
      ],
      "source": [
        "from sklearn.ensemble import RandomForestClassifier\n",
        "\n",
        "# Define the random forest classifier model #\n",
        "random_forest_model = RandomForestClassifier(random_state=42)\n",
        "\n",
        "# Create a new pipeline with preprocessing and the random forest model #\n",
        "random_forest_pipeline = Pipeline([\n",
        "    ('preprocessor', preprocessor),\n",
        "    ('model', random_forest_model)\n",
        "])\n",
        "\n",
        "# Fit the pipeline (preprocessing + model) on the training data #\n",
        "random_forest_pipeline.fit(X_train, y_train)\n",
        "\n",
        "# Predict the target values for the test data #\n",
        "y_pred_test_rf = random_forest_pipeline.predict(X_test)\n",
        "\n",
        "# Calculate the accuracy score of the model on the test data #\n",
        "accuracy_rf = accuracy_score(y_test, y_pred_test_rf)\n",
        "\n",
        "# Print the accuracy score #\n",
        "print(\"Accuracy score on test data (Random Forest):\", accuracy_rf)\n"
      ]
    },
    {
      "cell_type": "markdown",
      "id": "658225cf",
      "metadata": {
        "id": "658225cf"
      },
      "source": [
        "Your random forest classifier should have an **accuracy score of around 0.96**, which is a substantial improvement on the simple model we ran earlier!\n",
        "\n",
        "Certain models will peform better than other dependent on your data. Knowing which one to use intuitively is a matter of practice. For example, random forest models are good for data that is *non-linear* in nature.\n",
        "\n",
        "[Here](https://scikit-learn.org/stable/auto_examples/classification/plot_classifier_comparison.html) is a list of classifiers available on sklearn. The explanatory documentation is a fanstastic resource.\n",
        "\n",
        "*In the cell below pick one of the models in the documentation and use it to predict airline customer satisfaction!*\n",
        "\n",
        "Finally, remember that **preprocessing is integral to the analysis pipeline**. A model will only return quality output **if the input is also quality**, so expect to always spend a decent amount of time on cleaning / encoding / feature engineering!"
      ]
    },
    {
      "cell_type": "markdown",
      "source": [
        "To run the Gaussian Naive Bayes I had to use the same coding workaround as for the Logisic Regression.\n",
        "\n",
        "1.   Define Preprocessing Steps: Define preprocessing steps for both categorical and numeric features.\n",
        "2.   Combine Preprocessing Steps: Combine the preprocessing steps into a single ColumnTransformer.\n",
        "3.  Create Pipeline: Create a pipeline with preprocessing and modeling steps, using the AdaBoost classifier.\n",
        "4.  Split Data: Split the dataset into training and testing sets.\n",
        "5.  Fit Pipeline: Fit the pipeline on the training data.\n",
        "6.  Predict and Evaluate: Predict the target values for the test data and evaluate the model's accuracy.List item\n",
        "\n",
        "    \n"
      ],
      "metadata": {
        "id": "MK8K7kPzuDB7"
      },
      "id": "MK8K7kPzuDB7"
    },
    {
      "cell_type": "code",
      "execution_count": 52,
      "id": "987117e4",
      "metadata": {
        "id": "987117e4"
      },
      "outputs": [],
      "source": [
        "from sklearn.impute import SimpleImputer #\n",
        "\n",
        "# Initialize SimpleImputer #\n",
        "imputer = SimpleImputer(strategy='mean')\n",
        "\n",
        "# Fit and transform the imputer on the preprocessed training data #\n",
        "X_train_imputed = imputer.fit_transform(X_train_preprocessed)\n",
        "\n",
        "# Transform the preprocessed test data using the fitted imputer #\n",
        "X_test_imputed = imputer.transform(X_test_preprocessed)\n",
        "\n",
        "\n",
        "\n",
        "\n"
      ]
    },
    {
      "cell_type": "code",
      "source": [
        "import numpy as np\n",
        "\n",
        "# Check for NaN values in the training data #\n",
        "print(\"NaN values in training data:\")\n",
        "print(np.isnan(X_train_imputed).sum())\n",
        "\n",
        "# Check for NaN values in the test data #\n",
        "print(\"\\nNaN values in test data:\")\n",
        "print(np.isnan(X_test_imputed).sum())\n",
        "\n"
      ],
      "metadata": {
        "colab": {
          "base_uri": "https://localhost:8080/"
        },
        "id": "kxvymp6GpfDw",
        "outputId": "412fbfa5-59eb-4371-acc4-5d51f618b871"
      },
      "id": "kxvymp6GpfDw",
      "execution_count": 54,
      "outputs": [
        {
          "output_type": "stream",
          "name": "stdout",
          "text": [
            "NaN values in training data:\n",
            "0\n",
            "\n",
            "NaN values in test data:\n",
            "0\n"
          ]
        }
      ]
    },
    {
      "cell_type": "code",
      "source": [
        "import pandas as pd\n",
        "\n",
        "# Convert the numpy arrays back into pandas DataFrames #\n",
        "X_train_imputed_df = pd.DataFrame(X_train_imputed, columns=X_train_preprocessed.columns)\n",
        "X_test_imputed_df = pd.DataFrame(X_test_imputed, columns=X_test_preprocessed.columns)\n",
        "\n",
        "# Check for NaN values in the training data #\n",
        "print(\"NaN values in training data:\")\n",
        "print(X_train_imputed_df.isnull().sum())\n",
        "\n",
        "# Check for NaN values in the test data #\n",
        "print(\"\\nNaN values in test data:\")\n",
        "print(X_test_imputed_df.isnull().sum())\n"
      ],
      "metadata": {
        "colab": {
          "base_uri": "https://localhost:8080/"
        },
        "id": "-I4Uo1UvrKo1",
        "outputId": "9624eb3b-e5fe-4c26-b3d5-c73140eb5fb7"
      },
      "id": "-I4Uo1UvrKo1",
      "execution_count": 55,
      "outputs": [
        {
          "output_type": "stream",
          "name": "stdout",
          "text": [
            "NaN values in training data:\n",
            "Age                                  0\n",
            "Flight Distance                      0\n",
            "Inflight wifi service                0\n",
            "Departure/Arrival time convenient    0\n",
            "Ease of Online booking               0\n",
            "Gate location                        0\n",
            "Food and drink                       0\n",
            "Online boarding                      0\n",
            "Seat comfort                         0\n",
            "Inflight entertainment               0\n",
            "On-board service                     0\n",
            "Leg room service                     0\n",
            "Baggage handling                     0\n",
            "Checkin service                      0\n",
            "Inflight service                     0\n",
            "Cleanliness                          0\n",
            "Departure Delay in Minutes           0\n",
            "Arrival Delay in Minutes             0\n",
            "Gender_Male                          0\n",
            "Customer Type_disloyal Customer      0\n",
            "Type of Travel_Personal Travel       0\n",
            "Class_Business                       0\n",
            "Class_Eco                            0\n",
            "Class_Eco Plus                       0\n",
            "dtype: int64\n",
            "\n",
            "NaN values in test data:\n",
            "Age                                  0\n",
            "Flight Distance                      0\n",
            "Inflight wifi service                0\n",
            "Departure/Arrival time convenient    0\n",
            "Ease of Online booking               0\n",
            "Gate location                        0\n",
            "Food and drink                       0\n",
            "Online boarding                      0\n",
            "Seat comfort                         0\n",
            "Inflight entertainment               0\n",
            "On-board service                     0\n",
            "Leg room service                     0\n",
            "Baggage handling                     0\n",
            "Checkin service                      0\n",
            "Inflight service                     0\n",
            "Cleanliness                          0\n",
            "Departure Delay in Minutes           0\n",
            "Arrival Delay in Minutes             0\n",
            "Gender_Male                          0\n",
            "Customer Type_disloyal Customer      0\n",
            "Type of Travel_Personal Travel       0\n",
            "Class_Business                       0\n",
            "Class_Eco                            0\n",
            "Class_Eco Plus                       0\n",
            "dtype: int64\n"
          ]
        }
      ]
    },
    {
      "cell_type": "code",
      "source": [
        "from sklearn.model_selection import train_test_split\n",
        "from sklearn.impute import SimpleImputer\n",
        "from sklearn.preprocessing import OneHotEncoder\n",
        "from sklearn.compose import ColumnTransformer\n",
        "from sklearn.pipeline import Pipeline\n",
        "from sklearn.naive_bayes import GaussianNB\n",
        "from sklearn.metrics import accuracy_score\n",
        "\n",
        "# Define categorical and numeric columns #\n",
        "cat_columns = ['Gender', 'Customer Type', 'Type of Travel', 'Class']\n",
        "num_columns = airline_df.select_dtypes(include=['int64', 'float64']).columns\n",
        "\n",
        "# Define preprocessing steps for categorical and numeric features #\n",
        "cat_preprocessor = OneHotEncoder(drop='if_binary')\n",
        "num_preprocessor = SimpleImputer(strategy='mean')\n",
        "\n",
        "# Combine preprocessing steps for all features #\n",
        "preprocessor = ColumnTransformer([\n",
        "    ('cat', cat_preprocessor, cat_columns),\n",
        "    ('num', num_preprocessor, num_columns)\n",
        "])\n",
        "\n",
        "# Define the Gaussian Naive Bayes model #\n",
        "gnb = GaussianNB()\n",
        "\n",
        "# Create a pipeline with preprocessing and modeling steps #\n",
        "pipeline = Pipeline([\n",
        "    ('preprocessor', preprocessor),\n",
        "    ('model', gnb)\n",
        "])\n",
        "\n",
        "# Split the dataset into training and testing sets (80/20 split) #\n",
        "X_train, X_test, y_train, y_test = train_test_split(\n",
        "    X, y, test_size=0.2, random_state=42)\n",
        "\n",
        "# Fit the pipeline (preprocessing + model) on the training data #\n",
        "pipeline.fit(X_train, y_train)\n",
        "\n",
        "# Predict the target values for the test data #\n",
        "y_pred_test = pipeline.predict(X_test)\n",
        "\n",
        "# Calculate the accuracy score of the model on the test data #\n",
        "accuracy = accuracy_score(y_test, y_pred_test)\n",
        "\n",
        "# Print the accuracy score #\n",
        "print(\"Accuracy score on test data (Gaussian Naive Bayes):\", accuracy)\n",
        "\n",
        "\n"
      ],
      "metadata": {
        "colab": {
          "base_uri": "https://localhost:8080/"
        },
        "id": "UWdBEI6ErVqp",
        "outputId": "03de7010-b41e-41cf-d96a-47e1b362dd46"
      },
      "id": "UWdBEI6ErVqp",
      "execution_count": 59,
      "outputs": [
        {
          "output_type": "stream",
          "name": "stdout",
          "text": [
            "Accuracy score on test data (Gaussian Naive Bayes): 0.8496703719743997\n"
          ]
        }
      ]
    },
    {
      "cell_type": "markdown",
      "source": [
        "And for the ADA Boost."
      ],
      "metadata": {
        "id": "SYPL6oI7ulsg"
      },
      "id": "SYPL6oI7ulsg"
    },
    {
      "cell_type": "code",
      "source": [
        "from sklearn.model_selection import train_test_split\n",
        "from sklearn.impute import SimpleImputer\n",
        "from sklearn.preprocessing import OneHotEncoder\n",
        "from sklearn.compose import ColumnTransformer\n",
        "from sklearn.pipeline import Pipeline\n",
        "from sklearn.ensemble import AdaBoostClassifier\n",
        "from sklearn.metrics import accuracy_score\n",
        "\n",
        "# Define categorical and numeric columns #\n",
        "cat_columns = ['Gender', 'Customer Type', 'Type of Travel', 'Class']\n",
        "num_columns = airline_df.select_dtypes(include=['int64', 'float64']).columns\n",
        "\n",
        "# Define preprocessing steps for categorical and numeric features #\n",
        "cat_preprocessor = OneHotEncoder(drop='if_binary')\n",
        "num_preprocessor = SimpleImputer(strategy='mean')\n",
        "\n",
        "# Combine preprocessing steps for all features #\n",
        "preprocessor = ColumnTransformer([\n",
        "    ('cat', cat_preprocessor, cat_columns),\n",
        "    ('num', num_preprocessor, num_columns)\n",
        "])\n",
        "\n",
        "# Define the AdaBoost classifier #\n",
        "adaboost = AdaBoostClassifier()\n",
        "\n",
        "# Create a pipeline with preprocessing and modeling steps #\n",
        "pipeline = Pipeline([\n",
        "    ('preprocessor', preprocessor),\n",
        "    ('model', adaboost)\n",
        "])\n",
        "\n",
        "# Split the dataset into training and testing sets (80/20 split) #\n",
        "X_train, X_test, y_train, y_test = train_test_split(\n",
        "    X, y, test_size=0.2, random_state=42)\n",
        "\n",
        "# Fit the pipeline (preprocessing + model) on the training data #\n",
        "pipeline.fit(X_train, y_train)\n",
        "\n",
        "# Predict the target values for the test data #\n",
        "y_pred_test = pipeline.predict(X_test)\n",
        "\n",
        "# Calculate the accuracy score of the model on the test data #\n",
        "accuracy = accuracy_score(y_test, y_pred_test)\n",
        "\n",
        "# Print the accuracy score #\n",
        "print(\"Accuracy score on test data (AdaBoost):\", accuracy)\n"
      ],
      "metadata": {
        "colab": {
          "base_uri": "https://localhost:8080/"
        },
        "id": "jXirOOdJt6J0",
        "outputId": "8714821d-80c9-4615-a700-a150fd13e014"
      },
      "id": "jXirOOdJt6J0",
      "execution_count": 60,
      "outputs": [
        {
          "output_type": "stream",
          "name": "stdout",
          "text": [
            "Accuracy score on test data (AdaBoost): 0.927529955247582\n"
          ]
        }
      ]
    },
    {
      "cell_type": "markdown",
      "source": [
        "And for the Decision Tree"
      ],
      "metadata": {
        "id": "xOrwsiWovEwO"
      },
      "id": "xOrwsiWovEwO"
    },
    {
      "cell_type": "code",
      "source": [
        "from sklearn.model_selection import train_test_split\n",
        "from sklearn.impute import SimpleImputer\n",
        "from sklearn.preprocessing import OneHotEncoder\n",
        "from sklearn.compose import ColumnTransformer\n",
        "from sklearn.pipeline import Pipeline\n",
        "from sklearn.tree import DecisionTreeClassifier\n",
        "from sklearn.metrics import accuracy_score\n",
        "\n",
        "# Define categorical and numeric columns #\n",
        "cat_columns = ['Gender', 'Customer Type', 'Type of Travel', 'Class']\n",
        "num_columns = airline_df.select_dtypes(include=['int64', 'float64']).columns\n",
        "\n",
        "# Define preprocessing steps for categorical and numeric features #\n",
        "cat_preprocessor = OneHotEncoder(drop='if_binary')\n",
        "num_preprocessor = SimpleImputer(strategy='mean')\n",
        "\n",
        "# Combine preprocessing steps for all features #\n",
        "preprocessor = ColumnTransformer([\n",
        "    ('cat', cat_preprocessor, cat_columns),\n",
        "    ('num', num_preprocessor, num_columns)\n",
        "])\n",
        "\n",
        "# Define the Decision Tree classifier #\n",
        "decision_tree = DecisionTreeClassifier()\n",
        "\n",
        "# Create a pipeline with preprocessing and modeling steps #\n",
        "pipeline = Pipeline([\n",
        "    ('preprocessor', preprocessor),\n",
        "    ('model', decision_tree)\n",
        "])\n",
        "\n",
        "# Split the dataset into training and testing sets (80/20 split) #\n",
        "X_train, X_test, y_train, y_test = train_test_split(\n",
        "    X, y, test_size=0.2, random_state=42)\n",
        "\n",
        "# Fit the pipeline (preprocessing + model) on the training data #\n",
        "pipeline.fit(X_train, y_train)\n",
        "\n",
        "# Predict the target values for the test data #\n",
        "y_pred_test = pipeline.predict(X_test)\n",
        "\n",
        "# Calculate the accuracy score of the model on the test data #\n",
        "accuracy = accuracy_score(y_test, y_pred_test)\n",
        "\n",
        "# Print the accuracy score #\n",
        "print(\"Accuracy score on test data (Decision Tree):\", accuracy)\n"
      ],
      "metadata": {
        "colab": {
          "base_uri": "https://localhost:8080/"
        },
        "id": "1sdTeg8Su7r3",
        "outputId": "1d8a2fcc-d390-4636-ee0c-bbda22c4715e"
      },
      "id": "1sdTeg8Su7r3",
      "execution_count": 61,
      "outputs": [
        {
          "output_type": "stream",
          "name": "stdout",
          "text": [
            "Accuracy score on test data (Decision Tree): 0.9469707906260526\n"
          ]
        }
      ]
    },
    {
      "cell_type": "markdown",
      "source": [
        "And for the Support Vector Machines (SVM)"
      ],
      "metadata": {
        "id": "TL8J_eUtvxrA"
      },
      "id": "TL8J_eUtvxrA"
    },
    {
      "cell_type": "code",
      "source": [
        "from sklearn.svm import SVC\n",
        "from sklearn.model_selection import train_test_split\n",
        "from sklearn.preprocessing import StandardScaler\n",
        "from sklearn.impute import SimpleImputer\n",
        "from sklearn.preprocessing import OneHotEncoder\n",
        "from sklearn.compose import ColumnTransformer\n",
        "from sklearn.pipeline import Pipeline\n",
        "from sklearn.metrics import accuracy_score\n",
        "\n",
        "# Define categorical and numerical columns\n",
        "cat_columns = ['Gender', 'Customer Type', 'Type of Travel', 'Class']\n",
        "num_columns = airline_df.select_dtypes(include=['int64', 'float64']).columns\n",
        "\n",
        "# Define preprocessing steps for categorical and numerical features\n",
        "cat_preprocessor = OneHotEncoder(drop='if_binary')\n",
        "num_preprocessor = SimpleImputer(strategy='mean')\n",
        "\n",
        "# Combine preprocessing steps for all features\n",
        "preprocessor = ColumnTransformer([\n",
        "    ('cat', cat_preprocessor, cat_columns),\n",
        "    ('num', num_preprocessor, num_columns)\n",
        "])\n",
        "\n",
        "# Initialize the SVM classifier\n",
        "svm_classifier = SVC()\n",
        "\n",
        "# Create a pipeline with preprocessing and the SVM classifier\n",
        "pipeline = Pipeline([\n",
        "    ('preprocessor', preprocessor),\n",
        "    ('model', svm_classifier)\n",
        "])\n",
        "\n",
        "# Split the dataset into training and testing sets\n",
        "X_train, X_test, y_train, y_test = train_test_split(\n",
        "    X, y, test_size=0.2, random_state=42)\n",
        "\n",
        "# Fit the pipeline (preprocessing + model) on the training data\n",
        "pipeline.fit(X_train, y_train)\n",
        "\n",
        "# Predict the target values for the test data\n",
        "y_pred_test = pipeline.predict(X_test)\n",
        "\n",
        "# Calculate the accuracy score of the model on the test data\n",
        "accuracy = accuracy_score(y_test, y_pred_test)\n",
        "\n",
        "# Print the accuracy score\n",
        "print(\"Accuracy score on test data (SVM):\", accuracy)\n"
      ],
      "metadata": {
        "colab": {
          "base_uri": "https://localhost:8080/"
        },
        "id": "-26EvCUWv0i1",
        "outputId": "28d9bb86-bd31-4db0-d110-b431f2fc29f3"
      },
      "id": "-26EvCUWv0i1",
      "execution_count": 63,
      "outputs": [
        {
          "output_type": "stream",
          "name": "stdout",
          "text": [
            "Accuracy score on test data (SVM): 0.668880227130552\n"
          ]
        }
      ]
    }
  ],
  "metadata": {
    "colab": {
      "provenance": [],
      "include_colab_link": true
    },
    "kernelspec": {
      "display_name": "Python 3 (ipykernel)",
      "language": "python",
      "name": "python3"
    },
    "language_info": {
      "codemirror_mode": {
        "name": "ipython",
        "version": 3
      },
      "file_extension": ".py",
      "mimetype": "text/x-python",
      "name": "python",
      "nbconvert_exporter": "python",
      "pygments_lexer": "ipython3",
      "version": "3.10.6"
    },
    "toc": {
      "base_numbering": 1,
      "nav_menu": {},
      "number_sections": true,
      "sideBar": true,
      "skip_h1_title": false,
      "title_cell": "Table of Contents",
      "title_sidebar": "Contents",
      "toc_cell": false,
      "toc_position": {},
      "toc_section_display": true,
      "toc_window_display": true
    },
    "varInspector": {
      "cols": {
        "lenName": 16,
        "lenType": 16,
        "lenVar": 40
      },
      "kernels_config": {
        "python": {
          "delete_cmd_postfix": "",
          "delete_cmd_prefix": "del ",
          "library": "var_list.py",
          "varRefreshCmd": "print(var_dic_list())"
        },
        "r": {
          "delete_cmd_postfix": ") ",
          "delete_cmd_prefix": "rm(",
          "library": "var_list.r",
          "varRefreshCmd": "cat(var_dic_list()) "
        }
      },
      "types_to_exclude": [
        "module",
        "function",
        "builtin_function_or_method",
        "instance",
        "_Feature"
      ],
      "window_display": false
    }
  },
  "nbformat": 4,
  "nbformat_minor": 5
}