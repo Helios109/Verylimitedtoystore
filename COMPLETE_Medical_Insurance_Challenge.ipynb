{
  "cells": [
    {
      "cell_type": "markdown",
      "metadata": {
        "id": "view-in-github",
        "colab_type": "text"
      },
      "source": [
        "<a href=\"https://colab.research.google.com/github/Helios109/Verylimitedtoystore/blob/main/COMPLETE_Medical_Insurance_Challenge.ipynb\" target=\"_parent\"><img src=\"https://colab.research.google.com/assets/colab-badge.svg\" alt=\"Open In Colab\"/></a>"
      ]
    },
    {
      "cell_type": "markdown",
      "source": [
        "![Emil](data:image/png;base64,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)"
      ],
      "metadata": {
        "id": "MkgnPwxvMC3a"
      },
      "id": "MkgnPwxvMC3a"
    },
    {
      "cell_type": "markdown",
      "id": "37640f2f",
      "metadata": {
        "id": "37640f2f"
      },
      "source": [
        "# Non-linear model\n",
        "\n",
        "In the following challenge, we'll try to predict medical insurance charges based on certain factors!\n",
        "\n",
        "While we're sure you find that premise interesting, the important part of this challenge is not the data, it's the modelling! We'll try to implement some **new** models that we haven't seen before.\n",
        "\n",
        "Remember one thing: the goal of this challenge is not to give you an understanding of the mathematical intricacies of these models - that's the job of a data scientist. However, we want to show you just how easy these models are to code and how friendly the SKLearn Library is!"
      ]
    },
    {
      "cell_type": "markdown",
      "id": "3edd9965",
      "metadata": {
        "id": "3edd9965"
      },
      "source": [
        "## Import the data\n",
        "\n",
        "Go to [this](https://www.kaggle.com/datasets/mirichoi0218/insurance) link and download the medical insurance charges dataset. Load it into a dataframe!"
      ]
    },
    {
      "cell_type": "code",
      "execution_count": 13,
      "id": "c945806e",
      "metadata": {
        "id": "c945806e",
        "colab": {
          "base_uri": "https://localhost:8080/",
          "height": 417
        },
        "outputId": "2ebdaba9-8dba-438a-fbbc-790e402abce5"
      },
      "outputs": [
        {
          "output_type": "stream",
          "name": "stdout",
          "text": [
            "Requirement already satisfied: gdown in /usr/local/lib/python3.10/dist-packages (5.1.0)\n",
            "Requirement already satisfied: beautifulsoup4 in /usr/local/lib/python3.10/dist-packages (from gdown) (4.12.3)\n",
            "Requirement already satisfied: filelock in /usr/local/lib/python3.10/dist-packages (from gdown) (3.14.0)\n",
            "Requirement already satisfied: requests[socks] in /usr/local/lib/python3.10/dist-packages (from gdown) (2.31.0)\n",
            "Requirement already satisfied: tqdm in /usr/local/lib/python3.10/dist-packages (from gdown) (4.66.2)\n",
            "Requirement already satisfied: soupsieve>1.2 in /usr/local/lib/python3.10/dist-packages (from beautifulsoup4->gdown) (2.5)\n",
            "Requirement already satisfied: charset-normalizer<4,>=2 in /usr/local/lib/python3.10/dist-packages (from requests[socks]->gdown) (3.3.2)\n",
            "Requirement already satisfied: idna<4,>=2.5 in /usr/local/lib/python3.10/dist-packages (from requests[socks]->gdown) (3.7)\n",
            "Requirement already satisfied: urllib3<3,>=1.21.1 in /usr/local/lib/python3.10/dist-packages (from requests[socks]->gdown) (2.0.7)\n",
            "Requirement already satisfied: certifi>=2017.4.17 in /usr/local/lib/python3.10/dist-packages (from requests[socks]->gdown) (2024.2.2)\n",
            "Requirement already satisfied: PySocks!=1.5.7,>=1.5.6 in /usr/local/lib/python3.10/dist-packages (from requests[socks]->gdown) (1.7.1)\n"
          ]
        },
        {
          "output_type": "execute_result",
          "data": {
            "text/plain": [
              "   age     sex     bmi  children smoker     region      charges\n",
              "0   19  female  27.900         0    yes  southwest  16884.92400\n",
              "1   18    male  33.770         1     no  southeast   1725.55230\n",
              "2   28    male  33.000         3     no  southeast   4449.46200\n",
              "3   33    male  22.705         0     no  northwest  21984.47061\n",
              "4   32    male  28.880         0     no  northwest   3866.85520"
            ],
            "text/html": [
              "\n",
              "  <div id=\"df-f5e61739-069d-4a21-b407-c6d9e29ac493\" class=\"colab-df-container\">\n",
              "    <div>\n",
              "<style scoped>\n",
              "    .dataframe tbody tr th:only-of-type {\n",
              "        vertical-align: middle;\n",
              "    }\n",
              "\n",
              "    .dataframe tbody tr th {\n",
              "        vertical-align: top;\n",
              "    }\n",
              "\n",
              "    .dataframe thead th {\n",
              "        text-align: right;\n",
              "    }\n",
              "</style>\n",
              "<table border=\"1\" class=\"dataframe\">\n",
              "  <thead>\n",
              "    <tr style=\"text-align: right;\">\n",
              "      <th></th>\n",
              "      <th>age</th>\n",
              "      <th>sex</th>\n",
              "      <th>bmi</th>\n",
              "      <th>children</th>\n",
              "      <th>smoker</th>\n",
              "      <th>region</th>\n",
              "      <th>charges</th>\n",
              "    </tr>\n",
              "  </thead>\n",
              "  <tbody>\n",
              "    <tr>\n",
              "      <th>0</th>\n",
              "      <td>19</td>\n",
              "      <td>female</td>\n",
              "      <td>27.900</td>\n",
              "      <td>0</td>\n",
              "      <td>yes</td>\n",
              "      <td>southwest</td>\n",
              "      <td>16884.92400</td>\n",
              "    </tr>\n",
              "    <tr>\n",
              "      <th>1</th>\n",
              "      <td>18</td>\n",
              "      <td>male</td>\n",
              "      <td>33.770</td>\n",
              "      <td>1</td>\n",
              "      <td>no</td>\n",
              "      <td>southeast</td>\n",
              "      <td>1725.55230</td>\n",
              "    </tr>\n",
              "    <tr>\n",
              "      <th>2</th>\n",
              "      <td>28</td>\n",
              "      <td>male</td>\n",
              "      <td>33.000</td>\n",
              "      <td>3</td>\n",
              "      <td>no</td>\n",
              "      <td>southeast</td>\n",
              "      <td>4449.46200</td>\n",
              "    </tr>\n",
              "    <tr>\n",
              "      <th>3</th>\n",
              "      <td>33</td>\n",
              "      <td>male</td>\n",
              "      <td>22.705</td>\n",
              "      <td>0</td>\n",
              "      <td>no</td>\n",
              "      <td>northwest</td>\n",
              "      <td>21984.47061</td>\n",
              "    </tr>\n",
              "    <tr>\n",
              "      <th>4</th>\n",
              "      <td>32</td>\n",
              "      <td>male</td>\n",
              "      <td>28.880</td>\n",
              "      <td>0</td>\n",
              "      <td>no</td>\n",
              "      <td>northwest</td>\n",
              "      <td>3866.85520</td>\n",
              "    </tr>\n",
              "  </tbody>\n",
              "</table>\n",
              "</div>\n",
              "    <div class=\"colab-df-buttons\">\n",
              "\n",
              "  <div class=\"colab-df-container\">\n",
              "    <button class=\"colab-df-convert\" onclick=\"convertToInteractive('df-f5e61739-069d-4a21-b407-c6d9e29ac493')\"\n",
              "            title=\"Convert this dataframe to an interactive table.\"\n",
              "            style=\"display:none;\">\n",
              "\n",
              "  <svg xmlns=\"http://www.w3.org/2000/svg\" height=\"24px\" viewBox=\"0 -960 960 960\">\n",
              "    <path d=\"M120-120v-720h720v720H120Zm60-500h600v-160H180v160Zm220 220h160v-160H400v160Zm0 220h160v-160H400v160ZM180-400h160v-160H180v160Zm440 0h160v-160H620v160ZM180-180h160v-160H180v160Zm440 0h160v-160H620v160Z\"/>\n",
              "  </svg>\n",
              "    </button>\n",
              "\n",
              "  <style>\n",
              "    .colab-df-container {\n",
              "      display:flex;\n",
              "      gap: 12px;\n",
              "    }\n",
              "\n",
              "    .colab-df-convert {\n",
              "      background-color: #E8F0FE;\n",
              "      border: none;\n",
              "      border-radius: 50%;\n",
              "      cursor: pointer;\n",
              "      display: none;\n",
              "      fill: #1967D2;\n",
              "      height: 32px;\n",
              "      padding: 0 0 0 0;\n",
              "      width: 32px;\n",
              "    }\n",
              "\n",
              "    .colab-df-convert:hover {\n",
              "      background-color: #E2EBFA;\n",
              "      box-shadow: 0px 1px 2px rgba(60, 64, 67, 0.3), 0px 1px 3px 1px rgba(60, 64, 67, 0.15);\n",
              "      fill: #174EA6;\n",
              "    }\n",
              "\n",
              "    .colab-df-buttons div {\n",
              "      margin-bottom: 4px;\n",
              "    }\n",
              "\n",
              "    [theme=dark] .colab-df-convert {\n",
              "      background-color: #3B4455;\n",
              "      fill: #D2E3FC;\n",
              "    }\n",
              "\n",
              "    [theme=dark] .colab-df-convert:hover {\n",
              "      background-color: #434B5C;\n",
              "      box-shadow: 0px 1px 3px 1px rgba(0, 0, 0, 0.15);\n",
              "      filter: drop-shadow(0px 1px 2px rgba(0, 0, 0, 0.3));\n",
              "      fill: #FFFFFF;\n",
              "    }\n",
              "  </style>\n",
              "\n",
              "    <script>\n",
              "      const buttonEl =\n",
              "        document.querySelector('#df-f5e61739-069d-4a21-b407-c6d9e29ac493 button.colab-df-convert');\n",
              "      buttonEl.style.display =\n",
              "        google.colab.kernel.accessAllowed ? 'block' : 'none';\n",
              "\n",
              "      async function convertToInteractive(key) {\n",
              "        const element = document.querySelector('#df-f5e61739-069d-4a21-b407-c6d9e29ac493');\n",
              "        const dataTable =\n",
              "          await google.colab.kernel.invokeFunction('convertToInteractive',\n",
              "                                                    [key], {});\n",
              "        if (!dataTable) return;\n",
              "\n",
              "        const docLinkHtml = 'Like what you see? Visit the ' +\n",
              "          '<a target=\"_blank\" href=https://colab.research.google.com/notebooks/data_table.ipynb>data table notebook</a>'\n",
              "          + ' to learn more about interactive tables.';\n",
              "        element.innerHTML = '';\n",
              "        dataTable['output_type'] = 'display_data';\n",
              "        await google.colab.output.renderOutput(dataTable, element);\n",
              "        const docLink = document.createElement('div');\n",
              "        docLink.innerHTML = docLinkHtml;\n",
              "        element.appendChild(docLink);\n",
              "      }\n",
              "    </script>\n",
              "  </div>\n",
              "\n",
              "\n",
              "<div id=\"df-3f59048e-3486-4e4c-a2b8-d766f870468a\">\n",
              "  <button class=\"colab-df-quickchart\" onclick=\"quickchart('df-3f59048e-3486-4e4c-a2b8-d766f870468a')\"\n",
              "            title=\"Suggest charts\"\n",
              "            style=\"display:none;\">\n",
              "\n",
              "<svg xmlns=\"http://www.w3.org/2000/svg\" height=\"24px\"viewBox=\"0 0 24 24\"\n",
              "     width=\"24px\">\n",
              "    <g>\n",
              "        <path d=\"M19 3H5c-1.1 0-2 .9-2 2v14c0 1.1.9 2 2 2h14c1.1 0 2-.9 2-2V5c0-1.1-.9-2-2-2zM9 17H7v-7h2v7zm4 0h-2V7h2v10zm4 0h-2v-4h2v4z\"/>\n",
              "    </g>\n",
              "</svg>\n",
              "  </button>\n",
              "\n",
              "<style>\n",
              "  .colab-df-quickchart {\n",
              "      --bg-color: #E8F0FE;\n",
              "      --fill-color: #1967D2;\n",
              "      --hover-bg-color: #E2EBFA;\n",
              "      --hover-fill-color: #174EA6;\n",
              "      --disabled-fill-color: #AAA;\n",
              "      --disabled-bg-color: #DDD;\n",
              "  }\n",
              "\n",
              "  [theme=dark] .colab-df-quickchart {\n",
              "      --bg-color: #3B4455;\n",
              "      --fill-color: #D2E3FC;\n",
              "      --hover-bg-color: #434B5C;\n",
              "      --hover-fill-color: #FFFFFF;\n",
              "      --disabled-bg-color: #3B4455;\n",
              "      --disabled-fill-color: #666;\n",
              "  }\n",
              "\n",
              "  .colab-df-quickchart {\n",
              "    background-color: var(--bg-color);\n",
              "    border: none;\n",
              "    border-radius: 50%;\n",
              "    cursor: pointer;\n",
              "    display: none;\n",
              "    fill: var(--fill-color);\n",
              "    height: 32px;\n",
              "    padding: 0;\n",
              "    width: 32px;\n",
              "  }\n",
              "\n",
              "  .colab-df-quickchart:hover {\n",
              "    background-color: var(--hover-bg-color);\n",
              "    box-shadow: 0 1px 2px rgba(60, 64, 67, 0.3), 0 1px 3px 1px rgba(60, 64, 67, 0.15);\n",
              "    fill: var(--button-hover-fill-color);\n",
              "  }\n",
              "\n",
              "  .colab-df-quickchart-complete:disabled,\n",
              "  .colab-df-quickchart-complete:disabled:hover {\n",
              "    background-color: var(--disabled-bg-color);\n",
              "    fill: var(--disabled-fill-color);\n",
              "    box-shadow: none;\n",
              "  }\n",
              "\n",
              "  .colab-df-spinner {\n",
              "    border: 2px solid var(--fill-color);\n",
              "    border-color: transparent;\n",
              "    border-bottom-color: var(--fill-color);\n",
              "    animation:\n",
              "      spin 1s steps(1) infinite;\n",
              "  }\n",
              "\n",
              "  @keyframes spin {\n",
              "    0% {\n",
              "      border-color: transparent;\n",
              "      border-bottom-color: var(--fill-color);\n",
              "      border-left-color: var(--fill-color);\n",
              "    }\n",
              "    20% {\n",
              "      border-color: transparent;\n",
              "      border-left-color: var(--fill-color);\n",
              "      border-top-color: var(--fill-color);\n",
              "    }\n",
              "    30% {\n",
              "      border-color: transparent;\n",
              "      border-left-color: var(--fill-color);\n",
              "      border-top-color: var(--fill-color);\n",
              "      border-right-color: var(--fill-color);\n",
              "    }\n",
              "    40% {\n",
              "      border-color: transparent;\n",
              "      border-right-color: var(--fill-color);\n",
              "      border-top-color: var(--fill-color);\n",
              "    }\n",
              "    60% {\n",
              "      border-color: transparent;\n",
              "      border-right-color: var(--fill-color);\n",
              "    }\n",
              "    80% {\n",
              "      border-color: transparent;\n",
              "      border-right-color: var(--fill-color);\n",
              "      border-bottom-color: var(--fill-color);\n",
              "    }\n",
              "    90% {\n",
              "      border-color: transparent;\n",
              "      border-bottom-color: var(--fill-color);\n",
              "    }\n",
              "  }\n",
              "</style>\n",
              "\n",
              "  <script>\n",
              "    async function quickchart(key) {\n",
              "      const quickchartButtonEl =\n",
              "        document.querySelector('#' + key + ' button');\n",
              "      quickchartButtonEl.disabled = true;  // To prevent multiple clicks.\n",
              "      quickchartButtonEl.classList.add('colab-df-spinner');\n",
              "      try {\n",
              "        const charts = await google.colab.kernel.invokeFunction(\n",
              "            'suggestCharts', [key], {});\n",
              "      } catch (error) {\n",
              "        console.error('Error during call to suggestCharts:', error);\n",
              "      }\n",
              "      quickchartButtonEl.classList.remove('colab-df-spinner');\n",
              "      quickchartButtonEl.classList.add('colab-df-quickchart-complete');\n",
              "    }\n",
              "    (() => {\n",
              "      let quickchartButtonEl =\n",
              "        document.querySelector('#df-3f59048e-3486-4e4c-a2b8-d766f870468a button');\n",
              "      quickchartButtonEl.style.display =\n",
              "        google.colab.kernel.accessAllowed ? 'block' : 'none';\n",
              "    })();\n",
              "  </script>\n",
              "</div>\n",
              "    </div>\n",
              "  </div>\n"
            ],
            "application/vnd.google.colaboratory.intrinsic+json": {
              "type": "dataframe",
              "variable_name": "insurance_df",
              "summary": "{\n  \"name\": \"insurance_df\",\n  \"rows\": 1338,\n  \"fields\": [\n    {\n      \"column\": \"age\",\n      \"properties\": {\n        \"dtype\": \"number\",\n        \"std\": 14,\n        \"min\": 18,\n        \"max\": 64,\n        \"num_unique_values\": 47,\n        \"samples\": [\n          21,\n          45,\n          36\n        ],\n        \"semantic_type\": \"\",\n        \"description\": \"\"\n      }\n    },\n    {\n      \"column\": \"sex\",\n      \"properties\": {\n        \"dtype\": \"category\",\n        \"num_unique_values\": 2,\n        \"samples\": [\n          \"male\",\n          \"female\"\n        ],\n        \"semantic_type\": \"\",\n        \"description\": \"\"\n      }\n    },\n    {\n      \"column\": \"bmi\",\n      \"properties\": {\n        \"dtype\": \"number\",\n        \"std\": 6.098186911679014,\n        \"min\": 15.96,\n        \"max\": 53.13,\n        \"num_unique_values\": 548,\n        \"samples\": [\n          23.18,\n          26.885\n        ],\n        \"semantic_type\": \"\",\n        \"description\": \"\"\n      }\n    },\n    {\n      \"column\": \"children\",\n      \"properties\": {\n        \"dtype\": \"number\",\n        \"std\": 1,\n        \"min\": 0,\n        \"max\": 5,\n        \"num_unique_values\": 6,\n        \"samples\": [\n          0,\n          1\n        ],\n        \"semantic_type\": \"\",\n        \"description\": \"\"\n      }\n    },\n    {\n      \"column\": \"smoker\",\n      \"properties\": {\n        \"dtype\": \"category\",\n        \"num_unique_values\": 2,\n        \"samples\": [\n          \"no\",\n          \"yes\"\n        ],\n        \"semantic_type\": \"\",\n        \"description\": \"\"\n      }\n    },\n    {\n      \"column\": \"region\",\n      \"properties\": {\n        \"dtype\": \"category\",\n        \"num_unique_values\": 4,\n        \"samples\": [\n          \"southeast\",\n          \"northeast\"\n        ],\n        \"semantic_type\": \"\",\n        \"description\": \"\"\n      }\n    },\n    {\n      \"column\": \"charges\",\n      \"properties\": {\n        \"dtype\": \"number\",\n        \"std\": 12110.011236694001,\n        \"min\": 1121.8739,\n        \"max\": 63770.42801,\n        \"num_unique_values\": 1337,\n        \"samples\": [\n          8688.85885,\n          5708.867\n        ],\n        \"semantic_type\": \"\",\n        \"description\": \"\"\n      }\n    }\n  ]\n}"
            }
          },
          "metadata": {},
          "execution_count": 13
        }
      ],
      "source": [
        "!pip install gdown\n",
        "import gdown\n",
        "import pandas as pd\n",
        "\n",
        "# Load the data into a DataFrame #\n",
        "insurance_df = pd.read_csv('insurance.csv')\n",
        "\n",
        "# Display the first few rows of the DataFrame #\n",
        "insurance_df.head()\n",
        "\n"
      ]
    },
    {
      "cell_type": "markdown",
      "source": [],
      "metadata": {
        "id": "YkepPOfkpycX"
      },
      "id": "YkepPOfkpycX"
    },
    {
      "cell_type": "markdown",
      "id": "768ea595",
      "metadata": {
        "id": "768ea595"
      },
      "source": [
        "## Preprocessing"
      ]
    },
    {
      "cell_type": "markdown",
      "id": "23554033",
      "metadata": {
        "id": "23554033"
      },
      "source": [
        "Before doing any preprocessing let's build our baseline."
      ]
    },
    {
      "cell_type": "markdown",
      "source": [
        "Firstly as there are categorical variables, we'll encode these with OHE.\n",
        "\n",
        "Split into X and y\n",
        "\n",
        "Choose the appropriate columns to assign to the X and y variables!"
      ],
      "metadata": {
        "id": "aKmrwjYPw4_v"
      },
      "id": "aKmrwjYPw4_v"
    },
    {
      "cell_type": "code",
      "source": [
        "import pandas as pd\n",
        "from sklearn.preprocessing import OneHotEncoder\n",
        "from sklearn.compose import ColumnTransformer\n",
        "\n",
        "# Load the data into a DataFrame #\n",
        "insurance_df = pd.read_csv('insurance.csv')\n",
        "\n",
        "# Split into features (X) and target variable (y) #\n",
        "X = insurance_df[['age', 'bmi', 'children', 'sex', 'smoker', 'region']]\n",
        "y = insurance_df['charges']\n",
        "\n",
        "# Define the columns to be one-hot encoded #\n",
        "categorical_cols = ['sex', 'smoker', 'region']\n",
        "\n",
        "# Create a ColumnTransformer to apply one-hot encoding to the categorical columns #\n",
        "preprocessor = ColumnTransformer(\n",
        "    transformers=[\n",
        "        ('onehot', OneHotEncoder(drop='first'), categorical_cols)\n",
        "    ],\n",
        "    remainder='passthrough'\n",
        ")\n",
        "\n",
        "# Fit and transform the data #\n",
        "X_encoded = preprocessor.fit_transform(X)\n",
        "\n",
        "# Display the first few rows of the transformed X #\n",
        "print(\"Encoded features (X):\")\n",
        "print(X_encoded[:5])\n",
        "\n"
      ],
      "metadata": {
        "colab": {
          "base_uri": "https://localhost:8080/"
        },
        "id": "Yks-mLjMw06L",
        "outputId": "43cba9f7-2832-45f1-afe2-bc043655648c"
      },
      "id": "Yks-mLjMw06L",
      "execution_count": 15,
      "outputs": [
        {
          "output_type": "stream",
          "name": "stdout",
          "text": [
            "Encoded features (X):\n",
            "[[ 0.     1.     0.     0.     1.    19.    27.9    0.   ]\n",
            " [ 1.     0.     0.     1.     0.    18.    33.77   1.   ]\n",
            " [ 1.     0.     0.     1.     0.    28.    33.     3.   ]\n",
            " [ 1.     0.     1.     0.     0.    33.    22.705  0.   ]\n",
            " [ 1.     0.     1.     0.     0.    32.    28.88   0.   ]]\n"
          ]
        }
      ]
    },
    {
      "cell_type": "markdown",
      "id": "3cca8e54",
      "metadata": {
        "id": "3cca8e54"
      },
      "source": [
        "### Train-test split\n",
        "\n",
        "Split your data now, into train and test variables (80/20)!"
      ]
    },
    {
      "cell_type": "code",
      "execution_count": 17,
      "id": "20b80855",
      "metadata": {
        "id": "20b80855",
        "colab": {
          "base_uri": "https://localhost:8080/"
        },
        "outputId": "4dade406-dace-4e35-c1a9-f44f0ee6c107"
      },
      "outputs": [
        {
          "output_type": "stream",
          "name": "stdout",
          "text": [
            "Training set - X shape: (1070, 8) y shape: (1070,)\n",
            "Testing set - X shape: (268, 8) y shape: (268,)\n"
          ]
        }
      ],
      "source": [
        "from sklearn.model_selection import train_test_split\n",
        "\n",
        "# Split the data into training and testing sets with an 80/20 ratio #\n",
        "X_train, X_test, y_train, y_test = train_test_split(X_encoded, y, test_size=0.2, random_state=42)\n",
        "\n",
        "# Display the shapes of the training and testing sets #\n",
        "print(\"Training set - X shape:\", X_train.shape, \"y shape:\", y_train.shape)\n",
        "print(\"Testing set - X shape:\", X_test.shape, \"y shape:\", y_test.shape)\n"
      ]
    },
    {
      "cell_type": "markdown",
      "id": "15734236",
      "metadata": {
        "id": "15734236"
      },
      "source": [
        "### Baseline\n",
        "\n",
        "Here take only the numerical features and use a Linear Regression.\n",
        "\n",
        "Think about the metric we need to use to evaluate our models.\n",
        "\n",
        "<details>\n",
        "<summary>Hint 1:</summary>\n",
        "\n",
        "We are in a regression problem.\n",
        "</details>\n",
        "<details>\n",
        "<summary>Hint 2:</summary>\n",
        "\n",
        "You can look on scikit learn [documentation](https://scikit-learn.org/stable/modules/model_evaluation.html).</details>"
      ]
    },
    {
      "cell_type": "code",
      "execution_count": 18,
      "id": "53d66879",
      "metadata": {
        "id": "53d66879",
        "colab": {
          "base_uri": "https://localhost:8080/"
        },
        "outputId": "721668bf-0bad-4d99-e53b-d79e480fa03b"
      },
      "outputs": [
        {
          "output_type": "stream",
          "name": "stdout",
          "text": [
            "Mean Absolute Error (MAE): 5656.871602732169\n"
          ]
        }
      ],
      "source": [
        "from sklearn.linear_model import LinearRegression\n",
        "from sklearn.metrics import mean_absolute_error\n",
        "\n",
        "# Select only the numerical features for training #\n",
        "X_train_numerical = X_train[:, :5]  # Selecting the first 5 columns which are the numerical features\n",
        "\n",
        "# Initialize and train the Linear Regression model #\n",
        "linear_reg = LinearRegression()\n",
        "linear_reg.fit(X_train_numerical, y_train)\n",
        "\n",
        "# Predict on the testing set using the trained model #\n",
        "X_test_numerical = X_test[:, :5]  # Selecting the same numerical features for testing\n",
        "y_pred = linear_reg.predict(X_test_numerical)\n",
        "\n",
        "# Calculate the Mean Absolute Error (MAE) to evaluate the model #\n",
        "mae = mean_absolute_error(y_test, y_pred)\n",
        "print(\"Mean Absolute Error (MAE):\", mae)\n"
      ]
    },
    {
      "cell_type": "markdown",
      "id": "63d93604",
      "metadata": {
        "id": "63d93604"
      },
      "source": [
        "Now our baseline is build let's do our preprocessing and see if we can decrease the model error."
      ]
    },
    {
      "cell_type": "markdown",
      "id": "a26469f3",
      "metadata": {
        "id": "a26469f3"
      },
      "source": [
        "### Scaling\n",
        "\n",
        "Like in the previous exercise, we'll have to scale the numerical **and** non-numerical columns!"
      ]
    },
    {
      "cell_type": "markdown",
      "id": "bf422ea0",
      "metadata": {
        "id": "bf422ea0"
      },
      "source": [
        "### Numerical values & Non-numerical values as have used OHE\n",
        "\n",
        "Scale the numerical values - remember from the last challenge what we did to select only the relevant columns.\n",
        "\n",
        "<details>\n",
        "    <summary><i>Hint:</i></summary>\n",
        "You have to fit it on the train and not on the test.\n",
        "</details>"
      ]
    },
    {
      "cell_type": "code",
      "execution_count": 19,
      "id": "13dde29e",
      "metadata": {
        "id": "13dde29e"
      },
      "outputs": [],
      "source": [
        "from sklearn.preprocessing import StandardScaler\n",
        "\n",
        "# Initialize the StandardScaler\n",
        "scaler = StandardScaler()\n",
        "\n",
        "# Fit the scaler on the training data and transform both training and testing data #\n",
        "X_train_numerical_scaled = scaler.fit_transform(X_train_numerical)\n",
        "X_test_numerical_scaled = scaler.transform(X_test_numerical)\n",
        "\n",
        "# Now X_train_numerical_scaled and X_test_numerical_scaled contain the scaled numerical features #\n"
      ]
    },
    {
      "cell_type": "markdown",
      "source": [],
      "metadata": {
        "id": "TnO7xP11yag6"
      },
      "id": "TnO7xP11yag6"
    },
    {
      "cell_type": "markdown",
      "id": "48dca94c",
      "metadata": {
        "id": "48dca94c"
      },
      "source": [
        "What is the number of columns of each 'X_train_cat' and 'X_test_cat'?\n",
        "<details>\n",
        " <summary><i>Answer:</i></summary>\n",
        " You are suppose to have 8 columns.\n",
        "</details>"
      ]
    },
    {
      "cell_type": "code",
      "execution_count": 20,
      "id": "12f912e0",
      "metadata": {
        "id": "12f912e0",
        "colab": {
          "base_uri": "https://localhost:8080/"
        },
        "outputId": "ba70353c-2d57-481f-f6f4-d0e66c2e3407"
      },
      "outputs": [
        {
          "output_type": "stream",
          "name": "stdout",
          "text": [
            "Number of columns in X_train_cat: 8\n",
            "Number of columns in X_test_cat: 8\n"
          ]
        }
      ],
      "source": [
        "# Find the number of columns in X_train_cat #\n",
        "num_cols_train = X_train.shape[1]\n",
        "\n",
        "# Find the number of columns in X_test_cat #\n",
        "num_cols_test = X_test.shape[1]\n",
        "\n",
        "print(\"Number of columns in X_train_cat:\", num_cols_train)\n",
        "print(\"Number of columns in X_test_cat:\", num_cols_test)\n"
      ]
    },
    {
      "cell_type": "markdown",
      "id": "0d0dadf8",
      "metadata": {
        "id": "0d0dadf8"
      },
      "source": [
        "### Rebuild X!\n",
        "\n",
        "Concat your numerical and non-numerical Xs into one! Store it in 'X_train_preproc' and 'X_test_preproc'\n",
        "\n",
        "Check if you have nan in your dataframes.\n",
        "<details>\n",
        "    <summary>Hint:</summary>\n",
        "If you have nan in it is because of the way `pd.get_dummies` works. It is not reset the index of your dataframe and so you have different index for the concatenation.\n",
        "<details>\n",
        "<summary>Answer:</summary>\n",
        "You have to use `pd.reset_index` on your categorical dataframes.\n",
        "</details>\n",
        "</details>"
      ]
    },
    {
      "cell_type": "code",
      "execution_count": 27,
      "id": "13168a1d",
      "metadata": {
        "id": "13168a1d"
      },
      "outputs": [],
      "source": [
        "# Store the encoded categorical features from X_train and X_test into X_train_cat and X_test_cat, respectively\n",
        "X_train_cat = X_train[:, 5:]  # Assuming the numerical features are at the beginning and categorical at the end\n",
        "X_test_cat = X_test[:, 5:]    # Assuming the numerical features are at the beginning and categorical at the end\n",
        "\n",
        "\n"
      ]
    },
    {
      "cell_type": "code",
      "source": [
        "import numpy as np\n",
        "\n",
        "# Concatenate the scaled numerical features with the encoded categorical features\n",
        "X_train_preproc = np.concatenate((X_train_numerical_scaled, X_train_cat), axis=1)\n",
        "X_test_preproc = np.concatenate((X_test_numerical_scaled, X_test_cat), axis=1)\n",
        "\n",
        "# Display the shapes of the preprocessed training and testing sets\n",
        "print(\"Shape of X_train_preproc:\", X_train_preproc.shape)\n",
        "print(\"Shape of X_test_preproc:\", X_test_preproc.shape)\n"
      ],
      "metadata": {
        "colab": {
          "base_uri": "https://localhost:8080/"
        },
        "id": "F8uLXD5rzvz9",
        "outputId": "7d59ee0b-5acc-47fa-d7ed-bbd53d092f5d"
      },
      "id": "F8uLXD5rzvz9",
      "execution_count": 28,
      "outputs": [
        {
          "output_type": "stream",
          "name": "stdout",
          "text": [
            "Shape of X_train_preproc: (1070, 8)\n",
            "Shape of X_test_preproc: (268, 8)\n"
          ]
        }
      ]
    },
    {
      "cell_type": "markdown",
      "id": "bd735677",
      "metadata": {
        "id": "bd735677"
      },
      "source": [
        "## Modelling!\n",
        "\n",
        "It's time to do some modelling, only this time, we're going beyond Linear Regressions!"
      ]
    },
    {
      "cell_type": "markdown",
      "id": "8ebaa531",
      "metadata": {
        "id": "8ebaa531"
      },
      "source": [
        "### Linear Regression\n",
        "\n",
        "Perform a Linear Regression on the data!"
      ]
    },
    {
      "cell_type": "code",
      "execution_count": 31,
      "id": "18741b3f",
      "metadata": {
        "id": "18741b3f"
      },
      "outputs": [],
      "source": [
        "from sklearn.linear_model import LinearRegression\n",
        "from sklearn.metrics import mean_absolute_error\n",
        "\n",
        "# Initialize the Linear Regression model #\n",
        "linear_reg_model = LinearRegression()\n",
        "\n",
        "# Fit the model on the training data #\n",
        "linear_reg_model.fit(X_train_preproc, y_train)\n",
        "\n",
        "# Predict on the testing data #\n",
        "y_pred = linear_reg_model.predict(X_test_preproc)\n",
        "\n"
      ]
    },
    {
      "cell_type": "markdown",
      "id": "00ab369a",
      "metadata": {
        "id": "00ab369a"
      },
      "source": [
        "Now, calculate the MAE of your Linear Regression!"
      ]
    },
    {
      "cell_type": "code",
      "execution_count": 33,
      "id": "6b69c152",
      "metadata": {
        "id": "6b69c152",
        "colab": {
          "base_uri": "https://localhost:8080/"
        },
        "outputId": "c3706ea5-6c54-41df-870d-df28e9c35308"
      },
      "outputs": [
        {
          "output_type": "stream",
          "name": "stdout",
          "text": [
            "Mean Absolute Error (MAE) on testing data: 4181.194473753644\n"
          ]
        }
      ],
      "source": [
        "from sklearn.linear_model import LinearRegression\n",
        "from sklearn.metrics import mean_absolute_error\n",
        "\n",
        "# Calculate the Mean Absolute Error (MAE) to evaluate the model\n",
        "mae = mean_absolute_error(y_test, y_pred)\n",
        "print(\"Mean Absolute Error (MAE) on testing data:\", mae)\n"
      ]
    },
    {
      "cell_type": "markdown",
      "id": "8fa242a9",
      "metadata": {
        "id": "8fa242a9"
      },
      "source": [
        "We divide our error by more than 2. As you can see the preprocessing is really important if you want modelling.\n",
        "\n",
        "Be sure everything before is **understanding** before start the optional."
      ]
    },
    {
      "cell_type": "markdown",
      "id": "c1f5bb7d",
      "metadata": {
        "id": "c1f5bb7d"
      },
      "source": [
        "# Optional"
      ]
    },
    {
      "cell_type": "markdown",
      "id": "f7c6c3bd",
      "metadata": {
        "id": "f7c6c3bd"
      },
      "source": [
        "Choosing the appropriate model can also reduce errors. There are various types of models available for regression let's try a few!"
      ]
    },
    {
      "cell_type": "markdown",
      "id": "330c3707",
      "metadata": {
        "id": "330c3707"
      },
      "source": [
        "### Trees - Random Forest Regression\n",
        "\n",
        "Now we're getting a bit more complex! Look up the sklearn documentation for the `RandomForestRegressor` and see how you could implement it for our dataset!\n",
        "\n",
        "Don't spend too much time trying to understand how this model works under the hood, that's not the purpose here. However, if you're curious, watch [this short video](https://www.youtube.com/watch?v=gkXX4h3qYm4) from IBM that explains the basics."
      ]
    },
    {
      "cell_type": "code",
      "execution_count": 34,
      "id": "bfcf96a2",
      "metadata": {
        "id": "bfcf96a2",
        "colab": {
          "base_uri": "https://localhost:8080/",
          "height": 74
        },
        "outputId": "df3255dd-9445-4547-8b49-99e952086979"
      },
      "outputs": [
        {
          "output_type": "execute_result",
          "data": {
            "text/plain": [
              "RandomForestRegressor()"
            ],
            "text/html": [
              "<style>#sk-container-id-1 {color: black;background-color: white;}#sk-container-id-1 pre{padding: 0;}#sk-container-id-1 div.sk-toggleable {background-color: white;}#sk-container-id-1 label.sk-toggleable__label {cursor: pointer;display: block;width: 100%;margin-bottom: 0;padding: 0.3em;box-sizing: border-box;text-align: center;}#sk-container-id-1 label.sk-toggleable__label-arrow:before {content: \"▸\";float: left;margin-right: 0.25em;color: #696969;}#sk-container-id-1 label.sk-toggleable__label-arrow:hover:before {color: black;}#sk-container-id-1 div.sk-estimator:hover label.sk-toggleable__label-arrow:before {color: black;}#sk-container-id-1 div.sk-toggleable__content {max-height: 0;max-width: 0;overflow: hidden;text-align: left;background-color: #f0f8ff;}#sk-container-id-1 div.sk-toggleable__content pre {margin: 0.2em;color: black;border-radius: 0.25em;background-color: #f0f8ff;}#sk-container-id-1 input.sk-toggleable__control:checked~div.sk-toggleable__content {max-height: 200px;max-width: 100%;overflow: auto;}#sk-container-id-1 input.sk-toggleable__control:checked~label.sk-toggleable__label-arrow:before {content: \"▾\";}#sk-container-id-1 div.sk-estimator input.sk-toggleable__control:checked~label.sk-toggleable__label {background-color: #d4ebff;}#sk-container-id-1 div.sk-label input.sk-toggleable__control:checked~label.sk-toggleable__label {background-color: #d4ebff;}#sk-container-id-1 input.sk-hidden--visually {border: 0;clip: rect(1px 1px 1px 1px);clip: rect(1px, 1px, 1px, 1px);height: 1px;margin: -1px;overflow: hidden;padding: 0;position: absolute;width: 1px;}#sk-container-id-1 div.sk-estimator {font-family: monospace;background-color: #f0f8ff;border: 1px dotted black;border-radius: 0.25em;box-sizing: border-box;margin-bottom: 0.5em;}#sk-container-id-1 div.sk-estimator:hover {background-color: #d4ebff;}#sk-container-id-1 div.sk-parallel-item::after {content: \"\";width: 100%;border-bottom: 1px solid gray;flex-grow: 1;}#sk-container-id-1 div.sk-label:hover label.sk-toggleable__label {background-color: #d4ebff;}#sk-container-id-1 div.sk-serial::before {content: \"\";position: absolute;border-left: 1px solid gray;box-sizing: border-box;top: 0;bottom: 0;left: 50%;z-index: 0;}#sk-container-id-1 div.sk-serial {display: flex;flex-direction: column;align-items: center;background-color: white;padding-right: 0.2em;padding-left: 0.2em;position: relative;}#sk-container-id-1 div.sk-item {position: relative;z-index: 1;}#sk-container-id-1 div.sk-parallel {display: flex;align-items: stretch;justify-content: center;background-color: white;position: relative;}#sk-container-id-1 div.sk-item::before, #sk-container-id-1 div.sk-parallel-item::before {content: \"\";position: absolute;border-left: 1px solid gray;box-sizing: border-box;top: 0;bottom: 0;left: 50%;z-index: -1;}#sk-container-id-1 div.sk-parallel-item {display: flex;flex-direction: column;z-index: 1;position: relative;background-color: white;}#sk-container-id-1 div.sk-parallel-item:first-child::after {align-self: flex-end;width: 50%;}#sk-container-id-1 div.sk-parallel-item:last-child::after {align-self: flex-start;width: 50%;}#sk-container-id-1 div.sk-parallel-item:only-child::after {width: 0;}#sk-container-id-1 div.sk-dashed-wrapped {border: 1px dashed gray;margin: 0 0.4em 0.5em 0.4em;box-sizing: border-box;padding-bottom: 0.4em;background-color: white;}#sk-container-id-1 div.sk-label label {font-family: monospace;font-weight: bold;display: inline-block;line-height: 1.2em;}#sk-container-id-1 div.sk-label-container {text-align: center;}#sk-container-id-1 div.sk-container {/* jupyter's `normalize.less` sets `[hidden] { display: none; }` but bootstrap.min.css set `[hidden] { display: none !important; }` so we also need the `!important` here to be able to override the default hidden behavior on the sphinx rendered scikit-learn.org. See: https://github.com/scikit-learn/scikit-learn/issues/21755 */display: inline-block !important;position: relative;}#sk-container-id-1 div.sk-text-repr-fallback {display: none;}</style><div id=\"sk-container-id-1\" class=\"sk-top-container\"><div class=\"sk-text-repr-fallback\"><pre>RandomForestRegressor()</pre><b>In a Jupyter environment, please rerun this cell to show the HTML representation or trust the notebook. <br />On GitHub, the HTML representation is unable to render, please try loading this page with nbviewer.org.</b></div><div class=\"sk-container\" hidden><div class=\"sk-item\"><div class=\"sk-estimator sk-toggleable\"><input class=\"sk-toggleable__control sk-hidden--visually\" id=\"sk-estimator-id-1\" type=\"checkbox\" checked><label for=\"sk-estimator-id-1\" class=\"sk-toggleable__label sk-toggleable__label-arrow\">RandomForestRegressor</label><div class=\"sk-toggleable__content\"><pre>RandomForestRegressor()</pre></div></div></div></div></div>"
            ]
          },
          "metadata": {},
          "execution_count": 34
        }
      ],
      "source": [
        "from sklearn.ensemble import RandomForestRegressor\n",
        "\n",
        "rfr = RandomForestRegressor()\n",
        "rfr.fit(X_train_preproc, y_train)"
      ]
    },
    {
      "cell_type": "markdown",
      "id": "0062fec9",
      "metadata": {
        "id": "0062fec9"
      },
      "source": [
        "Now it's time to calculate the MAE of the Random Forest model."
      ]
    },
    {
      "cell_type": "code",
      "execution_count": 35,
      "id": "72273cc7",
      "metadata": {
        "id": "72273cc7",
        "colab": {
          "base_uri": "https://localhost:8080/"
        },
        "outputId": "bc7005b1-2e65-4fc2-e9e8-4110fc171df0"
      },
      "outputs": [
        {
          "output_type": "stream",
          "name": "stdout",
          "text": [
            "Mean Absolute Error (MAE) for Random Forest Regression: 2595.511473244954\n"
          ]
        }
      ],
      "source": [
        "from sklearn.ensemble import RandomForestRegressor\n",
        "from sklearn.metrics import mean_absolute_error\n",
        "\n",
        "# Initialize the Random Forest Regression model #\n",
        "rfr = RandomForestRegressor()\n",
        "\n",
        "# Fit the model on the training data #\n",
        "rfr.fit(X_train_preproc, y_train)\n",
        "\n",
        "# Predict on the testing data #\n",
        "y_pred_rfr = rfr.predict(X_test_preproc)\n",
        "\n",
        "# Calculate the Mean Absolute Error (MAE) to evaluate the model #\n",
        "mae_rfr = mean_absolute_error(y_test, y_pred_rfr)\n",
        "print(\"Mean Absolute Error (MAE) for Random Forest Regression:\", mae_rfr)\n"
      ]
    },
    {
      "cell_type": "markdown",
      "id": "a84892de",
      "metadata": {
        "id": "a84892de"
      },
      "source": [
        "### Support Vector Machine\n",
        "\n",
        "Same drill as last time, only now we're trying the `Support Vector Regressor`. Again, look up the documentation of this model and implement it below.\n",
        "\n",
        "[Here's](https://www.youtube.com/watch?v=_YPScrckx28) a very short video that explains the idea behind SVM's. Don't dwell too much on trying to understand how it works, only the basics!"
      ]
    },
    {
      "cell_type": "code",
      "execution_count": 38,
      "id": "ddf88310",
      "metadata": {
        "id": "ddf88310",
        "scrolled": true,
        "colab": {
          "base_uri": "https://localhost:8080/"
        },
        "outputId": "90a9e2b7-698d-4015-f2c4-a87b0eb8575b"
      },
      "outputs": [
        {
          "output_type": "stream",
          "name": "stdout",
          "text": [
            "Mean Absolute Error (MAE) for Support Vector Machine Regression: 8597.048001247427\n"
          ]
        }
      ],
      "source": [
        "from sklearn.svm import SVR\n",
        "from sklearn.metrics import mean_absolute_error\n",
        "\n",
        "# Initialize the SVR model #\n",
        "svr = SVR()\n",
        "\n",
        "# Fit the model on the training data #\n",
        "svr.fit(X_train_preproc, y_train)\n",
        "\n",
        "# Predict on the testing data #\n",
        "y_pred_svr = svr.predict(X_test_preproc)\n",
        "\n",
        "# Calculate the Mean Absolute Error (MAE) to evaluate the model #\n",
        "mae_svr = mean_absolute_error(y_test, y_pred_svr)\n",
        "print(\"Mean Absolute Error (MAE) for Support Vector Machine Regression:\", mae_svr)\n"
      ]
    },
    {
      "cell_type": "markdown",
      "id": "a91852c6",
      "metadata": {
        "id": "a91852c6"
      },
      "source": [
        "Let's calculate the MAE now!"
      ]
    },
    {
      "cell_type": "markdown",
      "source": [
        "Done above!"
      ],
      "metadata": {
        "id": "8VzfBEp51D63"
      },
      "id": "8VzfBEp51D63"
    },
    {
      "cell_type": "markdown",
      "id": "5d3e641d",
      "metadata": {
        "id": "5d3e641d"
      },
      "source": [
        "### Your own model\n",
        "\n",
        "Look through the SKLearn documentation to find another regression model and try your best to implement it. How does it perform?"
      ]
    },
    {
      "cell_type": "code",
      "execution_count": 40,
      "id": "7f603a1d",
      "metadata": {
        "id": "7f603a1d",
        "colab": {
          "base_uri": "https://localhost:8080/"
        },
        "outputId": "e23449b0-af76-43aa-8f77-271031694ad2"
      },
      "outputs": [
        {
          "output_type": "stream",
          "name": "stdout",
          "text": [
            "Mean Absolute Error (MAE) for Decision Tree Regression: 3187.590569126866\n"
          ]
        }
      ],
      "source": [
        "from sklearn.tree import DecisionTreeRegressor\n",
        "from sklearn.metrics import mean_absolute_error\n",
        "\n",
        "# Initialize the Decision Tree Regression model #\n",
        "dt_reg = DecisionTreeRegressor()\n",
        "\n",
        "# Fit the model on the training data #\n",
        "dt_reg.fit(X_train_preproc, y_train)\n",
        "\n",
        "# Predict on the testing data #\n",
        "y_pred_dt = dt_reg.predict(X_test_preproc)\n",
        "\n",
        "# Calculate the Mean Absolute Error (MAE) to evaluate the model #\n",
        "mae_dt = mean_absolute_error(y_test, y_pred_dt)\n",
        "print(\"Mean Absolute Error (MAE) for Decision Tree Regression:\", mae_dt)\n"
      ]
    },
    {
      "cell_type": "markdown",
      "id": "d5687d1e",
      "metadata": {
        "id": "d5687d1e"
      },
      "source": [
        "Calculate the error of your model!"
      ]
    },
    {
      "cell_type": "markdown",
      "source": [
        "Mean Absolute Error (MAE) for Decision Tree Regression: 3187.590569126866"
      ],
      "metadata": {
        "id": "vr8NvEyD1cXr"
      },
      "id": "vr8NvEyD1cXr"
    },
    {
      "cell_type": "markdown",
      "id": "70b3598b",
      "metadata": {
        "id": "70b3598b"
      },
      "source": [
        "## Conclusions\n",
        "\n",
        "The results are in! The model that perfomed best was the random forest, followed by the linear regression and trailing in last place, the SVR! This goes to show that the most complex models are not always the best!\n",
        "\n",
        "How did your model do?\n",
        "\n",
        "**A little caveat:** this was a very simplistic implementation of what are complex models. In a more realistic scenario, a data scientist would have spent a considerable portion of their time on finetuning these models to improve their performance. In this challenge, the purpose was not to do that, but rather to show how easy the Sci-Kit Learn Library is to use!"
      ]
    }
  ],
  "metadata": {
    "colab": {
      "provenance": [],
      "include_colab_link": true
    },
    "kernelspec": {
      "display_name": "Python 3 (ipykernel)",
      "language": "python",
      "name": "python3"
    },
    "language_info": {
      "codemirror_mode": {
        "name": "ipython",
        "version": 3
      },
      "file_extension": ".py",
      "mimetype": "text/x-python",
      "name": "python",
      "nbconvert_exporter": "python",
      "pygments_lexer": "ipython3",
      "version": "3.10.6"
    }
  },
  "nbformat": 4,
  "nbformat_minor": 5
}