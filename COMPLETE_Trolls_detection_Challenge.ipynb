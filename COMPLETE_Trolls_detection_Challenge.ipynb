{
  "cells": [
    {
      "cell_type": "markdown",
      "metadata": {
        "id": "view-in-github",
        "colab_type": "text"
      },
      "source": [
        "<a href=\"https://colab.research.google.com/github/Helios109/Verylimitedtoystore/blob/main/COMPLETE_Trolls_detection_Challenge.ipynb\" target=\"_parent\"><img src=\"https://colab.research.google.com/assets/colab-badge.svg\" alt=\"Open In Colab\"/></a>"
      ]
    },
    {
      "cell_type": "markdown",
      "id": "xwj-ZT_8wuLU",
      "metadata": {
        "id": "xwj-ZT_8wuLU"
      },
      "source": [
        " ![Emil](data:image/png;base64,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)"
      ]
    },
    {
      "cell_type": "markdown",
      "id": "71d87281-c9b6-4aa9-9ce2-84cdc857bbad",
      "metadata": {
        "id": "71d87281-c9b6-4aa9-9ce2-84cdc857bbad",
        "tags": []
      },
      "source": [
        "# Trolls detection"
      ]
    },
    {
      "cell_type": "markdown",
      "id": "8tLNFWwn_uc_",
      "metadata": {
        "id": "8tLNFWwn_uc_"
      },
      "source": [
        "# Install Pycaret"
      ]
    },
    {
      "cell_type": "markdown",
      "id": "TJ4eCfjn_7NX",
      "metadata": {
        "id": "TJ4eCfjn_7NX"
      },
      "source": [
        "We are going to be using the PyCaret libary later on in this challenge, please run the cell below to install it. It might take a minute or so (if you are asked to restart your runtime, please do so)\n",
        "\n",
        "Once done, run the second cell and you should see \"pycaret==*someversion*\".\n",
        "\n",
        "If that's the case you are good to go! If not, and the output is blank, then raise a ticket with a TA!\n"
      ]
    },
    {
      "cell_type": "code",
      "execution_count": 1,
      "id": "hnhF4EBM_w11",
      "metadata": {
        "id": "hnhF4EBM_w11",
        "outputId": "78d4c576-1888-468e-8a21-092e9b8075f7",
        "colab": {
          "base_uri": "https://localhost:8080/"
        }
      },
      "outputs": [
        {
          "output_type": "stream",
          "name": "stdout",
          "text": [
            "Collecting pycaret\n",
            "  Downloading pycaret-3.3.2-py3-none-any.whl (486 kB)\n",
            "\u001b[2K     \u001b[90m━━━━━━━━━━━━━━━━━━━━━━━━━━━━━━━━━━━━━━━━\u001b[0m \u001b[32m486.1/486.1 kB\u001b[0m \u001b[31m6.1 MB/s\u001b[0m eta \u001b[36m0:00:00\u001b[0m\n",
            "\u001b[?25hRequirement already satisfied: ipython>=5.5.0 in /usr/local/lib/python3.10/dist-packages (from pycaret) (7.34.0)\n",
            "Requirement already satisfied: ipywidgets>=7.6.5 in /usr/local/lib/python3.10/dist-packages (from pycaret) (7.7.1)\n",
            "Requirement already satisfied: tqdm>=4.62.0 in /usr/local/lib/python3.10/dist-packages (from pycaret) (4.66.4)\n",
            "Requirement already satisfied: numpy<1.27,>=1.21 in /usr/local/lib/python3.10/dist-packages (from pycaret) (1.25.2)\n",
            "Requirement already satisfied: pandas<2.2.0 in /usr/local/lib/python3.10/dist-packages (from pycaret) (2.0.3)\n",
            "Requirement already satisfied: jinja2>=3 in /usr/local/lib/python3.10/dist-packages (from pycaret) (3.1.3)\n",
            "Requirement already satisfied: scipy<=1.11.4,>=1.6.1 in /usr/local/lib/python3.10/dist-packages (from pycaret) (1.11.4)\n",
            "Collecting joblib<1.4,>=1.2.0 (from pycaret)\n",
            "  Downloading joblib-1.3.2-py3-none-any.whl (302 kB)\n",
            "\u001b[2K     \u001b[90m━━━━━━━━━━━━━━━━━━━━━━━━━━━━━━━━━━━━━━━━\u001b[0m \u001b[32m302.2/302.2 kB\u001b[0m \u001b[31m12.7 MB/s\u001b[0m eta \u001b[36m0:00:00\u001b[0m\n",
            "\u001b[?25hCollecting scikit-learn>1.4.0 (from pycaret)\n",
            "  Downloading scikit_learn-1.4.2-cp310-cp310-manylinux_2_17_x86_64.manylinux2014_x86_64.whl (12.1 MB)\n",
            "\u001b[2K     \u001b[90m━━━━━━━━━━━━━━━━━━━━━━━━━━━━━━━━━━━━━━━━\u001b[0m \u001b[32m12.1/12.1 MB\u001b[0m \u001b[31m13.5 MB/s\u001b[0m eta \u001b[36m0:00:00\u001b[0m\n",
            "\u001b[?25hCollecting pyod>=1.1.3 (from pycaret)\n",
            "  Downloading pyod-1.1.3.tar.gz (160 kB)\n",
            "\u001b[2K     \u001b[90m━━━━━━━━━━━━━━━━━━━━━━━━━━━━━━━━━━━━━━━━\u001b[0m \u001b[32m160.5/160.5 kB\u001b[0m \u001b[31m7.8 MB/s\u001b[0m eta \u001b[36m0:00:00\u001b[0m\n",
            "\u001b[?25h  Preparing metadata (setup.py) ... \u001b[?25l\u001b[?25hdone\n",
            "Collecting imbalanced-learn>=0.12.0 (from pycaret)\n",
            "  Downloading imbalanced_learn-0.12.2-py3-none-any.whl (257 kB)\n",
            "\u001b[2K     \u001b[90m━━━━━━━━━━━━━━━━━━━━━━━━━━━━━━━━━━━━━━━━\u001b[0m \u001b[32m258.0/258.0 kB\u001b[0m \u001b[31m8.6 MB/s\u001b[0m eta \u001b[36m0:00:00\u001b[0m\n",
            "\u001b[?25hCollecting category-encoders>=2.4.0 (from pycaret)\n",
            "  Downloading category_encoders-2.6.3-py2.py3-none-any.whl (81 kB)\n",
            "\u001b[2K     \u001b[90m━━━━━━━━━━━━━━━━━━━━━━━━━━━━━━━━━━━━━━━━\u001b[0m \u001b[32m81.9/81.9 kB\u001b[0m \u001b[31m4.5 MB/s\u001b[0m eta \u001b[36m0:00:00\u001b[0m\n",
            "\u001b[?25hRequirement already satisfied: lightgbm>=3.0.0 in /usr/local/lib/python3.10/dist-packages (from pycaret) (4.1.0)\n",
            "Requirement already satisfied: numba>=0.55.0 in /usr/local/lib/python3.10/dist-packages (from pycaret) (0.58.1)\n",
            "Requirement already satisfied: requests>=2.27.1 in /usr/local/lib/python3.10/dist-packages (from pycaret) (2.31.0)\n",
            "Requirement already satisfied: psutil>=5.9.0 in /usr/local/lib/python3.10/dist-packages (from pycaret) (5.9.5)\n",
            "Requirement already satisfied: markupsafe>=2.0.1 in /usr/local/lib/python3.10/dist-packages (from pycaret) (2.1.5)\n",
            "Requirement already satisfied: importlib-metadata>=4.12.0 in /usr/local/lib/python3.10/dist-packages (from pycaret) (7.1.0)\n",
            "Requirement already satisfied: nbformat>=4.2.0 in /usr/local/lib/python3.10/dist-packages (from pycaret) (5.10.4)\n",
            "Requirement already satisfied: cloudpickle in /usr/local/lib/python3.10/dist-packages (from pycaret) (2.2.1)\n",
            "Collecting deprecation>=2.1.0 (from pycaret)\n",
            "  Downloading deprecation-2.1.0-py2.py3-none-any.whl (11 kB)\n",
            "Collecting xxhash (from pycaret)\n",
            "  Downloading xxhash-3.4.1-cp310-cp310-manylinux_2_17_x86_64.manylinux2014_x86_64.whl (194 kB)\n",
            "\u001b[2K     \u001b[90m━━━━━━━━━━━━━━━━━━━━━━━━━━━━━━━━━━━━━━━━\u001b[0m \u001b[32m194.1/194.1 kB\u001b[0m \u001b[31m6.0 MB/s\u001b[0m eta \u001b[36m0:00:00\u001b[0m\n",
            "\u001b[?25hRequirement already satisfied: matplotlib<3.8.0 in /usr/local/lib/python3.10/dist-packages (from pycaret) (3.7.1)\n",
            "Collecting scikit-plot>=0.3.7 (from pycaret)\n",
            "  Downloading scikit_plot-0.3.7-py3-none-any.whl (33 kB)\n",
            "Requirement already satisfied: yellowbrick>=1.4 in /usr/local/lib/python3.10/dist-packages (from pycaret) (1.5)\n",
            "Requirement already satisfied: plotly>=5.14.0 in /usr/local/lib/python3.10/dist-packages (from pycaret) (5.15.0)\n",
            "Collecting kaleido>=0.2.1 (from pycaret)\n",
            "  Downloading kaleido-0.2.1-py2.py3-none-manylinux1_x86_64.whl (79.9 MB)\n",
            "\u001b[2K     \u001b[90m━━━━━━━━━━━━━━━━━━━━━━━━━━━━━━━━━━━━━━━━\u001b[0m \u001b[32m79.9/79.9 MB\u001b[0m \u001b[31m7.0 MB/s\u001b[0m eta \u001b[36m0:00:00\u001b[0m\n",
            "\u001b[?25hCollecting schemdraw==0.15 (from pycaret)\n",
            "  Downloading schemdraw-0.15-py3-none-any.whl (106 kB)\n",
            "\u001b[2K     \u001b[90m━━━━━━━━━━━━━━━━━━━━━━━━━━━━━━━━━━━━━━━━\u001b[0m \u001b[32m106.8/106.8 kB\u001b[0m \u001b[31m5.4 MB/s\u001b[0m eta \u001b[36m0:00:00\u001b[0m\n",
            "\u001b[?25hCollecting plotly-resampler>=0.8.3.1 (from pycaret)\n",
            "  Downloading plotly_resampler-0.10.0-py3-none-any.whl (80 kB)\n",
            "\u001b[2K     \u001b[90m━━━━━━━━━━━━━━━━━━━━━━━━━━━━━━━━━━━━━━━━\u001b[0m \u001b[32m80.7/80.7 kB\u001b[0m \u001b[31m4.5 MB/s\u001b[0m eta \u001b[36m0:00:00\u001b[0m\n",
            "\u001b[?25hRequirement already satisfied: statsmodels>=0.12.1 in /usr/local/lib/python3.10/dist-packages (from pycaret) (0.14.2)\n",
            "Collecting sktime==0.26.0 (from pycaret)\n",
            "  Downloading sktime-0.26.0-py3-none-any.whl (21.8 MB)\n",
            "\u001b[2K     \u001b[90m━━━━━━━━━━━━━━━━━━━━━━━━━━━━━━━━━━━━━━━━\u001b[0m \u001b[32m21.8/21.8 MB\u001b[0m \u001b[31m17.4 MB/s\u001b[0m eta \u001b[36m0:00:00\u001b[0m\n",
            "\u001b[?25hCollecting tbats>=1.1.3 (from pycaret)\n",
            "  Downloading tbats-1.1.3-py3-none-any.whl (44 kB)\n",
            "\u001b[2K     \u001b[90m━━━━━━━━━━━━━━━━━━━━━━━━━━━━━━━━━━━━━━━━\u001b[0m \u001b[32m44.0/44.0 kB\u001b[0m \u001b[31m3.8 MB/s\u001b[0m eta \u001b[36m0:00:00\u001b[0m\n",
            "\u001b[?25hCollecting pmdarima>=2.0.4 (from pycaret)\n",
            "  Downloading pmdarima-2.0.4-cp310-cp310-manylinux_2_17_x86_64.manylinux2014_x86_64.manylinux_2_28_x86_64.whl (2.1 MB)\n",
            "\u001b[2K     \u001b[90m━━━━━━━━━━━━━━━━━━━━━━━━━━━━━━━━━━━━━━━━\u001b[0m \u001b[32m2.1/2.1 MB\u001b[0m \u001b[31m23.0 MB/s\u001b[0m eta \u001b[36m0:00:00\u001b[0m\n",
            "\u001b[?25hCollecting wurlitzer (from pycaret)\n",
            "  Downloading wurlitzer-3.1.0-py3-none-any.whl (8.4 kB)\n",
            "Requirement already satisfied: packaging in /usr/local/lib/python3.10/dist-packages (from sktime==0.26.0->pycaret) (24.0)\n",
            "Collecting scikit-base<0.8.0 (from sktime==0.26.0->pycaret)\n",
            "  Downloading scikit_base-0.7.7-py3-none-any.whl (129 kB)\n",
            "\u001b[2K     \u001b[90m━━━━━━━━━━━━━━━━━━━━━━━━━━━━━━━━━━━━━━━━\u001b[0m \u001b[32m129.9/129.9 kB\u001b[0m \u001b[31m4.9 MB/s\u001b[0m eta \u001b[36m0:00:00\u001b[0m\n",
            "\u001b[?25hRequirement already satisfied: patsy>=0.5.1 in /usr/local/lib/python3.10/dist-packages (from category-encoders>=2.4.0->pycaret) (0.5.6)\n",
            "Requirement already satisfied: threadpoolctl>=2.0.0 in /usr/local/lib/python3.10/dist-packages (from imbalanced-learn>=0.12.0->pycaret) (3.5.0)\n",
            "Requirement already satisfied: zipp>=0.5 in /usr/local/lib/python3.10/dist-packages (from importlib-metadata>=4.12.0->pycaret) (3.18.1)\n",
            "Requirement already satisfied: setuptools>=18.5 in /usr/local/lib/python3.10/dist-packages (from ipython>=5.5.0->pycaret) (67.7.2)\n",
            "Collecting jedi>=0.16 (from ipython>=5.5.0->pycaret)\n",
            "  Downloading jedi-0.19.1-py2.py3-none-any.whl (1.6 MB)\n",
            "\u001b[2K     \u001b[90m━━━━━━━━━━━━━━━━━━━━━━━━━━━━━━━━━━━━━━━━\u001b[0m \u001b[32m1.6/1.6 MB\u001b[0m \u001b[31m20.0 MB/s\u001b[0m eta \u001b[36m0:00:00\u001b[0m\n",
            "\u001b[?25hRequirement already satisfied: decorator in /usr/local/lib/python3.10/dist-packages (from ipython>=5.5.0->pycaret) (4.4.2)\n",
            "Requirement already satisfied: pickleshare in /usr/local/lib/python3.10/dist-packages (from ipython>=5.5.0->pycaret) (0.7.5)\n",
            "Requirement already satisfied: traitlets>=4.2 in /usr/local/lib/python3.10/dist-packages (from ipython>=5.5.0->pycaret) (5.7.1)\n",
            "Requirement already satisfied: prompt-toolkit!=3.0.0,!=3.0.1,<3.1.0,>=2.0.0 in /usr/local/lib/python3.10/dist-packages (from ipython>=5.5.0->pycaret) (3.0.43)\n",
            "Requirement already satisfied: pygments in /usr/local/lib/python3.10/dist-packages (from ipython>=5.5.0->pycaret) (2.16.1)\n",
            "Requirement already satisfied: backcall in /usr/local/lib/python3.10/dist-packages (from ipython>=5.5.0->pycaret) (0.2.0)\n",
            "Requirement already satisfied: matplotlib-inline in /usr/local/lib/python3.10/dist-packages (from ipython>=5.5.0->pycaret) (0.1.7)\n",
            "Requirement already satisfied: pexpect>4.3 in /usr/local/lib/python3.10/dist-packages (from ipython>=5.5.0->pycaret) (4.9.0)\n",
            "Requirement already satisfied: ipykernel>=4.5.1 in /usr/local/lib/python3.10/dist-packages (from ipywidgets>=7.6.5->pycaret) (5.5.6)\n",
            "Requirement already satisfied: ipython-genutils~=0.2.0 in /usr/local/lib/python3.10/dist-packages (from ipywidgets>=7.6.5->pycaret) (0.2.0)\n",
            "Requirement already satisfied: widgetsnbextension~=3.6.0 in /usr/local/lib/python3.10/dist-packages (from ipywidgets>=7.6.5->pycaret) (3.6.6)\n",
            "Requirement already satisfied: jupyterlab-widgets>=1.0.0 in /usr/local/lib/python3.10/dist-packages (from ipywidgets>=7.6.5->pycaret) (3.0.10)\n",
            "Requirement already satisfied: contourpy>=1.0.1 in /usr/local/lib/python3.10/dist-packages (from matplotlib<3.8.0->pycaret) (1.2.1)\n",
            "Requirement already satisfied: cycler>=0.10 in /usr/local/lib/python3.10/dist-packages (from matplotlib<3.8.0->pycaret) (0.12.1)\n",
            "Requirement already satisfied: fonttools>=4.22.0 in /usr/local/lib/python3.10/dist-packages (from matplotlib<3.8.0->pycaret) (4.51.0)\n",
            "Requirement already satisfied: kiwisolver>=1.0.1 in /usr/local/lib/python3.10/dist-packages (from matplotlib<3.8.0->pycaret) (1.4.5)\n",
            "Requirement already satisfied: pillow>=6.2.0 in /usr/local/lib/python3.10/dist-packages (from matplotlib<3.8.0->pycaret) (9.4.0)\n",
            "Requirement already satisfied: pyparsing>=2.3.1 in /usr/local/lib/python3.10/dist-packages (from matplotlib<3.8.0->pycaret) (3.1.2)\n",
            "Requirement already satisfied: python-dateutil>=2.7 in /usr/local/lib/python3.10/dist-packages (from matplotlib<3.8.0->pycaret) (2.8.2)\n",
            "Requirement already satisfied: fastjsonschema>=2.15 in /usr/local/lib/python3.10/dist-packages (from nbformat>=4.2.0->pycaret) (2.19.1)\n",
            "Requirement already satisfied: jsonschema>=2.6 in /usr/local/lib/python3.10/dist-packages (from nbformat>=4.2.0->pycaret) (4.19.2)\n",
            "Requirement already satisfied: jupyter-core!=5.0.*,>=4.12 in /usr/local/lib/python3.10/dist-packages (from nbformat>=4.2.0->pycaret) (5.7.2)\n",
            "Requirement already satisfied: llvmlite<0.42,>=0.41.0dev0 in /usr/local/lib/python3.10/dist-packages (from numba>=0.55.0->pycaret) (0.41.1)\n",
            "Requirement already satisfied: pytz>=2020.1 in /usr/local/lib/python3.10/dist-packages (from pandas<2.2.0->pycaret) (2023.4)\n",
            "Requirement already satisfied: tzdata>=2022.1 in /usr/local/lib/python3.10/dist-packages (from pandas<2.2.0->pycaret) (2024.1)\n",
            "Requirement already satisfied: tenacity>=6.2.0 in /usr/local/lib/python3.10/dist-packages (from plotly>=5.14.0->pycaret) (8.2.3)\n",
            "Collecting dash>=2.9.0 (from plotly-resampler>=0.8.3.1->pycaret)\n",
            "  Downloading dash-2.17.0-py3-none-any.whl (7.5 MB)\n",
            "\u001b[2K     \u001b[90m━━━━━━━━━━━━━━━━━━━━━━━━━━━━━━━━━━━━━━━━\u001b[0m \u001b[32m7.5/7.5 MB\u001b[0m \u001b[31m17.3 MB/s\u001b[0m eta \u001b[36m0:00:00\u001b[0m\n",
            "\u001b[?25hCollecting orjson<4.0.0,>=3.8.0 (from plotly-resampler>=0.8.3.1->pycaret)\n",
            "  Downloading orjson-3.10.3-cp310-cp310-manylinux_2_17_x86_64.manylinux2014_x86_64.whl (142 kB)\n",
            "\u001b[2K     \u001b[90m━━━━━━━━━━━━━━━━━━━━━━━━━━━━━━━━━━━━━━━━\u001b[0m \u001b[32m142.5/142.5 kB\u001b[0m \u001b[31m1.1 MB/s\u001b[0m eta \u001b[36m0:00:00\u001b[0m\n",
            "\u001b[?25hCollecting tsdownsample>=0.1.3 (from plotly-resampler>=0.8.3.1->pycaret)\n",
            "  Downloading tsdownsample-0.1.3-cp310-cp310-manylinux_2_17_x86_64.manylinux2014_x86_64.whl (2.1 MB)\n",
            "\u001b[2K     \u001b[90m━━━━━━━━━━━━━━━━━━━━━━━━━━━━━━━━━━━━━━━━\u001b[0m \u001b[32m2.1/2.1 MB\u001b[0m \u001b[31m45.7 MB/s\u001b[0m eta \u001b[36m0:00:00\u001b[0m\n",
            "\u001b[?25hRequirement already satisfied: Cython!=0.29.18,!=0.29.31,>=0.29 in /usr/local/lib/python3.10/dist-packages (from pmdarima>=2.0.4->pycaret) (3.0.10)\n",
            "Requirement already satisfied: urllib3 in /usr/local/lib/python3.10/dist-packages (from pmdarima>=2.0.4->pycaret) (2.0.7)\n",
            "Requirement already satisfied: six in /usr/local/lib/python3.10/dist-packages (from pyod>=1.1.3->pycaret) (1.16.0)\n",
            "Requirement already satisfied: charset-normalizer<4,>=2 in /usr/local/lib/python3.10/dist-packages (from requests>=2.27.1->pycaret) (3.3.2)\n",
            "Requirement already satisfied: idna<4,>=2.5 in /usr/local/lib/python3.10/dist-packages (from requests>=2.27.1->pycaret) (3.7)\n",
            "Requirement already satisfied: certifi>=2017.4.17 in /usr/local/lib/python3.10/dist-packages (from requests>=2.27.1->pycaret) (2024.2.2)\n",
            "Requirement already satisfied: Flask<3.1,>=1.0.4 in /usr/local/lib/python3.10/dist-packages (from dash>=2.9.0->plotly-resampler>=0.8.3.1->pycaret) (2.2.5)\n",
            "Requirement already satisfied: Werkzeug<3.1 in /usr/local/lib/python3.10/dist-packages (from dash>=2.9.0->plotly-resampler>=0.8.3.1->pycaret) (3.0.2)\n",
            "Collecting dash-html-components==2.0.0 (from dash>=2.9.0->plotly-resampler>=0.8.3.1->pycaret)\n",
            "  Downloading dash_html_components-2.0.0-py3-none-any.whl (4.1 kB)\n",
            "Collecting dash-core-components==2.0.0 (from dash>=2.9.0->plotly-resampler>=0.8.3.1->pycaret)\n",
            "  Downloading dash_core_components-2.0.0-py3-none-any.whl (3.8 kB)\n",
            "Collecting dash-table==5.0.0 (from dash>=2.9.0->plotly-resampler>=0.8.3.1->pycaret)\n",
            "  Downloading dash_table-5.0.0-py3-none-any.whl (3.9 kB)\n",
            "Requirement already satisfied: typing-extensions>=4.1.1 in /usr/local/lib/python3.10/dist-packages (from dash>=2.9.0->plotly-resampler>=0.8.3.1->pycaret) (4.11.0)\n",
            "Collecting retrying (from dash>=2.9.0->plotly-resampler>=0.8.3.1->pycaret)\n",
            "  Downloading retrying-1.3.4-py3-none-any.whl (11 kB)\n",
            "Requirement already satisfied: nest-asyncio in /usr/local/lib/python3.10/dist-packages (from dash>=2.9.0->plotly-resampler>=0.8.3.1->pycaret) (1.6.0)\n",
            "Requirement already satisfied: jupyter-client in /usr/local/lib/python3.10/dist-packages (from ipykernel>=4.5.1->ipywidgets>=7.6.5->pycaret) (6.1.12)\n",
            "Requirement already satisfied: tornado>=4.2 in /usr/local/lib/python3.10/dist-packages (from ipykernel>=4.5.1->ipywidgets>=7.6.5->pycaret) (6.3.3)\n",
            "Requirement already satisfied: parso<0.9.0,>=0.8.3 in /usr/local/lib/python3.10/dist-packages (from jedi>=0.16->ipython>=5.5.0->pycaret) (0.8.4)\n",
            "Requirement already satisfied: attrs>=22.2.0 in /usr/local/lib/python3.10/dist-packages (from jsonschema>=2.6->nbformat>=4.2.0->pycaret) (23.2.0)\n",
            "Requirement already satisfied: jsonschema-specifications>=2023.03.6 in /usr/local/lib/python3.10/dist-packages (from jsonschema>=2.6->nbformat>=4.2.0->pycaret) (2023.12.1)\n",
            "Requirement already satisfied: referencing>=0.28.4 in /usr/local/lib/python3.10/dist-packages (from jsonschema>=2.6->nbformat>=4.2.0->pycaret) (0.35.1)\n",
            "Requirement already satisfied: rpds-py>=0.7.1 in /usr/local/lib/python3.10/dist-packages (from jsonschema>=2.6->nbformat>=4.2.0->pycaret) (0.18.0)\n",
            "Requirement already satisfied: platformdirs>=2.5 in /usr/local/lib/python3.10/dist-packages (from jupyter-core!=5.0.*,>=4.12->nbformat>=4.2.0->pycaret) (4.2.1)\n",
            "Requirement already satisfied: ptyprocess>=0.5 in /usr/local/lib/python3.10/dist-packages (from pexpect>4.3->ipython>=5.5.0->pycaret) (0.7.0)\n",
            "Requirement already satisfied: wcwidth in /usr/local/lib/python3.10/dist-packages (from prompt-toolkit!=3.0.0,!=3.0.1,<3.1.0,>=2.0.0->ipython>=5.5.0->pycaret) (0.2.13)\n",
            "Requirement already satisfied: notebook>=4.4.1 in /usr/local/lib/python3.10/dist-packages (from widgetsnbextension~=3.6.0->ipywidgets>=7.6.5->pycaret) (6.5.5)\n",
            "Requirement already satisfied: itsdangerous>=2.0 in /usr/local/lib/python3.10/dist-packages (from Flask<3.1,>=1.0.4->dash>=2.9.0->plotly-resampler>=0.8.3.1->pycaret) (2.2.0)\n",
            "Requirement already satisfied: click>=8.0 in /usr/local/lib/python3.10/dist-packages (from Flask<3.1,>=1.0.4->dash>=2.9.0->plotly-resampler>=0.8.3.1->pycaret) (8.1.7)\n",
            "Requirement already satisfied: pyzmq<25,>=17 in /usr/local/lib/python3.10/dist-packages (from notebook>=4.4.1->widgetsnbextension~=3.6.0->ipywidgets>=7.6.5->pycaret) (24.0.1)\n",
            "Requirement already satisfied: argon2-cffi in /usr/local/lib/python3.10/dist-packages (from notebook>=4.4.1->widgetsnbextension~=3.6.0->ipywidgets>=7.6.5->pycaret) (23.1.0)\n",
            "Requirement already satisfied: nbconvert>=5 in /usr/local/lib/python3.10/dist-packages (from notebook>=4.4.1->widgetsnbextension~=3.6.0->ipywidgets>=7.6.5->pycaret) (6.5.4)\n",
            "Requirement already satisfied: Send2Trash>=1.8.0 in /usr/local/lib/python3.10/dist-packages (from notebook>=4.4.1->widgetsnbextension~=3.6.0->ipywidgets>=7.6.5->pycaret) (1.8.3)\n",
            "Requirement already satisfied: terminado>=0.8.3 in /usr/local/lib/python3.10/dist-packages (from notebook>=4.4.1->widgetsnbextension~=3.6.0->ipywidgets>=7.6.5->pycaret) (0.18.1)\n",
            "Requirement already satisfied: prometheus-client in /usr/local/lib/python3.10/dist-packages (from notebook>=4.4.1->widgetsnbextension~=3.6.0->ipywidgets>=7.6.5->pycaret) (0.20.0)\n",
            "Requirement already satisfied: nbclassic>=0.4.7 in /usr/local/lib/python3.10/dist-packages (from notebook>=4.4.1->widgetsnbextension~=3.6.0->ipywidgets>=7.6.5->pycaret) (1.0.0)\n",
            "Requirement already satisfied: jupyter-server>=1.8 in /usr/local/lib/python3.10/dist-packages (from nbclassic>=0.4.7->notebook>=4.4.1->widgetsnbextension~=3.6.0->ipywidgets>=7.6.5->pycaret) (1.24.0)\n",
            "Requirement already satisfied: notebook-shim>=0.2.3 in /usr/local/lib/python3.10/dist-packages (from nbclassic>=0.4.7->notebook>=4.4.1->widgetsnbextension~=3.6.0->ipywidgets>=7.6.5->pycaret) (0.2.4)\n",
            "Requirement already satisfied: lxml in /usr/local/lib/python3.10/dist-packages (from nbconvert>=5->notebook>=4.4.1->widgetsnbextension~=3.6.0->ipywidgets>=7.6.5->pycaret) (4.9.4)\n",
            "Requirement already satisfied: beautifulsoup4 in /usr/local/lib/python3.10/dist-packages (from nbconvert>=5->notebook>=4.4.1->widgetsnbextension~=3.6.0->ipywidgets>=7.6.5->pycaret) (4.12.3)\n",
            "Requirement already satisfied: bleach in /usr/local/lib/python3.10/dist-packages (from nbconvert>=5->notebook>=4.4.1->widgetsnbextension~=3.6.0->ipywidgets>=7.6.5->pycaret) (6.1.0)\n",
            "Requirement already satisfied: defusedxml in /usr/local/lib/python3.10/dist-packages (from nbconvert>=5->notebook>=4.4.1->widgetsnbextension~=3.6.0->ipywidgets>=7.6.5->pycaret) (0.7.1)\n",
            "Requirement already satisfied: entrypoints>=0.2.2 in /usr/local/lib/python3.10/dist-packages (from nbconvert>=5->notebook>=4.4.1->widgetsnbextension~=3.6.0->ipywidgets>=7.6.5->pycaret) (0.4)\n",
            "Requirement already satisfied: jupyterlab-pygments in /usr/local/lib/python3.10/dist-packages (from nbconvert>=5->notebook>=4.4.1->widgetsnbextension~=3.6.0->ipywidgets>=7.6.5->pycaret) (0.3.0)\n",
            "Requirement already satisfied: mistune<2,>=0.8.1 in /usr/local/lib/python3.10/dist-packages (from nbconvert>=5->notebook>=4.4.1->widgetsnbextension~=3.6.0->ipywidgets>=7.6.5->pycaret) (0.8.4)\n",
            "Requirement already satisfied: nbclient>=0.5.0 in /usr/local/lib/python3.10/dist-packages (from nbconvert>=5->notebook>=4.4.1->widgetsnbextension~=3.6.0->ipywidgets>=7.6.5->pycaret) (0.10.0)\n",
            "Requirement already satisfied: pandocfilters>=1.4.1 in /usr/local/lib/python3.10/dist-packages (from nbconvert>=5->notebook>=4.4.1->widgetsnbextension~=3.6.0->ipywidgets>=7.6.5->pycaret) (1.5.1)\n",
            "Requirement already satisfied: tinycss2 in /usr/local/lib/python3.10/dist-packages (from nbconvert>=5->notebook>=4.4.1->widgetsnbextension~=3.6.0->ipywidgets>=7.6.5->pycaret) (1.3.0)\n",
            "Requirement already satisfied: argon2-cffi-bindings in /usr/local/lib/python3.10/dist-packages (from argon2-cffi->notebook>=4.4.1->widgetsnbextension~=3.6.0->ipywidgets>=7.6.5->pycaret) (21.2.0)\n",
            "Requirement already satisfied: anyio<4,>=3.1.0 in /usr/local/lib/python3.10/dist-packages (from jupyter-server>=1.8->nbclassic>=0.4.7->notebook>=4.4.1->widgetsnbextension~=3.6.0->ipywidgets>=7.6.5->pycaret) (3.7.1)\n",
            "Requirement already satisfied: websocket-client in /usr/local/lib/python3.10/dist-packages (from jupyter-server>=1.8->nbclassic>=0.4.7->notebook>=4.4.1->widgetsnbextension~=3.6.0->ipywidgets>=7.6.5->pycaret) (1.8.0)\n",
            "Requirement already satisfied: cffi>=1.0.1 in /usr/local/lib/python3.10/dist-packages (from argon2-cffi-bindings->argon2-cffi->notebook>=4.4.1->widgetsnbextension~=3.6.0->ipywidgets>=7.6.5->pycaret) (1.16.0)\n",
            "Requirement already satisfied: soupsieve>1.2 in /usr/local/lib/python3.10/dist-packages (from beautifulsoup4->nbconvert>=5->notebook>=4.4.1->widgetsnbextension~=3.6.0->ipywidgets>=7.6.5->pycaret) (2.5)\n",
            "Requirement already satisfied: webencodings in /usr/local/lib/python3.10/dist-packages (from bleach->nbconvert>=5->notebook>=4.4.1->widgetsnbextension~=3.6.0->ipywidgets>=7.6.5->pycaret) (0.5.1)\n",
            "Requirement already satisfied: sniffio>=1.1 in /usr/local/lib/python3.10/dist-packages (from anyio<4,>=3.1.0->jupyter-server>=1.8->nbclassic>=0.4.7->notebook>=4.4.1->widgetsnbextension~=3.6.0->ipywidgets>=7.6.5->pycaret) (1.3.1)\n",
            "Requirement already satisfied: exceptiongroup in /usr/local/lib/python3.10/dist-packages (from anyio<4,>=3.1.0->jupyter-server>=1.8->nbclassic>=0.4.7->notebook>=4.4.1->widgetsnbextension~=3.6.0->ipywidgets>=7.6.5->pycaret) (1.2.1)\n",
            "Requirement already satisfied: pycparser in /usr/local/lib/python3.10/dist-packages (from cffi>=1.0.1->argon2-cffi-bindings->argon2-cffi->notebook>=4.4.1->widgetsnbextension~=3.6.0->ipywidgets>=7.6.5->pycaret) (2.22)\n",
            "Building wheels for collected packages: pyod\n",
            "  Building wheel for pyod (setup.py) ... \u001b[?25l\u001b[?25hdone\n",
            "  Created wheel for pyod: filename=pyod-1.1.3-py3-none-any.whl size=190250 sha256=8315cfaea247bb88f836eed45face31ba5e2f339fcd666bb78b1f36081b4d2a6\n",
            "  Stored in directory: /root/.cache/pip/wheels/05/f8/db/124d43bec122d6ec0ab3713fadfe25ebed8af52ec561682b4e\n",
            "Successfully built pyod\n",
            "Installing collected packages: kaleido, dash-table, dash-html-components, dash-core-components, xxhash, wurlitzer, tsdownsample, scikit-base, schemdraw, retrying, orjson, joblib, jedi, deprecation, scikit-learn, sktime, scikit-plot, pyod, imbalanced-learn, dash, pmdarima, plotly-resampler, category-encoders, tbats, pycaret\n",
            "  Attempting uninstall: joblib\n",
            "    Found existing installation: joblib 1.4.2\n",
            "    Uninstalling joblib-1.4.2:\n",
            "      Successfully uninstalled joblib-1.4.2\n",
            "  Attempting uninstall: scikit-learn\n",
            "    Found existing installation: scikit-learn 1.2.2\n",
            "    Uninstalling scikit-learn-1.2.2:\n",
            "      Successfully uninstalled scikit-learn-1.2.2\n",
            "  Attempting uninstall: imbalanced-learn\n",
            "    Found existing installation: imbalanced-learn 0.10.1\n",
            "    Uninstalling imbalanced-learn-0.10.1:\n",
            "      Successfully uninstalled imbalanced-learn-0.10.1\n",
            "Successfully installed category-encoders-2.6.3 dash-2.17.0 dash-core-components-2.0.0 dash-html-components-2.0.0 dash-table-5.0.0 deprecation-2.1.0 imbalanced-learn-0.12.2 jedi-0.19.1 joblib-1.3.2 kaleido-0.2.1 orjson-3.10.3 plotly-resampler-0.10.0 pmdarima-2.0.4 pycaret-3.3.2 pyod-1.1.3 retrying-1.3.4 schemdraw-0.15 scikit-base-0.7.7 scikit-learn-1.4.2 scikit-plot-0.3.7 sktime-0.26.0 tbats-1.1.3 tsdownsample-0.1.3 wurlitzer-3.1.0 xxhash-3.4.1\n"
          ]
        }
      ],
      "source": [
        "# Run first\n",
        "\n",
        "!pip install pycaret"
      ]
    },
    {
      "cell_type": "code",
      "execution_count": 2,
      "id": "UGyUVz8jwXc1",
      "metadata": {
        "id": "UGyUVz8jwXc1",
        "outputId": "948e5dad-5a64-43df-f82f-3b96921c1d22",
        "colab": {
          "base_uri": "https://localhost:8080/"
        }
      },
      "outputs": [
        {
          "output_type": "stream",
          "name": "stdout",
          "text": [
            "pycaret==3.3.2\n"
          ]
        }
      ],
      "source": [
        "# Run second\n",
        "# If you see an output of pycaret==<some version number>, you're good to go!\n",
        "\n",
        "!pip freeze | grep pycaret"
      ]
    },
    {
      "cell_type": "markdown",
      "id": "f9f02a80-6b4e-4f3f-874d-1ebc730f394a",
      "metadata": {
        "id": "f9f02a80-6b4e-4f3f-874d-1ebc730f394a"
      },
      "source": [
        "## Data Discovery"
      ]
    },
    {
      "cell_type": "markdown",
      "id": "286ce41e-c4b2-4495-9961-98a2ff5610c0",
      "metadata": {
        "id": "286ce41e-c4b2-4495-9961-98a2ff5610c0"
      },
      "source": [
        "In this challenge we are going to try and detect unwanted accounts (trolls) from a social media moderation dataset.\n",
        "\n",
        "a) Download [moderation.csv](https://drive.google.com/file/d/1twNqS0rd67DhURv2dZiOyjoeRf3s4q-f/view?usp=sharing) and upload it to Colab.\n",
        "\n",
        "b) Load the data into a `df` variable.\n",
        "\n",
        "First off, what are the features and the target?"
      ]
    },
    {
      "cell_type": "code",
      "execution_count": 4,
      "id": "vBgOu-V6n_mx",
      "metadata": {
        "id": "vBgOu-V6n_mx",
        "colab": {
          "base_uri": "https://localhost:8080/"
        },
        "outputId": "017804e5-a4a5-4ca6-af15-86ea449c753d"
      },
      "outputs": [
        {
          "output_type": "stream",
          "name": "stdout",
          "text": [
            "   node_id    email  has_picture_cover  has_linkedin  has_twitter  \\\n",
            "0  2220753    gmail                  0             0            0   \n",
            "1  2213375    yahoo                  0             0            0   \n",
            "2  1991442    gmail                  1             0            0   \n",
            "3  1962286  hotmail                  0             0            0   \n",
            "4  1968587    gmail                  1             1            0   \n",
            "\n",
            "   has_personal_url  has_instagram  is_unwanted  \\\n",
            "0                 0              0            1   \n",
            "1                 0              0            1   \n",
            "2                 0              0            1   \n",
            "3                 0              0            1   \n",
            "4                 0              0            1   \n",
            "\n",
            "                                                tags  \\\n",
            "0                                                NaN   \n",
            "1               Music;SocialMediaMarketing;Marketing   \n",
            "2                                                NaN   \n",
            "3  OfficeManagement;CustomerService;Administratio...   \n",
            "4  Screenwriting;Fashion;Writing;CopyWriting;Bran...   \n",
            "\n",
            "                                               goals  nb_chars_in_bio  \n",
            "0                                                NaN              0.0  \n",
            "1                                  Job opportunities             46.0  \n",
            "2                                                NaN              0.0  \n",
            "3  Explore a career change;Job opportunities;Idea...             25.0  \n",
            "4    Mentorship;Job opportunities;Freelance projects            234.0  \n"
          ]
        }
      ],
      "source": [
        "import pandas as pd\n",
        "\n",
        "# Load the data into a DataFrame #\n",
        "df = pd.read_csv(\"moderation DATASET.csv\")\n",
        "\n",
        "# Display the first few rows of the DataFrame to verify the data is loaded correctly #\n",
        "print(df.head())\n"
      ]
    },
    {
      "cell_type": "markdown",
      "id": "66e8ac64-58f9-45e5-a917-e44c8fef425d",
      "metadata": {
        "id": "66e8ac64-58f9-45e5-a917-e44c8fef425d",
        "tags": []
      },
      "source": [
        "<details>\n",
        "    <summary><i>Answer:</i></summary>\n",
        "\n",
        "Features are:\n",
        "\n",
        "- `node_id` ⇨ internal and unique id of each user\n",
        "\n",
        "- `email` ⇨ the email used to register (other refers to emails other than the main ones)\n",
        "\n",
        "- `has_picture_cover` ⇨ has the user added a picture to their profile?\n",
        "\n",
        "- `has_linkedin` ⇨ has the user added their LinkedIn handle?\n",
        "\n",
        "- `has_personal_url` ⇨ has the user added a link to their personal url?\n",
        "\n",
        "- `has_instagram` ⇨ has the user added their Instagram handle?\n",
        "\n",
        "- `tags` ⇨ the set of tags in the profile, separated by `;`\n",
        "\n",
        "- `goals` ⇨ the set of goals chosen by the user, separated by `;`\n",
        "\n",
        "- `nb_chars_in_bio` ⇨ the number of characters in the profile's bio\n",
        "\n",
        "\n",
        "`is_unwanted` is the target.\n",
        "\n",
        "</details>        \n",
        "\n",
        "\n"
      ]
    },
    {
      "cell_type": "markdown",
      "id": "RBcb_mJry6x5",
      "metadata": {
        "id": "RBcb_mJry6x5"
      },
      "source": [
        "Do we have any missing values in our dataset? (Always a good first step)"
      ]
    },
    {
      "cell_type": "code",
      "execution_count": 5,
      "id": "2qWIpi-Oy6LF",
      "metadata": {
        "id": "2qWIpi-Oy6LF",
        "colab": {
          "base_uri": "https://localhost:8080/"
        },
        "outputId": "0af24dc7-50f9-40a5-940f-f457a7a49ab1"
      },
      "outputs": [
        {
          "output_type": "stream",
          "name": "stdout",
          "text": [
            "Missing values in each column:\n",
            "node_id                 0\n",
            "email                   0\n",
            "has_picture_cover       0\n",
            "has_linkedin            0\n",
            "has_twitter             0\n",
            "has_personal_url        0\n",
            "has_instagram           0\n",
            "is_unwanted             0\n",
            "tags                 1270\n",
            "goals                 991\n",
            "nb_chars_in_bio       556\n",
            "dtype: int64\n"
          ]
        }
      ],
      "source": [
        "# Check for missing values in each column #\n",
        "missing_values = df.isna().sum()\n",
        "\n",
        "# Print the number of missing values in each column #\n",
        "print(\"Missing values in each column:\")\n",
        "print(missing_values)\n"
      ]
    },
    {
      "cell_type": "markdown",
      "id": "5ba075ad-84d0-4951-bb93-51712aa11033",
      "metadata": {
        "id": "5ba075ad-84d0-4951-bb93-51712aa11033"
      },
      "source": [
        "Never forget to properly clean your data!\n",
        "\n",
        "- Replace NaN values in `nb_chars_in_bio` column by 0.\n",
        "- Replace NaN values in `tags` and `goals` column by \"\".\n",
        "\n",
        "After, verify that this has been done."
      ]
    },
    {
      "cell_type": "markdown",
      "id": "Bz7O-8eaox5_",
      "metadata": {
        "id": "Bz7O-8eaox5_"
      },
      "source": [
        "<details>\n",
        "    <summary><i>Hint:</i></summary>\n",
        "\n",
        "Use `.loc[]` and function `.isnull()`, *or* use `.isnull()` and `.sum()`\n",
        "\n",
        "</details>  "
      ]
    },
    {
      "cell_type": "code",
      "execution_count": 7,
      "id": "dad774e8-d914-4b86-a6b2-f9f9ecfc0e70",
      "metadata": {
        "id": "dad774e8-d914-4b86-a6b2-f9f9ecfc0e70",
        "colab": {
          "base_uri": "https://localhost:8080/"
        },
        "outputId": "bc7bfe2d-a4f2-4495-8ec0-59a8ce48ab9e"
      },
      "outputs": [
        {
          "output_type": "stream",
          "name": "stdout",
          "text": [
            "Missing values after replacing:\n",
            "node_id              0\n",
            "email                0\n",
            "has_picture_cover    0\n",
            "has_linkedin         0\n",
            "has_twitter          0\n",
            "has_personal_url     0\n",
            "has_instagram        0\n",
            "is_unwanted          0\n",
            "tags                 0\n",
            "goals                0\n",
            "nb_chars_in_bio      0\n",
            "dtype: int64\n"
          ]
        }
      ],
      "source": [
        "# Replace NaN values in 'nb_chars_in_bio' column with 0 #\n",
        "df.loc[df['nb_chars_in_bio'].isnull(), 'nb_chars_in_bio'] = 0\n",
        "\n",
        "# Replace NaN values in 'tags' and 'goals' columns with empty string (\"\") #\n",
        "df['tags'].fillna(\"\", inplace=True)\n",
        "df['goals'].fillna(\"\", inplace=True)\n",
        "\n",
        "# Verify that missing values have been replaced #\n",
        "missing_values_after_fillna = df.isnull().sum()\n",
        "print(\"Missing values after replacing:\")\n",
        "print(missing_values_after_fillna)\n"
      ]
    },
    {
      "cell_type": "markdown",
      "id": "a6f53824-f614-44a2-aec1-1233c1ac9c44",
      "metadata": {
        "id": "a6f53824-f614-44a2-aec1-1233c1ac9c44"
      },
      "source": [
        "c) How many profiles are unwanted? Is the dataset well balanced (i.e. do we have the same number of samples in both classes)?"
      ]
    },
    {
      "cell_type": "code",
      "execution_count": 8,
      "id": "JEPMeeCCpZak",
      "metadata": {
        "id": "JEPMeeCCpZak",
        "colab": {
          "base_uri": "https://localhost:8080/"
        },
        "outputId": "3d839afe-1792-4f9d-82ea-445407fa6061"
      },
      "outputs": [
        {
          "output_type": "stream",
          "name": "stdout",
          "text": [
            "Number of profiles marked as unwanted:\n",
            "is_unwanted\n",
            "0    9000\n",
            "1    1000\n",
            "Name: count, dtype: int64\n",
            "Is the dataset balanced? False\n"
          ]
        }
      ],
      "source": [
        "# Count the number of profiles marked as unwanted #\n",
        "unwanted_counts = df['is_unwanted'].value_counts()\n",
        "\n",
        "# Print the counts #\n",
        "print(\"Number of profiles marked as unwanted:\")\n",
        "print(unwanted_counts)\n",
        "\n",
        "# Check if the dataset is balanced #\n",
        "is_balanced = unwanted_counts[1] == unwanted_counts[0]\n",
        "print(\"Is the dataset balanced?\", is_balanced)\n"
      ]
    },
    {
      "cell_type": "markdown",
      "id": "wUmB6oNKposj",
      "metadata": {
        "id": "wUmB6oNKposj"
      },
      "source": [
        "\n",
        "\n",
        "In this case, there are 1000 profiles marked as unwanted and 9000 profiles marked as not unwanted. We do not have a balanced dataset and we may need to consider mitigation strategies.\n",
        "\n"
      ]
    },
    {
      "cell_type": "markdown",
      "id": "04202e9b-f45e-4946-8879-07bf6cb3cfaf",
      "metadata": {
        "id": "04202e9b-f45e-4946-8879-07bf6cb3cfaf"
      },
      "source": [
        "d) Do you think that column `node_id` is relevant for our analysis?"
      ]
    },
    {
      "cell_type": "code",
      "execution_count": 10,
      "id": "Exs2Ei_pIvd6",
      "metadata": {
        "id": "Exs2Ei_pIvd6",
        "colab": {
          "base_uri": "https://localhost:8080/"
        },
        "outputId": "31d6ab79-8b5e-4d48-df52-dfb6e062df23"
      },
      "outputs": [
        {
          "output_type": "stream",
          "name": "stdout",
          "text": [
            "     email  has_picture_cover  has_linkedin  has_twitter  has_personal_url  \\\n",
            "0    gmail                  0             0            0                 0   \n",
            "1    yahoo                  0             0            0                 0   \n",
            "2    gmail                  1             0            0                 0   \n",
            "3  hotmail                  0             0            0                 0   \n",
            "4    gmail                  1             1            0                 0   \n",
            "\n",
            "   has_instagram  is_unwanted  \\\n",
            "0              0            1   \n",
            "1              0            1   \n",
            "2              0            1   \n",
            "3              0            1   \n",
            "4              0            1   \n",
            "\n",
            "                                                tags  \\\n",
            "0                                                      \n",
            "1               Music;SocialMediaMarketing;Marketing   \n",
            "2                                                      \n",
            "3  OfficeManagement;CustomerService;Administratio...   \n",
            "4  Screenwriting;Fashion;Writing;CopyWriting;Bran...   \n",
            "\n",
            "                                               goals  nb_chars_in_bio  \n",
            "0                                                                 0.0  \n",
            "1                                  Job opportunities             46.0  \n",
            "2                                                                 0.0  \n",
            "3  Explore a career change;Job opportunities;Idea...             25.0  \n",
            "4    Mentorship;Job opportunities;Freelance projects            234.0  \n"
          ]
        }
      ],
      "source": [
        "# Drop the 'node_id' column from the DataFrame #\n",
        "df.drop(columns=['node_id'], inplace=True)\n",
        "\n",
        "# Verify that the column has been dropped #\n",
        "print(df.head())\n"
      ]
    },
    {
      "cell_type": "markdown",
      "id": "SCItSDons2h1",
      "metadata": {
        "id": "SCItSDons2h1"
      },
      "source": [
        "<details>\n",
        "    <summary><i>Hint:</i></summary>\n",
        "\n",
        "Node_id is a unique identifier,\n",
        "we can delete it.\n",
        "\n",
        "</details>  "
      ]
    },
    {
      "cell_type": "markdown",
      "id": "21cba1b7-aa9f-4880-a7f8-2a777fade70d",
      "metadata": {
        "id": "21cba1b7-aa9f-4880-a7f8-2a777fade70d"
      },
      "source": [
        "## Feature engineering\n",
        "\n"
      ]
    },
    {
      "cell_type": "markdown",
      "id": "xiNSrOXutTJ6",
      "metadata": {
        "id": "xiNSrOXutTJ6"
      },
      "source": [
        "Before we starting create models, we need to thoroughly investigate our features to make sure they are both relevant & in the format that we need.\n",
        "\n",
        "For categorical features, there are few things we should check. One is unique counts.\n",
        "\n",
        "a) For the 'email' column, how many providers are there?\n",
        "\n",
        "Represent their distribution in the form of a histogram.\n",
        "\n",
        "<details>\n",
        "<summary><i>Hint</i></summary>\n",
        "    ⟿  Plotly Express has a function \"histogram\" to make a graph of this distribution: https://plotly.com/python/histograms/\n",
        "\n",
        "Use the color parameter to distinguish between providers\n",
        "</details>"
      ]
    },
    {
      "cell_type": "code",
      "execution_count": 15,
      "id": "ILgCnzffG4jf",
      "metadata": {
        "id": "ILgCnzffG4jf",
        "colab": {
          "base_uri": "https://localhost:8080/",
          "height": 542
        },
        "outputId": "19b3ddd1-7a68-498a-ae3d-65935e92dc49"
      },
      "outputs": [
        {
          "output_type": "display_data",
          "data": {
            "text/html": [
              "<html>\n",
              "<head><meta charset=\"utf-8\" /></head>\n",
              "<body>\n",
              "    <div>            <script src=\"https://cdnjs.cloudflare.com/ajax/libs/mathjax/2.7.5/MathJax.js?config=TeX-AMS-MML_SVG\"></script><script type=\"text/javascript\">if (window.MathJax && window.MathJax.Hub && window.MathJax.Hub.Config) {window.MathJax.Hub.Config({SVG: {font: \"STIX-Web\"}});}</script>                <script type=\"text/javascript\">window.PlotlyConfig = {MathJaxConfig: 'local'};</script>\n",
              "        <script charset=\"utf-8\" src=\"https://cdn.plot.ly/plotly-2.24.1.min.js\"></script>                <div id=\"a9c5954a-a74c-4d8d-b1b4-be83e5a6470d\" class=\"plotly-graph-div\" style=\"height:525px; width:100%;\"></div>            <script type=\"text/javascript\">                                    window.PLOTLYENV=window.PLOTLYENV || {};                                    if (document.getElementById(\"a9c5954a-a74c-4d8d-b1b4-be83e5a6470d\")) {                    Plotly.newPlot(                        \"a9c5954a-a74c-4d8d-b1b4-be83e5a6470d\",                        [{\"alignmentgroup\":\"True\",\"hovertemplate\":\"email_provider=%{x}\\u003cbr\\u003eCount=%{y}\\u003cextra\\u003e\\u003c\\u002fextra\\u003e\",\"legendgroup\":\"gmail\",\"marker\":{\"color\":\"#636efa\",\"pattern\":{\"shape\":\"\"}},\"name\":\"gmail\",\"offsetgroup\":\"gmail\",\"orientation\":\"v\",\"showlegend\":true,\"textposition\":\"auto\",\"x\":[\"gmail\"],\"xaxis\":\"x\",\"y\":[5919],\"yaxis\":\"y\",\"type\":\"bar\"},{\"alignmentgroup\":\"True\",\"hovertemplate\":\"email_provider=%{x}\\u003cbr\\u003eCount=%{y}\\u003cextra\\u003e\\u003c\\u002fextra\\u003e\",\"legendgroup\":\"other\",\"marker\":{\"color\":\"#EF553B\",\"pattern\":{\"shape\":\"\"}},\"name\":\"other\",\"offsetgroup\":\"other\",\"orientation\":\"v\",\"showlegend\":true,\"textposition\":\"auto\",\"x\":[\"other\"],\"xaxis\":\"x\",\"y\":[1311],\"yaxis\":\"y\",\"type\":\"bar\"},{\"alignmentgroup\":\"True\",\"hovertemplate\":\"email_provider=%{x}\\u003cbr\\u003eCount=%{y}\\u003cextra\\u003e\\u003c\\u002fextra\\u003e\",\"legendgroup\":\"hotmail\",\"marker\":{\"color\":\"#00cc96\",\"pattern\":{\"shape\":\"\"}},\"name\":\"hotmail\",\"offsetgroup\":\"hotmail\",\"orientation\":\"v\",\"showlegend\":true,\"textposition\":\"auto\",\"x\":[\"hotmail\"],\"xaxis\":\"x\",\"y\":[1160],\"yaxis\":\"y\",\"type\":\"bar\"},{\"alignmentgroup\":\"True\",\"hovertemplate\":\"email_provider=%{x}\\u003cbr\\u003eCount=%{y}\\u003cextra\\u003e\\u003c\\u002fextra\\u003e\",\"legendgroup\":\"yahoo\",\"marker\":{\"color\":\"#ab63fa\",\"pattern\":{\"shape\":\"\"}},\"name\":\"yahoo\",\"offsetgroup\":\"yahoo\",\"orientation\":\"v\",\"showlegend\":true,\"textposition\":\"auto\",\"x\":[\"yahoo\"],\"xaxis\":\"x\",\"y\":[850],\"yaxis\":\"y\",\"type\":\"bar\"},{\"alignmentgroup\":\"True\",\"hovertemplate\":\"email_provider=%{x}\\u003cbr\\u003eCount=%{y}\\u003cextra\\u003e\\u003c\\u002fextra\\u003e\",\"legendgroup\":\"outlook\",\"marker\":{\"color\":\"#FFA15A\",\"pattern\":{\"shape\":\"\"}},\"name\":\"outlook\",\"offsetgroup\":\"outlook\",\"orientation\":\"v\",\"showlegend\":true,\"textposition\":\"auto\",\"x\":[\"outlook\"],\"xaxis\":\"x\",\"y\":[274],\"yaxis\":\"y\",\"type\":\"bar\"},{\"alignmentgroup\":\"True\",\"hovertemplate\":\"email_provider=%{x}\\u003cbr\\u003eCount=%{y}\\u003cextra\\u003e\\u003c\\u002fextra\\u003e\",\"legendgroup\":\"live\",\"marker\":{\"color\":\"#19d3f3\",\"pattern\":{\"shape\":\"\"}},\"name\":\"live\",\"offsetgroup\":\"live\",\"orientation\":\"v\",\"showlegend\":true,\"textposition\":\"auto\",\"x\":[\"live\"],\"xaxis\":\"x\",\"y\":[191],\"yaxis\":\"y\",\"type\":\"bar\"},{\"alignmentgroup\":\"True\",\"hovertemplate\":\"email_provider=%{x}\\u003cbr\\u003eCount=%{y}\\u003cextra\\u003e\\u003c\\u002fextra\\u003e\",\"legendgroup\":\"icloud\",\"marker\":{\"color\":\"#FF6692\",\"pattern\":{\"shape\":\"\"}},\"name\":\"icloud\",\"offsetgroup\":\"icloud\",\"orientation\":\"v\",\"showlegend\":true,\"textposition\":\"auto\",\"x\":[\"icloud\"],\"xaxis\":\"x\",\"y\":[153],\"yaxis\":\"y\",\"type\":\"bar\"},{\"alignmentgroup\":\"True\",\"hovertemplate\":\"email_provider=%{x}\\u003cbr\\u003eCount=%{y}\\u003cextra\\u003e\\u003c\\u002fextra\\u003e\",\"legendgroup\":\"aol\",\"marker\":{\"color\":\"#B6E880\",\"pattern\":{\"shape\":\"\"}},\"name\":\"aol\",\"offsetgroup\":\"aol\",\"orientation\":\"v\",\"showlegend\":true,\"textposition\":\"auto\",\"x\":[\"aol\"],\"xaxis\":\"x\",\"y\":[72],\"yaxis\":\"y\",\"type\":\"bar\"},{\"alignmentgroup\":\"True\",\"hovertemplate\":\"email_provider=%{x}\\u003cbr\\u003eCount=%{y}\\u003cextra\\u003e\\u003c\\u002fextra\\u003e\",\"legendgroup\":\"orange\",\"marker\":{\"color\":\"#FF97FF\",\"pattern\":{\"shape\":\"\"}},\"name\":\"orange\",\"offsetgroup\":\"orange\",\"orientation\":\"v\",\"showlegend\":true,\"textposition\":\"auto\",\"x\":[\"orange\"],\"xaxis\":\"x\",\"y\":[70],\"yaxis\":\"y\",\"type\":\"bar\"}],                        {\"template\":{\"data\":{\"histogram2dcontour\":[{\"type\":\"histogram2dcontour\",\"colorbar\":{\"outlinewidth\":0,\"ticks\":\"\"},\"colorscale\":[[0.0,\"#0d0887\"],[0.1111111111111111,\"#46039f\"],[0.2222222222222222,\"#7201a8\"],[0.3333333333333333,\"#9c179e\"],[0.4444444444444444,\"#bd3786\"],[0.5555555555555556,\"#d8576b\"],[0.6666666666666666,\"#ed7953\"],[0.7777777777777778,\"#fb9f3a\"],[0.8888888888888888,\"#fdca26\"],[1.0,\"#f0f921\"]]}],\"choropleth\":[{\"type\":\"choropleth\",\"colorbar\":{\"outlinewidth\":0,\"ticks\":\"\"}}],\"histogram2d\":[{\"type\":\"histogram2d\",\"colorbar\":{\"outlinewidth\":0,\"ticks\":\"\"},\"colorscale\":[[0.0,\"#0d0887\"],[0.1111111111111111,\"#46039f\"],[0.2222222222222222,\"#7201a8\"],[0.3333333333333333,\"#9c179e\"],[0.4444444444444444,\"#bd3786\"],[0.5555555555555556,\"#d8576b\"],[0.6666666666666666,\"#ed7953\"],[0.7777777777777778,\"#fb9f3a\"],[0.8888888888888888,\"#fdca26\"],[1.0,\"#f0f921\"]]}],\"heatmap\":[{\"type\":\"heatmap\",\"colorbar\":{\"outlinewidth\":0,\"ticks\":\"\"},\"colorscale\":[[0.0,\"#0d0887\"],[0.1111111111111111,\"#46039f\"],[0.2222222222222222,\"#7201a8\"],[0.3333333333333333,\"#9c179e\"],[0.4444444444444444,\"#bd3786\"],[0.5555555555555556,\"#d8576b\"],[0.6666666666666666,\"#ed7953\"],[0.7777777777777778,\"#fb9f3a\"],[0.8888888888888888,\"#fdca26\"],[1.0,\"#f0f921\"]]}],\"heatmapgl\":[{\"type\":\"heatmapgl\",\"colorbar\":{\"outlinewidth\":0,\"ticks\":\"\"},\"colorscale\":[[0.0,\"#0d0887\"],[0.1111111111111111,\"#46039f\"],[0.2222222222222222,\"#7201a8\"],[0.3333333333333333,\"#9c179e\"],[0.4444444444444444,\"#bd3786\"],[0.5555555555555556,\"#d8576b\"],[0.6666666666666666,\"#ed7953\"],[0.7777777777777778,\"#fb9f3a\"],[0.8888888888888888,\"#fdca26\"],[1.0,\"#f0f921\"]]}],\"contourcarpet\":[{\"type\":\"contourcarpet\",\"colorbar\":{\"outlinewidth\":0,\"ticks\":\"\"}}],\"contour\":[{\"type\":\"contour\",\"colorbar\":{\"outlinewidth\":0,\"ticks\":\"\"},\"colorscale\":[[0.0,\"#0d0887\"],[0.1111111111111111,\"#46039f\"],[0.2222222222222222,\"#7201a8\"],[0.3333333333333333,\"#9c179e\"],[0.4444444444444444,\"#bd3786\"],[0.5555555555555556,\"#d8576b\"],[0.6666666666666666,\"#ed7953\"],[0.7777777777777778,\"#fb9f3a\"],[0.8888888888888888,\"#fdca26\"],[1.0,\"#f0f921\"]]}],\"surface\":[{\"type\":\"surface\",\"colorbar\":{\"outlinewidth\":0,\"ticks\":\"\"},\"colorscale\":[[0.0,\"#0d0887\"],[0.1111111111111111,\"#46039f\"],[0.2222222222222222,\"#7201a8\"],[0.3333333333333333,\"#9c179e\"],[0.4444444444444444,\"#bd3786\"],[0.5555555555555556,\"#d8576b\"],[0.6666666666666666,\"#ed7953\"],[0.7777777777777778,\"#fb9f3a\"],[0.8888888888888888,\"#fdca26\"],[1.0,\"#f0f921\"]]}],\"mesh3d\":[{\"type\":\"mesh3d\",\"colorbar\":{\"outlinewidth\":0,\"ticks\":\"\"}}],\"scatter\":[{\"fillpattern\":{\"fillmode\":\"overlay\",\"size\":10,\"solidity\":0.2},\"type\":\"scatter\"}],\"parcoords\":[{\"type\":\"parcoords\",\"line\":{\"colorbar\":{\"outlinewidth\":0,\"ticks\":\"\"}}}],\"scatterpolargl\":[{\"type\":\"scatterpolargl\",\"marker\":{\"colorbar\":{\"outlinewidth\":0,\"ticks\":\"\"}}}],\"bar\":[{\"error_x\":{\"color\":\"#2a3f5f\"},\"error_y\":{\"color\":\"#2a3f5f\"},\"marker\":{\"line\":{\"color\":\"#E5ECF6\",\"width\":0.5},\"pattern\":{\"fillmode\":\"overlay\",\"size\":10,\"solidity\":0.2}},\"type\":\"bar\"}],\"scattergeo\":[{\"type\":\"scattergeo\",\"marker\":{\"colorbar\":{\"outlinewidth\":0,\"ticks\":\"\"}}}],\"scatterpolar\":[{\"type\":\"scatterpolar\",\"marker\":{\"colorbar\":{\"outlinewidth\":0,\"ticks\":\"\"}}}],\"histogram\":[{\"marker\":{\"pattern\":{\"fillmode\":\"overlay\",\"size\":10,\"solidity\":0.2}},\"type\":\"histogram\"}],\"scattergl\":[{\"type\":\"scattergl\",\"marker\":{\"colorbar\":{\"outlinewidth\":0,\"ticks\":\"\"}}}],\"scatter3d\":[{\"type\":\"scatter3d\",\"line\":{\"colorbar\":{\"outlinewidth\":0,\"ticks\":\"\"}},\"marker\":{\"colorbar\":{\"outlinewidth\":0,\"ticks\":\"\"}}}],\"scattermapbox\":[{\"type\":\"scattermapbox\",\"marker\":{\"colorbar\":{\"outlinewidth\":0,\"ticks\":\"\"}}}],\"scatterternary\":[{\"type\":\"scatterternary\",\"marker\":{\"colorbar\":{\"outlinewidth\":0,\"ticks\":\"\"}}}],\"scattercarpet\":[{\"type\":\"scattercarpet\",\"marker\":{\"colorbar\":{\"outlinewidth\":0,\"ticks\":\"\"}}}],\"carpet\":[{\"aaxis\":{\"endlinecolor\":\"#2a3f5f\",\"gridcolor\":\"white\",\"linecolor\":\"white\",\"minorgridcolor\":\"white\",\"startlinecolor\":\"#2a3f5f\"},\"baxis\":{\"endlinecolor\":\"#2a3f5f\",\"gridcolor\":\"white\",\"linecolor\":\"white\",\"minorgridcolor\":\"white\",\"startlinecolor\":\"#2a3f5f\"},\"type\":\"carpet\"}],\"table\":[{\"cells\":{\"fill\":{\"color\":\"#EBF0F8\"},\"line\":{\"color\":\"white\"}},\"header\":{\"fill\":{\"color\":\"#C8D4E3\"},\"line\":{\"color\":\"white\"}},\"type\":\"table\"}],\"barpolar\":[{\"marker\":{\"line\":{\"color\":\"#E5ECF6\",\"width\":0.5},\"pattern\":{\"fillmode\":\"overlay\",\"size\":10,\"solidity\":0.2}},\"type\":\"barpolar\"}],\"pie\":[{\"automargin\":true,\"type\":\"pie\"}]},\"layout\":{\"autotypenumbers\":\"strict\",\"colorway\":[\"#636efa\",\"#EF553B\",\"#00cc96\",\"#ab63fa\",\"#FFA15A\",\"#19d3f3\",\"#FF6692\",\"#B6E880\",\"#FF97FF\",\"#FECB52\"],\"font\":{\"color\":\"#2a3f5f\"},\"hovermode\":\"closest\",\"hoverlabel\":{\"align\":\"left\"},\"paper_bgcolor\":\"white\",\"plot_bgcolor\":\"#E5ECF6\",\"polar\":{\"bgcolor\":\"#E5ECF6\",\"angularaxis\":{\"gridcolor\":\"white\",\"linecolor\":\"white\",\"ticks\":\"\"},\"radialaxis\":{\"gridcolor\":\"white\",\"linecolor\":\"white\",\"ticks\":\"\"}},\"ternary\":{\"bgcolor\":\"#E5ECF6\",\"aaxis\":{\"gridcolor\":\"white\",\"linecolor\":\"white\",\"ticks\":\"\"},\"baxis\":{\"gridcolor\":\"white\",\"linecolor\":\"white\",\"ticks\":\"\"},\"caxis\":{\"gridcolor\":\"white\",\"linecolor\":\"white\",\"ticks\":\"\"}},\"coloraxis\":{\"colorbar\":{\"outlinewidth\":0,\"ticks\":\"\"}},\"colorscale\":{\"sequential\":[[0.0,\"#0d0887\"],[0.1111111111111111,\"#46039f\"],[0.2222222222222222,\"#7201a8\"],[0.3333333333333333,\"#9c179e\"],[0.4444444444444444,\"#bd3786\"],[0.5555555555555556,\"#d8576b\"],[0.6666666666666666,\"#ed7953\"],[0.7777777777777778,\"#fb9f3a\"],[0.8888888888888888,\"#fdca26\"],[1.0,\"#f0f921\"]],\"sequentialminus\":[[0.0,\"#0d0887\"],[0.1111111111111111,\"#46039f\"],[0.2222222222222222,\"#7201a8\"],[0.3333333333333333,\"#9c179e\"],[0.4444444444444444,\"#bd3786\"],[0.5555555555555556,\"#d8576b\"],[0.6666666666666666,\"#ed7953\"],[0.7777777777777778,\"#fb9f3a\"],[0.8888888888888888,\"#fdca26\"],[1.0,\"#f0f921\"]],\"diverging\":[[0,\"#8e0152\"],[0.1,\"#c51b7d\"],[0.2,\"#de77ae\"],[0.3,\"#f1b6da\"],[0.4,\"#fde0ef\"],[0.5,\"#f7f7f7\"],[0.6,\"#e6f5d0\"],[0.7,\"#b8e186\"],[0.8,\"#7fbc41\"],[0.9,\"#4d9221\"],[1,\"#276419\"]]},\"xaxis\":{\"gridcolor\":\"white\",\"linecolor\":\"white\",\"ticks\":\"\",\"title\":{\"standoff\":15},\"zerolinecolor\":\"white\",\"automargin\":true,\"zerolinewidth\":2},\"yaxis\":{\"gridcolor\":\"white\",\"linecolor\":\"white\",\"ticks\":\"\",\"title\":{\"standoff\":15},\"zerolinecolor\":\"white\",\"automargin\":true,\"zerolinewidth\":2},\"scene\":{\"xaxis\":{\"backgroundcolor\":\"#E5ECF6\",\"gridcolor\":\"white\",\"linecolor\":\"white\",\"showbackground\":true,\"ticks\":\"\",\"zerolinecolor\":\"white\",\"gridwidth\":2},\"yaxis\":{\"backgroundcolor\":\"#E5ECF6\",\"gridcolor\":\"white\",\"linecolor\":\"white\",\"showbackground\":true,\"ticks\":\"\",\"zerolinecolor\":\"white\",\"gridwidth\":2},\"zaxis\":{\"backgroundcolor\":\"#E5ECF6\",\"gridcolor\":\"white\",\"linecolor\":\"white\",\"showbackground\":true,\"ticks\":\"\",\"zerolinecolor\":\"white\",\"gridwidth\":2}},\"shapedefaults\":{\"line\":{\"color\":\"#2a3f5f\"}},\"annotationdefaults\":{\"arrowcolor\":\"#2a3f5f\",\"arrowhead\":0,\"arrowwidth\":1},\"geo\":{\"bgcolor\":\"white\",\"landcolor\":\"#E5ECF6\",\"subunitcolor\":\"white\",\"showland\":true,\"showlakes\":true,\"lakecolor\":\"white\"},\"title\":{\"x\":0.05},\"mapbox\":{\"style\":\"light\"}}},\"xaxis\":{\"anchor\":\"y\",\"domain\":[0.0,1.0],\"title\":{\"text\":\"email_provider\"},\"categoryorder\":\"array\",\"categoryarray\":[\"gmail\",\"other\",\"hotmail\",\"yahoo\",\"outlook\",\"live\",\"icloud\",\"aol\",\"orange\"]},\"yaxis\":{\"anchor\":\"x\",\"domain\":[0.0,1.0],\"title\":{\"text\":\"Count\"}},\"legend\":{\"title\":{\"text\":\"email_provider\"},\"tracegroupgap\":0},\"title\":{\"text\":\"Distribution of Email Providers\"},\"barmode\":\"relative\"},                        {\"responsive\": true}                    ).then(function(){\n",
              "                            \n",
              "var gd = document.getElementById('a9c5954a-a74c-4d8d-b1b4-be83e5a6470d');\n",
              "var x = new MutationObserver(function (mutations, observer) {{\n",
              "        var display = window.getComputedStyle(gd).display;\n",
              "        if (!display || display === 'none') {{\n",
              "            console.log([gd, 'removed!']);\n",
              "            Plotly.purge(gd);\n",
              "            observer.disconnect();\n",
              "        }}\n",
              "}});\n",
              "\n",
              "// Listen for the removal of the full notebook cells\n",
              "var notebookContainer = gd.closest('#notebook-container');\n",
              "if (notebookContainer) {{\n",
              "    x.observe(notebookContainer, {childList: true});\n",
              "}}\n",
              "\n",
              "// Listen for the clearing of the current output cell\n",
              "var outputEl = gd.closest('.output');\n",
              "if (outputEl) {{\n",
              "    x.observe(outputEl, {childList: true});\n",
              "}}\n",
              "\n",
              "                        })                };                            </script>        </div>\n",
              "</body>\n",
              "</html>"
            ]
          },
          "metadata": {}
        }
      ],
      "source": [
        "import plotly.express as px\n",
        "\n",
        "# Extract email providers from the email column #\n",
        "df['email_provider'] = df['email'].str.split('.').str[-1]\n",
        "\n",
        "# Count the occurrences of each email provider #\n",
        "email_provider_counts = df['email_provider'].value_counts()\n",
        "\n",
        "# Create a histogram plot with color differentiation for each provider #\n",
        "fig = px.bar(email_provider_counts, x=email_provider_counts.index, y=email_provider_counts.values,\n",
        "             labels={'x':'Email Provider', 'y':'Count'},\n",
        "             title='Distribution of Email Providers',\n",
        "             color=email_provider_counts.index)\n",
        "fig.show()\n",
        "\n"
      ]
    },
    {
      "cell_type": "code",
      "execution_count": 16,
      "id": "001bcee1-3b54-41cc-b5b9-d18e6dc7bfa1",
      "metadata": {
        "id": "001bcee1-3b54-41cc-b5b9-d18e6dc7bfa1",
        "colab": {
          "base_uri": "https://localhost:8080/"
        },
        "outputId": "f9b04797-69c0-4033-816e-93d858513e42"
      },
      "outputs": [
        {
          "output_type": "stream",
          "name": "stdout",
          "text": [
            "Number of unique email providers: 9\n"
          ]
        }
      ],
      "source": [
        "# Extract email providers from the email column #\n",
        "df['email_provider'] = df['email'].str.split('.').str[-1]\n",
        "\n",
        "# Count the number of unique email providers #\n",
        "num_providers = df['email_provider'].nunique()\n",
        "\n",
        "print(\"Number of unique email providers:\", num_providers)\n"
      ]
    },
    {
      "cell_type": "markdown",
      "id": "6f43c744-4718-4a19-9990-ff7cffa540e8",
      "metadata": {
        "id": "6f43c744-4718-4a19-9990-ff7cffa540e8"
      },
      "source": [
        "b) A first simple analysis could be to investigate whether there is a link between a given email provider and the probability of being labeled as 'unwanted'.\n",
        "\n",
        "Plot this probability in a chart.\n",
        "\n",
        "\n",
        "<details>\n",
        "<summary><i>Hint</i></summary>\n",
        "    ⟿  use `groupby` and `mean` function to calculate probability of being `is_unwanted` by email provider.\n",
        "    \n",
        "    ⟿  we can use a `bar` chart of Plotly Express : https://plotly.com/python/bar-charts/\n",
        "</details>"
      ]
    },
    {
      "cell_type": "code",
      "execution_count": 19,
      "id": "0a834c12-9355-4c14-a0bb-b09a95733b81",
      "metadata": {
        "id": "0a834c12-9355-4c14-a0bb-b09a95733b81",
        "colab": {
          "base_uri": "https://localhost:8080/",
          "height": 542
        },
        "outputId": "8f7391ec-b339-420c-c202-7ff3d86dfd56"
      },
      "outputs": [
        {
          "output_type": "display_data",
          "data": {
            "text/html": [
              "<html>\n",
              "<head><meta charset=\"utf-8\" /></head>\n",
              "<body>\n",
              "    <div>            <script src=\"https://cdnjs.cloudflare.com/ajax/libs/mathjax/2.7.5/MathJax.js?config=TeX-AMS-MML_SVG\"></script><script type=\"text/javascript\">if (window.MathJax && window.MathJax.Hub && window.MathJax.Hub.Config) {window.MathJax.Hub.Config({SVG: {font: \"STIX-Web\"}});}</script>                <script type=\"text/javascript\">window.PlotlyConfig = {MathJaxConfig: 'local'};</script>\n",
              "        <script charset=\"utf-8\" src=\"https://cdn.plot.ly/plotly-2.24.1.min.js\"></script>                <div id=\"1efd2b21-7d46-42d2-ac01-cb568cd9e1df\" class=\"plotly-graph-div\" style=\"height:525px; width:100%;\"></div>            <script type=\"text/javascript\">                                    window.PLOTLYENV=window.PLOTLYENV || {};                                    if (document.getElementById(\"1efd2b21-7d46-42d2-ac01-cb568cd9e1df\")) {                    Plotly.newPlot(                        \"1efd2b21-7d46-42d2-ac01-cb568cd9e1df\",                        [{\"alignmentgroup\":\"True\",\"hovertemplate\":\"Email Provider=%{x}\\u003cbr\\u003eProbability of Being Unwanted=%{y}\\u003cextra\\u003e\\u003c\\u002fextra\\u003e\",\"legendgroup\":\"aol\",\"marker\":{\"color\":\"#636efa\",\"pattern\":{\"shape\":\"\"}},\"name\":\"aol\",\"offsetgroup\":\"aol\",\"orientation\":\"v\",\"showlegend\":true,\"textposition\":\"auto\",\"x\":[\"aol\"],\"xaxis\":\"x\",\"y\":[0.06944444444444445],\"yaxis\":\"y\",\"type\":\"bar\"},{\"alignmentgroup\":\"True\",\"hovertemplate\":\"Email Provider=%{x}\\u003cbr\\u003eProbability of Being Unwanted=%{y}\\u003cextra\\u003e\\u003c\\u002fextra\\u003e\",\"legendgroup\":\"gmail\",\"marker\":{\"color\":\"#EF553B\",\"pattern\":{\"shape\":\"\"}},\"name\":\"gmail\",\"offsetgroup\":\"gmail\",\"orientation\":\"v\",\"showlegend\":true,\"textposition\":\"auto\",\"x\":[\"gmail\"],\"xaxis\":\"x\",\"y\":[0.10356479134989019],\"yaxis\":\"y\",\"type\":\"bar\"},{\"alignmentgroup\":\"True\",\"hovertemplate\":\"Email Provider=%{x}\\u003cbr\\u003eProbability of Being Unwanted=%{y}\\u003cextra\\u003e\\u003c\\u002fextra\\u003e\",\"legendgroup\":\"hotmail\",\"marker\":{\"color\":\"#00cc96\",\"pattern\":{\"shape\":\"\"}},\"name\":\"hotmail\",\"offsetgroup\":\"hotmail\",\"orientation\":\"v\",\"showlegend\":true,\"textposition\":\"auto\",\"x\":[\"hotmail\"],\"xaxis\":\"x\",\"y\":[0.10344827586206896],\"yaxis\":\"y\",\"type\":\"bar\"},{\"alignmentgroup\":\"True\",\"hovertemplate\":\"Email Provider=%{x}\\u003cbr\\u003eProbability of Being Unwanted=%{y}\\u003cextra\\u003e\\u003c\\u002fextra\\u003e\",\"legendgroup\":\"icloud\",\"marker\":{\"color\":\"#ab63fa\",\"pattern\":{\"shape\":\"\"}},\"name\":\"icloud\",\"offsetgroup\":\"icloud\",\"orientation\":\"v\",\"showlegend\":true,\"textposition\":\"auto\",\"x\":[\"icloud\"],\"xaxis\":\"x\",\"y\":[0.13725490196078433],\"yaxis\":\"y\",\"type\":\"bar\"},{\"alignmentgroup\":\"True\",\"hovertemplate\":\"Email Provider=%{x}\\u003cbr\\u003eProbability of Being Unwanted=%{y}\\u003cextra\\u003e\\u003c\\u002fextra\\u003e\",\"legendgroup\":\"live\",\"marker\":{\"color\":\"#FFA15A\",\"pattern\":{\"shape\":\"\"}},\"name\":\"live\",\"offsetgroup\":\"live\",\"orientation\":\"v\",\"showlegend\":true,\"textposition\":\"auto\",\"x\":[\"live\"],\"xaxis\":\"x\",\"y\":[0.08900523560209424],\"yaxis\":\"y\",\"type\":\"bar\"},{\"alignmentgroup\":\"True\",\"hovertemplate\":\"Email Provider=%{x}\\u003cbr\\u003eProbability of Being Unwanted=%{y}\\u003cextra\\u003e\\u003c\\u002fextra\\u003e\",\"legendgroup\":\"orange\",\"marker\":{\"color\":\"#19d3f3\",\"pattern\":{\"shape\":\"\"}},\"name\":\"orange\",\"offsetgroup\":\"orange\",\"orientation\":\"v\",\"showlegend\":true,\"textposition\":\"auto\",\"x\":[\"orange\"],\"xaxis\":\"x\",\"y\":[0.12857142857142856],\"yaxis\":\"y\",\"type\":\"bar\"},{\"alignmentgroup\":\"True\",\"hovertemplate\":\"Email Provider=%{x}\\u003cbr\\u003eProbability of Being Unwanted=%{y}\\u003cextra\\u003e\\u003c\\u002fextra\\u003e\",\"legendgroup\":\"other\",\"marker\":{\"color\":\"#FF6692\",\"pattern\":{\"shape\":\"\"}},\"name\":\"other\",\"offsetgroup\":\"other\",\"orientation\":\"v\",\"showlegend\":true,\"textposition\":\"auto\",\"x\":[\"other\"],\"xaxis\":\"x\",\"y\":[0.06864988558352403],\"yaxis\":\"y\",\"type\":\"bar\"},{\"alignmentgroup\":\"True\",\"hovertemplate\":\"Email Provider=%{x}\\u003cbr\\u003eProbability of Being Unwanted=%{y}\\u003cextra\\u003e\\u003c\\u002fextra\\u003e\",\"legendgroup\":\"outlook\",\"marker\":{\"color\":\"#B6E880\",\"pattern\":{\"shape\":\"\"}},\"name\":\"outlook\",\"offsetgroup\":\"outlook\",\"orientation\":\"v\",\"showlegend\":true,\"textposition\":\"auto\",\"x\":[\"outlook\"],\"xaxis\":\"x\",\"y\":[0.10948905109489052],\"yaxis\":\"y\",\"type\":\"bar\"},{\"alignmentgroup\":\"True\",\"hovertemplate\":\"Email Provider=%{x}\\u003cbr\\u003eProbability of Being Unwanted=%{y}\\u003cextra\\u003e\\u003c\\u002fextra\\u003e\",\"legendgroup\":\"yahoo\",\"marker\":{\"color\":\"#FF97FF\",\"pattern\":{\"shape\":\"\"}},\"name\":\"yahoo\",\"offsetgroup\":\"yahoo\",\"orientation\":\"v\",\"showlegend\":true,\"textposition\":\"auto\",\"x\":[\"yahoo\"],\"xaxis\":\"x\",\"y\":[0.11176470588235295],\"yaxis\":\"y\",\"type\":\"bar\"}],                        {\"template\":{\"data\":{\"histogram2dcontour\":[{\"type\":\"histogram2dcontour\",\"colorbar\":{\"outlinewidth\":0,\"ticks\":\"\"},\"colorscale\":[[0.0,\"#0d0887\"],[0.1111111111111111,\"#46039f\"],[0.2222222222222222,\"#7201a8\"],[0.3333333333333333,\"#9c179e\"],[0.4444444444444444,\"#bd3786\"],[0.5555555555555556,\"#d8576b\"],[0.6666666666666666,\"#ed7953\"],[0.7777777777777778,\"#fb9f3a\"],[0.8888888888888888,\"#fdca26\"],[1.0,\"#f0f921\"]]}],\"choropleth\":[{\"type\":\"choropleth\",\"colorbar\":{\"outlinewidth\":0,\"ticks\":\"\"}}],\"histogram2d\":[{\"type\":\"histogram2d\",\"colorbar\":{\"outlinewidth\":0,\"ticks\":\"\"},\"colorscale\":[[0.0,\"#0d0887\"],[0.1111111111111111,\"#46039f\"],[0.2222222222222222,\"#7201a8\"],[0.3333333333333333,\"#9c179e\"],[0.4444444444444444,\"#bd3786\"],[0.5555555555555556,\"#d8576b\"],[0.6666666666666666,\"#ed7953\"],[0.7777777777777778,\"#fb9f3a\"],[0.8888888888888888,\"#fdca26\"],[1.0,\"#f0f921\"]]}],\"heatmap\":[{\"type\":\"heatmap\",\"colorbar\":{\"outlinewidth\":0,\"ticks\":\"\"},\"colorscale\":[[0.0,\"#0d0887\"],[0.1111111111111111,\"#46039f\"],[0.2222222222222222,\"#7201a8\"],[0.3333333333333333,\"#9c179e\"],[0.4444444444444444,\"#bd3786\"],[0.5555555555555556,\"#d8576b\"],[0.6666666666666666,\"#ed7953\"],[0.7777777777777778,\"#fb9f3a\"],[0.8888888888888888,\"#fdca26\"],[1.0,\"#f0f921\"]]}],\"heatmapgl\":[{\"type\":\"heatmapgl\",\"colorbar\":{\"outlinewidth\":0,\"ticks\":\"\"},\"colorscale\":[[0.0,\"#0d0887\"],[0.1111111111111111,\"#46039f\"],[0.2222222222222222,\"#7201a8\"],[0.3333333333333333,\"#9c179e\"],[0.4444444444444444,\"#bd3786\"],[0.5555555555555556,\"#d8576b\"],[0.6666666666666666,\"#ed7953\"],[0.7777777777777778,\"#fb9f3a\"],[0.8888888888888888,\"#fdca26\"],[1.0,\"#f0f921\"]]}],\"contourcarpet\":[{\"type\":\"contourcarpet\",\"colorbar\":{\"outlinewidth\":0,\"ticks\":\"\"}}],\"contour\":[{\"type\":\"contour\",\"colorbar\":{\"outlinewidth\":0,\"ticks\":\"\"},\"colorscale\":[[0.0,\"#0d0887\"],[0.1111111111111111,\"#46039f\"],[0.2222222222222222,\"#7201a8\"],[0.3333333333333333,\"#9c179e\"],[0.4444444444444444,\"#bd3786\"],[0.5555555555555556,\"#d8576b\"],[0.6666666666666666,\"#ed7953\"],[0.7777777777777778,\"#fb9f3a\"],[0.8888888888888888,\"#fdca26\"],[1.0,\"#f0f921\"]]}],\"surface\":[{\"type\":\"surface\",\"colorbar\":{\"outlinewidth\":0,\"ticks\":\"\"},\"colorscale\":[[0.0,\"#0d0887\"],[0.1111111111111111,\"#46039f\"],[0.2222222222222222,\"#7201a8\"],[0.3333333333333333,\"#9c179e\"],[0.4444444444444444,\"#bd3786\"],[0.5555555555555556,\"#d8576b\"],[0.6666666666666666,\"#ed7953\"],[0.7777777777777778,\"#fb9f3a\"],[0.8888888888888888,\"#fdca26\"],[1.0,\"#f0f921\"]]}],\"mesh3d\":[{\"type\":\"mesh3d\",\"colorbar\":{\"outlinewidth\":0,\"ticks\":\"\"}}],\"scatter\":[{\"fillpattern\":{\"fillmode\":\"overlay\",\"size\":10,\"solidity\":0.2},\"type\":\"scatter\"}],\"parcoords\":[{\"type\":\"parcoords\",\"line\":{\"colorbar\":{\"outlinewidth\":0,\"ticks\":\"\"}}}],\"scatterpolargl\":[{\"type\":\"scatterpolargl\",\"marker\":{\"colorbar\":{\"outlinewidth\":0,\"ticks\":\"\"}}}],\"bar\":[{\"error_x\":{\"color\":\"#2a3f5f\"},\"error_y\":{\"color\":\"#2a3f5f\"},\"marker\":{\"line\":{\"color\":\"#E5ECF6\",\"width\":0.5},\"pattern\":{\"fillmode\":\"overlay\",\"size\":10,\"solidity\":0.2}},\"type\":\"bar\"}],\"scattergeo\":[{\"type\":\"scattergeo\",\"marker\":{\"colorbar\":{\"outlinewidth\":0,\"ticks\":\"\"}}}],\"scatterpolar\":[{\"type\":\"scatterpolar\",\"marker\":{\"colorbar\":{\"outlinewidth\":0,\"ticks\":\"\"}}}],\"histogram\":[{\"marker\":{\"pattern\":{\"fillmode\":\"overlay\",\"size\":10,\"solidity\":0.2}},\"type\":\"histogram\"}],\"scattergl\":[{\"type\":\"scattergl\",\"marker\":{\"colorbar\":{\"outlinewidth\":0,\"ticks\":\"\"}}}],\"scatter3d\":[{\"type\":\"scatter3d\",\"line\":{\"colorbar\":{\"outlinewidth\":0,\"ticks\":\"\"}},\"marker\":{\"colorbar\":{\"outlinewidth\":0,\"ticks\":\"\"}}}],\"scattermapbox\":[{\"type\":\"scattermapbox\",\"marker\":{\"colorbar\":{\"outlinewidth\":0,\"ticks\":\"\"}}}],\"scatterternary\":[{\"type\":\"scatterternary\",\"marker\":{\"colorbar\":{\"outlinewidth\":0,\"ticks\":\"\"}}}],\"scattercarpet\":[{\"type\":\"scattercarpet\",\"marker\":{\"colorbar\":{\"outlinewidth\":0,\"ticks\":\"\"}}}],\"carpet\":[{\"aaxis\":{\"endlinecolor\":\"#2a3f5f\",\"gridcolor\":\"white\",\"linecolor\":\"white\",\"minorgridcolor\":\"white\",\"startlinecolor\":\"#2a3f5f\"},\"baxis\":{\"endlinecolor\":\"#2a3f5f\",\"gridcolor\":\"white\",\"linecolor\":\"white\",\"minorgridcolor\":\"white\",\"startlinecolor\":\"#2a3f5f\"},\"type\":\"carpet\"}],\"table\":[{\"cells\":{\"fill\":{\"color\":\"#EBF0F8\"},\"line\":{\"color\":\"white\"}},\"header\":{\"fill\":{\"color\":\"#C8D4E3\"},\"line\":{\"color\":\"white\"}},\"type\":\"table\"}],\"barpolar\":[{\"marker\":{\"line\":{\"color\":\"#E5ECF6\",\"width\":0.5},\"pattern\":{\"fillmode\":\"overlay\",\"size\":10,\"solidity\":0.2}},\"type\":\"barpolar\"}],\"pie\":[{\"automargin\":true,\"type\":\"pie\"}]},\"layout\":{\"autotypenumbers\":\"strict\",\"colorway\":[\"#636efa\",\"#EF553B\",\"#00cc96\",\"#ab63fa\",\"#FFA15A\",\"#19d3f3\",\"#FF6692\",\"#B6E880\",\"#FF97FF\",\"#FECB52\"],\"font\":{\"color\":\"#2a3f5f\"},\"hovermode\":\"closest\",\"hoverlabel\":{\"align\":\"left\"},\"paper_bgcolor\":\"white\",\"plot_bgcolor\":\"#E5ECF6\",\"polar\":{\"bgcolor\":\"#E5ECF6\",\"angularaxis\":{\"gridcolor\":\"white\",\"linecolor\":\"white\",\"ticks\":\"\"},\"radialaxis\":{\"gridcolor\":\"white\",\"linecolor\":\"white\",\"ticks\":\"\"}},\"ternary\":{\"bgcolor\":\"#E5ECF6\",\"aaxis\":{\"gridcolor\":\"white\",\"linecolor\":\"white\",\"ticks\":\"\"},\"baxis\":{\"gridcolor\":\"white\",\"linecolor\":\"white\",\"ticks\":\"\"},\"caxis\":{\"gridcolor\":\"white\",\"linecolor\":\"white\",\"ticks\":\"\"}},\"coloraxis\":{\"colorbar\":{\"outlinewidth\":0,\"ticks\":\"\"}},\"colorscale\":{\"sequential\":[[0.0,\"#0d0887\"],[0.1111111111111111,\"#46039f\"],[0.2222222222222222,\"#7201a8\"],[0.3333333333333333,\"#9c179e\"],[0.4444444444444444,\"#bd3786\"],[0.5555555555555556,\"#d8576b\"],[0.6666666666666666,\"#ed7953\"],[0.7777777777777778,\"#fb9f3a\"],[0.8888888888888888,\"#fdca26\"],[1.0,\"#f0f921\"]],\"sequentialminus\":[[0.0,\"#0d0887\"],[0.1111111111111111,\"#46039f\"],[0.2222222222222222,\"#7201a8\"],[0.3333333333333333,\"#9c179e\"],[0.4444444444444444,\"#bd3786\"],[0.5555555555555556,\"#d8576b\"],[0.6666666666666666,\"#ed7953\"],[0.7777777777777778,\"#fb9f3a\"],[0.8888888888888888,\"#fdca26\"],[1.0,\"#f0f921\"]],\"diverging\":[[0,\"#8e0152\"],[0.1,\"#c51b7d\"],[0.2,\"#de77ae\"],[0.3,\"#f1b6da\"],[0.4,\"#fde0ef\"],[0.5,\"#f7f7f7\"],[0.6,\"#e6f5d0\"],[0.7,\"#b8e186\"],[0.8,\"#7fbc41\"],[0.9,\"#4d9221\"],[1,\"#276419\"]]},\"xaxis\":{\"gridcolor\":\"white\",\"linecolor\":\"white\",\"ticks\":\"\",\"title\":{\"standoff\":15},\"zerolinecolor\":\"white\",\"automargin\":true,\"zerolinewidth\":2},\"yaxis\":{\"gridcolor\":\"white\",\"linecolor\":\"white\",\"ticks\":\"\",\"title\":{\"standoff\":15},\"zerolinecolor\":\"white\",\"automargin\":true,\"zerolinewidth\":2},\"scene\":{\"xaxis\":{\"backgroundcolor\":\"#E5ECF6\",\"gridcolor\":\"white\",\"linecolor\":\"white\",\"showbackground\":true,\"ticks\":\"\",\"zerolinecolor\":\"white\",\"gridwidth\":2},\"yaxis\":{\"backgroundcolor\":\"#E5ECF6\",\"gridcolor\":\"white\",\"linecolor\":\"white\",\"showbackground\":true,\"ticks\":\"\",\"zerolinecolor\":\"white\",\"gridwidth\":2},\"zaxis\":{\"backgroundcolor\":\"#E5ECF6\",\"gridcolor\":\"white\",\"linecolor\":\"white\",\"showbackground\":true,\"ticks\":\"\",\"zerolinecolor\":\"white\",\"gridwidth\":2}},\"shapedefaults\":{\"line\":{\"color\":\"#2a3f5f\"}},\"annotationdefaults\":{\"arrowcolor\":\"#2a3f5f\",\"arrowhead\":0,\"arrowwidth\":1},\"geo\":{\"bgcolor\":\"white\",\"landcolor\":\"#E5ECF6\",\"subunitcolor\":\"white\",\"showland\":true,\"showlakes\":true,\"lakecolor\":\"white\"},\"title\":{\"x\":0.05},\"mapbox\":{\"style\":\"light\"}}},\"xaxis\":{\"anchor\":\"y\",\"domain\":[0.0,1.0],\"title\":{\"text\":\"Email Provider\"},\"categoryorder\":\"array\",\"categoryarray\":[\"aol\",\"gmail\",\"hotmail\",\"icloud\",\"live\",\"orange\",\"other\",\"outlook\",\"yahoo\"]},\"yaxis\":{\"anchor\":\"x\",\"domain\":[0.0,1.0],\"title\":{\"text\":\"Probability of Being Unwanted\"}},\"legend\":{\"title\":{\"text\":\"Email Provider\"},\"tracegroupgap\":0},\"title\":{\"text\":\"Probability of Being Unwanted by Email Provider\"},\"barmode\":\"relative\"},                        {\"responsive\": true}                    ).then(function(){\n",
              "                            \n",
              "var gd = document.getElementById('1efd2b21-7d46-42d2-ac01-cb568cd9e1df');\n",
              "var x = new MutationObserver(function (mutations, observer) {{\n",
              "        var display = window.getComputedStyle(gd).display;\n",
              "        if (!display || display === 'none') {{\n",
              "            console.log([gd, 'removed!']);\n",
              "            Plotly.purge(gd);\n",
              "            observer.disconnect();\n",
              "        }}\n",
              "}});\n",
              "\n",
              "// Listen for the removal of the full notebook cells\n",
              "var notebookContainer = gd.closest('#notebook-container');\n",
              "if (notebookContainer) {{\n",
              "    x.observe(notebookContainer, {childList: true});\n",
              "}}\n",
              "\n",
              "// Listen for the clearing of the current output cell\n",
              "var outputEl = gd.closest('.output');\n",
              "if (outputEl) {{\n",
              "    x.observe(outputEl, {childList: true});\n",
              "}}\n",
              "\n",
              "                        })                };                            </script>        </div>\n",
              "</body>\n",
              "</html>"
            ]
          },
          "metadata": {}
        }
      ],
      "source": [
        "import plotly.express as px\n",
        "\n",
        "# Calculate the probability of being labeled as unwanted by email provider #\n",
        "email_provider_prob = df.groupby('email_provider')['is_unwanted'].mean().reset_index()\n",
        "\n",
        "# Create a bar plot showing the probability of being labeled as unwanted by email provider #\n",
        "fig = px.bar(email_provider_prob, x='email_provider', y='is_unwanted',\n",
        "             labels={'is_unwanted': 'Probability of Being Unwanted', 'email_provider': 'Email Provider'},\n",
        "             title='Probability of Being Unwanted by Email Provider',\n",
        "             color='email_provider')\n",
        "fig.show()\n",
        "\n",
        "\n"
      ]
    },
    {
      "cell_type": "markdown",
      "id": "jjwKdUp0LlkS",
      "metadata": {
        "id": "jjwKdUp0LlkS"
      },
      "source": [
        "<details>\n",
        "<summary><i>Explainer</i></summary>\n",
        "    Because the column `is_unwanted` is a binary categorical feature, we can simply take the mean of the column to get the ratio of our sample that have a value of '1'. As a result, this ratio gives us the probability of a given breakdown being 'unwanted' in our sample.\n",
        "    \n",
        "</details>"
      ]
    },
    {
      "cell_type": "markdown",
      "id": "c055fdf4-364f-4d39-891c-2c911af73185",
      "metadata": {
        "id": "c055fdf4-364f-4d39-891c-2c911af73185"
      },
      "source": [
        "c) Based on the output of your code above, which email provider is linked to a higher probability of being an 'unwanted' account?\n",
        "\n",
        "What about the lowest probability?\n",
        "\n",
        "Based on the probabilities, do you think that email provider is a good predictor of an unwanted account?\n",
        "\n",
        "If we wanted to investigate this statistically, what test could we do?"
      ]
    },
    {
      "cell_type": "markdown",
      "id": "54d39e42-b933-48bb-b4ab-fd71892f5d41",
      "metadata": {
        "id": "54d39e42-b933-48bb-b4ab-fd71892f5d41"
      },
      "source": [
        "<details>\n",
        "<summary><i>Response</i></summary>\n",
        "\n",
        "- icloud is the provider linked to the highest rate of unwanted accounts.\n",
        "\n",
        "- On the other hand, it is the other operators, \"Other\", that are the least associated with undesirable accounts, could be professional emails.\n",
        "\n",
        "- Overall, the explanatory variable \"email\" seems to have a low discriminatory power.\n",
        "\n",
        "- An Chi-Square test could tell us whether or not there are significant differences between email providers.\n",
        "\n",
        "</details>"
      ]
    },
    {
      "cell_type": "markdown",
      "id": "ppG6VqNUyqeY",
      "metadata": {
        "id": "ppG6VqNUyqeY"
      },
      "source": [
        "d) Next, lets see if having a `picture cover` the decreases probability of an account being 'unwanted'.\n",
        "\n",
        "The code below will produce a crosstab that you can use to conduct a Chi-Square test. What conclusion can you draw from the results?\n",
        "\n",
        "You can also repeat this process with the other boolean variables to see what effect they may have!"
      ]
    },
    {
      "cell_type": "code",
      "execution_count": 21,
      "id": "fKDVWwWTwrnb",
      "metadata": {
        "id": "fKDVWwWTwrnb",
        "colab": {
          "base_uri": "https://localhost:8080/",
          "height": 143
        },
        "outputId": "24c70b65-777c-4822-a8c5-fa8d3aa5d0c6"
      },
      "outputs": [
        {
          "output_type": "execute_result",
          "data": {
            "text/plain": [
              "is_unwanted           0    1\n",
              "has_picture_cover           \n",
              "0                  1461  308\n",
              "1                  7539  692"
            ],
            "text/html": [
              "\n",
              "  <div id=\"df-35dc8e19-0c05-44af-94a8-d78f342e1f4c\" class=\"colab-df-container\">\n",
              "    <div>\n",
              "<style scoped>\n",
              "    .dataframe tbody tr th:only-of-type {\n",
              "        vertical-align: middle;\n",
              "    }\n",
              "\n",
              "    .dataframe tbody tr th {\n",
              "        vertical-align: top;\n",
              "    }\n",
              "\n",
              "    .dataframe thead th {\n",
              "        text-align: right;\n",
              "    }\n",
              "</style>\n",
              "<table border=\"1\" class=\"dataframe\">\n",
              "  <thead>\n",
              "    <tr style=\"text-align: right;\">\n",
              "      <th>is_unwanted</th>\n",
              "      <th>0</th>\n",
              "      <th>1</th>\n",
              "    </tr>\n",
              "    <tr>\n",
              "      <th>has_picture_cover</th>\n",
              "      <th></th>\n",
              "      <th></th>\n",
              "    </tr>\n",
              "  </thead>\n",
              "  <tbody>\n",
              "    <tr>\n",
              "      <th>0</th>\n",
              "      <td>1461</td>\n",
              "      <td>308</td>\n",
              "    </tr>\n",
              "    <tr>\n",
              "      <th>1</th>\n",
              "      <td>7539</td>\n",
              "      <td>692</td>\n",
              "    </tr>\n",
              "  </tbody>\n",
              "</table>\n",
              "</div>\n",
              "    <div class=\"colab-df-buttons\">\n",
              "\n",
              "  <div class=\"colab-df-container\">\n",
              "    <button class=\"colab-df-convert\" onclick=\"convertToInteractive('df-35dc8e19-0c05-44af-94a8-d78f342e1f4c')\"\n",
              "            title=\"Convert this dataframe to an interactive table.\"\n",
              "            style=\"display:none;\">\n",
              "\n",
              "  <svg xmlns=\"http://www.w3.org/2000/svg\" height=\"24px\" viewBox=\"0 -960 960 960\">\n",
              "    <path d=\"M120-120v-720h720v720H120Zm60-500h600v-160H180v160Zm220 220h160v-160H400v160Zm0 220h160v-160H400v160ZM180-400h160v-160H180v160Zm440 0h160v-160H620v160ZM180-180h160v-160H180v160Zm440 0h160v-160H620v160Z\"/>\n",
              "  </svg>\n",
              "    </button>\n",
              "\n",
              "  <style>\n",
              "    .colab-df-container {\n",
              "      display:flex;\n",
              "      gap: 12px;\n",
              "    }\n",
              "\n",
              "    .colab-df-convert {\n",
              "      background-color: #E8F0FE;\n",
              "      border: none;\n",
              "      border-radius: 50%;\n",
              "      cursor: pointer;\n",
              "      display: none;\n",
              "      fill: #1967D2;\n",
              "      height: 32px;\n",
              "      padding: 0 0 0 0;\n",
              "      width: 32px;\n",
              "    }\n",
              "\n",
              "    .colab-df-convert:hover {\n",
              "      background-color: #E2EBFA;\n",
              "      box-shadow: 0px 1px 2px rgba(60, 64, 67, 0.3), 0px 1px 3px 1px rgba(60, 64, 67, 0.15);\n",
              "      fill: #174EA6;\n",
              "    }\n",
              "\n",
              "    .colab-df-buttons div {\n",
              "      margin-bottom: 4px;\n",
              "    }\n",
              "\n",
              "    [theme=dark] .colab-df-convert {\n",
              "      background-color: #3B4455;\n",
              "      fill: #D2E3FC;\n",
              "    }\n",
              "\n",
              "    [theme=dark] .colab-df-convert:hover {\n",
              "      background-color: #434B5C;\n",
              "      box-shadow: 0px 1px 3px 1px rgba(0, 0, 0, 0.15);\n",
              "      filter: drop-shadow(0px 1px 2px rgba(0, 0, 0, 0.3));\n",
              "      fill: #FFFFFF;\n",
              "    }\n",
              "  </style>\n",
              "\n",
              "    <script>\n",
              "      const buttonEl =\n",
              "        document.querySelector('#df-35dc8e19-0c05-44af-94a8-d78f342e1f4c button.colab-df-convert');\n",
              "      buttonEl.style.display =\n",
              "        google.colab.kernel.accessAllowed ? 'block' : 'none';\n",
              "\n",
              "      async function convertToInteractive(key) {\n",
              "        const element = document.querySelector('#df-35dc8e19-0c05-44af-94a8-d78f342e1f4c');\n",
              "        const dataTable =\n",
              "          await google.colab.kernel.invokeFunction('convertToInteractive',\n",
              "                                                    [key], {});\n",
              "        if (!dataTable) return;\n",
              "\n",
              "        const docLinkHtml = 'Like what you see? Visit the ' +\n",
              "          '<a target=\"_blank\" href=https://colab.research.google.com/notebooks/data_table.ipynb>data table notebook</a>'\n",
              "          + ' to learn more about interactive tables.';\n",
              "        element.innerHTML = '';\n",
              "        dataTable['output_type'] = 'display_data';\n",
              "        await google.colab.output.renderOutput(dataTable, element);\n",
              "        const docLink = document.createElement('div');\n",
              "        docLink.innerHTML = docLinkHtml;\n",
              "        element.appendChild(docLink);\n",
              "      }\n",
              "    </script>\n",
              "  </div>\n",
              "\n",
              "\n",
              "<div id=\"df-524fd90a-f152-4303-ba95-c5c961d73abc\">\n",
              "  <button class=\"colab-df-quickchart\" onclick=\"quickchart('df-524fd90a-f152-4303-ba95-c5c961d73abc')\"\n",
              "            title=\"Suggest charts\"\n",
              "            style=\"display:none;\">\n",
              "\n",
              "<svg xmlns=\"http://www.w3.org/2000/svg\" height=\"24px\"viewBox=\"0 0 24 24\"\n",
              "     width=\"24px\">\n",
              "    <g>\n",
              "        <path d=\"M19 3H5c-1.1 0-2 .9-2 2v14c0 1.1.9 2 2 2h14c1.1 0 2-.9 2-2V5c0-1.1-.9-2-2-2zM9 17H7v-7h2v7zm4 0h-2V7h2v10zm4 0h-2v-4h2v4z\"/>\n",
              "    </g>\n",
              "</svg>\n",
              "  </button>\n",
              "\n",
              "<style>\n",
              "  .colab-df-quickchart {\n",
              "      --bg-color: #E8F0FE;\n",
              "      --fill-color: #1967D2;\n",
              "      --hover-bg-color: #E2EBFA;\n",
              "      --hover-fill-color: #174EA6;\n",
              "      --disabled-fill-color: #AAA;\n",
              "      --disabled-bg-color: #DDD;\n",
              "  }\n",
              "\n",
              "  [theme=dark] .colab-df-quickchart {\n",
              "      --bg-color: #3B4455;\n",
              "      --fill-color: #D2E3FC;\n",
              "      --hover-bg-color: #434B5C;\n",
              "      --hover-fill-color: #FFFFFF;\n",
              "      --disabled-bg-color: #3B4455;\n",
              "      --disabled-fill-color: #666;\n",
              "  }\n",
              "\n",
              "  .colab-df-quickchart {\n",
              "    background-color: var(--bg-color);\n",
              "    border: none;\n",
              "    border-radius: 50%;\n",
              "    cursor: pointer;\n",
              "    display: none;\n",
              "    fill: var(--fill-color);\n",
              "    height: 32px;\n",
              "    padding: 0;\n",
              "    width: 32px;\n",
              "  }\n",
              "\n",
              "  .colab-df-quickchart:hover {\n",
              "    background-color: var(--hover-bg-color);\n",
              "    box-shadow: 0 1px 2px rgba(60, 64, 67, 0.3), 0 1px 3px 1px rgba(60, 64, 67, 0.15);\n",
              "    fill: var(--button-hover-fill-color);\n",
              "  }\n",
              "\n",
              "  .colab-df-quickchart-complete:disabled,\n",
              "  .colab-df-quickchart-complete:disabled:hover {\n",
              "    background-color: var(--disabled-bg-color);\n",
              "    fill: var(--disabled-fill-color);\n",
              "    box-shadow: none;\n",
              "  }\n",
              "\n",
              "  .colab-df-spinner {\n",
              "    border: 2px solid var(--fill-color);\n",
              "    border-color: transparent;\n",
              "    border-bottom-color: var(--fill-color);\n",
              "    animation:\n",
              "      spin 1s steps(1) infinite;\n",
              "  }\n",
              "\n",
              "  @keyframes spin {\n",
              "    0% {\n",
              "      border-color: transparent;\n",
              "      border-bottom-color: var(--fill-color);\n",
              "      border-left-color: var(--fill-color);\n",
              "    }\n",
              "    20% {\n",
              "      border-color: transparent;\n",
              "      border-left-color: var(--fill-color);\n",
              "      border-top-color: var(--fill-color);\n",
              "    }\n",
              "    30% {\n",
              "      border-color: transparent;\n",
              "      border-left-color: var(--fill-color);\n",
              "      border-top-color: var(--fill-color);\n",
              "      border-right-color: var(--fill-color);\n",
              "    }\n",
              "    40% {\n",
              "      border-color: transparent;\n",
              "      border-right-color: var(--fill-color);\n",
              "      border-top-color: var(--fill-color);\n",
              "    }\n",
              "    60% {\n",
              "      border-color: transparent;\n",
              "      border-right-color: var(--fill-color);\n",
              "    }\n",
              "    80% {\n",
              "      border-color: transparent;\n",
              "      border-right-color: var(--fill-color);\n",
              "      border-bottom-color: var(--fill-color);\n",
              "    }\n",
              "    90% {\n",
              "      border-color: transparent;\n",
              "      border-bottom-color: var(--fill-color);\n",
              "    }\n",
              "  }\n",
              "</style>\n",
              "\n",
              "  <script>\n",
              "    async function quickchart(key) {\n",
              "      const quickchartButtonEl =\n",
              "        document.querySelector('#' + key + ' button');\n",
              "      quickchartButtonEl.disabled = true;  // To prevent multiple clicks.\n",
              "      quickchartButtonEl.classList.add('colab-df-spinner');\n",
              "      try {\n",
              "        const charts = await google.colab.kernel.invokeFunction(\n",
              "            'suggestCharts', [key], {});\n",
              "      } catch (error) {\n",
              "        console.error('Error during call to suggestCharts:', error);\n",
              "      }\n",
              "      quickchartButtonEl.classList.remove('colab-df-spinner');\n",
              "      quickchartButtonEl.classList.add('colab-df-quickchart-complete');\n",
              "    }\n",
              "    (() => {\n",
              "      let quickchartButtonEl =\n",
              "        document.querySelector('#df-524fd90a-f152-4303-ba95-c5c961d73abc button');\n",
              "      quickchartButtonEl.style.display =\n",
              "        google.colab.kernel.accessAllowed ? 'block' : 'none';\n",
              "    })();\n",
              "  </script>\n",
              "</div>\n",
              "    </div>\n",
              "  </div>\n"
            ],
            "application/vnd.google.colaboratory.intrinsic+json": {
              "type": "dataframe",
              "variable_name": "CT",
              "summary": "{\n  \"name\": \"CT\",\n  \"rows\": 2,\n  \"fields\": [\n    {\n      \"column\": \"has_picture_cover\",\n      \"properties\": {\n        \"dtype\": \"number\",\n        \"std\": 0,\n        \"min\": 0,\n        \"max\": 1,\n        \"num_unique_values\": 2,\n        \"samples\": [\n          1,\n          0\n        ],\n        \"semantic_type\": \"\",\n        \"description\": \"\"\n      }\n    },\n    {\n      \"column\": 0,\n      \"properties\": {\n        \"dtype\": \"number\",\n        \"std\": 4297,\n        \"min\": 1461,\n        \"max\": 7539,\n        \"num_unique_values\": 2,\n        \"samples\": [\n          7539,\n          1461\n        ],\n        \"semantic_type\": \"\",\n        \"description\": \"\"\n      }\n    },\n    {\n      \"column\": 1,\n      \"properties\": {\n        \"dtype\": \"number\",\n        \"std\": 271,\n        \"min\": 308,\n        \"max\": 692,\n        \"num_unique_values\": 2,\n        \"samples\": [\n          692,\n          308\n        ],\n        \"semantic_type\": \"\",\n        \"description\": \"\"\n      }\n    }\n  ]\n}"
            }
          },
          "metadata": {},
          "execution_count": 21
        }
      ],
      "source": [
        "CT = pd.crosstab(index=df['has_picture_cover'], columns=df['is_unwanted'])\n",
        "CT"
      ]
    },
    {
      "cell_type": "code",
      "source": [
        "import pandas as pd\n",
        "\n",
        "# Create a contingency table between has_linkedin and is_unwanted #\n",
        "CT_linkedin = pd.crosstab(index=df['has_linkedin'], columns=df['is_unwanted'])\n",
        "\n",
        "# Display the contingency table #\n",
        "print(CT_linkedin)\n"
      ],
      "metadata": {
        "colab": {
          "base_uri": "https://localhost:8080/"
        },
        "id": "ad-PyGH_0Fq-",
        "outputId": "fe95fd5a-d343-43bc-d61d-693018c2afe8"
      },
      "id": "ad-PyGH_0Fq-",
      "execution_count": 22,
      "outputs": [
        {
          "output_type": "stream",
          "name": "stdout",
          "text": [
            "is_unwanted      0    1\n",
            "has_linkedin           \n",
            "0             6890  895\n",
            "1             2110  105\n"
          ]
        }
      ]
    },
    {
      "cell_type": "code",
      "execution_count": 23,
      "id": "eth_HsuwzjmG",
      "metadata": {
        "id": "eth_HsuwzjmG",
        "colab": {
          "base_uri": "https://localhost:8080/"
        },
        "outputId": "7d26c642-0ae7-4941-eb1b-560df7a09fdf"
      },
      "outputs": [
        {
          "output_type": "stream",
          "name": "stdout",
          "text": [
            "p-value: 3.788507081379461e-30\n"
          ]
        }
      ],
      "source": [
        "import scipy.stats as stats\n",
        "\n",
        "# Perform Chi-squared test\n",
        "chiRes = stats.chi2_contingency(CT)\n",
        "\n",
        "# Print out the p-value\n",
        "print(f'p-value: {chiRes[1]}')"
      ]
    },
    {
      "cell_type": "markdown",
      "id": "1bf27da6-d437-4969-8096-483cd7e45ec7",
      "metadata": {
        "id": "1bf27da6-d437-4969-8096-483cd7e45ec7"
      },
      "source": [
        "e) We want to study the link between `nb_chars_in_bio` and an account being labelled unwanted or not.\n",
        "\n",
        "Display a boxplot of `nb_chars_in_bio` per `is_unwanted`. What conclusions can you draw?\n",
        "\n",
        "<details>\n",
        "<summary><i>Hint</i></summary>\n",
        "    ⟿  The display can use the \"box\" function of Plotly Express: https://plotly.com/python/bar-plots/\n",
        "</details>\n",
        "\n",
        "\n"
      ]
    },
    {
      "cell_type": "code",
      "execution_count": 24,
      "id": "1539e71d-2982-4a2f-95fe-7051becab7bc",
      "metadata": {
        "id": "1539e71d-2982-4a2f-95fe-7051becab7bc",
        "colab": {
          "base_uri": "https://localhost:8080/",
          "height": 542
        },
        "outputId": "35e2efcd-488b-4924-e22b-fc4704a11bd1"
      },
      "outputs": [
        {
          "output_type": "display_data",
          "data": {
            "text/html": [
              "<html>\n",
              "<head><meta charset=\"utf-8\" /></head>\n",
              "<body>\n",
              "    <div>            <script src=\"https://cdnjs.cloudflare.com/ajax/libs/mathjax/2.7.5/MathJax.js?config=TeX-AMS-MML_SVG\"></script><script type=\"text/javascript\">if (window.MathJax && window.MathJax.Hub && window.MathJax.Hub.Config) {window.MathJax.Hub.Config({SVG: {font: \"STIX-Web\"}});}</script>                <script type=\"text/javascript\">window.PlotlyConfig = {MathJaxConfig: 'local'};</script>\n",
              "        <script charset=\"utf-8\" src=\"https://cdn.plot.ly/plotly-2.24.1.min.js\"></script>                <div id=\"a7145207-8315-496c-b6d7-ff4e0069a2e3\" class=\"plotly-graph-div\" style=\"height:525px; width:100%;\"></div>            <script type=\"text/javascript\">                                    window.PLOTLYENV=window.PLOTLYENV || {};                                    if (document.getElementById(\"a7145207-8315-496c-b6d7-ff4e0069a2e3\")) {                    Plotly.newPlot(                        \"a7145207-8315-496c-b6d7-ff4e0069a2e3\",                        [{\"alignmentgroup\":\"True\",\"hovertemplate\":\"Label=%{x}\\u003cbr\\u003eNumber of Characters in Bio=%{y}\\u003cextra\\u003e\\u003c\\u002fextra\\u003e\",\"legendgroup\":\"\",\"marker\":{\"color\":\"#636efa\"},\"name\":\"\",\"notched\":false,\"offsetgroup\":\"\",\"orientation\":\"v\",\"showlegend\":false,\"x\":[1,1,1,1,1,1,1,1,1,1,1,1,1,1,1,1,1,1,1,1,1,1,1,1,1,1,1,1,1,1,1,1,1,1,1,1,1,1,1,1,1,1,1,1,1,1,1,1,1,1,1,1,1,1,1,1,1,1,1,1,1,1,1,1,1,1,1,1,1,1,1,1,1,1,1,1,1,1,1,1,1,1,1,1,1,1,1,1,1,1,1,1,1,1,1,1,1,1,1,1,1,1,1,1,1,1,1,1,1,1,1,1,1,1,1,1,1,1,1,1,1,1,1,1,1,1,1,1,1,1,1,1,1,1,1,1,1,1,1,1,1,1,1,1,1,1,1,1,1,1,1,1,1,1,1,1,1,1,1,1,1,1,1,1,1,1,1,1,1,1,1,1,1,1,1,1,1,1,1,1,1,1,1,1,1,1,1,1,1,1,1,1,1,1,1,1,1,1,1,1,1,1,1,1,1,1,1,1,1,1,1,1,1,1,1,1,1,1,1,1,1,1,1,1,1,1,1,1,1,1,1,1,1,1,1,1,1,1,1,1,1,1,1,1,1,1,1,1,1,1,1,1,1,1,1,1,1,1,1,1,1,1,1,1,1,1,1,1,1,1,1,1,1,1,1,1,1,1,1,1,1,1,1,1,1,1,1,1,1,1,1,1,1,1,1,1,1,1,1,1,1,1,1,1,1,1,1,1,1,1,1,1,1,1,1,1,1,1,1,1,1,1,1,1,1,1,1,1,1,1,1,1,1,1,1,1,1,1,1,1,1,1,1,1,1,1,1,1,1,1,1,1,1,1,1,1,1,1,1,1,1,1,1,1,1,1,1,1,1,1,1,1,1,1,1,1,1,1,1,1,1,1,1,1,1,1,1,1,1,1,1,1,1,1,1,1,1,1,1,1,1,1,1,1,1,1,1,1,1,1,1,1,1,1,1,1,1,1,1,1,1,1,1,1,1,1,1,1,1,1,1,1,1,1,1,1,1,1,1,1,1,1,1,1,1,1,1,1,1,1,1,1,1,1,1,1,1,1,1,1,1,1,1,1,1,1,1,1,1,1,1,1,1,1,1,1,1,1,1,1,1,1,1,1,1,1,1,1,1,1,1,1,1,1,1,1,1,1,1,1,1,1,1,1,1,1,1,1,1,1,1,1,1,1,1,1,1,1,1,1,1,1,1,1,1,1,1,1,1,1,1,1,1,1,1,1,1,1,1,1,1,1,1,1,1,1,1,1,1,1,1,1,1,1,1,1,1,1,1,1,1,1,1,1,1,1,1,1,1,1,1,1,1,1,1,1,1,1,1,1,1,1,1,1,1,1,1,1,1,1,1,1,1,1,1,1,1,1,1,1,1,1,1,1,1,1,1,1,1,1,1,1,1,1,1,1,1,1,1,1,1,1,1,1,1,1,1,1,1,1,1,1,1,1,1,1,1,1,1,1,1,1,1,1,1,1,1,1,1,1,1,1,1,1,1,1,1,1,1,1,1,1,1,1,1,1,1,1,1,1,1,1,1,1,1,1,1,1,1,1,1,1,1,1,1,1,1,1,1,1,1,1,1,1,1,1,1,1,1,1,1,1,1,1,1,1,1,1,1,1,1,1,1,1,1,1,1,1,1,1,1,1,1,1,1,1,1,1,1,1,1,1,1,1,1,1,1,1,1,1,1,1,1,1,1,1,1,1,1,1,1,1,1,1,1,1,1,1,1,1,1,1,1,1,1,1,1,1,1,1,1,1,1,1,1,1,1,1,1,1,1,1,1,1,1,1,1,1,1,1,1,1,1,1,1,1,1,1,1,1,1,1,1,1,1,1,1,1,1,1,1,1,1,1,1,1,1,1,1,1,1,1,1,1,1,1,1,1,1,1,1,1,1,1,1,1,1,1,1,1,1,1,1,1,1,1,1,1,1,1,1,1,1,1,1,1,1,1,1,1,1,1,1,1,1,1,1,1,1,1,1,1,1,1,1,1,1,1,1,1,1,1,1,1,1,1,1,1,1,1,1,1,1,1,1,1,1,1,1,1,1,1,1,1,1,1,1,1,1,1,1,1,1,1,1,1,1,1,1,1,1,1,1,1,1,1,1,1,1,1,1,1,1,1,1,1,1,1,1,1,1,1,1,1,1,1,1,1,1,1,1,1,1,1,1,1,1,1,1,1,1,1,1,1,1,1,1,1,1,1,1,1,1,1,1,1,1,1,1,1,1,1,1,1,1,1,1,1,1,1,1,1,1,1,1,1,1,1,1,1,0,0,0,0,0,0,0,0,0,0,0,0,0,0,0,0,0,0,0,0,0,0,0,0,0,0,0,0,0,0,0,0,0,0,0,0,0,0,0,0,0,0,0,0,0,0,0,0,0,0,0,0,0,0,0,0,0,0,0,0,0,0,0,0,0,0,0,0,0,0,0,0,0,0,0,0,0,0,0,0,0,0,0,0,0,0,0,0,0,0,0,0,0,0,0,0,0,0,0,0,0,0,0,0,0,0,0,0,0,0,0,0,0,0,0,0,0,0,0,0,0,0,0,0,0,0,0,0,0,0,0,0,0,0,0,0,0,0,0,0,0,0,0,0,0,0,0,0,0,0,0,0,0,0,0,0,0,0,0,0,0,0,0,0,0,0,0,0,0,0,0,0,0,0,0,0,0,0,0,0,0,0,0,0,0,0,0,0,0,0,0,0,0,0,0,0,0,0,0,0,0,0,0,0,0,0,0,0,0,0,0,0,0,0,0,0,0,0,0,0,0,0,0,0,0,0,0,0,0,0,0,0,0,0,0,0,0,0,0,0,0,0,0,0,0,0,0,0,0,0,0,0,0,0,0,0,0,0,0,0,0,0,0,0,0,0,0,0,0,0,0,0,0,0,0,0,0,0,0,0,0,0,0,0,0,0,0,0,0,0,0,0,0,0,0,0,0,0,0,0,0,0,0,0,0,0,0,0,0,0,0,0,0,0,0,0,0,0,0,0,0,0,0,0,0,0,0,0,0,0,0,0,0,0,0,0,0,0,0,0,0,0,0,0,0,0,0,0,0,0,0,0,0,0,0,0,0,0,0,0,0,0,0,0,0,0,0,0,0,0,0,0,0,0,0,0,0,0,0,0,0,0,0,0,0,0,0,0,0,0,0,0,0,0,0,0,0,0,0,0,0,0,0,0,0,0,0,0,0,0,0,0,0,0,0,0,0,0,0,0,0,0,0,0,0,0,0,0,0,0,0,0,0,0,0,0,0,0,0,0,0,0,0,0,0,0,0,0,0,0,0,0,0,0,0,0,0,0,0,0,0,0,0,0,0,0,0,0,0,0,0,0,0,0,0,0,0,0,0,0,0,0,0,0,0,0,0,0,0,0,0,0,0,0,0,0,0,0,0,0,0,0,0,0,0,0,0,0,0,0,0,0,0,0,0,0,0,0,0,0,0,0,0,0,0,0,0,0,0,0,0,0,0,0,0,0,0,0,0,0,0,0,0,0,0,0,0,0,0,0,0,0,0,0,0,0,0,0,0,0,0,0,0,0,0,0,0,0,0,0,0,0,0,0,0,0,0,0,0,0,0,0,0,0,0,0,0,0,0,0,0,0,0,0,0,0,0,0,0,0,0,0,0,0,0,0,0,0,0,0,0,0,0,0,0,0,0,0,0,0,0,0,0,0,0,0,0,0,0,0,0,0,0,0,0,0,0,0,0,0,0,0,0,0,0,0,0,0,0,0,0,0,0,0,0,0,0,0,0,0,0,0,0,0,0,0,0,0,0,0,0,0,0,0,0,0,0,0,0,0,0,0,0,0,0,0,0,0,0,0,0,0,0,0,0,0,0,0,0,0,0,0,0,0,0,0,0,0,0,0,0,0,0,0,0,0,0,0,0,0,0,0,0,0,0,0,0,0,0,0,0,0,0,0,0,0,0,0,0,0,0,0,0,0,0,0,0,0,0,0,0,0,0,0,0,0,0,0,0,0,0,0,0,0,0,0,0,0,0,0,0,0,0,0,0,0,0,0,0,0,0,0,0,0,0,0,0,0,0,0,0,0,0,0,0,0,0,0,0,0,0,0,0,0,0,0,0,0,0,0,0,0,0,0,0,0,0,0,0,0,0,0,0,0,0,0,0,0,0,0,0,0,0,0,0,0,0,0,0,0,0,0,0,0,0,0,0,0,0,0,0,0,0,0,0,0,0,0,0,0,0,0,0,0,0,0,0,0,0,0,0,0,0,0,0,0,0,0,0,0,0,0,0,0,0,0,0,0,0,0,0,0,0,0,0,0,0,0,0,0,0,0,0,0,0,0,0,0,0,0,0,0,0,0,0,0,0,0,0,0,0,0,0,0,0,0,0,0,0,0,0,0,0,0,0,0,0,0,0,0,0,0,0,0,0,0,0,0,0,0,0,0,0,0,0,0,0,0,0,0,0,0,0,0,0,0,0,0,0,0,0,0,0,0,0,0,0,0,0,0,0,0,0,0,0,0,0,0,0,0,0,0,0,0,0,0,0,0,0,0,0,0,0,0,0,0,0,0,0,0,0,0,0,0,0,0,0,0,0,0,0,0,0,0,0,0,0,0,0,0,0,0,0,0,0,0,0,0,0,0,0,0,0,0,0,0,0,0,0,0,0,0,0,0,0,0,0,0,0,0,0,0,0,0,0,0,0,0,0,0,0,0,0,0,0,0,0,0,0,0,0,0,0,0,0,0,0,0,0,0,0,0,0,0,0,0,0,0,0,0,0,0,0,0,0,0,0,0,0,0,0,0,0,0,0,0,0,0,0,0,0,0,0,0,0,0,0,0,0,0,0,0,0,0,0,0,0,0,0,0,0,0,0,0,0,0,0,0,0,0,0,0,0,0,0,0,0,0,0,0,0,0,0,0,0,0,0,0,0,0,0,0,0,0,0,0,0,0,0,0,0,0,0,0,0,0,0,0,0,0,0,0,0,0,0,0,0,0,0,0,0,0,0,0,0,0,0,0,0,0,0,0,0,0,0,0,0,0,0,0,0,0,0,0,0,0,0,0,0,0,0,0,0,0,0,0,0,0,0,0,0,0,0,0,0,0,0,0,0,0,0,0,0,0,0,0,0,0,0,0,0,0,0,0,0,0,0,0,0,0,0,0,0,0,0,0,0,0,0,0,0,0,0,0,0,0,0,0,0,0,0,0,0,0,0,0,0,0,0,0,0,0,0,0,0,0,0,0,0,0,0,0,0,0,0,0,0,0,0,0,0,0,0,0,0,0,0,0,0,0,0,0,0,0,0,0,0,0,0,0,0,0,0,0,0,0,0,0,0,0,0,0,0,0,0,0,0,0,0,0,0,0,0,0,0,0,0,0,0,0,0,0,0,0,0,0,0,0,0,0,0,0,0,0,0,0,0,0,0,0,0,0,0,0,0,0,0,0,0,0,0,0,0,0,0,0,0,0,0,0,0,0,0,0,0,0,0,0,0,0,0,0,0,0,0,0,0,0,0,0,0,0,0,0,0,0,0,0,0,0,0,0,0,0,0,0,0,0,0,0,0,0,0,0,0,0,0,0,0,0,0,0,0,0,0,0,0,0,0,0,0,0,0,0,0,0,0,0,0,0,0,0,0,0,0,0,0,0,0,0,0,0,0,0,0,0,0,0,0,0,0,0,0,0,0,0,0,0,0,0,0,0,0,0,0,0,0,0,0,0,0,0,0,0,0,0,0,0,0,0,0,0,0,0,0,0,0,0,0,0,0,0,0,0,0,0,0,0,0,0,0,0,0,0,0,0,0,0,0,0,0,0,0,0,0,0,0,0,0,0,0,0,0,0,0,0,0,0,0,0,0,0,0,0,0,0,0,0,0,0,0,0,0,0,0,0,0,0,0,0,0,0,0,0,0,0,0,0,0,0,0,0,0,0,0,0,0,0,0,0,0,0,0,0,0,0,0,0,0,0,0,0,0,0,0,0,0,0,0,0,0,0,0,0,0,0,0,0,0,0,0,0,0,0,0,0,0,0,0,0,0,0,0,0,0,0,0,0,0,0,0,0,0,0,0,0,0,0,0,0,0,0,0,0,0,0,0,0,0,0,0,0,0,0,0,0,0,0,0,0,0,0,0,0,0,0,0,0,0,0,0,0,0,0,0,0,0,0,0,0,0,0,0,0,0,0,0,0,0,0,0,0,0,0,0,0,0,0,0,0,0,0,0,0,0,0,0,0,0,0,0,0,0,0,0,0,0,0,0,0,0,0,0,0,0,0,0,0,0,0,0,0,0,0,0,0,0,0,0,0,0,0,0,0,0,0,0,0,0,0,0,0,0,0,0,0,0,0,0,0,0,0,0,0,0,0,0,0,0,0,0,0,0,0,0,0,0,0,0,0,0,0,0,0,0,0,0,0,0,0,0,0,0,0,0,0,0,0,0,0,0,0,0,0,0,0,0,0,0,0,0,0,0,0,0,0,0,0,0,0,0,0,0,0,0,0,0,0,0,0,0,0,0,0,0,0,0,0,0,0,0,0,0,0,0,0,0,0,0,0,0,0,0,0,0,0,0,0,0,0,0,0,0,0,0,0,0,0,0,0,0,0,0,0,0,0,0,0,0,0,0,0,0,0,0,0,0,0,0,0,0,0,0,0,0,0,0,0,0,0,0,0,0,0,0,0,0,0,0,0,0,0,0,0,0,0,0,0,0,0,0,0,0,0,0,0,0,0,0,0,0,0,0,0,0,0,0,0,0,0,0,0,0,0,0,0,0,0,0,0,0,0,0,0,0,0,0,0,0,0,0,0,0,0,0,0,0,0,0,0,0,0,0,0,0,0,0,0,0,0,0,0,0,0,0,0,0,0,0,0,0,0,0,0,0,0,0,0,0,0,0,0,0,0,0,0,0,0,0,0,0,0,0,0,0,0,0,0,0,0,0,0,0,0,0,0,0,0,0,0,0,0,0,0,0,0,0,0,0,0,0,0,0,0,0,0,0,0,0,0,0,0,0,0,0,0,0,0,0,0,0,0,0,0,0,0,0,0,0,0,0,0,0,0,0,0,0,0,0,0,0,0,0,0,0,0,0,0,0,0,0,0,0,0,0,0,0,0,0,0,0,0,0,0,0,0,0,0,0,0,0,0,0,0,0,0,0,0,0,0,0,0,0,0,0,0,0,0,0,0,0,0,0,0,0,0,0,0,0,0,0,0,0,0,0,0,0,0,0,0,0,0,0,0,0,0,0,0,0,0,0,0,0,0,0,0,0,0,0,0,0,0,0,0,0,0,0,0,0,0,0,0,0,0,0,0,0,0,0,0,0,0,0,0,0,0,0,0,0,0,0,0,0,0,0,0,0,0,0,0,0,0,0,0,0,0,0,0,0,0,0,0,0,0,0,0,0,0,0,0,0,0,0,0,0,0,0,0,0,0,0,0,0,0,0,0,0,0,0,0,0,0,0,0,0,0,0,0,0,0,0,0,0,0,0,0,0,0,0,0,0,0,0,0,0,0,0,0,0,0,0,0,0,0,0,0,0,0,0,0,0,0,0,0,0,0,0,0,0,0,0,0,0,0,0,0,0,0,0,0,0,0,0,0,0,0,0,0,0,0,0,0,0,0,0,0,0,0,0,0,0,0,0,0,0,0,0,0,0,0,0,0,0,0,0,0,0,0,0,0,0,0,0,0,0,0,0,0,0,0,0,0,0,0,0,0,0,0,0,0,0,0,0,0,0,0,0,0,0,0,0,0,0,0,0,0,0,0,0,0,0,0,0,0,0,0,0,0,0,0,0,0,0,0,0,0,0,0,0,0,0,0,0,0,0,0,0,0,0,0,0,0,0,0,0,0,0,0,0,0,0,0,0,0,0,0,0,0,0,0,0,0,0,0,0,0,0,0,0,0,0,0,0,0,0,0,0,0,0,0,0,0,0,0,0,0,0,0,0,0,0,0,0,0,0,0,0,0,0,0,0,0,0,0,0,0,0,0,0,0,0,0,0,0,0,0,0,0,0,0,0,0,0,0,0,0,0,0,0,0,0,0,0,0,0,0,0,0,0,0,0,0,0,0,0,0,0,0,0,0,0,0,0,0,0,0,0,0,0,0,0,0,0,0,0,0,0,0,0,0,0,0,0,0,0,0,0,0,0,0,0,0,0,0,0,0,0,0,0,0,0,0,0,0,0,0,0,0,0,0,0,0,0,0,0,0,0,0,0,0,0,0,0,0,0,0,0,0,0,0,0,0,0,0,0,0,0,0,0,0,0,0,0,0,0,0,0,0,0,0,0,0,0,0,0,0,0,0,0,0,0,0,0,0,0,0,0,0,0,0,0,0,0,0,0,0,0,0,0,0,0,0,0,0,0,0,0,0,0,0,0,0,0,0,0,0,0,0,0,0,0,0,0,0,0,0,0,0,0,0,0,0,0,0,0,0,0,0,0,0,0,0,0,0,0,0,0,0,0,0,0,0,0,0,0,0,0,0,0,0,0,0,0,0,0,0,0,0,0,0,0,0,0,0,0,0,0,0,0,0,0,0,0,0,0,0,0,0,0,0,0,0,0,0,0,0,0,0,0,0,0,0,0,0,0,0,0,0,0,0,0,0,0,0,0,0,0,0,0,0,0,0,0,0,0,0,0,0,0,0,0,0,0,0,0,0,0,0,0,0,0,0,0,0,0,0,0,0,0,0,0,0,0,0,0,0,0,0,0,0,0,0,0,0,0,0,0,0,0,0,0,0,0,0,0,0,0,0,0,0,0,0,0,0,0,0,0,0,0,0,0,0,0,0,0,0,0,0,0,0,0,0,0,0,0,0,0,0,0,0,0,0,0,0,0,0,0,0,0,0,0,0,0,0,0,0,0,0,0,0,0,0,0,0,0,0,0,0,0,0,0,0,0,0,0,0,0,0,0,0,0,0,0,0,0,0,0,0,0,0,0,0,0,0,0,0,0,0,0,0,0,0,0,0,0,0,0,0,0,0,0,0,0,0,0,0,0,0,0,0,0,0,0,0,0,0,0,0,0,0,0,0,0,0,0,0,0,0,0,0,0,0,0,0,0,0,0,0,0,0,0,0,0,0,0,0,0,0,0,0,0,0,0,0,0,0,0,0,0,0,0,0,0,0,0,0,0,0,0,0,0,0,0,0,0,0,0,0,0,0,0,0,0,0,0,0,0,0,0,0,0,0,0,0,0,0,0,0,0,0,0,0,0,0,0,0,0,0,0,0,0,0,0,0,0,0,0,0,0,0,0,0,0,0,0,0,0,0,0,0,0,0,0,0,0,0,0,0,0,0,0,0,0,0,0,0,0,0,0,0,0,0,0,0,0,0,0,0,0,0,0,0,0,0,0,0,0,0,0,0,0,0,0,0,0,0,0,0,0,0,0,0,0,0,0,0,0,0,0,0,0,0,0,0,0,0,0,0,0,0,0,0,0,0,0,0,0,0,0,0,0,0,0,0,0,0,0,0,0,0,0,0,0,0,0,0,0,0,0,0,0,0,0,0,0,0,0,0,0,0,0,0,0,0,0,0,0,0,0,0,0,0,0,0,0,0,0,0,0,0,0,0,0,0,0,0,0,0,0,0,0,0,0,0,0,0,0,0,0,0,0,0,0,0,0,0,0,0,0,0,0,0,0,0,0,0,0,0,0,0,0,0,0,0,0,0,0,0,0,0,0,0,0,0,0,0,0,0,0,0,0,0,0,0,0,0,0,0,0,0,0,0,0,0,0,0,0,0,0,0,0,0,0,0,0,0,0,0,0,0,0,0,0,0,0,0,0,0,0,0,0,0,0,0,0,0,0,0,0,0,0,0,0,0,0,0,0,0,0,0,0,0,0,0,0,0,0,0,0,0,0,0,0,0,0,0,0,0,0,0,0,0,0,0,0,0,0,0,0,0,0,0,0,0,0,0,0,0,0,0,0,0,0,0,0,0,0,0,0,0,0,0,0,0,0,0,0,0,0,0,0,0,0,0,0,0,0,0,0,0,0,0,0,0,0,0,0,0,0,0,0,0,0,0,0,0,0,0,0,0,0,0,0,0,0,0,0,0,0,0,0,0,0,0,0,0,0,0,0,0,0,0,0,0,0,0,0,0,0,0,0,0,0,0,0,0,0,0,0,0,0,0,0,0,0,0,0,0,0,0,0,0,0,0,0,0,0,0,0,0,0,0,0,0,0,0,0,0,0,0,0,0,0,0,0,0,0,0,0,0,0,0,0,0,0,0,0,0,0,0,0,0,0,0,0,0,0,0,0,0,0,0,0,0,0,0,0,0,0,0,0,0,0,0,0,0,0,0,0,0,0,0,0,0,0,0,0,0,0,0,0,0,0,0,0,0,0,0,0,0,0,0,0,0,0,0,0,0,0,0,0,0,0,0,0,0,0,0,0,0,0,0,0,0,0,0,0,0,0,0,0,0,0,0,0,0,0,0,0,0,0,0,0,0,0,0,0,0,0,0,0,0,0,0,0,0,0,0,0,0,0,0,0,0,0,0,0,0,0,0,0,0,0,0,0,0,0,0,0,0,0,0,0,0,0,0,0,0,0,0,0,0,0,0,0,0,0,0,0,0,0,0,0,0,0,0,0,0,0,0,0,0,0,0,0,0,0,0,0,0,0,0,0,0,0,0,0,0,0,0,0,0,0,0,0,0,0,0,0,0,0,0,0,0,0,0,0,0,0,0,0,0,0,0,0,0,0,0,0,0,0,0,0,0,0,0,0,0,0,0,0,0,0,0,0,0,0,0,0,0,0,0,0,0,0,0,0,0,0,0,0,0,0,0,0,0,0,0,0,0,0,0,0,0,0,0,0,0,0,0,0,0,0,0,0,0,0,0,0,0,0,0,0,0,0,0,0,0,0,0,0,0,0,0,0,0,0,0,0,0,0,0,0,0,0,0,0,0,0,0,0,0,0,0,0,0,0,0,0,0,0,0,0,0,0,0,0,0,0,0,0,0,0,0,0,0,0,0,0,0,0,0,0,0,0,0,0,0,0,0,0,0,0,0,0,0,0,0,0,0,0,0,0,0,0,0,0,0,0,0,0,0,0,0,0,0,0,0,0,0,0,0,0,0,0,0,0,0,0,0,0,0,0,0,0,0,0,0,0,0,0,0,0,0,0,0,0,0,0,0,0,0,0,0,0,0,0,0,0,0,0,0,0,0,0,0,0,0,0,0,0,0,0,0,0,0,0,0,0,0,0,0,0,0,0,0,0,0,0,0,0,0,0,0,0,0,0,0,0,0,0,0,0,0,0,0,0,0,0,0,0,0,0,0,0,0,0,0,0,0,0,0,0,0,0,0,0,0,0,0,0,0,0,0,0,0,0,0,0,0,0,0,0,0,0,0,0,0,0,0,0,0,0,0,0,0,0,0,0,0,0,0,0,0,0,0,0,0,0,0,0,0,0,0,0,0,0,0,0,0,0,0,0,0,0,0,0,0,0,0,0,0,0,0,0,0,0,0,0,0,0,0,0,0,0,0,0,0,0,0,0,0,0,0,0,0,0,0,0,0,0,0,0,0,0,0,0,0,0,0,0,0,0,0,0,0,0,0,0,0,0,0,0,0,0,0,0,0,0,0,0,0,0,0,0,0,0,0,0,0,0,0,0,0,0,0,0,0,0,0,0,0,0,0,0,0,0,0,0,0,0,0,0,0,0,0,0,0,0,0,0,0,0,0,0,0,0,0,0,0,0,0,0,0,0,0,0,0,0,0,0,0,0,0,0,0,0,0,0,0,0,0,0,0,0,0,0,0,0,0,0,0,0,0,0,0,0,0,0,0,0,0,0,0,0,0,0,0,0,0,0,0,0,0,0,0,0,0,0,0,0,0,0,0,0,0,0,0,0,0,0,0,0,0,0,0,0,0,0,0,0,0,0,0,0,0,0,0,0,0,0,0,0,0,0,0,0,0,0,0,0,0,0,0,0,0,0,0,0,0,0,0,0,0,0,0,0,0,0,0,0,0,0,0,0,0,0,0,0,0,0,0,0,0,0,0,0,0,0,0,0,0,0,0,0,0,0,0,0,0,0,0,0,0,0,0,0,0,0,0,0,0,0,0,0,0,0,0,0,0,0,0,0,0,0,0,0,0,0,0,0,0,0,0,0,0,0,0,0,0,0,0,0,0,0,0,0,0,0,0,0,0,0,0,0,0,0,0,0,0,0,0,0,0,0,0,0,0,0,0,0,0,0,0,0,0,0,0,0,0,0,0,0,0,0,0,0,0,0,0,0,0,0,0,0,0,0,0,0,0,0,0,0,0,0,0,0,0,0,0,0,0,0,0,0,0,0,0,0,0,0,0,0,0,0,0,0,0,0,0,0,0,0,0,0,0,0,0,0,0,0,0,0,0,0,0,0,0,0,0,0,0,0,0,0,0,0,0,0,0,0,0,0,0,0,0,0,0,0,0,0,0,0,0,0,0,0,0,0,0,0,0,0,0,0,0,0,0,0,0,0,0,0,0,0,0,0,0,0,0,0,0,0,0,0,0,0,0,0,0,0,0,0,0,0,0,0,0,0,0,0,0,0,0,0,0,0,0,0,0,0,0,0,0,0,0,0,0,0,0,0,0,0,0,0,0,0,0,0,0,0,0,0,0,0,0,0,0,0,0,0,0,0,0,0,0,0,0,0,0,0,0,0,0,0,0,0,0,0,0,0,0,0,0,0,0,0,0,0,0,0,0,0,0,0,0,0,0,0,0,0,0,0,0,0,0,0,0,0,0,0,0,0,0,0,0,0,0,0,0,0,0,0,0,0,0,0,0,0,0,0,0,0,0,0,0,0,0,0,0,0,0,0,0,0,0,0,0,0,0,0,0,0,0,0,0,0,0,0,0,0,0,0,0,0,0,0,0,0,0,0,0,0,0,0,0,0,0,0,0,0,0,0,0,0,0,0,0,0,0,0,0,0,0,0,0,0,0,0,0,0,0,0,0,0,0,0,0,0,0,0,0,0,0,0,0,0,0,0,0,0,0,0,0,0,0,0,0,0,0,0,0,0,0,0,0,0,0,0,0,0,0,0,0,0,0,0,0,0,0,0,0,0,0,0,0,0,0,0,0,0,0,0,0,0,0,0,0,0,0,0,0,0,0,0,0,0,0,0,0,0,0,0,0,0,0,0,0,0,0,0,0,0,0,0,0,0,0,0,0,0,0,0,0,0,0,0,0,0,0,0,0,0,0,0,0,0,0,0,0,0,0,0,0,0,0,0,0,0,0,0,0,0,0,0,0,0,0,0,0,0,0,0,0,0,0,0,0,0,0,0,0,0,0,0,0,0,0,0,0,0,0,0,0,0,0,0,0,0,0,0,0,0,0,0,0,0,0,0,0,0,0,0,0,0,0,0,0,0,0,0,0,0,0,0,0,0,0,0,0,0,0,0,0,0,0,0,0,0,0,0,0,0,0,0,0,0,0,0,0,0,0,0,0,0,0,0,0,0,0,0,0,0,0,0,0,0,0,0,0,0,0,0,0,0,0,0,0,0,0,0,0,0,0,0,0,0,0,0,0,0,0,0,0,0,0,0,0,0,0,0,0,0,0,0,0,0,0,0,0,0,0,0,0,0,0,0,0,0,0,0,0,0,0,0,0,0,0,0,0,0,0,0,0,0,0,0,0,0,0,0,0,0,0,0,0,0,0,0,0,0,0,0,0,0,0,0,0,0,0,0,0,0,0,0,0,0,0,0,0,0,0,0,0,0,0,0,0,0,0,0,0,0,0,0,0,0,0,0,0,0,0,0,0,0,0,0,0,0,0,0,0,0,0,0,0,0,0,0,0,0,0,0,0,0,0,0,0,0,0,0,0,0,0,0,0,0,0,0,0,0,0,0,0,0,0,0,0,0,0,0,0,0,0,0,0,0,0,0,0,0,0,0,0,0,0,0,0,0,0,0,0,0,0,0,0,0,0,0,0,0,0,0,0,0,0,0,0,0,0,0,0,0,0,0,0,0,0,0,0,0,0,0,0,0,0,0,0,0,0,0,0,0,0,0,0,0,0,0,0,0,0,0,0,0,0,0,0,0,0,0,0,0,0,0,0,0,0,0,0,0,0,0,0,0,0,0,0,0,0,0,0,0,0,0,0,0,0,0,0,0,0,0,0,0,0,0,0,0,0,0,0,0,0,0,0,0,0,0,0,0,0,0,0,0,0,0,0,0,0,0,0,0,0,0,0,0,0,0,0,0,0,0,0,0,0,0,0,0,0,0,0,0,0,0,0,0,0,0,0,0,0,0,0,0,0,0,0,0,0,0,0,0,0,0,0,0,0,0,0,0,0,0,0,0,0,0,0,0,0,0,0,0,0,0,0,0,0,0,0,0,0,0,0,0,0,0,0,0,0,0,0,0,0,0,0,0,0,0,0,0,0,0,0,0,0,0,0,0,0,0,0,0,0,0,0,0,0,0,0,0,0,0,0,0,0,0,0,0,0,0,0,0,0,0,0,0,0,0,0,0,0,0,0,0,0,0,0,0,0,0,0,0,0,0,0,0,0,0,0,0,0,0,0,0,0,0,0,0,0,0,0,0,0,0,0,0,0,0,0,0,0,0,0,0,0,0,0,0,0,0,0,0,0,0,0,0,0,0,0,0,0,0,0,0,0,0,0,0,0,0,0,0,0,0,0,0,0,0,0,0,0,0,0,0,0,0,0,0,0,0,0,0,0,0,0,0,0,0,0,0,0,0,0,0,0,0,0,0,0,0,0,0,0,0,0,0,0,0,0,0,0,0,0,0,0,0,0,0,0,0,0,0,0,0,0,0,0,0,0,0,0,0,0,0,0,0,0,0,0,0,0,0,0,0,0,0,0,0,0,0,0,0,0,0,0,0,0,0,0,0,0,0,0,0,0,0,0,0,0,0,0,0,0,0,0,0,0,0,0,0,0,0,0,0,0,0,0,0,0,0,0,0,0,0,0,0,0,0,0,0,0,0,0,0,0,0,0,0,0,0,0,0,0,0,0,0,0,0,0,0,0,0,0,0,0,0,0,0,0,0,0,0,0,0,0,0,0,0,0,0,0,0,0,0,0,0,0,0,0,0,0,0,0,0,0,0,0,0,0,0,0,0,0,0,0,0,0,0,0,0,0,0,0,0,0,0,0,0,0,0,0,0,0,0,0,0,0,0,0,0,0,0,0,0,0,0,0,0,0,0,0,0,0,0,0,0,0,0,0,0,0,0,0,0,0,0,0,0,0,0,0,0,0,0,0,0,0,0,0,0,0,0,0,0,0,0,0,0,0,0,0,0,0,0,0,0,0,0,0,0,0,0,0,0,0,0,0,0,0,0,0,0,0,0,0,0,0,0,0,0,0,0,0,0,0,0,0,0,0,0,0,0,0,0,0,0,0,0,0,0,0,0,0,0,0,0,0,0,0,0,0,0,0,0,0,0,0,0,0,0,0,0,0,0,0,0,0,0,0,0,0,0,0,0,0,0,0,0,0,0,0,0,0,0,0,0,0,0,0,0,0,0,0,0,0,0,0,0,0,0,0,0,0,0,0,0,0,0,0,0,0,0,0,0,0,0,0,0,0,0,0,0,0,0,0,0,0,0,0,0,0,0,0,0,0,0,0,0,0,0,0,0,0,0,0,0,0,0,0,0,0,0,0,0,0,0,0,0,0,0,0,0,0,0,0,0,0,0,0,0,0,0,0,0,0,0,0,0,0,0,0,0,0,0,0,0,0,0,0,0,0,0,0,0,0,0,0,0,0,0,0,0,0,0,0,0,0,0,0,0,0,0,0,0,0,0,0,0,0,0,0,0,0,0,0,0,0,0,0,0,0,0,0,0,0,0,0,0,0,0,0,0,0,0,0,0,0,0,0,0,0,0,0,0,0,0,0,0,0,0,0,0,0,0,0,0,0,0,0,0,0,0,0,0,0,0,0,0,0,0,0,0,0,0,0,0,0,0,0,0,0,0,0,0,0,0,0,0,0,0,0,0,0,0,0,0,0,0,0,0,0,0,0,0,0,0,0,0,0,0,0,0,0,0,0,0,0,0,0,0,0,0,0,0,0,0,0,0,0,0,0,0,0,0,0,0,0,0,0,0,0,0,0,0,0,0,0,0,0,0,0,0,0,0,0,0,0,0,0,0,0,0,0,0,0,0,0,0,0,0,0,0,0,0,0,0,0,0,0,0,0,0,0,0,0,0,0,0,0,0,0,0,0,0,0,0,0,0,0,0,0,0,0,0,0,0,0,0,0,0,0,0,0,0,0,0,0,0,0,0,0,0,0,0,0,0,0,0,0,0,0,0,0,0,0,0,0,0,0,0,0,0,0,0,0,0,0,0,0,0,0,0,0,0,0,0,0,0,0,0,0,0,0,0,0,0,0,0,0,0,0,0,0,0,0,0,0,0,0,0,0,0,0,0,0,0,0,0,0,0,0,0,0,0,0,0,0,0,0,0,0,0,0,0,0,0,0,0,0,0,0,0,0,0,0,0,0,0,0,0,0,0,0,0,0,0,0,0,0,0,0,0,0,0,0,0,0,0,0,0,0,0,0,0,0,0,0,0,0,0,0,0,0,0,0,0,0,0,0,0,0,0,0,0,0,0,0,0,0,0,0,0,0,0,0,0,0,0,0,0,0,0,0,0,0,0,0,0,0,0,0,0,0,0,0,0,0,0,0,0,0,0,0,0,0,0,0,0,0,0,0,0,0,0,0,0,0,0,0,0,0,0,0,0,0,0,0,0,0,0,0,0,0,0,0,0,0,0,0,0,0,0,0,0,0,0,0,0,0,0,0,0,0,0,0,0,0,0,0,0,0,0,0,0,0,0,0,0,0,0,0,0,0,0,0,0,0,0,0,0,0,0,0,0,0,0,0,0,0,0,0,0,0,0,0,0,0,0,0,0,0,0,0,0,0,0,0,0,0,0,0,0,0,0,0,0,0,0,0,0,0,0,0,0,0,0,0,0,0,0,0,0,0,0,0,0,0,0,0,0,0,0,0,0,0,0,0,0,0,0,0,0,0,0,0,0,0,0,0,0,0,0,0,0,0,0,0,0,0,0,0,0,0,0,0,0,0,0,0,0,0,0,0,0,0,0,0,0,0,0,0,0,0,0,0,0,0,0,0,0,0,0,0,0,0,0,0,0,0,0,0,0,0,0,0,0,0,0,0,0,0,0,0,0,0,0,0,0,0,0,0,0,0,0,0,0,0,0,0,0,0,0,0,0,0,0,0,0,0,0,0,0,0,0,0,0,0,0,0,0,0,0,0,0,0,0,0,0,0,0,0,0,0,0,0,0,0,0,0,0,0,0,0,0,0,0,0,0,0,0,0,0,0,0,0,0,0,0,0,0,0,0,0,0,0,0,0,0,0,0,0,0,0,0,0,0,0,0,0,0,0,0,0,0,0,0,0,0,0,0,0,0,0,0,0,0,0,0,0,0,0,0,0,0,0,0,0,0,0,0,0,0,0,0,0,0,0,0,0,0,0,0,0,0,0,0,0,0,0,0,0,0,0,0,0,0,0,0,0,0,0,0,0,0,0,0,0,0,0,0,0,0,0,0,0,0,0,0,0,0,0,0,0,0,0,0,0,0,0,0,0,0,0,0,0,0,0,0,0,0,0,0,0,0,0,0,0,0,0,0,0,0,0,0,0,0,0,0,0,0,0,0,0,0,0,0,0,0,0,0,0,0,0,0,0,0,0,0,0,0,0,0,0,0,0,0,0,0,0,0,0,0,0,0,0,0,0,0,0,0,0,0,0,0,0,0,0,0,0,0,0,0,0,0,0,0,0,0,0,0,0,0,0,0,0,0,0,0,0,0,0,0,0,0,0,0,0,0,0,0,0,0,0,0,0,0,0,0,0,0,0,0,0,0,0,0,0,0,0,0,0,0,0,0,0,0,0,0,0,0,0,0,0,0,0,0,0,0,0,0,0,0,0,0,0,0,0,0,0,0,0,0,0,0,0,0,0,0,0,0,0,0,0,0,0,0,0,0,0,0,0,0,0,0,0,0,0,0,0,0,0,0,0,0,0,0,0,0,0,0,0,0,0,0,0,0,0,0,0,0,0,0,0,0,0,0,0,0,0,0,0,0,0,0,0,0,0,0,0,0,0,0,0,0,0,0,0,0,0,0,0,0,0,0,0,0,0,0,0,0,0,0,0,0,0,0,0,0,0,0,0,0,0,0,0,0,0,0,0,0,0,0,0,0,0,0,0,0,0,0,0,0,0,0,0,0,0,0,0,0,0,0,0,0,0,0,0,0,0,0,0,0,0,0,0,0,0,0,0,0,0,0,0,0,0,0,0,0,0,0,0,0,0,0,0,0,0,0,0,0,0,0,0,0,0,0,0,0,0,0,0,0,0,0,0,0,0,0,0,0,0,0,0,0,0,0,0,0,0,0,0,0,0,0,0,0,0,0,0,0,0,0,0,0,0,0,0,0,0,0,0,0,0,0,0,0,0,0,0,0,0,0,0,0,0,0,0,0,0,0,0,0,0,0,0,0,0,0,0,0,0,0,0,0,0,0,0,0,0,0,0,0,0,0,0,0,0,0,0,0,0,0,0,0,0,0,0,0,0,0,0,0,0,0,0,0,0,0,0,0,0,0,0,0,0,0,0,0,0,0,0,0,0,0,0,0,0,0,0,0,0,0,0,0,0,0,0,0,0,0,0,0,0,0,0,0,0,0,0,0,0,0,0,0,0,0,0,0,0,0,0,0,0,0,0,0,0,0,0,0,0,0,0,0,0,0,0,0,0,0,0,0,0,0,0,0,0,0,0,0,0,0,0,0,0,0,0,0,0,0,0,0,0,0,0,0,0,0,0,0,0,0,0,0,0,0,0,0,0,0,0,0,0,0,0,0,0,0,0,0,0,0,0,0,0,0,0,0,0,0,0,0,0,0,0,0,0,0,0,0,0,0,0,0,0,0,0,0,0,0,0,0,0,0,0,0,0,0,0,0,0,0,0,0,0,0,0,0,0,0,0,0,0,0,0,0,0,0,0,0,0,0,0,0,0,0,0,0,0,0,0,0,0,0,0,0,0,0,0,0,0,0,0,0,0,0,0,0,0,0,0,0,0,0,0,0,0,0,0,0,0,0,0,0,0,0,0,0,0,0,0,0,0,0,0,0,0,0,0,0,0,0,0,0,0,0,0,0,0,0,0,0,0,0,0,0,0,0,0,0,0,0,0,0,0,0,0,0,0,0,0,0,0,0,0,0,0,0,0,0,0,0,0,0,0,0,0,0,0,0,0,0,0,0,0,0,0,0,0,0,0,0,0,0,0,0,0,0,0,0,0,0,0,0,0,0,0,0,0,0,0,0,0,0,0,0,0,0,0,0,0,0,0,0,0,0,0,0,0,0,0,0,0,0,0,0,0,0,0,0,0,0,0,0,0,0,0,0,0,0,0,0,0,0,0,0,0,0,0,0,0,0,0,0,0,0,0,0,0,0,0,0,0,0,0,0,0,0,0,0,0,0,0,0,0,0,0,0,0,0,0,0,0,0,0,0,0,0,0,0,0,0,0,0,0,0,0,0,0,0,0,0,0,0,0,0,0,0,0,0,0,0,0,0,0,0,0,0,0,0,0,0,0,0,0,0,0,0,0,0,0,0,0,0,0,0,0,0,0,0,0,0,0,0,0,0,0,0,0,0,0,0,0,0,0,0,0,0,0,0,0,0,0,0,0,0,0,0,0,0,0,0,0,0,0,0,0,0,0,0,0,0,0,0,0,0,0,0,0,0,0,0,0,0,0,0,0,0,0,0,0,0,0,0,0,0,0,0,0,0,0,0,0,0,0,0,0,0,0,0,0,0,0,0,0,0,0,0,0,0,0,0,0,0,0,0,0,0,0,0,0,0,0,0,0,0,0,0,0,0,0,0,0,0,0,0,0,0,0,0,0,0,0,0,0,0,0,0,0,0,0,0,0,0,0,0,0,0,0,0,0,0,0,0,0,0,0,0,0,0,0,0,0,0,0,0,0,0,0,0,0,0,0,0,0,0,0,0,0,0,0,0,0,0,0,0,0,0,0,0,0,0,0,0,0,0,0,0,0,0,0,0,0,0,0,0,0,0,0,0,0,0,0,0,0,0,0,0,0,0,0,0,0,0,0,0,0,0,0,0,0,0,0,0,0,0,0,0,0,0,0,0,0,0,0,0,0,0,0,0,0,0,0,0,0,0,0,0,0,0,0,0,0,0,0,0,0,0,0,0,0,0,0,0,0,0,0,0,0,0,0,0,0,0,0,0,0,0,0,0,0,0,0,0,0,0,0,0,0,0,0,0,0,0,0,0,0,0,0,0,0,0,0,0,0,0,0,0,0,0,0,0,0,0,0,0,0,0,0,0,0,0,0,0,0,0,0,0,0,0,0,0,0,0,0,0,0,0,0,0,0,0,0,0,0,0,0,0,0,0,0,0,0,0,0,0,0,0,0,0,0,0,0,0,0,0,0,0,0,0,0,0,0,0,0,0,0,0,0,0,0,0,0,0,0,0,0,0,0,0,0,0,0,0,0,0,0,0,0,0,0,0,0,0,0,0,0,0,0,0,0,0,0,0,0,0,0,0,0,0,0,0,0,0,0,0,0,0,0,0,0,0,0,0,0,0,0,0,0,0,0,0,0,0,0,0,0,0,0,0,0,0,0,0,0,0,0,0,0,0,0,0,0,0,0,0,0,0,0,0,0,0,0,0,0,0,0,0,0,0,0,0,0,0,0,0,0,0,0,0,0,0,0,0,0,0,0,0,0,0,0,0,0,0,0,0,0,0,0,0,0,0,0,0,0,0,0,0,0,0,0,0,0,0,0,0,0,0,0,0,0,0,0,0,0,0,0,0,0,0,0,0,0,0,0,0,0,0,0,0,0,0,0,0,0,0,0,0,0,0,0,0,0,0,0,0,0,0,0,0,0,0,0,0,0,0,0,0,0,0,0,0,0,0,0,0,0,0,0,0,0,0,0,0,0,0,0,0,0,0,0,0,0,0,0,0,0,0,0,0,0,0,0,0,0,0,0,0,0,0,0,0,0,0,0,0,0,0,0,0,0,0,0,0,0,0,0,0,0,0,0,0,0,0,0,0,0,0,0,0,0,0,0,0,0,0,0,0,0,0,0,0,0,0,0,0,0,0,0,0,0,0,0,0,0,0,0,0,0,0,0,0,0,0,0,0,0,0,0,0,0,0,0,0,0,0,0,0,0,0,0,0,0,0,0,0,0,0,0,0,0,0,0,0,0,0,0,0,0,0,0,0,0,0,0,0,0,0,0,0,0,0,0,0,0,0,0,0,0,0,0,0,0,0,0,0,0,0,0,0,0,0,0,0,0,0,0,0,0,0,0,0,0,0,0,0,0,0,0,0,0,0,0,0,0,0,0,0,0,0,0,0,0,0,0,0,0,0,0,0,0,0,0,0,0,0,0,0,0,0,0,0,0,0,0,0,0,0,0,0,0,0,0,0,0,0,0,0,0,0,0,0,0,0,0,0,0,0,0,0,0,0,0,0,0,0,0,0,0,0,0,0,0,0,0,0,0,0,0,0,0,0,0,0,0,0,0,0,0,0,0,0,0,0,0,0,0,0,0,0,0,0,0,0,0,0,0,0,0,0,0,0,0,0,0,0,0,0,0,0,0,0,0,0,0,0,0,0,0,0,0,0,0,0,0,0,0,0,0,0,0,0,0,0,0,0,0,0,0,0,0,0,0,0,0,0,0,0,0,0,0,0,0,0,0,0,0,0,0,0,0,0,0,0,0,0,0,0,0,0,0,0,0,0,0,0,0,0,0,0,0,0,0,0,0,0,0,0,0,0,0,0,0,0,0,0,0,0,0,0,0,0,0,0,0,0,0,0,0,0,0,0,0,0,0,0,0,0,0,0,0,0,0,0,0,0,0,0,0,0,0,0,0,0,0,0,0,0,0,0,0,0,0,0,0,0,0,0,0,0,0,0,0,0,0,0,0,0,0,0,0,0,0,0,0,0,0,0,0,0,0,0,0,0,0,0,0,0,0,0,0,0,0,0,0,0,0,0,0,0,0,0,0,0,0,0,0,0,0,0,0,0,0,0,0,0,0,0,0,0,0,0,0,0,0,0,0,0,0,0,0,0,0,0,0,0,0,0,0,0,0,0,0,0,0,0,0,0,0,0,0,0,0,0,0,0,0,0,0,0,0,0,0,0,0,0,0,0,0,0,0,0,0,0,0,0,0,0,0,0,0,0,0,0,0,0,0,0,0,0,0,0,0,0,0,0,0,0,0,0,0,0,0,0,0,0,0,0,0,0,0,0,0,0,0,0,0,0,0,0,0,0,0,0,0,0,0,0,0,0,0,0,0,0,0,0,0,0,0,0,0,0,0,0,0,0,0,0,0,0,0,0,0,0,0,0,0,0,0,0,0,0,0,0,0,0,0,0,0,0,0,0,0,0,0,0,0,0,0,0,0,0,0,0,0,0,0,0,0,0,0,0,0,0,0,0,0,0,0,0,0,0,0,0,0,0,0,0,0,0,0,0,0,0,0,0,0,0,0,0,0,0,0,0,0,0,0,0,0],\"x0\":\" \",\"xaxis\":\"x\",\"y\":[0.0,46.0,0.0,25.0,234.0,137.0,50.0,0.0,0.0,99.0,0.0,95.0,25.0,76.0,41.0,0.0,207.0,0.0,0.0,175.0,98.0,32.0,241.0,249.0,0.0,136.0,0.0,0.0,167.0,140.0,24.0,120.0,0.0,28.0,300.0,35.0,69.0,83.0,37.0,28.0,93.0,0.0,104.0,50.0,5.0,148.0,0.0,54.0,35.0,0.0,57.0,27.0,26.0,40.0,163.0,162.0,0.0,221.0,83.0,0.0,59.0,26.0,0.0,0.0,121.0,27.0,33.0,0.0,0.0,27.0,91.0,114.0,29.0,103.0,0.0,27.0,210.0,174.0,246.0,0.0,23.0,0.0,26.0,51.0,43.0,29.0,0.0,45.0,5.0,28.0,0.0,30.0,0.0,27.0,31.0,162.0,0.0,51.0,33.0,27.0,81.0,158.0,77.0,0.0,100.0,74.0,25.0,0.0,27.0,236.0,65.0,0.0,67.0,25.0,25.0,0.0,235.0,216.0,0.0,132.0,34.0,31.0,0.0,53.0,0.0,0.0,27.0,0.0,0.0,0.0,28.0,80.0,0.0,43.0,71.0,41.0,44.0,0.0,25.0,0.0,140.0,248.0,26.0,43.0,0.0,100.0,0.0,41.0,236.0,135.0,0.0,57.0,37.0,0.0,40.0,0.0,228.0,42.0,54.0,35.0,76.0,0.0,27.0,247.0,27.0,0.0,2.0,0.0,0.0,0.0,0.0,26.0,25.0,101.0,0.0,117.0,36.0,25.0,74.0,0.0,0.0,0.0,0.0,0.0,250.0,0.0,127.0,27.0,35.0,224.0,42.0,25.0,112.0,0.0,0.0,241.0,37.0,58.0,134.0,0.0,243.0,0.0,75.0,29.0,34.0,216.0,0.0,0.0,0.0,25.0,18.0,27.0,53.0,0.0,150.0,0.0,53.0,32.0,67.0,67.0,90.0,70.0,0.0,0.0,26.0,0.0,43.0,46.0,98.0,80.0,0.0,0.0,129.0,28.0,250.0,0.0,25.0,0.0,40.0,0.0,43.0,27.0,18.0,0.0,248.0,0.0,0.0,0.0,26.0,52.0,28.0,66.0,0.0,147.0,0.0,160.0,0.0,26.0,27.0,103.0,65.0,57.0,0.0,102.0,0.0,0.0,0.0,169.0,0.0,0.0,28.0,98.0,29.0,107.0,108.0,44.0,28.0,27.0,44.0,37.0,77.0,0.0,242.0,0.0,64.0,26.0,92.0,0.0,250.0,179.0,128.0,27.0,28.0,52.0,0.0,0.0,32.0,0.0,30.0,67.0,28.0,27.0,46.0,85.0,0.0,72.0,0.0,0.0,0.0,0.0,33.0,0.0,0.0,0.0,69.0,188.0,0.0,29.0,103.0,28.0,102.0,0.0,0.0,0.0,0.0,0.0,0.0,29.0,100.0,0.0,0.0,0.0,87.0,0.0,0.0,28.0,28.0,0.0,0.0,25.0,0.0,25.0,0.0,0.0,32.0,28.0,97.0,32.0,88.0,25.0,0.0,39.0,0.0,0.0,31.0,237.0,139.0,119.0,0.0,0.0,34.0,147.0,0.0,28.0,248.0,0.0,124.0,231.0,99.0,25.0,197.0,241.0,25.0,152.0,28.0,0.0,0.0,25.0,172.0,0.0,0.0,0.0,95.0,30.0,60.0,29.0,0.0,0.0,0.0,47.0,34.0,0.0,0.0,86.0,249.0,0.0,28.0,67.0,244.0,236.0,0.0,0.0,213.0,0.0,250.0,173.0,43.0,72.0,132.0,0.0,0.0,0.0,0.0,0.0,0.0,34.0,0.0,0.0,0.0,65.0,0.0,0.0,0.0,0.0,64.0,35.0,0.0,0.0,57.0,25.0,28.0,32.0,0.0,0.0,28.0,31.0,27.0,0.0,29.0,41.0,0.0,0.0,0.0,25.0,111.0,31.0,25.0,0.0,33.0,39.0,0.0,28.0,39.0,248.0,0.0,0.0,0.0,0.0,136.0,34.0,0.0,41.0,0.0,0.0,77.0,57.0,234.0,47.0,0.0,47.0,46.0,0.0,61.0,37.0,0.0,162.0,100.0,0.0,0.0,25.0,0.0,2.0,29.0,70.0,25.0,73.0,224.0,58.0,188.0,52.0,0.0,37.0,33.0,0.0,0.0,0.0,0.0,0.0,28.0,0.0,70.0,2.0,0.0,32.0,0.0,0.0,223.0,0.0,76.0,63.0,0.0,34.0,0.0,40.0,0.0,0.0,35.0,0.0,177.0,26.0,0.0,222.0,82.0,0.0,36.0,0.0,0.0,0.0,0.0,28.0,191.0,0.0,250.0,234.0,0.0,0.0,0.0,0.0,70.0,41.0,29.0,246.0,31.0,45.0,28.0,0.0,130.0,0.0,35.0,0.0,0.0,243.0,0.0,125.0,157.0,0.0,0.0,248.0,30.0,0.0,24.0,26.0,151.0,67.0,0.0,0.0,195.0,136.0,47.0,24.0,0.0,42.0,118.0,0.0,0.0,0.0,0.0,0.0,0.0,217.0,38.0,25.0,0.0,0.0,202.0,0.0,73.0,250.0,0.0,0.0,0.0,0.0,179.0,34.0,49.0,31.0,208.0,0.0,50.0,132.0,28.0,72.0,243.0,250.0,36.0,210.0,172.0,84.0,25.0,205.0,38.0,0.0,104.0,27.0,0.0,26.0,34.0,0.0,0.0,249.0,41.0,71.0,63.0,0.0,0.0,84.0,32.0,0.0,0.0,32.0,112.0,0.0,26.0,86.0,83.0,182.0,0.0,0.0,27.0,0.0,0.0,0.0,60.0,0.0,82.0,0.0,0.0,67.0,0.0,0.0,0.0,39.0,207.0,0.0,0.0,0.0,26.0,0.0,0.0,26.0,27.0,0.0,0.0,135.0,26.0,0.0,0.0,27.0,0.0,100.0,25.0,25.0,0.0,0.0,25.0,141.0,166.0,59.0,94.0,0.0,0.0,26.0,28.0,48.0,26.0,0.0,30.0,119.0,27.0,0.0,87.0,192.0,28.0,0.0,0.0,60.0,0.0,0.0,0.0,38.0,31.0,0.0,30.0,73.0,0.0,68.0,0.0,0.0,43.0,0.0,30.0,28.0,0.0,0.0,0.0,0.0,0.0,138.0,26.0,0.0,0.0,0.0,30.0,0.0,128.0,0.0,0.0,45.0,112.0,33.0,59.0,0.0,44.0,167.0,183.0,0.0,32.0,0.0,28.0,27.0,173.0,29.0,0.0,62.0,0.0,25.0,0.0,0.0,26.0,41.0,143.0,61.0,0.0,0.0,28.0,250.0,0.0,0.0,0.0,63.0,158.0,25.0,0.0,0.0,27.0,237.0,0.0,55.0,25.0,148.0,0.0,82.0,32.0,0.0,0.0,26.0,232.0,1.0,0.0,0.0,54.0,0.0,0.0,57.0,91.0,46.0,27.0,0.0,239.0,152.0,0.0,31.0,29.0,0.0,250.0,100.0,0.0,0.0,41.0,40.0,25.0,27.0,0.0,0.0,0.0,0.0,185.0,135.0,0.0,28.0,0.0,35.0,0.0,0.0,50.0,0.0,59.0,0.0,0.0,0.0,67.0,0.0,31.0,135.0,149.0,0.0,30.0,0.0,240.0,160.0,0.0,0.0,0.0,0.0,0.0,27.0,25.0,43.0,0.0,0.0,30.0,68.0,0.0,0.0,32.0,105.0,38.0,0.0,52.0,0.0,0.0,79.0,162.0,0.0,0.0,0.0,26.0,63.0,79.0,164.0,171.0,0.0,0.0,229.0,27.0,0.0,25.0,156.0,177.0,250.0,41.0,25.0,0.0,0.0,0.0,46.0,0.0,1.0,46.0,0.0,54.0,27.0,26.0,73.0,0.0,93.0,27.0,45.0,121.0,123.0,102.0,108.0,144.0,0.0,0.0,29.0,245.0,0.0,0.0,88.0,139.0,0.0,25.0,0.0,29.0,0.0,30.0,25.0,0.0,27.0,25.0,128.0,27.0,99.0,0.0,0.0,40.0,31.0,0.0,0.0,33.0,159.0,0.0,41.0,0.0,0.0,141.0,66.0,47.0,46.0,0.0,0.0,0.0,137.0,35.0,0.0,250.0,0.0,0.0,178.0,72.0,0.0,55.0,46.0,0.0,0.0,29.0,82.0,0.0,0.0,61.0,26.0,0.0,80.0,0.0,0.0,0.0,65.0,0.0,39.0,41.0,29.0,0.0,0.0,44.0,46.0,0.0,0.0,82.0,0.0,235.0,0.0,245.0,0.0,101.0,101.0,0.0,46.0,0.0,62.0,0.0,0.0,28.0,98.0,0.0,0.0,0.0,15.0,0.0,0.0,32.0,28.0,104.0,29.0,37.0,77.0,0.0,40.0,0.0,0.0,250.0,116.0,0.0,34.0,244.0,238.0,25.0,61.0,79.0,0.0,31.0,0.0,0.0,102.0,183.0,52.0,39.0,0.0,250.0,239.0,19.0,0.0,111.0,241.0,0.0,180.0,237.0,230.0,62.0,45.0,247.0,144.0,24.0,0.0,45.0,143.0,132.0,175.0,229.0,248.0,156.0,248.0,32.0,0.0,76.0,245.0,237.0,223.0,164.0,0.0,147.0,49.0,70.0,0.0,36.0,36.0,245.0,75.0,83.0,0.0,143.0,110.0,82.0,101.0,0.0,80.0,79.0,78.0,127.0,177.0,26.0,211.0,180.0,0.0,237.0,150.0,25.0,240.0,29.0,0.0,0.0,245.0,187.0,234.0,71.0,28.0,27.0,244.0,142.0,0.0,250.0,249.0,233.0,0.0,51.0,34.0,172.0,0.0,44.0,36.0,169.0,0.0,29.0,98.0,44.0,240.0,247.0,85.0,57.0,112.0,157.0,71.0,124.0,180.0,58.0,0.0,0.0,0.0,178.0,113.0,221.0,35.0,36.0,250.0,225.0,239.0,209.0,88.0,153.0,228.0,69.0,129.0,46.0,58.0,91.0,34.0,49.0,62.0,241.0,58.0,50.0,136.0,69.0,0.0,242.0,23.0,59.0,133.0,244.0,235.0,167.0,189.0,129.0,72.0,250.0,239.0,232.0,30.0,180.0,34.0,0.0,25.0,56.0,0.0,26.0,177.0,88.0,230.0,0.0,25.0,144.0,108.0,0.0,0.0,61.0,0.0,113.0,65.0,222.0,0.0,44.0,126.0,192.0,28.0,59.0,30.0,238.0,0.0,41.0,103.0,104.0,244.0,0.0,209.0,56.0,115.0,38.0,91.0,245.0,74.0,250.0,0.0,237.0,249.0,90.0,246.0,244.0,206.0,145.0,244.0,27.0,165.0,172.0,34.0,0.0,250.0,219.0,0.0,80.0,104.0,0.0,36.0,123.0,164.0,97.0,59.0,38.0,137.0,20.0,64.0,0.0,166.0,68.0,36.0,27.0,0.0,0.0,0.0,0.0,246.0,103.0,86.0,93.0,82.0,80.0,231.0,0.0,150.0,0.0,247.0,0.0,127.0,106.0,120.0,74.0,89.0,137.0,0.0,117.0,0.0,44.0,39.0,208.0,184.0,188.0,116.0,236.0,62.0,157.0,0.0,52.0,68.0,77.0,0.0,244.0,41.0,0.0,42.0,0.0,27.0,114.0,39.0,201.0,234.0,167.0,163.0,250.0,37.0,246.0,25.0,168.0,248.0,212.0,98.0,155.0,43.0,0.0,31.0,157.0,39.0,158.0,30.0,238.0,202.0,155.0,0.0,139.0,68.0,0.0,244.0,37.0,112.0,61.0,59.0,35.0,186.0,148.0,72.0,169.0,50.0,110.0,210.0,161.0,162.0,213.0,36.0,225.0,234.0,0.0,198.0,70.0,178.0,0.0,154.0,63.0,35.0,25.0,0.0,183.0,99.0,250.0,221.0,46.0,61.0,151.0,42.0,25.0,185.0,0.0,250.0,75.0,60.0,231.0,53.0,158.0,62.0,32.0,199.0,152.0,0.0,241.0,232.0,0.0,108.0,197.0,43.0,46.0,62.0,32.0,0.0,193.0,54.0,199.0,63.0,111.0,124.0,228.0,151.0,27.0,0.0,0.0,184.0,130.0,176.0,37.0,117.0,53.0,156.0,74.0,0.0,0.0,105.0,67.0,0.0,29.0,92.0,211.0,169.0,27.0,239.0,134.0,34.0,124.0,241.0,140.0,193.0,45.0,225.0,29.0,236.0,231.0,0.0,246.0,245.0,30.0,241.0,0.0,49.0,117.0,250.0,246.0,52.0,0.0,92.0,155.0,30.0,56.0,250.0,153.0,145.0,108.0,241.0,235.0,129.0,89.0,242.0,172.0,238.0,0.0,29.0,139.0,239.0,72.0,217.0,24.0,46.0,273.0,126.0,25.0,170.0,78.0,250.0,0.0,162.0,0.0,83.0,181.0,38.0,0.0,246.0,56.0,119.0,187.0,180.0,183.0,133.0,29.0,48.0,31.0,178.0,44.0,232.0,210.0,116.0,73.0,0.0,64.0,243.0,46.0,217.0,27.0,199.0,170.0,118.0,105.0,228.0,160.0,115.0,231.0,158.0,74.0,208.0,225.0,32.0,169.0,174.0,126.0,96.0,64.0,175.0,114.0,27.0,36.0,250.0,128.0,216.0,54.0,74.0,237.0,95.0,99.0,0.0,24.0,64.0,141.0,45.0,0.0,79.0,0.0,191.0,135.0,181.0,128.0,240.0,0.0,119.0,166.0,190.0,250.0,79.0,0.0,250.0,184.0,197.0,214.0,73.0,245.0,129.0,191.0,164.0,74.0,32.0,52.0,183.0,0.0,161.0,107.0,25.0,0.0,47.0,55.0,27.0,81.0,142.0,127.0,249.0,91.0,225.0,35.0,53.0,186.0,0.0,73.0,63.0,1.0,108.0,49.0,249.0,178.0,244.0,112.0,153.0,205.0,211.0,33.0,28.0,107.0,249.0,212.0,167.0,0.0,125.0,242.0,51.0,124.0,27.0,225.0,110.0,94.0,246.0,250.0,0.0,0.0,242.0,45.0,169.0,107.0,216.0,26.0,121.0,56.0,77.0,33.0,235.0,0.0,28.0,2.0,0.0,0.0,131.0,225.0,26.0,189.0,227.0,250.0,150.0,69.0,0.0,140.0,0.0,195.0,44.0,20.0,35.0,35.0,146.0,39.0,33.0,0.0,86.0,232.0,133.0,220.0,153.0,151.0,239.0,245.0,103.0,221.0,239.0,249.0,82.0,205.0,134.0,25.0,250.0,187.0,0.0,130.0,205.0,154.0,26.0,75.0,208.0,0.0,198.0,147.0,31.0,45.0,29.0,37.0,134.0,237.0,250.0,87.0,73.0,73.0,288.0,78.0,230.0,175.0,0.0,218.0,175.0,250.0,250.0,77.0,0.0,247.0,182.0,137.0,229.0,30.0,27.0,74.0,77.0,54.0,250.0,0.0,120.0,105.0,101.0,214.0,130.0,75.0,68.0,130.0,0.0,44.0,250.0,46.0,45.0,144.0,236.0,0.0,0.0,100.0,151.0,68.0,158.0,38.0,187.0,244.0,98.0,37.0,232.0,0.0,250.0,216.0,0.0,99.0,250.0,208.0,125.0,75.0,64.0,99.0,37.0,30.0,125.0,130.0,198.0,125.0,28.0,0.0,28.0,213.0,226.0,233.0,0.0,244.0,133.0,0.0,247.0,250.0,0.0,139.0,91.0,98.0,159.0,250.0,250.0,205.0,0.0,139.0,152.0,45.0,249.0,209.0,204.0,111.0,246.0,43.0,216.0,250.0,73.0,192.0,172.0,37.0,85.0,0.0,243.0,220.0,71.0,229.0,87.0,210.0,0.0,107.0,247.0,32.0,99.0,163.0,242.0,45.0,246.0,106.0,242.0,199.0,0.0,46.0,41.0,162.0,98.0,132.0,119.0,69.0,39.0,46.0,170.0,74.0,137.0,40.0,0.0,0.0,162.0,155.0,61.0,0.0,247.0,250.0,0.0,35.0,169.0,66.0,0.0,45.0,153.0,185.0,26.0,52.0,229.0,122.0,65.0,0.0,218.0,156.0,103.0,193.0,222.0,28.0,45.0,48.0,250.0,227.0,49.0,137.0,0.0,0.0,45.0,98.0,226.0,40.0,250.0,217.0,126.0,243.0,83.0,45.0,205.0,122.0,25.0,242.0,38.0,0.0,45.0,0.0,105.0,0.0,48.0,0.0,75.0,55.0,0.0,25.0,89.0,195.0,132.0,92.0,240.0,0.0,182.0,0.0,50.0,126.0,25.0,72.0,76.0,25.0,57.0,25.0,25.0,42.0,205.0,141.0,71.0,116.0,249.0,54.0,0.0,243.0,150.0,28.0,148.0,44.0,180.0,141.0,46.0,0.0,240.0,249.0,53.0,0.0,87.0,171.0,52.0,158.0,0.0,0.0,132.0,62.0,36.0,37.0,98.0,228.0,68.0,103.0,138.0,117.0,244.0,140.0,0.0,148.0,95.0,5.0,32.0,117.0,246.0,250.0,231.0,85.0,46.0,53.0,28.0,246.0,68.0,0.0,97.0,144.0,0.0,81.0,239.0,242.0,231.0,212.0,170.0,106.0,57.0,248.0,202.0,94.0,167.0,244.0,46.0,234.0,26.0,215.0,42.0,196.0,57.0,233.0,212.0,105.0,0.0,26.0,247.0,62.0,38.0,244.0,124.0,103.0,0.0,0.0,256.0,208.0,234.0,106.0,147.0,0.0,246.0,67.0,250.0,167.0,39.0,83.0,147.0,117.0,0.0,25.0,35.0,103.0,243.0,63.0,242.0,52.0,0.0,27.0,29.0,197.0,50.0,153.0,106.0,64.0,110.0,46.0,28.0,225.0,30.0,0.0,75.0,247.0,0.0,142.0,250.0,86.0,40.0,29.0,94.0,87.0,187.0,58.0,127.0,250.0,46.0,239.0,199.0,68.0,194.0,25.0,164.0,0.0,250.0,216.0,72.0,103.0,27.0,62.0,219.0,175.0,0.0,185.0,80.0,220.0,37.0,27.0,119.0,158.0,225.0,0.0,182.0,57.0,0.0,46.0,199.0,0.0,51.0,188.0,60.0,248.0,0.0,156.0,60.0,49.0,59.0,115.0,53.0,243.0,229.0,43.0,183.0,53.0,0.0,52.0,36.0,106.0,0.0,190.0,211.0,30.0,113.0,250.0,39.0,76.0,63.0,206.0,85.0,250.0,241.0,134.0,188.0,234.0,33.0,123.0,229.0,244.0,167.0,221.0,15.0,250.0,74.0,215.0,111.0,232.0,124.0,175.0,77.0,40.0,245.0,56.0,0.0,240.0,219.0,247.0,56.0,83.0,248.0,49.0,81.0,0.0,238.0,280.0,144.0,117.0,203.0,78.0,121.0,245.0,26.0,182.0,168.0,166.0,0.0,221.0,39.0,235.0,221.0,245.0,244.0,46.0,27.0,26.0,176.0,0.0,28.0,0.0,111.0,195.0,135.0,157.0,42.0,102.0,111.0,95.0,44.0,250.0,0.0,25.0,103.0,176.0,247.0,213.0,184.0,131.0,90.0,34.0,67.0,87.0,145.0,56.0,27.0,76.0,235.0,230.0,250.0,269.0,218.0,61.0,79.0,110.0,97.0,128.0,38.0,35.0,189.0,0.0,184.0,231.0,38.0,241.0,0.0,108.0,44.0,0.0,24.0,242.0,152.0,250.0,0.0,215.0,250.0,250.0,132.0,0.0,250.0,78.0,66.0,195.0,25.0,0.0,36.0,248.0,0.0,249.0,0.0,240.0,62.0,59.0,0.0,142.0,228.0,250.0,61.0,78.0,230.0,31.0,58.0,70.0,250.0,174.0,161.0,169.0,0.0,204.0,0.0,26.0,25.0,248.0,249.0,210.0,0.0,183.0,55.0,98.0,41.0,0.0,0.0,79.0,38.0,0.0,136.0,165.0,157.0,45.0,0.0,0.0,36.0,203.0,125.0,236.0,98.0,110.0,45.0,249.0,243.0,68.0,50.0,74.0,205.0,131.0,249.0,83.0,233.0,82.0,27.0,247.0,232.0,27.0,201.0,150.0,188.0,64.0,59.0,100.0,126.0,0.0,25.0,215.0,39.0,5.0,261.0,194.0,28.0,158.0,88.0,246.0,120.0,50.0,44.0,186.0,45.0,208.0,27.0,200.0,51.0,113.0,221.0,242.0,224.0,191.0,25.0,168.0,206.0,191.0,237.0,226.0,0.0,150.0,68.0,105.0,244.0,122.0,227.0,0.0,27.0,55.0,25.0,32.0,250.0,250.0,247.0,56.0,107.0,109.0,44.0,247.0,0.0,0.0,142.0,44.0,250.0,250.0,86.0,36.0,248.0,79.0,170.0,0.0,127.0,32.0,15.0,4.0,26.0,104.0,228.0,184.0,164.0,68.0,26.0,161.0,235.0,249.0,0.0,0.0,239.0,181.0,194.0,172.0,245.0,85.0,28.0,248.0,29.0,241.0,77.0,49.0,79.0,25.0,203.0,159.0,221.0,140.0,250.0,38.0,34.0,51.0,250.0,59.0,234.0,95.0,25.0,249.0,198.0,117.0,247.0,25.0,34.0,166.0,78.0,247.0,249.0,24.0,246.0,204.0,51.0,51.0,0.0,28.0,67.0,27.0,70.0,35.0,175.0,0.0,89.0,241.0,221.0,0.0,183.0,0.0,162.0,120.0,0.0,0.0,42.0,159.0,63.0,29.0,204.0,160.0,217.0,43.0,223.0,59.0,0.0,83.0,138.0,99.0,232.0,249.0,55.0,99.0,48.0,163.0,250.0,0.0,168.0,164.0,56.0,46.0,78.0,161.0,26.0,125.0,110.0,22.0,32.0,159.0,246.0,145.0,248.0,178.0,54.0,71.0,46.0,233.0,243.0,147.0,88.0,232.0,49.0,78.0,223.0,27.0,241.0,216.0,124.0,250.0,32.0,47.0,245.0,218.0,76.0,250.0,25.0,222.0,0.0,152.0,94.0,207.0,231.0,48.0,34.0,92.0,109.0,39.0,191.0,36.0,236.0,119.0,61.0,83.0,241.0,73.0,233.0,210.0,237.0,134.0,67.0,85.0,0.0,73.0,0.0,107.0,131.0,62.0,0.0,0.0,98.0,41.0,240.0,163.0,243.0,140.0,30.0,63.0,76.0,52.0,102.0,204.0,60.0,159.0,118.0,0.0,195.0,0.0,94.0,35.0,148.0,0.0,0.0,223.0,0.0,154.0,73.0,242.0,69.0,143.0,128.0,124.0,31.0,0.0,63.0,147.0,258.0,0.0,239.0,0.0,0.0,249.0,66.0,0.0,0.0,0.0,166.0,0.0,0.0,47.0,137.0,45.0,91.0,64.0,67.0,116.0,41.0,25.0,25.0,230.0,64.0,113.0,228.0,47.0,218.0,32.0,139.0,241.0,117.0,52.0,26.0,36.0,249.0,160.0,0.0,45.0,72.0,30.0,250.0,243.0,43.0,74.0,58.0,0.0,242.0,245.0,154.0,138.0,248.0,0.0,62.0,221.0,101.0,0.0,156.0,0.0,39.0,0.0,214.0,128.0,249.0,248.0,250.0,169.0,61.0,225.0,48.0,133.0,250.0,162.0,42.0,92.0,44.0,25.0,0.0,166.0,114.0,63.0,224.0,0.0,75.0,193.0,205.0,118.0,207.0,147.0,40.0,0.0,118.0,241.0,74.0,179.0,0.0,63.0,0.0,46.0,0.0,27.0,0.0,0.0,188.0,41.0,113.0,24.0,0.0,32.0,204.0,89.0,0.0,32.0,166.0,99.0,123.0,250.0,99.0,25.0,97.0,248.0,0.0,141.0,25.0,67.0,0.0,0.0,133.0,49.0,74.0,26.0,232.0,246.0,184.0,0.0,55.0,221.0,107.0,119.0,81.0,0.0,232.0,249.0,111.0,37.0,238.0,26.0,167.0,57.0,75.0,153.0,232.0,181.0,211.0,90.0,40.0,0.0,36.0,47.0,80.0,27.0,250.0,0.0,143.0,161.0,32.0,102.0,43.0,27.0,26.0,178.0,0.0,0.0,223.0,88.0,0.0,48.0,25.0,30.0,108.0,0.0,215.0,101.0,96.0,117.0,140.0,118.0,249.0,181.0,238.0,63.0,247.0,62.0,209.0,92.0,237.0,196.0,250.0,195.0,148.0,104.0,77.0,202.0,48.0,194.0,207.0,248.0,217.0,46.0,0.0,208.0,217.0,248.0,42.0,246.0,141.0,221.0,0.0,0.0,160.0,30.0,40.0,123.0,0.0,28.0,260.0,26.0,85.0,87.0,213.0,0.0,239.0,33.0,73.0,185.0,0.0,219.0,243.0,154.0,0.0,248.0,96.0,175.0,120.0,242.0,171.0,0.0,0.0,142.0,239.0,201.0,0.0,39.0,204.0,161.0,30.0,65.0,89.0,51.0,49.0,134.0,77.0,67.0,122.0,34.0,25.0,118.0,0.0,102.0,234.0,122.0,42.0,44.0,246.0,0.0,27.0,114.0,223.0,182.0,0.0,161.0,0.0,244.0,96.0,76.0,0.0,185.0,62.0,72.0,47.0,84.0,27.0,33.0,181.0,0.0,218.0,112.0,0.0,0.0,235.0,73.0,29.0,249.0,233.0,233.0,250.0,112.0,167.0,141.0,58.0,228.0,51.0,240.0,237.0,91.0,223.0,226.0,128.0,0.0,51.0,194.0,186.0,107.0,25.0,30.0,99.0,177.0,135.0,0.0,32.0,249.0,73.0,192.0,250.0,95.0,43.0,26.0,181.0,138.0,0.0,64.0,245.0,98.0,142.0,0.0,237.0,25.0,72.0,52.0,104.0,223.0,190.0,110.0,26.0,231.0,182.0,94.0,25.0,148.0,111.0,31.0,0.0,76.0,250.0,25.0,32.0,0.0,157.0,186.0,210.0,142.0,73.0,95.0,29.0,243.0,250.0,0.0,113.0,69.0,114.0,0.0,105.0,91.0,105.0,0.0,140.0,217.0,0.0,210.0,130.0,250.0,172.0,248.0,105.0,77.0,133.0,166.0,27.0,0.0,247.0,83.0,32.0,227.0,30.0,85.0,249.0,126.0,184.0,85.0,223.0,237.0,245.0,0.0,161.0,49.0,238.0,25.0,75.0,30.0,232.0,162.0,75.0,58.0,36.0,0.0,238.0,101.0,214.0,27.0,175.0,170.0,35.0,119.0,91.0,55.0,162.0,0.0,246.0,171.0,117.0,0.0,62.0,63.0,38.0,246.0,250.0,211.0,37.0,25.0,36.0,27.0,164.0,0.0,67.0,34.0,0.0,250.0,27.0,26.0,24.0,56.0,52.0,0.0,0.0,197.0,27.0,62.0,112.0,105.0,134.0,221.0,245.0,99.0,68.0,197.0,30.0,33.0,108.0,227.0,120.0,22.0,67.0,225.0,243.0,188.0,126.0,0.0,195.0,40.0,181.0,28.0,0.0,67.0,243.0,0.0,123.0,54.0,193.0,246.0,0.0,96.0,114.0,0.0,239.0,31.0,26.0,215.0,224.0,0.0,175.0,0.0,248.0,239.0,188.0,33.0,24.0,136.0,34.0,126.0,0.0,185.0,57.0,116.0,139.0,69.0,235.0,132.0,250.0,243.0,0.0,173.0,129.0,66.0,83.0,56.0,26.0,102.0,0.0,25.0,0.0,75.0,91.0,225.0,249.0,83.0,186.0,0.0,247.0,202.0,0.0,241.0,92.0,236.0,118.0,28.0,36.0,247.0,113.0,39.0,227.0,234.0,106.0,58.0,89.0,222.0,0.0,0.0,126.0,112.0,104.0,0.0,240.0,169.0,211.0,111.0,111.0,25.0,33.0,240.0,248.0,35.0,245.0,228.0,41.0,42.0,53.0,73.0,199.0,249.0,146.0,95.0,34.0,231.0,77.0,142.0,237.0,0.0,0.0,0.0,235.0,0.0,26.0,0.0,151.0,153.0,96.0,29.0,0.0,249.0,210.0,84.0,71.0,221.0,27.0,52.0,75.0,248.0,67.0,34.0,112.0,250.0,149.0,31.0,0.0,96.0,29.0,0.0,60.0,86.0,0.0,45.0,57.0,0.0,26.0,50.0,90.0,167.0,157.0,96.0,85.0,242.0,114.0,248.0,25.0,251.0,171.0,51.0,70.0,68.0,207.0,110.0,124.0,243.0,29.0,45.0,93.0,174.0,220.0,161.0,95.0,33.0,240.0,137.0,0.0,28.0,204.0,50.0,26.0,151.0,152.0,112.0,0.0,229.0,137.0,28.0,247.0,64.0,155.0,143.0,123.0,141.0,97.0,218.0,54.0,93.0,50.0,38.0,250.0,80.0,0.0,139.0,0.0,0.0,58.0,28.0,239.0,107.0,220.0,248.0,0.0,217.0,0.0,86.0,0.0,40.0,242.0,33.0,148.0,0.0,283.0,241.0,66.0,45.0,250.0,131.0,0.0,27.0,80.0,66.0,133.0,25.0,130.0,72.0,0.0,195.0,247.0,142.0,214.0,243.0,68.0,111.0,24.0,118.0,95.0,59.0,248.0,131.0,236.0,95.0,250.0,243.0,0.0,36.0,149.0,25.0,26.0,181.0,86.0,241.0,122.0,0.0,58.0,107.0,175.0,139.0,61.0,105.0,34.0,171.0,0.0,135.0,28.0,102.0,33.0,37.0,88.0,105.0,113.0,158.0,108.0,244.0,250.0,96.0,175.0,219.0,33.0,250.0,229.0,236.0,172.0,36.0,250.0,31.0,164.0,128.0,57.0,201.0,74.0,35.0,88.0,124.0,32.0,0.0,32.0,58.0,199.0,129.0,93.0,178.0,0.0,135.0,38.0,247.0,196.0,193.0,0.0,0.0,33.0,240.0,100.0,29.0,122.0,180.0,0.0,221.0,85.0,31.0,0.0,0.0,245.0,27.0,134.0,235.0,71.0,0.0,164.0,87.0,168.0,171.0,51.0,124.0,144.0,33.0,15.0,137.0,137.0,88.0,247.0,61.0,129.0,196.0,110.0,39.0,250.0,96.0,0.0,83.0,132.0,30.0,49.0,48.0,25.0,249.0,235.0,0.0,93.0,0.0,243.0,29.0,99.0,29.0,109.0,167.0,233.0,147.0,247.0,126.0,30.0,29.0,226.0,29.0,249.0,224.0,249.0,154.0,82.0,73.0,219.0,179.0,0.0,241.0,0.0,28.0,236.0,42.0,90.0,0.0,0.0,229.0,222.0,0.0,31.0,41.0,0.0,227.0,249.0,192.0,228.0,31.0,245.0,108.0,46.0,211.0,0.0,41.0,248.0,218.0,200.0,80.0,26.0,108.0,85.0,144.0,52.0,31.0,27.0,233.0,0.0,27.0,216.0,249.0,80.0,138.0,210.0,237.0,0.0,59.0,250.0,118.0,38.0,83.0,26.0,47.0,78.0,158.0,34.0,240.0,85.0,30.0,200.0,249.0,26.0,113.0,195.0,0.0,102.0,31.0,250.0,60.0,142.0,36.0,247.0,247.0,36.0,39.0,228.0,61.0,245.0,249.0,132.0,102.0,202.0,57.0,158.0,0.0,35.0,248.0,243.0,125.0,0.0,225.0,204.0,167.0,250.0,76.0,0.0,29.0,250.0,222.0,63.0,112.0,70.0,156.0,46.0,162.0,201.0,0.0,0.0,230.0,56.0,205.0,208.0,183.0,57.0,27.0,80.0,33.0,125.0,78.0,214.0,83.0,0.0,26.0,249.0,47.0,250.0,141.0,60.0,242.0,47.0,64.0,0.0,101.0,249.0,38.0,76.0,78.0,27.0,0.0,52.0,234.0,250.0,248.0,139.0,49.0,0.0,136.0,0.0,0.0,40.0,41.0,242.0,0.0,187.0,40.0,0.0,40.0,168.0,88.0,191.0,40.0,247.0,28.0,0.0,184.0,36.0,241.0,69.0,171.0,28.0,247.0,93.0,215.0,166.0,33.0,222.0,0.0,34.0,26.0,45.0,39.0,49.0,103.0,244.0,204.0,25.0,50.0,250.0,29.0,258.0,216.0,25.0,197.0,115.0,33.0,55.0,155.0,153.0,224.0,208.0,150.0,37.0,244.0,0.0,82.0,34.0,246.0,94.0,53.0,28.0,0.0,219.0,30.0,250.0,94.0,247.0,146.0,162.0,82.0,51.0,36.0,67.0,0.0,186.0,118.0,0.0,28.0,0.0,147.0,104.0,66.0,160.0,181.0,54.0,38.0,162.0,236.0,96.0,127.0,188.0,139.0,60.0,182.0,0.0,0.0,126.0,249.0,220.0,26.0,160.0,90.0,0.0,198.0,175.0,52.0,106.0,228.0,177.0,25.0,110.0,28.0,0.0,104.0,136.0,166.0,79.0,250.0,108.0,37.0,204.0,44.0,86.0,0.0,148.0,196.0,0.0,249.0,130.0,53.0,60.0,82.0,105.0,0.0,46.0,216.0,0.0,127.0,231.0,121.0,68.0,37.0,0.0,39.0,212.0,39.0,241.0,93.0,25.0,152.0,250.0,27.0,0.0,250.0,0.0,53.0,171.0,166.0,91.0,250.0,105.0,239.0,0.0,28.0,0.0,250.0,89.0,161.0,131.0,80.0,59.0,241.0,221.0,0.0,138.0,25.0,212.0,0.0,29.0,234.0,248.0,50.0,243.0,29.0,44.0,237.0,247.0,108.0,127.0,217.0,168.0,0.0,0.0,133.0,244.0,151.0,150.0,171.0,250.0,0.0,155.0,155.0,246.0,209.0,0.0,82.0,0.0,56.0,25.0,227.0,67.0,53.0,34.0,250.0,67.0,25.0,250.0,91.0,173.0,27.0,240.0,0.0,207.0,209.0,246.0,25.0,59.0,249.0,236.0,82.0,102.0,146.0,0.0,37.0,97.0,0.0,47.0,192.0,241.0,226.0,0.0,250.0,242.0,31.0,237.0,46.0,34.0,139.0,119.0,105.0,186.0,106.0,244.0,142.0,250.0,240.0,71.0,180.0,116.0,64.0,109.0,198.0,58.0,32.0,250.0,0.0,196.0,68.0,153.0,245.0,37.0,250.0,29.0,194.0,94.0,250.0,162.0,202.0,26.0,142.0,201.0,168.0,65.0,75.0,28.0,150.0,38.0,232.0,0.0,96.0,26.0,54.0,25.0,241.0,0.0,52.0,33.0,25.0,47.0,27.0,62.0,80.0,33.0,116.0,211.0,91.0,218.0,52.0,28.0,0.0,68.0,51.0,37.0,249.0,25.0,30.0,0.0,0.0,47.0,93.0,0.0,132.0,215.0,194.0,123.0,165.0,134.0,250.0,33.0,241.0,64.0,195.0,181.0,123.0,72.0,50.0,235.0,178.0,225.0,165.0,40.0,245.0,30.0,154.0,0.0,249.0,116.0,30.0,0.0,0.0,39.0,171.0,241.0,236.0,61.0,0.0,240.0,51.0,237.0,215.0,176.0,249.0,28.0,141.0,0.0,55.0,163.0,76.0,69.0,210.0,177.0,209.0,250.0,155.0,47.0,206.0,213.0,0.0,0.0,31.0,184.0,195.0,143.0,91.0,62.0,29.0,230.0,42.0,44.0,241.0,30.0,49.0,27.0,222.0,210.0,142.0,79.0,77.0,227.0,137.0,241.0,250.0,131.0,55.0,45.0,214.0,76.0,98.0,106.0,81.0,47.0,80.0,0.0,216.0,119.0,73.0,181.0,204.0,71.0,237.0,41.0,28.0,37.0,59.0,0.0,240.0,48.0,103.0,145.0,210.0,241.0,248.0,124.0,72.0,200.0,182.0,177.0,247.0,241.0,242.0,96.0,51.0,131.0,169.0,230.0,212.0,27.0,37.0,66.0,52.0,123.0,189.0,226.0,141.0,190.0,174.0,72.0,127.0,60.0,25.0,170.0,204.0,155.0,29.0,50.0,113.0,250.0,204.0,146.0,43.0,198.0,38.0,167.0,56.0,111.0,37.0,106.0,143.0,24.0,144.0,222.0,40.0,77.0,27.0,247.0,244.0,133.0,0.0,109.0,87.0,58.0,236.0,209.0,27.0,237.0,103.0,0.0,0.0,239.0,199.0,0.0,150.0,0.0,216.0,29.0,32.0,95.0,0.0,245.0,171.0,204.0,47.0,237.0,87.0,56.0,72.0,98.0,256.0,250.0,226.0,92.0,26.0,248.0,0.0,128.0,215.0,0.0,27.0,0.0,158.0,0.0,59.0,239.0,0.0,0.0,144.0,233.0,56.0,223.0,27.0,104.0,78.0,0.0,87.0,57.0,228.0,188.0,194.0,186.0,95.0,245.0,119.0,117.0,29.0,239.0,103.0,0.0,97.0,250.0,32.0,90.0,51.0,0.0,109.0,182.0,169.0,235.0,136.0,0.0,0.0,231.0,0.0,44.0,123.0,92.0,103.0,0.0,55.0,0.0,70.0,59.0,60.0,235.0,117.0,198.0,37.0,162.0,102.0,112.0,168.0,31.0,194.0,138.0,79.0,69.0,144.0,130.0,0.0,33.0,43.0,242.0,115.0,27.0,132.0,126.0,25.0,244.0,247.0,112.0,0.0,213.0,0.0,0.0,45.0,28.0,261.0,77.0,0.0,73.0,38.0,208.0,160.0,0.0,0.0,242.0,140.0,250.0,71.0,114.0,31.0,203.0,68.0,0.0,214.0,265.0,259.0,102.0,0.0,121.0,109.0,66.0,240.0,44.0,56.0,179.0,215.0,132.0,242.0,0.0,42.0,180.0,54.0,30.0,230.0,207.0,125.0,27.0,32.0,236.0,57.0,25.0,29.0,165.0,250.0,33.0,67.0,179.0,168.0,70.0,183.0,25.0,183.0,232.0,227.0,67.0,121.0,126.0,87.0,133.0,225.0,183.0,163.0,126.0,193.0,73.0,163.0,160.0,52.0,249.0,61.0,213.0,102.0,233.0,215.0,66.0,0.0,0.0,177.0,209.0,34.0,249.0,81.0,0.0,208.0,105.0,36.0,132.0,171.0,218.0,100.0,97.0,118.0,45.0,249.0,0.0,80.0,227.0,193.0,101.0,25.0,109.0,82.0,29.0,28.0,250.0,155.0,36.0,225.0,184.0,232.0,247.0,190.0,0.0,26.0,78.0,102.0,201.0,38.0,67.0,27.0,45.0,38.0,248.0,206.0,248.0,35.0,0.0,130.0,121.0,24.0,96.0,0.0,96.0,106.0,26.0,53.0,140.0,242.0,247.0,246.0,211.0,50.0,70.0,250.0,98.0,83.0,250.0,220.0,0.0,40.0,156.0,106.0,81.0,0.0,0.0,200.0,231.0,0.0,45.0,154.0,231.0,136.0,246.0,38.0,0.0,0.0,58.0,82.0,250.0,0.0,195.0,247.0,164.0,27.0,230.0,133.0,112.0,0.0,75.0,25.0,75.0,231.0,109.0,1.0,28.0,160.0,160.0,201.0,0.0,106.0,235.0,245.0,49.0,0.0,39.0,246.0,98.0,197.0,102.0,29.0,0.0,241.0,87.0,99.0,27.0,51.0,247.0,83.0,250.0,116.0,98.0,92.0,209.0,250.0,247.0,0.0,0.0,158.0,207.0,50.0,200.0,128.0,0.0,60.0,38.0,0.0,154.0,50.0,134.0,111.0,184.0,78.0,237.0,163.0,137.0,143.0,27.0,103.0,0.0,33.0,212.0,240.0,209.0,250.0,74.0,0.0,37.0,31.0,68.0,242.0,27.0,0.0,90.0,67.0,38.0,25.0,153.0,31.0,165.0,221.0,32.0,0.0,52.0,233.0,117.0,108.0,95.0,47.0,244.0,146.0,43.0,0.0,27.0,0.0,91.0,122.0,61.0,228.0,0.0,0.0,222.0,71.0,233.0,0.0,249.0,164.0,137.0,37.0,30.0,88.0,0.0,27.0,222.0,0.0,134.0,27.0,106.0,73.0,32.0,30.0,221.0,131.0,0.0,241.0,185.0,220.0,71.0,58.0,65.0,107.0,250.0,32.0,236.0,60.0,27.0,0.0,57.0,171.0,250.0,54.0,78.0,58.0,75.0,148.0,187.0,50.0,29.0,0.0,49.0,226.0,219.0,43.0,37.0,79.0,119.0,242.0,153.0,0.0,67.0,235.0,38.0,92.0,171.0,29.0,62.0,234.0,247.0,0.0,74.0,159.0,188.0,0.0,25.0,228.0,80.0,0.0,244.0,142.0,242.0,155.0,30.0,231.0,249.0,237.0,0.0,0.0,90.0,208.0,130.0,233.0,59.0,214.0,45.0,25.0,74.0,54.0,0.0,77.0,245.0,232.0,153.0,71.0,249.0,117.0,0.0,175.0,56.0,41.0,70.0,177.0,0.0,126.0,116.0,0.0,229.0,0.0,168.0,143.0,163.0,111.0,7.0,87.0,80.0,30.0,237.0,86.0,166.0,134.0,82.0,241.0,27.0,228.0,43.0,0.0,0.0,10.0,0.0,41.0,80.0,22.0,48.0,228.0,148.0,249.0,250.0,112.0,191.0,249.0,76.0,0.0,250.0,48.0,49.0,168.0,132.0,209.0,244.0,210.0,52.0,244.0,28.0,0.0,0.0,82.0,0.0,212.0,0.0,32.0,55.0,223.0,37.0,248.0,249.0,74.0,250.0,31.0,140.0,27.0,164.0,49.0,60.0,245.0,238.0,93.0,0.0,246.0,160.0,249.0,117.0,68.0,140.0,193.0,250.0,159.0,0.0,57.0,33.0,129.0,240.0,209.0,0.0,112.0,46.0,86.0,30.0,29.0,239.0,217.0,242.0,191.0,27.0,99.0,30.0,65.0,25.0,94.0,111.0,55.0,86.0,94.0,211.0,243.0,0.0,222.0,191.0,0.0,153.0,250.0,58.0,165.0,249.0,114.0,76.0,185.0,134.0,43.0,243.0,0.0,113.0,0.0,0.0,167.0,0.0,86.0,259.0,0.0,240.0,0.0,156.0,140.0,73.0,33.0,27.0,250.0,208.0,110.0,0.0,55.0,172.0,0.0,81.0,25.0,53.0,31.0,0.0,184.0,0.0,234.0,250.0,95.0,158.0,241.0,76.0,160.0,80.0,223.0,77.0,238.0,139.0,131.0,224.0,232.0,52.0,162.0,42.0,25.0,161.0,150.0,249.0,51.0,215.0,135.0,157.0,161.0,34.0,231.0,0.0,250.0,27.0,40.0,31.0,64.0,107.0,83.0,238.0,111.0,244.0,41.0,137.0,98.0,72.0,0.0,49.0,155.0,27.0,152.0,110.0,133.0,94.0,60.0,11.0,65.0,27.0,72.0,50.0,225.0,198.0,53.0,106.0,61.0,245.0,248.0,245.0,61.0,247.0,188.0,131.0,236.0,140.0,84.0,81.0,23.0,63.0,46.0,0.0,0.0,210.0,0.0,116.0,212.0,33.0,127.0,0.0,32.0,44.0,45.0,28.0,201.0,54.0,46.0,91.0,127.0,182.0,34.0,250.0,129.0,42.0,146.0,76.0,0.0,29.0,62.0,87.0,47.0,34.0,54.0,246.0,34.0,144.0,204.0,201.0,124.0,250.0,121.0,224.0,0.0,220.0,60.0,224.0,191.0,172.0,123.0,52.0,25.0,171.0,0.0,46.0,102.0,222.0,217.0,130.0,239.0,245.0,65.0,67.0,28.0,226.0,0.0,0.0,221.0,30.0,103.0,166.0,26.0,87.0,241.0,249.0,215.0,101.0,28.0,245.0,136.0,244.0,38.0,209.0,205.0,75.0,0.0,0.0,245.0,0.0,87.0,218.0,226.0,118.0,44.0,246.0,25.0,0.0,51.0,76.0,250.0,193.0,0.0,125.0,39.0,240.0,0.0,155.0,49.0,101.0,210.0,236.0,54.0,137.0,74.0,60.0,39.0,158.0,245.0,225.0,56.0,0.0,25.0,46.0,203.0,149.0,36.0,0.0,0.0,52.0,0.0,84.0,63.0,79.0,215.0,229.0,0.0,218.0,48.0,45.0,88.0,250.0,61.0,117.0,0.0,222.0,77.0,243.0,39.0,250.0,0.0,55.0,26.0,54.0,0.0,0.0,218.0,41.0,236.0,56.0,225.0,0.0,117.0,215.0,115.0,218.0,227.0,110.0,217.0,56.0,235.0,214.0,59.0,186.0,231.0,149.0,37.0,57.0,247.0,71.0,250.0,250.0,28.0,151.0,0.0,27.0,76.0,57.0,43.0,106.0,33.0,242.0,164.0,211.0,29.0,237.0,104.0,247.0,46.0,47.0,25.0,247.0,96.0,163.0,36.0,250.0,0.0,58.0,49.0,81.0,45.0,147.0,105.0,37.0,54.0,157.0,61.0,87.0,225.0,80.0,0.0,138.0,237.0,58.0,28.0,0.0,171.0,0.0,113.0,80.0,0.0,0.0,52.0,226.0,25.0,40.0,24.0,231.0,110.0,237.0,219.0,75.0,216.0,0.0,33.0,231.0,85.0,151.0,25.0,77.0,49.0,45.0,106.0,43.0,92.0,151.0,0.0,0.0,237.0,27.0,37.0,139.0,49.0,107.0,83.0,29.0,231.0,144.0,141.0,0.0,199.0,48.0,60.0,26.0,78.0,233.0,54.0,165.0,159.0,25.0,250.0,179.0,0.0,84.0,36.0,198.0,26.0,34.0,62.0,110.0,188.0,60.0,33.0,80.0,120.0,114.0,135.0,221.0,134.0,250.0,91.0,244.0,33.0,117.0,65.0,155.0,69.0,250.0,49.0,220.0,222.0,136.0,27.0,29.0,45.0,98.0,38.0,180.0,141.0,86.0,26.0,245.0,28.0,0.0,0.0,91.0,226.0,127.0,0.0,131.0,41.0,247.0,134.0,245.0,0.0,221.0,227.0,25.0,0.0,102.0,35.0,224.0,249.0,113.0,181.0,0.0,150.0,230.0,250.0,0.0,39.0,178.0,50.0,37.0,44.0,128.0,183.0,192.0,94.0,74.0,92.0,68.0,244.0,50.0,28.0,37.0,0.0,0.0,27.0,35.0,197.0,50.0,120.0,152.0,162.0,250.0,75.0,153.0,0.0,241.0,0.0,26.0,238.0,195.0,76.0,159.0,61.0,250.0,137.0,243.0,221.0,72.0,27.0,38.0,143.0,0.0,51.0,129.0,132.0,36.0,0.0,132.0,45.0,113.0,121.0,24.0,60.0,56.0,48.0,26.0,25.0,223.0,164.0,167.0,184.0,98.0,0.0,238.0,61.0,137.0,103.0,62.0,137.0,236.0,242.0,245.0,77.0,127.0,108.0,37.0,78.0,63.0,29.0,242.0,114.0,87.0,90.0,146.0,117.0,111.0,176.0,0.0,36.0,232.0,76.0,30.0,248.0,0.0,105.0,0.0,169.0,41.0,215.0,246.0,29.0,139.0,41.0,180.0,218.0,0.0,0.0,249.0,0.0,28.0,212.0,141.0,116.0,27.0,246.0,26.0,157.0,60.0,133.0,250.0,0.0,29.0,189.0,113.0,0.0,43.0,0.0,83.0,246.0,0.0,27.0,58.0,238.0,0.0,42.0,132.0,54.0,124.0,242.0,0.0,244.0,227.0,245.0,197.0,247.0,43.0,69.0,229.0,242.0,72.0,0.0,69.0,232.0,206.0,34.0,137.0,68.0,67.0,62.0,38.0,163.0,46.0,64.0,28.0,243.0,49.0,105.0,260.0,151.0,240.0,216.0,139.0,154.0,0.0,137.0,97.0,195.0,157.0,223.0,248.0,0.0,97.0,82.0,0.0,225.0,114.0,136.0,57.0,26.0,68.0,36.0,231.0,121.0,187.0,238.0,66.0,54.0,89.0,113.0,26.0,157.0,38.0,97.0,72.0,73.0,108.0,37.0,0.0,75.0,248.0,240.0,165.0,206.0,0.0,155.0,144.0,135.0,114.0,225.0,0.0,31.0,115.0,51.0,53.0,32.0,208.0,143.0,91.0,61.0,216.0,248.0,100.0,66.0,31.0,31.0,235.0,244.0,224.0,28.0,73.0,59.0,25.0,111.0,64.0,0.0,206.0,136.0,103.0,0.0,0.0,0.0,244.0,121.0,206.0,0.0,51.0,189.0,43.0,79.0,48.0,0.0,250.0,0.0,0.0,71.0,214.0,207.0,49.0,249.0,75.0,206.0,0.0,245.0,0.0,80.0,42.0,25.0,64.0,31.0,154.0,106.0,229.0,191.0,57.0,221.0,130.0,161.0,245.0,84.0,0.0,241.0,37.0,123.0,227.0,0.0,29.0,177.0,0.0,250.0,29.0,81.0,247.0,87.0,54.0,243.0,50.0,71.0,229.0,68.0,216.0,32.0,74.0,106.0,0.0,0.0,48.0,42.0,237.0,243.0,237.0,0.0,217.0,242.0,0.0,246.0,144.0,0.0,0.0,0.0,129.0,151.0,0.0,182.0,86.0,166.0,35.0,100.0,224.0,0.0,125.0,181.0,29.0,61.0,80.0,236.0,90.0,88.0,97.0,241.0,225.0,159.0,128.0,41.0,117.0,33.0,105.0,237.0,26.0,250.0,238.0,242.0,199.0,84.0,33.0,179.0,27.0,42.0,47.0,193.0,142.0,0.0,25.0,84.0,68.0,40.0,93.0,74.0,87.0,236.0,249.0,162.0,88.0,0.0,157.0,0.0,128.0,92.0,61.0,44.0,225.0,0.0,0.0,134.0,45.0,234.0,117.0,0.0,41.0,73.0,243.0,30.0,30.0,230.0,132.0,26.0,186.0,133.0,201.0,42.0,197.0,91.0,205.0,118.0,184.0,203.0,169.0,238.0,232.0,206.0,51.0,27.0,165.0,0.0,147.0,88.0,231.0,207.0,250.0,69.0,0.0,0.0,242.0,44.0,105.0,244.0,0.0,116.0,47.0,203.0,85.0,216.0,240.0,60.0,132.0,41.0,140.0,227.0,219.0,224.0,205.0,104.0,0.0,26.0,32.0,188.0,54.0,32.0,187.0,248.0,0.0,236.0,78.0,0.0,233.0,26.0,34.0,120.0,245.0,182.0,37.0,61.0,33.0,62.0,164.0,77.0,0.0,27.0,0.0,0.0,77.0,126.0,30.0,188.0,30.0,66.0,110.0,194.0,91.0,243.0,161.0,112.0,182.0,250.0,116.0,101.0,41.0,204.0,98.0,15.0,194.0,140.0,241.0,80.0,0.0,250.0,215.0,101.0,250.0,94.0,108.0,94.0,0.0,64.0,39.0,250.0,64.0,26.0,74.0,203.0,231.0,236.0,222.0,75.0,156.0,0.0,60.0,198.0,133.0,213.0,0.0,147.0,46.0,0.0,232.0,0.0,184.0,249.0,43.0,31.0,197.0,159.0,129.0,37.0,115.0,141.0,199.0,46.0,41.0,0.0,65.0,83.0,30.0,89.0,245.0,0.0,239.0,0.0,26.0,79.0,104.0,259.0,0.0,250.0,80.0,27.0,244.0,38.0,0.0,44.0,0.0,108.0,250.0,107.0,203.0,43.0,250.0,202.0,0.0,157.0,203.0,34.0,63.0,34.0,0.0,125.0,72.0,37.0,237.0,132.0,50.0,70.0,48.0,0.0,128.0,30.0,249.0,59.0,37.0,88.0,0.0,211.0,189.0,64.0,102.0,242.0,0.0,234.0,142.0,173.0,73.0,49.0,163.0,235.0,40.0,249.0,247.0,0.0,30.0,31.0,237.0,245.0,25.0,230.0,206.0,250.0,206.0,143.0,43.0,130.0,35.0,0.0,182.0,250.0,48.0,232.0,235.0,91.0,47.0,250.0,122.0,49.0,27.0,33.0,104.0,151.0,26.0,33.0,0.0,0.0,0.0,59.0,99.0,111.0,0.0,132.0,250.0,187.0,137.0,233.0,0.0,207.0,250.0,0.0,0.0,125.0,27.0,0.0,0.0,164.0,170.0,92.0,215.0,37.0,63.0,32.0,107.0,157.0,69.0,0.0,65.0,107.0,40.0,60.0,92.0,56.0,0.0,98.0,0.0,195.0,27.0,41.0,44.0,163.0,247.0,200.0,0.0,0.0,241.0,172.0,0.0,120.0,165.0,35.0,0.0,160.0,104.0,135.0,32.0,177.0,98.0,154.0,250.0,205.0,106.0,143.0,245.0,116.0,243.0,227.0,250.0,186.0,80.0,48.0,160.0,102.0,25.0,162.0,216.0,33.0,114.0,103.0,243.0,119.0,230.0,159.0,29.0,113.0,36.0,26.0,214.0,236.0,63.0,183.0,249.0,167.0,45.0,47.0,30.0,80.0,79.0,74.0,39.0,243.0,48.0,31.0,40.0,196.0,68.0,84.0,44.0,0.0,151.0,123.0,0.0,193.0,29.0,249.0,71.0,210.0,33.0,134.0,0.0,247.0,220.0,223.0,185.0,89.0,131.0,36.0,184.0,45.0,103.0,210.0,250.0,38.0,43.0,0.0,237.0,228.0,225.0,0.0,214.0,242.0,249.0,106.0,247.0,62.0,244.0,0.0,102.0,78.0,78.0,207.0,174.0,216.0,28.0,201.0,52.0,68.0,244.0,210.0,57.0,197.0,233.0,106.0,244.0,95.0,106.0,119.0,81.0,137.0,48.0,118.0,186.0,210.0,63.0,52.0,173.0,34.0,101.0,25.0,236.0,182.0,112.0,107.0,250.0,225.0,199.0,57.0,26.0,0.0,0.0,222.0,0.0,143.0,223.0,138.0,0.0,97.0,25.0,0.0,243.0,125.0,143.0,73.0,0.0,240.0,225.0,53.0,0.0,0.0,185.0,32.0,243.0,51.0,102.0,179.0,147.0,87.0,249.0,240.0,27.0,0.0,8.0,67.0,118.0,197.0,0.0,248.0,120.0,246.0,102.0,27.0,0.0,88.0,67.0,77.0,77.0,245.0,66.0,241.0,0.0,0.0,194.0,33.0,250.0,87.0,248.0,70.0,48.0,117.0,0.0,215.0,54.0,236.0,92.0,288.0,46.0,32.0,26.0,106.0,124.0,0.0,65.0,198.0,25.0,250.0,42.0,66.0,247.0,161.0,94.0,0.0,25.0,52.0,63.0,149.0,176.0,0.0,250.0,62.0,56.0,250.0,166.0,0.0,59.0,209.0,248.0,249.0,82.0,202.0,120.0,0.0,133.0,48.0,223.0,128.0,242.0,58.0,0.0,73.0,41.0,226.0,248.0,164.0,250.0,50.0,0.0,48.0,207.0,49.0,244.0,83.0,0.0,156.0,80.0,92.0,52.0,0.0,158.0,250.0,0.0,0.0,26.0,56.0,25.0,65.0,79.0,232.0,90.0,40.0,0.0,248.0,83.0,221.0,227.0,111.0,159.0,0.0,53.0,234.0,0.0,26.0,0.0,241.0,200.0,250.0,88.0,166.0,79.0,0.0,0.0,26.0,141.0,157.0,176.0,82.0,74.0,248.0,62.0,246.0,133.0,26.0,35.0,150.0,185.0,55.0,0.0,88.0,244.0,50.0,130.0,128.0,33.0,34.0,74.0,219.0,164.0,36.0,109.0,25.0,250.0,0.0,238.0,56.0,276.0,187.0,31.0,249.0,250.0,101.0,250.0,26.0,26.0,247.0,192.0,229.0,0.0,247.0,0.0,0.0,246.0,248.0,48.0,129.0,0.0,28.0,243.0,88.0,92.0,97.0,91.0,95.0,68.0,158.0,60.0,0.0,53.0,137.0,250.0,25.0,70.0,224.0,250.0,132.0,244.0,147.0,239.0,50.0,31.0,176.0,228.0,133.0,0.0,58.0,0.0,39.0,0.0,140.0,0.0,249.0,107.0,56.0,159.0,215.0,161.0,0.0,244.0,250.0,192.0,249.0,47.0,28.0,165.0,250.0,220.0,33.0,60.0,152.0,244.0,248.0,72.0,30.0,27.0,0.0,248.0,178.0,41.0,40.0,239.0,128.0,60.0,28.0,0.0,25.0,87.0,72.0,118.0,160.0,47.0,145.0,94.0,99.0,45.0,34.0,0.0,49.0,57.0,39.0,207.0,57.0,162.0,195.0,197.0,83.0,0.0,24.0,0.0,35.0,108.0,102.0,135.0,34.0,146.0,121.0,45.0,0.0,20.0,33.0,151.0,199.0,25.0,240.0,41.0,94.0,91.0,50.0,226.0,244.0,89.0,103.0,195.0,250.0,89.0,188.0,75.0,216.0,0.0,123.0,184.0,85.0,34.0,25.0,232.0,136.0,59.0,26.0,105.0,29.0,25.0,144.0,0.0,52.0,26.0,47.0,164.0,232.0,113.0,145.0,0.0,0.0,97.0,0.0,211.0,95.0,48.0,32.0,116.0,41.0,156.0,189.0,110.0,0.0,244.0,170.0,137.0,47.0,116.0,0.0,244.0,230.0,113.0,148.0,74.0,26.0,30.0,146.0,42.0,38.0,233.0,134.0,0.0,238.0,119.0,42.0,150.0,213.0,29.0,44.0,72.0,104.0,10.0,229.0,25.0,115.0,100.0,148.0,150.0,0.0,25.0,115.0,57.0,45.0,145.0,0.0,185.0,124.0,229.0,126.0,240.0,117.0,160.0,30.0,147.0,0.0,249.0,175.0,216.0,156.0,74.0,99.0,93.0,72.0,44.0,250.0,165.0,87.0,44.0,0.0,77.0,180.0,200.0,114.0,0.0,26.0,107.0,159.0,0.0,176.0,41.0,41.0,183.0,50.0,0.0,0.0,244.0,104.0,61.0,128.0,0.0,153.0,76.0,178.0,0.0,67.0,123.0,26.0,108.0,231.0,122.0,88.0,50.0,250.0,145.0,0.0,75.0,27.0,47.0,27.0,131.0,78.0,0.0,156.0,80.0,41.0,112.0,175.0,181.0,99.0,79.0,250.0,134.0,69.0,29.0,79.0,138.0,37.0,250.0,29.0,0.0,250.0,29.0,0.0,157.0,146.0,25.0,101.0,169.0,0.0,90.0,164.0,162.0,45.0,79.0,190.0,0.0,141.0,68.0,27.0,0.0,53.0,158.0,81.0,0.0,0.0,0.0,219.0,0.0,0.0,73.0,234.0,132.0,63.0,176.0,237.0,56.0,99.0,173.0,67.0,247.0,0.0,0.0,0.0,131.0,41.0,84.0,244.0,131.0,203.0,162.0,241.0,31.0,207.0,67.0,86.0,140.0,211.0,168.0,12.0,164.0,0.0,107.0,27.0,125.0,244.0,149.0,66.0,35.0,0.0,225.0,76.0,56.0,140.0,235.0,96.0,159.0,250.0,111.0,93.0,25.0,242.0,121.0,158.0,81.0,160.0,44.0,35.0,40.0,42.0,240.0,25.0,54.0,249.0,74.0,245.0,221.0,70.0,47.0,244.0,50.0,249.0,171.0,43.0,138.0,38.0,0.0,192.0,64.0,73.0,146.0,71.0,245.0,114.0,235.0,37.0,37.0,32.0,0.0,213.0,169.0,30.0,155.0,74.0,86.0,128.0,71.0,28.0,220.0,250.0,120.0,85.0,234.0,201.0,159.0,250.0,93.0,250.0,202.0,0.0,223.0,122.0,45.0,0.0,166.0,249.0,134.0,129.0,141.0,45.0,24.0,164.0,26.0,57.0,28.0,160.0,169.0,177.0,0.0,225.0,44.0,158.0,107.0,249.0,87.0,0.0,227.0,128.0,172.0,250.0,72.0,108.0,203.0,25.0,115.0,234.0,32.0,38.0,0.0,73.0,27.0,153.0,29.0,162.0,88.0,0.0,67.0,244.0,38.0,136.0,33.0,81.0,185.0,41.0,62.0,98.0,35.0,232.0,72.0,66.0,65.0,0.0,244.0,214.0,211.0,0.0,28.0,64.0,143.0,84.0,71.0,250.0,67.0,247.0,244.0,102.0,156.0,30.0,133.0,33.0,242.0,25.0,177.0,228.0,21.0,242.0,0.0,154.0,37.0,51.0,82.0,37.0,136.0,35.0,242.0,41.0,233.0,153.0,32.0,186.0,60.0,29.0,203.0,26.0,221.0,187.0,0.0,61.0,111.0,101.0,0.0,103.0,25.0,72.0,246.0,23.0,43.0,81.0,159.0,193.0,105.0,67.0,65.0,250.0,116.0,69.0,90.0,233.0,25.0,169.0,0.0,28.0,192.0,52.0,43.0,250.0,26.0,43.0,45.0,33.0,132.0,35.0,32.0,245.0,163.0,179.0,0.0,67.0,250.0,120.0,110.0,32.0,112.0,112.0,250.0,0.0,233.0,33.0,0.0,25.0,40.0,29.0,64.0,62.0,32.0,160.0,124.0,112.0,0.0,0.0,0.0,178.0,34.0,227.0,110.0,0.0,128.0,130.0,198.0,236.0,33.0,249.0,134.0,244.0,144.0,119.0,179.0,89.0,76.0,228.0,45.0,62.0,26.0,78.0,64.0,0.0,130.0,163.0,32.0,235.0,120.0,43.0,170.0,242.0,0.0,0.0,83.0,58.0,245.0,250.0,48.0,26.0,214.0,242.0,160.0,214.0,50.0,231.0,146.0,237.0,42.0,83.0,52.0,25.0,51.0,41.0,25.0,87.0,240.0,142.0,90.0,0.0,42.0,40.0,117.0,69.0,229.0,181.0,148.0,180.0,205.0,0.0,248.0,201.0,52.0,135.0,56.0,153.0,121.0,75.0,246.0,232.0,37.0,47.0,37.0,196.0,248.0,45.0,0.0,255.0,113.0,201.0,135.0,152.0,67.0,122.0,115.0,110.0,52.0,78.0,127.0,99.0,248.0,162.0,201.0,0.0,99.0,85.0,35.0,90.0,218.0,64.0,78.0,202.0,0.0,71.0,242.0,241.0,38.0,38.0,224.0,151.0,66.0,250.0,249.0,250.0,34.0,216.0,25.0,159.0,0.0,238.0,0.0,103.0,96.0,27.0,27.0,106.0,211.0,0.0,76.0,0.0,246.0,34.0,85.0,66.0,42.0,250.0,246.0,243.0,220.0,145.0,0.0,28.0,41.0,132.0,250.0,35.0,137.0,94.0,70.0,103.0,245.0,94.0,221.0,159.0,101.0,174.0,119.0,161.0,222.0,210.0,118.0,26.0,83.0,165.0,65.0,97.0,65.0,114.0,227.0,250.0,114.0,0.0,176.0,71.0,131.0,231.0,60.0,250.0,0.0,112.0,239.0,164.0,117.0,114.0,76.0,250.0,79.0,180.0,96.0,222.0,49.0,0.0,33.0,154.0,27.0,176.0,152.0,0.0,176.0,52.0,101.0,234.0,31.0,128.0,130.0,0.0,167.0,82.0,159.0,156.0,147.0,219.0,236.0,195.0,239.0,212.0,149.0,46.0,250.0,37.0,202.0,99.0,215.0,45.0,243.0,249.0,247.0,188.0,40.0,72.0,70.0,243.0,34.0,25.0,36.0,33.0,153.0,0.0,111.0,30.0,102.0,143.0,130.0,101.0,71.0,54.0,248.0,118.0,210.0,25.0,174.0,79.0,98.0,0.0,30.0,46.0,99.0,42.0,229.0,123.0,227.0,190.0,234.0,143.0,53.0,216.0,249.0,158.0,89.0,115.0,243.0,62.0,104.0,206.0,72.0,50.0,64.0,59.0,191.0,218.0,39.0,0.0,0.0,26.0,127.0,32.0,0.0,37.0,41.0,239.0,133.0,109.0,186.0,0.0,44.0,111.0,0.0,208.0,239.0,168.0,0.0,40.0,27.0,81.0,171.0,164.0,63.0,111.0,0.0,102.0,25.0,2.0,0.0,192.0,92.0,33.0,199.0,249.0,168.0,0.0,239.0,250.0,145.0,92.0,32.0,81.0,39.0,76.0,23.0,214.0,60.0,0.0,61.0,0.0,188.0,245.0,0.0,42.0,0.0,0.0,32.0,43.0,33.0,47.0,118.0,0.0,25.0,29.0,227.0,149.0,193.0,45.0,38.0,111.0,33.0,248.0,75.0,73.0,241.0,121.0,154.0,227.0,166.0,67.0,92.0,35.0,233.0,107.0,228.0,221.0,149.0,258.0,125.0,127.0,195.0,199.0,58.0,209.0,300.0,225.0,115.0,0.0,72.0,250.0,91.0,249.0,166.0,117.0,34.0,146.0,250.0,113.0,132.0,130.0,203.0,193.0,47.0,248.0,250.0,0.0,0.0,249.0,114.0,0.0,152.0,0.0,0.0,235.0,161.0,136.0,250.0,249.0,250.0,230.0,246.0,27.0,250.0,83.0,142.0,201.0,195.0,135.0,89.0,72.0,41.0,52.0,43.0,125.0,112.0,37.0,111.0,201.0,141.0,244.0,0.0,229.0,238.0,152.0,189.0,250.0,27.0,250.0,177.0,76.0,122.0,116.0,237.0,0.0,86.0,0.0,143.0,250.0,85.0,216.0,28.0,124.0,62.0,248.0,79.0,102.0,250.0,250.0,112.0,95.0,54.0,194.0,0.0,238.0,76.0,100.0,30.0,46.0,28.0,238.0,25.0,228.0,141.0,137.0,35.0,0.0,43.0,247.0,240.0,25.0,239.0,0.0,82.0,115.0,0.0,230.0,27.0,0.0,220.0,191.0,92.0,119.0,25.0,130.0,247.0,237.0,147.0,0.0,46.0,125.0,58.0,205.0,45.0,247.0,158.0,237.0,105.0,0.0,38.0,238.0,0.0,102.0,27.0,62.0,214.0,250.0,40.0,247.0,0.0,179.0,0.0,50.0,61.0,165.0,103.0,70.0,96.0,25.0,35.0,211.0,56.0,104.0,171.0,81.0,49.0,44.0,250.0,224.0,158.0,180.0,53.0,217.0,46.0,42.0,180.0,160.0,0.0,50.0,34.0,0.0,72.0,208.0,142.0,206.0,124.0,26.0,139.0,93.0,108.0,226.0,156.0,62.0,121.0,0.0,106.0,244.0,0.0,70.0,44.0,33.0,124.0,104.0,50.0,44.0,137.0,0.0,0.0,249.0,174.0,120.0,76.0,247.0,0.0,29.0,103.0,0.0,178.0,57.0,65.0,218.0,0.0,142.0,50.0,27.0,135.0,84.0,120.0,90.0,78.0,43.0,231.0,249.0,29.0,247.0,0.0,249.0,164.0,194.0,100.0,64.0,213.0,113.0,52.0,62.0,27.0,202.0,68.0,218.0,164.0,144.0,185.0,162.0,216.0,126.0,161.0,66.0,54.0,91.0,248.0,119.0,181.0,80.0,68.0,112.0,60.0,245.0,222.0,46.0,112.0,34.0,58.0,31.0,32.0,124.0,0.0,176.0,25.0,0.0,0.0,49.0,0.0,148.0,248.0,0.0,159.0,32.0,60.0,146.0,247.0,25.0,47.0,155.0,38.0,245.0,249.0,0.0,249.0,247.0,243.0,28.0,108.0,43.0,74.0,219.0,60.0,51.0,175.0,100.0,54.0,84.0,28.0,81.0,92.0,28.0,248.0,50.0,0.0,51.0,231.0,50.0,111.0,189.0,70.0,117.0,87.0,143.0,215.0,226.0,63.0,243.0,51.0,63.0,234.0,146.0,245.0,244.0,0.0,240.0,57.0,134.0,45.0,70.0,10.0,168.0,91.0,102.0,50.0,99.0,174.0,30.0,132.0,0.0,242.0,66.0,0.0,223.0,224.0,245.0,0.0,77.0,249.0,0.0,147.0,71.0,240.0,57.0,250.0,250.0,48.0,141.0,27.0,217.0,86.0,0.0,225.0,233.0,25.0,120.0,110.0,160.0,116.0,0.0,84.0,135.0,225.0,0.0,99.0,0.0,54.0,250.0,185.0,59.0,238.0,29.0,0.0,187.0,78.0,40.0,62.0,112.0,33.0,197.0,243.0,116.0,137.0,102.0,234.0,76.0,216.0,231.0,245.0,71.0,69.0,148.0,85.0,225.0,33.0,176.0,246.0,0.0,137.0,119.0,143.0,230.0,147.0,199.0,40.0,72.0,248.0,129.0,55.0,71.0,133.0,235.0,172.0,82.0,86.0,41.0,140.0,30.0,55.0,73.0,28.0,247.0,130.0,201.0,133.0,0.0,187.0,0.0,76.0,50.0,0.0,40.0,41.0,259.0,248.0,30.0,0.0,144.0,211.0,35.0,56.0,89.0,155.0,76.0,82.0,0.0,26.0,247.0,240.0,91.0,127.0,249.0,27.0,26.0,195.0,39.0,44.0,188.0,227.0,116.0,83.0,223.0,0.0,230.0,79.0,44.0,125.0,249.0,76.0,84.0,0.0,76.0,54.0,91.0,25.0,241.0,62.0,80.0,210.0,29.0,0.0,216.0,31.0,154.0,215.0,28.0,158.0,250.0,152.0,166.0,27.0,218.0,110.0,0.0,184.0,80.0,111.0,66.0,99.0,108.0,37.0,85.0,101.0,123.0,187.0,77.0,79.0,26.0,139.0,97.0,157.0,242.0,0.0,93.0,64.0,37.0,0.0,0.0,32.0,144.0,31.0,28.0,247.0,39.0,209.0,27.0,71.0,76.0,234.0,51.0,250.0,76.0,83.0,246.0,119.0,245.0,248.0,228.0,91.0,80.0,248.0,135.0,232.0,236.0,241.0,33.0,196.0,49.0,0.0,145.0,25.0,182.0,125.0,0.0,133.0,59.0,163.0,112.0,0.0,60.0,52.0,82.0,0.0,217.0,81.0,250.0,26.0,179.0,130.0,181.0,124.0,188.0,189.0,46.0,45.0,48.0,234.0,139.0,37.0,0.0,84.0,0.0,36.0,48.0,65.0,197.0,138.0,41.0,29.0,108.0,169.0,128.0,0.0,106.0,160.0,0.0,29.0,163.0,33.0,52.0,78.0,78.0,148.0,175.0,250.0,78.0,181.0,233.0,44.0,74.0,55.0,183.0,239.0,135.0,225.0,69.0,249.0,25.0,150.0,25.0,0.0,63.0,189.0,108.0,151.0,46.0,82.0,47.0,30.0,190.0,93.0,32.0,250.0,166.0,99.0,107.0,0.0,242.0,184.0,48.0,28.0,127.0,44.0,0.0,250.0,209.0,0.0,93.0,172.0,220.0,243.0,62.0,250.0,90.0,209.0,66.0,167.0,96.0,143.0,44.0,250.0,33.0,0.0,143.0,92.0,59.0,116.0,47.0,201.0,249.0,31.0,0.0,85.0,72.0,109.0,111.0,200.0,0.0,26.0,247.0,229.0,173.0,0.0,95.0,66.0,105.0,76.0,241.0,187.0,0.0,0.0,116.0,0.0,71.0,0.0,112.0,54.0,188.0,80.0,81.0,247.0,35.0,240.0,108.0,233.0,165.0,111.0,83.0,53.0,54.0,210.0,84.0,117.0,165.0,85.0,115.0,45.0,250.0,0.0,193.0,27.0,0.0,177.0,0.0,26.0,49.0,132.0,101.0,0.0,82.0,235.0,43.0,30.0,84.0,43.0,80.0,92.0,107.0,24.0,161.0,0.0,234.0,103.0,236.0,25.0,156.0,225.0,149.0,0.0,0.0,144.0,81.0,132.0,41.0,36.0,89.0,245.0,75.0,118.0,209.0,216.0,29.0,66.0,54.0,0.0,85.0,80.0,200.0,128.0,55.0,174.0,197.0,221.0,35.0,50.0,198.0,115.0,238.0,136.0,239.0,32.0,31.0,237.0,0.0,0.0,52.0,236.0,242.0,149.0,29.0,135.0,40.0,112.0,238.0,208.0,58.0,44.0,206.0,0.0,75.0,209.0,244.0,53.0,0.0,44.0,203.0,49.0,63.0,222.0,181.0,244.0,34.0,0.0,99.0,136.0,123.0,0.0,174.0,120.0,244.0,0.0,156.0,0.0,143.0,51.0,105.0,130.0,194.0,0.0,44.0,28.0,40.0,128.0,92.0,248.0,109.0,94.0,56.0,0.0,168.0,248.0,250.0,0.0,108.0,0.0,250.0,67.0,42.0,89.0,0.0,115.0,51.0,26.0,25.0,187.0,93.0,228.0,40.0,0.0,150.0,93.0,40.0,51.0,132.0,101.0,27.0,235.0,238.0,111.0,121.0,154.0,143.0,53.0,60.0,80.0,109.0,250.0,26.0,63.0,75.0,108.0,35.0,0.0,0.0,246.0,0.0,166.0,195.0,112.0,62.0,30.0,248.0,197.0,29.0,32.0,212.0,221.0,231.0,183.0,91.0,244.0,0.0,252.0,46.0,243.0,91.0,49.0,167.0,0.0,0.0,0.0,37.0,222.0,248.0,49.0,0.0,190.0,98.0,106.0,172.0,42.0,0.0,0.0,133.0,76.0,86.0,196.0,37.0,31.0,113.0,44.0,133.0,40.0,208.0,159.0,0.0,33.0,242.0,34.0,0.0,250.0,47.0,248.0,0.0,0.0,214.0,36.0,0.0,145.0,0.0,43.0,233.0,0.0,117.0,187.0,190.0,158.0,92.0,39.0,71.0,81.0,116.0,38.0,164.0,246.0,0.0,59.0,105.0,247.0,48.0,99.0,103.0,245.0,214.0,137.0,123.0,57.0,124.0,250.0,25.0,73.0,116.0,107.0,193.0,184.0,28.0,0.0,250.0,221.0,109.0,25.0,25.0,230.0,229.0,0.0,211.0,131.0,36.0,233.0,62.0,0.0,0.0,151.0,30.0,250.0,221.0,92.0,84.0,117.0,112.0,54.0,154.0,174.0,91.0,0.0,78.0,123.0,250.0,246.0,129.0,237.0,26.0,75.0,250.0,94.0,38.0,146.0,247.0,28.0,68.0,25.0,195.0,76.0,29.0,201.0,233.0,256.0,78.0,228.0,31.0,0.0,56.0,160.0,99.0,245.0,85.0,95.0,236.0,54.0,245.0,0.0,78.0,204.0,186.0,198.0,247.0,68.0,0.0,176.0,79.0,184.0,77.0,225.0,250.0,49.0,186.0,231.0,249.0,236.0,85.0,86.0,180.0,169.0,51.0,72.0,0.0,99.0,171.0,136.0,68.0,153.0,112.0,191.0,175.0,49.0,35.0,33.0,147.0,163.0,63.0,149.0,42.0,245.0,88.0,104.0,144.0,107.0,102.0,163.0,133.0,194.0,220.0,237.0,39.0,165.0,0.0,0.0,135.0,176.0,56.0,0.0,197.0,104.0,0.0,250.0,250.0,87.0,242.0,157.0,58.0,2.0,30.0,104.0,53.0,42.0,178.0,0.0,103.0,25.0,250.0,24.0,231.0,54.0,186.0,236.0,37.0,227.0,54.0,97.0,36.0,79.0,240.0,31.0,40.0,48.0,193.0,202.0,194.0,48.0,115.0,250.0,205.0,102.0,0.0,205.0,244.0,89.0,234.0,0.0,55.0,0.0,235.0,74.0,0.0,250.0,196.0,236.0,85.0,32.0,250.0,243.0,232.0,25.0,106.0,0.0,65.0,215.0,0.0,229.0,27.0,39.0,0.0,247.0,121.0,134.0,48.0,250.0,250.0,242.0,0.0,172.0,107.0,90.0,250.0,91.0,184.0,169.0,0.0,88.0,237.0,84.0,144.0,27.0,72.0,44.0,0.0,211.0,213.0,250.0,73.0,105.0,176.0,98.0,216.0,224.0,106.0,230.0,29.0,0.0,84.0,31.0,218.0,248.0,55.0,116.0,212.0,38.0,0.0,51.0,112.0,87.0,160.0,202.0,141.0,0.0,52.0,26.0,201.0,110.0,248.0,170.0,33.0,218.0,136.0,116.0,0.0,76.0,26.0,170.0,139.0,238.0,217.0,0.0,30.0,81.0,104.0,227.0,212.0,0.0,92.0,153.0,144.0,237.0,250.0,82.0,71.0,0.0,249.0,236.0,0.0,95.0,0.0,29.0,72.0,59.0,39.0,62.0,70.0,154.0,228.0,77.0,154.0,53.0,164.0,90.0,0.0,78.0,259.0,139.0,102.0,244.0,136.0,119.0,109.0,200.0,48.0,11.0,120.0,139.0,30.0,28.0,30.0,248.0,0.0,122.0,199.0,0.0,189.0,249.0,248.0,26.0,213.0,101.0,110.0,0.0,240.0,176.0,246.0,74.0,37.0,52.0,160.0,25.0,119.0,211.0,39.0,55.0,246.0,221.0,36.0,188.0,0.0,42.0,0.0,71.0,248.0,47.0,0.0,71.0,240.0,31.0,145.0,109.0,72.0,245.0,121.0,248.0,0.0,54.0,30.0,0.0,215.0,144.0,69.0,214.0,232.0,117.0,0.0,219.0,39.0,61.0,114.0,69.0,139.0,0.0,52.0,28.0,0.0,223.0,102.0,236.0,182.0,89.0,164.0,55.0,148.0,248.0,41.0,250.0,144.0,250.0,39.0,132.0,0.0,137.0,34.0,82.0,204.0,106.0,0.0,249.0,250.0,196.0,30.0,36.0,29.0,172.0,53.0,159.0,191.0,247.0,82.0,0.0,200.0,214.0,38.0,87.0,226.0,149.0,55.0,237.0,68.0,78.0,77.0,148.0,30.0,108.0,76.0,75.0,186.0,39.0,0.0,249.0,117.0,82.0,139.0,193.0,86.0,244.0,173.0,84.0,214.0,41.0,0.0,72.0,183.0,74.0,129.0,0.0,54.0,103.0,127.0,42.0,67.0,232.0,249.0,37.0,61.0,56.0,47.0,250.0,55.0,248.0,55.0,27.0,85.0,47.0,155.0,145.0,83.0,222.0,250.0,164.0,223.0,113.0,118.0,27.0,124.0,216.0,0.0,250.0,148.0,0.0,250.0,207.0,250.0,47.0,45.0,237.0,230.0,25.0,50.0,144.0,187.0,32.0,8.0,193.0,0.0,36.0,138.0,183.0,104.0,166.0,124.0,44.0,243.0,119.0,0.0,0.0,249.0,49.0,40.0,228.0,37.0,194.0,27.0,47.0,117.0,36.0,175.0,99.0,32.0,31.0,176.0,250.0,33.0,207.0,110.0,0.0,34.0,260.0,248.0,89.0,32.0,139.0,145.0,0.0,107.0,55.0,32.0,236.0,51.0,96.0,224.0,0.0,0.0,154.0,55.0,250.0,0.0,102.0,25.0,0.0,71.0,122.0,44.0,118.0,168.0,191.0,180.0,35.0,25.0,233.0,238.0,131.0,25.0,0.0,113.0,0.0,228.0,208.0,151.0,185.0,109.0,142.0,117.0,30.0,79.0,27.0,136.0,114.0,216.0,185.0,190.0,224.0,41.0,30.0,156.0,221.0,112.0,110.0,250.0,0.0,89.0,104.0,103.0,0.0,0.0,244.0,102.0,244.0,245.0,122.0,68.0,127.0,65.0,221.0,181.0,241.0,142.0,241.0,74.0,228.0,154.0,228.0,91.0,69.0,81.0,244.0,81.0,42.0,38.0,29.0,42.0,140.0,99.0,27.0,0.0,100.0,248.0,190.0,193.0,250.0,0.0,82.0,139.0,49.0,130.0,26.0,246.0,32.0,63.0,85.0,249.0,173.0,64.0,213.0,47.0,57.0,66.0,248.0,216.0,105.0,59.0,169.0,28.0,141.0,158.0,26.0,0.0,239.0,61.0,170.0,80.0,189.0,49.0,235.0,115.0,36.0,152.0,80.0,110.0,159.0,248.0,30.0,249.0,166.0,174.0,250.0,28.0,0.0,244.0,36.0,0.0,165.0,148.0,234.0,26.0,0.0,27.0,157.0,143.0,249.0,250.0,47.0,218.0,119.0,28.0,224.0,0.0,174.0,173.0,39.0,250.0,124.0,198.0,82.0,70.0,43.0,89.0,59.0,210.0,0.0,126.0,121.0,74.0,124.0,223.0,169.0,73.0,56.0,250.0,113.0,185.0,33.0,148.0,244.0,188.0,27.0,111.0,142.0,249.0,32.0,126.0,237.0,58.0,168.0,25.0,66.0,46.0,76.0,236.0,48.0,106.0,85.0,54.0,46.0,0.0,246.0,0.0,142.0,212.0,45.0,0.0,38.0,38.0,63.0,239.0,62.0,0.0,235.0,2.0,0.0,147.0,0.0,169.0,62.0,28.0,212.0,30.0,0.0,162.0,98.0,200.0,25.0,0.0,112.0,231.0,250.0,183.0,171.0,40.0,235.0,106.0,91.0,162.0,158.0,76.0,236.0,73.0,155.0,44.0,207.0,58.0,0.0,148.0,30.0,236.0,0.0,115.0,72.0,59.0,239.0,65.0,75.0,56.0,248.0,36.0,43.0,43.0,243.0,136.0,81.0,28.0,167.0,198.0,55.0,158.0,95.0,85.0,70.0,0.0,115.0,210.0,212.0,219.0,190.0,37.0,84.0,39.0,173.0,157.0,235.0,218.0,196.0,47.0,124.0,250.0,149.0,199.0,156.0,0.0,112.0,151.0,114.0,102.0,85.0,119.0,239.0,240.0,43.0,25.0,34.0,36.0,51.0,0.0,159.0,45.0,41.0,44.0,180.0,0.0,64.0,129.0,67.0,209.0,47.0,79.0,44.0,148.0,61.0,250.0,191.0,202.0,26.0,230.0,42.0,63.0,0.0,237.0,126.0,250.0,50.0,32.0,179.0,29.0,0.0,25.0,0.0,25.0,25.0,250.0,40.0,107.0,247.0,0.0,106.0,135.0,35.0,241.0,124.0,93.0,0.0,225.0,237.0,52.0,41.0,170.0,61.0,79.0,143.0,82.0,58.0,184.0,85.0,0.0,29.0,251.0,134.0,64.0,43.0,94.0,247.0,247.0,39.0,45.0,157.0,122.0,115.0,240.0,248.0,249.0,241.0,249.0,102.0,72.0,250.0,41.0,0.0,142.0,273.0,56.0,52.0,0.0,174.0,239.0,55.0,192.0,63.0,196.0,43.0,80.0,42.0,216.0,41.0,0.0,77.0,188.0,59.0,48.0,105.0,199.0,222.0,250.0,243.0,245.0,157.0,31.0,0.0,69.0,84.0,53.0,239.0,46.0,136.0,114.0,246.0,73.0,87.0,183.0,246.0,240.0,166.0,91.0,250.0,245.0,222.0,78.0,249.0,250.0,45.0,68.0,29.0,186.0,143.0,248.0,245.0,40.0,0.0,91.0,180.0,114.0,26.0,36.0,35.0,40.0,32.0,83.0,241.0,0.0,216.0,230.0,110.0,247.0,29.0,250.0,230.0,120.0,109.0,136.0,124.0,0.0,48.0,193.0,226.0,74.0,132.0,50.0,125.0,99.0,250.0,244.0,36.0,166.0,244.0,0.0,119.0,222.0,65.0,131.0,165.0,248.0,41.0,65.0,105.0,42.0,234.0,43.0,250.0,55.0,123.0,49.0,250.0,114.0,127.0,135.0,212.0,160.0,261.0,119.0,247.0,163.0,112.0,0.0,0.0,175.0,250.0,112.0,66.0,247.0,231.0,31.0,0.0,92.0,172.0,27.0,86.0,0.0,243.0,250.0,0.0,247.0,117.0,231.0,57.0,216.0,24.0,250.0,215.0,120.0,28.0,136.0,163.0,215.0,134.0,250.0,83.0,83.0,74.0,45.0,249.0,29.0,249.0,143.0,119.0,65.0,250.0,0.0,27.0,128.0,266.0,0.0,112.0,142.0,0.0,158.0,225.0,73.0,55.0,28.0,50.0,75.0,88.0,0.0,238.0,29.0,230.0,48.0,0.0,219.0,250.0,123.0,109.0,0.0,53.0,213.0,0.0,52.0,7.0,31.0,201.0,54.0,218.0,44.0,211.0,192.0,25.0,149.0,58.0,117.0,157.0,40.0,250.0,150.0,131.0,0.0,0.0,56.0,119.0,211.0,205.0,58.0,52.0,26.0,0.0,102.0,243.0,178.0,248.0,72.0,94.0,143.0,125.0,40.0,53.0,209.0,216.0,154.0,231.0,221.0,78.0,163.0,239.0,0.0,247.0,72.0,178.0,30.0,33.0,81.0,161.0,72.0,250.0,25.0,79.0,111.0,200.0,244.0,0.0,163.0,41.0,164.0,108.0,0.0,58.0,30.0,247.0,242.0,33.0,0.0,52.0,0.0,110.0,250.0,250.0,242.0,194.0,115.0,0.0,224.0,35.0,249.0,237.0,131.0,230.0,172.0,163.0,142.0,0.0,249.0,246.0,41.0,73.0,29.0,80.0,42.0,132.0,133.0,0.0,105.0,224.0,0.0,0.0,60.0,128.0,40.0,218.0,36.0,0.0,234.0,211.0,0.0,26.0,207.0,0.0,100.0,212.0,0.0,31.0,25.0,0.0,0.0,28.0,186.0,0.0,242.0,43.0,241.0,0.0,236.0,31.0,31.0,48.0,157.0,233.0,62.0,249.0,57.0,39.0,246.0,235.0,250.0,40.0,221.0,29.0,124.0,193.0,94.0,0.0,57.0,200.0,247.0,250.0,28.0,203.0,211.0,138.0,33.0,213.0,0.0,86.0,246.0,62.0,232.0,28.0,85.0,215.0,31.0,0.0,159.0,0.0,116.0,117.0,115.0,169.0,175.0,38.0,49.0,241.0,246.0,247.0,0.0,192.0,135.0,152.0,36.0,199.0,0.0,151.0,61.0,27.0,195.0,0.0,0.0,113.0,0.0,64.0,0.0,216.0,52.0,205.0,211.0,183.0,73.0,124.0,130.0,0.0,100.0,76.0,137.0,44.0,53.0,87.0,59.0,221.0,109.0,35.0,246.0,245.0,83.0,151.0,0.0,43.0,250.0,120.0,47.0,238.0,162.0,250.0,92.0,232.0,145.0,0.0,24.0,75.0,131.0,0.0,0.0,61.0,165.0,230.0,244.0,120.0,72.0,0.0,130.0,242.0,125.0,33.0,151.0,199.0,241.0,123.0,172.0,135.0,0.0,81.0,191.0,192.0,185.0,0.0,28.0,100.0,208.0,250.0,39.0,0.0,154.0,199.0,25.0,87.0,201.0,142.0,46.0,25.0,166.0,0.0,250.0,126.0,137.0,0.0,210.0,0.0,157.0,27.0,0.0,60.0,203.0,69.0,58.0,224.0,184.0,84.0,211.0,240.0,117.0,89.0,38.0,0.0,79.0,138.0,58.0,124.0,49.0,222.0,36.0,197.0,249.0,99.0,0.0,198.0,46.0,0.0,124.0,42.0,159.0,102.0,242.0,250.0,219.0,0.0,250.0,27.0,27.0,249.0,175.0,0.0,32.0,187.0,247.0,0.0,0.0,135.0,0.0,246.0,74.0,132.0,103.0,79.0,28.0,35.0,246.0,83.0,56.0,36.0,250.0,66.0,99.0,51.0,215.0,132.0,0.0,246.0,250.0,119.0,35.0,42.0,18.0,158.0,77.0,65.0,73.0,57.0,59.0,226.0,187.0,24.0,217.0,0.0,100.0,52.0,29.0,216.0,247.0,0.0,39.0,100.0,34.0,0.0,68.0,237.0,0.0,74.0,181.0,126.0,249.0,52.0,247.0,0.0,153.0,97.0,88.0,152.0,25.0,197.0,173.0,33.0,129.0,100.0,90.0,201.0,39.0,101.0,148.0,139.0,222.0,74.0,143.0,92.0,86.0,248.0,122.0,43.0,0.0,62.0,248.0,77.0,165.0,149.0,245.0,61.0,57.0,175.0,31.0,74.0,97.0,249.0,250.0,24.0,124.0,176.0,119.0,146.0,224.0,53.0,224.0,61.0,103.0,150.0,0.0,125.0,247.0,37.0,88.0,0.0,238.0,76.0,48.0,123.0,249.0,163.0,250.0,119.0,0.0,101.0,119.0,195.0,154.0,63.0,0.0,0.0,65.0,154.0,216.0,255.0,47.0,82.0,56.0,55.0,201.0,0.0,28.0,199.0,47.0,112.0,0.0,0.0,246.0,234.0,60.0,139.0,193.0,10.0,41.0,175.0,213.0,0.0,48.0,166.0,244.0,232.0,237.0,194.0,59.0,101.0,235.0,27.0,245.0,200.0,233.0,187.0,159.0,146.0,98.0,51.0,0.0,39.0,84.0,45.0,50.0,25.0,95.0,27.0,238.0,64.0,62.0,250.0,78.0,0.0,58.0,243.0,172.0,203.0,73.0,0.0,138.0,250.0,193.0,214.0,31.0,153.0,43.0,142.0,107.0,52.0,249.0,204.0,29.0,177.0,200.0,57.0,133.0,78.0,66.0,124.0,0.0,69.0,217.0,0.0,250.0,132.0,73.0,63.0,0.0,44.0,61.0,0.0,243.0,127.0,86.0,0.0,238.0,45.0,115.0,0.0,190.0,33.0,31.0,29.0,250.0,68.0,157.0,134.0,119.0,0.0,209.0,27.0,125.0,91.0,63.0,120.0,217.0,25.0,136.0,163.0,59.0,250.0,78.0,233.0,55.0,100.0,165.0,185.0,77.0,31.0,218.0,41.0,195.0,0.0,166.0,29.0,37.0,89.0,27.0,69.0,244.0,65.0,61.0,42.0,236.0,113.0,173.0,230.0,227.0,0.0,0.0,56.0,131.0,28.0,49.0,50.0,35.0,249.0,0.0,47.0,0.0,45.0,134.0,25.0,198.0,27.0,0.0,0.0,33.0,73.0],\"y0\":\" \",\"yaxis\":\"y\",\"type\":\"box\"}],                        {\"template\":{\"data\":{\"histogram2dcontour\":[{\"type\":\"histogram2dcontour\",\"colorbar\":{\"outlinewidth\":0,\"ticks\":\"\"},\"colorscale\":[[0.0,\"#0d0887\"],[0.1111111111111111,\"#46039f\"],[0.2222222222222222,\"#7201a8\"],[0.3333333333333333,\"#9c179e\"],[0.4444444444444444,\"#bd3786\"],[0.5555555555555556,\"#d8576b\"],[0.6666666666666666,\"#ed7953\"],[0.7777777777777778,\"#fb9f3a\"],[0.8888888888888888,\"#fdca26\"],[1.0,\"#f0f921\"]]}],\"choropleth\":[{\"type\":\"choropleth\",\"colorbar\":{\"outlinewidth\":0,\"ticks\":\"\"}}],\"histogram2d\":[{\"type\":\"histogram2d\",\"colorbar\":{\"outlinewidth\":0,\"ticks\":\"\"},\"colorscale\":[[0.0,\"#0d0887\"],[0.1111111111111111,\"#46039f\"],[0.2222222222222222,\"#7201a8\"],[0.3333333333333333,\"#9c179e\"],[0.4444444444444444,\"#bd3786\"],[0.5555555555555556,\"#d8576b\"],[0.6666666666666666,\"#ed7953\"],[0.7777777777777778,\"#fb9f3a\"],[0.8888888888888888,\"#fdca26\"],[1.0,\"#f0f921\"]]}],\"heatmap\":[{\"type\":\"heatmap\",\"colorbar\":{\"outlinewidth\":0,\"ticks\":\"\"},\"colorscale\":[[0.0,\"#0d0887\"],[0.1111111111111111,\"#46039f\"],[0.2222222222222222,\"#7201a8\"],[0.3333333333333333,\"#9c179e\"],[0.4444444444444444,\"#bd3786\"],[0.5555555555555556,\"#d8576b\"],[0.6666666666666666,\"#ed7953\"],[0.7777777777777778,\"#fb9f3a\"],[0.8888888888888888,\"#fdca26\"],[1.0,\"#f0f921\"]]}],\"heatmapgl\":[{\"type\":\"heatmapgl\",\"colorbar\":{\"outlinewidth\":0,\"ticks\":\"\"},\"colorscale\":[[0.0,\"#0d0887\"],[0.1111111111111111,\"#46039f\"],[0.2222222222222222,\"#7201a8\"],[0.3333333333333333,\"#9c179e\"],[0.4444444444444444,\"#bd3786\"],[0.5555555555555556,\"#d8576b\"],[0.6666666666666666,\"#ed7953\"],[0.7777777777777778,\"#fb9f3a\"],[0.8888888888888888,\"#fdca26\"],[1.0,\"#f0f921\"]]}],\"contourcarpet\":[{\"type\":\"contourcarpet\",\"colorbar\":{\"outlinewidth\":0,\"ticks\":\"\"}}],\"contour\":[{\"type\":\"contour\",\"colorbar\":{\"outlinewidth\":0,\"ticks\":\"\"},\"colorscale\":[[0.0,\"#0d0887\"],[0.1111111111111111,\"#46039f\"],[0.2222222222222222,\"#7201a8\"],[0.3333333333333333,\"#9c179e\"],[0.4444444444444444,\"#bd3786\"],[0.5555555555555556,\"#d8576b\"],[0.6666666666666666,\"#ed7953\"],[0.7777777777777778,\"#fb9f3a\"],[0.8888888888888888,\"#fdca26\"],[1.0,\"#f0f921\"]]}],\"surface\":[{\"type\":\"surface\",\"colorbar\":{\"outlinewidth\":0,\"ticks\":\"\"},\"colorscale\":[[0.0,\"#0d0887\"],[0.1111111111111111,\"#46039f\"],[0.2222222222222222,\"#7201a8\"],[0.3333333333333333,\"#9c179e\"],[0.4444444444444444,\"#bd3786\"],[0.5555555555555556,\"#d8576b\"],[0.6666666666666666,\"#ed7953\"],[0.7777777777777778,\"#fb9f3a\"],[0.8888888888888888,\"#fdca26\"],[1.0,\"#f0f921\"]]}],\"mesh3d\":[{\"type\":\"mesh3d\",\"colorbar\":{\"outlinewidth\":0,\"ticks\":\"\"}}],\"scatter\":[{\"fillpattern\":{\"fillmode\":\"overlay\",\"size\":10,\"solidity\":0.2},\"type\":\"scatter\"}],\"parcoords\":[{\"type\":\"parcoords\",\"line\":{\"colorbar\":{\"outlinewidth\":0,\"ticks\":\"\"}}}],\"scatterpolargl\":[{\"type\":\"scatterpolargl\",\"marker\":{\"colorbar\":{\"outlinewidth\":0,\"ticks\":\"\"}}}],\"bar\":[{\"error_x\":{\"color\":\"#2a3f5f\"},\"error_y\":{\"color\":\"#2a3f5f\"},\"marker\":{\"line\":{\"color\":\"#E5ECF6\",\"width\":0.5},\"pattern\":{\"fillmode\":\"overlay\",\"size\":10,\"solidity\":0.2}},\"type\":\"bar\"}],\"scattergeo\":[{\"type\":\"scattergeo\",\"marker\":{\"colorbar\":{\"outlinewidth\":0,\"ticks\":\"\"}}}],\"scatterpolar\":[{\"type\":\"scatterpolar\",\"marker\":{\"colorbar\":{\"outlinewidth\":0,\"ticks\":\"\"}}}],\"histogram\":[{\"marker\":{\"pattern\":{\"fillmode\":\"overlay\",\"size\":10,\"solidity\":0.2}},\"type\":\"histogram\"}],\"scattergl\":[{\"type\":\"scattergl\",\"marker\":{\"colorbar\":{\"outlinewidth\":0,\"ticks\":\"\"}}}],\"scatter3d\":[{\"type\":\"scatter3d\",\"line\":{\"colorbar\":{\"outlinewidth\":0,\"ticks\":\"\"}},\"marker\":{\"colorbar\":{\"outlinewidth\":0,\"ticks\":\"\"}}}],\"scattermapbox\":[{\"type\":\"scattermapbox\",\"marker\":{\"colorbar\":{\"outlinewidth\":0,\"ticks\":\"\"}}}],\"scatterternary\":[{\"type\":\"scatterternary\",\"marker\":{\"colorbar\":{\"outlinewidth\":0,\"ticks\":\"\"}}}],\"scattercarpet\":[{\"type\":\"scattercarpet\",\"marker\":{\"colorbar\":{\"outlinewidth\":0,\"ticks\":\"\"}}}],\"carpet\":[{\"aaxis\":{\"endlinecolor\":\"#2a3f5f\",\"gridcolor\":\"white\",\"linecolor\":\"white\",\"minorgridcolor\":\"white\",\"startlinecolor\":\"#2a3f5f\"},\"baxis\":{\"endlinecolor\":\"#2a3f5f\",\"gridcolor\":\"white\",\"linecolor\":\"white\",\"minorgridcolor\":\"white\",\"startlinecolor\":\"#2a3f5f\"},\"type\":\"carpet\"}],\"table\":[{\"cells\":{\"fill\":{\"color\":\"#EBF0F8\"},\"line\":{\"color\":\"white\"}},\"header\":{\"fill\":{\"color\":\"#C8D4E3\"},\"line\":{\"color\":\"white\"}},\"type\":\"table\"}],\"barpolar\":[{\"marker\":{\"line\":{\"color\":\"#E5ECF6\",\"width\":0.5},\"pattern\":{\"fillmode\":\"overlay\",\"size\":10,\"solidity\":0.2}},\"type\":\"barpolar\"}],\"pie\":[{\"automargin\":true,\"type\":\"pie\"}]},\"layout\":{\"autotypenumbers\":\"strict\",\"colorway\":[\"#636efa\",\"#EF553B\",\"#00cc96\",\"#ab63fa\",\"#FFA15A\",\"#19d3f3\",\"#FF6692\",\"#B6E880\",\"#FF97FF\",\"#FECB52\"],\"font\":{\"color\":\"#2a3f5f\"},\"hovermode\":\"closest\",\"hoverlabel\":{\"align\":\"left\"},\"paper_bgcolor\":\"white\",\"plot_bgcolor\":\"#E5ECF6\",\"polar\":{\"bgcolor\":\"#E5ECF6\",\"angularaxis\":{\"gridcolor\":\"white\",\"linecolor\":\"white\",\"ticks\":\"\"},\"radialaxis\":{\"gridcolor\":\"white\",\"linecolor\":\"white\",\"ticks\":\"\"}},\"ternary\":{\"bgcolor\":\"#E5ECF6\",\"aaxis\":{\"gridcolor\":\"white\",\"linecolor\":\"white\",\"ticks\":\"\"},\"baxis\":{\"gridcolor\":\"white\",\"linecolor\":\"white\",\"ticks\":\"\"},\"caxis\":{\"gridcolor\":\"white\",\"linecolor\":\"white\",\"ticks\":\"\"}},\"coloraxis\":{\"colorbar\":{\"outlinewidth\":0,\"ticks\":\"\"}},\"colorscale\":{\"sequential\":[[0.0,\"#0d0887\"],[0.1111111111111111,\"#46039f\"],[0.2222222222222222,\"#7201a8\"],[0.3333333333333333,\"#9c179e\"],[0.4444444444444444,\"#bd3786\"],[0.5555555555555556,\"#d8576b\"],[0.6666666666666666,\"#ed7953\"],[0.7777777777777778,\"#fb9f3a\"],[0.8888888888888888,\"#fdca26\"],[1.0,\"#f0f921\"]],\"sequentialminus\":[[0.0,\"#0d0887\"],[0.1111111111111111,\"#46039f\"],[0.2222222222222222,\"#7201a8\"],[0.3333333333333333,\"#9c179e\"],[0.4444444444444444,\"#bd3786\"],[0.5555555555555556,\"#d8576b\"],[0.6666666666666666,\"#ed7953\"],[0.7777777777777778,\"#fb9f3a\"],[0.8888888888888888,\"#fdca26\"],[1.0,\"#f0f921\"]],\"diverging\":[[0,\"#8e0152\"],[0.1,\"#c51b7d\"],[0.2,\"#de77ae\"],[0.3,\"#f1b6da\"],[0.4,\"#fde0ef\"],[0.5,\"#f7f7f7\"],[0.6,\"#e6f5d0\"],[0.7,\"#b8e186\"],[0.8,\"#7fbc41\"],[0.9,\"#4d9221\"],[1,\"#276419\"]]},\"xaxis\":{\"gridcolor\":\"white\",\"linecolor\":\"white\",\"ticks\":\"\",\"title\":{\"standoff\":15},\"zerolinecolor\":\"white\",\"automargin\":true,\"zerolinewidth\":2},\"yaxis\":{\"gridcolor\":\"white\",\"linecolor\":\"white\",\"ticks\":\"\",\"title\":{\"standoff\":15},\"zerolinecolor\":\"white\",\"automargin\":true,\"zerolinewidth\":2},\"scene\":{\"xaxis\":{\"backgroundcolor\":\"#E5ECF6\",\"gridcolor\":\"white\",\"linecolor\":\"white\",\"showbackground\":true,\"ticks\":\"\",\"zerolinecolor\":\"white\",\"gridwidth\":2},\"yaxis\":{\"backgroundcolor\":\"#E5ECF6\",\"gridcolor\":\"white\",\"linecolor\":\"white\",\"showbackground\":true,\"ticks\":\"\",\"zerolinecolor\":\"white\",\"gridwidth\":2},\"zaxis\":{\"backgroundcolor\":\"#E5ECF6\",\"gridcolor\":\"white\",\"linecolor\":\"white\",\"showbackground\":true,\"ticks\":\"\",\"zerolinecolor\":\"white\",\"gridwidth\":2}},\"shapedefaults\":{\"line\":{\"color\":\"#2a3f5f\"}},\"annotationdefaults\":{\"arrowcolor\":\"#2a3f5f\",\"arrowhead\":0,\"arrowwidth\":1},\"geo\":{\"bgcolor\":\"white\",\"landcolor\":\"#E5ECF6\",\"subunitcolor\":\"white\",\"showland\":true,\"showlakes\":true,\"lakecolor\":\"white\"},\"title\":{\"x\":0.05},\"mapbox\":{\"style\":\"light\"}}},\"xaxis\":{\"anchor\":\"y\",\"domain\":[0.0,1.0],\"title\":{\"text\":\"Label\"},\"tickvals\":[0,1],\"ticktext\":[\"Not Unwanted\",\"Unwanted\"]},\"yaxis\":{\"anchor\":\"x\",\"domain\":[0.0,1.0],\"title\":{\"text\":\"Number of Characters in Bio\"}},\"legend\":{\"tracegroupgap\":0},\"title\":{\"text\":\"Distribution of Number of Characters in Bio by Label\"},\"boxmode\":\"group\"},                        {\"responsive\": true}                    ).then(function(){\n",
              "                            \n",
              "var gd = document.getElementById('a7145207-8315-496c-b6d7-ff4e0069a2e3');\n",
              "var x = new MutationObserver(function (mutations, observer) {{\n",
              "        var display = window.getComputedStyle(gd).display;\n",
              "        if (!display || display === 'none') {{\n",
              "            console.log([gd, 'removed!']);\n",
              "            Plotly.purge(gd);\n",
              "            observer.disconnect();\n",
              "        }}\n",
              "}});\n",
              "\n",
              "// Listen for the removal of the full notebook cells\n",
              "var notebookContainer = gd.closest('#notebook-container');\n",
              "if (notebookContainer) {{\n",
              "    x.observe(notebookContainer, {childList: true});\n",
              "}}\n",
              "\n",
              "// Listen for the clearing of the current output cell\n",
              "var outputEl = gd.closest('.output');\n",
              "if (outputEl) {{\n",
              "    x.observe(outputEl, {childList: true});\n",
              "}}\n",
              "\n",
              "                        })                };                            </script>        </div>\n",
              "</body>\n",
              "</html>"
            ]
          },
          "metadata": {}
        }
      ],
      "source": [
        "import plotly.express as px\n",
        "\n",
        "# Create a boxplot of nb_chars_in_bio per is_unwanted #\n",
        "fig = px.box(df, x='is_unwanted', y='nb_chars_in_bio',\n",
        "             labels={'is_unwanted': 'Label', 'nb_chars_in_bio': 'Number of Characters in Bio'},\n",
        "             title='Distribution of Number of Characters in Bio by Label')\n",
        "fig.update_xaxes(title_text='Label', tickvals=[0, 1], ticktext=['Not Unwanted', 'Unwanted'])\n",
        "fig.show()\n"
      ]
    },
    {
      "cell_type": "markdown",
      "id": "d59a3bad-04ef-4d80-b8d9-02d1d4528301",
      "metadata": {
        "id": "d59a3bad-04ef-4d80-b8d9-02d1d4528301"
      },
      "source": [
        "<details>\n",
        "<summary><i>Answer</i></summary>\n",
        "\n",
        "We observe that most unwanted accounts filled their bio with less than 50 letters. In other words, the majority of unwanted accounts put at most a short sentence as their bio.\n",
        "\n",
        "Legitimate users, on the other hand, put in two to three times as much content.\n",
        "\n",
        "Visually, it looks like this variable has good discriminatory power.\n",
        "</details>"
      ]
    },
    {
      "cell_type": "markdown",
      "id": "8eGLWrcY115Z",
      "metadata": {
        "id": "8eGLWrcY115Z"
      },
      "source": [
        "f) The columns `tags` and `goals` contain account information that could also be used to assess whether accounts are unwanted or not. However, the current format is string data that can't easily be parsed.\n",
        "\n",
        "Let's create two new columns, `nb_tags` and `nb_goals` that contain the counts of how many tags and goals each user has respectively listed in each of the original columns.\n",
        "\n",
        "<details>\n",
        "<summary><i>Hint 1</i></summary>\n",
        "\n",
        "The function `.count()` counts the number of times a character is found in a string\n",
        "</details>\n",
        "<br>\n",
        "\n",
        "<details>\n",
        "<summary><i>Hint 2</i></summary>\n",
        "\n",
        "To apply a string function to a Series, you need to use the attribute `.str` before you chain your function, for example `df[column].str.count(search_string)`\n",
        "</details>\n",
        "<br>\n",
        "\n",
        "<details>\n",
        "<summary><i>Answer</i></summary>\n",
        "\n",
        "`df[\"nb_tags\"] = df[\"tags\"].str.count(';') + 1 - (df.tags.str.len() == 0)`\n",
        "\n",
        "Please ask a TA if you want to walk through the solution!\n",
        "\n",
        "</details>"
      ]
    },
    {
      "cell_type": "code",
      "execution_count": 27,
      "id": "CMLgbmq32Npv",
      "metadata": {
        "id": "CMLgbmq32Npv"
      },
      "outputs": [],
      "source": [
        "df[\"nb_tags\"] = df[\"tags\"].str.count(';') + 1 - (df.tags.str.len() == 0)"
      ]
    },
    {
      "cell_type": "markdown",
      "id": "3926fdf9-39b8-4613-a7d0-52b21745cdf7",
      "metadata": {
        "id": "3926fdf9-39b8-4613-a7d0-52b21745cdf7"
      },
      "source": [
        "# Modeling"
      ]
    },
    {
      "cell_type": "markdown",
      "id": "8e5422f4-5cf9-433c-93e8-23037fddd9da",
      "metadata": {
        "id": "8e5422f4-5cf9-433c-93e8-23037fddd9da"
      },
      "source": [
        "Now that we have performed some feature engineering, we can look into beginning our modelling.\n",
        "\n",
        "a) First let's only include columns from the original dataframe that will suit our analysis. From `df` create a DataFrame `dataset` that contains the following columns:\n",
        "\n",
        " `has_picture_cover`, `has_linkedin`, `has_twitter`, `has_personal_url`, `has_instagram`, `nb_chars_in_bio`, `nb_tags`, `nb_goals`,`is_unwanted`"
      ]
    },
    {
      "cell_type": "code",
      "execution_count": 30,
      "id": "f011bf23-4002-44ac-8253-81d3dfbd22fa",
      "metadata": {
        "id": "f011bf23-4002-44ac-8253-81d3dfbd22fa",
        "colab": {
          "base_uri": "https://localhost:8080/"
        },
        "outputId": "ac4901d3-6f32-45f9-e308-30421ab0b2c1"
      },
      "outputs": [
        {
          "output_type": "stream",
          "name": "stdout",
          "text": [
            "   has_picture_cover  has_linkedin  has_twitter  has_personal_url  \\\n",
            "0                  0             0            0                 0   \n",
            "1                  0             0            0                 0   \n",
            "2                  1             0            0                 0   \n",
            "3                  0             0            0                 0   \n",
            "4                  1             1            0                 0   \n",
            "\n",
            "   has_instagram  nb_chars_in_bio  nb_tags  is_unwanted  \n",
            "0              0              0.0        0            1  \n",
            "1              0             46.0        3            1  \n",
            "2              0              0.0        0            1  \n",
            "3              0             25.0        8            1  \n",
            "4              0            234.0        7            1  \n"
          ]
        }
      ],
      "source": [
        "# Select columns from the original DataFrame #\n",
        "dataset = df[['has_picture_cover', 'has_linkedin', 'has_twitter', 'has_personal_url',\n",
        "              'has_instagram', 'nb_chars_in_bio', 'nb_tags', 'is_unwanted']]\n",
        "\n",
        "# Display the first few rows of the dataset DataFrame #\n",
        "print(dataset.head())\n"
      ]
    },
    {
      "cell_type": "markdown",
      "id": "b761062a-42fd-4b07-b2ea-260143bfd974",
      "metadata": {
        "id": "b761062a-42fd-4b07-b2ea-260143bfd974"
      },
      "source": [
        "b) As we was earlier, the dataset contains 9 times more normal users (`is_unwanted` == 0) than trolls (`is_unwanted` == 1).\n",
        "\n",
        "Training a model with this bias is very undesirable! This is because, when classifying a new test case, our model will have learnt that an account is likely to be not be a troll 90% of the time. Hence our model will be highly biased to saying accounts aren't trolls.\n",
        "\n",
        "We can rectify this by resampling our dataset. Often the safest resampling technique is \"under-sampling\", where we randomly select a subset of the majority class so that we have balanced classes.\n",
        "\n",
        "Make sure you understand the code below and then execute it.\n",
        "\n"
      ]
    },
    {
      "cell_type": "code",
      "execution_count": 32,
      "id": "40d4472a-d107-46a8-be14-742f727b103d",
      "metadata": {
        "id": "40d4472a-d107-46a8-be14-742f727b103d",
        "colab": {
          "base_uri": "https://localhost:8080/"
        },
        "outputId": "4c8b8a53-fcee-44c7-e13b-5188e4dbe9f8"
      },
      "outputs": [
        {
          "output_type": "execute_result",
          "data": {
            "text/plain": [
              "is_unwanted\n",
              "0    1000\n",
              "1    1000\n",
              "Name: count, dtype: int64"
            ]
          },
          "metadata": {},
          "execution_count": 32
        }
      ],
      "source": [
        "# concatenate is_unwanted users and 1000 randomly selected wanted users\n",
        "dataset = pd.concat([dataset[dataset['is_unwanted']==0].sample(1000),\n",
        "                     dataset[dataset['is_unwanted']==1]])\n",
        "\n",
        "dataset['is_unwanted'].value_counts()"
      ]
    },
    {
      "cell_type": "markdown",
      "id": "9c87c46c-d0d0-49a2-890a-e03416b569ed",
      "metadata": {
        "id": "9c87c46c-d0d0-49a2-890a-e03416b569ed"
      },
      "source": [
        "c) Perform the 80% / 20% split of your dataset with the code below. Again make sure you understand it before running.\n",
        "\n",
        "What does the `stratify` parameter mean? Why is it useful here?\n",
        "\n",
        "*Also, note that we didn't split between X, y and train / test.* This will be useful when we use PyCaret at the end of the challenge."
      ]
    },
    {
      "cell_type": "code",
      "execution_count": 33,
      "id": "1719291f-037c-400f-8d23-457b908c6006",
      "metadata": {
        "id": "1719291f-037c-400f-8d23-457b908c6006"
      },
      "outputs": [],
      "source": [
        "from sklearn.model_selection import train_test_split\n",
        "\n",
        "train, test = train_test_split(dataset\n",
        "                               ,test_size=0.2\n",
        "                               ,stratify=dataset['is_unwanted'])"
      ]
    },
    {
      "cell_type": "markdown",
      "id": "d80f637d-13b3-4a8d-8d24-30bbfd26072e",
      "metadata": {
        "id": "d80f637d-13b3-4a8d-8d24-30bbfd26072e"
      },
      "source": [
        "<details>\n",
        "<summary><i>Answer:</i></summary>\n",
        "The `stratify = dataset['is_unwanted']` parameter is important because it ensures that the proportion of unwanted individuals remains the when create the train / test sets. An unlucky random slice could result in an unbalanced training / test set, which would hinder our models performance!\n",
        "</details>\n",
        "<br>\n",
        "\n"
      ]
    },
    {
      "cell_type": "markdown",
      "id": "Hax1RP2cMilc",
      "metadata": {
        "id": "Hax1RP2cMilc"
      },
      "source": [
        "d) First off, we will create a simple Logistic Regression model. Instantiate and fit a simple Logistic Regression on our train dataset. Be sure to create your X train / test & y train / test."
      ]
    },
    {
      "cell_type": "code",
      "execution_count": 35,
      "id": "Y7yRAtXaMiIN",
      "metadata": {
        "id": "Y7yRAtXaMiIN",
        "colab": {
          "base_uri": "https://localhost:8080/",
          "height": 80
        },
        "outputId": "383ec6d0-59fb-4e19-8dad-74a760510d0c"
      },
      "outputs": [
        {
          "output_type": "execute_result",
          "data": {
            "text/plain": [
              "LogisticRegression()"
            ],
            "text/html": [
              "<style>#sk-container-id-1 {\n",
              "  /* Definition of color scheme common for light and dark mode */\n",
              "  --sklearn-color-text: black;\n",
              "  --sklearn-color-line: gray;\n",
              "  /* Definition of color scheme for unfitted estimators */\n",
              "  --sklearn-color-unfitted-level-0: #fff5e6;\n",
              "  --sklearn-color-unfitted-level-1: #f6e4d2;\n",
              "  --sklearn-color-unfitted-level-2: #ffe0b3;\n",
              "  --sklearn-color-unfitted-level-3: chocolate;\n",
              "  /* Definition of color scheme for fitted estimators */\n",
              "  --sklearn-color-fitted-level-0: #f0f8ff;\n",
              "  --sklearn-color-fitted-level-1: #d4ebff;\n",
              "  --sklearn-color-fitted-level-2: #b3dbfd;\n",
              "  --sklearn-color-fitted-level-3: cornflowerblue;\n",
              "\n",
              "  /* Specific color for light theme */\n",
              "  --sklearn-color-text-on-default-background: var(--sg-text-color, var(--theme-code-foreground, var(--jp-content-font-color1, black)));\n",
              "  --sklearn-color-background: var(--sg-background-color, var(--theme-background, var(--jp-layout-color0, white)));\n",
              "  --sklearn-color-border-box: var(--sg-text-color, var(--theme-code-foreground, var(--jp-content-font-color1, black)));\n",
              "  --sklearn-color-icon: #696969;\n",
              "\n",
              "  @media (prefers-color-scheme: dark) {\n",
              "    /* Redefinition of color scheme for dark theme */\n",
              "    --sklearn-color-text-on-default-background: var(--sg-text-color, var(--theme-code-foreground, var(--jp-content-font-color1, white)));\n",
              "    --sklearn-color-background: var(--sg-background-color, var(--theme-background, var(--jp-layout-color0, #111)));\n",
              "    --sklearn-color-border-box: var(--sg-text-color, var(--theme-code-foreground, var(--jp-content-font-color1, white)));\n",
              "    --sklearn-color-icon: #878787;\n",
              "  }\n",
              "}\n",
              "\n",
              "#sk-container-id-1 {\n",
              "  color: var(--sklearn-color-text);\n",
              "}\n",
              "\n",
              "#sk-container-id-1 pre {\n",
              "  padding: 0;\n",
              "}\n",
              "\n",
              "#sk-container-id-1 input.sk-hidden--visually {\n",
              "  border: 0;\n",
              "  clip: rect(1px 1px 1px 1px);\n",
              "  clip: rect(1px, 1px, 1px, 1px);\n",
              "  height: 1px;\n",
              "  margin: -1px;\n",
              "  overflow: hidden;\n",
              "  padding: 0;\n",
              "  position: absolute;\n",
              "  width: 1px;\n",
              "}\n",
              "\n",
              "#sk-container-id-1 div.sk-dashed-wrapped {\n",
              "  border: 1px dashed var(--sklearn-color-line);\n",
              "  margin: 0 0.4em 0.5em 0.4em;\n",
              "  box-sizing: border-box;\n",
              "  padding-bottom: 0.4em;\n",
              "  background-color: var(--sklearn-color-background);\n",
              "}\n",
              "\n",
              "#sk-container-id-1 div.sk-container {\n",
              "  /* jupyter's `normalize.less` sets `[hidden] { display: none; }`\n",
              "     but bootstrap.min.css set `[hidden] { display: none !important; }`\n",
              "     so we also need the `!important` here to be able to override the\n",
              "     default hidden behavior on the sphinx rendered scikit-learn.org.\n",
              "     See: https://github.com/scikit-learn/scikit-learn/issues/21755 */\n",
              "  display: inline-block !important;\n",
              "  position: relative;\n",
              "}\n",
              "\n",
              "#sk-container-id-1 div.sk-text-repr-fallback {\n",
              "  display: none;\n",
              "}\n",
              "\n",
              "div.sk-parallel-item,\n",
              "div.sk-serial,\n",
              "div.sk-item {\n",
              "  /* draw centered vertical line to link estimators */\n",
              "  background-image: linear-gradient(var(--sklearn-color-text-on-default-background), var(--sklearn-color-text-on-default-background));\n",
              "  background-size: 2px 100%;\n",
              "  background-repeat: no-repeat;\n",
              "  background-position: center center;\n",
              "}\n",
              "\n",
              "/* Parallel-specific style estimator block */\n",
              "\n",
              "#sk-container-id-1 div.sk-parallel-item::after {\n",
              "  content: \"\";\n",
              "  width: 100%;\n",
              "  border-bottom: 2px solid var(--sklearn-color-text-on-default-background);\n",
              "  flex-grow: 1;\n",
              "}\n",
              "\n",
              "#sk-container-id-1 div.sk-parallel {\n",
              "  display: flex;\n",
              "  align-items: stretch;\n",
              "  justify-content: center;\n",
              "  background-color: var(--sklearn-color-background);\n",
              "  position: relative;\n",
              "}\n",
              "\n",
              "#sk-container-id-1 div.sk-parallel-item {\n",
              "  display: flex;\n",
              "  flex-direction: column;\n",
              "}\n",
              "\n",
              "#sk-container-id-1 div.sk-parallel-item:first-child::after {\n",
              "  align-self: flex-end;\n",
              "  width: 50%;\n",
              "}\n",
              "\n",
              "#sk-container-id-1 div.sk-parallel-item:last-child::after {\n",
              "  align-self: flex-start;\n",
              "  width: 50%;\n",
              "}\n",
              "\n",
              "#sk-container-id-1 div.sk-parallel-item:only-child::after {\n",
              "  width: 0;\n",
              "}\n",
              "\n",
              "/* Serial-specific style estimator block */\n",
              "\n",
              "#sk-container-id-1 div.sk-serial {\n",
              "  display: flex;\n",
              "  flex-direction: column;\n",
              "  align-items: center;\n",
              "  background-color: var(--sklearn-color-background);\n",
              "  padding-right: 1em;\n",
              "  padding-left: 1em;\n",
              "}\n",
              "\n",
              "\n",
              "/* Toggleable style: style used for estimator/Pipeline/ColumnTransformer box that is\n",
              "clickable and can be expanded/collapsed.\n",
              "- Pipeline and ColumnTransformer use this feature and define the default style\n",
              "- Estimators will overwrite some part of the style using the `sk-estimator` class\n",
              "*/\n",
              "\n",
              "/* Pipeline and ColumnTransformer style (default) */\n",
              "\n",
              "#sk-container-id-1 div.sk-toggleable {\n",
              "  /* Default theme specific background. It is overwritten whether we have a\n",
              "  specific estimator or a Pipeline/ColumnTransformer */\n",
              "  background-color: var(--sklearn-color-background);\n",
              "}\n",
              "\n",
              "/* Toggleable label */\n",
              "#sk-container-id-1 label.sk-toggleable__label {\n",
              "  cursor: pointer;\n",
              "  display: block;\n",
              "  width: 100%;\n",
              "  margin-bottom: 0;\n",
              "  padding: 0.5em;\n",
              "  box-sizing: border-box;\n",
              "  text-align: center;\n",
              "}\n",
              "\n",
              "#sk-container-id-1 label.sk-toggleable__label-arrow:before {\n",
              "  /* Arrow on the left of the label */\n",
              "  content: \"▸\";\n",
              "  float: left;\n",
              "  margin-right: 0.25em;\n",
              "  color: var(--sklearn-color-icon);\n",
              "}\n",
              "\n",
              "#sk-container-id-1 label.sk-toggleable__label-arrow:hover:before {\n",
              "  color: var(--sklearn-color-text);\n",
              "}\n",
              "\n",
              "/* Toggleable content - dropdown */\n",
              "\n",
              "#sk-container-id-1 div.sk-toggleable__content {\n",
              "  max-height: 0;\n",
              "  max-width: 0;\n",
              "  overflow: hidden;\n",
              "  text-align: left;\n",
              "  /* unfitted */\n",
              "  background-color: var(--sklearn-color-unfitted-level-0);\n",
              "}\n",
              "\n",
              "#sk-container-id-1 div.sk-toggleable__content.fitted {\n",
              "  /* fitted */\n",
              "  background-color: var(--sklearn-color-fitted-level-0);\n",
              "}\n",
              "\n",
              "#sk-container-id-1 div.sk-toggleable__content pre {\n",
              "  margin: 0.2em;\n",
              "  border-radius: 0.25em;\n",
              "  color: var(--sklearn-color-text);\n",
              "  /* unfitted */\n",
              "  background-color: var(--sklearn-color-unfitted-level-0);\n",
              "}\n",
              "\n",
              "#sk-container-id-1 div.sk-toggleable__content.fitted pre {\n",
              "  /* unfitted */\n",
              "  background-color: var(--sklearn-color-fitted-level-0);\n",
              "}\n",
              "\n",
              "#sk-container-id-1 input.sk-toggleable__control:checked~div.sk-toggleable__content {\n",
              "  /* Expand drop-down */\n",
              "  max-height: 200px;\n",
              "  max-width: 100%;\n",
              "  overflow: auto;\n",
              "}\n",
              "\n",
              "#sk-container-id-1 input.sk-toggleable__control:checked~label.sk-toggleable__label-arrow:before {\n",
              "  content: \"▾\";\n",
              "}\n",
              "\n",
              "/* Pipeline/ColumnTransformer-specific style */\n",
              "\n",
              "#sk-container-id-1 div.sk-label input.sk-toggleable__control:checked~label.sk-toggleable__label {\n",
              "  color: var(--sklearn-color-text);\n",
              "  background-color: var(--sklearn-color-unfitted-level-2);\n",
              "}\n",
              "\n",
              "#sk-container-id-1 div.sk-label.fitted input.sk-toggleable__control:checked~label.sk-toggleable__label {\n",
              "  background-color: var(--sklearn-color-fitted-level-2);\n",
              "}\n",
              "\n",
              "/* Estimator-specific style */\n",
              "\n",
              "/* Colorize estimator box */\n",
              "#sk-container-id-1 div.sk-estimator input.sk-toggleable__control:checked~label.sk-toggleable__label {\n",
              "  /* unfitted */\n",
              "  background-color: var(--sklearn-color-unfitted-level-2);\n",
              "}\n",
              "\n",
              "#sk-container-id-1 div.sk-estimator.fitted input.sk-toggleable__control:checked~label.sk-toggleable__label {\n",
              "  /* fitted */\n",
              "  background-color: var(--sklearn-color-fitted-level-2);\n",
              "}\n",
              "\n",
              "#sk-container-id-1 div.sk-label label.sk-toggleable__label,\n",
              "#sk-container-id-1 div.sk-label label {\n",
              "  /* The background is the default theme color */\n",
              "  color: var(--sklearn-color-text-on-default-background);\n",
              "}\n",
              "\n",
              "/* On hover, darken the color of the background */\n",
              "#sk-container-id-1 div.sk-label:hover label.sk-toggleable__label {\n",
              "  color: var(--sklearn-color-text);\n",
              "  background-color: var(--sklearn-color-unfitted-level-2);\n",
              "}\n",
              "\n",
              "/* Label box, darken color on hover, fitted */\n",
              "#sk-container-id-1 div.sk-label.fitted:hover label.sk-toggleable__label.fitted {\n",
              "  color: var(--sklearn-color-text);\n",
              "  background-color: var(--sklearn-color-fitted-level-2);\n",
              "}\n",
              "\n",
              "/* Estimator label */\n",
              "\n",
              "#sk-container-id-1 div.sk-label label {\n",
              "  font-family: monospace;\n",
              "  font-weight: bold;\n",
              "  display: inline-block;\n",
              "  line-height: 1.2em;\n",
              "}\n",
              "\n",
              "#sk-container-id-1 div.sk-label-container {\n",
              "  text-align: center;\n",
              "}\n",
              "\n",
              "/* Estimator-specific */\n",
              "#sk-container-id-1 div.sk-estimator {\n",
              "  font-family: monospace;\n",
              "  border: 1px dotted var(--sklearn-color-border-box);\n",
              "  border-radius: 0.25em;\n",
              "  box-sizing: border-box;\n",
              "  margin-bottom: 0.5em;\n",
              "  /* unfitted */\n",
              "  background-color: var(--sklearn-color-unfitted-level-0);\n",
              "}\n",
              "\n",
              "#sk-container-id-1 div.sk-estimator.fitted {\n",
              "  /* fitted */\n",
              "  background-color: var(--sklearn-color-fitted-level-0);\n",
              "}\n",
              "\n",
              "/* on hover */\n",
              "#sk-container-id-1 div.sk-estimator:hover {\n",
              "  /* unfitted */\n",
              "  background-color: var(--sklearn-color-unfitted-level-2);\n",
              "}\n",
              "\n",
              "#sk-container-id-1 div.sk-estimator.fitted:hover {\n",
              "  /* fitted */\n",
              "  background-color: var(--sklearn-color-fitted-level-2);\n",
              "}\n",
              "\n",
              "/* Specification for estimator info (e.g. \"i\" and \"?\") */\n",
              "\n",
              "/* Common style for \"i\" and \"?\" */\n",
              "\n",
              ".sk-estimator-doc-link,\n",
              "a:link.sk-estimator-doc-link,\n",
              "a:visited.sk-estimator-doc-link {\n",
              "  float: right;\n",
              "  font-size: smaller;\n",
              "  line-height: 1em;\n",
              "  font-family: monospace;\n",
              "  background-color: var(--sklearn-color-background);\n",
              "  border-radius: 1em;\n",
              "  height: 1em;\n",
              "  width: 1em;\n",
              "  text-decoration: none !important;\n",
              "  margin-left: 1ex;\n",
              "  /* unfitted */\n",
              "  border: var(--sklearn-color-unfitted-level-1) 1pt solid;\n",
              "  color: var(--sklearn-color-unfitted-level-1);\n",
              "}\n",
              "\n",
              ".sk-estimator-doc-link.fitted,\n",
              "a:link.sk-estimator-doc-link.fitted,\n",
              "a:visited.sk-estimator-doc-link.fitted {\n",
              "  /* fitted */\n",
              "  border: var(--sklearn-color-fitted-level-1) 1pt solid;\n",
              "  color: var(--sklearn-color-fitted-level-1);\n",
              "}\n",
              "\n",
              "/* On hover */\n",
              "div.sk-estimator:hover .sk-estimator-doc-link:hover,\n",
              ".sk-estimator-doc-link:hover,\n",
              "div.sk-label-container:hover .sk-estimator-doc-link:hover,\n",
              ".sk-estimator-doc-link:hover {\n",
              "  /* unfitted */\n",
              "  background-color: var(--sklearn-color-unfitted-level-3);\n",
              "  color: var(--sklearn-color-background);\n",
              "  text-decoration: none;\n",
              "}\n",
              "\n",
              "div.sk-estimator.fitted:hover .sk-estimator-doc-link.fitted:hover,\n",
              ".sk-estimator-doc-link.fitted:hover,\n",
              "div.sk-label-container:hover .sk-estimator-doc-link.fitted:hover,\n",
              ".sk-estimator-doc-link.fitted:hover {\n",
              "  /* fitted */\n",
              "  background-color: var(--sklearn-color-fitted-level-3);\n",
              "  color: var(--sklearn-color-background);\n",
              "  text-decoration: none;\n",
              "}\n",
              "\n",
              "/* Span, style for the box shown on hovering the info icon */\n",
              ".sk-estimator-doc-link span {\n",
              "  display: none;\n",
              "  z-index: 9999;\n",
              "  position: relative;\n",
              "  font-weight: normal;\n",
              "  right: .2ex;\n",
              "  padding: .5ex;\n",
              "  margin: .5ex;\n",
              "  width: min-content;\n",
              "  min-width: 20ex;\n",
              "  max-width: 50ex;\n",
              "  color: var(--sklearn-color-text);\n",
              "  box-shadow: 2pt 2pt 4pt #999;\n",
              "  /* unfitted */\n",
              "  background: var(--sklearn-color-unfitted-level-0);\n",
              "  border: .5pt solid var(--sklearn-color-unfitted-level-3);\n",
              "}\n",
              "\n",
              ".sk-estimator-doc-link.fitted span {\n",
              "  /* fitted */\n",
              "  background: var(--sklearn-color-fitted-level-0);\n",
              "  border: var(--sklearn-color-fitted-level-3);\n",
              "}\n",
              "\n",
              ".sk-estimator-doc-link:hover span {\n",
              "  display: block;\n",
              "}\n",
              "\n",
              "/* \"?\"-specific style due to the `<a>` HTML tag */\n",
              "\n",
              "#sk-container-id-1 a.estimator_doc_link {\n",
              "  float: right;\n",
              "  font-size: 1rem;\n",
              "  line-height: 1em;\n",
              "  font-family: monospace;\n",
              "  background-color: var(--sklearn-color-background);\n",
              "  border-radius: 1rem;\n",
              "  height: 1rem;\n",
              "  width: 1rem;\n",
              "  text-decoration: none;\n",
              "  /* unfitted */\n",
              "  color: var(--sklearn-color-unfitted-level-1);\n",
              "  border: var(--sklearn-color-unfitted-level-1) 1pt solid;\n",
              "}\n",
              "\n",
              "#sk-container-id-1 a.estimator_doc_link.fitted {\n",
              "  /* fitted */\n",
              "  border: var(--sklearn-color-fitted-level-1) 1pt solid;\n",
              "  color: var(--sklearn-color-fitted-level-1);\n",
              "}\n",
              "\n",
              "/* On hover */\n",
              "#sk-container-id-1 a.estimator_doc_link:hover {\n",
              "  /* unfitted */\n",
              "  background-color: var(--sklearn-color-unfitted-level-3);\n",
              "  color: var(--sklearn-color-background);\n",
              "  text-decoration: none;\n",
              "}\n",
              "\n",
              "#sk-container-id-1 a.estimator_doc_link.fitted:hover {\n",
              "  /* fitted */\n",
              "  background-color: var(--sklearn-color-fitted-level-3);\n",
              "}\n",
              "</style><div id=\"sk-container-id-1\" class=\"sk-top-container\"><div class=\"sk-text-repr-fallback\"><pre>LogisticRegression()</pre><b>In a Jupyter environment, please rerun this cell to show the HTML representation or trust the notebook. <br />On GitHub, the HTML representation is unable to render, please try loading this page with nbviewer.org.</b></div><div class=\"sk-container\" hidden><div class=\"sk-item\"><div class=\"sk-estimator fitted sk-toggleable\"><input class=\"sk-toggleable__control sk-hidden--visually\" id=\"sk-estimator-id-1\" type=\"checkbox\" checked><label for=\"sk-estimator-id-1\" class=\"sk-toggleable__label fitted sk-toggleable__label-arrow fitted\">&nbsp;&nbsp;LogisticRegression<a class=\"sk-estimator-doc-link fitted\" rel=\"noreferrer\" target=\"_blank\" href=\"https://scikit-learn.org/1.4/modules/generated/sklearn.linear_model.LogisticRegression.html\">?<span>Documentation for LogisticRegression</span></a><span class=\"sk-estimator-doc-link fitted\">i<span>Fitted</span></span></label><div class=\"sk-toggleable__content fitted\"><pre>LogisticRegression()</pre></div> </div></div></div></div>"
            ]
          },
          "metadata": {},
          "execution_count": 35
        }
      ],
      "source": [
        "from sklearn.model_selection import train_test_split\n",
        "from sklearn.linear_model import LogisticRegression\n",
        "\n",
        "# Separate features (X) and target variable (y) #\n",
        "X = dataset.drop('is_unwanted', axis=1)\n",
        "y = dataset['is_unwanted']\n",
        "\n",
        "# Split the dataset into training and testing sets #\n",
        "X_train, X_test, y_train, y_test = train_test_split(X, y, test_size=0.2, stratify=y)\n",
        "\n",
        "# Instantiate a Logistic Regression model #\n",
        "logistic_model = LogisticRegression()\n",
        "\n",
        "# Fit the model on the training data #\n",
        "logistic_model.fit(X_train, y_train)\n"
      ]
    },
    {
      "cell_type": "markdown",
      "id": "EO_V0X-lNneQ",
      "metadata": {
        "id": "EO_V0X-lNneQ"
      },
      "source": [
        "e) Using our fitted model, generate predictions of the classes from our X_test and save them in a variable called `y_pred`. Use our new `y_pred` variable and our `y_test` to determine the accuracy of our model."
      ]
    },
    {
      "cell_type": "code",
      "execution_count": 37,
      "id": "N5NozwlyNkp9",
      "metadata": {
        "id": "N5NozwlyNkp9",
        "colab": {
          "base_uri": "https://localhost:8080/"
        },
        "outputId": "ac595017-9f3c-45e4-cfc3-5de89451da85"
      },
      "outputs": [
        {
          "output_type": "stream",
          "name": "stdout",
          "text": [
            "Accuracy of the Logistic Regression model: 0.7325\n"
          ]
        }
      ],
      "source": [
        "from sklearn.metrics import accuracy_score\n",
        "\n",
        "# Generate predictions on the test set #\n",
        "y_pred = logistic_model.predict(X_test)\n",
        "\n",
        "# Calculate the accuracy of the model #\n",
        "accuracy = accuracy_score(y_test, y_pred)\n",
        "\n",
        "print(\"Accuracy of the Logistic Regression model:\", accuracy)\n"
      ]
    },
    {
      "cell_type": "markdown",
      "id": "kVrUQSiYYT7t",
      "metadata": {
        "id": "kVrUQSiYYT7t"
      },
      "source": [
        "f) Given that we are trying to detect unwanted social media accounts, we might be interested in looking at more than just accuracy in terms of our metrics.\n",
        "\n",
        "If we think that troll accounts are especially harmful, we might want to make sure that we flag as many as we can (even if that increases the likelihood of incorrectly flagging normal accounts as trolls).\n",
        "\n",
        "What metric would we check how good our model is at capturing as many real unwanted accounts as possible?\n",
        "\n",
        "Calulate this score.\n",
        "\n",
        "<details>\n",
        "<summary><i>Hint:</i></summary>\n",
        "The recall_score function from sklearn could be usefull.\n",
        "</details>"
      ]
    },
    {
      "cell_type": "code",
      "execution_count": 39,
      "id": "VyOFIO8QYTm6",
      "metadata": {
        "id": "VyOFIO8QYTm6",
        "colab": {
          "base_uri": "https://localhost:8080/"
        },
        "outputId": "6dd8fce8-7f30-4e85-d85b-728b594c56a6"
      },
      "outputs": [
        {
          "output_type": "stream",
          "name": "stdout",
          "text": [
            "Recall score of the Logistic Regression model: 0.815\n"
          ]
        }
      ],
      "source": [
        "from sklearn.metrics import recall_score\n",
        "\n",
        "# Calculate recall score #\n",
        "recall = recall_score(y_test, y_pred)\n",
        "\n",
        "print(\"Recall score of the Logistic Regression model:\", recall)\n"
      ]
    },
    {
      "cell_type": "markdown",
      "id": "f3nZZl-PfLaZ",
      "metadata": {
        "id": "f3nZZl-PfLaZ"
      },
      "source": [
        "Our scores are okay, but not amazing!\n",
        "\n",
        "Deciding between models and tuning the parameters of those models can be a bit of an art, and requires a fair amount of practice to determine which parameters are suitable for a given task.\n",
        "\n",
        "However, to simplify things, we can use the **PyCaret** library! This will try a whole range of models on our data and show us how they all perform on a number of different metrics in just a few lines of code."
      ]
    },
    {
      "cell_type": "markdown",
      "id": "ce1cc8a3-1896-42d3-8539-7e502a8960aa",
      "metadata": {
        "id": "ce1cc8a3-1896-42d3-8539-7e502a8960aa"
      },
      "source": [
        "d) Complete the following code:\n",
        "\n",
        "Remember which data variables to use, and to also pay attention to the `normalize` parameter."
      ]
    },
    {
      "cell_type": "code",
      "execution_count": 41,
      "id": "aedd398e-373e-41a7-98b0-4330bd858371",
      "metadata": {
        "id": "aedd398e-373e-41a7-98b0-4330bd858371",
        "colab": {
          "base_uri": "https://localhost:8080/",
          "height": 708
        },
        "outputId": "160b94e0-8aea-4bce-c328-3848d67ba583"
      },
      "outputs": [
        {
          "output_type": "display_data",
          "data": {
            "text/plain": [
              "<pandas.io.formats.style.Styler at 0x7f482341ba60>"
            ],
            "text/html": [
              "<style type=\"text/css\">\n",
              "#T_0e794_row8_col1, #T_0e794_row12_col1 {\n",
              "  background-color: lightgreen;\n",
              "}\n",
              "</style>\n",
              "<table id=\"T_0e794\" class=\"dataframe\">\n",
              "  <thead>\n",
              "    <tr>\n",
              "      <th class=\"blank level0\" >&nbsp;</th>\n",
              "      <th id=\"T_0e794_level0_col0\" class=\"col_heading level0 col0\" >Description</th>\n",
              "      <th id=\"T_0e794_level0_col1\" class=\"col_heading level0 col1\" >Value</th>\n",
              "    </tr>\n",
              "  </thead>\n",
              "  <tbody>\n",
              "    <tr>\n",
              "      <th id=\"T_0e794_level0_row0\" class=\"row_heading level0 row0\" >0</th>\n",
              "      <td id=\"T_0e794_row0_col0\" class=\"data row0 col0\" >Session id</td>\n",
              "      <td id=\"T_0e794_row0_col1\" class=\"data row0 col1\" >42</td>\n",
              "    </tr>\n",
              "    <tr>\n",
              "      <th id=\"T_0e794_level0_row1\" class=\"row_heading level0 row1\" >1</th>\n",
              "      <td id=\"T_0e794_row1_col0\" class=\"data row1 col0\" >Target</td>\n",
              "      <td id=\"T_0e794_row1_col1\" class=\"data row1 col1\" >is_unwanted</td>\n",
              "    </tr>\n",
              "    <tr>\n",
              "      <th id=\"T_0e794_level0_row2\" class=\"row_heading level0 row2\" >2</th>\n",
              "      <td id=\"T_0e794_row2_col0\" class=\"data row2 col0\" >Target type</td>\n",
              "      <td id=\"T_0e794_row2_col1\" class=\"data row2 col1\" >Binary</td>\n",
              "    </tr>\n",
              "    <tr>\n",
              "      <th id=\"T_0e794_level0_row3\" class=\"row_heading level0 row3\" >3</th>\n",
              "      <td id=\"T_0e794_row3_col0\" class=\"data row3 col0\" >Original data shape</td>\n",
              "      <td id=\"T_0e794_row3_col1\" class=\"data row3 col1\" >(2000, 8)</td>\n",
              "    </tr>\n",
              "    <tr>\n",
              "      <th id=\"T_0e794_level0_row4\" class=\"row_heading level0 row4\" >4</th>\n",
              "      <td id=\"T_0e794_row4_col0\" class=\"data row4 col0\" >Transformed data shape</td>\n",
              "      <td id=\"T_0e794_row4_col1\" class=\"data row4 col1\" >(2000, 8)</td>\n",
              "    </tr>\n",
              "    <tr>\n",
              "      <th id=\"T_0e794_level0_row5\" class=\"row_heading level0 row5\" >5</th>\n",
              "      <td id=\"T_0e794_row5_col0\" class=\"data row5 col0\" >Transformed train set shape</td>\n",
              "      <td id=\"T_0e794_row5_col1\" class=\"data row5 col1\" >(1400, 8)</td>\n",
              "    </tr>\n",
              "    <tr>\n",
              "      <th id=\"T_0e794_level0_row6\" class=\"row_heading level0 row6\" >6</th>\n",
              "      <td id=\"T_0e794_row6_col0\" class=\"data row6 col0\" >Transformed test set shape</td>\n",
              "      <td id=\"T_0e794_row6_col1\" class=\"data row6 col1\" >(600, 8)</td>\n",
              "    </tr>\n",
              "    <tr>\n",
              "      <th id=\"T_0e794_level0_row7\" class=\"row_heading level0 row7\" >7</th>\n",
              "      <td id=\"T_0e794_row7_col0\" class=\"data row7 col0\" >Numeric features</td>\n",
              "      <td id=\"T_0e794_row7_col1\" class=\"data row7 col1\" >7</td>\n",
              "    </tr>\n",
              "    <tr>\n",
              "      <th id=\"T_0e794_level0_row8\" class=\"row_heading level0 row8\" >8</th>\n",
              "      <td id=\"T_0e794_row8_col0\" class=\"data row8 col0\" >Preprocess</td>\n",
              "      <td id=\"T_0e794_row8_col1\" class=\"data row8 col1\" >True</td>\n",
              "    </tr>\n",
              "    <tr>\n",
              "      <th id=\"T_0e794_level0_row9\" class=\"row_heading level0 row9\" >9</th>\n",
              "      <td id=\"T_0e794_row9_col0\" class=\"data row9 col0\" >Imputation type</td>\n",
              "      <td id=\"T_0e794_row9_col1\" class=\"data row9 col1\" >simple</td>\n",
              "    </tr>\n",
              "    <tr>\n",
              "      <th id=\"T_0e794_level0_row10\" class=\"row_heading level0 row10\" >10</th>\n",
              "      <td id=\"T_0e794_row10_col0\" class=\"data row10 col0\" >Numeric imputation</td>\n",
              "      <td id=\"T_0e794_row10_col1\" class=\"data row10 col1\" >mean</td>\n",
              "    </tr>\n",
              "    <tr>\n",
              "      <th id=\"T_0e794_level0_row11\" class=\"row_heading level0 row11\" >11</th>\n",
              "      <td id=\"T_0e794_row11_col0\" class=\"data row11 col0\" >Categorical imputation</td>\n",
              "      <td id=\"T_0e794_row11_col1\" class=\"data row11 col1\" >mode</td>\n",
              "    </tr>\n",
              "    <tr>\n",
              "      <th id=\"T_0e794_level0_row12\" class=\"row_heading level0 row12\" >12</th>\n",
              "      <td id=\"T_0e794_row12_col0\" class=\"data row12 col0\" >Normalize</td>\n",
              "      <td id=\"T_0e794_row12_col1\" class=\"data row12 col1\" >True</td>\n",
              "    </tr>\n",
              "    <tr>\n",
              "      <th id=\"T_0e794_level0_row13\" class=\"row_heading level0 row13\" >13</th>\n",
              "      <td id=\"T_0e794_row13_col0\" class=\"data row13 col0\" >Normalize method</td>\n",
              "      <td id=\"T_0e794_row13_col1\" class=\"data row13 col1\" >zscore</td>\n",
              "    </tr>\n",
              "    <tr>\n",
              "      <th id=\"T_0e794_level0_row14\" class=\"row_heading level0 row14\" >14</th>\n",
              "      <td id=\"T_0e794_row14_col0\" class=\"data row14 col0\" >Fold Generator</td>\n",
              "      <td id=\"T_0e794_row14_col1\" class=\"data row14 col1\" >StratifiedKFold</td>\n",
              "    </tr>\n",
              "    <tr>\n",
              "      <th id=\"T_0e794_level0_row15\" class=\"row_heading level0 row15\" >15</th>\n",
              "      <td id=\"T_0e794_row15_col0\" class=\"data row15 col0\" >Fold Number</td>\n",
              "      <td id=\"T_0e794_row15_col1\" class=\"data row15 col1\" >10</td>\n",
              "    </tr>\n",
              "    <tr>\n",
              "      <th id=\"T_0e794_level0_row16\" class=\"row_heading level0 row16\" >16</th>\n",
              "      <td id=\"T_0e794_row16_col0\" class=\"data row16 col0\" >CPU Jobs</td>\n",
              "      <td id=\"T_0e794_row16_col1\" class=\"data row16 col1\" >-1</td>\n",
              "    </tr>\n",
              "    <tr>\n",
              "      <th id=\"T_0e794_level0_row17\" class=\"row_heading level0 row17\" >17</th>\n",
              "      <td id=\"T_0e794_row17_col0\" class=\"data row17 col0\" >Use GPU</td>\n",
              "      <td id=\"T_0e794_row17_col1\" class=\"data row17 col1\" >False</td>\n",
              "    </tr>\n",
              "    <tr>\n",
              "      <th id=\"T_0e794_level0_row18\" class=\"row_heading level0 row18\" >18</th>\n",
              "      <td id=\"T_0e794_row18_col0\" class=\"data row18 col0\" >Log Experiment</td>\n",
              "      <td id=\"T_0e794_row18_col1\" class=\"data row18 col1\" >False</td>\n",
              "    </tr>\n",
              "    <tr>\n",
              "      <th id=\"T_0e794_level0_row19\" class=\"row_heading level0 row19\" >19</th>\n",
              "      <td id=\"T_0e794_row19_col0\" class=\"data row19 col0\" >Experiment Name</td>\n",
              "      <td id=\"T_0e794_row19_col1\" class=\"data row19 col1\" >clf-default-name</td>\n",
              "    </tr>\n",
              "    <tr>\n",
              "      <th id=\"T_0e794_level0_row20\" class=\"row_heading level0 row20\" >20</th>\n",
              "      <td id=\"T_0e794_row20_col0\" class=\"data row20 col0\" >USI</td>\n",
              "      <td id=\"T_0e794_row20_col1\" class=\"data row20 col1\" >6efb</td>\n",
              "    </tr>\n",
              "  </tbody>\n",
              "</table>\n"
            ]
          },
          "metadata": {}
        }
      ],
      "source": [
        "from pycaret.classification import setup\n",
        "\n",
        "# Include the target variable 'is_unwanted' in the dataset #\n",
        "data_with_target = dataset.copy()  # Make a copy of the original dataset #\n",
        "data_with_target['is_unwanted'] = dataset['is_unwanted']  # Include the target variable #\n",
        "\n",
        "# Call the setup function with the modified dataset #\n",
        "xp = setup(data=data_with_target,\n",
        "           target='is_unwanted',\n",
        "           normalize=True,\n",
        "           session_id=42)\n"
      ]
    },
    {
      "cell_type": "markdown",
      "id": "6df23a4c-6a91-45b3-8ecc-1cb3e1c8b5e7",
      "metadata": {
        "id": "6df23a4c-6a91-45b3-8ecc-1cb3e1c8b5e7"
      },
      "source": [
        "e) Screen the PyCaret models and compare their performance by executing cell below.\n",
        "\n",
        "Which model has the best accuracy?"
      ]
    },
    {
      "cell_type": "code",
      "execution_count": 42,
      "id": "88fa5e28-aab2-4c78-a408-f0fbf9c9a205",
      "metadata": {
        "id": "88fa5e28-aab2-4c78-a408-f0fbf9c9a205",
        "colab": {
          "base_uri": "https://localhost:8080/",
          "height": 520,
          "referenced_widgets": [
            "eeb0eb37ab1c4fe9bbfb11a0f5bbc53a",
            "da5d044841e1473cb8bc4afa621d93ed",
            "f9e41c1ece9f4c4cb9fdad517139e879",
            "472a7a9aff3a4204a5c2fc646a8c268d",
            "93c77d7c98f14acd863e20e8bcdf68bc",
            "721121da07c34d6f8befee1c7319c30f",
            "57c71c1ff0754ba9bcc075fdad81d3b7",
            "543844f99f7e49f382a0143a04634b28",
            "ff0a788eeafe4c958f88e693347b2a5d",
            "3a6eae6f96884cf2a90b71d177e29e17",
            "9753dd2509f54179af3c83ea210763f2"
          ]
        },
        "outputId": "4b3ebdf7-581a-4377-a4e7-4762623f9ad5"
      },
      "outputs": [
        {
          "output_type": "display_data",
          "data": {
            "text/plain": [
              "<IPython.core.display.HTML object>"
            ],
            "text/html": []
          },
          "metadata": {}
        },
        {
          "output_type": "display_data",
          "data": {
            "text/plain": [
              "<pandas.io.formats.style.Styler at 0x7f47bbc1ca30>"
            ],
            "text/html": [
              "<style type=\"text/css\">\n",
              "#T_3d331 th {\n",
              "  text-align: left;\n",
              "}\n",
              "#T_3d331_row0_col0, #T_3d331_row0_col3, #T_3d331_row0_col5, #T_3d331_row1_col0, #T_3d331_row1_col1, #T_3d331_row1_col2, #T_3d331_row1_col3, #T_3d331_row1_col4, #T_3d331_row1_col5, #T_3d331_row1_col6, #T_3d331_row1_col7, #T_3d331_row2_col0, #T_3d331_row2_col1, #T_3d331_row2_col2, #T_3d331_row2_col3, #T_3d331_row2_col4, #T_3d331_row2_col6, #T_3d331_row2_col7, #T_3d331_row3_col0, #T_3d331_row3_col1, #T_3d331_row3_col2, #T_3d331_row3_col3, #T_3d331_row3_col4, #T_3d331_row3_col5, #T_3d331_row3_col6, #T_3d331_row3_col7, #T_3d331_row4_col0, #T_3d331_row4_col1, #T_3d331_row4_col2, #T_3d331_row4_col3, #T_3d331_row4_col4, #T_3d331_row4_col5, #T_3d331_row4_col6, #T_3d331_row4_col7, #T_3d331_row5_col0, #T_3d331_row5_col1, #T_3d331_row5_col2, #T_3d331_row5_col3, #T_3d331_row5_col4, #T_3d331_row5_col5, #T_3d331_row5_col6, #T_3d331_row5_col7, #T_3d331_row6_col0, #T_3d331_row6_col1, #T_3d331_row6_col2, #T_3d331_row6_col3, #T_3d331_row6_col4, #T_3d331_row6_col5, #T_3d331_row6_col6, #T_3d331_row6_col7, #T_3d331_row7_col0, #T_3d331_row7_col1, #T_3d331_row7_col2, #T_3d331_row7_col3, #T_3d331_row7_col4, #T_3d331_row7_col5, #T_3d331_row7_col6, #T_3d331_row7_col7, #T_3d331_row8_col0, #T_3d331_row8_col1, #T_3d331_row8_col2, #T_3d331_row8_col3, #T_3d331_row8_col4, #T_3d331_row8_col5, #T_3d331_row8_col6, #T_3d331_row8_col7, #T_3d331_row9_col0, #T_3d331_row9_col1, #T_3d331_row9_col2, #T_3d331_row9_col3, #T_3d331_row9_col4, #T_3d331_row9_col5, #T_3d331_row9_col6, #T_3d331_row9_col7, #T_3d331_row10_col0, #T_3d331_row10_col1, #T_3d331_row10_col2, #T_3d331_row10_col3, #T_3d331_row10_col4, #T_3d331_row10_col5, #T_3d331_row10_col6, #T_3d331_row10_col7, #T_3d331_row11_col0, #T_3d331_row11_col1, #T_3d331_row11_col2, #T_3d331_row11_col4, #T_3d331_row11_col5, #T_3d331_row11_col6, #T_3d331_row11_col7, #T_3d331_row12_col0, #T_3d331_row12_col1, #T_3d331_row12_col2, #T_3d331_row12_col3, #T_3d331_row12_col4, #T_3d331_row12_col5, #T_3d331_row12_col6, #T_3d331_row12_col7, #T_3d331_row13_col0, #T_3d331_row13_col1, #T_3d331_row13_col2, #T_3d331_row13_col3, #T_3d331_row13_col4, #T_3d331_row13_col5, #T_3d331_row13_col6, #T_3d331_row13_col7, #T_3d331_row14_col0, #T_3d331_row14_col1, #T_3d331_row14_col2, #T_3d331_row14_col3, #T_3d331_row14_col4, #T_3d331_row14_col5, #T_3d331_row14_col6, #T_3d331_row14_col7 {\n",
              "  text-align: left;\n",
              "}\n",
              "#T_3d331_row0_col1, #T_3d331_row0_col2, #T_3d331_row0_col4, #T_3d331_row0_col6, #T_3d331_row0_col7, #T_3d331_row2_col5, #T_3d331_row11_col3 {\n",
              "  text-align: left;\n",
              "  background-color: yellow;\n",
              "}\n",
              "#T_3d331_row0_col8, #T_3d331_row1_col8, #T_3d331_row2_col8, #T_3d331_row3_col8, #T_3d331_row4_col8, #T_3d331_row5_col8, #T_3d331_row6_col8, #T_3d331_row7_col8, #T_3d331_row8_col8, #T_3d331_row9_col8, #T_3d331_row10_col8, #T_3d331_row12_col8, #T_3d331_row13_col8, #T_3d331_row14_col8 {\n",
              "  text-align: left;\n",
              "  background-color: lightgrey;\n",
              "}\n",
              "#T_3d331_row11_col8 {\n",
              "  text-align: left;\n",
              "  background-color: yellow;\n",
              "  background-color: lightgrey;\n",
              "}\n",
              "</style>\n",
              "<table id=\"T_3d331\" class=\"dataframe\">\n",
              "  <thead>\n",
              "    <tr>\n",
              "      <th class=\"blank level0\" >&nbsp;</th>\n",
              "      <th id=\"T_3d331_level0_col0\" class=\"col_heading level0 col0\" >Model</th>\n",
              "      <th id=\"T_3d331_level0_col1\" class=\"col_heading level0 col1\" >Accuracy</th>\n",
              "      <th id=\"T_3d331_level0_col2\" class=\"col_heading level0 col2\" >AUC</th>\n",
              "      <th id=\"T_3d331_level0_col3\" class=\"col_heading level0 col3\" >Recall</th>\n",
              "      <th id=\"T_3d331_level0_col4\" class=\"col_heading level0 col4\" >Prec.</th>\n",
              "      <th id=\"T_3d331_level0_col5\" class=\"col_heading level0 col5\" >F1</th>\n",
              "      <th id=\"T_3d331_level0_col6\" class=\"col_heading level0 col6\" >Kappa</th>\n",
              "      <th id=\"T_3d331_level0_col7\" class=\"col_heading level0 col7\" >MCC</th>\n",
              "      <th id=\"T_3d331_level0_col8\" class=\"col_heading level0 col8\" >TT (Sec)</th>\n",
              "    </tr>\n",
              "  </thead>\n",
              "  <tbody>\n",
              "    <tr>\n",
              "      <th id=\"T_3d331_level0_row0\" class=\"row_heading level0 row0\" >ada</th>\n",
              "      <td id=\"T_3d331_row0_col0\" class=\"data row0 col0\" >Ada Boost Classifier</td>\n",
              "      <td id=\"T_3d331_row0_col1\" class=\"data row0 col1\" >0.7100</td>\n",
              "      <td id=\"T_3d331_row0_col2\" class=\"data row0 col2\" >0.7759</td>\n",
              "      <td id=\"T_3d331_row0_col3\" class=\"data row0 col3\" >0.7043</td>\n",
              "      <td id=\"T_3d331_row0_col4\" class=\"data row0 col4\" >0.7128</td>\n",
              "      <td id=\"T_3d331_row0_col5\" class=\"data row0 col5\" >0.7071</td>\n",
              "      <td id=\"T_3d331_row0_col6\" class=\"data row0 col6\" >0.4200</td>\n",
              "      <td id=\"T_3d331_row0_col7\" class=\"data row0 col7\" >0.4217</td>\n",
              "      <td id=\"T_3d331_row0_col8\" class=\"data row0 col8\" >0.1550</td>\n",
              "    </tr>\n",
              "    <tr>\n",
              "      <th id=\"T_3d331_level0_row1\" class=\"row_heading level0 row1\" >gbc</th>\n",
              "      <td id=\"T_3d331_row1_col0\" class=\"data row1 col0\" >Gradient Boosting Classifier</td>\n",
              "      <td id=\"T_3d331_row1_col1\" class=\"data row1 col1\" >0.7064</td>\n",
              "      <td id=\"T_3d331_row1_col2\" class=\"data row1 col2\" >0.7639</td>\n",
              "      <td id=\"T_3d331_row1_col3\" class=\"data row1 col3\" >0.7071</td>\n",
              "      <td id=\"T_3d331_row1_col4\" class=\"data row1 col4\" >0.7066</td>\n",
              "      <td id=\"T_3d331_row1_col5\" class=\"data row1 col5\" >0.7059</td>\n",
              "      <td id=\"T_3d331_row1_col6\" class=\"data row1 col6\" >0.4129</td>\n",
              "      <td id=\"T_3d331_row1_col7\" class=\"data row1 col7\" >0.4140</td>\n",
              "      <td id=\"T_3d331_row1_col8\" class=\"data row1 col8\" >0.1810</td>\n",
              "    </tr>\n",
              "    <tr>\n",
              "      <th id=\"T_3d331_level0_row2\" class=\"row_heading level0 row2\" >lr</th>\n",
              "      <td id=\"T_3d331_row2_col0\" class=\"data row2 col0\" >Logistic Regression</td>\n",
              "      <td id=\"T_3d331_row2_col1\" class=\"data row2 col1\" >0.7029</td>\n",
              "      <td id=\"T_3d331_row2_col2\" class=\"data row2 col2\" >0.7722</td>\n",
              "      <td id=\"T_3d331_row2_col3\" class=\"data row2 col3\" >0.7514</td>\n",
              "      <td id=\"T_3d331_row2_col4\" class=\"data row2 col4\" >0.6859</td>\n",
              "      <td id=\"T_3d331_row2_col5\" class=\"data row2 col5\" >0.7158</td>\n",
              "      <td id=\"T_3d331_row2_col6\" class=\"data row2 col6\" >0.4057</td>\n",
              "      <td id=\"T_3d331_row2_col7\" class=\"data row2 col7\" >0.4096</td>\n",
              "      <td id=\"T_3d331_row2_col8\" class=\"data row2 col8\" >0.6620</td>\n",
              "    </tr>\n",
              "    <tr>\n",
              "      <th id=\"T_3d331_level0_row3\" class=\"row_heading level0 row3\" >ridge</th>\n",
              "      <td id=\"T_3d331_row3_col0\" class=\"data row3 col0\" >Ridge Classifier</td>\n",
              "      <td id=\"T_3d331_row3_col1\" class=\"data row3 col1\" >0.6979</td>\n",
              "      <td id=\"T_3d331_row3_col2\" class=\"data row3 col2\" >0.7726</td>\n",
              "      <td id=\"T_3d331_row3_col3\" class=\"data row3 col3\" >0.7571</td>\n",
              "      <td id=\"T_3d331_row3_col4\" class=\"data row3 col4\" >0.6776</td>\n",
              "      <td id=\"T_3d331_row3_col5\" class=\"data row3 col5\" >0.7140</td>\n",
              "      <td id=\"T_3d331_row3_col6\" class=\"data row3 col6\" >0.3957</td>\n",
              "      <td id=\"T_3d331_row3_col7\" class=\"data row3 col7\" >0.4003</td>\n",
              "      <td id=\"T_3d331_row3_col8\" class=\"data row3 col8\" >0.0770</td>\n",
              "    </tr>\n",
              "    <tr>\n",
              "      <th id=\"T_3d331_level0_row4\" class=\"row_heading level0 row4\" >lda</th>\n",
              "      <td id=\"T_3d331_row4_col0\" class=\"data row4 col0\" >Linear Discriminant Analysis</td>\n",
              "      <td id=\"T_3d331_row4_col1\" class=\"data row4 col1\" >0.6979</td>\n",
              "      <td id=\"T_3d331_row4_col2\" class=\"data row4 col2\" >0.7728</td>\n",
              "      <td id=\"T_3d331_row4_col3\" class=\"data row4 col3\" >0.7571</td>\n",
              "      <td id=\"T_3d331_row4_col4\" class=\"data row4 col4\" >0.6776</td>\n",
              "      <td id=\"T_3d331_row4_col5\" class=\"data row4 col5\" >0.7140</td>\n",
              "      <td id=\"T_3d331_row4_col6\" class=\"data row4 col6\" >0.3957</td>\n",
              "      <td id=\"T_3d331_row4_col7\" class=\"data row4 col7\" >0.4003</td>\n",
              "      <td id=\"T_3d331_row4_col8\" class=\"data row4 col8\" >0.0450</td>\n",
              "    </tr>\n",
              "    <tr>\n",
              "      <th id=\"T_3d331_level0_row5\" class=\"row_heading level0 row5\" >svm</th>\n",
              "      <td id=\"T_3d331_row5_col0\" class=\"data row5 col0\" >SVM - Linear Kernel</td>\n",
              "      <td id=\"T_3d331_row5_col1\" class=\"data row5 col1\" >0.6829</td>\n",
              "      <td id=\"T_3d331_row5_col2\" class=\"data row5 col2\" >0.7571</td>\n",
              "      <td id=\"T_3d331_row5_col3\" class=\"data row5 col3\" >0.7257</td>\n",
              "      <td id=\"T_3d331_row5_col4\" class=\"data row5 col4\" >0.6711</td>\n",
              "      <td id=\"T_3d331_row5_col5\" class=\"data row5 col5\" >0.6948</td>\n",
              "      <td id=\"T_3d331_row5_col6\" class=\"data row5 col6\" >0.3657</td>\n",
              "      <td id=\"T_3d331_row5_col7\" class=\"data row5 col7\" >0.3701</td>\n",
              "      <td id=\"T_3d331_row5_col8\" class=\"data row5 col8\" >0.0910</td>\n",
              "    </tr>\n",
              "    <tr>\n",
              "      <th id=\"T_3d331_level0_row6\" class=\"row_heading level0 row6\" >lightgbm</th>\n",
              "      <td id=\"T_3d331_row6_col0\" class=\"data row6 col0\" >Light Gradient Boosting Machine</td>\n",
              "      <td id=\"T_3d331_row6_col1\" class=\"data row6 col1\" >0.6786</td>\n",
              "      <td id=\"T_3d331_row6_col2\" class=\"data row6 col2\" >0.7387</td>\n",
              "      <td id=\"T_3d331_row6_col3\" class=\"data row6 col3\" >0.6900</td>\n",
              "      <td id=\"T_3d331_row6_col4\" class=\"data row6 col4\" >0.6752</td>\n",
              "      <td id=\"T_3d331_row6_col5\" class=\"data row6 col5\" >0.6819</td>\n",
              "      <td id=\"T_3d331_row6_col6\" class=\"data row6 col6\" >0.3571</td>\n",
              "      <td id=\"T_3d331_row6_col7\" class=\"data row6 col7\" >0.3579</td>\n",
              "      <td id=\"T_3d331_row6_col8\" class=\"data row6 col8\" >1.4270</td>\n",
              "    </tr>\n",
              "    <tr>\n",
              "      <th id=\"T_3d331_level0_row7\" class=\"row_heading level0 row7\" >knn</th>\n",
              "      <td id=\"T_3d331_row7_col0\" class=\"data row7 col0\" >K Neighbors Classifier</td>\n",
              "      <td id=\"T_3d331_row7_col1\" class=\"data row7 col1\" >0.6707</td>\n",
              "      <td id=\"T_3d331_row7_col2\" class=\"data row7 col2\" >0.7136</td>\n",
              "      <td id=\"T_3d331_row7_col3\" class=\"data row7 col3\" >0.6700</td>\n",
              "      <td id=\"T_3d331_row7_col4\" class=\"data row7 col4\" >0.6711</td>\n",
              "      <td id=\"T_3d331_row7_col5\" class=\"data row7 col5\" >0.6695</td>\n",
              "      <td id=\"T_3d331_row7_col6\" class=\"data row7 col6\" >0.3414</td>\n",
              "      <td id=\"T_3d331_row7_col7\" class=\"data row7 col7\" >0.3424</td>\n",
              "      <td id=\"T_3d331_row7_col8\" class=\"data row7 col8\" >0.0690</td>\n",
              "    </tr>\n",
              "    <tr>\n",
              "      <th id=\"T_3d331_level0_row8\" class=\"row_heading level0 row8\" >xgboost</th>\n",
              "      <td id=\"T_3d331_row8_col0\" class=\"data row8 col0\" >Extreme Gradient Boosting</td>\n",
              "      <td id=\"T_3d331_row8_col1\" class=\"data row8 col1\" >0.6629</td>\n",
              "      <td id=\"T_3d331_row8_col2\" class=\"data row8 col2\" >0.7130</td>\n",
              "      <td id=\"T_3d331_row8_col3\" class=\"data row8 col3\" >0.6786</td>\n",
              "      <td id=\"T_3d331_row8_col4\" class=\"data row8 col4\" >0.6594</td>\n",
              "      <td id=\"T_3d331_row8_col5\" class=\"data row8 col5\" >0.6679</td>\n",
              "      <td id=\"T_3d331_row8_col6\" class=\"data row8 col6\" >0.3257</td>\n",
              "      <td id=\"T_3d331_row8_col7\" class=\"data row8 col7\" >0.3269</td>\n",
              "      <td id=\"T_3d331_row8_col8\" class=\"data row8 col8\" >0.1520</td>\n",
              "    </tr>\n",
              "    <tr>\n",
              "      <th id=\"T_3d331_level0_row9\" class=\"row_heading level0 row9\" >nb</th>\n",
              "      <td id=\"T_3d331_row9_col0\" class=\"data row9 col0\" >Naive Bayes</td>\n",
              "      <td id=\"T_3d331_row9_col1\" class=\"data row9 col1\" >0.6621</td>\n",
              "      <td id=\"T_3d331_row9_col2\" class=\"data row9 col2\" >0.7485</td>\n",
              "      <td id=\"T_3d331_row9_col3\" class=\"data row9 col3\" >0.8257</td>\n",
              "      <td id=\"T_3d331_row9_col4\" class=\"data row9 col4\" >0.6224</td>\n",
              "      <td id=\"T_3d331_row9_col5\" class=\"data row9 col5\" >0.7093</td>\n",
              "      <td id=\"T_3d331_row9_col6\" class=\"data row9 col6\" >0.3243</td>\n",
              "      <td id=\"T_3d331_row9_col7\" class=\"data row9 col7\" >0.3446</td>\n",
              "      <td id=\"T_3d331_row9_col8\" class=\"data row9 col8\" >0.0450</td>\n",
              "    </tr>\n",
              "    <tr>\n",
              "      <th id=\"T_3d331_level0_row10\" class=\"row_heading level0 row10\" >rf</th>\n",
              "      <td id=\"T_3d331_row10_col0\" class=\"data row10 col0\" >Random Forest Classifier</td>\n",
              "      <td id=\"T_3d331_row10_col1\" class=\"data row10 col1\" >0.6471</td>\n",
              "      <td id=\"T_3d331_row10_col2\" class=\"data row10 col2\" >0.7052</td>\n",
              "      <td id=\"T_3d331_row10_col3\" class=\"data row10 col3\" >0.6657</td>\n",
              "      <td id=\"T_3d331_row10_col4\" class=\"data row10 col4\" >0.6413</td>\n",
              "      <td id=\"T_3d331_row10_col5\" class=\"data row10 col5\" >0.6529</td>\n",
              "      <td id=\"T_3d331_row10_col6\" class=\"data row10 col6\" >0.2943</td>\n",
              "      <td id=\"T_3d331_row10_col7\" class=\"data row10 col7\" >0.2950</td>\n",
              "      <td id=\"T_3d331_row10_col8\" class=\"data row10 col8\" >0.4080</td>\n",
              "    </tr>\n",
              "    <tr>\n",
              "      <th id=\"T_3d331_level0_row11\" class=\"row_heading level0 row11\" >qda</th>\n",
              "      <td id=\"T_3d331_row11_col0\" class=\"data row11 col0\" >Quadratic Discriminant Analysis</td>\n",
              "      <td id=\"T_3d331_row11_col1\" class=\"data row11 col1\" >0.6450</td>\n",
              "      <td id=\"T_3d331_row11_col2\" class=\"data row11 col2\" >0.7413</td>\n",
              "      <td id=\"T_3d331_row11_col3\" class=\"data row11 col3\" >0.8371</td>\n",
              "      <td id=\"T_3d331_row11_col4\" class=\"data row11 col4\" >0.6050</td>\n",
              "      <td id=\"T_3d331_row11_col5\" class=\"data row11 col5\" >0.7019</td>\n",
              "      <td id=\"T_3d331_row11_col6\" class=\"data row11 col6\" >0.2900</td>\n",
              "      <td id=\"T_3d331_row11_col7\" class=\"data row11 col7\" >0.3155</td>\n",
              "      <td id=\"T_3d331_row11_col8\" class=\"data row11 col8\" >0.0430</td>\n",
              "    </tr>\n",
              "    <tr>\n",
              "      <th id=\"T_3d331_level0_row12\" class=\"row_heading level0 row12\" >dt</th>\n",
              "      <td id=\"T_3d331_row12_col0\" class=\"data row12 col0\" >Decision Tree Classifier</td>\n",
              "      <td id=\"T_3d331_row12_col1\" class=\"data row12 col1\" >0.6436</td>\n",
              "      <td id=\"T_3d331_row12_col2\" class=\"data row12 col2\" >0.6251</td>\n",
              "      <td id=\"T_3d331_row12_col3\" class=\"data row12 col3\" >0.6643</td>\n",
              "      <td id=\"T_3d331_row12_col4\" class=\"data row12 col4\" >0.6378</td>\n",
              "      <td id=\"T_3d331_row12_col5\" class=\"data row12 col5\" >0.6501</td>\n",
              "      <td id=\"T_3d331_row12_col6\" class=\"data row12 col6\" >0.2871</td>\n",
              "      <td id=\"T_3d331_row12_col7\" class=\"data row12 col7\" >0.2881</td>\n",
              "      <td id=\"T_3d331_row12_col8\" class=\"data row12 col8\" >0.0450</td>\n",
              "    </tr>\n",
              "    <tr>\n",
              "      <th id=\"T_3d331_level0_row13\" class=\"row_heading level0 row13\" >et</th>\n",
              "      <td id=\"T_3d331_row13_col0\" class=\"data row13 col0\" >Extra Trees Classifier</td>\n",
              "      <td id=\"T_3d331_row13_col1\" class=\"data row13 col1\" >0.6421</td>\n",
              "      <td id=\"T_3d331_row13_col2\" class=\"data row13 col2\" >0.6769</td>\n",
              "      <td id=\"T_3d331_row13_col3\" class=\"data row13 col3\" >0.6529</td>\n",
              "      <td id=\"T_3d331_row13_col4\" class=\"data row13 col4\" >0.6391</td>\n",
              "      <td id=\"T_3d331_row13_col5\" class=\"data row13 col5\" >0.6453</td>\n",
              "      <td id=\"T_3d331_row13_col6\" class=\"data row13 col6\" >0.2843</td>\n",
              "      <td id=\"T_3d331_row13_col7\" class=\"data row13 col7\" >0.2850</td>\n",
              "      <td id=\"T_3d331_row13_col8\" class=\"data row13 col8\" >0.2960</td>\n",
              "    </tr>\n",
              "    <tr>\n",
              "      <th id=\"T_3d331_level0_row14\" class=\"row_heading level0 row14\" >dummy</th>\n",
              "      <td id=\"T_3d331_row14_col0\" class=\"data row14 col0\" >Dummy Classifier</td>\n",
              "      <td id=\"T_3d331_row14_col1\" class=\"data row14 col1\" >0.5000</td>\n",
              "      <td id=\"T_3d331_row14_col2\" class=\"data row14 col2\" >0.5000</td>\n",
              "      <td id=\"T_3d331_row14_col3\" class=\"data row14 col3\" >0.0000</td>\n",
              "      <td id=\"T_3d331_row14_col4\" class=\"data row14 col4\" >0.0000</td>\n",
              "      <td id=\"T_3d331_row14_col5\" class=\"data row14 col5\" >0.0000</td>\n",
              "      <td id=\"T_3d331_row14_col6\" class=\"data row14 col6\" >0.0000</td>\n",
              "      <td id=\"T_3d331_row14_col7\" class=\"data row14 col7\" >0.0000</td>\n",
              "      <td id=\"T_3d331_row14_col8\" class=\"data row14 col8\" >0.0700</td>\n",
              "    </tr>\n",
              "  </tbody>\n",
              "</table>\n"
            ]
          },
          "metadata": {}
        },
        {
          "output_type": "display_data",
          "data": {
            "text/plain": [
              "Processing:   0%|          | 0/65 [00:00<?, ?it/s]"
            ],
            "application/vnd.jupyter.widget-view+json": {
              "version_major": 2,
              "version_minor": 0,
              "model_id": "eeb0eb37ab1c4fe9bbfb11a0f5bbc53a"
            }
          },
          "metadata": {
            "application/vnd.jupyter.widget-view+json": {
              "colab": {
                "custom_widget_manager": {
                  "url": "https://ssl.gstatic.com/colaboratory-static/widgets/colab-cdn-widget-manager/2b70e893a8ba7c0f/manager.min.js"
                }
              }
            }
          }
        },
        {
          "output_type": "display_data",
          "data": {
            "text/plain": [
              "<IPython.core.display.HTML object>"
            ],
            "text/html": []
          },
          "metadata": {}
        }
      ],
      "source": [
        "from pycaret.classification import compare_models\n",
        "\n",
        "best_model = compare_models()"
      ]
    },
    {
      "cell_type": "markdown",
      "id": "171fe029-c1ac-4ff4-abc3-f79871520f5a",
      "metadata": {
        "id": "171fe029-c1ac-4ff4-abc3-f79871520f5a"
      },
      "source": [
        "<details>\n",
        "<summary><i>Answer:</i></summary>\n",
        "\n",
        "The best model is likely the `gradient boosting classifier` - gradient boosted models (of various kinds) often perform the best at competitions so this is not surprising!\n",
        "\n",
        "We should also see that a simple `logistic regression` model performs quite highly, with around 72% accuracy, with scores in a similar range for recall / accuracy.\n",
        "\n",
        "Looking at the performances of the other classifiers, we can also note:\n",
        "\n",
        "- Several classifiers offer relatively similar performances at the top of the ranking, which seems to indicate a global convergence towards an optimum across the different models.\n",
        "\n",
        "- We can observe the Precision/Recall trade-off in the classifiers' scores: models with an especially high score in one should see a corresponding decrease in performance of the other!\n",
        "</details>\n",
        "<br>\n",
        "\n",
        "In my model:     \n",
        "Ada Boost Classifier (Accuracy: 0.7100)\n",
        "Gradient Boosting Classifier (Accuracy: 0.7064)\n",
        "Logistic Regression (Accuracy: 0.7029)\n"
      ]
    },
    {
      "cell_type": "markdown",
      "id": "9c05e39b-9b59-4c21-9823-c91c5cc708fa",
      "metadata": {
        "id": "9c05e39b-9b59-4c21-9823-c91c5cc708fa"
      },
      "source": [
        "f) Display matrix confusion for your best model using plot_model function.\n",
        "\n",
        "(You can refer to the lecture for the correct syntax)"
      ]
    },
    {
      "cell_type": "code",
      "execution_count": 44,
      "id": "3fbb7f95-0200-414b-bcb6-eaf5d8fc4aa5",
      "metadata": {
        "id": "3fbb7f95-0200-414b-bcb6-eaf5d8fc4aa5",
        "colab": {
          "base_uri": "https://localhost:8080/",
          "height": 991,
          "referenced_widgets": [
            "5bf70a634322462e84379dca14cf62d7",
            "4c5da20ee0834e20a574655aa0485a87",
            "76f3de19120749efb428e4c6b382d026",
            "ce2e1dc30be7467b81f57afbcaf881f1",
            "d9e94862af6046e28aaa5e869b6e244e",
            "5ce852fb2bde44de88e52849f000eef3",
            "1ce770b872744e22bedd53d7e0dcc7f1",
            "12fb50360bf1462d93e32f4e4463b6cf",
            "7c49cc763eb641cd8646e25a64925b09",
            "c63912dc643140bf8307b2bfd34435bc",
            "ccede5fd1b9f488aba8c42ae76431606"
          ]
        },
        "outputId": "f9de71b9-63d2-4f52-b3b1-d57cafdb7e6a"
      },
      "outputs": [
        {
          "output_type": "display_data",
          "data": {
            "text/plain": [
              "<IPython.core.display.HTML object>"
            ],
            "text/html": []
          },
          "metadata": {}
        },
        {
          "output_type": "display_data",
          "data": {
            "text/plain": [
              "<pandas.io.formats.style.Styler at 0x7f47dd7d5780>"
            ],
            "text/html": [
              "<style type=\"text/css\">\n",
              "#T_f65ed_row10_col0, #T_f65ed_row10_col1, #T_f65ed_row10_col2, #T_f65ed_row10_col3, #T_f65ed_row10_col4, #T_f65ed_row10_col5, #T_f65ed_row10_col6 {\n",
              "  background: yellow;\n",
              "}\n",
              "</style>\n",
              "<table id=\"T_f65ed\" class=\"dataframe\">\n",
              "  <thead>\n",
              "    <tr>\n",
              "      <th class=\"blank level0\" >&nbsp;</th>\n",
              "      <th id=\"T_f65ed_level0_col0\" class=\"col_heading level0 col0\" >Accuracy</th>\n",
              "      <th id=\"T_f65ed_level0_col1\" class=\"col_heading level0 col1\" >AUC</th>\n",
              "      <th id=\"T_f65ed_level0_col2\" class=\"col_heading level0 col2\" >Recall</th>\n",
              "      <th id=\"T_f65ed_level0_col3\" class=\"col_heading level0 col3\" >Prec.</th>\n",
              "      <th id=\"T_f65ed_level0_col4\" class=\"col_heading level0 col4\" >F1</th>\n",
              "      <th id=\"T_f65ed_level0_col5\" class=\"col_heading level0 col5\" >Kappa</th>\n",
              "      <th id=\"T_f65ed_level0_col6\" class=\"col_heading level0 col6\" >MCC</th>\n",
              "    </tr>\n",
              "    <tr>\n",
              "      <th class=\"index_name level0\" >Fold</th>\n",
              "      <th class=\"blank col0\" >&nbsp;</th>\n",
              "      <th class=\"blank col1\" >&nbsp;</th>\n",
              "      <th class=\"blank col2\" >&nbsp;</th>\n",
              "      <th class=\"blank col3\" >&nbsp;</th>\n",
              "      <th class=\"blank col4\" >&nbsp;</th>\n",
              "      <th class=\"blank col5\" >&nbsp;</th>\n",
              "      <th class=\"blank col6\" >&nbsp;</th>\n",
              "    </tr>\n",
              "  </thead>\n",
              "  <tbody>\n",
              "    <tr>\n",
              "      <th id=\"T_f65ed_level0_row0\" class=\"row_heading level0 row0\" >0</th>\n",
              "      <td id=\"T_f65ed_row0_col0\" class=\"data row0 col0\" >0.7000</td>\n",
              "      <td id=\"T_f65ed_row0_col1\" class=\"data row0 col1\" >0.7382</td>\n",
              "      <td id=\"T_f65ed_row0_col2\" class=\"data row0 col2\" >0.7143</td>\n",
              "      <td id=\"T_f65ed_row0_col3\" class=\"data row0 col3\" >0.6944</td>\n",
              "      <td id=\"T_f65ed_row0_col4\" class=\"data row0 col4\" >0.7042</td>\n",
              "      <td id=\"T_f65ed_row0_col5\" class=\"data row0 col5\" >0.4000</td>\n",
              "      <td id=\"T_f65ed_row0_col6\" class=\"data row0 col6\" >0.4002</td>\n",
              "    </tr>\n",
              "    <tr>\n",
              "      <th id=\"T_f65ed_level0_row1\" class=\"row_heading level0 row1\" >1</th>\n",
              "      <td id=\"T_f65ed_row1_col0\" class=\"data row1 col0\" >0.7286</td>\n",
              "      <td id=\"T_f65ed_row1_col1\" class=\"data row1 col1\" >0.8078</td>\n",
              "      <td id=\"T_f65ed_row1_col2\" class=\"data row1 col2\" >0.6857</td>\n",
              "      <td id=\"T_f65ed_row1_col3\" class=\"data row1 col3\" >0.7500</td>\n",
              "      <td id=\"T_f65ed_row1_col4\" class=\"data row1 col4\" >0.7164</td>\n",
              "      <td id=\"T_f65ed_row1_col5\" class=\"data row1 col5\" >0.4571</td>\n",
              "      <td id=\"T_f65ed_row1_col6\" class=\"data row1 col6\" >0.4588</td>\n",
              "    </tr>\n",
              "    <tr>\n",
              "      <th id=\"T_f65ed_level0_row2\" class=\"row_heading level0 row2\" >2</th>\n",
              "      <td id=\"T_f65ed_row2_col0\" class=\"data row2 col0\" >0.7357</td>\n",
              "      <td id=\"T_f65ed_row2_col1\" class=\"data row2 col1\" >0.7882</td>\n",
              "      <td id=\"T_f65ed_row2_col2\" class=\"data row2 col2\" >0.7714</td>\n",
              "      <td id=\"T_f65ed_row2_col3\" class=\"data row2 col3\" >0.7200</td>\n",
              "      <td id=\"T_f65ed_row2_col4\" class=\"data row2 col4\" >0.7448</td>\n",
              "      <td id=\"T_f65ed_row2_col5\" class=\"data row2 col5\" >0.4714</td>\n",
              "      <td id=\"T_f65ed_row2_col6\" class=\"data row2 col6\" >0.4726</td>\n",
              "    </tr>\n",
              "    <tr>\n",
              "      <th id=\"T_f65ed_level0_row3\" class=\"row_heading level0 row3\" >3</th>\n",
              "      <td id=\"T_f65ed_row3_col0\" class=\"data row3 col0\" >0.6786</td>\n",
              "      <td id=\"T_f65ed_row3_col1\" class=\"data row3 col1\" >0.7517</td>\n",
              "      <td id=\"T_f65ed_row3_col2\" class=\"data row3 col2\" >0.6714</td>\n",
              "      <td id=\"T_f65ed_row3_col3\" class=\"data row3 col3\" >0.6812</td>\n",
              "      <td id=\"T_f65ed_row3_col4\" class=\"data row3 col4\" >0.6763</td>\n",
              "      <td id=\"T_f65ed_row3_col5\" class=\"data row3 col5\" >0.3571</td>\n",
              "      <td id=\"T_f65ed_row3_col6\" class=\"data row3 col6\" >0.3572</td>\n",
              "    </tr>\n",
              "    <tr>\n",
              "      <th id=\"T_f65ed_level0_row4\" class=\"row_heading level0 row4\" >4</th>\n",
              "      <td id=\"T_f65ed_row4_col0\" class=\"data row4 col0\" >0.7429</td>\n",
              "      <td id=\"T_f65ed_row4_col1\" class=\"data row4 col1\" >0.7988</td>\n",
              "      <td id=\"T_f65ed_row4_col2\" class=\"data row4 col2\" >0.8286</td>\n",
              "      <td id=\"T_f65ed_row4_col3\" class=\"data row4 col3\" >0.7073</td>\n",
              "      <td id=\"T_f65ed_row4_col4\" class=\"data row4 col4\" >0.7632</td>\n",
              "      <td id=\"T_f65ed_row4_col5\" class=\"data row4 col5\" >0.4857</td>\n",
              "      <td id=\"T_f65ed_row4_col6\" class=\"data row4 col6\" >0.4930</td>\n",
              "    </tr>\n",
              "    <tr>\n",
              "      <th id=\"T_f65ed_level0_row5\" class=\"row_heading level0 row5\" >5</th>\n",
              "      <td id=\"T_f65ed_row5_col0\" class=\"data row5 col0\" >0.6786</td>\n",
              "      <td id=\"T_f65ed_row5_col1\" class=\"data row5 col1\" >0.7502</td>\n",
              "      <td id=\"T_f65ed_row5_col2\" class=\"data row5 col2\" >0.6286</td>\n",
              "      <td id=\"T_f65ed_row5_col3\" class=\"data row5 col3\" >0.6984</td>\n",
              "      <td id=\"T_f65ed_row5_col4\" class=\"data row5 col4\" >0.6617</td>\n",
              "      <td id=\"T_f65ed_row5_col5\" class=\"data row5 col5\" >0.3571</td>\n",
              "      <td id=\"T_f65ed_row5_col6\" class=\"data row5 col6\" >0.3589</td>\n",
              "    </tr>\n",
              "    <tr>\n",
              "      <th id=\"T_f65ed_level0_row6\" class=\"row_heading level0 row6\" >6</th>\n",
              "      <td id=\"T_f65ed_row6_col0\" class=\"data row6 col0\" >0.7286</td>\n",
              "      <td id=\"T_f65ed_row6_col1\" class=\"data row6 col1\" >0.7932</td>\n",
              "      <td id=\"T_f65ed_row6_col2\" class=\"data row6 col2\" >0.7286</td>\n",
              "      <td id=\"T_f65ed_row6_col3\" class=\"data row6 col3\" >0.7286</td>\n",
              "      <td id=\"T_f65ed_row6_col4\" class=\"data row6 col4\" >0.7286</td>\n",
              "      <td id=\"T_f65ed_row6_col5\" class=\"data row6 col5\" >0.4571</td>\n",
              "      <td id=\"T_f65ed_row6_col6\" class=\"data row6 col6\" >0.4571</td>\n",
              "    </tr>\n",
              "    <tr>\n",
              "      <th id=\"T_f65ed_level0_row7\" class=\"row_heading level0 row7\" >7</th>\n",
              "      <td id=\"T_f65ed_row7_col0\" class=\"data row7 col0\" >0.6929</td>\n",
              "      <td id=\"T_f65ed_row7_col1\" class=\"data row7 col1\" >0.7522</td>\n",
              "      <td id=\"T_f65ed_row7_col2\" class=\"data row7 col2\" >0.6143</td>\n",
              "      <td id=\"T_f65ed_row7_col3\" class=\"data row7 col3\" >0.7288</td>\n",
              "      <td id=\"T_f65ed_row7_col4\" class=\"data row7 col4\" >0.6667</td>\n",
              "      <td id=\"T_f65ed_row7_col5\" class=\"data row7 col5\" >0.3857</td>\n",
              "      <td id=\"T_f65ed_row7_col6\" class=\"data row7 col6\" >0.3906</td>\n",
              "    </tr>\n",
              "    <tr>\n",
              "      <th id=\"T_f65ed_level0_row8\" class=\"row_heading level0 row8\" >8</th>\n",
              "      <td id=\"T_f65ed_row8_col0\" class=\"data row8 col0\" >0.6786</td>\n",
              "      <td id=\"T_f65ed_row8_col1\" class=\"data row8 col1\" >0.7785</td>\n",
              "      <td id=\"T_f65ed_row8_col2\" class=\"data row8 col2\" >0.6571</td>\n",
              "      <td id=\"T_f65ed_row8_col3\" class=\"data row8 col3\" >0.6866</td>\n",
              "      <td id=\"T_f65ed_row8_col4\" class=\"data row8 col4\" >0.6715</td>\n",
              "      <td id=\"T_f65ed_row8_col5\" class=\"data row8 col5\" >0.3571</td>\n",
              "      <td id=\"T_f65ed_row8_col6\" class=\"data row8 col6\" >0.3575</td>\n",
              "    </tr>\n",
              "    <tr>\n",
              "      <th id=\"T_f65ed_level0_row9\" class=\"row_heading level0 row9\" >9</th>\n",
              "      <td id=\"T_f65ed_row9_col0\" class=\"data row9 col0\" >0.7357</td>\n",
              "      <td id=\"T_f65ed_row9_col1\" class=\"data row9 col1\" >0.8004</td>\n",
              "      <td id=\"T_f65ed_row9_col2\" class=\"data row9 col2\" >0.7429</td>\n",
              "      <td id=\"T_f65ed_row9_col3\" class=\"data row9 col3\" >0.7324</td>\n",
              "      <td id=\"T_f65ed_row9_col4\" class=\"data row9 col4\" >0.7376</td>\n",
              "      <td id=\"T_f65ed_row9_col5\" class=\"data row9 col5\" >0.4714</td>\n",
              "      <td id=\"T_f65ed_row9_col6\" class=\"data row9 col6\" >0.4715</td>\n",
              "    </tr>\n",
              "    <tr>\n",
              "      <th id=\"T_f65ed_level0_row10\" class=\"row_heading level0 row10\" >Mean</th>\n",
              "      <td id=\"T_f65ed_row10_col0\" class=\"data row10 col0\" >0.7100</td>\n",
              "      <td id=\"T_f65ed_row10_col1\" class=\"data row10 col1\" >0.7759</td>\n",
              "      <td id=\"T_f65ed_row10_col2\" class=\"data row10 col2\" >0.7043</td>\n",
              "      <td id=\"T_f65ed_row10_col3\" class=\"data row10 col3\" >0.7128</td>\n",
              "      <td id=\"T_f65ed_row10_col4\" class=\"data row10 col4\" >0.7071</td>\n",
              "      <td id=\"T_f65ed_row10_col5\" class=\"data row10 col5\" >0.4200</td>\n",
              "      <td id=\"T_f65ed_row10_col6\" class=\"data row10 col6\" >0.4217</td>\n",
              "    </tr>\n",
              "    <tr>\n",
              "      <th id=\"T_f65ed_level0_row11\" class=\"row_heading level0 row11\" >Std</th>\n",
              "      <td id=\"T_f65ed_row11_col0\" class=\"data row11 col0\" >0.0254</td>\n",
              "      <td id=\"T_f65ed_row11_col1\" class=\"data row11 col1\" >0.0241</td>\n",
              "      <td id=\"T_f65ed_row11_col2\" class=\"data row11 col2\" >0.0629</td>\n",
              "      <td id=\"T_f65ed_row11_col3\" class=\"data row11 col3\" >0.0214</td>\n",
              "      <td id=\"T_f65ed_row11_col4\" class=\"data row11 col4\" >0.0346</td>\n",
              "      <td id=\"T_f65ed_row11_col5\" class=\"data row11 col5\" >0.0508</td>\n",
              "      <td id=\"T_f65ed_row11_col6\" class=\"data row11 col6\" >0.0514</td>\n",
              "    </tr>\n",
              "  </tbody>\n",
              "</table>\n"
            ]
          },
          "metadata": {}
        },
        {
          "output_type": "display_data",
          "data": {
            "text/plain": [
              "Processing:   0%|          | 0/4 [00:00<?, ?it/s]"
            ],
            "application/vnd.jupyter.widget-view+json": {
              "version_major": 2,
              "version_minor": 0,
              "model_id": "5bf70a634322462e84379dca14cf62d7"
            }
          },
          "metadata": {
            "application/vnd.jupyter.widget-view+json": {
              "colab": {
                "custom_widget_manager": {
                  "url": "https://ssl.gstatic.com/colaboratory-static/widgets/colab-cdn-widget-manager/2b70e893a8ba7c0f/manager.min.js"
                }
              }
            }
          }
        },
        {
          "output_type": "display_data",
          "data": {
            "text/plain": [
              "<IPython.core.display.HTML object>"
            ],
            "text/html": []
          },
          "metadata": {}
        },
        {
          "output_type": "display_data",
          "data": {
            "text/plain": [
              "<IPython.core.display.HTML object>"
            ],
            "text/html": []
          },
          "metadata": {}
        },
        {
          "output_type": "display_data",
          "data": {
            "text/plain": [
              "<Figure size 800x550 with 1 Axes>"
            ],
            "image/png": "[encoded data removed]"
          },
          "metadata": {}
        }
      ],
      "source": [
        "from pycaret.classification import create_model, plot_model\n",
        "\n",
        "# Identify the best model based on accuracy #\n",
        "best_model = create_model('ada')  # Ada Boost Classifier\n",
        "\n",
        "# Plot the confusion matrix for the best model #\n",
        "plot_model(best_model, plot='confusion_matrix')\n"
      ]
    },
    {
      "cell_type": "markdown",
      "id": "bfa845c9-75da-4ec6-a313-84c6da5a7908",
      "metadata": {
        "id": "bfa845c9-75da-4ec6-a313-84c6da5a7908"
      },
      "source": [
        "g) Every model has different parameters that you can fine-tune. As with choosing the intial model, we can use PyCaret to find us the best parameters of our model!\n",
        "\n",
        "This can be done with a simple call to the `tune_model` function, [described here](https://pycaret.org/tune-model/).\n",
        "\n",
        "Execute cell below. Has the performance of our best model improved?"
      ]
    },
    {
      "cell_type": "code",
      "execution_count": 45,
      "id": "8f971de4-f87d-4da3-a4fb-2061d28c6bb5",
      "metadata": {
        "id": "8f971de4-f87d-4da3-a4fb-2061d28c6bb5",
        "colab": {
          "base_uri": "https://localhost:8080/",
          "height": 474,
          "referenced_widgets": [
            "aea9434e7f8b40dbb27e4420e2763021",
            "6c0fd94c6e994e7fad38648e5636b368",
            "16566860c97349338e816dbba21c2690",
            "5715f285bf974485a2f3b5e42237c487",
            "ef795ce9e346448a80591c7c4d389836",
            "314b412f06054905916a4fbb91d2cd9a",
            "7ca1b19462bd4971bac111944e823706",
            "e1fcbb62958b4ba6b7d4f2c81c2aaccc",
            "9c889670ffaf4bb6ba89b0b0941bbb77",
            "4d6f6734674e4e39a6d2ea337a256ff1",
            "cd1fcb1fcb804f86b595326e3c76872d"
          ]
        },
        "outputId": "a1058fc5-5a1e-4a35-f53d-da9921e5eaf4"
      },
      "outputs": [
        {
          "output_type": "display_data",
          "data": {
            "text/plain": [
              "<IPython.core.display.HTML object>"
            ],
            "text/html": []
          },
          "metadata": {}
        },
        {
          "output_type": "display_data",
          "data": {
            "text/plain": [
              "<pandas.io.formats.style.Styler at 0x7f47dd7d5750>"
            ],
            "text/html": [
              "<style type=\"text/css\">\n",
              "#T_a39a6_row10_col0, #T_a39a6_row10_col1, #T_a39a6_row10_col2, #T_a39a6_row10_col3, #T_a39a6_row10_col4, #T_a39a6_row10_col5, #T_a39a6_row10_col6 {\n",
              "  background: yellow;\n",
              "}\n",
              "</style>\n",
              "<table id=\"T_a39a6\" class=\"dataframe\">\n",
              "  <thead>\n",
              "    <tr>\n",
              "      <th class=\"blank level0\" >&nbsp;</th>\n",
              "      <th id=\"T_a39a6_level0_col0\" class=\"col_heading level0 col0\" >Accuracy</th>\n",
              "      <th id=\"T_a39a6_level0_col1\" class=\"col_heading level0 col1\" >AUC</th>\n",
              "      <th id=\"T_a39a6_level0_col2\" class=\"col_heading level0 col2\" >Recall</th>\n",
              "      <th id=\"T_a39a6_level0_col3\" class=\"col_heading level0 col3\" >Prec.</th>\n",
              "      <th id=\"T_a39a6_level0_col4\" class=\"col_heading level0 col4\" >F1</th>\n",
              "      <th id=\"T_a39a6_level0_col5\" class=\"col_heading level0 col5\" >Kappa</th>\n",
              "      <th id=\"T_a39a6_level0_col6\" class=\"col_heading level0 col6\" >MCC</th>\n",
              "    </tr>\n",
              "    <tr>\n",
              "      <th class=\"index_name level0\" >Fold</th>\n",
              "      <th class=\"blank col0\" >&nbsp;</th>\n",
              "      <th class=\"blank col1\" >&nbsp;</th>\n",
              "      <th class=\"blank col2\" >&nbsp;</th>\n",
              "      <th class=\"blank col3\" >&nbsp;</th>\n",
              "      <th class=\"blank col4\" >&nbsp;</th>\n",
              "      <th class=\"blank col5\" >&nbsp;</th>\n",
              "      <th class=\"blank col6\" >&nbsp;</th>\n",
              "    </tr>\n",
              "  </thead>\n",
              "  <tbody>\n",
              "    <tr>\n",
              "      <th id=\"T_a39a6_level0_row0\" class=\"row_heading level0 row0\" >0</th>\n",
              "      <td id=\"T_a39a6_row0_col0\" class=\"data row0 col0\" >0.6857</td>\n",
              "      <td id=\"T_a39a6_row0_col1\" class=\"data row0 col1\" >0.7450</td>\n",
              "      <td id=\"T_a39a6_row0_col2\" class=\"data row0 col2\" >0.6857</td>\n",
              "      <td id=\"T_a39a6_row0_col3\" class=\"data row0 col3\" >0.6857</td>\n",
              "      <td id=\"T_a39a6_row0_col4\" class=\"data row0 col4\" >0.6857</td>\n",
              "      <td id=\"T_a39a6_row0_col5\" class=\"data row0 col5\" >0.3714</td>\n",
              "      <td id=\"T_a39a6_row0_col6\" class=\"data row0 col6\" >0.3714</td>\n",
              "    </tr>\n",
              "    <tr>\n",
              "      <th id=\"T_a39a6_level0_row1\" class=\"row_heading level0 row1\" >1</th>\n",
              "      <td id=\"T_a39a6_row1_col0\" class=\"data row1 col0\" >0.7357</td>\n",
              "      <td id=\"T_a39a6_row1_col1\" class=\"data row1 col1\" >0.7986</td>\n",
              "      <td id=\"T_a39a6_row1_col2\" class=\"data row1 col2\" >0.6857</td>\n",
              "      <td id=\"T_a39a6_row1_col3\" class=\"data row1 col3\" >0.7619</td>\n",
              "      <td id=\"T_a39a6_row1_col4\" class=\"data row1 col4\" >0.7218</td>\n",
              "      <td id=\"T_a39a6_row1_col5\" class=\"data row1 col5\" >0.4714</td>\n",
              "      <td id=\"T_a39a6_row1_col6\" class=\"data row1 col6\" >0.4738</td>\n",
              "    </tr>\n",
              "    <tr>\n",
              "      <th id=\"T_a39a6_level0_row2\" class=\"row_heading level0 row2\" >2</th>\n",
              "      <td id=\"T_a39a6_row2_col0\" class=\"data row2 col0\" >0.7143</td>\n",
              "      <td id=\"T_a39a6_row2_col1\" class=\"data row2 col1\" >0.7976</td>\n",
              "      <td id=\"T_a39a6_row2_col2\" class=\"data row2 col2\" >0.7000</td>\n",
              "      <td id=\"T_a39a6_row2_col3\" class=\"data row2 col3\" >0.7206</td>\n",
              "      <td id=\"T_a39a6_row2_col4\" class=\"data row2 col4\" >0.7101</td>\n",
              "      <td id=\"T_a39a6_row2_col5\" class=\"data row2 col5\" >0.4286</td>\n",
              "      <td id=\"T_a39a6_row2_col6\" class=\"data row2 col6\" >0.4287</td>\n",
              "    </tr>\n",
              "    <tr>\n",
              "      <th id=\"T_a39a6_level0_row3\" class=\"row_heading level0 row3\" >3</th>\n",
              "      <td id=\"T_a39a6_row3_col0\" class=\"data row3 col0\" >0.6714</td>\n",
              "      <td id=\"T_a39a6_row3_col1\" class=\"data row3 col1\" >0.7516</td>\n",
              "      <td id=\"T_a39a6_row3_col2\" class=\"data row3 col2\" >0.6857</td>\n",
              "      <td id=\"T_a39a6_row3_col3\" class=\"data row3 col3\" >0.6667</td>\n",
              "      <td id=\"T_a39a6_row3_col4\" class=\"data row3 col4\" >0.6761</td>\n",
              "      <td id=\"T_a39a6_row3_col5\" class=\"data row3 col5\" >0.3429</td>\n",
              "      <td id=\"T_a39a6_row3_col6\" class=\"data row3 col6\" >0.3430</td>\n",
              "    </tr>\n",
              "    <tr>\n",
              "      <th id=\"T_a39a6_level0_row4\" class=\"row_heading level0 row4\" >4</th>\n",
              "      <td id=\"T_a39a6_row4_col0\" class=\"data row4 col0\" >0.7429</td>\n",
              "      <td id=\"T_a39a6_row4_col1\" class=\"data row4 col1\" >0.8059</td>\n",
              "      <td id=\"T_a39a6_row4_col2\" class=\"data row4 col2\" >0.8429</td>\n",
              "      <td id=\"T_a39a6_row4_col3\" class=\"data row4 col3\" >0.7024</td>\n",
              "      <td id=\"T_a39a6_row4_col4\" class=\"data row4 col4\" >0.7662</td>\n",
              "      <td id=\"T_a39a6_row4_col5\" class=\"data row4 col5\" >0.4857</td>\n",
              "      <td id=\"T_a39a6_row4_col6\" class=\"data row4 col6\" >0.4957</td>\n",
              "    </tr>\n",
              "    <tr>\n",
              "      <th id=\"T_a39a6_level0_row5\" class=\"row_heading level0 row5\" >5</th>\n",
              "      <td id=\"T_a39a6_row5_col0\" class=\"data row5 col0\" >0.7143</td>\n",
              "      <td id=\"T_a39a6_row5_col1\" class=\"data row5 col1\" >0.7786</td>\n",
              "      <td id=\"T_a39a6_row5_col2\" class=\"data row5 col2\" >0.6571</td>\n",
              "      <td id=\"T_a39a6_row5_col3\" class=\"data row5 col3\" >0.7419</td>\n",
              "      <td id=\"T_a39a6_row5_col4\" class=\"data row5 col4\" >0.6970</td>\n",
              "      <td id=\"T_a39a6_row5_col5\" class=\"data row5 col5\" >0.4286</td>\n",
              "      <td id=\"T_a39a6_row5_col6\" class=\"data row5 col6\" >0.4314</td>\n",
              "    </tr>\n",
              "    <tr>\n",
              "      <th id=\"T_a39a6_level0_row6\" class=\"row_heading level0 row6\" >6</th>\n",
              "      <td id=\"T_a39a6_row6_col0\" class=\"data row6 col0\" >0.7286</td>\n",
              "      <td id=\"T_a39a6_row6_col1\" class=\"data row6 col1\" >0.8063</td>\n",
              "      <td id=\"T_a39a6_row6_col2\" class=\"data row6 col2\" >0.7286</td>\n",
              "      <td id=\"T_a39a6_row6_col3\" class=\"data row6 col3\" >0.7286</td>\n",
              "      <td id=\"T_a39a6_row6_col4\" class=\"data row6 col4\" >0.7286</td>\n",
              "      <td id=\"T_a39a6_row6_col5\" class=\"data row6 col5\" >0.4571</td>\n",
              "      <td id=\"T_a39a6_row6_col6\" class=\"data row6 col6\" >0.4571</td>\n",
              "    </tr>\n",
              "    <tr>\n",
              "      <th id=\"T_a39a6_level0_row7\" class=\"row_heading level0 row7\" >7</th>\n",
              "      <td id=\"T_a39a6_row7_col0\" class=\"data row7 col0\" >0.7143</td>\n",
              "      <td id=\"T_a39a6_row7_col1\" class=\"data row7 col1\" >0.7677</td>\n",
              "      <td id=\"T_a39a6_row7_col2\" class=\"data row7 col2\" >0.6429</td>\n",
              "      <td id=\"T_a39a6_row7_col3\" class=\"data row7 col3\" >0.7500</td>\n",
              "      <td id=\"T_a39a6_row7_col4\" class=\"data row7 col4\" >0.6923</td>\n",
              "      <td id=\"T_a39a6_row7_col5\" class=\"data row7 col5\" >0.4286</td>\n",
              "      <td id=\"T_a39a6_row7_col6\" class=\"data row7 col6\" >0.4330</td>\n",
              "    </tr>\n",
              "    <tr>\n",
              "      <th id=\"T_a39a6_level0_row8\" class=\"row_heading level0 row8\" >8</th>\n",
              "      <td id=\"T_a39a6_row8_col0\" class=\"data row8 col0\" >0.7143</td>\n",
              "      <td id=\"T_a39a6_row8_col1\" class=\"data row8 col1\" >0.7889</td>\n",
              "      <td id=\"T_a39a6_row8_col2\" class=\"data row8 col2\" >0.7143</td>\n",
              "      <td id=\"T_a39a6_row8_col3\" class=\"data row8 col3\" >0.7143</td>\n",
              "      <td id=\"T_a39a6_row8_col4\" class=\"data row8 col4\" >0.7143</td>\n",
              "      <td id=\"T_a39a6_row8_col5\" class=\"data row8 col5\" >0.4286</td>\n",
              "      <td id=\"T_a39a6_row8_col6\" class=\"data row8 col6\" >0.4286</td>\n",
              "    </tr>\n",
              "    <tr>\n",
              "      <th id=\"T_a39a6_level0_row9\" class=\"row_heading level0 row9\" >9</th>\n",
              "      <td id=\"T_a39a6_row9_col0\" class=\"data row9 col0\" >0.7429</td>\n",
              "      <td id=\"T_a39a6_row9_col1\" class=\"data row9 col1\" >0.8136</td>\n",
              "      <td id=\"T_a39a6_row9_col2\" class=\"data row9 col2\" >0.7571</td>\n",
              "      <td id=\"T_a39a6_row9_col3\" class=\"data row9 col3\" >0.7361</td>\n",
              "      <td id=\"T_a39a6_row9_col4\" class=\"data row9 col4\" >0.7465</td>\n",
              "      <td id=\"T_a39a6_row9_col5\" class=\"data row9 col5\" >0.4857</td>\n",
              "      <td id=\"T_a39a6_row9_col6\" class=\"data row9 col6\" >0.4859</td>\n",
              "    </tr>\n",
              "    <tr>\n",
              "      <th id=\"T_a39a6_level0_row10\" class=\"row_heading level0 row10\" >Mean</th>\n",
              "      <td id=\"T_a39a6_row10_col0\" class=\"data row10 col0\" >0.7164</td>\n",
              "      <td id=\"T_a39a6_row10_col1\" class=\"data row10 col1\" >0.7854</td>\n",
              "      <td id=\"T_a39a6_row10_col2\" class=\"data row10 col2\" >0.7100</td>\n",
              "      <td id=\"T_a39a6_row10_col3\" class=\"data row10 col3\" >0.7208</td>\n",
              "      <td id=\"T_a39a6_row10_col4\" class=\"data row10 col4\" >0.7139</td>\n",
              "      <td id=\"T_a39a6_row10_col5\" class=\"data row10 col5\" >0.4329</td>\n",
              "      <td id=\"T_a39a6_row10_col6\" class=\"data row10 col6\" >0.4349</td>\n",
              "    </tr>\n",
              "    <tr>\n",
              "      <th id=\"T_a39a6_level0_row11\" class=\"row_heading level0 row11\" >Std</th>\n",
              "      <td id=\"T_a39a6_row11_col0\" class=\"data row11 col0\" >0.0221</td>\n",
              "      <td id=\"T_a39a6_row11_col1\" class=\"data row11 col1\" >0.0226</td>\n",
              "      <td id=\"T_a39a6_row11_col2\" class=\"data row11 col2\" >0.0542</td>\n",
              "      <td id=\"T_a39a6_row11_col3\" class=\"data row11 col3\" >0.0280</td>\n",
              "      <td id=\"T_a39a6_row11_col4\" class=\"data row11 col4\" >0.0266</td>\n",
              "      <td id=\"T_a39a6_row11_col5\" class=\"data row11 col5\" >0.0443</td>\n",
              "      <td id=\"T_a39a6_row11_col6\" class=\"data row11 col6\" >0.0457</td>\n",
              "    </tr>\n",
              "  </tbody>\n",
              "</table>\n"
            ]
          },
          "metadata": {}
        },
        {
          "output_type": "display_data",
          "data": {
            "text/plain": [
              "Processing:   0%|          | 0/7 [00:00<?, ?it/s]"
            ],
            "application/vnd.jupyter.widget-view+json": {
              "version_major": 2,
              "version_minor": 0,
              "model_id": "aea9434e7f8b40dbb27e4420e2763021"
            }
          },
          "metadata": {
            "application/vnd.jupyter.widget-view+json": {
              "colab": {
                "custom_widget_manager": {
                  "url": "https://ssl.gstatic.com/colaboratory-static/widgets/colab-cdn-widget-manager/2b70e893a8ba7c0f/manager.min.js"
                }
              }
            }
          }
        },
        {
          "output_type": "stream",
          "name": "stdout",
          "text": [
            "Fitting 10 folds for each of 10 candidates, totalling 100 fits\n"
          ]
        },
        {
          "output_type": "display_data",
          "data": {
            "text/plain": [
              "<IPython.core.display.HTML object>"
            ],
            "text/html": []
          },
          "metadata": {}
        }
      ],
      "source": [
        "from pycaret.classification import tune_model\n",
        "\n",
        "best_model_tuned = tune_model(best_model)"
      ]
    },
    {
      "cell_type": "markdown",
      "id": "n6Nk3cNakw4C",
      "metadata": {
        "id": "n6Nk3cNakw4C"
      },
      "source": [
        "We can also see the exact parameters that were chosing during the model tuning by running the cell below:"
      ]
    },
    {
      "cell_type": "code",
      "execution_count": 46,
      "id": "pE0zFz9ykp8E",
      "metadata": {
        "id": "pE0zFz9ykp8E",
        "colab": {
          "base_uri": "https://localhost:8080/"
        },
        "outputId": "bb9b8ea0-3ea1-4de2-dbc5-2fde2cae44d7"
      },
      "outputs": [
        {
          "output_type": "execute_result",
          "data": {
            "text/plain": [
              "{'algorithm': 'SAMME',\n",
              " 'estimator': None,\n",
              " 'learning_rate': 0.3,\n",
              " 'n_estimators': 190,\n",
              " 'random_state': 42}"
            ]
          },
          "metadata": {},
          "execution_count": 46
        }
      ],
      "source": [
        "best_model_tuned.get_params()"
      ]
    },
    {
      "cell_type": "markdown",
      "id": "UPpAkAIpEc10",
      "metadata": {
        "id": "UPpAkAIpEc10"
      },
      "source": [
        "<details>\n",
        "<summary><i>Answer:</i></summary>\n",
        "\n",
        "Each fold is a specific split of our data.\n",
        "\n",
        "If we look at the 'mean' row, the overall performance is not really better. So it seems like tuning our model didn't improve our scores of the default values!\n",
        "</details>\n",
        "<br>\n",
        "\n",
        "\n"
      ]
    },
    {
      "cell_type": "markdown",
      "id": "257181fc-2b25-429a-9a2a-bbebf6c3fe81",
      "metadata": {
        "id": "257181fc-2b25-429a-9a2a-bbebf6c3fe81"
      },
      "source": [
        "h) We might also want to know exactly which features were most important to our model out of the data that was fed in.\n",
        "\n",
        "To create the features importance graph, call the function `plot_model()` with the model of your choice and add the argument plot=\"feature\".\n",
        "\n",
        "How do you interpret these values?"
      ]
    },
    {
      "cell_type": "code",
      "execution_count": 48,
      "id": "e1413e6a-f7a5-44ed-b7f1-bae7778e2690",
      "metadata": {
        "id": "e1413e6a-f7a5-44ed-b7f1-bae7778e2690",
        "colab": {
          "base_uri": "https://localhost:8080/",
          "height": 485
        },
        "outputId": "fcf740f0-0348-465a-ccda-16b3347b173e"
      },
      "outputs": [
        {
          "output_type": "display_data",
          "data": {
            "text/plain": [
              "<IPython.core.display.HTML object>"
            ],
            "text/html": []
          },
          "metadata": {}
        },
        {
          "output_type": "display_data",
          "data": {
            "text/plain": [
              "<Figure size 800x500 with 1 Axes>"
            ],
            "image/png": "[encoded data removed]"
          },
          "metadata": {}
        }
      ],
      "source": [
        "from pycaret.classification import plot_model\n",
        "\n",
        "# Best model (Ada Boost Classifier) #\n",
        "plot_model(best_model, plot='feature')"
      ]
    }
  ],
  "metadata": {
    "colab": {
      "provenance": [],
      "include_colab_link": true
    },
    "kernelspec": {
      "display_name": "Python 3",
      "language": "python",
      "name": "python3"
    },
    "language_info": {
      "codemirror_mode": {
        "name": "ipython",
        "version": 3
      },
      "file_extension": ".py",
      "mimetype": "text/x-python",
      "name": "python",
      "nbconvert_exporter": "python",
      "pygments_lexer": "ipython3",
      "version": "3.10.6"
    },
    "widgets": {
      "application/vnd.jupyter.widget-state+json": {
        "eeb0eb37ab1c4fe9bbfb11a0f5bbc53a": {
          "model_module": "@jupyter-widgets/controls",
          "model_name": "HBoxModel",
          "model_module_version": "1.5.0",
          "state": {
            "_dom_classes": [],
            "_model_module": "@jupyter-widgets/controls",
            "_model_module_version": "1.5.0",
            "_model_name": "HBoxModel",
            "_view_count": null,
            "_view_module": "@jupyter-widgets/controls",
            "_view_module_version": "1.5.0",
            "_view_name": "HBoxView",
            "box_style": "",
            "children": [
              "IPY_MODEL_da5d044841e1473cb8bc4afa621d93ed",
              "IPY_MODEL_f9e41c1ece9f4c4cb9fdad517139e879",
              "IPY_MODEL_472a7a9aff3a4204a5c2fc646a8c268d"
            ],
            "layout": "IPY_MODEL_93c77d7c98f14acd863e20e8bcdf68bc"
          }
        },
        "da5d044841e1473cb8bc4afa621d93ed": {
          "model_module": "@jupyter-widgets/controls",
          "model_name": "HTMLModel",
          "model_module_version": "1.5.0",
          "state": {
            "_dom_classes": [],
            "_model_module": "@jupyter-widgets/controls",
            "_model_module_version": "1.5.0",
            "_model_name": "HTMLModel",
            "_view_count": null,
            "_view_module": "@jupyter-widgets/controls",
            "_view_module_version": "1.5.0",
            "_view_name": "HTMLView",
            "description": "",
            "description_tooltip": null,
            "layout": "IPY_MODEL_721121da07c34d6f8befee1c7319c30f",
            "placeholder": "​",
            "style": "IPY_MODEL_57c71c1ff0754ba9bcc075fdad81d3b7",
            "value": "Processing: 100%"
          }
        },
        "f9e41c1ece9f4c4cb9fdad517139e879": {
          "model_module": "@jupyter-widgets/controls",
          "model_name": "FloatProgressModel",
          "model_module_version": "1.5.0",
          "state": {
            "_dom_classes": [],
            "_model_module": "@jupyter-widgets/controls",
            "_model_module_version": "1.5.0",
            "_model_name": "FloatProgressModel",
            "_view_count": null,
            "_view_module": "@jupyter-widgets/controls",
            "_view_module_version": "1.5.0",
            "_view_name": "ProgressView",
            "bar_style": "",
            "description": "",
            "description_tooltip": null,
            "layout": "IPY_MODEL_543844f99f7e49f382a0143a04634b28",
            "max": 65,
            "min": 0,
            "orientation": "horizontal",
            "style": "IPY_MODEL_ff0a788eeafe4c958f88e693347b2a5d",
            "value": 65
          }
        },
        "472a7a9aff3a4204a5c2fc646a8c268d": {
          "model_module": "@jupyter-widgets/controls",
          "model_name": "HTMLModel",
          "model_module_version": "1.5.0",
          "state": {
            "_dom_classes": [],
            "_model_module": "@jupyter-widgets/controls",
            "_model_module_version": "1.5.0",
            "_model_name": "HTMLModel",
            "_view_count": null,
            "_view_module": "@jupyter-widgets/controls",
            "_view_module_version": "1.5.0",
            "_view_name": "HTMLView",
            "description": "",
            "description_tooltip": null,
            "layout": "IPY_MODEL_3a6eae6f96884cf2a90b71d177e29e17",
            "placeholder": "​",
            "style": "IPY_MODEL_9753dd2509f54179af3c83ea210763f2",
            "value": " 65/65 [00:44&lt;00:00,  1.25it/s]"
          }
        },
        "93c77d7c98f14acd863e20e8bcdf68bc": {
          "model_module": "@jupyter-widgets/base",
          "model_name": "LayoutModel",
          "model_module_version": "1.2.0",
          "state": {
            "_model_module": "@jupyter-widgets/base",
            "_model_module_version": "1.2.0",
            "_model_name": "LayoutModel",
            "_view_count": null,
            "_view_module": "@jupyter-widgets/base",
            "_view_module_version": "1.2.0",
            "_view_name": "LayoutView",
            "align_content": null,
            "align_items": null,
            "align_self": null,
            "border": null,
            "bottom": null,
            "display": null,
            "flex": null,
            "flex_flow": null,
            "grid_area": null,
            "grid_auto_columns": null,
            "grid_auto_flow": null,
            "grid_auto_rows": null,
            "grid_column": null,
            "grid_gap": null,
            "grid_row": null,
            "grid_template_areas": null,
            "grid_template_columns": null,
            "grid_template_rows": null,
            "height": null,
            "justify_content": null,
            "justify_items": null,
            "left": null,
            "margin": null,
            "max_height": null,
            "max_width": null,
            "min_height": null,
            "min_width": null,
            "object_fit": null,
            "object_position": null,
            "order": null,
            "overflow": null,
            "overflow_x": null,
            "overflow_y": null,
            "padding": null,
            "right": null,
            "top": null,
            "visibility": "hidden",
            "width": null
          }
        },
        "721121da07c34d6f8befee1c7319c30f": {
          "model_module": "@jupyter-widgets/base",
          "model_name": "LayoutModel",
          "model_module_version": "1.2.0",
          "state": {
            "_model_module": "@jupyter-widgets/base",
            "_model_module_version": "1.2.0",
            "_model_name": "LayoutModel",
            "_view_count": null,
            "_view_module": "@jupyter-widgets/base",
            "_view_module_version": "1.2.0",
            "_view_name": "LayoutView",
            "align_content": null,
            "align_items": null,
            "align_self": null,
            "border": null,
            "bottom": null,
            "display": null,
            "flex": null,
            "flex_flow": null,
            "grid_area": null,
            "grid_auto_columns": null,
            "grid_auto_flow": null,
            "grid_auto_rows": null,
            "grid_column": null,
            "grid_gap": null,
            "grid_row": null,
            "grid_template_areas": null,
            "grid_template_columns": null,
            "grid_template_rows": null,
            "height": null,
            "justify_content": null,
            "justify_items": null,
            "left": null,
            "margin": null,
            "max_height": null,
            "max_width": null,
            "min_height": null,
            "min_width": null,
            "object_fit": null,
            "object_position": null,
            "order": null,
            "overflow": null,
            "overflow_x": null,
            "overflow_y": null,
            "padding": null,
            "right": null,
            "top": null,
            "visibility": null,
            "width": null
          }
        },
        "57c71c1ff0754ba9bcc075fdad81d3b7": {
          "model_module": "@jupyter-widgets/controls",
          "model_name": "DescriptionStyleModel",
          "model_module_version": "1.5.0",
          "state": {
            "_model_module": "@jupyter-widgets/controls",
            "_model_module_version": "1.5.0",
            "_model_name": "DescriptionStyleModel",
            "_view_count": null,
            "_view_module": "@jupyter-widgets/base",
            "_view_module_version": "1.2.0",
            "_view_name": "StyleView",
            "description_width": ""
          }
        },
        "543844f99f7e49f382a0143a04634b28": {
          "model_module": "@jupyter-widgets/base",
          "model_name": "LayoutModel",
          "model_module_version": "1.2.0",
          "state": {
            "_model_module": "@jupyter-widgets/base",
            "_model_module_version": "1.2.0",
            "_model_name": "LayoutModel",
            "_view_count": null,
            "_view_module": "@jupyter-widgets/base",
            "_view_module_version": "1.2.0",
            "_view_name": "LayoutView",
            "align_content": null,
            "align_items": null,
            "align_self": null,
            "border": null,
            "bottom": null,
            "display": null,
            "flex": null,
            "flex_flow": null,
            "grid_area": null,
            "grid_auto_columns": null,
            "grid_auto_flow": null,
            "grid_auto_rows": null,
            "grid_column": null,
            "grid_gap": null,
            "grid_row": null,
            "grid_template_areas": null,
            "grid_template_columns": null,
            "grid_template_rows": null,
            "height": null,
            "justify_content": null,
            "justify_items": null,
            "left": null,
            "margin": null,
            "max_height": null,
            "max_width": null,
            "min_height": null,
            "min_width": null,
            "object_fit": null,
            "object_position": null,
            "order": null,
            "overflow": null,
            "overflow_x": null,
            "overflow_y": null,
            "padding": null,
            "right": null,
            "top": null,
            "visibility": null,
            "width": null
          }
        },
        "ff0a788eeafe4c958f88e693347b2a5d": {
          "model_module": "@jupyter-widgets/controls",
          "model_name": "ProgressStyleModel",
          "model_module_version": "1.5.0",
          "state": {
            "_model_module": "@jupyter-widgets/controls",
            "_model_module_version": "1.5.0",
            "_model_name": "ProgressStyleModel",
            "_view_count": null,
            "_view_module": "@jupyter-widgets/base",
            "_view_module_version": "1.2.0",
            "_view_name": "StyleView",
            "bar_color": null,
            "description_width": ""
          }
        },
        "3a6eae6f96884cf2a90b71d177e29e17": {
          "model_module": "@jupyter-widgets/base",
          "model_name": "LayoutModel",
          "model_module_version": "1.2.0",
          "state": {
            "_model_module": "@jupyter-widgets/base",
            "_model_module_version": "1.2.0",
            "_model_name": "LayoutModel",
            "_view_count": null,
            "_view_module": "@jupyter-widgets/base",
            "_view_module_version": "1.2.0",
            "_view_name": "LayoutView",
            "align_content": null,
            "align_items": null,
            "align_self": null,
            "border": null,
            "bottom": null,
            "display": null,
            "flex": null,
            "flex_flow": null,
            "grid_area": null,
            "grid_auto_columns": null,
            "grid_auto_flow": null,
            "grid_auto_rows": null,
            "grid_column": null,
            "grid_gap": null,
            "grid_row": null,
            "grid_template_areas": null,
            "grid_template_columns": null,
            "grid_template_rows": null,
            "height": null,
            "justify_content": null,
            "justify_items": null,
            "left": null,
            "margin": null,
            "max_height": null,
            "max_width": null,
            "min_height": null,
            "min_width": null,
            "object_fit": null,
            "object_position": null,
            "order": null,
            "overflow": null,
            "overflow_x": null,
            "overflow_y": null,
            "padding": null,
            "right": null,
            "top": null,
            "visibility": null,
            "width": null
          }
        },
        "9753dd2509f54179af3c83ea210763f2": {
          "model_module": "@jupyter-widgets/controls",
          "model_name": "DescriptionStyleModel",
          "model_module_version": "1.5.0",
          "state": {
            "_model_module": "@jupyter-widgets/controls",
            "_model_module_version": "1.5.0",
            "_model_name": "DescriptionStyleModel",
            "_view_count": null,
            "_view_module": "@jupyter-widgets/base",
            "_view_module_version": "1.2.0",
            "_view_name": "StyleView",
            "description_width": ""
          }
        },
        "5bf70a634322462e84379dca14cf62d7": {
          "model_module": "@jupyter-widgets/controls",
          "model_name": "HBoxModel",
          "model_module_version": "1.5.0",
          "state": {
            "_dom_classes": [],
            "_model_module": "@jupyter-widgets/controls",
            "_model_module_version": "1.5.0",
            "_model_name": "HBoxModel",
            "_view_count": null,
            "_view_module": "@jupyter-widgets/controls",
            "_view_module_version": "1.5.0",
            "_view_name": "HBoxView",
            "box_style": "",
            "children": [
              "IPY_MODEL_4c5da20ee0834e20a574655aa0485a87",
              "IPY_MODEL_76f3de19120749efb428e4c6b382d026",
              "IPY_MODEL_ce2e1dc30be7467b81f57afbcaf881f1"
            ],
            "layout": "IPY_MODEL_d9e94862af6046e28aaa5e869b6e244e"
          }
        },
        "4c5da20ee0834e20a574655aa0485a87": {
          "model_module": "@jupyter-widgets/controls",
          "model_name": "HTMLModel",
          "model_module_version": "1.5.0",
          "state": {
            "_dom_classes": [],
            "_model_module": "@jupyter-widgets/controls",
            "_model_module_version": "1.5.0",
            "_model_name": "HTMLModel",
            "_view_count": null,
            "_view_module": "@jupyter-widgets/controls",
            "_view_module_version": "1.5.0",
            "_view_name": "HTMLView",
            "description": "",
            "description_tooltip": null,
            "layout": "IPY_MODEL_5ce852fb2bde44de88e52849f000eef3",
            "placeholder": "​",
            "style": "IPY_MODEL_1ce770b872744e22bedd53d7e0dcc7f1",
            "value": "Processing: 100%"
          }
        },
        "76f3de19120749efb428e4c6b382d026": {
          "model_module": "@jupyter-widgets/controls",
          "model_name": "FloatProgressModel",
          "model_module_version": "1.5.0",
          "state": {
            "_dom_classes": [],
            "_model_module": "@jupyter-widgets/controls",
            "_model_module_version": "1.5.0",
            "_model_name": "FloatProgressModel",
            "_view_count": null,
            "_view_module": "@jupyter-widgets/controls",
            "_view_module_version": "1.5.0",
            "_view_name": "ProgressView",
            "bar_style": "",
            "description": "",
            "description_tooltip": null,
            "layout": "IPY_MODEL_12fb50360bf1462d93e32f4e4463b6cf",
            "max": 4,
            "min": 0,
            "orientation": "horizontal",
            "style": "IPY_MODEL_7c49cc763eb641cd8646e25a64925b09",
            "value": 4
          }
        },
        "ce2e1dc30be7467b81f57afbcaf881f1": {
          "model_module": "@jupyter-widgets/controls",
          "model_name": "HTMLModel",
          "model_module_version": "1.5.0",
          "state": {
            "_dom_classes": [],
            "_model_module": "@jupyter-widgets/controls",
            "_model_module_version": "1.5.0",
            "_model_name": "HTMLModel",
            "_view_count": null,
            "_view_module": "@jupyter-widgets/controls",
            "_view_module_version": "1.5.0",
            "_view_name": "HTMLView",
            "description": "",
            "description_tooltip": null,
            "layout": "IPY_MODEL_c63912dc643140bf8307b2bfd34435bc",
            "placeholder": "​",
            "style": "IPY_MODEL_ccede5fd1b9f488aba8c42ae76431606",
            "value": " 4/4 [00:01&lt;00:00,  2.13it/s]"
          }
        },
        "d9e94862af6046e28aaa5e869b6e244e": {
          "model_module": "@jupyter-widgets/base",
          "model_name": "LayoutModel",
          "model_module_version": "1.2.0",
          "state": {
            "_model_module": "@jupyter-widgets/base",
            "_model_module_version": "1.2.0",
            "_model_name": "LayoutModel",
            "_view_count": null,
            "_view_module": "@jupyter-widgets/base",
            "_view_module_version": "1.2.0",
            "_view_name": "LayoutView",
            "align_content": null,
            "align_items": null,
            "align_self": null,
            "border": null,
            "bottom": null,
            "display": null,
            "flex": null,
            "flex_flow": null,
            "grid_area": null,
            "grid_auto_columns": null,
            "grid_auto_flow": null,
            "grid_auto_rows": null,
            "grid_column": null,
            "grid_gap": null,
            "grid_row": null,
            "grid_template_areas": null,
            "grid_template_columns": null,
            "grid_template_rows": null,
            "height": null,
            "justify_content": null,
            "justify_items": null,
            "left": null,
            "margin": null,
            "max_height": null,
            "max_width": null,
            "min_height": null,
            "min_width": null,
            "object_fit": null,
            "object_position": null,
            "order": null,
            "overflow": null,
            "overflow_x": null,
            "overflow_y": null,
            "padding": null,
            "right": null,
            "top": null,
            "visibility": "hidden",
            "width": null
          }
        },
        "5ce852fb2bde44de88e52849f000eef3": {
          "model_module": "@jupyter-widgets/base",
          "model_name": "LayoutModel",
          "model_module_version": "1.2.0",
          "state": {
            "_model_module": "@jupyter-widgets/base",
            "_model_module_version": "1.2.0",
            "_model_name": "LayoutModel",
            "_view_count": null,
            "_view_module": "@jupyter-widgets/base",
            "_view_module_version": "1.2.0",
            "_view_name": "LayoutView",
            "align_content": null,
            "align_items": null,
            "align_self": null,
            "border": null,
            "bottom": null,
            "display": null,
            "flex": null,
            "flex_flow": null,
            "grid_area": null,
            "grid_auto_columns": null,
            "grid_auto_flow": null,
            "grid_auto_rows": null,
            "grid_column": null,
            "grid_gap": null,
            "grid_row": null,
            "grid_template_areas": null,
            "grid_template_columns": null,
            "grid_template_rows": null,
            "height": null,
            "justify_content": null,
            "justify_items": null,
            "left": null,
            "margin": null,
            "max_height": null,
            "max_width": null,
            "min_height": null,
            "min_width": null,
            "object_fit": null,
            "object_position": null,
            "order": null,
            "overflow": null,
            "overflow_x": null,
            "overflow_y": null,
            "padding": null,
            "right": null,
            "top": null,
            "visibility": null,
            "width": null
          }
        },
        "1ce770b872744e22bedd53d7e0dcc7f1": {
          "model_module": "@jupyter-widgets/controls",
          "model_name": "DescriptionStyleModel",
          "model_module_version": "1.5.0",
          "state": {
            "_model_module": "@jupyter-widgets/controls",
            "_model_module_version": "1.5.0",
            "_model_name": "DescriptionStyleModel",
            "_view_count": null,
            "_view_module": "@jupyter-widgets/base",
            "_view_module_version": "1.2.0",
            "_view_name": "StyleView",
            "description_width": ""
          }
        },
        "12fb50360bf1462d93e32f4e4463b6cf": {
          "model_module": "@jupyter-widgets/base",
          "model_name": "LayoutModel",
          "model_module_version": "1.2.0",
          "state": {
            "_model_module": "@jupyter-widgets/base",
            "_model_module_version": "1.2.0",
            "_model_name": "LayoutModel",
            "_view_count": null,
            "_view_module": "@jupyter-widgets/base",
            "_view_module_version": "1.2.0",
            "_view_name": "LayoutView",
            "align_content": null,
            "align_items": null,
            "align_self": null,
            "border": null,
            "bottom": null,
            "display": null,
            "flex": null,
            "flex_flow": null,
            "grid_area": null,
            "grid_auto_columns": null,
            "grid_auto_flow": null,
            "grid_auto_rows": null,
            "grid_column": null,
            "grid_gap": null,
            "grid_row": null,
            "grid_template_areas": null,
            "grid_template_columns": null,
            "grid_template_rows": null,
            "height": null,
            "justify_content": null,
            "justify_items": null,
            "left": null,
            "margin": null,
            "max_height": null,
            "max_width": null,
            "min_height": null,
            "min_width": null,
            "object_fit": null,
            "object_position": null,
            "order": null,
            "overflow": null,
            "overflow_x": null,
            "overflow_y": null,
            "padding": null,
            "right": null,
            "top": null,
            "visibility": null,
            "width": null
          }
        },
        "7c49cc763eb641cd8646e25a64925b09": {
          "model_module": "@jupyter-widgets/controls",
          "model_name": "ProgressStyleModel",
          "model_module_version": "1.5.0",
          "state": {
            "_model_module": "@jupyter-widgets/controls",
            "_model_module_version": "1.5.0",
            "_model_name": "ProgressStyleModel",
            "_view_count": null,
            "_view_module": "@jupyter-widgets/base",
            "_view_module_version": "1.2.0",
            "_view_name": "StyleView",
            "bar_color": null,
            "description_width": ""
          }
        },
        "c63912dc643140bf8307b2bfd34435bc": {
          "model_module": "@jupyter-widgets/base",
          "model_name": "LayoutModel",
          "model_module_version": "1.2.0",
          "state": {
            "_model_module": "@jupyter-widgets/base",
            "_model_module_version": "1.2.0",
            "_model_name": "LayoutModel",
            "_view_count": null,
            "_view_module": "@jupyter-widgets/base",
            "_view_module_version": "1.2.0",
            "_view_name": "LayoutView",
            "align_content": null,
            "align_items": null,
            "align_self": null,
            "border": null,
            "bottom": null,
            "display": null,
            "flex": null,
            "flex_flow": null,
            "grid_area": null,
            "grid_auto_columns": null,
            "grid_auto_flow": null,
            "grid_auto_rows": null,
            "grid_column": null,
            "grid_gap": null,
            "grid_row": null,
            "grid_template_areas": null,
            "grid_template_columns": null,
            "grid_template_rows": null,
            "height": null,
            "justify_content": null,
            "justify_items": null,
            "left": null,
            "margin": null,
            "max_height": null,
            "max_width": null,
            "min_height": null,
            "min_width": null,
            "object_fit": null,
            "object_position": null,
            "order": null,
            "overflow": null,
            "overflow_x": null,
            "overflow_y": null,
            "padding": null,
            "right": null,
            "top": null,
            "visibility": null,
            "width": null
          }
        },
        "ccede5fd1b9f488aba8c42ae76431606": {
          "model_module": "@jupyter-widgets/controls",
          "model_name": "DescriptionStyleModel",
          "model_module_version": "1.5.0",
          "state": {
            "_model_module": "@jupyter-widgets/controls",
            "_model_module_version": "1.5.0",
            "_model_name": "DescriptionStyleModel",
            "_view_count": null,
            "_view_module": "@jupyter-widgets/base",
            "_view_module_version": "1.2.0",
            "_view_name": "StyleView",
            "description_width": ""
          }
        },
        "aea9434e7f8b40dbb27e4420e2763021": {
          "model_module": "@jupyter-widgets/controls",
          "model_name": "HBoxModel",
          "model_module_version": "1.5.0",
          "state": {
            "_dom_classes": [],
            "_model_module": "@jupyter-widgets/controls",
            "_model_module_version": "1.5.0",
            "_model_name": "HBoxModel",
            "_view_count": null,
            "_view_module": "@jupyter-widgets/controls",
            "_view_module_version": "1.5.0",
            "_view_name": "HBoxView",
            "box_style": "",
            "children": [
              "IPY_MODEL_6c0fd94c6e994e7fad38648e5636b368",
              "IPY_MODEL_16566860c97349338e816dbba21c2690",
              "IPY_MODEL_5715f285bf974485a2f3b5e42237c487"
            ],
            "layout": "IPY_MODEL_ef795ce9e346448a80591c7c4d389836"
          }
        },
        "6c0fd94c6e994e7fad38648e5636b368": {
          "model_module": "@jupyter-widgets/controls",
          "model_name": "HTMLModel",
          "model_module_version": "1.5.0",
          "state": {
            "_dom_classes": [],
            "_model_module": "@jupyter-widgets/controls",
            "_model_module_version": "1.5.0",
            "_model_name": "HTMLModel",
            "_view_count": null,
            "_view_module": "@jupyter-widgets/controls",
            "_view_module_version": "1.5.0",
            "_view_name": "HTMLView",
            "description": "",
            "description_tooltip": null,
            "layout": "IPY_MODEL_314b412f06054905916a4fbb91d2cd9a",
            "placeholder": "​",
            "style": "IPY_MODEL_7ca1b19462bd4971bac111944e823706",
            "value": "Processing: 100%"
          }
        },
        "16566860c97349338e816dbba21c2690": {
          "model_module": "@jupyter-widgets/controls",
          "model_name": "FloatProgressModel",
          "model_module_version": "1.5.0",
          "state": {
            "_dom_classes": [],
            "_model_module": "@jupyter-widgets/controls",
            "_model_module_version": "1.5.0",
            "_model_name": "FloatProgressModel",
            "_view_count": null,
            "_view_module": "@jupyter-widgets/controls",
            "_view_module_version": "1.5.0",
            "_view_name": "ProgressView",
            "bar_style": "",
            "description": "",
            "description_tooltip": null,
            "layout": "IPY_MODEL_e1fcbb62958b4ba6b7d4f2c81c2aaccc",
            "max": 7,
            "min": 0,
            "orientation": "horizontal",
            "style": "IPY_MODEL_9c889670ffaf4bb6ba89b0b0941bbb77",
            "value": 7
          }
        },
        "5715f285bf974485a2f3b5e42237c487": {
          "model_module": "@jupyter-widgets/controls",
          "model_name": "HTMLModel",
          "model_module_version": "1.5.0",
          "state": {
            "_dom_classes": [],
            "_model_module": "@jupyter-widgets/controls",
            "_model_module_version": "1.5.0",
            "_model_name": "HTMLModel",
            "_view_count": null,
            "_view_module": "@jupyter-widgets/controls",
            "_view_module_version": "1.5.0",
            "_view_name": "HTMLView",
            "description": "",
            "description_tooltip": null,
            "layout": "IPY_MODEL_4d6f6734674e4e39a6d2ea337a256ff1",
            "placeholder": "​",
            "style": "IPY_MODEL_cd1fcb1fcb804f86b595326e3c76872d",
            "value": " 7/7 [00:32&lt;00:00,  3.76s/it]"
          }
        },
        "ef795ce9e346448a80591c7c4d389836": {
          "model_module": "@jupyter-widgets/base",
          "model_name": "LayoutModel",
          "model_module_version": "1.2.0",
          "state": {
            "_model_module": "@jupyter-widgets/base",
            "_model_module_version": "1.2.0",
            "_model_name": "LayoutModel",
            "_view_count": null,
            "_view_module": "@jupyter-widgets/base",
            "_view_module_version": "1.2.0",
            "_view_name": "LayoutView",
            "align_content": null,
            "align_items": null,
            "align_self": null,
            "border": null,
            "bottom": null,
            "display": null,
            "flex": null,
            "flex_flow": null,
            "grid_area": null,
            "grid_auto_columns": null,
            "grid_auto_flow": null,
            "grid_auto_rows": null,
            "grid_column": null,
            "grid_gap": null,
            "grid_row": null,
            "grid_template_areas": null,
            "grid_template_columns": null,
            "grid_template_rows": null,
            "height": null,
            "justify_content": null,
            "justify_items": null,
            "left": null,
            "margin": null,
            "max_height": null,
            "max_width": null,
            "min_height": null,
            "min_width": null,
            "object_fit": null,
            "object_position": null,
            "order": null,
            "overflow": null,
            "overflow_x": null,
            "overflow_y": null,
            "padding": null,
            "right": null,
            "top": null,
            "visibility": "hidden",
            "width": null
          }
        },
        "314b412f06054905916a4fbb91d2cd9a": {
          "model_module": "@jupyter-widgets/base",
          "model_name": "LayoutModel",
          "model_module_version": "1.2.0",
          "state": {
            "_model_module": "@jupyter-widgets/base",
            "_model_module_version": "1.2.0",
            "_model_name": "LayoutModel",
            "_view_count": null,
            "_view_module": "@jupyter-widgets/base",
            "_view_module_version": "1.2.0",
            "_view_name": "LayoutView",
            "align_content": null,
            "align_items": null,
            "align_self": null,
            "border": null,
            "bottom": null,
            "display": null,
            "flex": null,
            "flex_flow": null,
            "grid_area": null,
            "grid_auto_columns": null,
            "grid_auto_flow": null,
            "grid_auto_rows": null,
            "grid_column": null,
            "grid_gap": null,
            "grid_row": null,
            "grid_template_areas": null,
            "grid_template_columns": null,
            "grid_template_rows": null,
            "height": null,
            "justify_content": null,
            "justify_items": null,
            "left": null,
            "margin": null,
            "max_height": null,
            "max_width": null,
            "min_height": null,
            "min_width": null,
            "object_fit": null,
            "object_position": null,
            "order": null,
            "overflow": null,
            "overflow_x": null,
            "overflow_y": null,
            "padding": null,
            "right": null,
            "top": null,
            "visibility": null,
            "width": null
          }
        },
        "7ca1b19462bd4971bac111944e823706": {
          "model_module": "@jupyter-widgets/controls",
          "model_name": "DescriptionStyleModel",
          "model_module_version": "1.5.0",
          "state": {
            "_model_module": "@jupyter-widgets/controls",
            "_model_module_version": "1.5.0",
            "_model_name": "DescriptionStyleModel",
            "_view_count": null,
            "_view_module": "@jupyter-widgets/base",
            "_view_module_version": "1.2.0",
            "_view_name": "StyleView",
            "description_width": ""
          }
        },
        "e1fcbb62958b4ba6b7d4f2c81c2aaccc": {
          "model_module": "@jupyter-widgets/base",
          "model_name": "LayoutModel",
          "model_module_version": "1.2.0",
          "state": {
            "_model_module": "@jupyter-widgets/base",
            "_model_module_version": "1.2.0",
            "_model_name": "LayoutModel",
            "_view_count": null,
            "_view_module": "@jupyter-widgets/base",
            "_view_module_version": "1.2.0",
            "_view_name": "LayoutView",
            "align_content": null,
            "align_items": null,
            "align_self": null,
            "border": null,
            "bottom": null,
            "display": null,
            "flex": null,
            "flex_flow": null,
            "grid_area": null,
            "grid_auto_columns": null,
            "grid_auto_flow": null,
            "grid_auto_rows": null,
            "grid_column": null,
            "grid_gap": null,
            "grid_row": null,
            "grid_template_areas": null,
            "grid_template_columns": null,
            "grid_template_rows": null,
            "height": null,
            "justify_content": null,
            "justify_items": null,
            "left": null,
            "margin": null,
            "max_height": null,
            "max_width": null,
            "min_height": null,
            "min_width": null,
            "object_fit": null,
            "object_position": null,
            "order": null,
            "overflow": null,
            "overflow_x": null,
            "overflow_y": null,
            "padding": null,
            "right": null,
            "top": null,
            "visibility": null,
            "width": null
          }
        },
        "9c889670ffaf4bb6ba89b0b0941bbb77": {
          "model_module": "@jupyter-widgets/controls",
          "model_name": "ProgressStyleModel",
          "model_module_version": "1.5.0",
          "state": {
            "_model_module": "@jupyter-widgets/controls",
            "_model_module_version": "1.5.0",
            "_model_name": "ProgressStyleModel",
            "_view_count": null,
            "_view_module": "@jupyter-widgets/base",
            "_view_module_version": "1.2.0",
            "_view_name": "StyleView",
            "bar_color": null,
            "description_width": ""
          }
        },
        "4d6f6734674e4e39a6d2ea337a256ff1": {
          "model_module": "@jupyter-widgets/base",
          "model_name": "LayoutModel",
          "model_module_version": "1.2.0",
          "state": {
            "_model_module": "@jupyter-widgets/base",
            "_model_module_version": "1.2.0",
            "_model_name": "LayoutModel",
            "_view_count": null,
            "_view_module": "@jupyter-widgets/base",
            "_view_module_version": "1.2.0",
            "_view_name": "LayoutView",
            "align_content": null,
            "align_items": null,
            "align_self": null,
            "border": null,
            "bottom": null,
            "display": null,
            "flex": null,
            "flex_flow": null,
            "grid_area": null,
            "grid_auto_columns": null,
            "grid_auto_flow": null,
            "grid_auto_rows": null,
            "grid_column": null,
            "grid_gap": null,
            "grid_row": null,
            "grid_template_areas": null,
            "grid_template_columns": null,
            "grid_template_rows": null,
            "height": null,
            "justify_content": null,
            "justify_items": null,
            "left": null,
            "margin": null,
            "max_height": null,
            "max_width": null,
            "min_height": null,
            "min_width": null,
            "object_fit": null,
            "object_position": null,
            "order": null,
            "overflow": null,
            "overflow_x": null,
            "overflow_y": null,
            "padding": null,
            "right": null,
            "top": null,
            "visibility": null,
            "width": null
          }
        },
        "cd1fcb1fcb804f86b595326e3c76872d": {
          "model_module": "@jupyter-widgets/controls",
          "model_name": "DescriptionStyleModel",
          "model_module_version": "1.5.0",
          "state": {
            "_model_module": "@jupyter-widgets/controls",
            "_model_module_version": "1.5.0",
            "_model_name": "DescriptionStyleModel",
            "_view_count": null,
            "_view_module": "@jupyter-widgets/base",
            "_view_module_version": "1.2.0",
            "_view_name": "StyleView",
            "description_width": ""
          }
        }
      }
    }
  },
  "nbformat": 4,
  "nbformat_minor": 5
}