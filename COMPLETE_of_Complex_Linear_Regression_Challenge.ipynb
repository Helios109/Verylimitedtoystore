{
  "cells": [
    {
      "cell_type": "markdown",
      "metadata": {
        "id": "view-in-github",
        "colab_type": "text"
      },
      "source": [
        "<a href=\"https://colab.research.google.com/github/Helios109/Verylimitedtoystore/blob/main/COMPLETE_of_Complex_Linear_Regression_Challenge.ipynb\" target=\"_parent\"><img src=\"https://colab.research.google.com/assets/colab-badge.svg\" alt=\"Open In Colab\"/></a>"
      ]
    },
    {
      "cell_type": "markdown",
      "source": [
        "![Emil](data:image/png;base64,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)"
      ],
      "metadata": {
        "id": "kolGOvMANo8O"
      },
      "id": "kolGOvMANo8O"
    },
    {
      "cell_type": "markdown",
      "id": "d87eff80",
      "metadata": {
        "id": "d87eff80"
      },
      "source": [
        "# Predicting house prices\n",
        "\n",
        "In this challenge, you'll be using your newly acquired Linear Regression skills to try **to predict house prices in Ames, Iowa!**\n",
        "\n",
        "You'll have to do some more complex preprocessing and when you try to model, things might not go your way...\n",
        "\n",
        "**Let's get started!**"
      ]
    },
    {
      "cell_type": "markdown",
      "id": "a7780497",
      "metadata": {
        "id": "a7780497"
      },
      "source": [
        "## Import the Data"
      ]
    },
    {
      "cell_type": "markdown",
      "id": "1b154fa8",
      "metadata": {
        "id": "1b154fa8"
      },
      "source": [
        "Start by importing the data from this link!\n",
        "\n",
        "[`Iowa_housing_prices.csv`](https://drive.google.com/file/d/1YgFv1_0-xl0blchMvhtUev4vzYX0BFGs/view?usp=sharing)\n",
        "\n",
        "Load it into a dataframe!"
      ]
    },
    {
      "cell_type": "code",
      "source": [
        "!pip install gdown\n",
        "import gdown\n",
        "import pandas as pd\n",
        "\n",
        "# Download the Google Sheets data #\n",
        "url = 'https://drive.google.com/uc?id=1YgFv1_0-xl0blchMvhtUev4vzYX0BFGs'\n",
        "output = 'house_prices.csv'\n",
        "gdown.download(url, output, quiet=False)\n",
        "\n",
        "# Load the data into a DataFrame #\n",
        "house_prices_df = pd.read_csv('house_prices.csv')\n",
        "\n",
        "# Display the first few rows of the DataFrame #\n",
        "house_prices_df.head()\n"
      ],
      "metadata": {
        "colab": {
          "base_uri": "https://localhost:8080/",
          "height": 516
        },
        "id": "HMV8wLke18rU",
        "outputId": "65b77624-5755-4ee5-88fb-6d588b75e27c"
      },
      "id": "HMV8wLke18rU",
      "execution_count": 14,
      "outputs": [
        {
          "output_type": "stream",
          "name": "stdout",
          "text": [
            "Requirement already satisfied: gdown in /usr/local/lib/python3.10/dist-packages (5.1.0)\n",
            "Requirement already satisfied: beautifulsoup4 in /usr/local/lib/python3.10/dist-packages (from gdown) (4.12.3)\n",
            "Requirement already satisfied: filelock in /usr/local/lib/python3.10/dist-packages (from gdown) (3.14.0)\n",
            "Requirement already satisfied: requests[socks] in /usr/local/lib/python3.10/dist-packages (from gdown) (2.31.0)\n",
            "Requirement already satisfied: tqdm in /usr/local/lib/python3.10/dist-packages (from gdown) (4.66.2)\n",
            "Requirement already satisfied: soupsieve>1.2 in /usr/local/lib/python3.10/dist-packages (from beautifulsoup4->gdown) (2.5)\n",
            "Requirement already satisfied: charset-normalizer<4,>=2 in /usr/local/lib/python3.10/dist-packages (from requests[socks]->gdown) (3.3.2)\n",
            "Requirement already satisfied: idna<4,>=2.5 in /usr/local/lib/python3.10/dist-packages (from requests[socks]->gdown) (3.7)\n",
            "Requirement already satisfied: urllib3<3,>=1.21.1 in /usr/local/lib/python3.10/dist-packages (from requests[socks]->gdown) (2.0.7)\n",
            "Requirement already satisfied: certifi>=2017.4.17 in /usr/local/lib/python3.10/dist-packages (from requests[socks]->gdown) (2024.2.2)\n",
            "Requirement already satisfied: PySocks!=1.5.7,>=1.5.6 in /usr/local/lib/python3.10/dist-packages (from requests[socks]->gdown) (1.7.1)\n"
          ]
        },
        {
          "output_type": "stream",
          "name": "stderr",
          "text": [
            "Downloading...\n",
            "From: https://drive.google.com/uc?id=1YgFv1_0-xl0blchMvhtUev4vzYX0BFGs\n",
            "To: /content/house_prices.csv\n",
            "100%|██████████| 461k/461k [00:00<00:00, 30.5MB/s]\n"
          ]
        },
        {
          "output_type": "execute_result",
          "data": {
            "text/plain": [
              "   Id  MSSubClass MSZoning  LotFrontage  LotArea Street Alley LotShape  \\\n",
              "0   1          60       RL         65.0     8450   Pave   NaN      Reg   \n",
              "1   2          20       RL         80.0     9600   Pave   NaN      Reg   \n",
              "2   3          60       RL         68.0    11250   Pave   NaN      IR1   \n",
              "3   4          70       RL         60.0     9550   Pave   NaN      IR1   \n",
              "4   5          60       RL         84.0    14260   Pave   NaN      IR1   \n",
              "\n",
              "  LandContour Utilities  ... PoolArea PoolQC Fence MiscFeature MiscVal MoSold  \\\n",
              "0         Lvl    AllPub  ...        0    NaN   NaN         NaN       0      2   \n",
              "1         Lvl    AllPub  ...        0    NaN   NaN         NaN       0      5   \n",
              "2         Lvl    AllPub  ...        0    NaN   NaN         NaN       0      9   \n",
              "3         Lvl    AllPub  ...        0    NaN   NaN         NaN       0      2   \n",
              "4         Lvl    AllPub  ...        0    NaN   NaN         NaN       0     12   \n",
              "\n",
              "  YrSold  SaleType  SaleCondition  SalePrice  \n",
              "0   2008        WD         Normal     208500  \n",
              "1   2007        WD         Normal     181500  \n",
              "2   2008        WD         Normal     223500  \n",
              "3   2006        WD        Abnorml     140000  \n",
              "4   2008        WD         Normal     250000  \n",
              "\n",
              "[5 rows x 81 columns]"
            ],
            "text/html": [
              "\n",
              "  <div id=\"df-8a2cdbc4-1b88-408d-aa48-0abf3f7147ed\" class=\"colab-df-container\">\n",
              "    <div>\n",
              "<style scoped>\n",
              "    .dataframe tbody tr th:only-of-type {\n",
              "        vertical-align: middle;\n",
              "    }\n",
              "\n",
              "    .dataframe tbody tr th {\n",
              "        vertical-align: top;\n",
              "    }\n",
              "\n",
              "    .dataframe thead th {\n",
              "        text-align: right;\n",
              "    }\n",
              "</style>\n",
              "<table border=\"1\" class=\"dataframe\">\n",
              "  <thead>\n",
              "    <tr style=\"text-align: right;\">\n",
              "      <th></th>\n",
              "      <th>Id</th>\n",
              "      <th>MSSubClass</th>\n",
              "      <th>MSZoning</th>\n",
              "      <th>LotFrontage</th>\n",
              "      <th>LotArea</th>\n",
              "      <th>Street</th>\n",
              "      <th>Alley</th>\n",
              "      <th>LotShape</th>\n",
              "      <th>LandContour</th>\n",
              "      <th>Utilities</th>\n",
              "      <th>...</th>\n",
              "      <th>PoolArea</th>\n",
              "      <th>PoolQC</th>\n",
              "      <th>Fence</th>\n",
              "      <th>MiscFeature</th>\n",
              "      <th>MiscVal</th>\n",
              "      <th>MoSold</th>\n",
              "      <th>YrSold</th>\n",
              "      <th>SaleType</th>\n",
              "      <th>SaleCondition</th>\n",
              "      <th>SalePrice</th>\n",
              "    </tr>\n",
              "  </thead>\n",
              "  <tbody>\n",
              "    <tr>\n",
              "      <th>0</th>\n",
              "      <td>1</td>\n",
              "      <td>60</td>\n",
              "      <td>RL</td>\n",
              "      <td>65.0</td>\n",
              "      <td>8450</td>\n",
              "      <td>Pave</td>\n",
              "      <td>NaN</td>\n",
              "      <td>Reg</td>\n",
              "      <td>Lvl</td>\n",
              "      <td>AllPub</td>\n",
              "      <td>...</td>\n",
              "      <td>0</td>\n",
              "      <td>NaN</td>\n",
              "      <td>NaN</td>\n",
              "      <td>NaN</td>\n",
              "      <td>0</td>\n",
              "      <td>2</td>\n",
              "      <td>2008</td>\n",
              "      <td>WD</td>\n",
              "      <td>Normal</td>\n",
              "      <td>208500</td>\n",
              "    </tr>\n",
              "    <tr>\n",
              "      <th>1</th>\n",
              "      <td>2</td>\n",
              "      <td>20</td>\n",
              "      <td>RL</td>\n",
              "      <td>80.0</td>\n",
              "      <td>9600</td>\n",
              "      <td>Pave</td>\n",
              "      <td>NaN</td>\n",
              "      <td>Reg</td>\n",
              "      <td>Lvl</td>\n",
              "      <td>AllPub</td>\n",
              "      <td>...</td>\n",
              "      <td>0</td>\n",
              "      <td>NaN</td>\n",
              "      <td>NaN</td>\n",
              "      <td>NaN</td>\n",
              "      <td>0</td>\n",
              "      <td>5</td>\n",
              "      <td>2007</td>\n",
              "      <td>WD</td>\n",
              "      <td>Normal</td>\n",
              "      <td>181500</td>\n",
              "    </tr>\n",
              "    <tr>\n",
              "      <th>2</th>\n",
              "      <td>3</td>\n",
              "      <td>60</td>\n",
              "      <td>RL</td>\n",
              "      <td>68.0</td>\n",
              "      <td>11250</td>\n",
              "      <td>Pave</td>\n",
              "      <td>NaN</td>\n",
              "      <td>IR1</td>\n",
              "      <td>Lvl</td>\n",
              "      <td>AllPub</td>\n",
              "      <td>...</td>\n",
              "      <td>0</td>\n",
              "      <td>NaN</td>\n",
              "      <td>NaN</td>\n",
              "      <td>NaN</td>\n",
              "      <td>0</td>\n",
              "      <td>9</td>\n",
              "      <td>2008</td>\n",
              "      <td>WD</td>\n",
              "      <td>Normal</td>\n",
              "      <td>223500</td>\n",
              "    </tr>\n",
              "    <tr>\n",
              "      <th>3</th>\n",
              "      <td>4</td>\n",
              "      <td>70</td>\n",
              "      <td>RL</td>\n",
              "      <td>60.0</td>\n",
              "      <td>9550</td>\n",
              "      <td>Pave</td>\n",
              "      <td>NaN</td>\n",
              "      <td>IR1</td>\n",
              "      <td>Lvl</td>\n",
              "      <td>AllPub</td>\n",
              "      <td>...</td>\n",
              "      <td>0</td>\n",
              "      <td>NaN</td>\n",
              "      <td>NaN</td>\n",
              "      <td>NaN</td>\n",
              "      <td>0</td>\n",
              "      <td>2</td>\n",
              "      <td>2006</td>\n",
              "      <td>WD</td>\n",
              "      <td>Abnorml</td>\n",
              "      <td>140000</td>\n",
              "    </tr>\n",
              "    <tr>\n",
              "      <th>4</th>\n",
              "      <td>5</td>\n",
              "      <td>60</td>\n",
              "      <td>RL</td>\n",
              "      <td>84.0</td>\n",
              "      <td>14260</td>\n",
              "      <td>Pave</td>\n",
              "      <td>NaN</td>\n",
              "      <td>IR1</td>\n",
              "      <td>Lvl</td>\n",
              "      <td>AllPub</td>\n",
              "      <td>...</td>\n",
              "      <td>0</td>\n",
              "      <td>NaN</td>\n",
              "      <td>NaN</td>\n",
              "      <td>NaN</td>\n",
              "      <td>0</td>\n",
              "      <td>12</td>\n",
              "      <td>2008</td>\n",
              "      <td>WD</td>\n",
              "      <td>Normal</td>\n",
              "      <td>250000</td>\n",
              "    </tr>\n",
              "  </tbody>\n",
              "</table>\n",
              "<p>5 rows × 81 columns</p>\n",
              "</div>\n",
              "    <div class=\"colab-df-buttons\">\n",
              "\n",
              "  <div class=\"colab-df-container\">\n",
              "    <button class=\"colab-df-convert\" onclick=\"convertToInteractive('df-8a2cdbc4-1b88-408d-aa48-0abf3f7147ed')\"\n",
              "            title=\"Convert this dataframe to an interactive table.\"\n",
              "            style=\"display:none;\">\n",
              "\n",
              "  <svg xmlns=\"http://www.w3.org/2000/svg\" height=\"24px\" viewBox=\"0 -960 960 960\">\n",
              "    <path d=\"M120-120v-720h720v720H120Zm60-500h600v-160H180v160Zm220 220h160v-160H400v160Zm0 220h160v-160H400v160ZM180-400h160v-160H180v160Zm440 0h160v-160H620v160ZM180-180h160v-160H180v160Zm440 0h160v-160H620v160Z\"/>\n",
              "  </svg>\n",
              "    </button>\n",
              "\n",
              "  <style>\n",
              "    .colab-df-container {\n",
              "      display:flex;\n",
              "      gap: 12px;\n",
              "    }\n",
              "\n",
              "    .colab-df-convert {\n",
              "      background-color: #E8F0FE;\n",
              "      border: none;\n",
              "      border-radius: 50%;\n",
              "      cursor: pointer;\n",
              "      display: none;\n",
              "      fill: #1967D2;\n",
              "      height: 32px;\n",
              "      padding: 0 0 0 0;\n",
              "      width: 32px;\n",
              "    }\n",
              "\n",
              "    .colab-df-convert:hover {\n",
              "      background-color: #E2EBFA;\n",
              "      box-shadow: 0px 1px 2px rgba(60, 64, 67, 0.3), 0px 1px 3px 1px rgba(60, 64, 67, 0.15);\n",
              "      fill: #174EA6;\n",
              "    }\n",
              "\n",
              "    .colab-df-buttons div {\n",
              "      margin-bottom: 4px;\n",
              "    }\n",
              "\n",
              "    [theme=dark] .colab-df-convert {\n",
              "      background-color: #3B4455;\n",
              "      fill: #D2E3FC;\n",
              "    }\n",
              "\n",
              "    [theme=dark] .colab-df-convert:hover {\n",
              "      background-color: #434B5C;\n",
              "      box-shadow: 0px 1px 3px 1px rgba(0, 0, 0, 0.15);\n",
              "      filter: drop-shadow(0px 1px 2px rgba(0, 0, 0, 0.3));\n",
              "      fill: #FFFFFF;\n",
              "    }\n",
              "  </style>\n",
              "\n",
              "    <script>\n",
              "      const buttonEl =\n",
              "        document.querySelector('#df-8a2cdbc4-1b88-408d-aa48-0abf3f7147ed button.colab-df-convert');\n",
              "      buttonEl.style.display =\n",
              "        google.colab.kernel.accessAllowed ? 'block' : 'none';\n",
              "\n",
              "      async function convertToInteractive(key) {\n",
              "        const element = document.querySelector('#df-8a2cdbc4-1b88-408d-aa48-0abf3f7147ed');\n",
              "        const dataTable =\n",
              "          await google.colab.kernel.invokeFunction('convertToInteractive',\n",
              "                                                    [key], {});\n",
              "        if (!dataTable) return;\n",
              "\n",
              "        const docLinkHtml = 'Like what you see? Visit the ' +\n",
              "          '<a target=\"_blank\" href=https://colab.research.google.com/notebooks/data_table.ipynb>data table notebook</a>'\n",
              "          + ' to learn more about interactive tables.';\n",
              "        element.innerHTML = '';\n",
              "        dataTable['output_type'] = 'display_data';\n",
              "        await google.colab.output.renderOutput(dataTable, element);\n",
              "        const docLink = document.createElement('div');\n",
              "        docLink.innerHTML = docLinkHtml;\n",
              "        element.appendChild(docLink);\n",
              "      }\n",
              "    </script>\n",
              "  </div>\n",
              "\n",
              "\n",
              "<div id=\"df-a80cba7b-2ed8-4894-8973-b6d605e587b4\">\n",
              "  <button class=\"colab-df-quickchart\" onclick=\"quickchart('df-a80cba7b-2ed8-4894-8973-b6d605e587b4')\"\n",
              "            title=\"Suggest charts\"\n",
              "            style=\"display:none;\">\n",
              "\n",
              "<svg xmlns=\"http://www.w3.org/2000/svg\" height=\"24px\"viewBox=\"0 0 24 24\"\n",
              "     width=\"24px\">\n",
              "    <g>\n",
              "        <path d=\"M19 3H5c-1.1 0-2 .9-2 2v14c0 1.1.9 2 2 2h14c1.1 0 2-.9 2-2V5c0-1.1-.9-2-2-2zM9 17H7v-7h2v7zm4 0h-2V7h2v10zm4 0h-2v-4h2v4z\"/>\n",
              "    </g>\n",
              "</svg>\n",
              "  </button>\n",
              "\n",
              "<style>\n",
              "  .colab-df-quickchart {\n",
              "      --bg-color: #E8F0FE;\n",
              "      --fill-color: #1967D2;\n",
              "      --hover-bg-color: #E2EBFA;\n",
              "      --hover-fill-color: #174EA6;\n",
              "      --disabled-fill-color: #AAA;\n",
              "      --disabled-bg-color: #DDD;\n",
              "  }\n",
              "\n",
              "  [theme=dark] .colab-df-quickchart {\n",
              "      --bg-color: #3B4455;\n",
              "      --fill-color: #D2E3FC;\n",
              "      --hover-bg-color: #434B5C;\n",
              "      --hover-fill-color: #FFFFFF;\n",
              "      --disabled-bg-color: #3B4455;\n",
              "      --disabled-fill-color: #666;\n",
              "  }\n",
              "\n",
              "  .colab-df-quickchart {\n",
              "    background-color: var(--bg-color);\n",
              "    border: none;\n",
              "    border-radius: 50%;\n",
              "    cursor: pointer;\n",
              "    display: none;\n",
              "    fill: var(--fill-color);\n",
              "    height: 32px;\n",
              "    padding: 0;\n",
              "    width: 32px;\n",
              "  }\n",
              "\n",
              "  .colab-df-quickchart:hover {\n",
              "    background-color: var(--hover-bg-color);\n",
              "    box-shadow: 0 1px 2px rgba(60, 64, 67, 0.3), 0 1px 3px 1px rgba(60, 64, 67, 0.15);\n",
              "    fill: var(--button-hover-fill-color);\n",
              "  }\n",
              "\n",
              "  .colab-df-quickchart-complete:disabled,\n",
              "  .colab-df-quickchart-complete:disabled:hover {\n",
              "    background-color: var(--disabled-bg-color);\n",
              "    fill: var(--disabled-fill-color);\n",
              "    box-shadow: none;\n",
              "  }\n",
              "\n",
              "  .colab-df-spinner {\n",
              "    border: 2px solid var(--fill-color);\n",
              "    border-color: transparent;\n",
              "    border-bottom-color: var(--fill-color);\n",
              "    animation:\n",
              "      spin 1s steps(1) infinite;\n",
              "  }\n",
              "\n",
              "  @keyframes spin {\n",
              "    0% {\n",
              "      border-color: transparent;\n",
              "      border-bottom-color: var(--fill-color);\n",
              "      border-left-color: var(--fill-color);\n",
              "    }\n",
              "    20% {\n",
              "      border-color: transparent;\n",
              "      border-left-color: var(--fill-color);\n",
              "      border-top-color: var(--fill-color);\n",
              "    }\n",
              "    30% {\n",
              "      border-color: transparent;\n",
              "      border-left-color: var(--fill-color);\n",
              "      border-top-color: var(--fill-color);\n",
              "      border-right-color: var(--fill-color);\n",
              "    }\n",
              "    40% {\n",
              "      border-color: transparent;\n",
              "      border-right-color: var(--fill-color);\n",
              "      border-top-color: var(--fill-color);\n",
              "    }\n",
              "    60% {\n",
              "      border-color: transparent;\n",
              "      border-right-color: var(--fill-color);\n",
              "    }\n",
              "    80% {\n",
              "      border-color: transparent;\n",
              "      border-right-color: var(--fill-color);\n",
              "      border-bottom-color: var(--fill-color);\n",
              "    }\n",
              "    90% {\n",
              "      border-color: transparent;\n",
              "      border-bottom-color: var(--fill-color);\n",
              "    }\n",
              "  }\n",
              "</style>\n",
              "\n",
              "  <script>\n",
              "    async function quickchart(key) {\n",
              "      const quickchartButtonEl =\n",
              "        document.querySelector('#' + key + ' button');\n",
              "      quickchartButtonEl.disabled = true;  // To prevent multiple clicks.\n",
              "      quickchartButtonEl.classList.add('colab-df-spinner');\n",
              "      try {\n",
              "        const charts = await google.colab.kernel.invokeFunction(\n",
              "            'suggestCharts', [key], {});\n",
              "      } catch (error) {\n",
              "        console.error('Error during call to suggestCharts:', error);\n",
              "      }\n",
              "      quickchartButtonEl.classList.remove('colab-df-spinner');\n",
              "      quickchartButtonEl.classList.add('colab-df-quickchart-complete');\n",
              "    }\n",
              "    (() => {\n",
              "      let quickchartButtonEl =\n",
              "        document.querySelector('#df-a80cba7b-2ed8-4894-8973-b6d605e587b4 button');\n",
              "      quickchartButtonEl.style.display =\n",
              "        google.colab.kernel.accessAllowed ? 'block' : 'none';\n",
              "    })();\n",
              "  </script>\n",
              "</div>\n",
              "    </div>\n",
              "  </div>\n"
            ],
            "application/vnd.google.colaboratory.intrinsic+json": {
              "type": "dataframe",
              "variable_name": "house_prices_df"
            }
          },
          "metadata": {},
          "execution_count": 14
        }
      ]
    },
    {
      "cell_type": "markdown",
      "source": [],
      "metadata": {
        "id": "qem2XTXw18WS"
      },
      "id": "qem2XTXw18WS"
    },
    {
      "cell_type": "markdown",
      "id": "185440d7",
      "metadata": {
        "id": "185440d7"
      },
      "source": [
        "## Cleaning"
      ]
    },
    {
      "cell_type": "markdown",
      "id": "ce9a5e23",
      "metadata": {
        "id": "ce9a5e23"
      },
      "source": [
        "### Handle NA values"
      ]
    },
    {
      "cell_type": "markdown",
      "id": "bfe118f2",
      "metadata": {
        "id": "bfe118f2"
      },
      "source": [
        "Unlike the previous challenge, this dataset has not been cleaned!\n",
        "\n",
        "Most important thing to take care of are NA values!\n",
        "\n",
        "Which columns have missing values?"
      ]
    },
    {
      "cell_type": "code",
      "source": [
        "# Check for missing values in each column #\n",
        "missing_values = house_prices_df.isnull().sum()\n",
        "\n",
        "# Display columns with missing values and their respective counts #\n",
        "print(\"Columns with missing values:\")\n",
        "print(missing_values[missing_values > 0])\n"
      ],
      "metadata": {
        "colab": {
          "base_uri": "https://localhost:8080/"
        },
        "id": "riAfGpaW4RAf",
        "outputId": "0c9de6bf-d61a-44d9-acf5-1f97d1eed307"
      },
      "id": "riAfGpaW4RAf",
      "execution_count": 15,
      "outputs": [
        {
          "output_type": "stream",
          "name": "stdout",
          "text": [
            "Columns with missing values:\n",
            "LotFrontage      259\n",
            "Alley           1369\n",
            "MasVnrType       872\n",
            "MasVnrArea         8\n",
            "BsmtQual          37\n",
            "BsmtCond          37\n",
            "BsmtExposure      38\n",
            "BsmtFinType1      37\n",
            "BsmtFinType2      38\n",
            "Electrical         1\n",
            "FireplaceQu      690\n",
            "GarageType        81\n",
            "GarageYrBlt       81\n",
            "GarageFinish      81\n",
            "GarageQual        81\n",
            "GarageCond        81\n",
            "PoolQC          1453\n",
            "Fence           1179\n",
            "MiscFeature     1406\n",
            "dtype: int64\n"
          ]
        }
      ]
    },
    {
      "cell_type": "markdown",
      "id": "794d440c",
      "metadata": {
        "id": "794d440c"
      },
      "source": [
        "### To drop or to fill?\n",
        "\n",
        "Some columns miss many more values than others!\n",
        "\n",
        "Drop columns that have more than 30% missing values and fill the others with the mean strategy!"
      ]
    },
    {
      "cell_type": "code",
      "execution_count": 16,
      "id": "26bca245",
      "metadata": {
        "id": "26bca245",
        "colab": {
          "base_uri": "https://localhost:8080/"
        },
        "outputId": "197322f3-7098-44a8-fb17-29534452916b"
      },
      "outputs": [
        {
          "output_type": "stream",
          "name": "stdout",
          "text": [
            "   Id  MSSubClass MSZoning  LotFrontage  LotArea Street LotShape LandContour  \\\n",
            "0   1          60       RL         65.0     8450   Pave      Reg         Lvl   \n",
            "1   2          20       RL         80.0     9600   Pave      Reg         Lvl   \n",
            "2   3          60       RL         68.0    11250   Pave      IR1         Lvl   \n",
            "3   4          70       RL         60.0     9550   Pave      IR1         Lvl   \n",
            "4   5          60       RL         84.0    14260   Pave      IR1         Lvl   \n",
            "\n",
            "  Utilities LotConfig  ... EnclosedPorch 3SsnPorch ScreenPorch PoolArea  \\\n",
            "0    AllPub    Inside  ...             0         0           0        0   \n",
            "1    AllPub       FR2  ...             0         0           0        0   \n",
            "2    AllPub    Inside  ...             0         0           0        0   \n",
            "3    AllPub    Corner  ...           272         0           0        0   \n",
            "4    AllPub       FR2  ...             0         0           0        0   \n",
            "\n",
            "  MiscVal MoSold  YrSold  SaleType  SaleCondition  SalePrice  \n",
            "0       0      2    2008        WD         Normal     208500  \n",
            "1       0      5    2007        WD         Normal     181500  \n",
            "2       0      9    2008        WD         Normal     223500  \n",
            "3       0      2    2006        WD        Abnorml     140000  \n",
            "4       0     12    2008        WD         Normal     250000  \n",
            "\n",
            "[5 rows x 77 columns]\n"
          ]
        }
      ],
      "source": [
        "# Calculate the threshold for dropping columns with more than 30% missing values #\n",
        "threshold = 0.3 * len(house_prices_df)\n",
        "\n",
        "# Drop columns with more than 30% missing values #\n",
        "house_prices_df.dropna(axis=1, thresh=threshold, inplace=True)\n",
        "\n",
        "# Identify numeric columns #\n",
        "numeric_columns = house_prices_df.select_dtypes(include='number').columns\n",
        "\n",
        "# Fill missing values in numeric columns with the mean strategy #\n",
        "house_prices_df[numeric_columns] = house_prices_df[numeric_columns].fillna(house_prices_df[numeric_columns].mean())\n",
        "\n",
        "# Display the updated DataFrame #\n",
        "print(house_prices_df.head())\n",
        "\n",
        "\n"
      ]
    },
    {
      "cell_type": "markdown",
      "id": "482dc46c",
      "metadata": {
        "id": "482dc46c"
      },
      "source": [
        "At this stage, if you check for NaN values, you'll still find some, particularly in categorical features. You have the option to either drop these features or proceed with preprocessing to handle them."
      ]
    },
    {
      "cell_type": "code",
      "source": [
        "# Check for any remaining NaN values in the DataFrame #\n",
        "remaining_nan = house_prices_df.isnull().any()\n",
        "\n",
        "# Display columns with remaining NaN values #\n",
        "print(\"Columns with remaining NaN values:\")\n",
        "print(remaining_nan[remaining_nan])\n"
      ],
      "metadata": {
        "colab": {
          "base_uri": "https://localhost:8080/"
        },
        "id": "YQktO6yE6C6b",
        "outputId": "4bcabe1a-5620-4412-af56-a07cbcf4b480"
      },
      "id": "YQktO6yE6C6b",
      "execution_count": 70,
      "outputs": [
        {
          "output_type": "stream",
          "name": "stdout",
          "text": [
            "Columns with remaining NaN values:\n",
            "BsmtQual        True\n",
            "BsmtCond        True\n",
            "BsmtExposure    True\n",
            "BsmtFinType1    True\n",
            "BsmtFinType2    True\n",
            "Electrical      True\n",
            "GarageType      True\n",
            "GarageFinish    True\n",
            "GarageQual      True\n",
            "GarageCond      True\n",
            "dtype: bool\n"
          ]
        }
      ]
    },
    {
      "cell_type": "code",
      "source": [
        "# Count the number of NaN values in each column with remaining NaN values #\n",
        "nan_counts = house_prices_df[['MasVnrType', 'BsmtQual', 'BsmtCond', 'BsmtExposure',\n",
        "                              'BsmtFinType1', 'BsmtFinType2', 'Electrical',\n",
        "                              'FireplaceQu', 'GarageType', 'GarageFinish',\n",
        "                              'GarageQual', 'GarageCond']].isnull().sum()\n",
        "\n",
        "# Display the counts of NaN values in each column #\n",
        "print(\"Number of NaN values in each column:\")\n",
        "print(nan_counts)\n"
      ],
      "metadata": {
        "colab": {
          "base_uri": "https://localhost:8080/",
          "height": 356
        },
        "id": "xji82O_f6lDk",
        "outputId": "c677f58e-4ca2-4b86-efc1-48450a5c153c"
      },
      "id": "xji82O_f6lDk",
      "execution_count": 71,
      "outputs": [
        {
          "output_type": "error",
          "ename": "KeyError",
          "evalue": "\"['MasVnrType', 'FireplaceQu'] not in index\"",
          "traceback": [
            "\u001b[0;31m---------------------------------------------------------------------------\u001b[0m",
            "\u001b[0;31mKeyError\u001b[0m                                  Traceback (most recent call last)",
            "\u001b[0;32m<ipython-input-71-1238f7c57feb>\u001b[0m in \u001b[0;36m<cell line: 2>\u001b[0;34m()\u001b[0m\n\u001b[1;32m      1\u001b[0m \u001b[0;31m# Count the number of NaN values in each column with remaining NaN values #\u001b[0m\u001b[0;34m\u001b[0m\u001b[0;34m\u001b[0m\u001b[0m\n\u001b[0;32m----> 2\u001b[0;31m nan_counts = house_prices_df[['MasVnrType', 'BsmtQual', 'BsmtCond', 'BsmtExposure', \n\u001b[0m\u001b[1;32m      3\u001b[0m                               \u001b[0;34m'BsmtFinType1'\u001b[0m\u001b[0;34m,\u001b[0m \u001b[0;34m'BsmtFinType2'\u001b[0m\u001b[0;34m,\u001b[0m \u001b[0;34m'Electrical'\u001b[0m\u001b[0;34m,\u001b[0m\u001b[0;34m\u001b[0m\u001b[0;34m\u001b[0m\u001b[0m\n\u001b[1;32m      4\u001b[0m                               \u001b[0;34m'FireplaceQu'\u001b[0m\u001b[0;34m,\u001b[0m \u001b[0;34m'GarageType'\u001b[0m\u001b[0;34m,\u001b[0m \u001b[0;34m'GarageFinish'\u001b[0m\u001b[0;34m,\u001b[0m\u001b[0;34m\u001b[0m\u001b[0;34m\u001b[0m\u001b[0m\n\u001b[1;32m      5\u001b[0m                               'GarageQual', 'GarageCond']].isnull().sum()\n",
            "\u001b[0;32m/usr/local/lib/python3.10/dist-packages/pandas/core/frame.py\u001b[0m in \u001b[0;36m__getitem__\u001b[0;34m(self, key)\u001b[0m\n\u001b[1;32m   3765\u001b[0m             \u001b[0;32mif\u001b[0m \u001b[0mis_iterator\u001b[0m\u001b[0;34m(\u001b[0m\u001b[0mkey\u001b[0m\u001b[0;34m)\u001b[0m\u001b[0;34m:\u001b[0m\u001b[0;34m\u001b[0m\u001b[0;34m\u001b[0m\u001b[0m\n\u001b[1;32m   3766\u001b[0m                 \u001b[0mkey\u001b[0m \u001b[0;34m=\u001b[0m \u001b[0mlist\u001b[0m\u001b[0;34m(\u001b[0m\u001b[0mkey\u001b[0m\u001b[0;34m)\u001b[0m\u001b[0;34m\u001b[0m\u001b[0;34m\u001b[0m\u001b[0m\n\u001b[0;32m-> 3767\u001b[0;31m             \u001b[0mindexer\u001b[0m \u001b[0;34m=\u001b[0m \u001b[0mself\u001b[0m\u001b[0;34m.\u001b[0m\u001b[0mcolumns\u001b[0m\u001b[0;34m.\u001b[0m\u001b[0m_get_indexer_strict\u001b[0m\u001b[0;34m(\u001b[0m\u001b[0mkey\u001b[0m\u001b[0;34m,\u001b[0m \u001b[0;34m\"columns\"\u001b[0m\u001b[0;34m)\u001b[0m\u001b[0;34m[\u001b[0m\u001b[0;36m1\u001b[0m\u001b[0;34m]\u001b[0m\u001b[0;34m\u001b[0m\u001b[0;34m\u001b[0m\u001b[0m\n\u001b[0m\u001b[1;32m   3768\u001b[0m \u001b[0;34m\u001b[0m\u001b[0m\n\u001b[1;32m   3769\u001b[0m         \u001b[0;31m# take() does not accept boolean indexers\u001b[0m\u001b[0;34m\u001b[0m\u001b[0;34m\u001b[0m\u001b[0m\n",
            "\u001b[0;32m/usr/local/lib/python3.10/dist-packages/pandas/core/indexes/base.py\u001b[0m in \u001b[0;36m_get_indexer_strict\u001b[0;34m(self, key, axis_name)\u001b[0m\n\u001b[1;32m   5875\u001b[0m             \u001b[0mkeyarr\u001b[0m\u001b[0;34m,\u001b[0m \u001b[0mindexer\u001b[0m\u001b[0;34m,\u001b[0m \u001b[0mnew_indexer\u001b[0m \u001b[0;34m=\u001b[0m \u001b[0mself\u001b[0m\u001b[0;34m.\u001b[0m\u001b[0m_reindex_non_unique\u001b[0m\u001b[0;34m(\u001b[0m\u001b[0mkeyarr\u001b[0m\u001b[0;34m)\u001b[0m\u001b[0;34m\u001b[0m\u001b[0;34m\u001b[0m\u001b[0m\n\u001b[1;32m   5876\u001b[0m \u001b[0;34m\u001b[0m\u001b[0m\n\u001b[0;32m-> 5877\u001b[0;31m         \u001b[0mself\u001b[0m\u001b[0;34m.\u001b[0m\u001b[0m_raise_if_missing\u001b[0m\u001b[0;34m(\u001b[0m\u001b[0mkeyarr\u001b[0m\u001b[0;34m,\u001b[0m \u001b[0mindexer\u001b[0m\u001b[0;34m,\u001b[0m \u001b[0maxis_name\u001b[0m\u001b[0;34m)\u001b[0m\u001b[0;34m\u001b[0m\u001b[0;34m\u001b[0m\u001b[0m\n\u001b[0m\u001b[1;32m   5878\u001b[0m \u001b[0;34m\u001b[0m\u001b[0m\n\u001b[1;32m   5879\u001b[0m         \u001b[0mkeyarr\u001b[0m \u001b[0;34m=\u001b[0m \u001b[0mself\u001b[0m\u001b[0;34m.\u001b[0m\u001b[0mtake\u001b[0m\u001b[0;34m(\u001b[0m\u001b[0mindexer\u001b[0m\u001b[0;34m)\u001b[0m\u001b[0;34m\u001b[0m\u001b[0;34m\u001b[0m\u001b[0m\n",
            "\u001b[0;32m/usr/local/lib/python3.10/dist-packages/pandas/core/indexes/base.py\u001b[0m in \u001b[0;36m_raise_if_missing\u001b[0;34m(self, key, indexer, axis_name)\u001b[0m\n\u001b[1;32m   5939\u001b[0m \u001b[0;34m\u001b[0m\u001b[0m\n\u001b[1;32m   5940\u001b[0m             \u001b[0mnot_found\u001b[0m \u001b[0;34m=\u001b[0m \u001b[0mlist\u001b[0m\u001b[0;34m(\u001b[0m\u001b[0mensure_index\u001b[0m\u001b[0;34m(\u001b[0m\u001b[0mkey\u001b[0m\u001b[0;34m)\u001b[0m\u001b[0;34m[\u001b[0m\u001b[0mmissing_mask\u001b[0m\u001b[0;34m.\u001b[0m\u001b[0mnonzero\u001b[0m\u001b[0;34m(\u001b[0m\u001b[0;34m)\u001b[0m\u001b[0;34m[\u001b[0m\u001b[0;36m0\u001b[0m\u001b[0;34m]\u001b[0m\u001b[0;34m]\u001b[0m\u001b[0;34m.\u001b[0m\u001b[0munique\u001b[0m\u001b[0;34m(\u001b[0m\u001b[0;34m)\u001b[0m\u001b[0;34m)\u001b[0m\u001b[0;34m\u001b[0m\u001b[0;34m\u001b[0m\u001b[0m\n\u001b[0;32m-> 5941\u001b[0;31m             \u001b[0;32mraise\u001b[0m \u001b[0mKeyError\u001b[0m\u001b[0;34m(\u001b[0m\u001b[0;34mf\"{not_found} not in index\"\u001b[0m\u001b[0;34m)\u001b[0m\u001b[0;34m\u001b[0m\u001b[0;34m\u001b[0m\u001b[0m\n\u001b[0m\u001b[1;32m   5942\u001b[0m \u001b[0;34m\u001b[0m\u001b[0m\n\u001b[1;32m   5943\u001b[0m     \u001b[0;34m@\u001b[0m\u001b[0moverload\u001b[0m\u001b[0;34m\u001b[0m\u001b[0;34m\u001b[0m\u001b[0m\n",
            "\u001b[0;31mKeyError\u001b[0m: \"['MasVnrType', 'FireplaceQu'] not in index\""
          ]
        }
      ]
    },
    {
      "cell_type": "code",
      "execution_count": 19,
      "id": "61a4b47a",
      "metadata": {
        "id": "61a4b47a"
      },
      "outputs": [],
      "source": [
        "# Drop columns with a significant number of missing values #\n",
        "columns_to_drop = ['MasVnrType', 'FireplaceQu']\n",
        "house_prices_df.drop(columns_to_drop, axis=1, inplace=True)\n"
      ]
    },
    {
      "cell_type": "code",
      "source": [
        "# Count the number of columns left in the DataFrame #\n",
        "num_columns_left = house_prices_df.shape[1]\n",
        "\n",
        "# Display the number of columns left #\n",
        "print(\"Number of columns left:\", num_columns_left)\n",
        "\n",
        "# List the remaining column names #\n",
        "remaining_columns = house_prices_df.columns.tolist()\n",
        "\n",
        "# Display the remaining column names #\n",
        "print(\"Remaining column names:\")\n",
        "print(remaining_columns)\n",
        "\n"
      ],
      "metadata": {
        "colab": {
          "base_uri": "https://localhost:8080/"
        },
        "id": "XxCnp7bQLatH",
        "outputId": "d66e2aee-1eb7-4ce2-c807-8e64a20b9dd9"
      },
      "id": "XxCnp7bQLatH",
      "execution_count": 37,
      "outputs": [
        {
          "output_type": "stream",
          "name": "stdout",
          "text": [
            "Number of columns left: 75\n",
            "Remaining column names:\n",
            "['Id', 'MSSubClass', 'MSZoning', 'LotFrontage', 'LotArea', 'Street', 'LotShape', 'LandContour', 'Utilities', 'LotConfig', 'LandSlope', 'Neighborhood', 'Condition1', 'Condition2', 'BldgType', 'HouseStyle', 'OverallQual', 'OverallCond', 'YearBuilt', 'YearRemodAdd', 'RoofStyle', 'RoofMatl', 'Exterior1st', 'Exterior2nd', 'MasVnrArea', 'ExterQual', 'ExterCond', 'Foundation', 'BsmtQual', 'BsmtCond', 'BsmtExposure', 'BsmtFinType1', 'BsmtFinSF1', 'BsmtFinType2', 'BsmtFinSF2', 'BsmtUnfSF', 'TotalBsmtSF', 'Heating', 'HeatingQC', 'CentralAir', 'Electrical', '1stFlrSF', '2ndFlrSF', 'LowQualFinSF', 'GrLivArea', 'BsmtFullBath', 'BsmtHalfBath', 'FullBath', 'HalfBath', 'BedroomAbvGr', 'KitchenAbvGr', 'KitchenQual', 'TotRmsAbvGrd', 'Functional', 'Fireplaces', 'GarageType', 'GarageYrBlt', 'GarageFinish', 'GarageCars', 'GarageArea', 'GarageQual', 'GarageCond', 'PavedDrive', 'WoodDeckSF', 'OpenPorchSF', 'EnclosedPorch', '3SsnPorch', 'ScreenPorch', 'PoolArea', 'MiscVal', 'MoSold', 'YrSold', 'SaleType', 'SaleCondition', 'SalePrice']\n"
          ]
        }
      ]
    },
    {
      "cell_type": "markdown",
      "id": "d99ecd16",
      "metadata": {
        "id": "d99ecd16"
      },
      "source": [
        "## Picking X and y\n",
        "\n",
        "After cleaning, we are left with 76 columns/features. That's a lot to choose from! If we were experts in real estate, we could use our domain knowledge and pick out features we know are important!\n",
        "\n",
        "However, we're not taking that approach today. We'll use all of the features to try to reach a prediction, all 76 of them!\n",
        "\n",
        "Assign `X` and `y` appropriately! Keep in mind that we are trying to predict house prices!"
      ]
    },
    {
      "cell_type": "code",
      "execution_count": 39,
      "id": "6877f9ae",
      "metadata": {
        "id": "6877f9ae"
      },
      "outputs": [],
      "source": [
        "# Assign X and y appropriately #\n",
        "X = house_prices_df.drop(columns=['SalePrice'])\n",
        "y = house_prices_df['SalePrice']\n"
      ]
    },
    {
      "cell_type": "markdown",
      "id": "debf60fb",
      "metadata": {
        "id": "debf60fb"
      },
      "source": [
        "### Train test split\n",
        "As always, we need to split the data into train and test!"
      ]
    },
    {
      "cell_type": "code",
      "execution_count": 40,
      "id": "7a65fed7",
      "metadata": {
        "id": "7a65fed7",
        "colab": {
          "base_uri": "https://localhost:8080/"
        },
        "outputId": "90b2b851-8e8e-4087-bdea-ab1abf0e3b5d"
      },
      "outputs": [
        {
          "output_type": "stream",
          "name": "stdout",
          "text": [
            "Shape of X_train: (1168, 74)\n",
            "Shape of X_test: (292, 74)\n",
            "Shape of y_train: (1168,)\n",
            "Shape of y_test: (292,)\n"
          ]
        }
      ],
      "source": [
        "from sklearn.model_selection import train_test_split #\n",
        "\n",
        "# Split the data into training and testing sets (80% train, 20% test) #\n",
        "X_train, X_test, y_train, y_test = train_test_split(X, y, test_size=0.2, random_state=42)\n",
        "\n",
        "# Display the shapes of the training and testing sets #\n",
        "print(\"Shape of X_train:\", X_train.shape)\n",
        "print(\"Shape of X_test:\", X_test.shape)\n",
        "print(\"Shape of y_train:\", y_train.shape)\n",
        "print(\"Shape of y_test:\", y_test.shape)\n"
      ]
    },
    {
      "cell_type": "markdown",
      "id": "b44e9f1d",
      "metadata": {
        "id": "b44e9f1d"
      },
      "source": [
        "## Normalization\n",
        "\n",
        "We can't skip this step! However, unlike the previous challenge, we now have non-numeric columns as well that we need to take care of!"
      ]
    },
    {
      "cell_type": "markdown",
      "source": [
        "**Non-numeric & Numerical Values**\n",
        "\n",
        "Now let's try to do the same for the non-numeric columns! Use select_dtypes again and maybe change that include to something else? Have a look at the documentation!\n",
        "\n",
        "After you've selected the non-numeric columns, use OneHotEncoder to encode the data!"
      ],
      "metadata": {
        "id": "uV0rsQDSOpjZ"
      },
      "id": "uV0rsQDSOpjZ"
    },
    {
      "cell_type": "code",
      "source": [
        "from sklearn.preprocessing import StandardScaler, OneHotEncoder\n",
        "from sklearn.compose import ColumnTransformer\n",
        "from sklearn.pipeline import Pipeline\n",
        "from sklearn.impute import SimpleImputer\n",
        "\n",
        "# Define the preprocessing steps for numerical and categorical features #\n",
        "numeric_features = X.select_dtypes(include=['int64', 'float64']).columns\n",
        "numeric_transformer = Pipeline(steps=[\n",
        "    ('imputer', SimpleImputer(strategy='mean')),\n",
        "    ('scaler', StandardScaler())\n",
        "])\n",
        "\n",
        "categorical_features = X.select_dtypes(include=['object']).columns\n",
        "categorical_transformer = Pipeline(steps=[\n",
        "    ('imputer', SimpleImputer(strategy='most_frequent')),\n",
        "    ('onehot', OneHotEncoder(handle_unknown='ignore'))\n",
        "])\n",
        "\n",
        "# Combine preprocessing steps for numerical and categorical features #\n",
        "preprocessor = ColumnTransformer(\n",
        "    transformers=[\n",
        "        ('num', numeric_transformer, numeric_features),\n",
        "        ('cat', categorical_transformer, categorical_features)\n",
        "    ])\n",
        "\n",
        "# Apply preprocessing to the data #\n",
        "X_train_normalized = preprocessor.fit_transform(X_train)\n",
        "X_test_normalized = preprocessor.transform(X_test)\n"
      ],
      "metadata": {
        "id": "lJLszS-JOKkn"
      },
      "id": "lJLszS-JOKkn",
      "execution_count": 64,
      "outputs": []
    },
    {
      "cell_type": "markdown",
      "id": "d15a471e",
      "metadata": {
        "id": "d15a471e"
      },
      "source": [
        "Have a look at your encoded columns."
      ]
    },
    {
      "cell_type": "code",
      "execution_count": 65,
      "id": "2adbae08",
      "metadata": {
        "id": "2adbae08",
        "colab": {
          "base_uri": "https://localhost:8080/"
        },
        "outputId": "69131035-a101-448d-bce2-fc213af05793"
      },
      "outputs": [
        {
          "output_type": "stream",
          "name": "stdout",
          "text": [
            "['MSZoning_C (all)' 'MSZoning_FV' 'MSZoning_RH' 'MSZoning_RL'\n",
            " 'MSZoning_RM' 'Street_Grvl' 'Street_Pave' 'LotShape_IR1' 'LotShape_IR2'\n",
            " 'LotShape_IR3' 'LotShape_Reg' 'LandContour_Bnk' 'LandContour_HLS'\n",
            " 'LandContour_Low' 'LandContour_Lvl' 'Utilities_AllPub' 'Utilities_NoSeWa'\n",
            " 'LotConfig_Corner' 'LotConfig_CulDSac' 'LotConfig_FR2' 'LotConfig_FR3'\n",
            " 'LotConfig_Inside' 'LandSlope_Gtl' 'LandSlope_Mod' 'LandSlope_Sev'\n",
            " 'Neighborhood_Blmngtn' 'Neighborhood_Blueste' 'Neighborhood_BrDale'\n",
            " 'Neighborhood_BrkSide' 'Neighborhood_ClearCr' 'Neighborhood_CollgCr'\n",
            " 'Neighborhood_Crawfor' 'Neighborhood_Edwards' 'Neighborhood_Gilbert'\n",
            " 'Neighborhood_IDOTRR' 'Neighborhood_MeadowV' 'Neighborhood_Mitchel'\n",
            " 'Neighborhood_NAmes' 'Neighborhood_NPkVill' 'Neighborhood_NWAmes'\n",
            " 'Neighborhood_NoRidge' 'Neighborhood_NridgHt' 'Neighborhood_OldTown'\n",
            " 'Neighborhood_SWISU' 'Neighborhood_Sawyer' 'Neighborhood_SawyerW'\n",
            " 'Neighborhood_Somerst' 'Neighborhood_StoneBr' 'Neighborhood_Timber'\n",
            " 'Neighborhood_Veenker' 'Condition1_Artery' 'Condition1_Feedr'\n",
            " 'Condition1_Norm' 'Condition1_PosA' 'Condition1_PosN' 'Condition1_RRAe'\n",
            " 'Condition1_RRAn' 'Condition1_RRNe' 'Condition1_RRNn' 'Condition2_Artery'\n",
            " 'Condition2_Feedr' 'Condition2_Norm' 'Condition2_PosA' 'Condition2_PosN'\n",
            " 'Condition2_RRAe' 'Condition2_RRAn' 'Condition2_RRNn' 'BldgType_1Fam'\n",
            " 'BldgType_2fmCon' 'BldgType_Duplex' 'BldgType_Twnhs' 'BldgType_TwnhsE'\n",
            " 'HouseStyle_1.5Fin' 'HouseStyle_1.5Unf' 'HouseStyle_1Story'\n",
            " 'HouseStyle_2.5Fin' 'HouseStyle_2.5Unf' 'HouseStyle_2Story'\n",
            " 'HouseStyle_SFoyer' 'HouseStyle_SLvl' 'RoofStyle_Flat' 'RoofStyle_Gable'\n",
            " 'RoofStyle_Gambrel' 'RoofStyle_Hip' 'RoofStyle_Mansard' 'RoofStyle_Shed'\n",
            " 'RoofMatl_ClyTile' 'RoofMatl_CompShg' 'RoofMatl_Metal' 'RoofMatl_Roll'\n",
            " 'RoofMatl_Tar&Grv' 'RoofMatl_WdShake' 'RoofMatl_WdShngl'\n",
            " 'Exterior1st_AsbShng' 'Exterior1st_AsphShn' 'Exterior1st_BrkComm'\n",
            " 'Exterior1st_BrkFace' 'Exterior1st_CBlock' 'Exterior1st_CemntBd'\n",
            " 'Exterior1st_HdBoard' 'Exterior1st_ImStucc' 'Exterior1st_MetalSd'\n",
            " 'Exterior1st_Plywood' 'Exterior1st_Stone' 'Exterior1st_Stucco'\n",
            " 'Exterior1st_VinylSd' 'Exterior1st_Wd Sdng' 'Exterior1st_WdShing'\n",
            " 'Exterior2nd_AsbShng' 'Exterior2nd_AsphShn' 'Exterior2nd_Brk Cmn'\n",
            " 'Exterior2nd_BrkFace' 'Exterior2nd_CBlock' 'Exterior2nd_CmentBd'\n",
            " 'Exterior2nd_HdBoard' 'Exterior2nd_ImStucc' 'Exterior2nd_MetalSd'\n",
            " 'Exterior2nd_Other' 'Exterior2nd_Plywood' 'Exterior2nd_Stone'\n",
            " 'Exterior2nd_Stucco' 'Exterior2nd_VinylSd' 'Exterior2nd_Wd Sdng'\n",
            " 'Exterior2nd_Wd Shng' 'ExterQual_Ex' 'ExterQual_Fa' 'ExterQual_Gd'\n",
            " 'ExterQual_TA' 'ExterCond_Ex' 'ExterCond_Fa' 'ExterCond_Gd'\n",
            " 'ExterCond_Po' 'ExterCond_TA' 'Foundation_BrkTil' 'Foundation_CBlock'\n",
            " 'Foundation_PConc' 'Foundation_Slab' 'Foundation_Stone' 'Foundation_Wood'\n",
            " 'BsmtQual_Ex' 'BsmtQual_Fa' 'BsmtQual_Gd' 'BsmtQual_TA' 'BsmtCond_Fa'\n",
            " 'BsmtCond_Gd' 'BsmtCond_Po' 'BsmtCond_TA' 'BsmtExposure_Av'\n",
            " 'BsmtExposure_Gd' 'BsmtExposure_Mn' 'BsmtExposure_No' 'BsmtFinType1_ALQ'\n",
            " 'BsmtFinType1_BLQ' 'BsmtFinType1_GLQ' 'BsmtFinType1_LwQ'\n",
            " 'BsmtFinType1_Rec' 'BsmtFinType1_Unf' 'BsmtFinType2_ALQ'\n",
            " 'BsmtFinType2_BLQ' 'BsmtFinType2_GLQ' 'BsmtFinType2_LwQ'\n",
            " 'BsmtFinType2_Rec' 'BsmtFinType2_Unf' 'Heating_Floor' 'Heating_GasA'\n",
            " 'Heating_GasW' 'Heating_Grav' 'Heating_OthW' 'Heating_Wall'\n",
            " 'HeatingQC_Ex' 'HeatingQC_Fa' 'HeatingQC_Gd' 'HeatingQC_Po'\n",
            " 'HeatingQC_TA' 'CentralAir_N' 'CentralAir_Y' 'Electrical_FuseA'\n",
            " 'Electrical_FuseF' 'Electrical_FuseP' 'Electrical_SBrkr' 'KitchenQual_Ex'\n",
            " 'KitchenQual_Fa' 'KitchenQual_Gd' 'KitchenQual_TA' 'Functional_Maj1'\n",
            " 'Functional_Maj2' 'Functional_Min1' 'Functional_Min2' 'Functional_Mod'\n",
            " 'Functional_Sev' 'Functional_Typ' 'GarageType_2Types' 'GarageType_Attchd'\n",
            " 'GarageType_Basment' 'GarageType_BuiltIn' 'GarageType_CarPort'\n",
            " 'GarageType_Detchd' 'GarageFinish_Fin' 'GarageFinish_RFn'\n",
            " 'GarageFinish_Unf' 'GarageQual_Ex' 'GarageQual_Fa' 'GarageQual_Gd'\n",
            " 'GarageQual_Po' 'GarageQual_TA' 'GarageCond_Ex' 'GarageCond_Fa'\n",
            " 'GarageCond_Gd' 'GarageCond_Po' 'GarageCond_TA' 'PavedDrive_N'\n",
            " 'PavedDrive_P' 'PavedDrive_Y' 'SaleType_COD' 'SaleType_CWD'\n",
            " 'SaleType_Con' 'SaleType_ConLD' 'SaleType_ConLI' 'SaleType_ConLw'\n",
            " 'SaleType_New' 'SaleType_Oth' 'SaleType_WD' 'SaleCondition_Abnorml'\n",
            " 'SaleCondition_AdjLand' 'SaleCondition_Alloca' 'SaleCondition_Family'\n",
            " 'SaleCondition_Normal' 'SaleCondition_Partial']\n"
          ]
        }
      ],
      "source": [
        "# Get the transformed feature names from OneHotEncoder #\n",
        "encoded_columns = preprocessor.named_transformers_['cat'].named_steps['onehot'].get_feature_names_out(categorical_features)\n",
        "\n",
        "# Combine numeric and encoded categorical feature names #\n",
        "all_feature_names = list(numeric_features) + list(encoded_columns)\n",
        "\n",
        "# Print the encoded columns #\n",
        "print(encoded_columns)\n",
        "\n"
      ]
    },
    {
      "cell_type": "markdown",
      "id": "6b4175ae",
      "metadata": {
        "id": "6b4175ae"
      },
      "source": [
        "### Recreate X\n",
        "Recreate `X` now by combining (concatenating) the numeric and non-numeric normalized columns together! Call it `X_normalized`!"
      ]
    },
    {
      "cell_type": "code",
      "execution_count": 76,
      "id": "e278eaee",
      "metadata": {
        "id": "e278eaee",
        "colab": {
          "base_uri": "https://localhost:8080/"
        },
        "outputId": "b2709a31-88b7-4539-d741-c2a27cb52442"
      },
      "outputs": [
        {
          "output_type": "stream",
          "name": "stdout",
          "text": [
            "Duplicated Columns: Index([], dtype='int64')\n",
            "Missing Columns in X_test_normalized: set()\n",
            "Missing Columns in X_train_normalized: set()\n"
          ]
        }
      ],
      "source": [
        "import pandas as pd\n",
        "\n",
        "# Convert arrays to DataFrames\n",
        "df_train_normalized = pd.DataFrame(X_train_normalized)\n",
        "df_test_normalized = pd.DataFrame(X_test_normalized)\n",
        "\n",
        "# Check for duplicated columns\n",
        "duplicated_columns = df_train_normalized.columns[df_train_normalized.columns.duplicated()]\n",
        "print(\"Duplicated Columns:\", duplicated_columns)\n",
        "\n",
        "# Check for missing columns in X_test_normalized\n",
        "missing_columns = set(df_train_normalized.columns) - set(df_test_normalized.columns)\n",
        "print(\"Missing Columns in X_test_normalized:\", missing_columns)\n",
        "\n",
        "# Check for missing columns in X_train_normalized\n",
        "missing_columns = set(df_test_normalized.columns) - set(df_train_normalized.columns)\n",
        "print(\"Missing Columns in X_train_normalized:\", missing_columns)\n",
        "\n"
      ]
    },
    {
      "cell_type": "code",
      "source": [
        "# Print data types #\n",
        "print(\"Data type of X_train_normalized:\", X_train_normalized.dtype)\n",
        "print(\"Data type of X_test_normalized:\", X_test_normalized.dtype)\n",
        "\n",
        "# Print first few rows #\n",
        "print(\"First few rows of X_train_normalized:\")\n",
        "print(X_train_normalized[:5])\n",
        "\n",
        "print(\"First few rows of X_test_normalized:\")\n",
        "print(X_test_normalized[:5])\n",
        "\n"
      ],
      "metadata": {
        "colab": {
          "base_uri": "https://localhost:8080/"
        },
        "id": "-N7MYvncXYBu",
        "outputId": "1472551f-4e9b-4cf8-8f50-16ffc5b17161"
      },
      "id": "-N7MYvncXYBu",
      "execution_count": 85,
      "outputs": [
        {
          "output_type": "stream",
          "name": "stdout",
          "text": [
            "Data type of X_train_normalized: float64\n",
            "Data type of X_test_normalized: float64\n",
            "First few rows of X_train_normalized:\n",
            "  (0, 0)\t-1.1192840216867437\n",
            "  (0, 1)\t-0.8667643047469886\n",
            "  (0, 2)\t-0.012881785906024708\n",
            "  (0, 3)\t-0.21289571021689285\n",
            "  (0, 4)\t-0.8204445578548297\n",
            "  (0, 5)\t0.37221730085603477\n",
            "  (0, 6)\t-0.4554689634533773\n",
            "  (0, 7)\t-1.3460630279925625\n",
            "  (0, 8)\t-0.6015287346472784\n",
            "  (0, 9)\t1.0372686113776926\n",
            "  (0, 10)\t-0.28550406121847727\n",
            "  (0, 11)\t-0.40028164505613256\n",
            "  (0, 12)\t0.5726121928947197\n",
            "  (0, 13)\t0.3742352301895073\n",
            "  (0, 14)\t-0.8019229244046748\n",
            "  (0, 15)\t-0.11899866377895676\n",
            "  (0, 16)\t-0.40709314807972335\n",
            "  (0, 17)\t1.1053195824048596\n",
            "  (0, 18)\t-0.24287002311294137\n",
            "  (0, 19)\t-1.0555657250367967\n",
            "  (0, 20)\t-0.7640975231923183\n",
            "  (0, 21)\t0.13621832007914325\n",
            "  (0, 22)\t-0.2127571124887476\n",
            "  (0, 23)\t-0.9645659090752412\n",
            "  (0, 24)\t-0.9585921495629545\n",
            "  :\t:\n",
            "  (4, 118)\t1.0\n",
            "  (4, 124)\t1.0\n",
            "  (4, 133)\t1.0\n",
            "  (4, 159)\t1.0\n",
            "  (4, 164)\t1.0\n",
            "  (4, 169)\t1.0\n",
            "  (4, 170)\t1.0\n",
            "  (4, 179)\t1.0\n",
            "  (4, 183)\t1.0\n",
            "  (4, 187)\t1.0\n",
            "  (4, 191)\t1.0\n",
            "  (4, 199)\t1.0\n",
            "  (4, 201)\t1.0\n",
            "  (4, 210)\t1.0\n",
            "  (4, 212)\t1.0\n",
            "  (4, 216)\t1.0\n",
            "  (4, 219)\t1.0\n",
            "  (4, 227)\t1.0\n",
            "  (4, 233)\t1.0\n",
            "  (4, 236)\t1.0\n",
            "  (4, 241)\t1.0\n",
            "  (4, 246)\t1.0\n",
            "  (4, 249)\t1.0\n",
            "  (4, 258)\t1.0\n",
            "  (4, 263)\t1.0\n",
            "First few rows of X_test_normalized:\n",
            "  (0, 0)\t0.3812323780646571\n",
            "  (0, 1)\t-0.8667643047469886\n",
            "  (0, 2)\t-0.012881785906024708\n",
            "  (0, 3)\t-0.2115939609554158\n",
            "  (0, 4)\t-0.08893368489724114\n",
            "  (0, 5)\t2.165000011783247\n",
            "  (0, 6)\t-0.2597893106896905\n",
            "  (0, 7)\t0.8734703125421983\n",
            "  (0, 8)\t-0.6015287346472784\n",
            "  (0, 9)\t0.47284402929133695\n",
            "  (0, 10)\t-0.28550406121847727\n",
            "  (0, 11)\t-0.3913165213225468\n",
            "  (0, 12)\t-0.006291672754181562\n",
            "  (0, 13)\t-0.26223003220137975\n",
            "  (0, 14)\t-0.8019229244046748\n",
            "  (0, 15)\t-0.11899866377895676\n",
            "  (0, 16)\t-0.8763723946743509\n",
            "  (0, 17)\t-0.8186942361478619\n",
            "  (0, 18)\t3.9910432156320663\n",
            "  (0, 19)\t-1.0555657250367967\n",
            "  (0, 20)\t-0.7640975231923183\n",
            "  (0, 21)\t0.13621832007914325\n",
            "  (0, 22)\t-0.2127571124887476\n",
            "  (0, 23)\t-0.34690528308846397\n",
            "  (0, 24)\t-0.9585921495629545\n",
            "  :\t:\n",
            "  (4, 120)\t1.0\n",
            "  (4, 124)\t1.0\n",
            "  (4, 142)\t1.0\n",
            "  (4, 158)\t1.0\n",
            "  (4, 163)\t1.0\n",
            "  (4, 169)\t1.0\n",
            "  (4, 172)\t1.0\n",
            "  (4, 176)\t1.0\n",
            "  (4, 183)\t1.0\n",
            "  (4, 185)\t1.0\n",
            "  (4, 190)\t1.0\n",
            "  (4, 199)\t1.0\n",
            "  (4, 201)\t1.0\n",
            "  (4, 206)\t1.0\n",
            "  (4, 212)\t1.0\n",
            "  (4, 216)\t1.0\n",
            "  (4, 217)\t1.0\n",
            "  (4, 227)\t1.0\n",
            "  (4, 229)\t1.0\n",
            "  (4, 234)\t1.0\n",
            "  (4, 241)\t1.0\n",
            "  (4, 246)\t1.0\n",
            "  (4, 249)\t1.0\n",
            "  (4, 258)\t1.0\n",
            "  (4, 263)\t1.0\n"
          ]
        }
      ]
    },
    {
      "cell_type": "markdown",
      "id": "82c0f56a",
      "metadata": {
        "id": "82c0f56a"
      },
      "source": [
        "### Try a Linear Regression\n",
        "\n",
        "Let's try to use a Linear Regression to model house prices!\n",
        "Instantiate and fit a model!"
      ]
    },
    {
      "cell_type": "code",
      "execution_count": 86,
      "id": "19ec9506",
      "metadata": {
        "id": "19ec9506",
        "colab": {
          "base_uri": "https://localhost:8080/",
          "height": 74
        },
        "outputId": "0896ca71-05cb-4df6-9a86-863e159262e0"
      },
      "outputs": [
        {
          "output_type": "execute_result",
          "data": {
            "text/plain": [
              "LinearRegression()"
            ],
            "text/html": [
              "<style>#sk-container-id-1 {color: black;background-color: white;}#sk-container-id-1 pre{padding: 0;}#sk-container-id-1 div.sk-toggleable {background-color: white;}#sk-container-id-1 label.sk-toggleable__label {cursor: pointer;display: block;width: 100%;margin-bottom: 0;padding: 0.3em;box-sizing: border-box;text-align: center;}#sk-container-id-1 label.sk-toggleable__label-arrow:before {content: \"▸\";float: left;margin-right: 0.25em;color: #696969;}#sk-container-id-1 label.sk-toggleable__label-arrow:hover:before {color: black;}#sk-container-id-1 div.sk-estimator:hover label.sk-toggleable__label-arrow:before {color: black;}#sk-container-id-1 div.sk-toggleable__content {max-height: 0;max-width: 0;overflow: hidden;text-align: left;background-color: #f0f8ff;}#sk-container-id-1 div.sk-toggleable__content pre {margin: 0.2em;color: black;border-radius: 0.25em;background-color: #f0f8ff;}#sk-container-id-1 input.sk-toggleable__control:checked~div.sk-toggleable__content {max-height: 200px;max-width: 100%;overflow: auto;}#sk-container-id-1 input.sk-toggleable__control:checked~label.sk-toggleable__label-arrow:before {content: \"▾\";}#sk-container-id-1 div.sk-estimator input.sk-toggleable__control:checked~label.sk-toggleable__label {background-color: #d4ebff;}#sk-container-id-1 div.sk-label input.sk-toggleable__control:checked~label.sk-toggleable__label {background-color: #d4ebff;}#sk-container-id-1 input.sk-hidden--visually {border: 0;clip: rect(1px 1px 1px 1px);clip: rect(1px, 1px, 1px, 1px);height: 1px;margin: -1px;overflow: hidden;padding: 0;position: absolute;width: 1px;}#sk-container-id-1 div.sk-estimator {font-family: monospace;background-color: #f0f8ff;border: 1px dotted black;border-radius: 0.25em;box-sizing: border-box;margin-bottom: 0.5em;}#sk-container-id-1 div.sk-estimator:hover {background-color: #d4ebff;}#sk-container-id-1 div.sk-parallel-item::after {content: \"\";width: 100%;border-bottom: 1px solid gray;flex-grow: 1;}#sk-container-id-1 div.sk-label:hover label.sk-toggleable__label {background-color: #d4ebff;}#sk-container-id-1 div.sk-serial::before {content: \"\";position: absolute;border-left: 1px solid gray;box-sizing: border-box;top: 0;bottom: 0;left: 50%;z-index: 0;}#sk-container-id-1 div.sk-serial {display: flex;flex-direction: column;align-items: center;background-color: white;padding-right: 0.2em;padding-left: 0.2em;position: relative;}#sk-container-id-1 div.sk-item {position: relative;z-index: 1;}#sk-container-id-1 div.sk-parallel {display: flex;align-items: stretch;justify-content: center;background-color: white;position: relative;}#sk-container-id-1 div.sk-item::before, #sk-container-id-1 div.sk-parallel-item::before {content: \"\";position: absolute;border-left: 1px solid gray;box-sizing: border-box;top: 0;bottom: 0;left: 50%;z-index: -1;}#sk-container-id-1 div.sk-parallel-item {display: flex;flex-direction: column;z-index: 1;position: relative;background-color: white;}#sk-container-id-1 div.sk-parallel-item:first-child::after {align-self: flex-end;width: 50%;}#sk-container-id-1 div.sk-parallel-item:last-child::after {align-self: flex-start;width: 50%;}#sk-container-id-1 div.sk-parallel-item:only-child::after {width: 0;}#sk-container-id-1 div.sk-dashed-wrapped {border: 1px dashed gray;margin: 0 0.4em 0.5em 0.4em;box-sizing: border-box;padding-bottom: 0.4em;background-color: white;}#sk-container-id-1 div.sk-label label {font-family: monospace;font-weight: bold;display: inline-block;line-height: 1.2em;}#sk-container-id-1 div.sk-label-container {text-align: center;}#sk-container-id-1 div.sk-container {/* jupyter's `normalize.less` sets `[hidden] { display: none; }` but bootstrap.min.css set `[hidden] { display: none !important; }` so we also need the `!important` here to be able to override the default hidden behavior on the sphinx rendered scikit-learn.org. See: https://github.com/scikit-learn/scikit-learn/issues/21755 */display: inline-block !important;position: relative;}#sk-container-id-1 div.sk-text-repr-fallback {display: none;}</style><div id=\"sk-container-id-1\" class=\"sk-top-container\"><div class=\"sk-text-repr-fallback\"><pre>LinearRegression()</pre><b>In a Jupyter environment, please rerun this cell to show the HTML representation or trust the notebook. <br />On GitHub, the HTML representation is unable to render, please try loading this page with nbviewer.org.</b></div><div class=\"sk-container\" hidden><div class=\"sk-item\"><div class=\"sk-estimator sk-toggleable\"><input class=\"sk-toggleable__control sk-hidden--visually\" id=\"sk-estimator-id-1\" type=\"checkbox\" checked><label for=\"sk-estimator-id-1\" class=\"sk-toggleable__label sk-toggleable__label-arrow\">LinearRegression</label><div class=\"sk-toggleable__content\"><pre>LinearRegression()</pre></div></div></div></div></div>"
            ]
          },
          "metadata": {},
          "execution_count": 86
        }
      ],
      "source": [
        "from sklearn.linear_model import LinearRegression\n",
        "\n",
        "# Instantiate the Linear Regression model #\n",
        "model = LinearRegression()\n",
        "\n",
        "# Fit the model on the training data #\n",
        "model.fit(X_train_normalized, y_train)\n"
      ]
    },
    {
      "cell_type": "markdown",
      "id": "e0588197",
      "metadata": {
        "id": "e0588197"
      },
      "source": [
        "### Calculate the MAE\n",
        "\n",
        "Let's now calculate the mean absolute error of the model on the test set."
      ]
    },
    {
      "cell_type": "code",
      "execution_count": 87,
      "id": "cec1d67f",
      "metadata": {
        "id": "cec1d67f",
        "colab": {
          "base_uri": "https://localhost:8080/"
        },
        "outputId": "edcb4de2-ff80-4a54-d4c0-313b316d4b5c"
      },
      "outputs": [
        {
          "output_type": "stream",
          "name": "stdout",
          "text": [
            "Mean Absolute Error (MAE) on test data: 18370.9519370569\n"
          ]
        }
      ],
      "source": [
        "from sklearn.metrics import mean_absolute_error\n",
        "\n",
        "# Predict house prices on the test set #\n",
        "y_pred = model.predict(X_test_normalized)\n",
        "\n",
        "# Calculate the mean absolute error #\n",
        "mae = mean_absolute_error(y_test, y_pred)\n",
        "\n",
        "print(\"Mean Absolute Error (MAE) on test data:\", mae)\n"
      ]
    },
    {
      "cell_type": "markdown",
      "id": "6c5f03fc",
      "metadata": {
        "id": "6c5f03fc"
      },
      "source": [
        "That's quite a large number and it represents the amount, in the dollars, by which we were wrong about house prices! **Ouch!**"
      ]
    },
    {
      "cell_type": "markdown",
      "id": "27b0d19b",
      "metadata": {
        "id": "27b0d19b"
      },
      "source": [
        "### What went wrong?\n",
        "\n",
        "Predicting house prices is, believe it or not, a very complex endeavour! There's not one single quality that determines house prices well, it's one large complex soup of features.\n",
        "\n",
        "Furthermore, there is a good probability that this is a **non-linear** task! Which would mean that our Linear Regression is ill-suited to handle it.\n",
        "\n",
        "Whenever you encounter the limitations of a Linear Regression, there's a couple of things that you could try:\n",
        "\n",
        "- See if there is not a *numerical* data that are *categorical*\n",
        "- Remove colinear features\n",
        "- Apply some regularization techniques\n",
        "- Try non-linear models\n"
      ]
    },
    {
      "cell_type": "markdown",
      "id": "c9685a83",
      "metadata": {
        "id": "c9685a83"
      },
      "source": [
        "## Improve our model\n",
        "\n",
        "Let's try with fewer features. Select features that are relevant to predict the SalePrice.\n",
        "<details>\n",
        "<summary> Answer:</summary>\n",
        "We can start with the following features ['LotArea', 'LotConfig', 'LotShape', 'MSZoning', 'BldgType', 'Neighborhood', 'GarageCars']\n",
        "</details>"
      ]
    },
    {
      "cell_type": "markdown",
      "source": [],
      "metadata": {
        "id": "K1p-H0ghaRcg"
      },
      "id": "K1p-H0ghaRcg"
    },
    {
      "cell_type": "code",
      "execution_count": 88,
      "id": "6ac0cfd8",
      "metadata": {
        "id": "6ac0cfd8"
      },
      "outputs": [],
      "source": [
        "# Select relevant features #\n",
        "selected_features = ['LotArea', 'LotConfig', 'LotShape', 'MSZoning', 'BldgType', 'Neighborhood', 'GarageCars']\n",
        "X_selected = X[selected_features]\n"
      ]
    },
    {
      "cell_type": "markdown",
      "id": "bbfdefd6",
      "metadata": {
        "id": "bbfdefd6"
      },
      "source": [
        "Split you data."
      ]
    },
    {
      "cell_type": "code",
      "execution_count": 90,
      "id": "9d19af07",
      "metadata": {
        "id": "9d19af07"
      },
      "outputs": [],
      "source": [
        "from sklearn.model_selection import train_test_split\n",
        "\n",
        "# Split the data into train and test sets #\n",
        "X_train, X_test, y_train, y_test = train_test_split(X_selected, y, test_size=0.2, random_state=42)\n"
      ]
    },
    {
      "cell_type": "markdown",
      "id": "876f0faa",
      "metadata": {
        "id": "876f0faa"
      },
      "source": [
        "Be sure that you normalize only data you need to normalize."
      ]
    },
    {
      "cell_type": "code",
      "execution_count": 91,
      "id": "c549f509",
      "metadata": {
        "id": "c549f509"
      },
      "outputs": [],
      "source": [
        "from sklearn.preprocessing import StandardScaler\n",
        "\n",
        "# Define the columns that need normalization #\n",
        "columns_to_normalize = ['LotArea']\n",
        "\n",
        "# Instantiate the StandardScaler #\n",
        "scaler = StandardScaler()\n",
        "\n",
        "# Fit and transform the selected columns in the training set #\n",
        "X_train_normalized = scaler.fit_transform(X_train[columns_to_normalize])\n",
        "\n",
        "# Transform the selected columns in the test set #\n",
        "X_test_normalized = scaler.transform(X_test[columns_to_normalize])\n"
      ]
    },
    {
      "cell_type": "markdown",
      "id": "51d8e97f",
      "metadata": {
        "id": "51d8e97f"
      },
      "source": [
        "Encode your categorical features."
      ]
    },
    {
      "cell_type": "code",
      "execution_count": 96,
      "id": "fa872e52",
      "metadata": {
        "id": "fa872e52",
        "colab": {
          "base_uri": "https://localhost:8080/"
        },
        "outputId": "223cbc68-21af-49f6-d027-dbf85918a7c2"
      },
      "outputs": [
        {
          "output_type": "stream",
          "name": "stderr",
          "text": [
            "/usr/local/lib/python3.10/dist-packages/sklearn/preprocessing/_encoders.py:868: FutureWarning: `sparse` was renamed to `sparse_output` in version 1.2 and will be removed in 1.4. `sparse_output` is ignored unless you leave `sparse` to its default value.\n",
            "  warnings.warn(\n"
          ]
        }
      ],
      "source": [
        "from sklearn.preprocessing import StandardScaler\n",
        "\n",
        "# Define the columns that need normalization #\n",
        "columns_to_normalize = ['LotArea']\n",
        "\n",
        "# Instantiate the StandardScaler #\n",
        "scaler = StandardScaler()\n",
        "\n",
        "# Fit and transform the selected columns in the training set #\n",
        "X_train_normalized = scaler.fit_transform(X_train[columns_to_normalize])\n",
        "\n",
        "# Transform the selected columns in the test set #\n",
        "X_test_normalized = scaler.transform(X_test[columns_to_normalize])\n",
        "\n",
        "from sklearn.preprocessing import OneHotEncoder\n",
        "\n",
        "# Define categorical columns\n",
        "categorical_columns = ['LotConfig', 'LotShape', 'MSZoning', 'BldgType', 'Neighborhood']\n",
        "\n",
        "# Initialize OneHotEncoder\n",
        "encoder = OneHotEncoder(handle_unknown='ignore', sparse=False)\n",
        "\n",
        "# Fit and transform the categorical columns in the training data\n",
        "X_train_encoded = encoder.fit_transform(X_train[categorical_columns])\n",
        "\n",
        "# Transform the categorical columns in the test data\n",
        "X_test_encoded = encoder.transform(X_test[categorical_columns])\n",
        "\n"
      ]
    },
    {
      "cell_type": "markdown",
      "id": "1735a854",
      "metadata": {
        "id": "1735a854"
      },
      "source": [
        "Let's try again with a Linear regression."
      ]
    },
    {
      "cell_type": "code",
      "execution_count": 97,
      "id": "f6b9d07a",
      "metadata": {
        "id": "f6b9d07a",
        "colab": {
          "base_uri": "https://localhost:8080/"
        },
        "outputId": "0caabce3-e63a-4af0-a065-d4e989eb0af4"
      },
      "outputs": [
        {
          "output_type": "stream",
          "name": "stdout",
          "text": [
            "Mean Absolute Error (MAE) on test data: 36578.140410958906\n"
          ]
        }
      ],
      "source": [
        "from sklearn.linear_model import LinearRegression\n",
        "from sklearn.metrics import mean_absolute_error\n",
        "\n",
        "# Instantiate the Linear Regression model\n",
        "model = LinearRegression()\n",
        "\n",
        "# Fit the model on the training data\n",
        "model.fit(X_train_encoded, y_train)\n",
        "\n",
        "# Make predictions on the test data\n",
        "predictions = model.predict(X_test_encoded)\n",
        "\n",
        "# Calculate the Mean Absolute Error (MAE) on the test data\n",
        "mae = mean_absolute_error(y_test, predictions)\n",
        "\n",
        "# Print the MAE\n",
        "print(\"Mean Absolute Error (MAE) on test data:\", mae)\n"
      ]
    },
    {
      "cell_type": "markdown",
      "id": "f0789a1d",
      "metadata": {
        "id": "f0789a1d"
      },
      "source": [
        "If you choose the right columns, you could see an improvement between `$30,000` and `$40,00`. That's a significant enhancement.\n",
        "\n",
        "So, it is very important to understand the data you use."
      ]
    },
    {
      "cell_type": "markdown",
      "id": "2a26b66b",
      "metadata": {
        "id": "2a26b66b"
      },
      "source": [
        "# Optional"
      ]
    },
    {
      "cell_type": "markdown",
      "id": "05d6aa36",
      "metadata": {
        "id": "05d6aa36"
      },
      "source": [
        "All of the above are out of scope for the DA bootcamp, but it's worth knowing about them! We've coded a cell below that uses a **Random Forest Model** to predict house prices! Try to see if you can make some sense of it.\n",
        "\n",
        "P.S.: You might need to adjust some variable names if we weren't able to guess them right."
      ]
    },
    {
      "cell_type": "code",
      "execution_count": 102,
      "id": "822681d5",
      "metadata": {
        "id": "822681d5"
      },
      "outputs": [],
      "source": [
        "from sklearn.compose import ColumnTransformer\n",
        "from sklearn.preprocessing import OneHotEncoder\n",
        "from sklearn.pipeline import Pipeline\n",
        "\n",
        "# Assuming X_train contains both numerical and categorical features #\n",
        "# Define preprocessing steps for numerical and categorical features #\n",
        "numeric_features = X_train.select_dtypes(include=['int64', 'float64']).columns\n",
        "numeric_transformer = Pipeline(steps=[\n",
        "    ('imputer', SimpleImputer(strategy='mean'))\n",
        "])\n",
        "\n",
        "categorical_features = X_train.select_dtypes(include=['object']).columns\n",
        "categorical_transformer = Pipeline(steps=[\n",
        "    ('imputer', SimpleImputer(strategy='most_frequent')),\n",
        "    ('onehot', OneHotEncoder(handle_unknown='ignore'))\n",
        "])\n",
        "\n",
        "# Combine preprocessing steps for numerical and categorical features #\n",
        "preprocessor = ColumnTransformer(\n",
        "    transformers=[\n",
        "        ('num', numeric_transformer, numeric_features),\n",
        "        ('cat', categorical_transformer, categorical_features)\n",
        "    ])\n",
        "\n",
        "# Preprocess the data #\n",
        "X_train_preprocessed = preprocessor.fit_transform(X_train)\n",
        "X_test_preprocessed = preprocessor.transform(X_test)\n",
        "\n",
        "# Now, X_train_preprocessed and X_test_preprocessed contain only numerical features #\n",
        "# You can proceed to train the RandomForestRegressor with these preprocessed datasets #\n"
      ]
    },
    {
      "cell_type": "code",
      "source": [
        "from sklearn.ensemble import RandomForestRegressor\n",
        "from sklearn.metrics import mean_absolute_error\n",
        "\n",
        "# Instantiate the RandomForestRegressor #\n",
        "rf = RandomForestRegressor(n_estimators=100, random_state=42)\n",
        "\n",
        "# Train the model #\n",
        "rf.fit(X_train_preprocessed, y_train)\n",
        "\n",
        "# Make predictions #\n",
        "y_pred_rf = rf.predict(X_test_preprocessed)\n",
        "\n",
        "# Calculate Mean Absolute Error (MAE) #\n",
        "mae_rf = mean_absolute_error(y_test, y_pred_rf)\n",
        "print(\"Mean Absolute Error (MAE) on test data:\", mae_rf)\n"
      ],
      "metadata": {
        "colab": {
          "base_uri": "https://localhost:8080/"
        },
        "id": "96pWNqAyeLG6",
        "outputId": "107a5962-202e-4f3e-d791-3170bb00df80"
      },
      "id": "96pWNqAyeLG6",
      "execution_count": 103,
      "outputs": [
        {
          "output_type": "stream",
          "name": "stdout",
          "text": [
            "Mean Absolute Error (MAE) on test data: 17586.34794520548\n"
          ]
        }
      ]
    },
    {
      "cell_type": "markdown",
      "id": "e839a02c",
      "metadata": {
        "id": "e839a02c"
      },
      "source": [
        "The new MAE should be somewhere around $19,000 now, which is a much more acceptable error for a house price!"
      ]
    }
  ],
  "metadata": {
    "colab": {
      "provenance": [],
      "include_colab_link": true
    },
    "kernelspec": {
      "display_name": "Python 3 (ipykernel)",
      "language": "python",
      "name": "python3"
    },
    "language_info": {
      "codemirror_mode": {
        "name": "ipython",
        "version": 3
      },
      "file_extension": ".py",
      "mimetype": "text/x-python",
      "name": "python",
      "nbconvert_exporter": "python",
      "pygments_lexer": "ipython3",
      "version": "3.10.6"
    }
  },
  "nbformat": 4,
  "nbformat_minor": 5
}