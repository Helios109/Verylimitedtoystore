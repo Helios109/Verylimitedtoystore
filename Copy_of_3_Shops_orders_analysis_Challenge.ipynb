{
  "cells": [
    {
      "cell_type": "markdown",
      "metadata": {
        "id": "view-in-github",
        "colab_type": "text"
      },
      "source": [
        "<a href=\"https://colab.research.google.com/github/Helios109/Verylimitedtoystore/blob/main/Copy_of_3_Shops_orders_analysis_Challenge.ipynb\" target=\"_parent\"><img src=\"https://colab.research.google.com/assets/colab-badge.svg\" alt=\"Open In Colab\"/></a>"
      ]
    },
    {
      "cell_type": "markdown",
      "metadata": {
        "id": "-JzbMZMGL2W1"
      },
      "source": [
        " ![Emil](data:image/png;base64,iVBORw0KGgoAAAANSUhEUgAAAbYAAABzCAMAAADDhdfxAAAAyVBMVEX////mDwUbGiHlAAAAAADmDQH5zszpS0npNC/+7ezvcm4ZGCAAAA4AAAn97+71qaYPDhfb29yenqDT09SzsrRfX2PZ2doVFBzwdnPnJyPwjIuMjI++vr4NCxXxgX7xhYKVlZf72tnt7e4EABD29vbk5OUzMjf4w8DLy8zw8PA8O0CpqatWVlr+9vX4ycdIR0spKC54eHtmZmntYV2Af4IiISdPT1PznpzpPTn3ubb72NdvbnH1rKrnHBTylJHuamXrSUTsYV7rVVIDzG+MAAARjUlEQVR4nO2dC1PiPBfHkQaVbeuWa1Rat0LBclEQAS+ou4/f/0O9Sdpcm3KtOvj2P7MzKw1pk19PcnJyWgqFXLlyfaXK7x8nn66P8+PvbufP0vOR8TU6/+6W/iQ9GqWjL1HJ+Lj97sb+GN18FTUk4893t/bH6Mn4MmrI3q6/u7k/RHdfaGy5uWWm9y80NoTt47vb+0N0/rXYnnKnJBP9+lpsp+XvbvDPUI7tIJVjO0jl2A5SObaDVI7tIJVjO0jl2A5SObaDVI7tIJVjO0jl2A5SObaDVI7tIJVjO0jl2A5SObaDVI7tIJVjO0jl2A5Sm2ArrcoQ3ypfL8eWkVZio7xO//335/Lx8fX5+fia6ub5+fHx8u/J2zbwcmwZKQ0bIXbxcf7n9fjs7DY9Te729uz4/fxpQ3KrsdUasabt7Bv6s6THVjLeTs6fr8ubZjWeXb//2wTcamw+cCKBWhZN+8nSYjPeXrdP1r/7a6ydJ1djq9rFSDm2ddJhKx2d7VTXy1pwObaMpMNm3Oxa28vT6pEyx5aRNNhKb3sk6r+vNLgcW0bSYbvYp8K7ixXccmwZKRXb8bks7KM8/xI/+fWIPjq7Qv+7fLzhTuf1igcdc2wZKRXblRINwQ8UKh+9Ic/lmP7x7536MWfp3HJsGWkFNrnDMbZSSS6HQL3ExfDy/E9sceXU+S3HlpGywkbIvcWvHrlO8ydzbBkpQ2yokPEc1fo7xdz2w1ZxW9MBUqNVb2bcDXp1Q3foD92wslHRemuzorghru/7VbcWbFLxEJX1lbKZYkMGF3P70HPbA1tQXxRty4NIjgXgwO+m1lMf0eCm0onBLCXo6dJvjHitzdZ47gFg2cAqDmY1qZhy7oo/nndQUQA683GLnNSnRRPh1dr9YA6AbaGKnV7D7avH6bW30P/bw8XcAhYuC3szoVeyxYa4RePki36Y3B3bcAAcs8hkQnvSSgs4D1lssyUfaAIvPlCVDyzjb3iAgq4sHRua7GyW3WjyoCmoi1+uLE2xqO0sEdWxFRdV7hx30ekIhR3Qqyrg4nNYi6DgTnijTdixlqzFGWNDYM7S6t0DW3cEYFERAufq62nTtsKBfKBlxd91GtLn/QlUPq92OqZ8Og8MC378fVvEVoVKUdNCF7aIawSSYTYbwFGbAQbSTVAA8aWMAl9pNKqYdkzW2I6MX6RevVeyI7aa56nQohb7+opGcd+Ynnyvj1k3AMlSXUA/jqwwuAdm4mwmqOqwTTVFoV0f6bDVLV07ILjXYIPjKUgWtZufhK0URzQftFsLO2Fzk6ZGe/JeWxHDYEuDYc1jPYxMR9A97U0QDViNZIdhWT0zgW1k60qa9pzWKGDT3QxRfT3B36Dnhqpdkg/n7c/BdmQ8kYq1zuRO2GowhRouOdNV1O7F34Bjbf1oyJuKxQdQ+nSpRYFp0G5m2BppRdkFcmwz/c1ATjzg1p9eCqsz/SRsR5E3Wc4KW3vAbzvkQyLZgnNiD3U1LZn5iINhj+M3TeFAjY2RBEdd7jjTTNgIw1ZVisJEUY5ttoqwNWL2pmCDyD0RqwXuZ2E7Iae/0Exuu2C7Z82F9qJVr1Vcv+GwOQKauoVASIcjcTCsdMTuFKanGT0AcN+1PaGTIPK8TQd4sr1TbE2BqOkBbzIxbUsuyrDJNwNaxUCJMR82pHKe3Vs0RgPe3qLXWIOtJCrCJn1mvJVxTLKUUPQeu7+6nbztsYUWbV2nxzzHSoP6hEVrqqlJHfbk6smBJT/ACpPPZqzqIrQGfq1Zabr3E0vsY4qtIfQmbNSb3W6l1urZEo4YW9sUTN3q9AaLcQ/awmc2bZyAzfQaIR4V+rWlxxcClVXYHpW48W/02T/5IzyJXeuS8J6jCjLBxoZIYRxBarHWaUMq1IBMwL80Fu0ATpiV1uiYS3quzXvdmzOT7LdEdyLGVuOev71gcZvAF2gwbEt+MzjgPiRXVfPnwi0yCFRspjBWDHl7h6uwbarbckJRRFnnk2yPLaSX643lSBDj5um8SWW6wmrLkwYI6QE/Pi2cB8JfyLoX4hlDgVuM7Z6NurZk8mGRc4uxVfjJgRCJEe4+Np7zT6TlIZuuydoy821SptdMsE3jqzXnyhwWjKkZAk1kL5AHPqn2+ADraVq0g6eXgK6T+e0fK0z0J/vAW8hnD4WVRldqBvrAV2qlRWGxoNQqxQSa9PLhpPCZ2G4ywcZWYC21tJs0KEF0ZQwn1GUcyesgSNdKzFPpYPursGGLm2OsGTeuunQBiVuq0GK3SIStwnwXNd5WcNmgHM9uHJt8AdQPNvHSTZtLkknqcCbYaNeYMOEwBj3RSlSxUYn2fpvVJFJCGtIxkqzx6uljb1dZt7Hh1EpcQHvOMJHrZgsFZ6EW5RG3TnRGttxWrJ3GBIhPos3c+vX6exc9X4u5Q5lgY/POOKyFkmohjR/BhW7/g42ScffTOR22OjJt6qlYLbFzksYmjHQRtgYNocHkNhJzRyNszNI1/hMbz01I/maEFReZjh+m00xLb91ZD78ZuUywsYkYgoSo2ZhF3VZAlQHvi33uNJrxesk0o16j3WQ1JRZWskoeMyPYWChmkNh84UZLsPX1URvKwxbLMmziEkWsktwl2T4ohVMTrsoZYlukx7W4gG7F3aWtjMyGLqLRREjrtMgBaoXOiEAcaxZ8VGyGirDRSUntX6y+hI0ty7UxnS6zTFfEZimzoLse28pHo9IUxVDQVx8zwxbMU4Kv67HJDiKjg9xOepqoX6g92z45If2W5Wv6lxoNwRasXIFI2ELqzHi6NWaf3ioR1J2xlYzTXURYl/DXH26zwlbcCJt23425GmTTjY6RC+w6RpUST7ofW6FptWUyGrtgpihj07pE1L4ibHRaMrU7u3RgjvYrdsVWMl7PdlG5/PL+QcAZJ2cZYUuGcTfG1qVzGL7Fu/FGKOlw6iDgnWfaGfEGKS23DbYNrC0eT/WzMDP4yMJ3xrbPuu34AWfbGR/Xt1lESTa0Nn3eDaWDh794PjdJ4Jn6APjupp5jHKPoD1ZgY5FOBZtmbgu0g6RmGYPLsgvda5Dcc7l982ZEvmiS2vbYBsxd7Fip0s9tzPXCg2HcM9GyiXor6C/m48WhlmCwYjHYnUguCZ134Ti5AHElbDUa7O8kVxXC7iD4TmyFMslKziYFiA77eN2WLn11fMCr0GSRKKDCBjvQprFL5jgu6AkHyQpr9PoibIuU1AesFtsL6kpX4muuk8dPCdQMsN1cnZYuTh7XPqN4/fsJOSSnccHb1MeltsZGA0o8RrWFmJM4dKOaaRSKjZJDuixm0yNbUmsinb6MjQW7OonJrT+no0Q0EtD7hMYdJfEVPvlzb2x35JFs/O/XyucUby+PsPuPS56T1fbZg6EfJbfGxvYr9G7HatGGwtEyHiPj4GyFHYj70wT0OxxNNVEfG7FteRc8GZP0lZgkD5okp8wmnb9jA98X2yN7GrtkXKwwuLMTZlwl4ynigl+koNkn3RQbmwLoNKSmyOFDLT9SKy3RlU4aPBxPg84UAM1S4V4FG7GSM5arhJLZkrrojeSSoansALA4P0wQLoxYyCy6UfbE9opgxMtu/DR3an/fnhh0fY59/ydumKfJ9KANsfGYPsv/6Kjmdg+oR6Kb56Mi1INTrcKXN3GKFqu8PWHDm6/UxlNR4o2bBdtTsKVhstLjmw0RNjabFr2FMtqzFBOzE13dfthwXjEa9G7u7n6f4v+epD1i+k6oXt7d3b0TH5L/AmnS3DbEJoQo2GfqfRqyHNZ5aoXCFhnpMmZTTfkAWXjHYlFQ05NvFGF/OsbmcvhAyC+ve8IWUezl8lwhayxyC3g6lxOb7M7Y3nCpB+PIeIg7GRue8arvmjI+dhkz/WOwdPLC9tjYRCZsb/RZEofTE7mFDptokpMQ6xRmOlEXcg5z6YDo7XPUUFy7BUuBNN12FnLKPDAj6fzd+ljKhoyxcR+l6EB+weGAkTeteNDYFZvxt0CyioXfyLsxaD5WQsjYjHf216VB05IL22PjPSbk6PMdRwiGdLrp3vP4v25zm32ZWwhuLy8pj5IdcQnBhz4TjOOu7A7nYtoXxRaK2T6ebYMisG3phmDxUiFxy7S9mdtsVly/J+TtWnQo2BFbyXgpkN8HNnAXXz/f4MnqCtmU3iv5iFKBCi+vx9jkkPN5Sg9ti63Lm+bd17pd8mxQn08ppt1b1sMwHI6KDIep8c24auJgKAahauJzIPJ2iit8x7F6jVnrfjGX0+hYkoeS+6gJxbFQwFTgbnYQXJybx8vzlKRdsb1dky4nk9QzcjSeriPj0/7cefnUIMPnJSr43y3+QvR9rP+2xMZjIsgArMkksjlXyHWDnpre2hmtqFDKaJXXEMKp1ISHkZioD52O5alZqwxbf6F9OEGHrS8P2ErSrMnjJztb212BGNEzglLCTsYD+pvl9qvY3khaJPllWuMSGR1av73Ex5IJrmtelSaNadCMYwotxe0TJU94SQl5P6YtjqbCKGl25ChH24G6UwniKVXdni5Tn2c+CJtKtWJ6taYwK+w8t50+Pr6/EesiUXySW4KM6un9MqlfyAwLxBeJsv/LFyXjv+jQybbrNjEtjfROhK0wTeUGzTWPCze5fyBHfJs8ucpRDdb19B0M5eV2xG2usTcIpywLgd9WYVGLWKG2+35btATD1kVSxckjaxellFQFdLwc57JiHwZZ3xE/tCU2IXFcxFbQPDJE1JmvfeaWD01KghffN1efUcT+g46b06MwxATGIPnonee4cig5VqWnv//kxxz32N0mXYyGPDzFkYTk8oqXMuHR9PYCF3xZ9zvea98nORHvXR549RNP8xWxZzlKJnGoGrLVLJAP+PxAMtxZm1uJ01mTblX3WGKhPgDCYwOmBxrtghYbfm4u2Q4IxtJAvyc2Mvjdvn884NRwXWY4Y4HnvvL5x1/ss2gfa9scW3ch3LtCvLw2kp4BJq2d6PIjVVUgNInU5JCKbeoPELWXIgqcLgWmbYQ6+opiuEF96gC743lexwbzZVhQN264wrFcL2pGryqvYEB8XUls8YHUzK24j7G5FchCOvWNFVHBZ1bweXVG0fq3twb+HHi4qyF0xPBS4DY6tgOx/4WOORYYVzfbExjRh6iV4FjADujph9MivhCILgT5r14Df13/7DZWO/Rn99P7WTWMrooZuboXGMT1mriFaKk3Vh/dLqQ9eO7S58u9lDzJWCUWGFn1PiZc8O0uLniz5lWgm7x0tzucDnrzSW8wmskzV6U6GkyKnc583lu0wg3eDUHUblYiqV/oxp+nviujW1+Oe715rzeeVptSXc21J+dJjUlPt+uieueoFbjeZE0Vel3KbRnQhqQ8cSNw+w/bUXn1W+swDeMKg3u5WvcC103fldyvdPu6rgm6zTCsVNZPaVmp3660dzkbjWzCnn5MCLr7tWJ1niTdb1sNI9oAKOnzEHbCdmAKVALsXQ3OaNNRYTutTW8trWVGy21Q8EdiC4ammmzMIgSqX5GV8p9v2FfDng2VXYiQRcPS9wL3U45tLwXuGL8BiD/Ci9VkkVA4+ZwxMse2l0IaIoEeX33VTb7r7X/SiXNs+4hH3Uy0kMSrhHZ9xMOgugBMNsqx7aOKuGNmAzAHQAxfpb1can/l2PaSr7xPRvrL0z3Nlo1ybPupkYw5M/MrbvRO0J2UY9tP/UHa/rYz/yTnHyvHtqf6A0v7VJA3+URqOba9Fcy0m2ij1dkSeyrHtr/Q6k3eRHOAtyqfLAPl2LJQ7R7vkzoOhI5nATDaZAN3L+XYslEQVmeNxmDQWLbqX/Bbjzm2LBUEnxSDVJVjO0jl2A5SObaDVI7tIJVjO0idfzG23X5jOJei96/F9u+72/tDpHsz1idi+/vd7f0hKut+ZeHzsD1/d3t/ii6/0NyMpz1+0TuXqFvN04OfRc14WX89uTYTftNS8gdPspfBfnE2Vxa6fX3a6SW7W+riKl+zZayX40/XS75iy/X/rf8BQ/rgVIRtUc4AAAAASUVORK5CYII=)"
      ]
    },
    {
      "cell_type": "markdown",
      "metadata": {
        "id": "3Io8S5AZL2W3"
      },
      "source": [
        "# Shop orders analysis"
      ]
    },
    {
      "cell_type": "markdown",
      "metadata": {
        "id": "0B9c5-9UwQLj"
      },
      "source": [
        "In this challenge, you will analyze data from [Sumup](https://www.sumup.com/fr-fr/) who wants to analyse its restaurant orders and categorize them.\n"
      ]
    },
    {
      "cell_type": "markdown",
      "metadata": {
        "id": "94I936yE-2xu"
      },
      "source": [
        "Upload [Tiller_order_data.csv](https://drive.google.com/file/d/1dVuD1hB3UnX5xhCHFMQ5R4iBdMdJMK4a/view?usp=sharing) in Colab and load it in a DataFrame `df_order`\n"
      ]
    },
    {
      "cell_type": "markdown",
      "metadata": {
        "id": "O39Wr0nYwQLp"
      },
      "source": [
        "## Exploratory Analysis\n"
      ]
    },
    {
      "cell_type": "code",
      "execution_count": 5,
      "metadata": {
        "ExecuteTime": {
          "end_time": "2024-02-13T21:49:02.217604Z",
          "start_time": "2024-02-13T21:49:01.792421Z"
        },
        "id": "CsTHaOeGxcfW",
        "colab": {
          "base_uri": "https://localhost:8080/"
        },
        "outputId": "482b7947-f72d-48d7-b7a1-3db7f63ecbd5"
      },
      "outputs": [
        {
          "output_type": "stream",
          "name": "stderr",
          "text": [
            "Downloading...\n",
            "From: https://drive.google.com/uc?id=1dVuD1hB3UnX5xhCHFMQ5R4iBdMdJMK4a\n",
            "To: /content/df_order.csv\n",
            "100%|██████████| 17.1M/17.1M [00:00<00:00, 119MB/s]\n"
          ]
        },
        {
          "output_type": "stream",
          "name": "stdout",
          "text": [
            "        id_order  id_store  id_table  id_waiter  id_customer  \\\n",
            "0       55538867      8052       NaN        NaN          NaN   \n",
            "1       56035309      8052       NaN        NaN          NaN   \n",
            "2       55550051      8052       NaN        NaN          NaN   \n",
            "3       57000119      8052       NaN    16199.0          NaN   \n",
            "4       55558817      8052       NaN        NaN          NaN   \n",
            "...          ...       ...       ...        ...          ...   \n",
            "117299  61630471      4542       NaN        NaN          NaN   \n",
            "117300  76772730      4542       NaN        NaN          NaN   \n",
            "117301  77799227      4542       NaN        NaN          NaN   \n",
            "117302  60627160      4542       NaN        NaN          NaN   \n",
            "117303  93223821      4542       NaN        NaN          NaN   \n",
            "\n",
            "                                 id_external  id_device  \\\n",
            "0       0425716B-EFF4-41CA-AEA1-839104F36833    15327.0   \n",
            "1       75E41FE2-64FF-41D3-954C-A7DE4AA887EF    15327.0   \n",
            "2       F6051A05-C9AC-4033-BF72-BB5149B8F439    15327.0   \n",
            "3       B8BEEC66-1C10-48A0-B4D5-035CB5EEFE62    15327.0   \n",
            "4       17F0533C-2FF1-4FC5-A50D-12704C7B7A4B    15327.0   \n",
            "...                                      ...        ...   \n",
            "117299  C4A0AFD8-FBD7-4740-A48B-4890F46E43E2     7411.0   \n",
            "117300  95A17B0B-22AE-43A1-8BEB-B105BF337655     7411.0   \n",
            "117301  0E5D4843-7EA3-4D9E-9490-EB9717A0220F     7411.0   \n",
            "117302  CE760A3B-4464-462A-AA2C-CCFEB88EEC39     7411.0   \n",
            "117303  F004A307-C7C9-4508-A587-49ED5CF8F156     7411.0   \n",
            "\n",
            "                    date_opened              date_closed  \\\n",
            "0       2019-01-12 13:02:17 UTC  2019-01-12 19:58:38 UTC   \n",
            "1       2019-01-16 19:39:09 UTC  2019-01-16 22:10:50 UTC   \n",
            "2       2019-01-12 14:18:46 UTC  2019-01-12 19:50:32 UTC   \n",
            "3       2019-01-24 17:49:12 UTC  2019-01-24 21:58:59 UTC   \n",
            "4       2019-01-12 15:25:06 UTC  2019-01-12 19:21:03 UTC   \n",
            "...                         ...                      ...   \n",
            "117299  2019-02-28 13:13:21 UTC  2019-02-28 13:38:45 UTC   \n",
            "117300  2019-06-11 11:08:01 UTC  2019-06-11 11:10:26 UTC   \n",
            "117301  2019-06-17 10:30:50 UTC  2019-06-17 10:32:45 UTC   \n",
            "117302  2019-02-21 11:50:58 UTC  2019-02-21 11:51:56 UTC   \n",
            "117303  2019-09-18 11:32:35 UTC  2019-09-18 11:39:38 UTC   \n",
            "\n",
            "                          dim_name dim_status  dim_type dim_comment  \\\n",
            "0                          vincent     CLOSED         1         NaN   \n",
            "1       frere et soeur avec pierre     CLOSED         1         NaN   \n",
            "2                           rachel     CLOSED         1         NaN   \n",
            "3                       Groupe PEL     CLOSED         1         NaN   \n",
            "4                     remi et date     CLOSED         1         NaN   \n",
            "...                            ...        ...       ...         ...   \n",
            "117299                         NaN     CLOSED         1         NaN   \n",
            "117300                         NaN     CLOSED         1         NaN   \n",
            "117301                         NaN     CLOSED         1         NaN   \n",
            "117302                         NaN     CLOSED         1         NaN   \n",
            "117303                         NaN     CLOSED         1         NaN   \n",
            "\n",
            "          dim_source  m_nb_customer  m_cached_payed  m_cached_price  \n",
            "0        Tiller iPAD              1            45.5            45.5  \n",
            "1        Tiller iPAD              2            49.8            49.8  \n",
            "2        Tiller iPAD              1            27.4            27.4  \n",
            "3       tiller-order              3            60.0            60.0  \n",
            "4        Tiller iPAD              2            39.9            39.9  \n",
            "...              ...            ...             ...             ...  \n",
            "117299   Tiller iPAD              1            23.0            23.0  \n",
            "117300   Tiller iPAD              1            26.0            26.0  \n",
            "117301   Tiller iPAD              1            29.0            29.0  \n",
            "117302   Tiller iPAD              1            32.0            32.0  \n",
            "117303   Tiller iPAD              1            17.0            17.0  \n",
            "\n",
            "[117304 rows x 17 columns]\n"
          ]
        },
        {
          "output_type": "stream",
          "name": "stderr",
          "text": [
            "<ipython-input-5-e2e9e62c2724>:14: DtypeWarning: Columns (12) have mixed types. Specify dtype option on import or set low_memory=False.\n",
            "  df_order = pd.read_csv(output)\n"
          ]
        }
      ],
      "source": [
        "import pandas as pd\n",
        "import gdown\n",
        "\n",
        "url = 'https://drive.google.com/uc?id=1dVuD1hB3UnX5xhCHFMQ5R4iBdMdJMK4a'\n",
        "\n",
        "output = 'df_order.csv'\n",
        "\n",
        "gdown.download(url, output, quiet=False)\n",
        "\n",
        "df_order = pd.read_csv(output)\n",
        "\n",
        "print(df_order)\n",
        "\n",
        "\n",
        "\n"
      ]
    },
    {
      "cell_type": "markdown",
      "metadata": {
        "id": "_Tz9C_Fo6W57"
      },
      "source": [
        "What does a row represent? What information can you find?"
      ]
    },
    {
      "cell_type": "markdown",
      "metadata": {
        "id": "RIwCl3uU-tco"
      },
      "source": [
        "Each row represents a single order. You could find data types, missing values, unique identifiers etc."
      ]
    },
    {
      "cell_type": "markdown",
      "metadata": {
        "id": "7PFtvyCYuy0P"
      },
      "source": [
        "What are the different statuses of an order? How many orders are there per status?   "
      ]
    },
    {
      "cell_type": "code",
      "execution_count": 7,
      "metadata": {
        "ExecuteTime": {
          "end_time": "2024-02-13T21:49:02.227584Z",
          "start_time": "2024-02-13T21:49:02.218660Z"
        },
        "id": "oaUCabqUuyVS",
        "colab": {
          "base_uri": "https://localhost:8080/"
        },
        "outputId": "df58fd7b-c503-4ac2-e945-63ae8000d132"
      },
      "outputs": [
        {
          "output_type": "stream",
          "name": "stdout",
          "text": [
            "Different statuses of orders: ['CLOSED' 'IN_PROGRESS']\n",
            "\n",
            "Number of orders per status:\n",
            "dim_status\n",
            "CLOSED         116939\n",
            "IN_PROGRESS       365\n",
            "Name: count, dtype: int64\n"
          ]
        }
      ],
      "source": [
        "order_statuses = df_order['dim_status'].unique()\n",
        "\n",
        "orders_per_status = df_order['dim_status'].value_counts()\n",
        "\n",
        "print(\"Different statuses of orders:\", order_statuses)\n",
        "print(\"\\nNumber of orders per status:\")\n",
        "print(orders_per_status)\n"
      ]
    },
    {
      "cell_type": "markdown",
      "metadata": {
        "id": "DspKznXmuDuZ"
      },
      "source": [
        "What is the proportion of orders ?  \\\n",
        "You can use the `.value_counts()` function, with the optional argument `normalize=True`"
      ]
    },
    {
      "cell_type": "code",
      "execution_count": 9,
      "metadata": {
        "ExecuteTime": {
          "end_time": "2024-02-13T21:49:02.235699Z",
          "start_time": "2024-02-13T21:49:02.229549Z"
        },
        "id": "nKRY5m8kuEFS",
        "colab": {
          "base_uri": "https://localhost:8080/"
        },
        "outputId": "7cb80126-ba82-4230-9cbb-54a7188a0271"
      },
      "outputs": [
        {
          "output_type": "stream",
          "name": "stdout",
          "text": [
            "Proportion of orders per status:\n",
            "dim_status\n",
            "CLOSED         0.996888\n",
            "IN_PROGRESS    0.003112\n",
            "Name: proportion, dtype: float64\n"
          ]
        }
      ],
      "source": [
        "proportion_orders_per_status = df_order['dim_status'].value_counts(normalize=True)\n",
        "\n",
        "print(\"Proportion of orders per status:\")\n",
        "print(proportion_orders_per_status)\n"
      ]
    },
    {
      "cell_type": "markdown",
      "metadata": {
        "id": "DRcKAeUstPq9"
      },
      "source": [
        "How many restaurants are there? What are their ids?"
      ]
    },
    {
      "cell_type": "code",
      "execution_count": 11,
      "metadata": {
        "ExecuteTime": {
          "end_time": "2024-02-13T21:49:02.239674Z",
          "start_time": "2024-02-13T21:49:02.236789Z"
        },
        "id": "L_An80n8s_T9",
        "colab": {
          "base_uri": "https://localhost:8080/"
        },
        "outputId": "6887a711-3297-4ed3-c0d2-6ba55ae73aca"
      },
      "outputs": [
        {
          "output_type": "stream",
          "name": "stdout",
          "text": [
            "Number of restaurants: 10\n",
            "Restaurant IDs: [8052 8347 8283 9084 4337  360 1796 7965 6293 4542]\n"
          ]
        }
      ],
      "source": [
        "num_restaurants = df_order['id_store'].nunique()\n",
        "\n",
        "restaurant_ids = df_order['id_store'].unique()\n",
        "\n",
        "print(\"Number of restaurants:\", num_restaurants)\n",
        "print(\"Restaurant IDs:\", restaurant_ids)\n"
      ]
    },
    {
      "cell_type": "markdown",
      "metadata": {
        "id": "K3GCSbaawQL0"
      },
      "source": [
        "## Aggregations"
      ]
    },
    {
      "cell_type": "markdown",
      "metadata": {
        "id": "z1AA_gEsGblP"
      },
      "source": [
        "Compute the total turnover per restaurant. Which restaurant has the highest turnover?\n"
      ]
    },
    {
      "cell_type": "code",
      "execution_count": 14,
      "metadata": {
        "ExecuteTime": {
          "end_time": "2024-02-13T21:49:02.245317Z",
          "start_time": "2024-02-13T21:49:02.240574Z"
        },
        "id": "YmsHXRrJHAJx",
        "colab": {
          "base_uri": "https://localhost:8080/"
        },
        "outputId": "371daf49-9753-45a5-ec2e-c2b0ec2f9a45"
      },
      "outputs": [
        {
          "output_type": "stream",
          "name": "stdout",
          "text": [
            "Total turnover per restaurant:\n",
            "id_store\n",
            "360      386934.14\n",
            "1796     321099.69\n",
            "4337     865847.30\n",
            "4542     243789.69\n",
            "6293     359718.00\n",
            "7965    1138585.95\n",
            "8052     327758.85\n",
            "8283     369822.82\n",
            "8347         23.00\n",
            "9084     479040.75\n",
            "Name: m_cached_price, dtype: float64\n",
            "\n",
            "Restaurant with the highest turnover: 7965\n",
            "Highest turnover: 1138585.95\n"
          ]
        }
      ],
      "source": [
        "total_turnover_per_restaurant = df_order.groupby('id_store')['m_cached_price'].sum()\n",
        "\n",
        "restaurant_highest_turnover = total_turnover_per_restaurant.idxmax()\n",
        "highest_turnover = total_turnover_per_restaurant.max()\n",
        "\n",
        "print(\"Total turnover per restaurant:\")\n",
        "print(total_turnover_per_restaurant)\n",
        "print(\"\\nRestaurant with the highest turnover:\", restaurant_highest_turnover)\n",
        "print(\"Highest turnover:\", highest_turnover)\n"
      ]
    },
    {
      "cell_type": "markdown",
      "metadata": {
        "id": "UVHMBTw3wQL2"
      },
      "source": [
        "Restaurant with the highest turnover: 7965\n",
        "Highest turnover: 1138585.95"
      ]
    },
    {
      "cell_type": "markdown",
      "metadata": {
        "id": "sLA7m7Rft12b"
      },
      "source": [
        "Count the number of orders per restaurant. Which restaurant has the most orders? Is it the same as the one with the highest turnover?\n"
      ]
    },
    {
      "cell_type": "code",
      "execution_count": 16,
      "metadata": {
        "ExecuteTime": {
          "end_time": "2024-02-13T21:49:02.250423Z",
          "start_time": "2024-02-13T21:49:02.246454Z"
        },
        "id": "ryZBJEV5E6jO",
        "colab": {
          "base_uri": "https://localhost:8080/"
        },
        "outputId": "08ecf3f9-6221-455e-b95e-6f5d799cd5db"
      },
      "outputs": [
        {
          "output_type": "stream",
          "name": "stdout",
          "text": [
            "Number of orders per restaurant:\n",
            "id_store\n",
            "1796    27349\n",
            "4337    20003\n",
            "4542    17641\n",
            "6293    16103\n",
            "8283    10023\n",
            "7965     9091\n",
            "9084     7804\n",
            "8052     4906\n",
            "360      4383\n",
            "8347        1\n",
            "Name: count, dtype: int64\n",
            "\n",
            "Restaurant with the most orders: 1796\n",
            "Number of orders: 27349\n"
          ]
        }
      ],
      "source": [
        "orders_per_restaurant = df_order['id_store'].value_counts()\n",
        "\n",
        "restaurant_most_orders = orders_per_restaurant.idxmax()\n",
        "most_orders = orders_per_restaurant.max()\n",
        "\n",
        "print(\"Number of orders per restaurant:\")\n",
        "print(orders_per_restaurant)\n",
        "print(\"\\nRestaurant with the most orders:\", restaurant_most_orders)\n",
        "print(\"Number of orders:\", most_orders)\n",
        "\n",
        "#Its not the same as the one with the highest turnover.\n"
      ]
    },
    {
      "cell_type": "markdown",
      "metadata": {
        "id": "MciEHryJHgZT"
      },
      "source": [
        "Calculate the average price of an order for each restaurant. Do you think you are dealing with similar categories of restaurants ?\n"
      ]
    },
    {
      "cell_type": "code",
      "execution_count": 18,
      "metadata": {
        "ExecuteTime": {
          "end_time": "2024-02-13T21:49:02.266821Z",
          "start_time": "2024-02-13T21:49:02.251437Z"
        },
        "id": "xn96gsc-wQL3",
        "colab": {
          "base_uri": "https://localhost:8080/"
        },
        "outputId": "ae61b906-db39-4247-e76e-e582800f9c7a"
      },
      "outputs": [
        {
          "output_type": "stream",
          "name": "stdout",
          "text": [
            "Average price of an order for each restaurant:\n",
            "id_store\n",
            "360      88.280662\n",
            "1796     11.740820\n",
            "4337     43.285872\n",
            "4542     13.819494\n",
            "6293     22.338570\n",
            "7965    125.243202\n",
            "8052     66.807756\n",
            "8283     36.897418\n",
            "8347     23.000000\n",
            "9084     61.384002\n",
            "Name: m_cached_price, dtype: float64\n"
          ]
        }
      ],
      "source": [
        "average_price_per_order = df_order.groupby('id_store')['m_cached_price'].mean()\n",
        "\n",
        "print(\"Average price of an order for each restaurant:\")\n",
        "print(average_price_per_order)\n",
        "\n",
        "# I don't believe we are are dealing with similar categories of restaurants price wise.\n"
      ]
    },
    {
      "cell_type": "markdown",
      "metadata": {
        "id": "6fyavm9KwQL4"
      },
      "source": [
        "## Column transformations\n"
      ]
    },
    {
      "cell_type": "markdown",
      "metadata": {
        "id": "AO8vSsMQLFvL"
      },
      "source": [
        "The problem is that an order may be placed for several people. Instead, we want to know the average price spent by a single person in the restaurant.\n",
        "\n",
        "Add a column to `df_order`,  representing the price per customer for each order.\n"
      ]
    },
    {
      "cell_type": "code",
      "execution_count": 22,
      "metadata": {
        "ExecuteTime": {
          "end_time": "2024-02-13T21:49:02.281101Z",
          "start_time": "2024-02-13T21:49:02.268665Z"
        },
        "id": "uuafguQgLBsb",
        "colab": {
          "base_uri": "https://localhost:8080/"
        },
        "outputId": "dba138b0-7a3c-42d3-ef09-47b7cd306217"
      },
      "outputs": [
        {
          "output_type": "stream",
          "name": "stdout",
          "text": [
            "        id_order  id_store  id_table  id_waiter  id_customer  \\\n",
            "0       55538867      8052       NaN        NaN          NaN   \n",
            "1       56035309      8052       NaN        NaN          NaN   \n",
            "2       55550051      8052       NaN        NaN          NaN   \n",
            "3       57000119      8052       NaN    16199.0          NaN   \n",
            "4       55558817      8052       NaN        NaN          NaN   \n",
            "...          ...       ...       ...        ...          ...   \n",
            "117299  61630471      4542       NaN        NaN          NaN   \n",
            "117300  76772730      4542       NaN        NaN          NaN   \n",
            "117301  77799227      4542       NaN        NaN          NaN   \n",
            "117302  60627160      4542       NaN        NaN          NaN   \n",
            "117303  93223821      4542       NaN        NaN          NaN   \n",
            "\n",
            "                                 id_external  id_device  \\\n",
            "0       0425716B-EFF4-41CA-AEA1-839104F36833    15327.0   \n",
            "1       75E41FE2-64FF-41D3-954C-A7DE4AA887EF    15327.0   \n",
            "2       F6051A05-C9AC-4033-BF72-BB5149B8F439    15327.0   \n",
            "3       B8BEEC66-1C10-48A0-B4D5-035CB5EEFE62    15327.0   \n",
            "4       17F0533C-2FF1-4FC5-A50D-12704C7B7A4B    15327.0   \n",
            "...                                      ...        ...   \n",
            "117299  C4A0AFD8-FBD7-4740-A48B-4890F46E43E2     7411.0   \n",
            "117300  95A17B0B-22AE-43A1-8BEB-B105BF337655     7411.0   \n",
            "117301  0E5D4843-7EA3-4D9E-9490-EB9717A0220F     7411.0   \n",
            "117302  CE760A3B-4464-462A-AA2C-CCFEB88EEC39     7411.0   \n",
            "117303  F004A307-C7C9-4508-A587-49ED5CF8F156     7411.0   \n",
            "\n",
            "                    date_opened              date_closed  \\\n",
            "0       2019-01-12 13:02:17 UTC  2019-01-12 19:58:38 UTC   \n",
            "1       2019-01-16 19:39:09 UTC  2019-01-16 22:10:50 UTC   \n",
            "2       2019-01-12 14:18:46 UTC  2019-01-12 19:50:32 UTC   \n",
            "3       2019-01-24 17:49:12 UTC  2019-01-24 21:58:59 UTC   \n",
            "4       2019-01-12 15:25:06 UTC  2019-01-12 19:21:03 UTC   \n",
            "...                         ...                      ...   \n",
            "117299  2019-02-28 13:13:21 UTC  2019-02-28 13:38:45 UTC   \n",
            "117300  2019-06-11 11:08:01 UTC  2019-06-11 11:10:26 UTC   \n",
            "117301  2019-06-17 10:30:50 UTC  2019-06-17 10:32:45 UTC   \n",
            "117302  2019-02-21 11:50:58 UTC  2019-02-21 11:51:56 UTC   \n",
            "117303  2019-09-18 11:32:35 UTC  2019-09-18 11:39:38 UTC   \n",
            "\n",
            "                          dim_name dim_status  dim_type dim_comment  \\\n",
            "0                          vincent     CLOSED         1         NaN   \n",
            "1       frere et soeur avec pierre     CLOSED         1         NaN   \n",
            "2                           rachel     CLOSED         1         NaN   \n",
            "3                       Groupe PEL     CLOSED         1         NaN   \n",
            "4                     remi et date     CLOSED         1         NaN   \n",
            "...                            ...        ...       ...         ...   \n",
            "117299                         NaN     CLOSED         1         NaN   \n",
            "117300                         NaN     CLOSED         1         NaN   \n",
            "117301                         NaN     CLOSED         1         NaN   \n",
            "117302                         NaN     CLOSED         1         NaN   \n",
            "117303                         NaN     CLOSED         1         NaN   \n",
            "\n",
            "          dim_source  m_nb_customer  m_cached_payed  m_cached_price  \\\n",
            "0        Tiller iPAD              1            45.5            45.5   \n",
            "1        Tiller iPAD              2            49.8            49.8   \n",
            "2        Tiller iPAD              1            27.4            27.4   \n",
            "3       tiller-order              3            60.0            60.0   \n",
            "4        Tiller iPAD              2            39.9            39.9   \n",
            "...              ...            ...             ...             ...   \n",
            "117299   Tiller iPAD              1            23.0            23.0   \n",
            "117300   Tiller iPAD              1            26.0            26.0   \n",
            "117301   Tiller iPAD              1            29.0            29.0   \n",
            "117302   Tiller iPAD              1            32.0            32.0   \n",
            "117303   Tiller iPAD              1            17.0            17.0   \n",
            "\n",
            "        price_per_customer  \n",
            "0                    45.50  \n",
            "1                    24.90  \n",
            "2                    27.40  \n",
            "3                    20.00  \n",
            "4                    19.95  \n",
            "...                    ...  \n",
            "117299               23.00  \n",
            "117300               26.00  \n",
            "117301               29.00  \n",
            "117302               32.00  \n",
            "117303               17.00  \n",
            "\n",
            "[117304 rows x 18 columns]\n"
          ]
        }
      ],
      "source": [
        "df_order['price_per_customer'] = df_order['m_cached_price'] / df_order['m_nb_customer']\n",
        "\n",
        "print(df_order)\n"
      ]
    },
    {
      "cell_type": "markdown",
      "metadata": {
        "id": "qelSfFgsNBmB"
      },
      "source": [
        "Using the previous column, calculate the average price spent by each person in each of the restaurants."
      ]
    },
    {
      "cell_type": "code",
      "execution_count": 26,
      "metadata": {
        "ExecuteTime": {
          "end_time": "2024-02-13T21:49:02.288889Z",
          "start_time": "2024-02-13T21:49:02.284153Z"
        },
        "id": "FDmNUDEANfKr",
        "colab": {
          "base_uri": "https://localhost:8080/"
        },
        "outputId": "63c9487b-b11c-4390-a667-acc87b1fd14f"
      },
      "outputs": [
        {
          "output_type": "stream",
          "name": "stdout",
          "text": [
            "Average price spent by each person in each restaurant:\n",
            "id_store\n",
            "360           NaN\n",
            "1796          NaN\n",
            "4337          NaN\n",
            "4542    13.821061\n",
            "6293          NaN\n",
            "7965          NaN\n",
            "8052    16.722518\n",
            "8283    36.901100\n",
            "8347    11.500000\n",
            "9084          NaN\n",
            "Name: price_per_customer, dtype: float64\n"
          ]
        }
      ],
      "source": [
        "average_price_per_person_per_restaurant = df_order.groupby('id_store')['price_per_customer'].mean()\n",
        "\n",
        "print(\"Average price spent by each person in each restaurant:\")\n",
        "print(average_price_per_person_per_restaurant)\n"
      ]
    },
    {
      "cell_type": "markdown",
      "metadata": {
        "id": "BMspTKGpPgB6"
      },
      "source": [
        "There seems to be problem with the quality of data, as we can notice the presence of `NaN`for half of our restaurant\n",
        "\n",
        "Do you have any idea why?\n"
      ]
    },
    {
      "cell_type": "markdown",
      "metadata": {
        "id": "2Me69dyfwQL9"
      },
      "source": [
        "It implies missing or incomplete data in the original DataFrame. Missing values in the 'm_nb_customer' column or missing values in the 'm_cached_price' column for example."
      ]
    },
    {
      "cell_type": "markdown",
      "metadata": {
        "id": "TojjN6NrwQL-"
      },
      "source": [
        "## Cleaning\n"
      ]
    },
    {
      "cell_type": "markdown",
      "metadata": {
        "id": "EzDU9IDswQL-"
      },
      "source": [
        "Fill the 0 values in the `m_nb_customer` column with 1, then eliminate the rows where the `m_cached_price` is 0."
      ]
    },
    {
      "cell_type": "code",
      "execution_count": 24,
      "metadata": {
        "ExecuteTime": {
          "end_time": "2024-02-13T21:51:16.666496Z",
          "start_time": "2024-02-13T21:51:16.643379Z"
        },
        "id": "0Abq1T50PQjQ",
        "scrolled": true,
        "colab": {
          "base_uri": "https://localhost:8080/"
        },
        "outputId": "d2004a23-abc9-4ba5-b8db-b742c7cc5739"
      },
      "outputs": [
        {
          "output_type": "stream",
          "name": "stdout",
          "text": [
            "        id_order  id_store  id_table  id_waiter  id_customer  \\\n",
            "0       55538867      8052       NaN        NaN          NaN   \n",
            "1       56035309      8052       NaN        NaN          NaN   \n",
            "2       55550051      8052       NaN        NaN          NaN   \n",
            "3       57000119      8052       NaN    16199.0          NaN   \n",
            "4       55558817      8052       NaN        NaN          NaN   \n",
            "...          ...       ...       ...        ...          ...   \n",
            "117299  61630471      4542       NaN        NaN          NaN   \n",
            "117300  76772730      4542       NaN        NaN          NaN   \n",
            "117301  77799227      4542       NaN        NaN          NaN   \n",
            "117302  60627160      4542       NaN        NaN          NaN   \n",
            "117303  93223821      4542       NaN        NaN          NaN   \n",
            "\n",
            "                                 id_external  id_device  \\\n",
            "0       0425716B-EFF4-41CA-AEA1-839104F36833    15327.0   \n",
            "1       75E41FE2-64FF-41D3-954C-A7DE4AA887EF    15327.0   \n",
            "2       F6051A05-C9AC-4033-BF72-BB5149B8F439    15327.0   \n",
            "3       B8BEEC66-1C10-48A0-B4D5-035CB5EEFE62    15327.0   \n",
            "4       17F0533C-2FF1-4FC5-A50D-12704C7B7A4B    15327.0   \n",
            "...                                      ...        ...   \n",
            "117299  C4A0AFD8-FBD7-4740-A48B-4890F46E43E2     7411.0   \n",
            "117300  95A17B0B-22AE-43A1-8BEB-B105BF337655     7411.0   \n",
            "117301  0E5D4843-7EA3-4D9E-9490-EB9717A0220F     7411.0   \n",
            "117302  CE760A3B-4464-462A-AA2C-CCFEB88EEC39     7411.0   \n",
            "117303  F004A307-C7C9-4508-A587-49ED5CF8F156     7411.0   \n",
            "\n",
            "                    date_opened              date_closed  \\\n",
            "0       2019-01-12 13:02:17 UTC  2019-01-12 19:58:38 UTC   \n",
            "1       2019-01-16 19:39:09 UTC  2019-01-16 22:10:50 UTC   \n",
            "2       2019-01-12 14:18:46 UTC  2019-01-12 19:50:32 UTC   \n",
            "3       2019-01-24 17:49:12 UTC  2019-01-24 21:58:59 UTC   \n",
            "4       2019-01-12 15:25:06 UTC  2019-01-12 19:21:03 UTC   \n",
            "...                         ...                      ...   \n",
            "117299  2019-02-28 13:13:21 UTC  2019-02-28 13:38:45 UTC   \n",
            "117300  2019-06-11 11:08:01 UTC  2019-06-11 11:10:26 UTC   \n",
            "117301  2019-06-17 10:30:50 UTC  2019-06-17 10:32:45 UTC   \n",
            "117302  2019-02-21 11:50:58 UTC  2019-02-21 11:51:56 UTC   \n",
            "117303  2019-09-18 11:32:35 UTC  2019-09-18 11:39:38 UTC   \n",
            "\n",
            "                          dim_name dim_status  dim_type dim_comment  \\\n",
            "0                          vincent     CLOSED         1         NaN   \n",
            "1       frere et soeur avec pierre     CLOSED         1         NaN   \n",
            "2                           rachel     CLOSED         1         NaN   \n",
            "3                       Groupe PEL     CLOSED         1         NaN   \n",
            "4                     remi et date     CLOSED         1         NaN   \n",
            "...                            ...        ...       ...         ...   \n",
            "117299                         NaN     CLOSED         1         NaN   \n",
            "117300                         NaN     CLOSED         1         NaN   \n",
            "117301                         NaN     CLOSED         1         NaN   \n",
            "117302                         NaN     CLOSED         1         NaN   \n",
            "117303                         NaN     CLOSED         1         NaN   \n",
            "\n",
            "          dim_source  m_nb_customer  m_cached_payed  m_cached_price  \\\n",
            "0        Tiller iPAD              1            45.5            45.5   \n",
            "1        Tiller iPAD              2            49.8            49.8   \n",
            "2        Tiller iPAD              1            27.4            27.4   \n",
            "3       tiller-order              3            60.0            60.0   \n",
            "4        Tiller iPAD              2            39.9            39.9   \n",
            "...              ...            ...             ...             ...   \n",
            "117299   Tiller iPAD              1            23.0            23.0   \n",
            "117300   Tiller iPAD              1            26.0            26.0   \n",
            "117301   Tiller iPAD              1            29.0            29.0   \n",
            "117302   Tiller iPAD              1            32.0            32.0   \n",
            "117303   Tiller iPAD              1            17.0            17.0   \n",
            "\n",
            "        price_per_customer  \n",
            "0                    45.50  \n",
            "1                    24.90  \n",
            "2                    27.40  \n",
            "3                    20.00  \n",
            "4                    19.95  \n",
            "...                    ...  \n",
            "117299               23.00  \n",
            "117300               26.00  \n",
            "117301               29.00  \n",
            "117302               32.00  \n",
            "117303               17.00  \n",
            "\n",
            "[117304 rows x 18 columns]\n"
          ]
        }
      ],
      "source": [
        "df_order['m_nb_customer'] = df_order['m_nb_customer'].replace(0, 1)\n",
        "\n",
        "print(df_order)\n"
      ]
    },
    {
      "cell_type": "code",
      "execution_count": 25,
      "metadata": {
        "ExecuteTime": {
          "end_time": "2024-02-13T21:51:01.175175Z",
          "start_time": "2024-02-13T21:51:01.132080Z"
        },
        "scrolled": true,
        "id": "wm5w7w9ywQL_",
        "colab": {
          "base_uri": "https://localhost:8080/"
        },
        "outputId": "c21d7680-c108-4a3f-df6c-0c1461826ae6"
      },
      "outputs": [
        {
          "output_type": "stream",
          "name": "stdout",
          "text": [
            "        id_order  id_store  id_table  id_waiter  id_customer  \\\n",
            "0       55538867      8052       NaN        NaN          NaN   \n",
            "1       56035309      8052       NaN        NaN          NaN   \n",
            "2       55550051      8052       NaN        NaN          NaN   \n",
            "3       57000119      8052       NaN    16199.0          NaN   \n",
            "4       55558817      8052       NaN        NaN          NaN   \n",
            "...          ...       ...       ...        ...          ...   \n",
            "117299  61630471      4542       NaN        NaN          NaN   \n",
            "117300  76772730      4542       NaN        NaN          NaN   \n",
            "117301  77799227      4542       NaN        NaN          NaN   \n",
            "117302  60627160      4542       NaN        NaN          NaN   \n",
            "117303  93223821      4542       NaN        NaN          NaN   \n",
            "\n",
            "                                 id_external  id_device  \\\n",
            "0       0425716B-EFF4-41CA-AEA1-839104F36833    15327.0   \n",
            "1       75E41FE2-64FF-41D3-954C-A7DE4AA887EF    15327.0   \n",
            "2       F6051A05-C9AC-4033-BF72-BB5149B8F439    15327.0   \n",
            "3       B8BEEC66-1C10-48A0-B4D5-035CB5EEFE62    15327.0   \n",
            "4       17F0533C-2FF1-4FC5-A50D-12704C7B7A4B    15327.0   \n",
            "...                                      ...        ...   \n",
            "117299  C4A0AFD8-FBD7-4740-A48B-4890F46E43E2     7411.0   \n",
            "117300  95A17B0B-22AE-43A1-8BEB-B105BF337655     7411.0   \n",
            "117301  0E5D4843-7EA3-4D9E-9490-EB9717A0220F     7411.0   \n",
            "117302  CE760A3B-4464-462A-AA2C-CCFEB88EEC39     7411.0   \n",
            "117303  F004A307-C7C9-4508-A587-49ED5CF8F156     7411.0   \n",
            "\n",
            "                    date_opened              date_closed  \\\n",
            "0       2019-01-12 13:02:17 UTC  2019-01-12 19:58:38 UTC   \n",
            "1       2019-01-16 19:39:09 UTC  2019-01-16 22:10:50 UTC   \n",
            "2       2019-01-12 14:18:46 UTC  2019-01-12 19:50:32 UTC   \n",
            "3       2019-01-24 17:49:12 UTC  2019-01-24 21:58:59 UTC   \n",
            "4       2019-01-12 15:25:06 UTC  2019-01-12 19:21:03 UTC   \n",
            "...                         ...                      ...   \n",
            "117299  2019-02-28 13:13:21 UTC  2019-02-28 13:38:45 UTC   \n",
            "117300  2019-06-11 11:08:01 UTC  2019-06-11 11:10:26 UTC   \n",
            "117301  2019-06-17 10:30:50 UTC  2019-06-17 10:32:45 UTC   \n",
            "117302  2019-02-21 11:50:58 UTC  2019-02-21 11:51:56 UTC   \n",
            "117303  2019-09-18 11:32:35 UTC  2019-09-18 11:39:38 UTC   \n",
            "\n",
            "                          dim_name dim_status  dim_type dim_comment  \\\n",
            "0                          vincent     CLOSED         1         NaN   \n",
            "1       frere et soeur avec pierre     CLOSED         1         NaN   \n",
            "2                           rachel     CLOSED         1         NaN   \n",
            "3                       Groupe PEL     CLOSED         1         NaN   \n",
            "4                     remi et date     CLOSED         1         NaN   \n",
            "...                            ...        ...       ...         ...   \n",
            "117299                         NaN     CLOSED         1         NaN   \n",
            "117300                         NaN     CLOSED         1         NaN   \n",
            "117301                         NaN     CLOSED         1         NaN   \n",
            "117302                         NaN     CLOSED         1         NaN   \n",
            "117303                         NaN     CLOSED         1         NaN   \n",
            "\n",
            "          dim_source  m_nb_customer  m_cached_payed  m_cached_price  \\\n",
            "0        Tiller iPAD              1            45.5            45.5   \n",
            "1        Tiller iPAD              2            49.8            49.8   \n",
            "2        Tiller iPAD              1            27.4            27.4   \n",
            "3       tiller-order              3            60.0            60.0   \n",
            "4        Tiller iPAD              2            39.9            39.9   \n",
            "...              ...            ...             ...             ...   \n",
            "117299   Tiller iPAD              1            23.0            23.0   \n",
            "117300   Tiller iPAD              1            26.0            26.0   \n",
            "117301   Tiller iPAD              1            29.0            29.0   \n",
            "117302   Tiller iPAD              1            32.0            32.0   \n",
            "117303   Tiller iPAD              1            17.0            17.0   \n",
            "\n",
            "        price_per_customer  \n",
            "0                    45.50  \n",
            "1                    24.90  \n",
            "2                    27.40  \n",
            "3                    20.00  \n",
            "4                    19.95  \n",
            "...                    ...  \n",
            "117299               23.00  \n",
            "117300               26.00  \n",
            "117301               29.00  \n",
            "117302               32.00  \n",
            "117303               17.00  \n",
            "\n",
            "[116605 rows x 18 columns]\n"
          ]
        }
      ],
      "source": [
        "df_order = df_order[df_order['m_cached_price'] != 0]\n",
        "\n",
        "print(df_order)\n"
      ]
    },
    {
      "cell_type": "markdown",
      "metadata": {
        "id": "qYKGt6GlRQ_m"
      },
      "source": [
        "Recalculate the price_per_customer column and the average price spent by each person in each restaurant."
      ]
    },
    {
      "cell_type": "code",
      "execution_count": 30,
      "metadata": {
        "ExecuteTime": {
          "end_time": "2024-02-13T21:51:18.710366Z",
          "start_time": "2024-02-13T21:51:18.691243Z"
        },
        "id": "oLQY0R__OhkA",
        "colab": {
          "base_uri": "https://localhost:8080/"
        },
        "outputId": "0ff1fece-79d9-4400-b218-703266cdf2dc"
      },
      "outputs": [
        {
          "output_type": "stream",
          "name": "stdout",
          "text": [
            "Average price spent by each person in each restaurant:\n",
            "id_store\n",
            "360      32.073823\n",
            "1796     11.832542\n",
            "4337     43.334787\n",
            "4542     13.821061\n",
            "6293     16.810087\n",
            "7965    102.433918\n",
            "8052     16.722518\n",
            "8283     36.901100\n",
            "8347     11.500000\n",
            "9084     30.570348\n",
            "Name: price_per_customer, dtype: float64\n"
          ]
        }
      ],
      "source": [
        "df_order['price_per_customer'] = df_order['m_cached_price'] / df_order['m_nb_customer']\n",
        "\n",
        "average_price_per_person_per_restaurant = df_order.groupby('id_store')['price_per_customer'].mean()\n",
        "\n",
        "print(\"Average price spent by each person in each restaurant:\")\n",
        "print(average_price_per_person_per_restaurant)\n"
      ]
    },
    {
      "cell_type": "markdown",
      "metadata": {
        "id": "rPpEDlRQR0dP"
      },
      "source": [
        "## Order duration analysis\n"
      ]
    },
    {
      "cell_type": "markdown",
      "metadata": {
        "id": "gtgNDxu-Sk04"
      },
      "source": [
        "Restaurant `7965` has a higher price per person than the rest.  \n",
        "Let's look at the time spent at the table to determine if it matches the characteristics of a fancy restaurant.\n",
        "\n",
        "\n"
      ]
    },
    {
      "cell_type": "markdown",
      "metadata": {
        "id": "0XiLTXG0S1zt"
      },
      "source": [
        "Convert the `date_opened` and `date_closed` columns to **datetime** format.\n"
      ]
    },
    {
      "cell_type": "code",
      "execution_count": 32,
      "metadata": {
        "ExecuteTime": {
          "end_time": "2024-02-13T21:51:20.582336Z",
          "start_time": "2024-02-13T21:51:20.555820Z"
        },
        "id": "vr_lHtn2SzXW",
        "colab": {
          "base_uri": "https://localhost:8080/"
        },
        "outputId": "56e7b697-b8f8-494e-8d43-83c0429f94b8"
      },
      "outputs": [
        {
          "output_type": "stream",
          "name": "stdout",
          "text": [
            "        id_order  id_store  id_table  id_waiter  id_customer  \\\n",
            "0       55538867      8052       NaN        NaN          NaN   \n",
            "1       56035309      8052       NaN        NaN          NaN   \n",
            "2       55550051      8052       NaN        NaN          NaN   \n",
            "3       57000119      8052       NaN    16199.0          NaN   \n",
            "4       55558817      8052       NaN        NaN          NaN   \n",
            "...          ...       ...       ...        ...          ...   \n",
            "117299  61630471      4542       NaN        NaN          NaN   \n",
            "117300  76772730      4542       NaN        NaN          NaN   \n",
            "117301  77799227      4542       NaN        NaN          NaN   \n",
            "117302  60627160      4542       NaN        NaN          NaN   \n",
            "117303  93223821      4542       NaN        NaN          NaN   \n",
            "\n",
            "                                 id_external  id_device  \\\n",
            "0       0425716B-EFF4-41CA-AEA1-839104F36833    15327.0   \n",
            "1       75E41FE2-64FF-41D3-954C-A7DE4AA887EF    15327.0   \n",
            "2       F6051A05-C9AC-4033-BF72-BB5149B8F439    15327.0   \n",
            "3       B8BEEC66-1C10-48A0-B4D5-035CB5EEFE62    15327.0   \n",
            "4       17F0533C-2FF1-4FC5-A50D-12704C7B7A4B    15327.0   \n",
            "...                                      ...        ...   \n",
            "117299  C4A0AFD8-FBD7-4740-A48B-4890F46E43E2     7411.0   \n",
            "117300  95A17B0B-22AE-43A1-8BEB-B105BF337655     7411.0   \n",
            "117301  0E5D4843-7EA3-4D9E-9490-EB9717A0220F     7411.0   \n",
            "117302  CE760A3B-4464-462A-AA2C-CCFEB88EEC39     7411.0   \n",
            "117303  F004A307-C7C9-4508-A587-49ED5CF8F156     7411.0   \n",
            "\n",
            "                     date_opened               date_closed  \\\n",
            "0      2019-01-12 13:02:17+00:00 2019-01-12 19:58:38+00:00   \n",
            "1      2019-01-16 19:39:09+00:00 2019-01-16 22:10:50+00:00   \n",
            "2      2019-01-12 14:18:46+00:00 2019-01-12 19:50:32+00:00   \n",
            "3      2019-01-24 17:49:12+00:00 2019-01-24 21:58:59+00:00   \n",
            "4      2019-01-12 15:25:06+00:00 2019-01-12 19:21:03+00:00   \n",
            "...                          ...                       ...   \n",
            "117299 2019-02-28 13:13:21+00:00 2019-02-28 13:38:45+00:00   \n",
            "117300 2019-06-11 11:08:01+00:00 2019-06-11 11:10:26+00:00   \n",
            "117301 2019-06-17 10:30:50+00:00 2019-06-17 10:32:45+00:00   \n",
            "117302 2019-02-21 11:50:58+00:00 2019-02-21 11:51:56+00:00   \n",
            "117303 2019-09-18 11:32:35+00:00 2019-09-18 11:39:38+00:00   \n",
            "\n",
            "                          dim_name dim_status  dim_type dim_comment  \\\n",
            "0                          vincent     CLOSED         1         NaN   \n",
            "1       frere et soeur avec pierre     CLOSED         1         NaN   \n",
            "2                           rachel     CLOSED         1         NaN   \n",
            "3                       Groupe PEL     CLOSED         1         NaN   \n",
            "4                     remi et date     CLOSED         1         NaN   \n",
            "...                            ...        ...       ...         ...   \n",
            "117299                         NaN     CLOSED         1         NaN   \n",
            "117300                         NaN     CLOSED         1         NaN   \n",
            "117301                         NaN     CLOSED         1         NaN   \n",
            "117302                         NaN     CLOSED         1         NaN   \n",
            "117303                         NaN     CLOSED         1         NaN   \n",
            "\n",
            "          dim_source  m_nb_customer  m_cached_payed  m_cached_price  \\\n",
            "0        Tiller iPAD              1            45.5            45.5   \n",
            "1        Tiller iPAD              2            49.8            49.8   \n",
            "2        Tiller iPAD              1            27.4            27.4   \n",
            "3       tiller-order              3            60.0            60.0   \n",
            "4        Tiller iPAD              2            39.9            39.9   \n",
            "...              ...            ...             ...             ...   \n",
            "117299   Tiller iPAD              1            23.0            23.0   \n",
            "117300   Tiller iPAD              1            26.0            26.0   \n",
            "117301   Tiller iPAD              1            29.0            29.0   \n",
            "117302   Tiller iPAD              1            32.0            32.0   \n",
            "117303   Tiller iPAD              1            17.0            17.0   \n",
            "\n",
            "        price_per_customer  \n",
            "0                    45.50  \n",
            "1                    24.90  \n",
            "2                    27.40  \n",
            "3                    20.00  \n",
            "4                    19.95  \n",
            "...                    ...  \n",
            "117299               23.00  \n",
            "117300               26.00  \n",
            "117301               29.00  \n",
            "117302               32.00  \n",
            "117303               17.00  \n",
            "\n",
            "[116605 rows x 18 columns]\n"
          ]
        }
      ],
      "source": [
        "df_order['date_opened'] = pd.to_datetime(df_order['date_opened'])\n",
        "df_order['date_closed'] = pd.to_datetime(df_order['date_closed'])\n",
        "\n",
        "print(df_order)\n"
      ]
    },
    {
      "cell_type": "markdown",
      "metadata": {
        "id": "n9ZCQJscq-xI"
      },
      "source": [
        "Run the code below to calculate the time between the opening and closing date of an order in minutes."
      ]
    },
    {
      "cell_type": "code",
      "execution_count": 33,
      "metadata": {
        "ExecuteTime": {
          "end_time": "2024-02-13T21:51:23.187230Z",
          "start_time": "2024-02-13T21:51:23.167410Z"
        },
        "id": "0CpgxYX6ezsR"
      },
      "outputs": [],
      "source": [
        "df_order[\"order_duration\"] = (df_order.date_closed - df_order.date_opened).dt.total_seconds() / 60"
      ]
    },
    {
      "cell_type": "markdown",
      "metadata": {
        "id": "J7rOdfqHUa1W"
      },
      "source": [
        "Compute the average duration spent at each table for every restaurant."
      ]
    },
    {
      "cell_type": "code",
      "execution_count": 35,
      "metadata": {
        "ExecuteTime": {
          "end_time": "2024-02-13T21:52:28.766744Z",
          "start_time": "2024-02-13T21:52:28.734137Z"
        },
        "id": "cCj4sDxyq-xJ",
        "colab": {
          "base_uri": "https://localhost:8080/"
        },
        "outputId": "10e1135c-70ca-4d8e-c742-6a9a3c640812"
      },
      "outputs": [
        {
          "output_type": "stream",
          "name": "stdout",
          "text": [
            "Average duration spent at each table for every restaurant:\n",
            "id_store  id_table\n",
            "360       3199.0       89.644592\n",
            "          3200.0      100.335584\n",
            "          3201.0       99.484146\n",
            "          3202.0       90.954392\n",
            "          3203.0       83.507494\n",
            "                         ...    \n",
            "9084      288078.0    143.523783\n",
            "          288080.0    130.499383\n",
            "          288081.0    121.558796\n",
            "          288082.0    128.523718\n",
            "          288083.0    149.903333\n",
            "Name: order_duration, Length: 97, dtype: float64\n",
            "Restaurant with the most time spent: 8052\n",
            "Total time spent: 807056.4666666667 minutes\n",
            "\n",
            "Restaurant with the least time spent: 8347\n",
            "Total time spent: 3.9 minutes\n"
          ]
        }
      ],
      "source": [
        "average_duration_per_table_per_restaurant = df_order.groupby(['id_store', 'id_table'])['order_duration'].mean()\n",
        "\n",
        "print(\"Average duration spent at each table for every restaurant:\")\n",
        "print(average_duration_per_table_per_restaurant)\n",
        "\n",
        "#And to view the most and the least time spent restaurant #\n",
        "\n",
        "total_time_spent_per_restaurant = df_order.groupby('id_store')['order_duration'].sum()\n",
        "\n",
        "restaurant_most_time_spent = total_time_spent_per_restaurant.idxmax()\n",
        "most_time_spent = total_time_spent_per_restaurant.max()\n",
        "\n",
        "restaurant_least_time_spent = total_time_spent_per_restaurant.idxmin()\n",
        "least_time_spent = total_time_spent_per_restaurant.min()\n",
        "\n",
        "print(\"Restaurant with the most time spent:\", restaurant_most_time_spent)\n",
        "print(\"Total time spent:\", most_time_spent, \"minutes\")\n",
        "\n",
        "print(\"\\nRestaurant with the least time spent:\", restaurant_least_time_spent)\n",
        "print(\"Total time spent:\", least_time_spent, \"minutes\")\n"
      ]
    },
    {
      "cell_type": "markdown",
      "metadata": {
        "id": "82pz9YvrU1Rj"
      },
      "source": [
        "Certain restaurants exhibit notably brief average order times, indicating a potential presence of fast food establishments among them.\n"
      ]
    },
    {
      "cell_type": "markdown",
      "metadata": {
        "id": "vVyGwdcmWfgA"
      },
      "source": [
        "## Joins"
      ]
    },
    {
      "cell_type": "markdown",
      "metadata": {
        "ExecuteTime": {
          "end_time": "2021-12-05T16:57:15.668667Z",
          "start_time": "2021-12-05T16:57:15.666267Z"
        },
        "id": "6kN9eSVgq-xG"
      },
      "source": [
        "Download  [Tiller_order_line.csv](https://drive.google.com/file/d/1KSDFGLu2QAAR2C5SUlM5mfhINHU-LIuJ/view?usp=sharing) and [Tiller_store_data.csv](https://drive.google.com/file/d/1W032PaySL7gouyX3bEKgndtm6qVta7Qp/view?usp=sharing) and upload them in two DataFrame `df_line` and `df_store`.\n"
      ]
    },
    {
      "cell_type": "code",
      "execution_count": 39,
      "metadata": {
        "ExecuteTime": {
          "end_time": "2024-02-13T21:54:34.986852Z",
          "start_time": "2024-02-13T21:54:34.345807Z"
        },
        "id": "-LeTQt0lq-xG",
        "colab": {
          "base_uri": "https://localhost:8080/"
        },
        "outputId": "4fd152ae-70e7-4394-c5a4-fffd9fe033a0"
      },
      "outputs": [
        {
          "output_type": "stream",
          "name": "stdout",
          "text": [
            "Requirement already satisfied: gdown in /usr/local/lib/python3.10/dist-packages (5.1.0)\n",
            "Requirement already satisfied: beautifulsoup4 in /usr/local/lib/python3.10/dist-packages (from gdown) (4.12.3)\n",
            "Requirement already satisfied: filelock in /usr/local/lib/python3.10/dist-packages (from gdown) (3.13.4)\n",
            "Requirement already satisfied: requests[socks] in /usr/local/lib/python3.10/dist-packages (from gdown) (2.31.0)\n",
            "Requirement already satisfied: tqdm in /usr/local/lib/python3.10/dist-packages (from gdown) (4.66.2)\n",
            "Requirement already satisfied: soupsieve>1.2 in /usr/local/lib/python3.10/dist-packages (from beautifulsoup4->gdown) (2.5)\n",
            "Requirement already satisfied: charset-normalizer<4,>=2 in /usr/local/lib/python3.10/dist-packages (from requests[socks]->gdown) (3.3.2)\n",
            "Requirement already satisfied: idna<4,>=2.5 in /usr/local/lib/python3.10/dist-packages (from requests[socks]->gdown) (3.7)\n",
            "Requirement already satisfied: urllib3<3,>=1.21.1 in /usr/local/lib/python3.10/dist-packages (from requests[socks]->gdown) (2.0.7)\n",
            "Requirement already satisfied: certifi>=2017.4.17 in /usr/local/lib/python3.10/dist-packages (from requests[socks]->gdown) (2024.2.2)\n",
            "Requirement already satisfied: PySocks!=1.5.7,>=1.5.6 in /usr/local/lib/python3.10/dist-packages (from requests[socks]->gdown) (1.7.1)\n",
            "/usr/local/lib/python3.10/dist-packages/gdown/__main__.py:132: FutureWarning: Option `--id` was deprecated in version 4.3.1 and will be removed in 5.0. You don't need to pass it anymore to use a file ID.\n",
            "  warnings.warn(\n",
            "Downloading...\n",
            "From: https://drive.google.com/uc?id=1KSDFGLu2QAAR2C5SUlM5mfhINHU-LIuJ\n",
            "To: /content/Tiller_order_line.csv\n",
            "100% 66.8M/66.8M [00:00<00:00, 153MB/s]\n",
            "/usr/local/lib/python3.10/dist-packages/gdown/__main__.py:132: FutureWarning: Option `--id` was deprecated in version 4.3.1 and will be removed in 5.0. You don't need to pass it anymore to use a file ID.\n",
            "  warnings.warn(\n",
            "Downloading...\n",
            "From: https://drive.google.com/uc?id=1W032PaySL7gouyX3bEKgndtm6qVta7Qp\n",
            "To: /content/Tiller_store_data.csv\n",
            "100% 22.1k/22.1k [00:00<00:00, 48.0MB/s]\n",
            "First few lines of df_line:\n",
            "   id_order_line   id_order             date_opended             date_created  \\\n",
            "0      626609716  139058632  2020-08-25 17:27:14 UTC  2020-08-25 17:27:25 UTC   \n",
            "1      403167240   94770355  2019-09-27 07:47:14 UTC  2019-09-27 07:47:18 UTC   \n",
            "2      578564178  127794604  2020-06-12 11:07:09 UTC  2020-06-12 11:07:25 UTC   \n",
            "3      329942564   77841193  2019-06-17 13:13:30 UTC  2019-06-17 13:13:43 UTC   \n",
            "4      348375251   82283609  2019-07-12 20:14:51 UTC  2019-07-12 20:15:38 UTC   \n",
            "\n",
            "   m_quantity  m_unit_price  m_unit_price_exc_vat  m_total_price_inc_vat  \\\n",
            "0         1.0         15.00             12.500000                  15.00   \n",
            "1         1.0         25.90             21.583333                  25.90   \n",
            "2         1.0          4.20              3.818182                   4.20   \n",
            "3         1.0          2.20              2.085308                   2.20   \n",
            "4         1.0         -5.16             -5.160000                  -5.16   \n",
            "\n",
            "   m_total_price_exc_vat  m_tax_percent  m_discount_amount  dim_type  \\\n",
            "0              12.500000          0.200                0.0   PRODUCT   \n",
            "1              21.583333          0.200                0.0   PRODUCT   \n",
            "2               3.818182          0.100                0.0   PRODUCT   \n",
            "3               2.085308          0.055                0.0   PRODUCT   \n",
            "4              -5.160000          0.000                0.0  DISCOUNT   \n",
            "\n",
            "           dim_category                              dim_name dim_status  \\\n",
            "0           VINS ROUGES  TWIST AGAIN 2018 VDF - YOANN ROMAGNE       DONE   \n",
            "1  LIQUIDES 50ML AUTRES                            MOMMY CAKE       DONE   \n",
            "2              Déjeuner                      FORMULE JUS 30CL       DONE   \n",
            "3              BOISSONS                 EVIAN - BADOIT - COCA       DONE   \n",
            "4               VARIOUS                              DISCOUNT       DONE   \n",
            "\n",
            "   m_nb_payed dim_feature_type dim_unit_measure dim_unit_measure_display  \n",
            "0           0              NaN             UNIT                     UNIT  \n",
            "1           0              NaN             UNIT                     UNIT  \n",
            "2           0              NaN             UNIT                     UNIT  \n",
            "3           0              NaN             UNIT                     UNIT  \n",
            "4           0              NaN              NaN                      NaN  \n",
            "\n",
            "First few lines of df_store:\n",
            "   id_store               date_created dim_zipcode dim_country dim_currency\n",
            "0      2576  2016-07-12 16:15:31+00:00       34120          FR          EUR\n",
            "1      2538  2016-07-07 16:35:44+00:00       47800          FR          EUR\n",
            "2      2468  2016-06-30 12:44:25+00:00       06470          FR          EUR\n",
            "3      2375  2016-06-21 12:52:36+00:00       76000          FR          EUR\n",
            "4      2328  2016-06-16 13:59:52+00:00       75018          FR          EUR\n"
          ]
        }
      ],
      "source": [
        "!pip install gdown\n",
        "\n",
        "!gdown --id 1KSDFGLu2QAAR2C5SUlM5mfhINHU-LIuJ\n",
        "\n",
        "!gdown --id 1W032PaySL7gouyX3bEKgndtm6qVta7Qp\n",
        "\n",
        "import pandas as pd\n",
        "\n",
        "df_line = pd.read_csv(\"Tiller_order_line.csv\")\n",
        "\n",
        "df_store = pd.read_csv(\"Tiller_store_data.csv\")\n",
        "\n",
        "print(\"First few lines of df_line:\")\n",
        "print(df_line.head())\n",
        "\n",
        "print(\"\\nFirst few lines of df_store:\")\n",
        "print(df_store.head())\n",
        "\n"
      ]
    },
    {
      "cell_type": "markdown",
      "source": [],
      "metadata": {
        "id": "tv6lJm-2IUXw"
      }
    },
    {
      "cell_type": "markdown",
      "metadata": {
        "id": "1iQwsa6hq-xG"
      },
      "source": [
        "What new information do you have access to through this data?"
      ]
    },
    {
      "cell_type": "code",
      "execution_count": 44,
      "metadata": {
        "ExecuteTime": {
          "end_time": "2024-02-13T21:54:56.444406Z",
          "start_time": "2024-02-13T21:54:56.413703Z"
        },
        "id": "BQb_6lpBq-xG",
        "colab": {
          "base_uri": "https://localhost:8080/"
        },
        "outputId": "0047fa30-b2bb-4c3f-e298-b19564bd3096"
      },
      "outputs": [
        {
          "output_type": "stream",
          "name": "stdout",
          "text": [
            "Columns of df_line:\n",
            "Index(['id_order_line', 'id_order', 'date_opended', 'date_created',\n",
            "       'm_quantity', 'm_unit_price', 'm_unit_price_exc_vat',\n",
            "       'm_total_price_inc_vat', 'm_total_price_exc_vat', 'm_tax_percent',\n",
            "       'm_discount_amount', 'dim_type', 'dim_category', 'dim_name',\n",
            "       'dim_status', 'm_nb_payed', 'dim_feature_type', 'dim_unit_measure',\n",
            "       'dim_unit_measure_display'],\n",
            "      dtype='object')\n",
            "\n",
            "Columns of df_store:\n",
            "Index(['id_store', 'date_created', 'dim_zipcode', 'dim_country',\n",
            "       'dim_currency'],\n",
            "      dtype='object')\n",
            "Unique values in df_line:\n",
            "id_order_line: [626609716 403167240 578564178 ... 312176545 379325655 422735997]\n",
            "id_order: [139058632  94770355 127794604 ...  77981164  83863294 101522035]\n",
            "date_opended: ['2020-08-25 17:27:14 UTC' '2019-09-27 07:47:14 UTC'\n",
            " '2020-06-12 11:07:09 UTC' ... '2019-09-09 10:50:22 UTC'\n",
            " '2019-05-21 11:56:46 UTC' '2019-08-28 11:20:46 UTC']\n",
            "date_created: ['2020-08-25 17:27:25 UTC' '2019-09-27 07:47:18 UTC'\n",
            " '2020-06-12 11:07:25 UTC' ... '2019-07-22 10:17:38 UTC'\n",
            " '2019-11-07 12:24:44 UTC' '2019-11-04 12:25:31 UTC']\n",
            "m_quantity: [  1.      2.      3.      5.      4.     10.      6.      9.      7.\n",
            "  27.     30.     24.      8.     16.     18.     12.     11.     20.\n",
            "  13.     39.     50.     15.     40.      0.463  35.     41.      0.504\n",
            "   0.553   0.311  60.     19.     28.     31.     90.     32.      0.626\n",
            "   0.458   0.537  29.     21.     36.     14.      0.454   0.745  17.\n",
            "  25.     33.    100.     80.     70.     23.     60.3    71.    120.\n",
            "  58.     91.     55.     45.    105.    110.     22.     75.     51.\n",
            " 150.    200.     81.   ]\n",
            "m_unit_price: [15.  25.9  4.2 ... 15.4  9.7  9.5]\n",
            "m_unit_price_exc_vat: [12.5        21.58333333  3.81818182 ... 20.83333333  9.09090909\n",
            "  9.00473934]\n",
            "m_total_price_inc_vat: [  15.    25.9    4.2 ...  130.  1250.    47.5]\n",
            "m_total_price_exc_vat: [12.5        21.58333333  3.81818182 ...  8.1042654  45.02369668\n",
            " 63.03317536]\n",
            "m_tax_percent: [0.2   0.1   0.055 0.    0.05 ]\n",
            "m_discount_amount: [0.000e+00 2.000e+01 2.000e+00 4.200e+00 2.200e+01 2.100e+01 1.500e+00\n",
            " 2.900e+01 3.000e+00 4.800e+01 1.800e+01 1.500e+01 1.700e+01 2.700e+00\n",
            " 3.500e+01 3.000e+01 1.100e+01 7.400e+00 4.450e+00 3.200e+01 7.000e+00\n",
            " 1.070e+01 2.150e+01 1.750e+01 4.000e+00 2.200e+00 9.000e+00 1.600e+01\n",
            " 8.700e+00 7.900e+00 1.000e+00 1.900e+01 8.000e+00 7.900e-01 4.500e+01\n",
            " 1.020e+01 3.800e+01 5.000e+00 7.500e+01 7.000e+01 4.900e+00 4.400e+01\n",
            " 2.600e+01 1.000e+01 5.900e+01 9.240e+00 4.500e-01 4.100e+01 2.800e+00\n",
            " 1.200e+01 6.000e+00 1.900e+00 1.050e+01 4.500e+00 3.000e-01 2.900e+00\n",
            " 3.100e+01 6.900e+00 4.600e+01 6.500e-01 3.900e+01 1.050e+00 1.070e+00\n",
            " 3.300e+01 6.300e+01 1.850e+01 2.070e+01 3.900e+00 4.300e+01 9.000e-01\n",
            " 3.500e+00 4.600e+00 4.900e-01 2.300e+01 3.400e+01 5.900e-01 8.910e+00\n",
            " 3.580e+01 2.400e+01 6.900e+01 1.300e+01 5.000e-02 1.700e+00 4.200e+01\n",
            " 5.000e-01 3.600e+01 5.800e-01 5.200e+00 2.500e+01 1.400e+01 1.100e+00\n",
            " 3.500e-01 9.400e+00 1.080e+01 1.590e+01 5.900e+00 1.000e-01 8.900e+00\n",
            " 5.400e+01 5.500e-01 2.450e+01 1.190e+01 3.700e+01 5.800e+00 8.000e+01\n",
            " 5.100e+00 2.995e+01 6.000e-01 2.750e+00 5.500e+00 1.290e+01 2.322e+01\n",
            " 9.900e+00 7.800e+00 1.390e+01 9.810e+00 3.600e+00 9.700e+00 9.700e-01\n",
            " 2.600e+00 9.500e+00 9.500e-01 8.500e-01 8.500e+00 5.400e+00 7.600e+00\n",
            " 1.800e+00 4.000e-01 1.000e-02 1.200e-01 2.500e+00 1.200e+00 6.500e+00\n",
            " 2.800e+01 7.000e-01 4.000e+01]\n",
            "dim_type: ['PRODUCT' 'DISCOUNT' 'MEAL' 'OPTION']\n",
            "dim_category: ['VINS ROUGES' 'LIQUIDES 50ML AUTRES' 'Déjeuner' 'BOISSONS' 'VARIOUS'\n",
            " 'CLEARO' 'VINS BLANCS' 'RESISTANCES' 'JUUL/VAZE' 'DIY' 'PACK'\n",
            " 'BOISSONS CHAUDES' 'LIQUIDES 50ML HV' 'PLATS' 'COURSEMEAL' 'SOFTS'\n",
            " 'VINS ORANGES ET ROSES' 'ALCOOLS' 'Jus / Shake' 'SUPPLEMENT JUS'\n",
            " 'Boissons alcoolisées' 'MIXOLOGUE' 'Petite faim / dessert'\n",
            " '10ML SEL NICO' 'Boissons  non alcoolisées' '10ML CBD' 'POP UP' 'BULLES'\n",
            " 'CIDRES' '10ML FRENCHLIQUID' '10ML HALO' 'FOOD' '10ML EMPIRE BREW'\n",
            " 'DIVERS' 'BATTERIES' 'VERRE DE VIN 12CL' 'Entrees' 'Soir'\n",
            " 'Formule dejeuner' 'BIERES' 'EPICERIE' 'SHOT DE SIROP (0,50€)'\n",
            " 'RI NOS BOISSONS' 'Vin blancs' 'Vin rouges' 'RI NOS FORMULES' 'ACCÈS JEU'\n",
            " 'Plats' 'SUPPLEMENT BOL' 'RI NOS DESSERTS' 'RI NOS LIL POKES SIGNATURE'\n",
            " 'Boissons' 'RI NOS ENTREES' 'Menus boissons' nan 'Vin'\n",
            " 'RI BIG POKE SIGNATURES' 'SERVICE LIVRAISON' 'DESSERT' 'Desserts'\n",
            " 'Petillants' 'Formules' 'Couscous Clan' 'NOS POKES' 'VAPORISATEURS'\n",
            " 'CURIEUX' 'Yemma Gine' 'ENTREES' 'BOISSONS GLACÉES' 'CAUTIONS'\n",
            " 'RECONSTRUCTIBLE' 'JEUX' 'JEU' 'Pain seul' 'Supplément' 'ACCOMPAGNEMENT'\n",
            " 'BIERES ' 'BOUTIQUE' 'BUGATTI' '10ML DICTATOR' 'SAKE' 'Entrées'\n",
            " 'BOULANGERIE' 'VINS' 'Kemia' '10ML CLOUD NINERS' 'MAMA' 'BULLES '\n",
            " 'ALCOOL' 'JUS' 'SIROPS' 'Parfums Glaces' 'panna cotta' 'Accompagnements'\n",
            " 'LAIT' 'Cuisson' 'BASE' 'TAILLE' 'FRUITS' 'Base au choix' 'Gazelle'\n",
            " 'Menus big poke signature' 'Martini' 'Marinade maison au choix'\n",
            " 'Formule kaz' 'Soft' 'Formule kem' 'Menus desserts'\n",
            " 'Menus lil poke signature' '10ML  VDLV' 'sans' 'Bière' 'Bière ?'\n",
            " 'ACCÈS JEUX' 'PLAT SEUL' 'LUNCH BOX' 'LUNCH MAXI' 'Boissons fraîches'\n",
            " 'PYREX' '10ML HV GOURMAND' '10ML HV TABAC' '10ML Sense' '10ML HV FRUITES'\n",
            " '10ML HV MENTHE' '10 ML DLICE' '10ML VAMPIRE VAPE' '10ML LIQUIDAROME'\n",
            " '10ML TJUICE' 'BOBBLE' '10ML FRENCHTOUCH' '10ML AVAP' 'TAPAS' 'DESSERTS'\n",
            " 'Boissons chaudes' 'LIVRES' 'Kazdal']\n",
            "dim_name: ['TWIST AGAIN 2018 VDF - YOANN ROMAGNE' 'MOMMY CAKE' 'FORMULE JUS 30CL'\n",
            " ... 'demi plat' 'charcuterie' 'gnochetti butter']\n",
            "dim_status: ['DONE' 'WAITING' 'IN_PROGRESS' 'WAITING_SENT']\n",
            "m_nb_payed: [ 0  1 30  4  3  2  5  6 16  7 20 10 17]\n",
            "dim_feature_type: [nan 'BOISSONS' 'FOOD' 'Solide' 'JEUX' 'ACCÈS JEUX' 'Liquide']\n",
            "dim_unit_measure: ['UNIT' nan 'KILOGRAM']\n",
            "dim_unit_measure_display: ['UNIT' nan 'KILOGRAM']\n"
          ]
        }
      ],
      "source": [
        "print(\"Columns of df_line:\")\n",
        "print(df_line.columns)\n",
        "\n",
        "print(\"\\nColumns of df_store:\")\n",
        "print(df_store.columns)\n",
        "\n",
        "print(\"Unique values in df_line:\")\n",
        "for column in df_line.columns:\n",
        "    print(f\"{column}: {df_line[column].unique()}\")"
      ]
    },
    {
      "cell_type": "markdown",
      "metadata": {
        "id": "dYEeRzsqq-xH"
      },
      "source": [
        "<details>\n",
        "    <summary> Answer 💡 </summary>\n",
        "\n",
        "- `Order line` = The different products in an order\n",
        "- `Store data` = Information about the restaurant/bar\n",
        "\n",
        "</details>\n"
      ]
    },
    {
      "cell_type": "markdown",
      "metadata": {
        "id": "OYsG4N6Lq-xH"
      },
      "source": [
        "Paris is divided into 20 districts. Each of them has a unique code 75001, 75002, ..., 75019, 75020. \\\n",
        "How many orders were placed in the `2nd district`?\n",
        "\n"
      ]
    },
    {
      "cell_type": "code",
      "source": [
        "orders_2nd_district = df_store[df_store['dim_zipcode'] == 75002]\n",
        "\n",
        "num_orders_2nd_district = len(orders_2nd_district)\n",
        "\n",
        "print(\"Number of orders placed in the 2nd district:\", num_orders_2nd_district)"
      ],
      "metadata": {
        "colab": {
          "base_uri": "https://localhost:8080/"
        },
        "id": "Zt6EUQtOPv7g",
        "outputId": "a61e386e-d497-49a3-ae6b-0c95189a7cc7"
      },
      "execution_count": 49,
      "outputs": [
        {
          "output_type": "stream",
          "name": "stdout",
          "text": [
            "Number of orders placed in the 2nd district: 0\n"
          ]
        }
      ]
    },
    {
      "cell_type": "markdown",
      "metadata": {
        "id": "ADA46_E1YZe_"
      },
      "source": [
        "Let's have a look at restaurant `4542`, which shows a very brief average ordering time.\n",
        "\n",
        "\n",
        "Retrieve the most ordered items in this restaurant by retaining only the **id_store** and **id_order** columns from `df_order`, as well as the **id_order**, **id_order_line**, and **dim_name** columns from `order_line`.\n"
      ]
    },
    {
      "cell_type": "code",
      "execution_count": 51,
      "metadata": {
        "ExecuteTime": {
          "end_time": "2024-02-13T22:03:38.614018Z",
          "start_time": "2024-02-13T22:03:38.525366Z"
        },
        "id": "ggr_eaelq-xI",
        "colab": {
          "base_uri": "https://localhost:8080/"
        },
        "outputId": "c8242ad4-870d-4dfd-e44a-f90e2051dac9"
      },
      "outputs": [
        {
          "output_type": "stream",
          "name": "stdout",
          "text": [
            "Most ordered items in restaurant 4542:\n",
            "dim_name\n",
            "Plat + Dessert + Boisson            7545\n",
            "Tapas + Plat + Boisson              4745\n",
            "Tapas + Plat + Dessert + Boisson    2978\n",
            "Plat                                 795\n",
            "Tortilla PdeT                        481\n",
            "                                    ... \n",
            "piquillos                              1\n",
            "lunch box                              1\n",
            "Lunch Box                              1\n",
            "Lunch Box Maxi                         1\n",
            "Les 2 Vaches                           1\n",
            "Name: count, Length: 93, dtype: int64\n"
          ]
        }
      ],
      "source": [
        "# Filter orders from restaurant 4542 in df_order\n",
        "restaurant_4542_orders = df_order[df_order['id_store'] == 4542]\n",
        "\n",
        "# Filter order lines from restaurant 4542 in df_line\n",
        "restaurant_4542_order_lines = df_line[df_line['id_order'].isin(restaurant_4542_orders['id_order'])]\n",
        "\n",
        "# Group by item name and count occurrences to find the most ordered items\n",
        "most_ordered_items = restaurant_4542_order_lines['dim_name'].value_counts()\n",
        "\n",
        "# Print the most ordered items\n",
        "print(\"Most ordered items in restaurant 4542:\")\n",
        "print(most_ordered_items)\n"
      ]
    }
  ],
  "metadata": {
    "colab": {
      "provenance": [],
      "include_colab_link": true
    },
    "kernelspec": {
      "display_name": "Python 3 (ipykernel)",
      "language": "python",
      "name": "python3"
    },
    "language_info": {
      "codemirror_mode": {
        "name": "ipython",
        "version": 3
      },
      "file_extension": ".py",
      "mimetype": "text/x-python",
      "name": "python",
      "nbconvert_exporter": "python",
      "pygments_lexer": "ipython3",
      "version": "3.10.6"
    },
    "toc": {
      "base_numbering": 1,
      "nav_menu": {},
      "number_sections": true,
      "sideBar": true,
      "skip_h1_title": false,
      "title_cell": "Table of Contents",
      "title_sidebar": "Contents",
      "toc_cell": false,
      "toc_position": {},
      "toc_section_display": true,
      "toc_window_display": false
    }
  },
  "nbformat": 4,
  "nbformat_minor": 0
}